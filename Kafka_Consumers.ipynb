{
 "cells": [
  {
   "cell_type": "markdown",
   "metadata": {
    "application/vnd.databricks.v1+cell": {
     "cellMetadata": {
      "byteLimit": 2048000,
      "rowLimit": 10000
     },
     "inputWidgets": {},
     "nuid": "a7e1ab74-98ad-42c3-aeb5-cd7de6bea85e",
     "showTitle": false,
     "title": ""
    }
   },
   "source": [
    "### Spark Session"
   ]
  },
  {
   "cell_type": "code",
   "execution_count": 0,
   "metadata": {
    "application/vnd.databricks.v1+cell": {
     "cellMetadata": {
      "byteLimit": 2048000,
      "rowLimit": 10000
     },
     "inputWidgets": {},
     "nuid": "30fe4a45-ca19-4798-8d42-515ba16e9ec5",
     "showTitle": false,
     "title": ""
    }
   },
   "outputs": [],
   "source": [
    "from pyspark.sql import SparkSession\n",
    "\n",
    "spark = (\n",
    "    SparkSession\n",
    "        .builder\n",
    "        .appName(\"HelloWorldStreaming\")\n",
    "        .getOrCreate()\n",
    ")"
   ]
  },
  {
   "cell_type": "markdown",
   "metadata": {
    "application/vnd.databricks.v1+cell": {
     "cellMetadata": {
      "byteLimit": 2048000,
      "rowLimit": 10000
     },
     "inputWidgets": {},
     "nuid": "a716a65d-b92c-4733-8917-797491948863",
     "showTitle": false,
     "title": ""
    }
   },
   "source": [
    "### Read Stream"
   ]
  },
  {
   "cell_type": "code",
   "execution_count": 0,
   "metadata": {
    "application/vnd.databricks.v1+cell": {
     "cellMetadata": {
      "byteLimit": 2048000,
      "rowLimit": 10000
     },
     "inputWidgets": {},
     "nuid": "74607094-39dc-42d2-aa05-8a313337cdfa",
     "showTitle": false,
     "title": ""
    }
   },
   "outputs": [
    {
     "output_type": "execute_result",
     "data": {
      "text/plain": [
       "DataFrame[key: binary, value: binary, topic: string, partition: int, offset: bigint, timestamp: timestamp, timestampType: int]"
      ]
     },
     "execution_count": 138,
     "metadata": {},
     "output_type": "execute_result"
    }
   ],
   "source": [
    "df_news = (\n",
    "    spark.readStream\n",
    "        .format(\"kafka\")\n",
    "        .option(\"kafka.bootstrap.servers\", \"localhost:9092,localhost:9095,localhost:9093\")\n",
    "        .option(\"subscribe\", \"topic_news\")\n",
    "        .load()\n",
    ")\n",
    "\n",
    "df_news"
   ]
  },
  {
   "cell_type": "markdown",
   "metadata": {
    "application/vnd.databricks.v1+cell": {
     "cellMetadata": {
      "byteLimit": 2048000,
      "rowLimit": 10000
     },
     "inputWidgets": {},
     "nuid": "58363d45-8fea-4244-b5b9-f40944f9b807",
     "showTitle": false,
     "title": ""
    }
   },
   "source": [
    "### __Console"
   ]
  },
  {
   "cell_type": "code",
   "execution_count": 0,
   "metadata": {
    "application/vnd.databricks.v1+cell": {
     "cellMetadata": {
      "byteLimit": 2048000,
      "rowLimit": 10000
     },
     "inputWidgets": {},
     "nuid": "6e726eb4-3b49-4f54-976a-f2516d279a87",
     "showTitle": false,
     "title": ""
    }
   },
   "outputs": [],
   "source": [
    "query = (\n",
    "    df_news.writeStream\n",
    "        .format(\"console\")\n",
    "        .outputMode(\"append\")\n",
    "        .start()\n",
    ")"
   ]
  },
  {
   "cell_type": "markdown",
   "metadata": {
    "application/vnd.databricks.v1+cell": {
     "cellMetadata": {
      "byteLimit": 2048000,
      "rowLimit": 10000
     },
     "inputWidgets": {},
     "nuid": "542050ad-14f6-408a-887d-8b96c3e5a228",
     "showTitle": false,
     "title": ""
    }
   },
   "source": [
    "### Schema StructType"
   ]
  },
  {
   "cell_type": "code",
   "execution_count": 0,
   "metadata": {
    "application/vnd.databricks.v1+cell": {
     "cellMetadata": {
      "byteLimit": 2048000,
      "rowLimit": 10000
     },
     "inputWidgets": {},
     "nuid": "c8c0a8a6-ac3f-4304-95c3-82278d648ceb",
     "showTitle": false,
     "title": ""
    }
   },
   "outputs": [],
   "source": [
    "from pyspark.sql.functions import from_json, col\n",
    "from pyspark.sql.types import StructType, StructField, StringType, NullType\n",
    "\n",
    "source_schema = StructType([\n",
    "    StructField(\"id\", StringType()),\n",
    "    StructField(\"name\", StringType())\n",
    "])\n",
    "    \n",
    "message_schema = StructType(\n",
    "    [\n",
    "        StructField(\"source\", source_schema),\n",
    "        StructField(\"author\", StringType()),\n",
    "        StructField(\"title\", StringType()),\n",
    "        StructField(\"description\", StringType()),\n",
    "        StructField(\"url\", StringType()),\n",
    "        StructField(\"urlToImage\", StringType()),\n",
    "        StructField(\"publishedAt\", StringType()),\n",
    "        StructField(\"content\", StringType()),\n",
    "    ]\n",
    ")\n",
    "\n",
    "df_news_data = df_news.withColumn(\"value\", from_json(col(\"value\").cast(\"STRING\"), message_schema))\n",
    "\n",
    "df_news_data = df_news_data.selectExpr(\"value.*\")\n",
    "\n",
    "df_news_data.writeStream.format(\"console\").start()\n"
   ]
  },
  {
   "cell_type": "markdown",
   "metadata": {
    "application/vnd.databricks.v1+cell": {
     "cellMetadata": {},
     "inputWidgets": {},
     "nuid": "881a28e2-532e-4982-a47d-5c8448df7712",
     "showTitle": false,
     "title": ""
    }
   },
   "source": [
    "### __Load\n"
   ]
  },
  {
   "cell_type": "code",
   "execution_count": 0,
   "metadata": {
    "application/vnd.databricks.v1+cell": {
     "cellMetadata": {
      "byteLimit": 2048000,
      "rowLimit": 10000
     },
     "inputWidgets": {},
     "nuid": "c46092bb-479d-4cbd-828b-323b689bfda5",
     "showTitle": false,
     "title": ""
    }
   },
   "outputs": [
    {
     "output_type": "execute_result",
     "data": {
      "text/plain": [
       "<pyspark.sql.streaming.query.StreamingQuery at 0x7ff63b2b3790>"
      ]
     },
     "execution_count": 141,
     "metadata": {},
     "output_type": "execute_result"
    }
   ],
   "source": [
    "df_news_data.writeStream.format(\"parquet\").option(\"checkpointLocation\", \"dbfs:/tmp/checkpoint\").option(\"path\", \"dbfs:/tmp/output/raw/\").start()"
   ]
  },
  {
   "cell_type": "markdown",
   "metadata": {
    "application/vnd.databricks.v1+cell": {
     "cellMetadata": {},
     "inputWidgets": {},
     "nuid": "01bb74ef-378a-4d58-b04c-7de03b8bed02",
     "showTitle": false,
     "title": ""
    }
   },
   "source": [
    "### __Extract"
   ]
  },
  {
   "cell_type": "code",
   "execution_count": 0,
   "metadata": {
    "application/vnd.databricks.v1+cell": {
     "cellMetadata": {
      "byteLimit": 2048000,
      "rowLimit": 10000
     },
     "inputWidgets": {},
     "nuid": "d6d418ba-c12c-4de9-9e0a-8b74b6c3900c",
     "showTitle": false,
     "title": ""
    }
   },
   "outputs": [
    {
     "output_type": "display_data",
     "data": {
      "text/html": [
       "<style scoped>\n",
       "  .table-result-container {\n",
       "    max-height: 300px;\n",
       "    overflow: auto;\n",
       "  }\n",
       "  table, th, td {\n",
       "    border: 1px solid black;\n",
       "    border-collapse: collapse;\n",
       "  }\n",
       "  th, td {\n",
       "    padding: 5px;\n",
       "  }\n",
       "  th {\n",
       "    text-align: left;\n",
       "  }\n",
       "</style><div class='table-result-container'><table class='table-result'><thead style='background-color: white'><tr><th>source</th><th>author</th><th>title</th><th>description</th><th>url</th><th>urlToImage</th><th>publishedAt</th><th>content</th></tr></thead><tbody><tr><td>List(null, Tecmundo.com.br)</td><td>Jorge Marin</td><td>Google DeepMind: nova ferramenta de IA prevê doenças genéticas</td><td>Um novo programa de inteligência artificial desenvolvido por cientistas do Google DeepMind é capaz de prever se milhões de mutações genéticas presentes em nossa sequência de DNA que são inofensivas ou propensas a causar doenças no futuro. Batizada como AlphaM…</td><td>https://www.tecmundo.com.br/ciencia/271822-google-deepmind-nova-ferramenta-ia-preve-doencas-geneticas.htm</td><td>https://tm.ibxk.com.br/2023/09/20/20120248396161.jpg</td><td>2023-09-20T15:15:00Z</td><td>Um novo programa de inteligência artificial desenvolvido por cientistas do Google DeepMind é capaz de prever se milhões de mutações genéticas presentes em nossa sequência de DNA que são inofensivas o… [+2940 chars]</td></tr><tr><td>List(null, Olhardigital.com.br)</td><td>Alessandro Di Lorenzo</td><td>Estudo descobre novas características genéticas do Alzheimer</td><td>A descoberta, segundo os pesquisadores, pode contribuir para o desenvolvimento futuro de exames de sangue para a doença de Alzheimer\n",
       "O post Estudo descobre novas características genéticas do Alzheimer apareceu primeiro em Olhar Digital.</td><td>https://olhardigital.com.br/2023/09/07/medicina-e-saude/estudo-descobre-novas-caracteristicas-geneticas-do-alzheimer/</td><td>https://img.olhardigital.com.br/wp-content/uploads/2023/05/Alzheimer.jpg</td><td>2023-09-07T10:01:00Z</td><td>Pesquisadores da Universidade de Pittsburgh, nos Estados Unidos, analisaram milhares de genomas humanos para encontrar novas variaÃ§Ãµes genÃ©ticas responsÃ¡veis por controlar os nÃ­veis de molÃ©cula… [+2542 chars]</td></tr><tr><td>List(null, Sapo.pt)</td><td>Ana Sofia Neto</td><td>Cérebro artificial ajuda a perceber as origens genéticas do autismo</td><td>Uma nova técnica científica está a revelar as origens genéticas da perturbação do espetro do autismo (ou PEA) escondidas no nosso cérebro. O cérebro é curiosamente complexo e há muito sobre ele que ainda...</td><td>https://pplware.sapo.pt/ciencia/cerebro-artificial-ajuda-a-perceber-as-origens-geneticas-do-autismo/</td><td>https://pplware.sapo.pt/wp-content/uploads/2023/09/organoide_cerebral00.jpg</td><td>2023-09-24T13:00:25Z</td><td>Uma nova técnica científica está a revelar as origens genéticas da perturbação do espetro do autismo (ou PEA) escondidas no nosso cérebro.\r\n",
       "O cérebro é curiosamente complexo e há muito sobre ele que … [+3282 chars]</td></tr><tr><td>List(null, Tecmundo.com.br)</td><td>Jorge Marin</td><td>Miniórgãos descobertos em mamíferos podem gerar respostas autoimunes</td><td>Pesquisadores do Instituto Federal Suíço de Tecnologia de Zurique descobriram recentemente um tipo de organela que havia permanecido não caracterizada até agora nas células dos mamíferos. O “miniórgão”, batizado como exclusoma, é feito de anéis de DNA chamado…</td><td>https://www.tecmundo.com.br/ciencia/272244-miniorgaos-descobertos-mamiferos-gerar-respostas-autoimunes.htm</td><td>https://tm.ibxk.com.br/2023/10/02/02154244691267.jpg</td><td>2023-10-02T20:30:04Z</td><td>Pesquisadores do Instituto Federal Suíço de Tecnologia de Zurique descobriram recentemente um tipo de organela que havia permanecido não caracterizada até agora nas células dos mamíferos. O miniórgão… [+3134 chars]</td></tr><tr><td>List(null, Olhardigital.com.br)</td><td>Vitoria Lopes Gomez</td><td>Vacinas erradicaram doenças que, antes, matavam mais que guerras</td><td>Doenças como a poliomielite e a varíola, que mataram milhões no século passado, desapareceram graças às vacinas\n",
       "O post Vacinas erradicaram doenças que, antes, matavam mais que guerras apareceu primeiro em Olhar Digital.</td><td>https://olhardigital.com.br/2023/09/08/medicina-e-saude/vacinas-erradicaram-doencas-que-antes-matavam-mais-que-guerras/</td><td>https://img.olhardigital.com.br/wp-content/uploads/2023/07/vacina-e1692890816557.jpg</td><td>2023-09-08T20:30:20Z</td><td>NÃ£o Ã© incomum ouvir falar sobre a gravidade de doenÃ§as que hoje sequer nos lembramos. Ã o caso, por exemplo, da varÃ­ola e da poliomielite. Ambas mataram milhÃµes de pessoas no sÃ©culo passado, m… [+2308 chars]</td></tr><tr><td>List(null, Olhardigital.com.br)</td><td>Alessandro Di Lorenzo</td><td>IA brasileira é capaz de prever doenças com antecedência</td><td>A IA Dara pode coletar dados e realizar uma rápida varredura em todo o histórico médico do paciente, indicando riscos de saúde\n",
       "O post IA brasileira é capaz de prever doenças com antecedência apareceu primeiro em Olhar Digital.</td><td>https://olhardigital.com.br/2023/09/29/medicina-e-saude/ia-brasileira-e-capaz-de-prever-doencas-com-antecedencia/</td><td>https://proxy.olhardigital.com.br/wp-content/uploads/2023/09/iStock-1411998514.jpg</td><td>2023-09-29T21:04:45Z</td><td>Uma inteligÃªncia artificial desenvolvida por uma empresa brasileira pode ajudar a prevenir doenÃ§as como acidente vascular cerebral (AVC), infarto e diabetes, por exemplo. A Dara foi criada pela IPM… [+1959 chars]</td></tr><tr><td>List(null, Sapo.pt)</td><td>Rui Jorge</td><td>Cientistas adaptam a Realidade Virtual para utilização em consultas remotas</td><td>Os investigadores da Universidade de Canterbury criaram um headset de realidade virtual (RV) que poderá ser utilizado pelos médicos para realizar avaliações médicas de pacientes que vivem em zonas rurais, têm doenças infeciosas ou...</td><td>https://pplware.sapo.pt/high-tech/cientistas-adaptam-a-realidade-virtual-para-utilizacao-em-consultas-remotas/</td><td>https://pplware.sapo.pt/wp-content/uploads/2023/09/rv_medicina.jpg</td><td>2023-09-20T14:00:25Z</td><td>Os investigadores da Universidade de Canterbury criaram um headset de realidade virtual (RV) que poderá ser utilizado pelos médicos para realizar avaliações médicas de pacientes que vivem em zonas ru… [+3368 chars]</td></tr><tr><td>List(null, Olhardigital.com.br)</td><td>Flavia Correia</td><td>Bichos-da-seda transgênicos criam fibras mais resistentes do que tecido à prova de bala</td><td>Usando engenharia genética, cientistas inseriram genes de aranha em bichos-da-seda para produção de tecidos mais resistentes do que Kevlar\n",
       "O post Bichos-da-seda transgênicos criam fibras mais resistentes do que tecido à prova de bala apareceu primeiro em Olha…</td><td>https://olhardigital.com.br/2023/09/26/ciencia-e-espaco/bichos-da-seda-transgenicos-criam-fibras-mais-resistentes-do-que-tecido-a-prova-de-bala/</td><td>https://proxy.olhardigital.com.br/wp-content/uploads/2023/09/bicho-da-seda.jpg</td><td>2023-09-26T19:18:52Z</td><td>Cientistas utilizaram engenharia genÃ©tica para gerar bichos-da-seda capazes de produzir fibras mais resistentes do que o Kevlar, tambÃ©m chamado de poliaramida â material usado em coletes Ã  prova… [+3623 chars]</td></tr><tr><td>List(null, Olhardigital.com.br)</td><td>Alessandro Di Lorenzo</td><td>Estudo indica onde fica o lar original da humanidade</td><td>Pesquisadores criaram uma rede de quase 27 milhões de ancestrais, desenvolvendo uma gigantesca árvore genealógica da humanidade\n",
       "O post Estudo indica onde fica o lar original da humanidade apareceu primeiro em Olhar Digital.</td><td>https://olhardigital.com.br/2023/09/14/ciencia-e-espaco/estudo-indica-onde-fica-o-lar-original-da-humanidade/</td><td>https://img.olhardigital.com.br/wp-content/uploads/2022/03/deserto.jpg</td><td>2023-09-14T20:40:37Z</td><td>A histÃ³ria da humanidade Ã© marcada pelas migraÃ§Ãµes. Por milhares de anos, nossa espÃ©cie se deslocou pela Terra em busca de Ã¡gua, alimentos e tudo o que proporciona uma vida melhor. Mas existe u… [+2407 chars]</td></tr><tr><td>List(null, Olhardigital.com.br)</td><td>Alessandro Di Lorenzo</td><td>Segundo transplante com coração de porco para humano é feito com sucesso</td><td>O coração de porco transplantado tem 10 modificações genéticas para reduzir o risco de ser recusado pelo corpo do paciente\n",
       "O post Segundo transplante com coração de porco para humano é feito com sucesso apareceu primeiro em Olhar Digital.</td><td>https://olhardigital.com.br/2023/09/22/medicina-e-saude/segundo-transplante-com-coracao-de-porco-para-humano-e-feito-com-sucesso/</td><td>https://proxy.olhardigital.com.br/wp-content/uploads/2023/09/Transplante-1.jpg</td><td>2023-09-22T19:33:57Z</td><td>Pela segunda vez na histÃ³ria, cirurgiÃµes transplantaram o coraÃ§Ã£o de um porco em um homem na tentativa de prolongar sua vida. A operaÃ§Ã£o foi um sucesso e, dois dias depois, o paciente estava fa… [+2546 chars]</td></tr><tr><td>List(null, Olhardigital.com.br)</td><td>Mateus Dias</td><td>Cientistas encontram povo na África que acreditavam ter sumido</td><td>Apesar da língua da população estar deixando de existir, suas distinções genéticas continuam presente nos descendentes\n",
       "O post Cientistas encontram povo na África que acreditavam ter sumido apareceu primeiro em Olhar Digital.</td><td>https://olhardigital.com.br/2023/09/27/ciencia-e-espaco/cientistas-encontram-povo-na-africa-que-acreditavam-ter-sumido/</td><td>https://olhardigital.com.br/wp-content/uploads/2023/09/ultimos-faantes-do-Kwadi.webp</td><td>2023-09-27T19:34:40Z</td><td>A Ãfrica Austral abriga uma regiÃ£o conhecida como berÃ§o da humanidade, local onde os primeiros hominÃ­deos surgiram. Por causa disso, Ã© possÃ­vel encontrar a maior diversidade genÃ©tica humana po… [+2079 chars]</td></tr><tr><td>List(null, [Removed])</td><td>null</td><td>[Removed]</td><td>[Removed]</td><td>https://removed.com</td><td>null</td><td>1970-01-01T00:00:00Z</td><td>[Removed]</td></tr><tr><td>List(null, Tecmundo.com.br)</td><td>Jennifer Egues</td><td>Dara, a IA capaz de prever infartos e AVCs com dados do SUS</td><td>Nova inteligência artificial, desenvolvida pela empresa IPM Sistemas, uma GovTech brasileira, pode ser utilizada no serviço público de saúde, otimizando dados e gerando sinais de alerta para doenças como acidente vascular cerebral, infarto e previsões com até…</td><td>https://www.tecmundo.com.br/ciencia/272151-dara-ia-capaz-prever-infartos-avcs-dados-sus.htm</td><td>https://tm.ibxk.com.br/2023/09/28/28172505232225.jpg</td><td>2023-09-29T13:00:00Z</td><td>Nova inteligência artificial, desenvolvida pela empresa IPM Sistemas, uma GovTech brasileira, pode ser utilizada no serviço público de saúde, otimizando dados e gerando sinais de alerta para doenças … [+2737 chars]</td></tr><tr><td>List(null, Olhardigital.com.br)</td><td>Tamires Ferreira</td><td>‘Vacina inversa’ pode ser a chave para tratar doenças autoimunes; entenda</td><td>Ação do fármaco no sistema imunológico pode apagar a memória de ataque das moléculas\n",
       "O post ‘Vacina inversa’ pode ser a chave para tratar doenças autoimunes; entenda  apareceu primeiro em Olhar Digital.</td><td>https://olhardigital.com.br/2023/09/13/medicina-e-saude/vacina-inversa-pode-ser-a-chave-para-tratar-doencas-autoimunes-entenda/</td><td>https://img.olhardigital.com.br/wp-content/uploads/2023/09/doenca-autoimune.jpg</td><td>2023-09-13T17:37:31Z</td><td>Um novo tipo de vacina desenvolvida por pesquisadores da Escola Pritzker de Engenharia Molecular (PME)Â pode ser o novo tratamento mais promissor contra doenÃ§as autoimunes. Com uma proposta de aÃ§Ã£… [+2774 chars]</td></tr><tr><td>List(null, Olhardigital.com.br)</td><td>Alessandro Di Lorenzo</td><td>Google: pesquisadores fazem descoberta histórica sobre proteínas do corpo humano</td><td>Foram catalogadas 71 milhões de mutações e um terço delas poderia causar doenças. Apenas 4 milhões já eram conhecidas pela ciência\n",
       "O post Google: pesquisadores fazem descoberta histórica sobre proteínas do corpo humano apareceu primeiro em Olhar Digital.</td><td>https://olhardigital.com.br/2023/09/19/medicina-e-saude/google-pesquisadores-fazem-descoberta-historica-sobre-proteinas-do-corpo-humano/</td><td>https://proxy.olhardigital.com.br/wp-content/uploads/2023/09/Proteina-1.jpg</td><td>2023-09-19T19:46:08Z</td><td>Pesquisadores doÂ Google DeepMind, empresa de inteligÃªncia artificial da Alphabet, catalogaram 71 milhÃµes de mutaÃ§Ãµes em proteÃ­nas do corpo humano. Ao classificÃ¡-las, eles descobriram que um te… [+3867 chars]</td></tr><tr><td>List(null, [Removed])</td><td>null</td><td>[Removed]</td><td>[Removed]</td><td>https://removed.com</td><td>null</td><td>1970-01-01T00:00:00Z</td><td>[Removed]</td></tr><tr><td>List(null, [Removed])</td><td>null</td><td>[Removed]</td><td>[Removed]</td><td>https://removed.com</td><td>null</td><td>1970-01-01T00:00:00Z</td><td>[Removed]</td></tr><tr><td>List(null, Olhardigital.com.br)</td><td>Vitoria Lopes Gomez</td><td>Estudo mostra que vape (com ou sem nicotina) paralisa células imunológicas</td><td>Pesquisadores testaram e comprovaram que vapor do vape afeta o sistema imunológico, aumentando o risco de doenças respiratórias\n",
       "O post Estudo mostra que vape (com ou sem nicotina) paralisa células imunológicas apareceu primeiro em Olhar Digital.</td><td>https://olhardigital.com.br/2023/09/11/medicina-e-saude/estudo-mostra-que-vape-com-ou-sem-nicotina-paralisa-celulas-imunologicas/</td><td>https://img.olhardigital.com.br/wp-content/uploads/2023/09/vape-1.jpg</td><td>2023-09-11T19:11:30Z</td><td>O vape (ou cigarro eletrÃ´nico) ganhou terreno, especialmente entre os jovens. As fabricantes conseguiram popularizar o produto dizendo atÃ© que seria um âsubstitutoâ menos nocivo para quem queri… [+2051 chars]</td></tr><tr><td>List(null, Olhardigital.com.br)</td><td>Vitoria Lopes Gomez</td><td>Modelo matemático pode revolucionar tratamentos cardíacos</td><td>Através do simulador, cientistas poderão entender o funcionamento das doenças cardíacas no coração e, assim, achar novas formas de tratá-las\n",
       "O post Modelo matemático pode revolucionar tratamentos cardíacos apareceu primeiro em Olhar Digital.</td><td>https://olhardigital.com.br/2023/09/19/medicina-e-saude/modelo-matematico-pode-revolucionar-tratamentos-cardiacos/</td><td>https://proxy.olhardigital.com.br/wp-content/uploads/2022/10/coracao-humano.jpg</td><td>2023-09-19T07:55:00Z</td><td>Um estudo feito por pesquisadores da ItÃ¡lia mostrou que a matemÃ¡tica pode salvar vidas â e prevenir infartos. Os cientistas criaram um modelo matemÃ¡tico computacional do coraÃ§Ã£o para simular o… [+1772 chars]</td></tr><tr><td>List(null, Olhardigital.com.br)</td><td>Vitoria Lopes Gomez</td><td>Fiocruz: Covid-19 avança no Sudeste e Centro-Oeste</td><td>Alguns estados do Norte e Nordeste também tiveram alta nos casos de Covid-19 e de outras doenças respiratórias\n",
       "O post Fiocruz: Covid-19 avança no Sudeste e Centro-Oeste apareceu primeiro em Olhar Digital.</td><td>https://olhardigital.com.br/2023/09/20/medicina-e-saude/fiocruz-covid-19-avanca-no-sudeste-e-centro-oeste/</td><td>https://proxy.olhardigital.com.br/wp-content/uploads/2023/07/virus-covid-19.jpg</td><td>2023-09-20T18:58:26Z</td><td>A FundaÃ§Ã£o Oswaldo Cruz (Fiocruz) divulgou nesta quarta-feira (20) uma atualizaÃ§Ã£o do boletim InfoGripe, com dados de 10 a 16 de setembro. O novo relatÃ³rio mostra um aumento de casos de Covid-19… [+2167 chars]</td></tr><tr><td>List(null, Olhardigital.com.br)</td><td>Alessandro Di Lorenzo</td><td>Novo remédio imita prática de atividade física e pode reduzir peso</td><td>O remédio ainda está sendo testado em ratos, mas apresenta potencial para para tratar doenças como obesidade, diabetes e perda muscular\n",
       "O post Novo remédio imita prática de atividade física e pode reduzir peso apareceu primeiro em Olhar Digital.</td><td>https://olhardigital.com.br/2023/09/26/medicina-e-saude/novo-remedio-imita-pratica-de-atividade-fisica-e-pode-reduzir-peso/</td><td>https://proxy.olhardigital.com.br/wp-content/uploads/2023/09/OBESIDADE-1.jpg</td><td>2023-09-26T19:35:21Z</td><td>JÃ¡ imaginou tomar um remÃ©dio que garante os mesmos benefÃ­cios que a atividade fÃ­sica? Talvez isso nunca seja totalmente possÃ­vel, mas testes em ratos de um novo tipo de droga tÃªm se mostrado pr… [+3292 chars]</td></tr><tr><td>List(null, Olhardigital.com.br)</td><td>Alisson Santos</td><td>Autoridades de saúde dos EUA sugerem antibiótico para combater DSTs</td><td>Segundo autoridades, o medicamento deve servir como “pílula do dia seguinte” contra as doenças\n",
       "O post Autoridades de saúde dos EUA sugerem antibiótico para combater DSTs apareceu primeiro em Olhar Digital.</td><td>https://olhardigital.com.br/2023/10/03/medicina-e-saude/autoridades-de-saude-dos-eua-sugerem-antibiotico-para-combater-dsts/</td><td>https://proxy.olhardigital.com.br/wp-content/uploads/2023/09/Novos-antibioticos-1.jpg</td><td>2023-10-03T09:40:00Z</td><td>Autoridades de saÃºde dos Estados Unidos estÃ£o planejando apoiar o uso de antibiÃ³tico barato no combate as doenÃ§as sexualmente transmissÃ­veis (DSTs). Com os registros de contaminaÃ§Ã£o subindo em… [+1637 chars]</td></tr><tr><td>List(null, Tecmundo.com.br)</td><td>Lucas Vinicius Santos</td><td>Método quântico é capaz de curar câncer cerebral por meio de spray; entenda</td><td>De acordo com um estudo publicado na revista científica Nature Nanotechnology, uma equipe de cientistas ingleses conseguiu criar um método quântico por spray para curar um tipo de câncer cerebral. O estudo conduzido por pesquisadores Universidade de Nottingha…</td><td>https://www.tecmundo.com.br/ciencia/271666-metodo-quantico-capaz-curar-cancer-cerebral-meio-spray-entenda.htm</td><td>https://tm.ibxk.com.br/2023/09/15/15085246049017.jpg</td><td>2023-09-15T13:00:00Z</td><td>De acordo com um estudo publicado na revista científica Nature Nanotechnology, uma equipe de cientistas ingleses conseguiu criar um método quântico por spray para curar um tipo de câncer cerebral. O … [+2915 chars]</td></tr><tr><td>List(null, [Removed])</td><td>null</td><td>[Removed]</td><td>[Removed]</td><td>https://removed.com</td><td>null</td><td>1970-01-01T00:00:00Z</td><td>[Removed]</td></tr><tr><td>List(null, [Removed])</td><td>null</td><td>[Removed]</td><td>[Removed]</td><td>https://removed.com</td><td>null</td><td>1970-01-01T00:00:00Z</td><td>[Removed]</td></tr><tr><td>List(null, Observador.pt)</td><td>Ricardo Zorron</td><td>Tratar a obesidade com endoscopia, sem incisões? Sim, já é possível</td><td>Nos últimos cinco anos tem existido uma verdadeira revolução nas terapias endoscópicas que possibilitam um maior acesso a tratamentos para a obesidade, uma alternativa menos invasiva e sem incisões.</td><td>https://observador.pt/opiniao/tratar-a-obesidade-com-endoscopia-sem-incisoes-sim-ja-e-possivel/</td><td>https://wm.observador.pt/wm-op/wide-circle/https%3A%2F%2Fbordalo.observador.pt%2Fv2%2Frs%3Afill%3A900%2Fc%3A467%3A467%3Anowe%3A9%3A3%2Fq%3A86%2Fplain%2Fhttps%3A%2F%2Fs3.observador.pt%2Fwp-content%2Fuploads%2F2023%2F09%2F15111743%2Fwhatsapp-image-2023-09-12-at-164340.jpeg</td><td>2023-09-17T23:03:43Z</td><td>Através de uma abordagem minimamente invasiva, as técnicas endoscópicas desempenham um papel cada vez mais relevante no tratamento da obesidade, ajudando as pessoas a perder peso e a controlar doença… [+3854 chars]</td></tr><tr><td>List(null, [Removed])</td><td>null</td><td>[Removed]</td><td>[Removed]</td><td>https://removed.com</td><td>null</td><td>1970-01-01T00:00:00Z</td><td>[Removed]</td></tr><tr><td>List(null, Sapo.pt)</td><td>Marisa Pinto</td><td>Cão-robot com Raspberry Pi ensina espanhol a crianças surdas</td><td>É incrível a quantidade de tecnologia que nos dias que correm ajudam significativamente em áreas como a saúde, terapias, reabilitação, aprendizagem, entre outras. Nesse sentido, vamos hoje conhecer o Robins, um cão-robot com raspberry...</td><td>https://pplware.sapo.pt/gadgets/cao-robot-com-raspberry-pi-ensina-espanhol-a-criancas-surdas/</td><td>https://pplware.sapo.pt/wp-content/uploads/2023/09/cao-robot_0.jpg</td><td>2023-09-05T13:00:03Z</td><td>É incrível a quantidade de tecnologia que nos dias que correm ajudam significativamente em áreas como a saúde, terapias, reabilitação, aprendizagem, entre outras. Nesse sentido, vamos hoje conhecer o… [+1876 chars]</td></tr><tr><td>List(null, Www.tsf.pt)</td><td>Lusa</td><td>Morreu Ian Wilmut, \"pai\" da ovelha Dolly</td><td>O trabalho do especialista em embriologia foi considerado fundamental para a investigação que visa tratar doenças genéticas e degenerativas ajudando o corpo a reparar tecidos danificados.</td><td>https://www.tsf.pt/mundo/morreu-ian-wilmut-pai-da-ovelha-dolly-17006400.html</td><td>https://static.globalnoticias.pt/tsf/image.jpg?brand=TSF&type=generate&guid=d460562f-c697-4222-b4fd-8dc02af92e59&w=800&h=420&watermark=true&t=20230911191400</td><td>2023-09-11T18:14:00Z</td><td>O cientista afastou-se do meio académico em 2012 e em 2018 tornou público que tinha a doença de Parkinson\r\n",
       "© Naokazu Oinuma/AP (arquivo)\r\n",
       "O biólogo britânicoIan Wilmut, \"pai\" da ovelha Dolly, o prime… [+1949 chars]</td></tr><tr><td>List(null, Observador.pt)</td><td>Maria Raimundo</td><td>Boa nutrição é bom negócio</td><td>A personalização está a tornar-se fundamental na prevenção e gestão de doenças. Isto torna a nutrição personalizada e a medicina de precisão componentes essenciais na prevenção e gestão de doenças.</td><td>https://observador.pt/opiniao/boa-nutricao-e-bom-negocio/</td><td>https://wm.observador.pt/wm-op/wide-circle/https%3A%2F%2Fbordalo.observador.pt%2Fv2%2Frs%3Afill%3A900%2Fc%3A467%3A467%3Anowe%3A0%3A0%2Fq%3A86%2Fplain%2Fhttps%3A%2F%2Fs3.observador.pt%2Fwp-content%2Fuploads%2F2020%2F07%2F27203316%2Fmr_obs_467x467_acf_cropped.jpg</td><td>2023-09-11T23:09:08Z</td><td>A má nutrição está a desafiar quase todos os aspectos da nossa sociedade, contribuindo para problemas de saúde, desigualdades na saúde, no acesso à mesma, e nas despesas evitáveis com cuidados de saú… [+9116 chars]</td></tr><tr><td>List(null, Observador.pt)</td><td>Inês Capucho</td><td>DeepMind, da Google, desenvolve programa com Inteligência Artificial que prevê se mutações de ADN podem causar doenças</td><td>As previsões do programa AlphaMissense, desenvolvido pela DeepMind, sobre as chamadas mutações \"missense\" podem ajudar a acelerar a investigação e o diagnóstico de doenças raras.</td><td>https://observador.pt/2023/09/20/deepmind-da-google-desenvolve-programa-com-inteligencia-artificial-que-preve-se-mutacoes-de-adn-podem-causar-doencas/</td><td>https://wm.observador.pt/wm/obs/l/https%3A%2F%2Fbordalo.observador.pt%2Fv2%2Frs%3Afill%3A770%3A403%2Fc%3A3504%3A1973%3Anowe%3A0%3A532%2Fq%3A85%2Fplain%2Fhttps%3A%2F%2Fs3.observador.pt%2Fwp-content%2Fuploads%2F2022%2F02%2F24081421%2FGettyImages-90739363.jpg</td><td>2023-09-20T17:45:28Z</td><td>A DeepMind, detida pela Google, utilizou a Inteligência Artificial para identificar mutações de ADN que podem causar doenças. É através do programa AlphaMissense, desenvolvido por cientistas, que a e… [+1752 chars]</td></tr><tr><td>List(null, Abril.com.br)</td><td>Diogo Sponchiato</td><td>Nobel vai para descobertas que resultaram nas vacinas de RNA para Covid-19</td><td>Láurea em Medicina é concedida a dois pesquisadores pelos trabalhos que culminaram na nova geração de vacinas que ajudou a deter a pandemia</td><td>https://veja.abril.com.br/saude/nobel-de-medicina-2023-vacina-covid</td><td>https://veja.abril.com.br/wp-content/uploads/2023/10/490_envelhecer-vacina-gripe.png?w=680&h=453&crop=1</td><td>2023-10-02T09:59:49Z</td><td>O Prêmio Nobel de Fisiologia ou Medicina de 2023 reconhece dois pesquisadores por suas descobertas fundamentais que permitiram criar as primeiras vacinas de RNA da história, as mesmas que ajudaram a … [+2446 chars]</td></tr><tr><td>List(null, Abril.com.br)</td><td>Diogo Sponchiato</td><td>Do que falamos quando falamos em demência</td><td>Quadro que solapa a memória e outras habilidades cognitivas tem diversas causas, mas o Alzheimer é a principal delas</td><td>https://veja.abril.com.br/coluna/letra-de-medico/do-que-falamos-quando-falamos-em-demencia</td><td>https://veja.abril.com.br/wp-content/uploads/2023/09/envelhecer-cerebro.png?w=680&h=449&crop=1</td><td>2023-09-21T10:12:08Z</td><td>Demência é um diagnóstico clínico que indica a redução progressiva das capacidades cerebrais, levando à perda de autonomia e da qualidade de vida. Dentre múltiplas causas, a doença de Alzheimer é a m… [+3622 chars]</td></tr><tr><td>List(null, [Removed])</td><td>null</td><td>[Removed]</td><td>[Removed]</td><td>https://removed.com</td><td>null</td><td>1970-01-01T00:00:00Z</td><td>[Removed]</td></tr><tr><td>List(null, Abril.com.br)</td><td>Simone Blanes</td><td>MSD inicia última fase de estudo para comprimido que reduz colesterol ruim</td><td>Chamado de MK-0616, o remédio experimental inibe a ação de PCSK9. Se aprovado, será o primeiro comprimido oral dessa categoria</td><td>https://veja.abril.com.br/saude/msd-inicia-ultima-fase-de-estudo-para-comprimido-que-reduz-colesterol-ruim</td><td>https://veja.abril.com.br/wp-content/uploads/2016/05/estatina-remedio-colesterol-20121108-original.jpeg?quality=90&strip=info&w=620&h=349&crop=1</td><td>2023-09-04T18:03:54Z</td><td>A MSD iniciou um programa clínico de Fase 3 para um inibidor oral de PCSK9, avaliado para o tratamento de hipercolesterolemia, ou seja, a redução do colesterol da lipoproteína de baixa densidade (LDL… [+2295 chars]</td></tr><tr><td>List(null, Olhardigital.com.br)</td><td>Alessandro Di Lorenzo</td><td>Descoberta de pesquisadores da USP pode ajudar no combate ao câncer</td><td>Pesquisadores identificaram o mecanismo envolvido na replicação e reparo de DNA, o que pode ajudar no tratamento contra o câncer\n",
       "O post Descoberta de pesquisadores da USP pode ajudar no combate ao câncer apareceu primeiro em Olhar Digital.</td><td>https://olhardigital.com.br/2023/09/21/medicina-e-saude/descoberta-de-pesquisadores-da-usp-pode-ajudar-no-combate-ao-cancer/</td><td>https://proxy.olhardigital.com.br/wp-content/uploads/2023/05/Destaque-tratamento-cancer.jpg</td><td>2023-09-21T17:55:31Z</td><td>Uma descoberta de pesquisadores do Instituto de QuÃ­mica da USP e de duas universidades da Inglaterra pode auxiliar no combate a diferentes tipos de cÃ¢ncer. Os cientistas identificaram o mecanismo e… [+4889 chars]</td></tr><tr><td>List(null, Abril.com.br)</td><td>Paula Felix</td><td>Novo estudo com terapia inovadora contra câncer é autorizado pela Anvisa</td><td>Ensaio com células geneticamente modificadas, as CAR-T, será conduzido pela Fundação Hemocentro de Ribeirão Preto e Instituto Butantan</td><td>https://veja.abril.com.br/saude/novo-estudo-com-terapia-inovadora-contra-cancer-e-autorizado-pela-anvisa</td><td>https://veja.abril.com.br/wp-content/uploads/2017/11/cancer-car-t-terapia-17.jpg?quality=90&strip=info&w=680&h=453&crop=1</td><td>2023-09-26T23:12:38Z</td><td>A Agência Nacional de Vigilância Sanitária (Anvisa) autorizou nesta terça-feira, 26, um novo ensaio clínico nacional com CAR-T, terapia inovadora com células geneticamente modificadas que agem contra… [+2746 chars]</td></tr><tr><td>List(null, Terra.com.br)</td><td>Deutsche Welle</td><td>Por que você deve a sua vida a uns poucos humanos primitvos?</td><td>Análises genéticas apontam que quase todos os nossos ancestrais morreram em uma catástrofe ...</td><td>https://www.terra.com.br/noticias/por-que-voce-deve-a-sua-vida-a-uns-poucos-humanos-primitvos,4f56bf2b1e4ab45dbafda310e9294f1coffppy18.html</td><td>https://p2.trrsf.com/image/fget/cf/1200/630/middle/images.terra.com/2023/09/05/1696209846-58045134354.jpg</td><td>2023-09-05T18:08:14Z</td><td>Análises genéticas apontam que quase todos os nossos ancestrais morreram em uma catástrofe natural 900 mil anos atrás. Apenas 1.280 indivíduos teriam sobrevivido. Uma parte deles está em você.Imagine… [+4310 chars]</td></tr><tr><td>List(null, Googlediscovery.com)</td><td>Renê Fraga</td><td>Mark Zuckerberg anuncia IA generativa para curar todas as doenças</td><td>A Chan Zuckerberg Initiative (CZI), organização filantrópica fundada por Priscilla Chan e Mark Zuckerberg, anunciou um projeto inovador de inteligência</td><td>https://googlediscovery.com/2023/09/20/mark-zuckerberg-anuncia-ia-generativa-para-curar-todas-as-doencas/</td><td>https://cdn.googlediscovery.com/wp-content/uploads/chan-zuckerberg.jpg</td><td>2023-09-20T16:59:48Z</td><td>A Chan Zuckerberg Initiative (CZI), organização filantrópica fundada por Priscilla Chan e Mark Zuckerberg, anunciou um projeto inovador de inteligência artificial generativa. \r\n",
       "A iniciativa consiste … [+1695 chars]</td></tr><tr><td>List(null, Abril.com.br)</td><td>diego.valencia</td><td>Subir escadas pode reduzir o risco de doenças cardíacas em 20%, diz estudo</td><td>Pesquisadores analisaram repositório de informações sobre saúde e estilo de vida com dados de mais de 458 mil adultos no Reino Unido</td><td>https://veja.abril.com.br/saude/subir-escadas-pode-reduzir-o-risco-de-doencas-cardiacas-em-20-diz-estudo</td><td>https://veja.abril.com.br/wp-content/uploads/2017/04/esporte-corrida-escada-20150213-018.jpg?quality=90&strip=info&w=680&h=453&crop=1</td><td>2023-10-03T17:00:59Z</td><td>Odeia quando o elevador quebra? De fato, é um incômodo, mas subir lances de escada pode salvar sua vida, de acordo com um novo estudo da Universidade de Tulane, em Louisiana, nos Estados Unidos.\r\n",
       "Pes… [+1324 chars]</td></tr><tr><td>List(null, [Removed])</td><td>null</td><td>[Removed]</td><td>[Removed]</td><td>https://removed.com</td><td>null</td><td>1970-01-01T00:00:00Z</td><td>[Removed]</td></tr><tr><td>List(null, [Removed])</td><td>null</td><td>[Removed]</td><td>[Removed]</td><td>https://removed.com</td><td>null</td><td>1970-01-01T00:00:00Z</td><td>[Removed]</td></tr><tr><td>List(null, Abril.com.br)</td><td>Diogo Sponchiato</td><td>‘A saúde climática e a humana andam de mãos dadas’</td><td>Em entrevista exclusiva, CEO global da AstraZeneca expõe os desafios da sustentabilidade do sistema de saúde e por onde caminha o futuro da medicina</td><td>https://veja.abril.com.br/saude/a-saude-climatica-e-a-humana-andam-de-maos-dadas</td><td>https://veja.abril.com.br/wp-content/uploads/2023/09/AZ3087-BoD-Pascal-Soriot-2022.jpg?quality=90&strip=info&w=680&h=453&crop=1</td><td>2023-09-19T11:16:22Z</td><td>Não dá para falar sobre a sustentabilidade dos sistemas de saúde sem falar de outra sustentabilidade, a ambiental – e vice-versa. É o que defende o francês Pascal Soriot, CEO global da biofarmacêutic… [+14790 chars]</td></tr><tr><td>List(null, Abril.com.br)</td><td>Da Redação</td><td>Morre cientista que liderou criação de Dolly, o primeiro animal clonado</td><td>Feito gerou manchetes e debates éticos acalorados em 1996</td><td>https://veja.abril.com.br/mundo/morre-cientista-que-liderou-criacao-de-dolly-o-primeiro-animal-clonado</td><td>https://veja.abril.com.br/wp-content/uploads/2023/09/WhatsApp-Image-2023-09-11-at-15.46.58.jpeg?quality=90&strip=info&w=680&h=453&crop=1</td><td>2023-09-11T19:03:48Z</td><td>O cientista britânico Ian Wilmut, que liderou as pesquisas que resultaram na criação do primeiro animal clonado no mundo, a ovelha Dolly, morreu aos 79 anos no último domingo, 10. A morte foi anuncia… [+1984 chars]</td></tr><tr><td>List(null, Olhardigital.com.br)</td><td>Rodrigo Mozelli</td><td>Anvisa autoriza ensaio clínico com CAR-T Cell no Brasil para combater câncer</td><td>Estudo tem como objetivo avaliar a segurança e eficácia do tratamento em pacientes com leucemia linfoide aguda B e linfoma não-Hodgkin B\n",
       "O post Anvisa autoriza ensaio clínico com CAR-T Cell no Brasil para combater câncer apareceu primeiro em Olhar Digital.</td><td>https://olhardigital.com.br/2023/09/26/medicina-e-saude/anvisa-autoriza-ensaio-clinico-com-car-t-cell-no-brasil-para-combater-cancer/</td><td>https://proxy.olhardigital.com.br/wp-content/uploads/2023/09/cancer-2.jpg</td><td>2023-09-26T22:00:05Z</td><td>A FundaÃ§Ã£o Hemocentro de RibeirÃ£o Preto (FUNDHERP), em parceria com o Instituto Butantan, recebeu autorizaÃ§Ã£o da Anvisa para realizar ensaio clÃ­nico no Brasil com a tÃ©cnica CAR-T Cell, que uti… [+2904 chars]</td></tr><tr><td>List(null, [Removed])</td><td>null</td><td>[Removed]</td><td>[Removed]</td><td>https://removed.com</td><td>null</td><td>1970-01-01T00:00:00Z</td><td>[Removed]</td></tr><tr><td>List(null, B9.com.br)</td><td>Carlos Merigo</td><td>Johnson & Johnson atualiza identidade visual e abandona seu reconhecido logotipo caligráfico</td><td>A gigante da saúde, Johnson & Johnson, apresenta uma nova identidade visual. Abandona o reconhecido logotipo em caligrafia para simplificar a marca, buscando refletir sua evolução e foco em inovação. A cor vermelha também foi alterada. Por que isso é importan…</td><td>https://www.b9.com.br/164509/johnson-johnson-atualiza-identidade-visual-e-abandona-seu-reconhecido-logotipo-caligrafico/</td><td>https://assets.b9.com.br/wp-content/uploads/2023/09/JJ_Lobby01_HighRes-1280x677.jpg</td><td>2023-09-14T17:50:25Z</td><td>A gigante da saúde, Johnson &amp; Johnson, apresenta uma nova identidade visual. Abandona o reconhecido logotipo em caligrafia para simplificar a marca, buscando refletir sua evolução e foco em inova… [+1178 chars]</td></tr><tr><td>List(null, Melhoresdestinos.com.br)</td><td>Cleverson Lima</td><td>Minas Gerais! Resort all inclusive em Poços de Caldas com diárias a partir de R$ 677</td><td>Poços de Caldas, no Sul de Minas Gerais, oferece uma das melhores estâncias hidrominerais da América Latina, com águas minerais usadas em diversas terapias, clima montanhês da Serra da Mantiqueira, excelente culinária e charmosa arquitetura da década de 30.  …</td><td>https://www.melhoresdestinos.com.br/promocao/minas-pocos-caldas-resort</td><td>https://www.melhoresdestinos.com.br/wp-content/uploads/2021/06/cassino-resort-pocos-de-caldas-capa-2021-2.jpg</td><td>2023-09-23T12:00:04Z</td><td>Poços de Caldas, no Sul de Minas Gerais, oferece uma das melhores estâncias hidrominerais da América Latina, com águas minerais usadas em diversas terapias, clima montanhês da Serra da Mantiqueira, e… [+1409 chars]</td></tr><tr><td>List(null, Catracalivre.com.br)</td><td>Redação</td><td>Estudo diz que menopausa precoce aumento o risco de demência</td><td>Uma recente pesquisa realizada pela Universidade de Sherbrooke, no Canadá, revelou uma forte relação entre o início precoce da menopausa em mulheres e um</td><td>https://catracalivre.com.br/saude-bem-estar/estudo-diz-que-menopausa-precoce-aumento-o-risco-de-demencia/</td><td>https://catracalivre.com.br/cdn-cgi/image/f=auto,q=60,w=1200,h=638,fit=cover,format=jpeg/wp-content/uploads/2023/09/menopausa.jpg</td><td>2023-09-28T19:30:43Z</td><td>Uma recente pesquisa realizada pela Universidade de Sherbrooke, no Canadá, revelou uma forte relação entre o início precoce da menopausa em mulheres e um risco elevado de desenvolvimento de comorbida… [+1853 chars]</td></tr><tr><td>List(null, Megacurioso.com.br)</td><td>Vivian de Souza Campos</td><td>Superbactérias: como evitar a resistência aos antibióticos</td><td>Superbactérias, ou bactérias resistentes a antibióticos, são cepas microbianas que desenvolveram a capacidade de resistir a um ou mais antibióticos. Essa resistência pode ocorrer devido a mutações genéticas aleatórias, ou pode ser adquirida devido ao uso inad…</td><td>https://www.megacurioso.com.br//ciencia/127528-superbacterias-como-evitar-a-resistencia-aos-antibioticos.htm</td><td>https://mega.ibxk.com.br/2023/10/03/03152401766265.jpg?ims=600x</td><td>2023-10-03T19:00:00Z</td><td>Superbactérias, ou bactérias resistentes a antibióticos, são cepas microbianas que desenvolveram a capacidade de resistir a um ou mais antibióticos. Essa resistência pode ocorrer devido a mutações ge… [+3311 chars]</td></tr><tr><td>List(null, [Removed])</td><td>null</td><td>[Removed]</td><td>[Removed]</td><td>https://removed.com</td><td>null</td><td>1970-01-01T00:00:00Z</td><td>[Removed]</td></tr><tr><td>List(null, [Removed])</td><td>null</td><td>[Removed]</td><td>[Removed]</td><td>https://removed.com</td><td>null</td><td>1970-01-01T00:00:00Z</td><td>[Removed]</td></tr><tr><td>List(null, [Removed])</td><td>null</td><td>[Removed]</td><td>[Removed]</td><td>https://removed.com</td><td>null</td><td>1970-01-01T00:00:00Z</td><td>[Removed]</td></tr><tr><td>List(null, Terra.com.br)</td><td>Portal EdiCase</td><td>Entenda por que doenças vasculares podem aumentar no calor</td><td>Quando não cuidamos da saúde, os dias de calor torna-se um momento de alerta para o corpo, ...</td><td>https://www.terra.com.br/vida-e-estilo/saude/entenda-por-que-doencas-vasculares-podem-aumentar-no-calor,52723791eadd8bccd0bd285409f363b03cid3uve.html</td><td>https://p2.trrsf.com/image/fget/cf/1200/630/middle/images.terra.com/2023/09/22/1100783929-doencas-vasculares.jpeg</td><td>2023-09-22T22:02:23Z</td><td>Quando não cuidamos da saúde, os dias de calor torna-se um momento de alerta para o corpo, especialmente para aqueles que sofrem com problemas cardiovasculares. Isso porque, segundo dados da Sociedad… [+3207 chars]</td></tr><tr><td>List(null, Abril.com.br)</td><td>Da Redação</td><td>Medicina tecnológica para todos</td><td>Assim como a terapia CAR-T, existem inúmeras abordagens terapêuticas inovadoras em desenvolvimento em centros de pesquisa ao redor do planeta</td><td>https://veja.abril.com.br/coluna/coluna-claudio-lottenberg/medicina-tecnologica-para-todos</td><td>https://veja.abril.com.br/wp-content/uploads/2017/11/cancer-car-t-terapia-17.jpg?quality=90&strip=info&w=680&h=453&crop=1</td><td>2023-09-18T16:11:55Z</td><td>A terapia com células CAR-T é um dos tratamentos mais recentes e promissores no combate aos cânceres de sangue, como o linfoma e as leucemias agudas. Ele consiste na coleta de células de defesa do pa… [+3354 chars]</td></tr><tr><td>List(null, [Removed])</td><td>null</td><td>[Removed]</td><td>[Removed]</td><td>https://removed.com</td><td>null</td><td>1970-01-01T00:00:00Z</td><td>[Removed]</td></tr><tr><td>List(null, Terra.com.br)</td><td>Reuters</td><td>Belga Biobest compra empresa brasileira de soluções agrícolas naturais Biotrop em acordo de US$570 mi</td><td>A empresa belga de biocontrole de pragas e doenças e polinização natural para produção agrícola ...</td><td>https://www.terra.com.br/economia/dinheiro-em-acao/belga-biobest-compra-empresa-brasileira-de-solucoes-agricolas-naturais-biotrop-em-acordo-de-us570-mi,92e023c86a50c8325dbc0b2d6ca40870yybi9fsw.html</td><td>https://s1.trrsf.com/fe/zaz-mod-t360-icons/svg/logos/terra-16x9-borda.png</td><td>2023-09-07T18:50:26Z</td><td>A empresa belga de biocontrole de pragas e doenças e polinização natural para produção agrícola sustentável Biobest Group fechou acordo para adquirir a brasileira do mesmo ramo Biotrop, em um movimen… [+1927 chars]</td></tr><tr><td>List(null, Observador.pt)</td><td>Agência Lusa</td><td>Empresa da Covilhã deteta enzima que pode travar doença de Parkinson</td><td>Uma empresa sediada na Covilhã está a desenvolver uma molécula que produz stress oxidativo e que pode ser moldada às necessidades do doente, permitindo que permaneçam no primeiro estágio da doença.</td><td>https://observador.pt/2023/09/22/empresa-da-covilha-deteta-enzima-que-pode-travar-doenca-de-parkinson/</td><td>https://wm.observador.pt/wm/obs/l/https%3A%2F%2Fbordalo.observador.pt%2Fv2%2Frs%3Afill%3A770%3A403%2Fc%3A2000%3A1124%3Anowe%3A0%3A105%2Fq%3A85%2Fplain%2Fhttps%3A%2F%2Fs3.observador.pt%2Fwp-content%2Fuploads%2F2017%2F12%2F12161206%2F19081089.jpg</td><td>2023-09-22T10:33:53Z</td><td>Uma empresa com sede na Covilhã está na fase de conclusão dos testes pré-clínicos de uma enzima responsável por produzir stress oxidativo que pode ser moldada para níveis que permitam evitar a progre… [+3017 chars]</td></tr><tr><td>List(null, Sapo.pt)</td><td>Ana Sofia Neto</td><td>Mosquito que transmite dengue e zika aterrou em Lisboa pela primeira vez</td><td>Embora tenha sido detetada no norte de Portugal, em 2017, esta foi a primeira vez que a espécie de mosquitos aterrou em Lisboa. Há infeções que, a menos que viajemos, nos são muito distantes,...</td><td>https://pplware.sapo.pt/ciencia/mosquito-que-transmite-dengue-e-zika-aterrou-em-lisboa-pela-primeira-vez/</td><td>https://pplware.sapo.pt/wp-content/uploads/2023/09/Aedes-Albopictus_B00.jpg</td><td>2023-09-28T08:40:24Z</td><td>Embora tenha sido detetada no norte de Portugal, em 2017, esta foi a primeira vez que a espécie de mosquitos aterrou em Lisboa.\r\n",
       "Há infeções que, a menos que viajemos, nos são muito distantes, pois n… [+1448 chars]</td></tr><tr><td>List(null, Catracalivre.com.br)</td><td>Redação</td><td>Alimento comum na cozinha do brasileiro reduz risco de câncer, diz estudo</td><td>Comer bem é necessário não só para manter o corpo funcionando corretamente, mas também para prevenir uma série de doenças. É por isso que, ás vezes, nos</td><td>https://catracalivre.com.br/saude-bem-estar/alimento-comum-na-cozinha-do-brasileiro-reduz-risco-de-cancer-diz-estudo/</td><td>https://catracalivre.com.br/cdn-cgi/image/f=auto,q=60,w=1200,h=638,fit=cover,format=jpeg/wp-content/uploads/2023/09/istock-1635263915-1.jpg</td><td>2023-09-22T22:01:08Z</td><td>Comer bem é necessário não só para manter o corpo funcionando corretamente, mas também para prevenir uma série de doenças.\r\n",
       "É por isso que, ás vezes, nos deparamos com alimentos conhecidos como “supe… [+2233 chars]</td></tr><tr><td>List(null, Terra.com.br)</td><td>Reuters</td><td>CDC dos EUA endossa vacina da Pfizer contra doença sazonal para proteger bebês</td><td>O Centro de Controle e Prevenção de Doenças dos EUA (CDC, na sigla em inglês) endossou nesta ...</td><td>https://www.terra.com.br/noticias/mundo/cdc-dos-eua-endossa-vacina-da-pfizer-contra-doenca-sazonal-para-proteger-bebes,98c42c6c5c276e9a6307f08a293eb128a0g5s529.html</td><td>https://s1.trrsf.com/fe/zaz-mod-t360-icons/svg/logos/terra-16x9-borda.png</td><td>2023-09-23T00:17:36Z</td><td>O Centro de Controle e Prevenção de Doenças dos EUA (CDC, na sigla em inglês) endossou nesta sexta-feira a vacina da Pfizer contra o vírus sincicial respiratório (VSR) para mulheres que estão no terc… [+1370 chars]</td></tr><tr><td>List(null, Abril.com.br)</td><td>Paula Felix</td><td>A proteína capaz de manter a célula humana saudável por mais tempo</td><td>Estudo feito por pesquisadores brasileiros e australianos aponta caminhos para tratar doenças autoimunes e até câncer</td><td>https://veja.abril.com.br/saude/a-proteina-capaz-de-manter-celula-humana-saudavel-por-mais-tempo</td><td>https://veja.abril.com.br/wp-content/uploads/2023/09/Celulas-humanas-coxiella.jpg?quality=90&strip=info&w=680&h=453&crop=1</td><td>2023-09-11T14:45:31Z</td><td>Pesquisadores da Universidade de São Paulo (USP) e colaboradores da Austrália identificaram uma proteína bacteriana capaz de manter as células humanas saudáveis por mais tempo. A descoberta pode leva… [+5133 chars]</td></tr><tr><td>List(null, Olhardigital.com.br)</td><td>Alessandro Di Lorenzo</td><td>Árvore “congelada” no tempo por milhões de anos tem mistério revelado</td><td>Conhecida como \"fóssil vivo\", a árvore praticamente não sofreu alterações desde o tempo em que os dinossauros dominavam a Terra\n",
       "O post Árvore “congelada” no tempo por milhões de anos tem mistério revelado apareceu primeiro em Olhar Digital.</td><td>https://olhardigital.com.br/2023/09/15/ciencia-e-espaco/arvore-congelada-no-tempo-por-milhoes-de-anos-tem-misterio-revelado/</td><td>https://img.olhardigital.com.br/wp-content/uploads/2023/09/Pinheiro-1.jpg</td><td>2023-09-15T17:06:28Z</td><td>Cientistas da AustrÃ¡lia, Estados Unidos e ItÃ¡liaÂ decodificaram o genoma de uma rarÃ­ssima Ã¡rvore conhecida como âfÃ³ssil vivoâ. O pinheiroÂ Wollemi (Wollemia nobilis) foi descoberto em 1994 e… [+3199 chars]</td></tr><tr><td>List(null, Expresso.pt)</td><td>Expresso</td><td>Agendas mobilizadoras canalizam €480 milhões para transformar sector da saúde em três anos</td><td>Plano de Recuperação e de Resiliência é central no investimento que privados e Estado preveem canalizar para o desenvolvimento de terapias inovadoras, para doenças graves como o cancro, e em novas formas de combater a resistência aos antibióticos</td><td>https://expresso.pt/economia/empresas/2023-10-02-Agendas-mobilizadoras-canalizam-480-milhoes-para-transformar-sector-da-saude-em-tres-anos-17de87a9</td><td>https://images.impresa.pt/expresso/2023-06-28-laboratorio-deac6dc7/1.91x1?wm=true&outputFormat=jpeg</td><td>2023-10-02T14:56:57Z</td><td>O Plano de Recuperação e Resiliência (PRR) irá apoiar quatro agendas mobilizadoras da saúde, que durante os próximos três anos irão captar investimentos de cerca de 180 milhões de euros do setor priv… [+2989 chars]</td></tr><tr><td>List(null, BBC News)</td><td>https://www.facebook.com/bbcnews</td><td>Sensação de estar isolado do mundo é uma das grandes preocupações do século 21</td><td>Sensação de estar isolado do mundo é uma das grandes preocupações do século 21</td><td>https://www.bbc.com/portuguese/media-66843698</td><td>https://ichef.bbci.co.uk/news/1024/branded_portuguese/80CB/production/_131117923_mediaitem131117922.jpg</td><td>2023-09-18T10:24:06Z</td><td>Sensação de estar isolado do mundo é uma das grandes preocupações do século 21\r\n",
       "A solidão virou uma das grandes preocupações de saúde do século 21. \r\n",
       "Comparada ao cigarro e relacionada ao risco de do… [+343 chars]</td></tr><tr><td>List(null, [Removed])</td><td>null</td><td>[Removed]</td><td>[Removed]</td><td>https://removed.com</td><td>null</td><td>1970-01-01T00:00:00Z</td><td>[Removed]</td></tr><tr><td>List(null, Catracalivre.com.br)</td><td>Redação</td><td>Pesquisa indica composto encontrado nestes alimentos que pode prevenir câncer</td><td>Você sabia que diversas pesquisas ao longo dos anos têm apontado benefícios potenciais para a fisetina, um flavonoide com atividade antioxidante presente</td><td>https://catracalivre.com.br/saude-bem-estar/pesquisa-indica-composto-encontrado-nestes-alimentos-que-previne-cancer/</td><td>https://catracalivre.com.br/cdn-cgi/image/f=auto,q=60,w=1200,h=638,fit=cover,format=jpeg/wp-content/uploads/2023/09/istock-1325282418.jpg</td><td>2023-09-26T10:00:45Z</td><td>Você sabia que diversas pesquisas ao longo dos anos têm apontado benefícios potenciais para a fisetina, um flavonoide com atividade antioxidante presente em frutas e vegetais?\r\n",
       "Estudos epidemiológico… [+2817 chars]</td></tr><tr><td>List(null, Abril.com.br)</td><td>diego.valencia</td><td>O que a microbiota intestinal tem a ver com distúrbios neurológicos?</td><td>Revisão feita por pesquisadores da Unifesp inclui doenças como Alzheimer e Parkinson e transtornos psiquiátricos como depressão e ansiedade</td><td>https://veja.abril.com.br/saude/como-a-microbiota-influencia-disturbios-neurologicos-e-psiquiatricos</td><td>https://veja.abril.com.br/wp-content/uploads/2020/09/câncer-de-intestino.jpg?quality=90&strip=info&w=680&h=453&crop=1</td><td>2023-09-06T19:48:52Z</td><td>Há trilhões de microrganismos, incluindo bactérias, fungos e vírus, no interior do trato gastrointestinal conjunto que leva o nome de microbiota. É quase o mesmo número de células em um corpo humano.… [+3585 chars]</td></tr><tr><td>List(null, [Removed])</td><td>null</td><td>[Removed]</td><td>[Removed]</td><td>https://removed.com</td><td>null</td><td>1970-01-01T00:00:00Z</td><td>[Removed]</td></tr><tr><td>List(null, Terra.com.br)</td><td>Portal EdiCase</td><td>Entenda o que é a hipercifose e como tratar essa condição</td><td>A hipercifose, também conhecida popularmente como 'corcunda', trata-se de uma doença óssea ...</td><td>https://www.terra.com.br/vida-e-estilo/saude/entenda-o-que-e-a-hipercifose-e-como-tratar-essa-condicao,323d34d575b92837f1fad0d49bfe650b67beo2wl.html</td><td>https://p2.trrsf.com/image/fget/cf/1200/630/middle/images.terra.com/2023/10/02/638203844-coluna-dores.jpeg</td><td>2023-10-02T17:31:30Z</td><td>A hipercifose, também conhecida popularmente como 'corcunda', trata-se de uma doença óssea causada por um desvio corporal que, normalmente, faz com que as pessoas tenham uma curvatura na região torác… [+2694 chars]</td></tr><tr><td>List(null, Abril.com.br)</td><td>Paula Felix</td><td>OMS recomenda vacinas contra malária e dengue diante de onda de mosquitos</td><td>Entidade fez alerta sobre risco das doenças principalmente para crianças; Qdenga foi aprovada para uso no Brasil em março</td><td>https://veja.abril.com.br/saude/oms-recomenda-vacinas-contra-malaria-e-dengue-diante-de-onda-de-mosquitos</td><td>https://veja.abril.com.br/wp-content/uploads/2023/06/aedes_aegypti-dengue2.webp?w=680&h=453&crop=1</td><td>2023-10-02T22:47:48Z</td><td>Diante do aumento das doenças transmitidas por mosquitos em diferentes partes do mundo, a Organização Mundial da Saúde (OMS) divulgou nesta segunda-feira, 2, um comunicado recomendando a nova vacina … [+2768 chars]</td></tr><tr><td>List(null, Sapo.pt)</td><td>Rui Jorge</td><td>Poria o seu cérebro nas mãos da IA? Será uma realidade dentro de dois anos</td><td>Um importante neurocirurgião do Reino Unido afirmou que a cirurgia cerebral com recurso à inteligência artificial (IA) será possível dentro de dois anos, tornando-a mais segura e eficaz.   O governo britânico afirma que...</td><td>https://pplware.sapo.pt/inteligencia-artificial/poria-o-seu-cerebro-nas-maos-da-ia-sera-uma-realidade-dentro-de-dois-anos/</td><td>https://pplware.sapo.pt/wp-content/uploads/2022/01/cirurgia_robo00.jpg</td><td>2023-09-30T10:00:12Z</td><td>Um importante neurocirurgião do Reino Unido afirmou que a cirurgia cerebral com recurso à inteligência artificial (IA) será possível dentro de dois anos, tornando-a mais segura e eficaz.\r\n",
       "O governo b… [+2511 chars]</td></tr><tr><td>List(null, Olhardigital.com.br)</td><td>Nayra Teles</td><td>USP: terapia celular pode reduzir mortes por Covid-19</td><td>Pesquisadores da Universidade de São Paulo (USP) descobriram que a terapia celular pode reduzir em 60% o risco de morte por COVID-19\n",
       "O post USP: terapia celular pode reduzir mortes por Covid-19 apareceu primeiro em Olhar Digital.</td><td>https://olhardigital.com.br/2023/09/19/medicina-e-saude/usp-terapia-celular-pode-reduzir-mortes-por-covid-19/</td><td>https://proxy.olhardigital.com.br/wp-content/uploads/2023/09/terapia-celular.png</td><td>2023-09-19T21:03:20Z</td><td>A terapia celular, bastante utilizada em tratamentos contra o cÃ¢ncer, tem grande potencial contra a Covid-19. Ã o que aponta a revisÃ£o sistemÃ¡tica e meta-anÃ¡lise realizada por pesquisadores da U… [+4229 chars]</td></tr><tr><td>List(null, Terra.com.br)</td><td>Porto Alegre 24 horas</td><td>HCPA busca voluntários para estudo clínico que avalia medicamento experimental para o COVID-19</td><td>Hospital de Clínicas está com inscrições abertas para adultos acima de 18 (dezoito) anos portadores de doenças crônicas como, por exemplo, diabetes, obesidade, hipertensão ou doenças cardiovasculares, que testaram positivo para COVID-19 nos últimos três dias …</td><td>https://www.terra.com.br/noticias/hcpa-busca-voluntarios-para-estudo-clinico-que-avalia-medicamento-experimental-para-o-covid-19,6ce0dbd8c3d6c7770745a34adf194601wibvrrif.html</td><td>https://p2.trrsf.com/image/fget/cf/1200/630/middle/images.terra.com/2023/09/20/717673475-fachada2-1536x1021-1.jpg</td><td>2023-09-20T15:41:12Z</td><td>O Hospital de Clínicas de Porto Alegre ainda está com vagas abertas para voluntários que queiram colaborar com o SCORPIO-HR, um estudo clínico global de Fase 3 com pacientes não hospitalizados e sint… [+3502 chars]</td></tr><tr><td>List(null, [Removed])</td><td>null</td><td>[Removed]</td><td>[Removed]</td><td>https://removed.com</td><td>null</td><td>1970-01-01T00:00:00Z</td><td>[Removed]</td></tr><tr><td>List(null, [Removed])</td><td>null</td><td>[Removed]</td><td>[Removed]</td><td>https://removed.com</td><td>null</td><td>1970-01-01T00:00:00Z</td><td>[Removed]</td></tr><tr><td>List(null, Olhardigital.com.br)</td><td>Alessandro Di Lorenzo</td><td>Novo vírus é descoberto nas profundezas da Fossa das Marianas</td><td>Bacteriófago, um tipo de vírus que infecta e se replica dentro de bactérias, foi localizado a uma profundidade de 8.900 metros\n",
       "O post Novo vírus é descoberto nas profundezas da Fossa das Marianas apareceu primeiro em Olhar Digital.</td><td>https://olhardigital.com.br/2023/09/21/ciencia-e-espaco/novo-virus-e-descoberto-nas-profundezas-da-fossa-das-marianas/</td><td>https://proxy.olhardigital.com.br/wp-content/uploads/2023/09/Fossa-das-marianas-1.jpg</td><td>2023-09-21T20:26:34Z</td><td>Segundo dados da AdministraÃ§Ã£o Nacional OceÃ¢nica e AtmosfÃ©rica dos Estados Unidos,apenas cerca de 20% do fundo do mar foi mapeado atÃ© hoje. Uma descoberta de uma equipe internacional de pesquisa… [+2809 chars]</td></tr><tr><td>List(null, Jovemnerd.com.br)</td><td>Pedro Siqueira</td><td>Netflix põe camisinha em monumento para divulgação dura de Sex Education</td><td>Streaming elevou o marketing a um novo nível para a temporada final da série\n",
       "The post Netflix põe camisinha em monumento para divulgação dura de Sex Education appeared first on Jovem Nerd.</td><td>https://jovemnerd.com.br/nerdbunker/netflix-camisinha-gigante-sex-education/</td><td>https://uploads.jovemnerd.com.br/wp-content/uploads/2023/09/netflix_sex_education_obelisco__25030n3ow.jpg</td><td>2023-09-23T15:07:35Z</td><td>A divulgação da temporada final de Sex Education está duríssima. Tanto que a Netflix colocou uma CAMISINHA GIGANTE no Obelisco, um dos maiores monumentos da Argentina, num vídeo promocional que vem c… [+897 chars]</td></tr><tr><td>List(null, Abril.com.br)</td><td>Paula Felix</td><td>Injeção semanal para deficiência de hormônio do crescimento é liberada</td><td>Medicação para crianças e adultos reduz em 85% o número de aplicações por ano; preço não foi definido e lançamento no Brasil ainda será anunciado</td><td>https://veja.abril.com.br/saude/injecao-semanal-para-deficiencia-de-hormonio-do-crescimento-e-liberada</td><td>https://veja.abril.com.br/wp-content/uploads/2016/05/alx_465382081_original1.jpeg?quality=90&strip=info&w=680&h=453&crop=1</td><td>2023-09-25T21:40:54Z</td><td>Uma nova opção de tratamento para crianças e adultos com deficiência do hormônio do crescimento (GH) com aplicação subcutânea semanal, por meio de uma “caneta”, foi liberada no Brasil nesta segunda-f… [+2629 chars]</td></tr><tr><td>List(null, Terra.com.br)</td><td>Sport Life</td><td>Abacate emagrece? Descubra 14 benefícios secretos da fruta</td><td>Abacate emagrece ou engorda? Essa dúvida é comum em pessoas que são fãs do sabor da fruta. Por ...</td><td>https://www.terra.com.br/vida-e-estilo/abacate-emagrece-descubra-14-beneficios-secretos-da-fruta,1079792ed39d3e3303fdd4fd29d5b3d3tj80nanf.html</td><td>https://p2.trrsf.com/image/fget/cf/1200/630/middle/images.terra.com/2023/09/07/392743629-shutterstock785296315-1.jpg</td><td>2023-09-07T19:02:17Z</td><td>Abacate emagrece ou engorda? Essa dúvida é comum em pessoas que são fãs do sabor da fruta. Por ser um alimento natural, muitos acreditam que o abacate ajuda a emagrecer. Por outro lado, os altos níve… [+4997 chars]</td></tr><tr><td>List(null, [Removed])</td><td>null</td><td>[Removed]</td><td>[Removed]</td><td>https://removed.com</td><td>null</td><td>1970-01-01T00:00:00Z</td><td>[Removed]</td></tr><tr><td>List(null, Uol.com.br)</td><td>null</td><td>null</td><td>A molécula sintetiza o conjunto de proteínas que um organismo necessita para viver</td><td>https://www1.folha.uol.com.br/ciencia/2023/09/rna-de-tigre-da-tasmania-extinto-e-recuperado-pela-primeira-vez.shtml</td><td>https://f.i.uol.com.br/fotografia/2023/09/19/1695178196650a5dd469a9a_1695178196_3x2_rt.jpg</td><td>2023-09-20T10:50:04Z</td><td>O tigre-da-tasmânia, um marsupial carnívoro listrado do tamanho de um cachorro, também chamado de tilacino, era um predador de ponta que caçava cangurus e outras presas e já vagou pelo território con… [+2149 chars]</td></tr><tr><td>List(null, Catracalivre.com.br)</td><td>Redação</td><td>Saiba quais atividades físicas reduzem risco de 9 tipos de câncer</td><td>A aptidão cardiorrespiratória, responsável pela capacidade de executar atividades físicas aeróbicos prolongados, pode ser a chave para a prevenção de</td><td>https://catracalivre.com.br/saude-bem-estar/saiba-quais-atividades-fisicas-reduzem-risco-de-9-tipos-de-cancer/</td><td>https://catracalivre.com.br/cdn-cgi/image/f=auto,q=60,w=1200,h=638,fit=cover,format=jpeg/wp-content/uploads/2023/08/istock-1168199832.jpg</td><td>2023-09-11T02:30:05Z</td><td>A aptidão cardiorrespiratória, responsável pela capacidade de executar atividades físicas aeróbicos prolongados, pode ser a chave para a prevenção de diversos tipos de câncer. Um estudo recente, publ… [+2947 chars]</td></tr><tr><td>List(null, [Removed])</td><td>null</td><td>[Removed]</td><td>[Removed]</td><td>https://removed.com</td><td>null</td><td>1970-01-01T00:00:00Z</td><td>[Removed]</td></tr><tr><td>List(null, Uol.com.br)</td><td>null</td><td>null</td><td>Cálculo biliar bovino, chamado de pedra de fel, é usado na medicina oriental para tratar doenças respiratórias</td><td>https://www1.folha.uol.com.br/mercado/2023/09/criminosos-roubam-r-2-milhoes-em-pedras-de-boi-no-interior-de-sp.shtml</td><td>https://f.i.uol.com.br/fotografia/2023/09/21/1695325609650c9da9b56df_1695325609_3x2_lg.jpg</td><td>2023-09-22T00:51:36Z</td><td>Três homensassaltaram uma empresa de exportação no interior de São Paulo e levaram 2,7 quilos de cálculo biliar bovino, também conhecido como pedra de fel, avaliado em R$ 2 milhões, segundo a Delegac… [+1877 chars]</td></tr><tr><td>List(null, Observador.pt)</td><td>Agência Lusa</td><td>Idosos vítimas de maus tratos apresentam mais doença física e mental</td><td>Dados \"assustadores\" de um estudo português revelam que os idosos que sofrem violência intra-familiar ou de cuidadores \"são muito mais doentes, têm muitas mais patologias do que a restante população\".</td><td>https://observador.pt/2023/09/29/idosos-vitimas-de-maus-tratos-apresentam-mais-doenca-fisica-e-mental/</td><td>https://wm.observador.pt/wm/obs/l/https%3A%2F%2Fbordalo.observador.pt%2Fv2%2Frs%3Afill%3A770%3A403%2Fc%3A2121%3A1192%3Anowe%3A0%3A111%2Fq%3A85%2Fplain%2Fhttps%3A%2F%2Fs3.observador.pt%2Fwp-content%2Fuploads%2F2022%2F02%2F09214115%2FGettyImages-1290458362.jpg</td><td>2023-09-29T09:52:20Z</td><td>Um estudo da Faculdade de Medicina da Universidade do Porto (FMUP) revelou que os idosos vítimas de maus tratos apresentam mais doença física e mental, algo “assustador” que para os investigadores de… [+3910 chars]</td></tr><tr><td>List(null, Tecmundo.com.br)</td><td>Fabio Dominski</td><td>Atividade física no trabalho faz bem?</td><td>Este texto foi escrito por um colunista do TecMundo; saiba mais no final.\"Eu me movimento bastante no trabalho, não preciso de exercícios”, já ouviu alguém falar isso? Essa pessoa provavelmente tem uma alta demanda energética em seu trabalho e acredita que is…</td><td>https://www.tecmundo.com.br/ciencia/271824-atividade-fisica-trabalho.htm</td><td>https://tm.ibxk.com.br/2023/09/20/20121343539166.jpg</td><td>2023-09-20T17:00:00Z</td><td>Este texto foi escrito por um colunista do TecMundo; saiba mais no final.\r\n",
       "\"Eu me movimento bastante no trabalho, não preciso de exercícios, já ouviu alguém falar isso? Essa pessoa provavelmente tem … [+5260 chars]</td></tr><tr><td>List(null, Tecmundo.com.br)</td><td>Jennifer Egues</td><td>SUS Digital: uso inteligência artificial pode melhorar a saúde pública?</td><td>O Ministério da Saúde estuda implementar ferramentas de Inteligência Artificial (IA) no Sistema Único de Saúde, objetivando melhorar o atendimento, agilizando processos e estendo atendimento a regiões de difícil acesso físico.Para a pasta, a implementação da …</td><td>https://www.tecmundo.com.br/ciencia/267730-sus-digital-uso-inteligencia-artificial-melhorar-saude-publica.htm</td><td>https://tm.ibxk.com.br/2023/08/18/18144410198207.jpg</td><td>2023-09-04T14:30:01Z</td><td>O Ministério da Saúde estuda implementar ferramentas de Inteligência Artificial (IA) no Sistema Único de Saúde, objetivando melhorar o atendimento, agilizando processos e estendo atendimento a regiõe… [+5930 chars]</td></tr><tr><td>List(null, Sapo.pt)</td><td>Ana Sofia Neto</td><td>Afinal, o açúcar prejudica ou não a saúde?</td><td>O açúcar está em tantos alimentos que, certamente, surpreender-se-ia com alguns deles. Mas, assim sendo, será assim tão prejudicial? É um tema complexo, como muitos deles na nutrição, e parece ser pouco claro para...</td><td>https://pplware.sapo.pt/ciencia/afinal-o-acucar-prejudica-ou-nao-a-saude/</td><td>https://pplware.sapo.pt/wp-content/uploads/2023/09/bolo00.jpg</td><td>2023-09-15T20:00:17Z</td><td>O açúcar está em tantos alimentos que, certamente, surpreender-se-ia com alguns deles. Mas, assim sendo, será assim tão prejudicial?\r\n",
       "É um tema complexo, como muitos deles na nutrição, e parece ser p… [+3659 chars]</td></tr><tr><td>List(null, Observador.pt)</td><td>Observador</td><td>Descoberta nova célula no cérebro que pode ajudar a estudar o Alzheimer</td><td>Novo estudo revela a existência de uma nova célula, que pode ajudar a explicar o desenvolvimento de doenças neurodegenerativas e a localizar \"potenciais alvos terapêuticos\".</td><td>https://observador.pt/2023/09/06/descoberta-nova-celula-no-cerebro-que-pode-ajudar-a-estudar-o-alzheimer/</td><td>https://wm.observador.pt/wm/obs/l/https%3A%2F%2Fbordalo.observador.pt%2Fv2%2Frs%3Afill%3A770%3A403%2Fc%3A3543%3A1993%3Anowe%3A0%3A131%2Fq%3A85%2Fplain%2Fhttps%3A%2F%2Fs3.observador.pt%2Fwp-content%2Fuploads%2F2023%2F09%2F06184926%2Fgettyimages-1487034049.jpg</td><td>2023-09-06T18:08:06Z</td><td>A cada três segundos, há uma pessoa no mundo a desenvolver demência. Em 2020, os dados recolhidos pelo Alzheimer’s Disease International (ADI) mostravam que havia mais de 55 milhões de pessoas a vive… [+2235 chars]</td></tr><tr><td>List(null, Observador.pt)</td><td>Inês André Figueiredo</td><td>Mosquito que transmite dengue e zika detetado em Lisboa pela primeira vez</td><td>DGS reforçou a vigilância entomológica e epidemiológica, mas garantiu que não foram identificados nestes mosquitos quaisquer agentes de doenças que possam ser transmitidas às pessoas.</td><td>https://observador.pt/2023/09/27/mosquito-que-transmite-dengue-e-zika-detetado-em-lisboa-pela-primeira-vez/</td><td>https://wm.observador.pt/wm/obs/l/https%3A%2F%2Fbordalo.observador.pt%2Fv2%2Frs%3Afill%3A770%3A403%2Fc%3A1998%3A1126%3Anowe%3A0%3A100%2Fq%3A85%2Fplain%2Fhttps%3A%2F%2Fs3.observador.pt%2Fwp-content%2Fuploads%2F2019%2F04%2F15200407%2F20319704.jpg</td><td>2023-09-27T16:25:37Z</td><td>A Direção-Geral de Saúde (DGS) revelou que a espécie de mosquitos Aedes albopictus foi identificada pela primeira vez em Lisboa e alertou que este mosquito pode transmitir doenças como chikungunya, d… [+1110 chars]</td></tr><tr><td>List(null, Observador.pt)</td><td>Carolina Sobral</td><td>Cientistas criam modelo de embrião sem espermatozoide, óvulo ou útero. É o primeiro que imita em completo um embrião humano</td><td>Modelo foi desenvolvido a partir de células estaminais que se organizaram em estruturas que imitam a organização 3D de um embrião real com 14 dias. O modelo deu positivo num teste de gravidez.</td><td>https://observador.pt/2023/09/06/cientistas-criam-modelo-de-embriao-sem-espermatozoide-ovulo-ou-utero-e-o-primeiro-que-imita-em-completo-um-embriao-humano/</td><td>https://wm.observador.pt/wm/obs/l/https%3A%2F%2Fbordalo.observador.pt%2Fv2%2Frs%3Afill%3A770%3A403%2Fc%3A2000%3A1124%3Anowe%3A0%3A104%2Fq%3A85%2Fplain%2Fhttps%3A%2F%2Fs3.observador.pt%2Fwp-content%2Fuploads%2F2019%2F02%2F28085820%2Fistock-904268950.jpg</td><td>2023-09-06T16:31:46Z</td><td>Sem recurso a espermatozoide, óvulos ou um útero, cientistas criaram pela primeira vez um modelo de embriões humanos que imita de forma completa todas as características conhecidas num embrião real. … [+1946 chars]</td></tr><tr><td>List(null, Observador.pt)</td><td>Sofia Teixeira</td><td>Que ondas cerebrais são estas?</td><td>O cérebro emite misteriosos padrões de atividade que estão alterados em doentes  com doenças neurológicas ou psiquiátricas. Na Universidade do Minho, Joana Cabral tenta conhecer melhor estes sinais.</td><td>https://observador.pt/2023/09/25/que-ondas-cerebrais-sao-estas/</td><td>https://wm.observador.pt/wm/obs/l/https%3A%2F%2Fbordalo.observador.pt%2Fv2%2Frs%3Afill%3A770%3A403%2Fc%3A3200%3A1796%3Anowe%3A0%3A340%2Fq%3A85%2Fplain%2Fhttps%3A%2F%2Fs3.observador.pt%2Fwp-content%2Fuploads%2F2023%2F09%2F25012852%2F0-20230807-goncalo-villaverde-0205.jpg</td><td>2023-09-25T13:49:21Z</td><td>Uma iniciativa\r\n",
       "Há momentos em que o cérebro de Joana Cabral parece um carro de Fórmula Um: é muito difícil de acompanhar quando acelera a fundo. Salta de raciocínio em raciocínio, estabelece pontes … [+12097 chars]</td></tr><tr><td>List(null, Terra.com.br)</td><td>Elas no Tapete Vermelho</td><td>VMA 2023: Anitta repete grife de 2022 e elege look Schiaparelli</td><td>A Schiaparelli tem em seu DNA o surrealismo. Fato esse que agrada em cheio famosas, como Anitta, ...</td><td>https://www.terra.com.br/vida-e-estilo/autocuidado/moda/vma-2023-anitta-repete-grife-de-2022-e-elege-look-schiaparelli,fee499f8c205c826421124c9561fae83mmokijah.html</td><td>https://p2.trrsf.com/image/fget/cf/1200/630/middle/images.terra.com/2023/09/12/1728798519-37802777434786638823962214802485532612152661n-e1694562071640.jpg</td><td>2023-09-12T23:48:05Z</td><td>A Schiaparelli tem em seu DNA o surrealismo. Fato esse que agrada em cheio famosas, como Anitta, que pelo segundo ano consecutivo elegeu a grife francesa para cruzar o tapete vermelho do VMA (Video M… [+1146 chars]</td></tr><tr><td>List(null, Pragmatismopolitico.com.br)</td><td>Redação</td><td>Benefícios das substâncias encontradas no vinho: uma análise científica</td><td>É importante ter cuidado ao consumi-lo e sempre respeitar as contraindicações e limites recomendados. É possível encontrar de forma acessível bons vinhos no mercado, mas é fundamental ter consciência dos riscos e sempre consumir com moderação\n",
       "O post Benefício…</td><td>https://www.pragmatismopolitico.com.br/2023/10/beneficios-substancias-encontradas-vinho-analise-cientifica.html</td><td>https://www.pragmatismopolitico.com.br/wp-content/uploads/2023/10/beneficios-substancias-encontradas-vinho-analise-cientifica.jpg</td><td>2023-10-02T11:30:18Z</td><td>É importante ter cuidado ao consumi-lo e sempre respeitar as contraindicações e limites recomendados. É possível encontrar de forma acessível bons vinhos no mercado, mas é fundamental ter consciência… [+22678 chars]</td></tr><tr><td>List(null, Olhardigital.com.br)</td><td>Alessandro Di Lorenzo</td><td>EUA: vacina experimental contra HIV será testada em humanos</td><td>No total, 95 participantes serão divididos em grupos, com três deles recebendo dosagens diferentes da vacina contra o HIV\n",
       "O post EUA: vacina experimental contra HIV será testada em humanos apareceu primeiro em Olhar Digital.</td><td>https://olhardigital.com.br/2023/09/22/medicina-e-saude/eua-vacina-experimental-contra-hiv-sera-testada-em-humanos/</td><td>https://proxy.olhardigital.com.br/wp-content/uploads/2022/03/HIV-capa.jpg</td><td>2023-09-22T14:46:06Z</td><td>A empresa Vir Biotechnology anunciou o inÃ­cio dos testes em humanos de uma vacina experimental contra o HIV. A companhia norte-americana disse que espera ter os dados iniciais dos trabalhos de fase … [+2542 chars]</td></tr><tr><td>List(null, Olhardigital.com.br)</td><td>Lucas Gabriel Machado Henriques</td><td>Como a inteligência artificial pode ajudar na saúde mental</td><td>Entenda como a inteligência artificial pode ser usada para auxiliar no combate aos transtornos psicológicos e ajudar na saúde mental\n",
       "O post Como a inteligência artificial pode ajudar na saúde mental apareceu primeiro em Olhar Digital.</td><td>https://olhardigital.com.br/2023/09/11/medicina-e-saude/como-a-inteligencia-artificial-pode-ajudar-na-saude-mental/</td><td>https://img.olhardigital.com.br/wp-content/uploads/2023/09/capa-1.jpg</td><td>2023-09-11T15:33:19Z</td><td>Com a crescente utilizaÃ§Ã£o da inteligÃªncia artificial em diversos setores da indÃºstria e da sociedade, muitas tÃ©cnicas que usam essa tecnologia surgiram para melhorar o dia a dia das pessoas, au… [+2927 chars]</td></tr><tr><td>List(null, Olhardigital.com.br)</td><td>Pedro Borges Spadoni</td><td>Imunologista vence prêmio de inovação por tratamento contra câncer</td><td>O imunologista Michel Sadelain levou o prêmio Breakthrough por seu trabalho pioneiro na terapia com células CAR-T para câncer\n",
       "O post Imunologista vence prêmio de inovação por tratamento contra câncer apareceu primeiro em Olhar Digital.</td><td>https://olhardigital.com.br/2023/09/14/medicina-e-saude/imunologista-vence-premio-de-inovacao-por-tratamento-contra-cancer/</td><td>https://img.olhardigital.com.br/wp-content/uploads/2023/09/Destaque-Michel-Sadelain-imunologista-cancer.jpg</td><td>2023-09-15T01:08:01Z</td><td>O imunologista francÃªs-canadense Michel Sadelain venceu o prestigiado prÃªmio Breakthrough nesta quinta-feira (14) por seu trabalho pioneiro na terapia com cÃ©lulas CAR-T â uma nova forma de trata… [+3677 chars]</td></tr><tr><td>List(null, Olhardigital.com.br)</td><td>Lucas Soares</td><td>Alienígenas do México são reais? Entenda a polêmica</td><td>Nesta quarta-feira (13) o mundo a ufologia foi surpreendido com uma apresentação no congresso mexicano onde um ufólogo mostrou supostos cadáveres de alienígenas. Pelo histórico polêmico do pesquisador, a notícia já foi encarada com ceticismo. De acordo com o …</td><td>https://olhardigital.com.br/2023/09/14/ciencia-e-espaco/alienigenas-do-mexico-sao-reais-entenda-a-polemica/</td><td>https://img.olhardigital.com.br/wp-content/uploads/2023/09/alienigenas-mexico.jpg</td><td>2023-09-14T16:03:07Z</td><td>Nesta quarta-feira (13) o mundo a ufologia foi surpreendido com uma apresentaÃ§Ã£o no congresso mexicano onde um ufÃ³logo mostrou supostos cadÃ¡veres de alienÃ­genas. Pelo histÃ³rico polÃªmico do pes… [+2991 chars]</td></tr><tr><td>List(null, Olhardigital.com.br)</td><td>Mateus Dias</td><td>Ufólogo de supostos aliens do México já foi desmascarado outras vezes</td><td>Jaime Maussan apresentou no México restos mortais de alienígenas, no entanto, toda essa historia pode ser mentira\n",
       "O post Ufólogo de supostos aliens do México já foi desmascarado outras vezes apareceu primeiro em Olhar Digital.</td><td>https://olhardigital.com.br/2023/09/14/ciencia-e-espaco/ufologo-de-supostos-aliens-do-mexico-ja-foi-desmascarado-outras-vezes/</td><td>https://img.olhardigital.com.br/wp-content/uploads/2023/09/Jaime-Maussan.jpg</td><td>2023-09-14T20:07:00Z</td><td>Na terÃ§a-feira (12), o ufÃ³logo e jornalista Jaime Maussan apresentou ao Congresso do MÃ©xico os restos mortais de dois supostos alienÃ­genas. A demonstraÃ§Ã£o dos espÃ©cimes aconteceu durante uma a… [+2753 chars]</td></tr><tr><td>List(null, Tecmundo.com.br)</td><td>Jorge Marin</td><td>Google DeepMind: nova ferramenta de IA prevê doenças genéticas</td><td>Um novo programa de inteligência artificial desenvolvido por cientistas do Google DeepMind é capaz de prever se milhões de mutações genéticas presentes em nossa sequência de DNA que são inofensivas ou propensas a causar doenças no futuro. Batizada como AlphaM…</td><td>https://www.tecmundo.com.br/ciencia/271822-google-deepmind-nova-ferramenta-ia-preve-doencas-geneticas.htm</td><td>https://tm.ibxk.com.br/2023/09/20/20120248396161.jpg</td><td>2023-09-20T15:15:00Z</td><td>Um novo programa de inteligência artificial desenvolvido por cientistas do Google DeepMind é capaz de prever se milhões de mutações genéticas presentes em nossa sequência de DNA que são inofensivas o… [+2940 chars]</td></tr><tr><td>List(null, Olhardigital.com.br)</td><td>Alessandro Di Lorenzo</td><td>Estudo descobre novas características genéticas do Alzheimer</td><td>A descoberta, segundo os pesquisadores, pode contribuir para o desenvolvimento futuro de exames de sangue para a doença de Alzheimer\n",
       "O post Estudo descobre novas características genéticas do Alzheimer apareceu primeiro em Olhar Digital.</td><td>https://olhardigital.com.br/2023/09/07/medicina-e-saude/estudo-descobre-novas-caracteristicas-geneticas-do-alzheimer/</td><td>https://img.olhardigital.com.br/wp-content/uploads/2023/05/Alzheimer.jpg</td><td>2023-09-07T10:01:00Z</td><td>Pesquisadores da Universidade de Pittsburgh, nos Estados Unidos, analisaram milhares de genomas humanos para encontrar novas variaÃ§Ãµes genÃ©ticas responsÃ¡veis por controlar os nÃ­veis de molÃ©cula… [+2542 chars]</td></tr><tr><td>List(null, Sapo.pt)</td><td>Ana Sofia Neto</td><td>Cérebro artificial ajuda a perceber as origens genéticas do autismo</td><td>Uma nova técnica científica está a revelar as origens genéticas da perturbação do espetro do autismo (ou PEA) escondidas no nosso cérebro. O cérebro é curiosamente complexo e há muito sobre ele que ainda...</td><td>https://pplware.sapo.pt/ciencia/cerebro-artificial-ajuda-a-perceber-as-origens-geneticas-do-autismo/</td><td>https://pplware.sapo.pt/wp-content/uploads/2023/09/organoide_cerebral00.jpg</td><td>2023-09-24T13:00:25Z</td><td>Uma nova técnica científica está a revelar as origens genéticas da perturbação do espetro do autismo (ou PEA) escondidas no nosso cérebro.\r\n",
       "O cérebro é curiosamente complexo e há muito sobre ele que … [+3282 chars]</td></tr><tr><td>List(null, Tecmundo.com.br)</td><td>Jorge Marin</td><td>Miniórgãos descobertos em mamíferos podem gerar respostas autoimunes</td><td>Pesquisadores do Instituto Federal Suíço de Tecnologia de Zurique descobriram recentemente um tipo de organela que havia permanecido não caracterizada até agora nas células dos mamíferos. O “miniórgão”, batizado como exclusoma, é feito de anéis de DNA chamado…</td><td>https://www.tecmundo.com.br/ciencia/272244-miniorgaos-descobertos-mamiferos-gerar-respostas-autoimunes.htm</td><td>https://tm.ibxk.com.br/2023/10/02/02154244691267.jpg</td><td>2023-10-02T20:30:04Z</td><td>Pesquisadores do Instituto Federal Suíço de Tecnologia de Zurique descobriram recentemente um tipo de organela que havia permanecido não caracterizada até agora nas células dos mamíferos. O miniórgão… [+3134 chars]</td></tr><tr><td>List(null, Olhardigital.com.br)</td><td>Vitoria Lopes Gomez</td><td>Vacinas erradicaram doenças que, antes, matavam mais que guerras</td><td>Doenças como a poliomielite e a varíola, que mataram milhões no século passado, desapareceram graças às vacinas\n",
       "O post Vacinas erradicaram doenças que, antes, matavam mais que guerras apareceu primeiro em Olhar Digital.</td><td>https://olhardigital.com.br/2023/09/08/medicina-e-saude/vacinas-erradicaram-doencas-que-antes-matavam-mais-que-guerras/</td><td>https://img.olhardigital.com.br/wp-content/uploads/2023/07/vacina-e1692890816557.jpg</td><td>2023-09-08T20:30:20Z</td><td>NÃ£o Ã© incomum ouvir falar sobre a gravidade de doenÃ§as que hoje sequer nos lembramos. Ã o caso, por exemplo, da varÃ­ola e da poliomielite. Ambas mataram milhÃµes de pessoas no sÃ©culo passado, m… [+2308 chars]</td></tr><tr><td>List(null, Olhardigital.com.br)</td><td>Alessandro Di Lorenzo</td><td>IA brasileira é capaz de prever doenças com antecedência</td><td>A IA Dara pode coletar dados e realizar uma rápida varredura em todo o histórico médico do paciente, indicando riscos de saúde\n",
       "O post IA brasileira é capaz de prever doenças com antecedência apareceu primeiro em Olhar Digital.</td><td>https://olhardigital.com.br/2023/09/29/medicina-e-saude/ia-brasileira-e-capaz-de-prever-doencas-com-antecedencia/</td><td>https://proxy.olhardigital.com.br/wp-content/uploads/2023/09/iStock-1411998514.jpg</td><td>2023-09-29T21:04:45Z</td><td>Uma inteligÃªncia artificial desenvolvida por uma empresa brasileira pode ajudar a prevenir doenÃ§as como acidente vascular cerebral (AVC), infarto e diabetes, por exemplo. A Dara foi criada pela IPM… [+1959 chars]</td></tr><tr><td>List(null, Sapo.pt)</td><td>Rui Jorge</td><td>Cientistas adaptam a Realidade Virtual para utilização em consultas remotas</td><td>Os investigadores da Universidade de Canterbury criaram um headset de realidade virtual (RV) que poderá ser utilizado pelos médicos para realizar avaliações médicas de pacientes que vivem em zonas rurais, têm doenças infeciosas ou...</td><td>https://pplware.sapo.pt/high-tech/cientistas-adaptam-a-realidade-virtual-para-utilizacao-em-consultas-remotas/</td><td>https://pplware.sapo.pt/wp-content/uploads/2023/09/rv_medicina.jpg</td><td>2023-09-20T14:00:25Z</td><td>Os investigadores da Universidade de Canterbury criaram um headset de realidade virtual (RV) que poderá ser utilizado pelos médicos para realizar avaliações médicas de pacientes que vivem em zonas ru… [+3368 chars]</td></tr><tr><td>List(null, Olhardigital.com.br)</td><td>Flavia Correia</td><td>Bichos-da-seda transgênicos criam fibras mais resistentes do que tecido à prova de bala</td><td>Usando engenharia genética, cientistas inseriram genes de aranha em bichos-da-seda para produção de tecidos mais resistentes do que Kevlar\n",
       "O post Bichos-da-seda transgênicos criam fibras mais resistentes do que tecido à prova de bala apareceu primeiro em Olha…</td><td>https://olhardigital.com.br/2023/09/26/ciencia-e-espaco/bichos-da-seda-transgenicos-criam-fibras-mais-resistentes-do-que-tecido-a-prova-de-bala/</td><td>https://proxy.olhardigital.com.br/wp-content/uploads/2023/09/bicho-da-seda.jpg</td><td>2023-09-26T19:18:52Z</td><td>Cientistas utilizaram engenharia genÃ©tica para gerar bichos-da-seda capazes de produzir fibras mais resistentes do que o Kevlar, tambÃ©m chamado de poliaramida â material usado em coletes Ã  prova… [+3623 chars]</td></tr><tr><td>List(null, Olhardigital.com.br)</td><td>Alessandro Di Lorenzo</td><td>Estudo indica onde fica o lar original da humanidade</td><td>Pesquisadores criaram uma rede de quase 27 milhões de ancestrais, desenvolvendo uma gigantesca árvore genealógica da humanidade\n",
       "O post Estudo indica onde fica o lar original da humanidade apareceu primeiro em Olhar Digital.</td><td>https://olhardigital.com.br/2023/09/14/ciencia-e-espaco/estudo-indica-onde-fica-o-lar-original-da-humanidade/</td><td>https://img.olhardigital.com.br/wp-content/uploads/2022/03/deserto.jpg</td><td>2023-09-14T20:40:37Z</td><td>A histÃ³ria da humanidade Ã© marcada pelas migraÃ§Ãµes. Por milhares de anos, nossa espÃ©cie se deslocou pela Terra em busca de Ã¡gua, alimentos e tudo o que proporciona uma vida melhor. Mas existe u… [+2407 chars]</td></tr><tr><td>List(null, Olhardigital.com.br)</td><td>Alessandro Di Lorenzo</td><td>Segundo transplante com coração de porco para humano é feito com sucesso</td><td>O coração de porco transplantado tem 10 modificações genéticas para reduzir o risco de ser recusado pelo corpo do paciente\n",
       "O post Segundo transplante com coração de porco para humano é feito com sucesso apareceu primeiro em Olhar Digital.</td><td>https://olhardigital.com.br/2023/09/22/medicina-e-saude/segundo-transplante-com-coracao-de-porco-para-humano-e-feito-com-sucesso/</td><td>https://proxy.olhardigital.com.br/wp-content/uploads/2023/09/Transplante-1.jpg</td><td>2023-09-22T19:33:57Z</td><td>Pela segunda vez na histÃ³ria, cirurgiÃµes transplantaram o coraÃ§Ã£o de um porco em um homem na tentativa de prolongar sua vida. A operaÃ§Ã£o foi um sucesso e, dois dias depois, o paciente estava fa… [+2546 chars]</td></tr><tr><td>List(null, Olhardigital.com.br)</td><td>Mateus Dias</td><td>Cientistas encontram povo na África que acreditavam ter sumido</td><td>Apesar da língua da população estar deixando de existir, suas distinções genéticas continuam presente nos descendentes\n",
       "O post Cientistas encontram povo na África que acreditavam ter sumido apareceu primeiro em Olhar Digital.</td><td>https://olhardigital.com.br/2023/09/27/ciencia-e-espaco/cientistas-encontram-povo-na-africa-que-acreditavam-ter-sumido/</td><td>https://olhardigital.com.br/wp-content/uploads/2023/09/ultimos-faantes-do-Kwadi.webp</td><td>2023-09-27T19:34:40Z</td><td>A Ãfrica Austral abriga uma regiÃ£o conhecida como berÃ§o da humanidade, local onde os primeiros hominÃ­deos surgiram. Por causa disso, Ã© possÃ­vel encontrar a maior diversidade genÃ©tica humana po… [+2079 chars]</td></tr><tr><td>List(null, [Removed])</td><td>null</td><td>[Removed]</td><td>[Removed]</td><td>https://removed.com</td><td>null</td><td>1970-01-01T00:00:00Z</td><td>[Removed]</td></tr><tr><td>List(null, Tecmundo.com.br)</td><td>Jennifer Egues</td><td>Dara, a IA capaz de prever infartos e AVCs com dados do SUS</td><td>Nova inteligência artificial, desenvolvida pela empresa IPM Sistemas, uma GovTech brasileira, pode ser utilizada no serviço público de saúde, otimizando dados e gerando sinais de alerta para doenças como acidente vascular cerebral, infarto e previsões com até…</td><td>https://www.tecmundo.com.br/ciencia/272151-dara-ia-capaz-prever-infartos-avcs-dados-sus.htm</td><td>https://tm.ibxk.com.br/2023/09/28/28172505232225.jpg</td><td>2023-09-29T13:00:00Z</td><td>Nova inteligência artificial, desenvolvida pela empresa IPM Sistemas, uma GovTech brasileira, pode ser utilizada no serviço público de saúde, otimizando dados e gerando sinais de alerta para doenças … [+2737 chars]</td></tr><tr><td>List(null, Olhardigital.com.br)</td><td>Tamires Ferreira</td><td>‘Vacina inversa’ pode ser a chave para tratar doenças autoimunes; entenda</td><td>Ação do fármaco no sistema imunológico pode apagar a memória de ataque das moléculas\n",
       "O post ‘Vacina inversa’ pode ser a chave para tratar doenças autoimunes; entenda  apareceu primeiro em Olhar Digital.</td><td>https://olhardigital.com.br/2023/09/13/medicina-e-saude/vacina-inversa-pode-ser-a-chave-para-tratar-doencas-autoimunes-entenda/</td><td>https://img.olhardigital.com.br/wp-content/uploads/2023/09/doenca-autoimune.jpg</td><td>2023-09-13T17:37:31Z</td><td>Um novo tipo de vacina desenvolvida por pesquisadores da Escola Pritzker de Engenharia Molecular (PME)Â pode ser o novo tratamento mais promissor contra doenÃ§as autoimunes. Com uma proposta de aÃ§Ã£… [+2774 chars]</td></tr><tr><td>List(null, Olhardigital.com.br)</td><td>Alessandro Di Lorenzo</td><td>Google: pesquisadores fazem descoberta histórica sobre proteínas do corpo humano</td><td>Foram catalogadas 71 milhões de mutações e um terço delas poderia causar doenças. Apenas 4 milhões já eram conhecidas pela ciência\n",
       "O post Google: pesquisadores fazem descoberta histórica sobre proteínas do corpo humano apareceu primeiro em Olhar Digital.</td><td>https://olhardigital.com.br/2023/09/19/medicina-e-saude/google-pesquisadores-fazem-descoberta-historica-sobre-proteinas-do-corpo-humano/</td><td>https://proxy.olhardigital.com.br/wp-content/uploads/2023/09/Proteina-1.jpg</td><td>2023-09-19T19:46:08Z</td><td>Pesquisadores doÂ Google DeepMind, empresa de inteligÃªncia artificial da Alphabet, catalogaram 71 milhÃµes de mutaÃ§Ãµes em proteÃ­nas do corpo humano. Ao classificÃ¡-las, eles descobriram que um te… [+3867 chars]</td></tr><tr><td>List(null, [Removed])</td><td>null</td><td>[Removed]</td><td>[Removed]</td><td>https://removed.com</td><td>null</td><td>1970-01-01T00:00:00Z</td><td>[Removed]</td></tr><tr><td>List(null, [Removed])</td><td>null</td><td>[Removed]</td><td>[Removed]</td><td>https://removed.com</td><td>null</td><td>1970-01-01T00:00:00Z</td><td>[Removed]</td></tr><tr><td>List(null, Olhardigital.com.br)</td><td>Vitoria Lopes Gomez</td><td>Estudo mostra que vape (com ou sem nicotina) paralisa células imunológicas</td><td>Pesquisadores testaram e comprovaram que vapor do vape afeta o sistema imunológico, aumentando o risco de doenças respiratórias\n",
       "O post Estudo mostra que vape (com ou sem nicotina) paralisa células imunológicas apareceu primeiro em Olhar Digital.</td><td>https://olhardigital.com.br/2023/09/11/medicina-e-saude/estudo-mostra-que-vape-com-ou-sem-nicotina-paralisa-celulas-imunologicas/</td><td>https://img.olhardigital.com.br/wp-content/uploads/2023/09/vape-1.jpg</td><td>2023-09-11T19:11:30Z</td><td>O vape (ou cigarro eletrÃ´nico) ganhou terreno, especialmente entre os jovens. As fabricantes conseguiram popularizar o produto dizendo atÃ© que seria um âsubstitutoâ menos nocivo para quem queri… [+2051 chars]</td></tr><tr><td>List(null, Olhardigital.com.br)</td><td>Vitoria Lopes Gomez</td><td>Modelo matemático pode revolucionar tratamentos cardíacos</td><td>Através do simulador, cientistas poderão entender o funcionamento das doenças cardíacas no coração e, assim, achar novas formas de tratá-las\n",
       "O post Modelo matemático pode revolucionar tratamentos cardíacos apareceu primeiro em Olhar Digital.</td><td>https://olhardigital.com.br/2023/09/19/medicina-e-saude/modelo-matematico-pode-revolucionar-tratamentos-cardiacos/</td><td>https://proxy.olhardigital.com.br/wp-content/uploads/2022/10/coracao-humano.jpg</td><td>2023-09-19T07:55:00Z</td><td>Um estudo feito por pesquisadores da ItÃ¡lia mostrou que a matemÃ¡tica pode salvar vidas â e prevenir infartos. Os cientistas criaram um modelo matemÃ¡tico computacional do coraÃ§Ã£o para simular o… [+1772 chars]</td></tr><tr><td>List(null, Olhardigital.com.br)</td><td>Vitoria Lopes Gomez</td><td>Fiocruz: Covid-19 avança no Sudeste e Centro-Oeste</td><td>Alguns estados do Norte e Nordeste também tiveram alta nos casos de Covid-19 e de outras doenças respiratórias\n",
       "O post Fiocruz: Covid-19 avança no Sudeste e Centro-Oeste apareceu primeiro em Olhar Digital.</td><td>https://olhardigital.com.br/2023/09/20/medicina-e-saude/fiocruz-covid-19-avanca-no-sudeste-e-centro-oeste/</td><td>https://proxy.olhardigital.com.br/wp-content/uploads/2023/07/virus-covid-19.jpg</td><td>2023-09-20T18:58:26Z</td><td>A FundaÃ§Ã£o Oswaldo Cruz (Fiocruz) divulgou nesta quarta-feira (20) uma atualizaÃ§Ã£o do boletim InfoGripe, com dados de 10 a 16 de setembro. O novo relatÃ³rio mostra um aumento de casos de Covid-19… [+2167 chars]</td></tr><tr><td>List(null, Olhardigital.com.br)</td><td>Alessandro Di Lorenzo</td><td>Novo remédio imita prática de atividade física e pode reduzir peso</td><td>O remédio ainda está sendo testado em ratos, mas apresenta potencial para para tratar doenças como obesidade, diabetes e perda muscular\n",
       "O post Novo remédio imita prática de atividade física e pode reduzir peso apareceu primeiro em Olhar Digital.</td><td>https://olhardigital.com.br/2023/09/26/medicina-e-saude/novo-remedio-imita-pratica-de-atividade-fisica-e-pode-reduzir-peso/</td><td>https://proxy.olhardigital.com.br/wp-content/uploads/2023/09/OBESIDADE-1.jpg</td><td>2023-09-26T19:35:21Z</td><td>JÃ¡ imaginou tomar um remÃ©dio que garante os mesmos benefÃ­cios que a atividade fÃ­sica? Talvez isso nunca seja totalmente possÃ­vel, mas testes em ratos de um novo tipo de droga tÃªm se mostrado pr… [+3292 chars]</td></tr><tr><td>List(null, Olhardigital.com.br)</td><td>Alisson Santos</td><td>Autoridades de saúde dos EUA sugerem antibiótico para combater DSTs</td><td>Segundo autoridades, o medicamento deve servir como “pílula do dia seguinte” contra as doenças\n",
       "O post Autoridades de saúde dos EUA sugerem antibiótico para combater DSTs apareceu primeiro em Olhar Digital.</td><td>https://olhardigital.com.br/2023/10/03/medicina-e-saude/autoridades-de-saude-dos-eua-sugerem-antibiotico-para-combater-dsts/</td><td>https://proxy.olhardigital.com.br/wp-content/uploads/2023/09/Novos-antibioticos-1.jpg</td><td>2023-10-03T09:40:00Z</td><td>Autoridades de saÃºde dos Estados Unidos estÃ£o planejando apoiar o uso de antibiÃ³tico barato no combate as doenÃ§as sexualmente transmissÃ­veis (DSTs). Com os registros de contaminaÃ§Ã£o subindo em… [+1637 chars]</td></tr><tr><td>List(null, Tecmundo.com.br)</td><td>Lucas Vinicius Santos</td><td>Método quântico é capaz de curar câncer cerebral por meio de spray; entenda</td><td>De acordo com um estudo publicado na revista científica Nature Nanotechnology, uma equipe de cientistas ingleses conseguiu criar um método quântico por spray para curar um tipo de câncer cerebral. O estudo conduzido por pesquisadores Universidade de Nottingha…</td><td>https://www.tecmundo.com.br/ciencia/271666-metodo-quantico-capaz-curar-cancer-cerebral-meio-spray-entenda.htm</td><td>https://tm.ibxk.com.br/2023/09/15/15085246049017.jpg</td><td>2023-09-15T13:00:00Z</td><td>De acordo com um estudo publicado na revista científica Nature Nanotechnology, uma equipe de cientistas ingleses conseguiu criar um método quântico por spray para curar um tipo de câncer cerebral. O … [+2915 chars]</td></tr><tr><td>List(null, [Removed])</td><td>null</td><td>[Removed]</td><td>[Removed]</td><td>https://removed.com</td><td>null</td><td>1970-01-01T00:00:00Z</td><td>[Removed]</td></tr><tr><td>List(null, [Removed])</td><td>null</td><td>[Removed]</td><td>[Removed]</td><td>https://removed.com</td><td>null</td><td>1970-01-01T00:00:00Z</td><td>[Removed]</td></tr><tr><td>List(null, Observador.pt)</td><td>Ricardo Zorron</td><td>Tratar a obesidade com endoscopia, sem incisões? Sim, já é possível</td><td>Nos últimos cinco anos tem existido uma verdadeira revolução nas terapias endoscópicas que possibilitam um maior acesso a tratamentos para a obesidade, uma alternativa menos invasiva e sem incisões.</td><td>https://observador.pt/opiniao/tratar-a-obesidade-com-endoscopia-sem-incisoes-sim-ja-e-possivel/</td><td>https://wm.observador.pt/wm-op/wide-circle/https%3A%2F%2Fbordalo.observador.pt%2Fv2%2Frs%3Afill%3A900%2Fc%3A467%3A467%3Anowe%3A9%3A3%2Fq%3A86%2Fplain%2Fhttps%3A%2F%2Fs3.observador.pt%2Fwp-content%2Fuploads%2F2023%2F09%2F15111743%2Fwhatsapp-image-2023-09-12-at-164340.jpeg</td><td>2023-09-17T23:03:43Z</td><td>Através de uma abordagem minimamente invasiva, as técnicas endoscópicas desempenham um papel cada vez mais relevante no tratamento da obesidade, ajudando as pessoas a perder peso e a controlar doença… [+3854 chars]</td></tr><tr><td>List(null, [Removed])</td><td>null</td><td>[Removed]</td><td>[Removed]</td><td>https://removed.com</td><td>null</td><td>1970-01-01T00:00:00Z</td><td>[Removed]</td></tr><tr><td>List(null, Sapo.pt)</td><td>Marisa Pinto</td><td>Cão-robot com Raspberry Pi ensina espanhol a crianças surdas</td><td>É incrível a quantidade de tecnologia que nos dias que correm ajudam significativamente em áreas como a saúde, terapias, reabilitação, aprendizagem, entre outras. Nesse sentido, vamos hoje conhecer o Robins, um cão-robot com raspberry...</td><td>https://pplware.sapo.pt/gadgets/cao-robot-com-raspberry-pi-ensina-espanhol-a-criancas-surdas/</td><td>https://pplware.sapo.pt/wp-content/uploads/2023/09/cao-robot_0.jpg</td><td>2023-09-05T13:00:03Z</td><td>É incrível a quantidade de tecnologia que nos dias que correm ajudam significativamente em áreas como a saúde, terapias, reabilitação, aprendizagem, entre outras. Nesse sentido, vamos hoje conhecer o… [+1876 chars]</td></tr><tr><td>List(null, Www.tsf.pt)</td><td>Lusa</td><td>Morreu Ian Wilmut, \"pai\" da ovelha Dolly</td><td>O trabalho do especialista em embriologia foi considerado fundamental para a investigação que visa tratar doenças genéticas e degenerativas ajudando o corpo a reparar tecidos danificados.</td><td>https://www.tsf.pt/mundo/morreu-ian-wilmut-pai-da-ovelha-dolly-17006400.html</td><td>https://static.globalnoticias.pt/tsf/image.jpg?brand=TSF&type=generate&guid=d460562f-c697-4222-b4fd-8dc02af92e59&w=800&h=420&watermark=true&t=20230911191400</td><td>2023-09-11T18:14:00Z</td><td>O cientista afastou-se do meio académico em 2012 e em 2018 tornou público que tinha a doença de Parkinson\r\n",
       "© Naokazu Oinuma/AP (arquivo)\r\n",
       "O biólogo britânicoIan Wilmut, \"pai\" da ovelha Dolly, o prime… [+1949 chars]</td></tr><tr><td>List(null, Observador.pt)</td><td>Maria Raimundo</td><td>Boa nutrição é bom negócio</td><td>A personalização está a tornar-se fundamental na prevenção e gestão de doenças. Isto torna a nutrição personalizada e a medicina de precisão componentes essenciais na prevenção e gestão de doenças.</td><td>https://observador.pt/opiniao/boa-nutricao-e-bom-negocio/</td><td>https://wm.observador.pt/wm-op/wide-circle/https%3A%2F%2Fbordalo.observador.pt%2Fv2%2Frs%3Afill%3A900%2Fc%3A467%3A467%3Anowe%3A0%3A0%2Fq%3A86%2Fplain%2Fhttps%3A%2F%2Fs3.observador.pt%2Fwp-content%2Fuploads%2F2020%2F07%2F27203316%2Fmr_obs_467x467_acf_cropped.jpg</td><td>2023-09-11T23:09:08Z</td><td>A má nutrição está a desafiar quase todos os aspectos da nossa sociedade, contribuindo para problemas de saúde, desigualdades na saúde, no acesso à mesma, e nas despesas evitáveis com cuidados de saú… [+9116 chars]</td></tr><tr><td>List(null, Observador.pt)</td><td>Inês Capucho</td><td>DeepMind, da Google, desenvolve programa com Inteligência Artificial que prevê se mutações de ADN podem causar doenças</td><td>As previsões do programa AlphaMissense, desenvolvido pela DeepMind, sobre as chamadas mutações \"missense\" podem ajudar a acelerar a investigação e o diagnóstico de doenças raras.</td><td>https://observador.pt/2023/09/20/deepmind-da-google-desenvolve-programa-com-inteligencia-artificial-que-preve-se-mutacoes-de-adn-podem-causar-doencas/</td><td>https://wm.observador.pt/wm/obs/l/https%3A%2F%2Fbordalo.observador.pt%2Fv2%2Frs%3Afill%3A770%3A403%2Fc%3A3504%3A1973%3Anowe%3A0%3A532%2Fq%3A85%2Fplain%2Fhttps%3A%2F%2Fs3.observador.pt%2Fwp-content%2Fuploads%2F2022%2F02%2F24081421%2FGettyImages-90739363.jpg</td><td>2023-09-20T17:45:28Z</td><td>A DeepMind, detida pela Google, utilizou a Inteligência Artificial para identificar mutações de ADN que podem causar doenças. É através do programa AlphaMissense, desenvolvido por cientistas, que a e… [+1752 chars]</td></tr><tr><td>List(null, Abril.com.br)</td><td>Diogo Sponchiato</td><td>Nobel vai para descobertas que resultaram nas vacinas de RNA para Covid-19</td><td>Láurea em Medicina é concedida a dois pesquisadores pelos trabalhos que culminaram na nova geração de vacinas que ajudou a deter a pandemia</td><td>https://veja.abril.com.br/saude/nobel-de-medicina-2023-vacina-covid</td><td>https://veja.abril.com.br/wp-content/uploads/2023/10/490_envelhecer-vacina-gripe.png?w=680&h=453&crop=1</td><td>2023-10-02T09:59:49Z</td><td>O Prêmio Nobel de Fisiologia ou Medicina de 2023 reconhece dois pesquisadores por suas descobertas fundamentais que permitiram criar as primeiras vacinas de RNA da história, as mesmas que ajudaram a … [+2446 chars]</td></tr><tr><td>List(null, Abril.com.br)</td><td>Diogo Sponchiato</td><td>Do que falamos quando falamos em demência</td><td>Quadro que solapa a memória e outras habilidades cognitivas tem diversas causas, mas o Alzheimer é a principal delas</td><td>https://veja.abril.com.br/coluna/letra-de-medico/do-que-falamos-quando-falamos-em-demencia</td><td>https://veja.abril.com.br/wp-content/uploads/2023/09/envelhecer-cerebro.png?w=680&h=449&crop=1</td><td>2023-09-21T10:12:08Z</td><td>Demência é um diagnóstico clínico que indica a redução progressiva das capacidades cerebrais, levando à perda de autonomia e da qualidade de vida. Dentre múltiplas causas, a doença de Alzheimer é a m… [+3622 chars]</td></tr><tr><td>List(null, [Removed])</td><td>null</td><td>[Removed]</td><td>[Removed]</td><td>https://removed.com</td><td>null</td><td>1970-01-01T00:00:00Z</td><td>[Removed]</td></tr><tr><td>List(null, Abril.com.br)</td><td>Simone Blanes</td><td>MSD inicia última fase de estudo para comprimido que reduz colesterol ruim</td><td>Chamado de MK-0616, o remédio experimental inibe a ação de PCSK9. Se aprovado, será o primeiro comprimido oral dessa categoria</td><td>https://veja.abril.com.br/saude/msd-inicia-ultima-fase-de-estudo-para-comprimido-que-reduz-colesterol-ruim</td><td>https://veja.abril.com.br/wp-content/uploads/2016/05/estatina-remedio-colesterol-20121108-original.jpeg?quality=90&strip=info&w=620&h=349&crop=1</td><td>2023-09-04T18:03:54Z</td><td>A MSD iniciou um programa clínico de Fase 3 para um inibidor oral de PCSK9, avaliado para o tratamento de hipercolesterolemia, ou seja, a redução do colesterol da lipoproteína de baixa densidade (LDL… [+2295 chars]</td></tr><tr><td>List(null, Olhardigital.com.br)</td><td>Alessandro Di Lorenzo</td><td>Descoberta de pesquisadores da USP pode ajudar no combate ao câncer</td><td>Pesquisadores identificaram o mecanismo envolvido na replicação e reparo de DNA, o que pode ajudar no tratamento contra o câncer\n",
       "O post Descoberta de pesquisadores da USP pode ajudar no combate ao câncer apareceu primeiro em Olhar Digital.</td><td>https://olhardigital.com.br/2023/09/21/medicina-e-saude/descoberta-de-pesquisadores-da-usp-pode-ajudar-no-combate-ao-cancer/</td><td>https://proxy.olhardigital.com.br/wp-content/uploads/2023/05/Destaque-tratamento-cancer.jpg</td><td>2023-09-21T17:55:31Z</td><td>Uma descoberta de pesquisadores do Instituto de QuÃ­mica da USP e de duas universidades da Inglaterra pode auxiliar no combate a diferentes tipos de cÃ¢ncer. Os cientistas identificaram o mecanismo e… [+4889 chars]</td></tr><tr><td>List(null, Abril.com.br)</td><td>Paula Felix</td><td>Novo estudo com terapia inovadora contra câncer é autorizado pela Anvisa</td><td>Ensaio com células geneticamente modificadas, as CAR-T, será conduzido pela Fundação Hemocentro de Ribeirão Preto e Instituto Butantan</td><td>https://veja.abril.com.br/saude/novo-estudo-com-terapia-inovadora-contra-cancer-e-autorizado-pela-anvisa</td><td>https://veja.abril.com.br/wp-content/uploads/2017/11/cancer-car-t-terapia-17.jpg?quality=90&strip=info&w=680&h=453&crop=1</td><td>2023-09-26T23:12:38Z</td><td>A Agência Nacional de Vigilância Sanitária (Anvisa) autorizou nesta terça-feira, 26, um novo ensaio clínico nacional com CAR-T, terapia inovadora com células geneticamente modificadas que agem contra… [+2746 chars]</td></tr><tr><td>List(null, Terra.com.br)</td><td>Deutsche Welle</td><td>Por que você deve a sua vida a uns poucos humanos primitvos?</td><td>Análises genéticas apontam que quase todos os nossos ancestrais morreram em uma catástrofe ...</td><td>https://www.terra.com.br/noticias/por-que-voce-deve-a-sua-vida-a-uns-poucos-humanos-primitvos,4f56bf2b1e4ab45dbafda310e9294f1coffppy18.html</td><td>https://p2.trrsf.com/image/fget/cf/1200/630/middle/images.terra.com/2023/09/05/1696209846-58045134354.jpg</td><td>2023-09-05T18:08:14Z</td><td>Análises genéticas apontam que quase todos os nossos ancestrais morreram em uma catástrofe natural 900 mil anos atrás. Apenas 1.280 indivíduos teriam sobrevivido. Uma parte deles está em você.Imagine… [+4310 chars]</td></tr><tr><td>List(null, Googlediscovery.com)</td><td>Renê Fraga</td><td>Mark Zuckerberg anuncia IA generativa para curar todas as doenças</td><td>A Chan Zuckerberg Initiative (CZI), organização filantrópica fundada por Priscilla Chan e Mark Zuckerberg, anunciou um projeto inovador de inteligência</td><td>https://googlediscovery.com/2023/09/20/mark-zuckerberg-anuncia-ia-generativa-para-curar-todas-as-doencas/</td><td>https://cdn.googlediscovery.com/wp-content/uploads/chan-zuckerberg.jpg</td><td>2023-09-20T16:59:48Z</td><td>A Chan Zuckerberg Initiative (CZI), organização filantrópica fundada por Priscilla Chan e Mark Zuckerberg, anunciou um projeto inovador de inteligência artificial generativa. \r\n",
       "A iniciativa consiste … [+1695 chars]</td></tr><tr><td>List(null, Abril.com.br)</td><td>diego.valencia</td><td>Subir escadas pode reduzir o risco de doenças cardíacas em 20%, diz estudo</td><td>Pesquisadores analisaram repositório de informações sobre saúde e estilo de vida com dados de mais de 458 mil adultos no Reino Unido</td><td>https://veja.abril.com.br/saude/subir-escadas-pode-reduzir-o-risco-de-doencas-cardiacas-em-20-diz-estudo</td><td>https://veja.abril.com.br/wp-content/uploads/2017/04/esporte-corrida-escada-20150213-018.jpg?quality=90&strip=info&w=680&h=453&crop=1</td><td>2023-10-03T17:00:59Z</td><td>Odeia quando o elevador quebra? De fato, é um incômodo, mas subir lances de escada pode salvar sua vida, de acordo com um novo estudo da Universidade de Tulane, em Louisiana, nos Estados Unidos.\r\n",
       "Pes… [+1324 chars]</td></tr><tr><td>List(null, [Removed])</td><td>null</td><td>[Removed]</td><td>[Removed]</td><td>https://removed.com</td><td>null</td><td>1970-01-01T00:00:00Z</td><td>[Removed]</td></tr><tr><td>List(null, [Removed])</td><td>null</td><td>[Removed]</td><td>[Removed]</td><td>https://removed.com</td><td>null</td><td>1970-01-01T00:00:00Z</td><td>[Removed]</td></tr><tr><td>List(null, Abril.com.br)</td><td>Diogo Sponchiato</td><td>‘A saúde climática e a humana andam de mãos dadas’</td><td>Em entrevista exclusiva, CEO global da AstraZeneca expõe os desafios da sustentabilidade do sistema de saúde e por onde caminha o futuro da medicina</td><td>https://veja.abril.com.br/saude/a-saude-climatica-e-a-humana-andam-de-maos-dadas</td><td>https://veja.abril.com.br/wp-content/uploads/2023/09/AZ3087-BoD-Pascal-Soriot-2022.jpg?quality=90&strip=info&w=680&h=453&crop=1</td><td>2023-09-19T11:16:22Z</td><td>Não dá para falar sobre a sustentabilidade dos sistemas de saúde sem falar de outra sustentabilidade, a ambiental – e vice-versa. É o que defende o francês Pascal Soriot, CEO global da biofarmacêutic… [+14790 chars]</td></tr><tr><td>List(null, Abril.com.br)</td><td>Da Redação</td><td>Morre cientista que liderou criação de Dolly, o primeiro animal clonado</td><td>Feito gerou manchetes e debates éticos acalorados em 1996</td><td>https://veja.abril.com.br/mundo/morre-cientista-que-liderou-criacao-de-dolly-o-primeiro-animal-clonado</td><td>https://veja.abril.com.br/wp-content/uploads/2023/09/WhatsApp-Image-2023-09-11-at-15.46.58.jpeg?quality=90&strip=info&w=680&h=453&crop=1</td><td>2023-09-11T19:03:48Z</td><td>O cientista britânico Ian Wilmut, que liderou as pesquisas que resultaram na criação do primeiro animal clonado no mundo, a ovelha Dolly, morreu aos 79 anos no último domingo, 10. A morte foi anuncia… [+1984 chars]</td></tr><tr><td>List(null, Olhardigital.com.br)</td><td>Rodrigo Mozelli</td><td>Anvisa autoriza ensaio clínico com CAR-T Cell no Brasil para combater câncer</td><td>Estudo tem como objetivo avaliar a segurança e eficácia do tratamento em pacientes com leucemia linfoide aguda B e linfoma não-Hodgkin B\n",
       "O post Anvisa autoriza ensaio clínico com CAR-T Cell no Brasil para combater câncer apareceu primeiro em Olhar Digital.</td><td>https://olhardigital.com.br/2023/09/26/medicina-e-saude/anvisa-autoriza-ensaio-clinico-com-car-t-cell-no-brasil-para-combater-cancer/</td><td>https://proxy.olhardigital.com.br/wp-content/uploads/2023/09/cancer-2.jpg</td><td>2023-09-26T22:00:05Z</td><td>A FundaÃ§Ã£o Hemocentro de RibeirÃ£o Preto (FUNDHERP), em parceria com o Instituto Butantan, recebeu autorizaÃ§Ã£o da Anvisa para realizar ensaio clÃ­nico no Brasil com a tÃ©cnica CAR-T Cell, que uti… [+2904 chars]</td></tr><tr><td>List(null, [Removed])</td><td>null</td><td>[Removed]</td><td>[Removed]</td><td>https://removed.com</td><td>null</td><td>1970-01-01T00:00:00Z</td><td>[Removed]</td></tr><tr><td>List(null, B9.com.br)</td><td>Carlos Merigo</td><td>Johnson & Johnson atualiza identidade visual e abandona seu reconhecido logotipo caligráfico</td><td>A gigante da saúde, Johnson & Johnson, apresenta uma nova identidade visual. Abandona o reconhecido logotipo em caligrafia para simplificar a marca, buscando refletir sua evolução e foco em inovação. A cor vermelha também foi alterada. Por que isso é importan…</td><td>https://www.b9.com.br/164509/johnson-johnson-atualiza-identidade-visual-e-abandona-seu-reconhecido-logotipo-caligrafico/</td><td>https://assets.b9.com.br/wp-content/uploads/2023/09/JJ_Lobby01_HighRes-1280x677.jpg</td><td>2023-09-14T17:50:25Z</td><td>A gigante da saúde, Johnson &amp; Johnson, apresenta uma nova identidade visual. Abandona o reconhecido logotipo em caligrafia para simplificar a marca, buscando refletir sua evolução e foco em inova… [+1178 chars]</td></tr><tr><td>List(null, Melhoresdestinos.com.br)</td><td>Cleverson Lima</td><td>Minas Gerais! Resort all inclusive em Poços de Caldas com diárias a partir de R$ 677</td><td>Poços de Caldas, no Sul de Minas Gerais, oferece uma das melhores estâncias hidrominerais da América Latina, com águas minerais usadas em diversas terapias, clima montanhês da Serra da Mantiqueira, excelente culinária e charmosa arquitetura da década de 30.  …</td><td>https://www.melhoresdestinos.com.br/promocao/minas-pocos-caldas-resort</td><td>https://www.melhoresdestinos.com.br/wp-content/uploads/2021/06/cassino-resort-pocos-de-caldas-capa-2021-2.jpg</td><td>2023-09-23T12:00:04Z</td><td>Poços de Caldas, no Sul de Minas Gerais, oferece uma das melhores estâncias hidrominerais da América Latina, com águas minerais usadas em diversas terapias, clima montanhês da Serra da Mantiqueira, e… [+1409 chars]</td></tr><tr><td>List(null, Catracalivre.com.br)</td><td>Redação</td><td>Estudo diz que menopausa precoce aumento o risco de demência</td><td>Uma recente pesquisa realizada pela Universidade de Sherbrooke, no Canadá, revelou uma forte relação entre o início precoce da menopausa em mulheres e um</td><td>https://catracalivre.com.br/saude-bem-estar/estudo-diz-que-menopausa-precoce-aumento-o-risco-de-demencia/</td><td>https://catracalivre.com.br/cdn-cgi/image/f=auto,q=60,w=1200,h=638,fit=cover,format=jpeg/wp-content/uploads/2023/09/menopausa.jpg</td><td>2023-09-28T19:30:43Z</td><td>Uma recente pesquisa realizada pela Universidade de Sherbrooke, no Canadá, revelou uma forte relação entre o início precoce da menopausa em mulheres e um risco elevado de desenvolvimento de comorbida… [+1853 chars]</td></tr><tr><td>List(null, Megacurioso.com.br)</td><td>Vivian de Souza Campos</td><td>Superbactérias: como evitar a resistência aos antibióticos</td><td>Superbactérias, ou bactérias resistentes a antibióticos, são cepas microbianas que desenvolveram a capacidade de resistir a um ou mais antibióticos. Essa resistência pode ocorrer devido a mutações genéticas aleatórias, ou pode ser adquirida devido ao uso inad…</td><td>https://www.megacurioso.com.br//ciencia/127528-superbacterias-como-evitar-a-resistencia-aos-antibioticos.htm</td><td>https://mega.ibxk.com.br/2023/10/03/03152401766265.jpg?ims=600x</td><td>2023-10-03T19:00:00Z</td><td>Superbactérias, ou bactérias resistentes a antibióticos, são cepas microbianas que desenvolveram a capacidade de resistir a um ou mais antibióticos. Essa resistência pode ocorrer devido a mutações ge… [+3311 chars]</td></tr><tr><td>List(null, [Removed])</td><td>null</td><td>[Removed]</td><td>[Removed]</td><td>https://removed.com</td><td>null</td><td>1970-01-01T00:00:00Z</td><td>[Removed]</td></tr><tr><td>List(null, [Removed])</td><td>null</td><td>[Removed]</td><td>[Removed]</td><td>https://removed.com</td><td>null</td><td>1970-01-01T00:00:00Z</td><td>[Removed]</td></tr><tr><td>List(null, [Removed])</td><td>null</td><td>[Removed]</td><td>[Removed]</td><td>https://removed.com</td><td>null</td><td>1970-01-01T00:00:00Z</td><td>[Removed]</td></tr><tr><td>List(null, Terra.com.br)</td><td>Portal EdiCase</td><td>Entenda por que doenças vasculares podem aumentar no calor</td><td>Quando não cuidamos da saúde, os dias de calor torna-se um momento de alerta para o corpo, ...</td><td>https://www.terra.com.br/vida-e-estilo/saude/entenda-por-que-doencas-vasculares-podem-aumentar-no-calor,52723791eadd8bccd0bd285409f363b03cid3uve.html</td><td>https://p2.trrsf.com/image/fget/cf/1200/630/middle/images.terra.com/2023/09/22/1100783929-doencas-vasculares.jpeg</td><td>2023-09-22T22:02:23Z</td><td>Quando não cuidamos da saúde, os dias de calor torna-se um momento de alerta para o corpo, especialmente para aqueles que sofrem com problemas cardiovasculares. Isso porque, segundo dados da Sociedad… [+3207 chars]</td></tr><tr><td>List(null, Abril.com.br)</td><td>Da Redação</td><td>Medicina tecnológica para todos</td><td>Assim como a terapia CAR-T, existem inúmeras abordagens terapêuticas inovadoras em desenvolvimento em centros de pesquisa ao redor do planeta</td><td>https://veja.abril.com.br/coluna/coluna-claudio-lottenberg/medicina-tecnologica-para-todos</td><td>https://veja.abril.com.br/wp-content/uploads/2017/11/cancer-car-t-terapia-17.jpg?quality=90&strip=info&w=680&h=453&crop=1</td><td>2023-09-18T16:11:55Z</td><td>A terapia com células CAR-T é um dos tratamentos mais recentes e promissores no combate aos cânceres de sangue, como o linfoma e as leucemias agudas. Ele consiste na coleta de células de defesa do pa… [+3354 chars]</td></tr><tr><td>List(null, [Removed])</td><td>null</td><td>[Removed]</td><td>[Removed]</td><td>https://removed.com</td><td>null</td><td>1970-01-01T00:00:00Z</td><td>[Removed]</td></tr><tr><td>List(null, Terra.com.br)</td><td>Reuters</td><td>Belga Biobest compra empresa brasileira de soluções agrícolas naturais Biotrop em acordo de US$570 mi</td><td>A empresa belga de biocontrole de pragas e doenças e polinização natural para produção agrícola ...</td><td>https://www.terra.com.br/economia/dinheiro-em-acao/belga-biobest-compra-empresa-brasileira-de-solucoes-agricolas-naturais-biotrop-em-acordo-de-us570-mi,92e023c86a50c8325dbc0b2d6ca40870yybi9fsw.html</td><td>https://s1.trrsf.com/fe/zaz-mod-t360-icons/svg/logos/terra-16x9-borda.png</td><td>2023-09-07T18:50:26Z</td><td>A empresa belga de biocontrole de pragas e doenças e polinização natural para produção agrícola sustentável Biobest Group fechou acordo para adquirir a brasileira do mesmo ramo Biotrop, em um movimen… [+1927 chars]</td></tr><tr><td>List(null, Observador.pt)</td><td>Agência Lusa</td><td>Empresa da Covilhã deteta enzima que pode travar doença de Parkinson</td><td>Uma empresa sediada na Covilhã está a desenvolver uma molécula que produz stress oxidativo e que pode ser moldada às necessidades do doente, permitindo que permaneçam no primeiro estágio da doença.</td><td>https://observador.pt/2023/09/22/empresa-da-covilha-deteta-enzima-que-pode-travar-doenca-de-parkinson/</td><td>https://wm.observador.pt/wm/obs/l/https%3A%2F%2Fbordalo.observador.pt%2Fv2%2Frs%3Afill%3A770%3A403%2Fc%3A2000%3A1124%3Anowe%3A0%3A105%2Fq%3A85%2Fplain%2Fhttps%3A%2F%2Fs3.observador.pt%2Fwp-content%2Fuploads%2F2017%2F12%2F12161206%2F19081089.jpg</td><td>2023-09-22T10:33:53Z</td><td>Uma empresa com sede na Covilhã está na fase de conclusão dos testes pré-clínicos de uma enzima responsável por produzir stress oxidativo que pode ser moldada para níveis que permitam evitar a progre… [+3017 chars]</td></tr><tr><td>List(null, Sapo.pt)</td><td>Ana Sofia Neto</td><td>Mosquito que transmite dengue e zika aterrou em Lisboa pela primeira vez</td><td>Embora tenha sido detetada no norte de Portugal, em 2017, esta foi a primeira vez que a espécie de mosquitos aterrou em Lisboa. Há infeções que, a menos que viajemos, nos são muito distantes,...</td><td>https://pplware.sapo.pt/ciencia/mosquito-que-transmite-dengue-e-zika-aterrou-em-lisboa-pela-primeira-vez/</td><td>https://pplware.sapo.pt/wp-content/uploads/2023/09/Aedes-Albopictus_B00.jpg</td><td>2023-09-28T08:40:24Z</td><td>Embora tenha sido detetada no norte de Portugal, em 2017, esta foi a primeira vez que a espécie de mosquitos aterrou em Lisboa.\r\n",
       "Há infeções que, a menos que viajemos, nos são muito distantes, pois n… [+1448 chars]</td></tr><tr><td>List(null, Catracalivre.com.br)</td><td>Redação</td><td>Alimento comum na cozinha do brasileiro reduz risco de câncer, diz estudo</td><td>Comer bem é necessário não só para manter o corpo funcionando corretamente, mas também para prevenir uma série de doenças. É por isso que, ás vezes, nos</td><td>https://catracalivre.com.br/saude-bem-estar/alimento-comum-na-cozinha-do-brasileiro-reduz-risco-de-cancer-diz-estudo/</td><td>https://catracalivre.com.br/cdn-cgi/image/f=auto,q=60,w=1200,h=638,fit=cover,format=jpeg/wp-content/uploads/2023/09/istock-1635263915-1.jpg</td><td>2023-09-22T22:01:08Z</td><td>Comer bem é necessário não só para manter o corpo funcionando corretamente, mas também para prevenir uma série de doenças.\r\n",
       "É por isso que, ás vezes, nos deparamos com alimentos conhecidos como “supe… [+2233 chars]</td></tr><tr><td>List(null, Terra.com.br)</td><td>Reuters</td><td>CDC dos EUA endossa vacina da Pfizer contra doença sazonal para proteger bebês</td><td>O Centro de Controle e Prevenção de Doenças dos EUA (CDC, na sigla em inglês) endossou nesta ...</td><td>https://www.terra.com.br/noticias/mundo/cdc-dos-eua-endossa-vacina-da-pfizer-contra-doenca-sazonal-para-proteger-bebes,98c42c6c5c276e9a6307f08a293eb128a0g5s529.html</td><td>https://s1.trrsf.com/fe/zaz-mod-t360-icons/svg/logos/terra-16x9-borda.png</td><td>2023-09-23T00:17:36Z</td><td>O Centro de Controle e Prevenção de Doenças dos EUA (CDC, na sigla em inglês) endossou nesta sexta-feira a vacina da Pfizer contra o vírus sincicial respiratório (VSR) para mulheres que estão no terc… [+1370 chars]</td></tr><tr><td>List(null, Abril.com.br)</td><td>Paula Felix</td><td>A proteína capaz de manter a célula humana saudável por mais tempo</td><td>Estudo feito por pesquisadores brasileiros e australianos aponta caminhos para tratar doenças autoimunes e até câncer</td><td>https://veja.abril.com.br/saude/a-proteina-capaz-de-manter-celula-humana-saudavel-por-mais-tempo</td><td>https://veja.abril.com.br/wp-content/uploads/2023/09/Celulas-humanas-coxiella.jpg?quality=90&strip=info&w=680&h=453&crop=1</td><td>2023-09-11T14:45:31Z</td><td>Pesquisadores da Universidade de São Paulo (USP) e colaboradores da Austrália identificaram uma proteína bacteriana capaz de manter as células humanas saudáveis por mais tempo. A descoberta pode leva… [+5133 chars]</td></tr><tr><td>List(null, Olhardigital.com.br)</td><td>Alessandro Di Lorenzo</td><td>Árvore “congelada” no tempo por milhões de anos tem mistério revelado</td><td>Conhecida como \"fóssil vivo\", a árvore praticamente não sofreu alterações desde o tempo em que os dinossauros dominavam a Terra\n",
       "O post Árvore “congelada” no tempo por milhões de anos tem mistério revelado apareceu primeiro em Olhar Digital.</td><td>https://olhardigital.com.br/2023/09/15/ciencia-e-espaco/arvore-congelada-no-tempo-por-milhoes-de-anos-tem-misterio-revelado/</td><td>https://img.olhardigital.com.br/wp-content/uploads/2023/09/Pinheiro-1.jpg</td><td>2023-09-15T17:06:28Z</td><td>Cientistas da AustrÃ¡lia, Estados Unidos e ItÃ¡liaÂ decodificaram o genoma de uma rarÃ­ssima Ã¡rvore conhecida como âfÃ³ssil vivoâ. O pinheiroÂ Wollemi (Wollemia nobilis) foi descoberto em 1994 e… [+3199 chars]</td></tr><tr><td>List(null, Expresso.pt)</td><td>Expresso</td><td>Agendas mobilizadoras canalizam €480 milhões para transformar sector da saúde em três anos</td><td>Plano de Recuperação e de Resiliência é central no investimento que privados e Estado preveem canalizar para o desenvolvimento de terapias inovadoras, para doenças graves como o cancro, e em novas formas de combater a resistência aos antibióticos</td><td>https://expresso.pt/economia/empresas/2023-10-02-Agendas-mobilizadoras-canalizam-480-milhoes-para-transformar-sector-da-saude-em-tres-anos-17de87a9</td><td>https://images.impresa.pt/expresso/2023-06-28-laboratorio-deac6dc7/1.91x1?wm=true&outputFormat=jpeg</td><td>2023-10-02T14:56:57Z</td><td>O Plano de Recuperação e Resiliência (PRR) irá apoiar quatro agendas mobilizadoras da saúde, que durante os próximos três anos irão captar investimentos de cerca de 180 milhões de euros do setor priv… [+2989 chars]</td></tr><tr><td>List(null, BBC News)</td><td>https://www.facebook.com/bbcnews</td><td>Sensação de estar isolado do mundo é uma das grandes preocupações do século 21</td><td>Sensação de estar isolado do mundo é uma das grandes preocupações do século 21</td><td>https://www.bbc.com/portuguese/media-66843698</td><td>https://ichef.bbci.co.uk/news/1024/branded_portuguese/80CB/production/_131117923_mediaitem131117922.jpg</td><td>2023-09-18T10:24:06Z</td><td>Sensação de estar isolado do mundo é uma das grandes preocupações do século 21\r\n",
       "A solidão virou uma das grandes preocupações de saúde do século 21. \r\n",
       "Comparada ao cigarro e relacionada ao risco de do… [+343 chars]</td></tr><tr><td>List(null, [Removed])</td><td>null</td><td>[Removed]</td><td>[Removed]</td><td>https://removed.com</td><td>null</td><td>1970-01-01T00:00:00Z</td><td>[Removed]</td></tr><tr><td>List(null, Catracalivre.com.br)</td><td>Redação</td><td>Pesquisa indica composto encontrado nestes alimentos que pode prevenir câncer</td><td>Você sabia que diversas pesquisas ao longo dos anos têm apontado benefícios potenciais para a fisetina, um flavonoide com atividade antioxidante presente</td><td>https://catracalivre.com.br/saude-bem-estar/pesquisa-indica-composto-encontrado-nestes-alimentos-que-previne-cancer/</td><td>https://catracalivre.com.br/cdn-cgi/image/f=auto,q=60,w=1200,h=638,fit=cover,format=jpeg/wp-content/uploads/2023/09/istock-1325282418.jpg</td><td>2023-09-26T10:00:45Z</td><td>Você sabia que diversas pesquisas ao longo dos anos têm apontado benefícios potenciais para a fisetina, um flavonoide com atividade antioxidante presente em frutas e vegetais?\r\n",
       "Estudos epidemiológico… [+2817 chars]</td></tr><tr><td>List(null, Abril.com.br)</td><td>diego.valencia</td><td>O que a microbiota intestinal tem a ver com distúrbios neurológicos?</td><td>Revisão feita por pesquisadores da Unifesp inclui doenças como Alzheimer e Parkinson e transtornos psiquiátricos como depressão e ansiedade</td><td>https://veja.abril.com.br/saude/como-a-microbiota-influencia-disturbios-neurologicos-e-psiquiatricos</td><td>https://veja.abril.com.br/wp-content/uploads/2020/09/câncer-de-intestino.jpg?quality=90&strip=info&w=680&h=453&crop=1</td><td>2023-09-06T19:48:52Z</td><td>Há trilhões de microrganismos, incluindo bactérias, fungos e vírus, no interior do trato gastrointestinal conjunto que leva o nome de microbiota. É quase o mesmo número de células em um corpo humano.… [+3585 chars]</td></tr><tr><td>List(null, [Removed])</td><td>null</td><td>[Removed]</td><td>[Removed]</td><td>https://removed.com</td><td>null</td><td>1970-01-01T00:00:00Z</td><td>[Removed]</td></tr><tr><td>List(null, Terra.com.br)</td><td>Portal EdiCase</td><td>Entenda o que é a hipercifose e como tratar essa condição</td><td>A hipercifose, também conhecida popularmente como 'corcunda', trata-se de uma doença óssea ...</td><td>https://www.terra.com.br/vida-e-estilo/saude/entenda-o-que-e-a-hipercifose-e-como-tratar-essa-condicao,323d34d575b92837f1fad0d49bfe650b67beo2wl.html</td><td>https://p2.trrsf.com/image/fget/cf/1200/630/middle/images.terra.com/2023/10/02/638203844-coluna-dores.jpeg</td><td>2023-10-02T17:31:30Z</td><td>A hipercifose, também conhecida popularmente como 'corcunda', trata-se de uma doença óssea causada por um desvio corporal que, normalmente, faz com que as pessoas tenham uma curvatura na região torác… [+2694 chars]</td></tr><tr><td>List(null, Abril.com.br)</td><td>Paula Felix</td><td>OMS recomenda vacinas contra malária e dengue diante de onda de mosquitos</td><td>Entidade fez alerta sobre risco das doenças principalmente para crianças; Qdenga foi aprovada para uso no Brasil em março</td><td>https://veja.abril.com.br/saude/oms-recomenda-vacinas-contra-malaria-e-dengue-diante-de-onda-de-mosquitos</td><td>https://veja.abril.com.br/wp-content/uploads/2023/06/aedes_aegypti-dengue2.webp?w=680&h=453&crop=1</td><td>2023-10-02T22:47:48Z</td><td>Diante do aumento das doenças transmitidas por mosquitos em diferentes partes do mundo, a Organização Mundial da Saúde (OMS) divulgou nesta segunda-feira, 2, um comunicado recomendando a nova vacina … [+2768 chars]</td></tr><tr><td>List(null, Sapo.pt)</td><td>Rui Jorge</td><td>Poria o seu cérebro nas mãos da IA? Será uma realidade dentro de dois anos</td><td>Um importante neurocirurgião do Reino Unido afirmou que a cirurgia cerebral com recurso à inteligência artificial (IA) será possível dentro de dois anos, tornando-a mais segura e eficaz.   O governo britânico afirma que...</td><td>https://pplware.sapo.pt/inteligencia-artificial/poria-o-seu-cerebro-nas-maos-da-ia-sera-uma-realidade-dentro-de-dois-anos/</td><td>https://pplware.sapo.pt/wp-content/uploads/2022/01/cirurgia_robo00.jpg</td><td>2023-09-30T10:00:12Z</td><td>Um importante neurocirurgião do Reino Unido afirmou que a cirurgia cerebral com recurso à inteligência artificial (IA) será possível dentro de dois anos, tornando-a mais segura e eficaz.\r\n",
       "O governo b… [+2511 chars]</td></tr><tr><td>List(null, Olhardigital.com.br)</td><td>Nayra Teles</td><td>USP: terapia celular pode reduzir mortes por Covid-19</td><td>Pesquisadores da Universidade de São Paulo (USP) descobriram que a terapia celular pode reduzir em 60% o risco de morte por COVID-19\n",
       "O post USP: terapia celular pode reduzir mortes por Covid-19 apareceu primeiro em Olhar Digital.</td><td>https://olhardigital.com.br/2023/09/19/medicina-e-saude/usp-terapia-celular-pode-reduzir-mortes-por-covid-19/</td><td>https://proxy.olhardigital.com.br/wp-content/uploads/2023/09/terapia-celular.png</td><td>2023-09-19T21:03:20Z</td><td>A terapia celular, bastante utilizada em tratamentos contra o cÃ¢ncer, tem grande potencial contra a Covid-19. Ã o que aponta a revisÃ£o sistemÃ¡tica e meta-anÃ¡lise realizada por pesquisadores da U… [+4229 chars]</td></tr><tr><td>List(null, Terra.com.br)</td><td>Porto Alegre 24 horas</td><td>HCPA busca voluntários para estudo clínico que avalia medicamento experimental para o COVID-19</td><td>Hospital de Clínicas está com inscrições abertas para adultos acima de 18 (dezoito) anos portadores de doenças crônicas como, por exemplo, diabetes, obesidade, hipertensão ou doenças cardiovasculares, que testaram positivo para COVID-19 nos últimos três dias …</td><td>https://www.terra.com.br/noticias/hcpa-busca-voluntarios-para-estudo-clinico-que-avalia-medicamento-experimental-para-o-covid-19,6ce0dbd8c3d6c7770745a34adf194601wibvrrif.html</td><td>https://p2.trrsf.com/image/fget/cf/1200/630/middle/images.terra.com/2023/09/20/717673475-fachada2-1536x1021-1.jpg</td><td>2023-09-20T15:41:12Z</td><td>O Hospital de Clínicas de Porto Alegre ainda está com vagas abertas para voluntários que queiram colaborar com o SCORPIO-HR, um estudo clínico global de Fase 3 com pacientes não hospitalizados e sint… [+3502 chars]</td></tr><tr><td>List(null, [Removed])</td><td>null</td><td>[Removed]</td><td>[Removed]</td><td>https://removed.com</td><td>null</td><td>1970-01-01T00:00:00Z</td><td>[Removed]</td></tr><tr><td>List(null, [Removed])</td><td>null</td><td>[Removed]</td><td>[Removed]</td><td>https://removed.com</td><td>null</td><td>1970-01-01T00:00:00Z</td><td>[Removed]</td></tr><tr><td>List(null, Olhardigital.com.br)</td><td>Alessandro Di Lorenzo</td><td>Novo vírus é descoberto nas profundezas da Fossa das Marianas</td><td>Bacteriófago, um tipo de vírus que infecta e se replica dentro de bactérias, foi localizado a uma profundidade de 8.900 metros\n",
       "O post Novo vírus é descoberto nas profundezas da Fossa das Marianas apareceu primeiro em Olhar Digital.</td><td>https://olhardigital.com.br/2023/09/21/ciencia-e-espaco/novo-virus-e-descoberto-nas-profundezas-da-fossa-das-marianas/</td><td>https://proxy.olhardigital.com.br/wp-content/uploads/2023/09/Fossa-das-marianas-1.jpg</td><td>2023-09-21T20:26:34Z</td><td>Segundo dados da AdministraÃ§Ã£o Nacional OceÃ¢nica e AtmosfÃ©rica dos Estados Unidos,apenas cerca de 20% do fundo do mar foi mapeado atÃ© hoje. Uma descoberta de uma equipe internacional de pesquisa… [+2809 chars]</td></tr><tr><td>List(null, Jovemnerd.com.br)</td><td>Pedro Siqueira</td><td>Netflix põe camisinha em monumento para divulgação dura de Sex Education</td><td>Streaming elevou o marketing a um novo nível para a temporada final da série\n",
       "The post Netflix põe camisinha em monumento para divulgação dura de Sex Education appeared first on Jovem Nerd.</td><td>https://jovemnerd.com.br/nerdbunker/netflix-camisinha-gigante-sex-education/</td><td>https://uploads.jovemnerd.com.br/wp-content/uploads/2023/09/netflix_sex_education_obelisco__25030n3ow.jpg</td><td>2023-09-23T15:07:35Z</td><td>A divulgação da temporada final de Sex Education está duríssima. Tanto que a Netflix colocou uma CAMISINHA GIGANTE no Obelisco, um dos maiores monumentos da Argentina, num vídeo promocional que vem c… [+897 chars]</td></tr><tr><td>List(null, Abril.com.br)</td><td>Paula Felix</td><td>Injeção semanal para deficiência de hormônio do crescimento é liberada</td><td>Medicação para crianças e adultos reduz em 85% o número de aplicações por ano; preço não foi definido e lançamento no Brasil ainda será anunciado</td><td>https://veja.abril.com.br/saude/injecao-semanal-para-deficiencia-de-hormonio-do-crescimento-e-liberada</td><td>https://veja.abril.com.br/wp-content/uploads/2016/05/alx_465382081_original1.jpeg?quality=90&strip=info&w=680&h=453&crop=1</td><td>2023-09-25T21:40:54Z</td><td>Uma nova opção de tratamento para crianças e adultos com deficiência do hormônio do crescimento (GH) com aplicação subcutânea semanal, por meio de uma “caneta”, foi liberada no Brasil nesta segunda-f… [+2629 chars]</td></tr><tr><td>List(null, Terra.com.br)</td><td>Sport Life</td><td>Abacate emagrece? Descubra 14 benefícios secretos da fruta</td><td>Abacate emagrece ou engorda? Essa dúvida é comum em pessoas que são fãs do sabor da fruta. Por ...</td><td>https://www.terra.com.br/vida-e-estilo/abacate-emagrece-descubra-14-beneficios-secretos-da-fruta,1079792ed39d3e3303fdd4fd29d5b3d3tj80nanf.html</td><td>https://p2.trrsf.com/image/fget/cf/1200/630/middle/images.terra.com/2023/09/07/392743629-shutterstock785296315-1.jpg</td><td>2023-09-07T19:02:17Z</td><td>Abacate emagrece ou engorda? Essa dúvida é comum em pessoas que são fãs do sabor da fruta. Por ser um alimento natural, muitos acreditam que o abacate ajuda a emagrecer. Por outro lado, os altos níve… [+4997 chars]</td></tr><tr><td>List(null, [Removed])</td><td>null</td><td>[Removed]</td><td>[Removed]</td><td>https://removed.com</td><td>null</td><td>1970-01-01T00:00:00Z</td><td>[Removed]</td></tr><tr><td>List(null, Uol.com.br)</td><td>null</td><td>null</td><td>A molécula sintetiza o conjunto de proteínas que um organismo necessita para viver</td><td>https://www1.folha.uol.com.br/ciencia/2023/09/rna-de-tigre-da-tasmania-extinto-e-recuperado-pela-primeira-vez.shtml</td><td>https://f.i.uol.com.br/fotografia/2023/09/19/1695178196650a5dd469a9a_1695178196_3x2_rt.jpg</td><td>2023-09-20T10:50:04Z</td><td>O tigre-da-tasmânia, um marsupial carnívoro listrado do tamanho de um cachorro, também chamado de tilacino, era um predador de ponta que caçava cangurus e outras presas e já vagou pelo território con… [+2149 chars]</td></tr><tr><td>List(null, Catracalivre.com.br)</td><td>Redação</td><td>Saiba quais atividades físicas reduzem risco de 9 tipos de câncer</td><td>A aptidão cardiorrespiratória, responsável pela capacidade de executar atividades físicas aeróbicos prolongados, pode ser a chave para a prevenção de</td><td>https://catracalivre.com.br/saude-bem-estar/saiba-quais-atividades-fisicas-reduzem-risco-de-9-tipos-de-cancer/</td><td>https://catracalivre.com.br/cdn-cgi/image/f=auto,q=60,w=1200,h=638,fit=cover,format=jpeg/wp-content/uploads/2023/08/istock-1168199832.jpg</td><td>2023-09-11T02:30:05Z</td><td>A aptidão cardiorrespiratória, responsável pela capacidade de executar atividades físicas aeróbicos prolongados, pode ser a chave para a prevenção de diversos tipos de câncer. Um estudo recente, publ… [+2947 chars]</td></tr><tr><td>List(null, [Removed])</td><td>null</td><td>[Removed]</td><td>[Removed]</td><td>https://removed.com</td><td>null</td><td>1970-01-01T00:00:00Z</td><td>[Removed]</td></tr><tr><td>List(null, Uol.com.br)</td><td>null</td><td>null</td><td>Cálculo biliar bovino, chamado de pedra de fel, é usado na medicina oriental para tratar doenças respiratórias</td><td>https://www1.folha.uol.com.br/mercado/2023/09/criminosos-roubam-r-2-milhoes-em-pedras-de-boi-no-interior-de-sp.shtml</td><td>https://f.i.uol.com.br/fotografia/2023/09/21/1695325609650c9da9b56df_1695325609_3x2_lg.jpg</td><td>2023-09-22T00:51:36Z</td><td>Três homensassaltaram uma empresa de exportação no interior de São Paulo e levaram 2,7 quilos de cálculo biliar bovino, também conhecido como pedra de fel, avaliado em R$ 2 milhões, segundo a Delegac… [+1877 chars]</td></tr><tr><td>List(null, Observador.pt)</td><td>Agência Lusa</td><td>Idosos vítimas de maus tratos apresentam mais doença física e mental</td><td>Dados \"assustadores\" de um estudo português revelam que os idosos que sofrem violência intra-familiar ou de cuidadores \"são muito mais doentes, têm muitas mais patologias do que a restante população\".</td><td>https://observador.pt/2023/09/29/idosos-vitimas-de-maus-tratos-apresentam-mais-doenca-fisica-e-mental/</td><td>https://wm.observador.pt/wm/obs/l/https%3A%2F%2Fbordalo.observador.pt%2Fv2%2Frs%3Afill%3A770%3A403%2Fc%3A2121%3A1192%3Anowe%3A0%3A111%2Fq%3A85%2Fplain%2Fhttps%3A%2F%2Fs3.observador.pt%2Fwp-content%2Fuploads%2F2022%2F02%2F09214115%2FGettyImages-1290458362.jpg</td><td>2023-09-29T09:52:20Z</td><td>Um estudo da Faculdade de Medicina da Universidade do Porto (FMUP) revelou que os idosos vítimas de maus tratos apresentam mais doença física e mental, algo “assustador” que para os investigadores de… [+3910 chars]</td></tr><tr><td>List(null, Tecmundo.com.br)</td><td>Fabio Dominski</td><td>Atividade física no trabalho faz bem?</td><td>Este texto foi escrito por um colunista do TecMundo; saiba mais no final.\"Eu me movimento bastante no trabalho, não preciso de exercícios”, já ouviu alguém falar isso? Essa pessoa provavelmente tem uma alta demanda energética em seu trabalho e acredita que is…</td><td>https://www.tecmundo.com.br/ciencia/271824-atividade-fisica-trabalho.htm</td><td>https://tm.ibxk.com.br/2023/09/20/20121343539166.jpg</td><td>2023-09-20T17:00:00Z</td><td>Este texto foi escrito por um colunista do TecMundo; saiba mais no final.\r\n",
       "\"Eu me movimento bastante no trabalho, não preciso de exercícios, já ouviu alguém falar isso? Essa pessoa provavelmente tem … [+5260 chars]</td></tr><tr><td>List(null, Tecmundo.com.br)</td><td>Jennifer Egues</td><td>SUS Digital: uso inteligência artificial pode melhorar a saúde pública?</td><td>O Ministério da Saúde estuda implementar ferramentas de Inteligência Artificial (IA) no Sistema Único de Saúde, objetivando melhorar o atendimento, agilizando processos e estendo atendimento a regiões de difícil acesso físico.Para a pasta, a implementação da …</td><td>https://www.tecmundo.com.br/ciencia/267730-sus-digital-uso-inteligencia-artificial-melhorar-saude-publica.htm</td><td>https://tm.ibxk.com.br/2023/08/18/18144410198207.jpg</td><td>2023-09-04T14:30:01Z</td><td>O Ministério da Saúde estuda implementar ferramentas de Inteligência Artificial (IA) no Sistema Único de Saúde, objetivando melhorar o atendimento, agilizando processos e estendo atendimento a regiõe… [+5930 chars]</td></tr><tr><td>List(null, Sapo.pt)</td><td>Ana Sofia Neto</td><td>Afinal, o açúcar prejudica ou não a saúde?</td><td>O açúcar está em tantos alimentos que, certamente, surpreender-se-ia com alguns deles. Mas, assim sendo, será assim tão prejudicial? É um tema complexo, como muitos deles na nutrição, e parece ser pouco claro para...</td><td>https://pplware.sapo.pt/ciencia/afinal-o-acucar-prejudica-ou-nao-a-saude/</td><td>https://pplware.sapo.pt/wp-content/uploads/2023/09/bolo00.jpg</td><td>2023-09-15T20:00:17Z</td><td>O açúcar está em tantos alimentos que, certamente, surpreender-se-ia com alguns deles. Mas, assim sendo, será assim tão prejudicial?\r\n",
       "É um tema complexo, como muitos deles na nutrição, e parece ser p… [+3659 chars]</td></tr><tr><td>List(null, Observador.pt)</td><td>Observador</td><td>Descoberta nova célula no cérebro que pode ajudar a estudar o Alzheimer</td><td>Novo estudo revela a existência de uma nova célula, que pode ajudar a explicar o desenvolvimento de doenças neurodegenerativas e a localizar \"potenciais alvos terapêuticos\".</td><td>https://observador.pt/2023/09/06/descoberta-nova-celula-no-cerebro-que-pode-ajudar-a-estudar-o-alzheimer/</td><td>https://wm.observador.pt/wm/obs/l/https%3A%2F%2Fbordalo.observador.pt%2Fv2%2Frs%3Afill%3A770%3A403%2Fc%3A3543%3A1993%3Anowe%3A0%3A131%2Fq%3A85%2Fplain%2Fhttps%3A%2F%2Fs3.observador.pt%2Fwp-content%2Fuploads%2F2023%2F09%2F06184926%2Fgettyimages-1487034049.jpg</td><td>2023-09-06T18:08:06Z</td><td>A cada três segundos, há uma pessoa no mundo a desenvolver demência. Em 2020, os dados recolhidos pelo Alzheimer’s Disease International (ADI) mostravam que havia mais de 55 milhões de pessoas a vive… [+2235 chars]</td></tr><tr><td>List(null, Observador.pt)</td><td>Inês André Figueiredo</td><td>Mosquito que transmite dengue e zika detetado em Lisboa pela primeira vez</td><td>DGS reforçou a vigilância entomológica e epidemiológica, mas garantiu que não foram identificados nestes mosquitos quaisquer agentes de doenças que possam ser transmitidas às pessoas.</td><td>https://observador.pt/2023/09/27/mosquito-que-transmite-dengue-e-zika-detetado-em-lisboa-pela-primeira-vez/</td><td>https://wm.observador.pt/wm/obs/l/https%3A%2F%2Fbordalo.observador.pt%2Fv2%2Frs%3Afill%3A770%3A403%2Fc%3A1998%3A1126%3Anowe%3A0%3A100%2Fq%3A85%2Fplain%2Fhttps%3A%2F%2Fs3.observador.pt%2Fwp-content%2Fuploads%2F2019%2F04%2F15200407%2F20319704.jpg</td><td>2023-09-27T16:25:37Z</td><td>A Direção-Geral de Saúde (DGS) revelou que a espécie de mosquitos Aedes albopictus foi identificada pela primeira vez em Lisboa e alertou que este mosquito pode transmitir doenças como chikungunya, d… [+1110 chars]</td></tr><tr><td>List(null, Observador.pt)</td><td>Carolina Sobral</td><td>Cientistas criam modelo de embrião sem espermatozoide, óvulo ou útero. É o primeiro que imita em completo um embrião humano</td><td>Modelo foi desenvolvido a partir de células estaminais que se organizaram em estruturas que imitam a organização 3D de um embrião real com 14 dias. O modelo deu positivo num teste de gravidez.</td><td>https://observador.pt/2023/09/06/cientistas-criam-modelo-de-embriao-sem-espermatozoide-ovulo-ou-utero-e-o-primeiro-que-imita-em-completo-um-embriao-humano/</td><td>https://wm.observador.pt/wm/obs/l/https%3A%2F%2Fbordalo.observador.pt%2Fv2%2Frs%3Afill%3A770%3A403%2Fc%3A2000%3A1124%3Anowe%3A0%3A104%2Fq%3A85%2Fplain%2Fhttps%3A%2F%2Fs3.observador.pt%2Fwp-content%2Fuploads%2F2019%2F02%2F28085820%2Fistock-904268950.jpg</td><td>2023-09-06T16:31:46Z</td><td>Sem recurso a espermatozoide, óvulos ou um útero, cientistas criaram pela primeira vez um modelo de embriões humanos que imita de forma completa todas as características conhecidas num embrião real. … [+1946 chars]</td></tr><tr><td>List(null, Observador.pt)</td><td>Sofia Teixeira</td><td>Que ondas cerebrais são estas?</td><td>O cérebro emite misteriosos padrões de atividade que estão alterados em doentes  com doenças neurológicas ou psiquiátricas. Na Universidade do Minho, Joana Cabral tenta conhecer melhor estes sinais.</td><td>https://observador.pt/2023/09/25/que-ondas-cerebrais-sao-estas/</td><td>https://wm.observador.pt/wm/obs/l/https%3A%2F%2Fbordalo.observador.pt%2Fv2%2Frs%3Afill%3A770%3A403%2Fc%3A3200%3A1796%3Anowe%3A0%3A340%2Fq%3A85%2Fplain%2Fhttps%3A%2F%2Fs3.observador.pt%2Fwp-content%2Fuploads%2F2023%2F09%2F25012852%2F0-20230807-goncalo-villaverde-0205.jpg</td><td>2023-09-25T13:49:21Z</td><td>Uma iniciativa\r\n",
       "Há momentos em que o cérebro de Joana Cabral parece um carro de Fórmula Um: é muito difícil de acompanhar quando acelera a fundo. Salta de raciocínio em raciocínio, estabelece pontes … [+12097 chars]</td></tr><tr><td>List(null, Terra.com.br)</td><td>Elas no Tapete Vermelho</td><td>VMA 2023: Anitta repete grife de 2022 e elege look Schiaparelli</td><td>A Schiaparelli tem em seu DNA o surrealismo. Fato esse que agrada em cheio famosas, como Anitta, ...</td><td>https://www.terra.com.br/vida-e-estilo/autocuidado/moda/vma-2023-anitta-repete-grife-de-2022-e-elege-look-schiaparelli,fee499f8c205c826421124c9561fae83mmokijah.html</td><td>https://p2.trrsf.com/image/fget/cf/1200/630/middle/images.terra.com/2023/09/12/1728798519-37802777434786638823962214802485532612152661n-e1694562071640.jpg</td><td>2023-09-12T23:48:05Z</td><td>A Schiaparelli tem em seu DNA o surrealismo. Fato esse que agrada em cheio famosas, como Anitta, que pelo segundo ano consecutivo elegeu a grife francesa para cruzar o tapete vermelho do VMA (Video M… [+1146 chars]</td></tr><tr><td>List(null, Pragmatismopolitico.com.br)</td><td>Redação</td><td>Benefícios das substâncias encontradas no vinho: uma análise científica</td><td>É importante ter cuidado ao consumi-lo e sempre respeitar as contraindicações e limites recomendados. É possível encontrar de forma acessível bons vinhos no mercado, mas é fundamental ter consciência dos riscos e sempre consumir com moderação\n",
       "O post Benefício…</td><td>https://www.pragmatismopolitico.com.br/2023/10/beneficios-substancias-encontradas-vinho-analise-cientifica.html</td><td>https://www.pragmatismopolitico.com.br/wp-content/uploads/2023/10/beneficios-substancias-encontradas-vinho-analise-cientifica.jpg</td><td>2023-10-02T11:30:18Z</td><td>É importante ter cuidado ao consumi-lo e sempre respeitar as contraindicações e limites recomendados. É possível encontrar de forma acessível bons vinhos no mercado, mas é fundamental ter consciência… [+22678 chars]</td></tr><tr><td>List(null, Olhardigital.com.br)</td><td>Alessandro Di Lorenzo</td><td>EUA: vacina experimental contra HIV será testada em humanos</td><td>No total, 95 participantes serão divididos em grupos, com três deles recebendo dosagens diferentes da vacina contra o HIV\n",
       "O post EUA: vacina experimental contra HIV será testada em humanos apareceu primeiro em Olhar Digital.</td><td>https://olhardigital.com.br/2023/09/22/medicina-e-saude/eua-vacina-experimental-contra-hiv-sera-testada-em-humanos/</td><td>https://proxy.olhardigital.com.br/wp-content/uploads/2022/03/HIV-capa.jpg</td><td>2023-09-22T14:46:06Z</td><td>A empresa Vir Biotechnology anunciou o inÃ­cio dos testes em humanos de uma vacina experimental contra o HIV. A companhia norte-americana disse que espera ter os dados iniciais dos trabalhos de fase … [+2542 chars]</td></tr><tr><td>List(null, Olhardigital.com.br)</td><td>Lucas Gabriel Machado Henriques</td><td>Como a inteligência artificial pode ajudar na saúde mental</td><td>Entenda como a inteligência artificial pode ser usada para auxiliar no combate aos transtornos psicológicos e ajudar na saúde mental\n",
       "O post Como a inteligência artificial pode ajudar na saúde mental apareceu primeiro em Olhar Digital.</td><td>https://olhardigital.com.br/2023/09/11/medicina-e-saude/como-a-inteligencia-artificial-pode-ajudar-na-saude-mental/</td><td>https://img.olhardigital.com.br/wp-content/uploads/2023/09/capa-1.jpg</td><td>2023-09-11T15:33:19Z</td><td>Com a crescente utilizaÃ§Ã£o da inteligÃªncia artificial em diversos setores da indÃºstria e da sociedade, muitas tÃ©cnicas que usam essa tecnologia surgiram para melhorar o dia a dia das pessoas, au… [+2927 chars]</td></tr><tr><td>List(null, Olhardigital.com.br)</td><td>Pedro Borges Spadoni</td><td>Imunologista vence prêmio de inovação por tratamento contra câncer</td><td>O imunologista Michel Sadelain levou o prêmio Breakthrough por seu trabalho pioneiro na terapia com células CAR-T para câncer\n",
       "O post Imunologista vence prêmio de inovação por tratamento contra câncer apareceu primeiro em Olhar Digital.</td><td>https://olhardigital.com.br/2023/09/14/medicina-e-saude/imunologista-vence-premio-de-inovacao-por-tratamento-contra-cancer/</td><td>https://img.olhardigital.com.br/wp-content/uploads/2023/09/Destaque-Michel-Sadelain-imunologista-cancer.jpg</td><td>2023-09-15T01:08:01Z</td><td>O imunologista francÃªs-canadense Michel Sadelain venceu o prestigiado prÃªmio Breakthrough nesta quinta-feira (14) por seu trabalho pioneiro na terapia com cÃ©lulas CAR-T â uma nova forma de trata… [+3677 chars]</td></tr><tr><td>List(null, Olhardigital.com.br)</td><td>Lucas Soares</td><td>Alienígenas do México são reais? Entenda a polêmica</td><td>Nesta quarta-feira (13) o mundo a ufologia foi surpreendido com uma apresentação no congresso mexicano onde um ufólogo mostrou supostos cadáveres de alienígenas. Pelo histórico polêmico do pesquisador, a notícia já foi encarada com ceticismo. De acordo com o …</td><td>https://olhardigital.com.br/2023/09/14/ciencia-e-espaco/alienigenas-do-mexico-sao-reais-entenda-a-polemica/</td><td>https://img.olhardigital.com.br/wp-content/uploads/2023/09/alienigenas-mexico.jpg</td><td>2023-09-14T16:03:07Z</td><td>Nesta quarta-feira (13) o mundo a ufologia foi surpreendido com uma apresentaÃ§Ã£o no congresso mexicano onde um ufÃ³logo mostrou supostos cadÃ¡veres de alienÃ­genas. Pelo histÃ³rico polÃªmico do pes… [+2991 chars]</td></tr><tr><td>List(null, Olhardigital.com.br)</td><td>Mateus Dias</td><td>Ufólogo de supostos aliens do México já foi desmascarado outras vezes</td><td>Jaime Maussan apresentou no México restos mortais de alienígenas, no entanto, toda essa historia pode ser mentira\n",
       "O post Ufólogo de supostos aliens do México já foi desmascarado outras vezes apareceu primeiro em Olhar Digital.</td><td>https://olhardigital.com.br/2023/09/14/ciencia-e-espaco/ufologo-de-supostos-aliens-do-mexico-ja-foi-desmascarado-outras-vezes/</td><td>https://img.olhardigital.com.br/wp-content/uploads/2023/09/Jaime-Maussan.jpg</td><td>2023-09-14T20:07:00Z</td><td>Na terÃ§a-feira (12), o ufÃ³logo e jornalista Jaime Maussan apresentou ao Congresso do MÃ©xico os restos mortais de dois supostos alienÃ­genas. A demonstraÃ§Ã£o dos espÃ©cimes aconteceu durante uma a… [+2753 chars]</td></tr><tr><td>List(null, Tecmundo.com.br)</td><td>Jorge Marin</td><td>Google DeepMind: nova ferramenta de IA prevê doenças genéticas</td><td>Um novo programa de inteligência artificial desenvolvido por cientistas do Google DeepMind é capaz de prever se milhões de mutações genéticas presentes em nossa sequência de DNA que são inofensivas ou propensas a causar doenças no futuro. Batizada como AlphaM…</td><td>https://www.tecmundo.com.br/ciencia/271822-google-deepmind-nova-ferramenta-ia-preve-doencas-geneticas.htm</td><td>https://tm.ibxk.com.br/2023/09/20/20120248396161.jpg</td><td>2023-09-20T15:15:00Z</td><td>Um novo programa de inteligência artificial desenvolvido por cientistas do Google DeepMind é capaz de prever se milhões de mutações genéticas presentes em nossa sequência de DNA que são inofensivas o… [+2940 chars]</td></tr><tr><td>List(null, Olhardigital.com.br)</td><td>Alessandro Di Lorenzo</td><td>Estudo descobre novas características genéticas do Alzheimer</td><td>A descoberta, segundo os pesquisadores, pode contribuir para o desenvolvimento futuro de exames de sangue para a doença de Alzheimer\n",
       "O post Estudo descobre novas características genéticas do Alzheimer apareceu primeiro em Olhar Digital.</td><td>https://olhardigital.com.br/2023/09/07/medicina-e-saude/estudo-descobre-novas-caracteristicas-geneticas-do-alzheimer/</td><td>https://img.olhardigital.com.br/wp-content/uploads/2023/05/Alzheimer.jpg</td><td>2023-09-07T10:01:00Z</td><td>Pesquisadores da Universidade de Pittsburgh, nos Estados Unidos, analisaram milhares de genomas humanos para encontrar novas variaÃ§Ãµes genÃ©ticas responsÃ¡veis por controlar os nÃ­veis de molÃ©cula… [+2542 chars]</td></tr><tr><td>List(null, Sapo.pt)</td><td>Ana Sofia Neto</td><td>Cérebro artificial ajuda a perceber as origens genéticas do autismo</td><td>Uma nova técnica científica está a revelar as origens genéticas da perturbação do espetro do autismo (ou PEA) escondidas no nosso cérebro. O cérebro é curiosamente complexo e há muito sobre ele que ainda...</td><td>https://pplware.sapo.pt/ciencia/cerebro-artificial-ajuda-a-perceber-as-origens-geneticas-do-autismo/</td><td>https://pplware.sapo.pt/wp-content/uploads/2023/09/organoide_cerebral00.jpg</td><td>2023-09-24T13:00:25Z</td><td>Uma nova técnica científica está a revelar as origens genéticas da perturbação do espetro do autismo (ou PEA) escondidas no nosso cérebro.\r\n",
       "O cérebro é curiosamente complexo e há muito sobre ele que … [+3282 chars]</td></tr><tr><td>List(null, Tecmundo.com.br)</td><td>Jorge Marin</td><td>Miniórgãos descobertos em mamíferos podem gerar respostas autoimunes</td><td>Pesquisadores do Instituto Federal Suíço de Tecnologia de Zurique descobriram recentemente um tipo de organela que havia permanecido não caracterizada até agora nas células dos mamíferos. O “miniórgão”, batizado como exclusoma, é feito de anéis de DNA chamado…</td><td>https://www.tecmundo.com.br/ciencia/272244-miniorgaos-descobertos-mamiferos-gerar-respostas-autoimunes.htm</td><td>https://tm.ibxk.com.br/2023/10/02/02154244691267.jpg</td><td>2023-10-02T20:30:04Z</td><td>Pesquisadores do Instituto Federal Suíço de Tecnologia de Zurique descobriram recentemente um tipo de organela que havia permanecido não caracterizada até agora nas células dos mamíferos. O miniórgão… [+3134 chars]</td></tr><tr><td>List(null, Olhardigital.com.br)</td><td>Vitoria Lopes Gomez</td><td>Vacinas erradicaram doenças que, antes, matavam mais que guerras</td><td>Doenças como a poliomielite e a varíola, que mataram milhões no século passado, desapareceram graças às vacinas\n",
       "O post Vacinas erradicaram doenças que, antes, matavam mais que guerras apareceu primeiro em Olhar Digital.</td><td>https://olhardigital.com.br/2023/09/08/medicina-e-saude/vacinas-erradicaram-doencas-que-antes-matavam-mais-que-guerras/</td><td>https://img.olhardigital.com.br/wp-content/uploads/2023/07/vacina-e1692890816557.jpg</td><td>2023-09-08T20:30:20Z</td><td>NÃ£o Ã© incomum ouvir falar sobre a gravidade de doenÃ§as que hoje sequer nos lembramos. Ã o caso, por exemplo, da varÃ­ola e da poliomielite. Ambas mataram milhÃµes de pessoas no sÃ©culo passado, m… [+2308 chars]</td></tr><tr><td>List(null, Olhardigital.com.br)</td><td>Alessandro Di Lorenzo</td><td>IA brasileira é capaz de prever doenças com antecedência</td><td>A IA Dara pode coletar dados e realizar uma rápida varredura em todo o histórico médico do paciente, indicando riscos de saúde\n",
       "O post IA brasileira é capaz de prever doenças com antecedência apareceu primeiro em Olhar Digital.</td><td>https://olhardigital.com.br/2023/09/29/medicina-e-saude/ia-brasileira-e-capaz-de-prever-doencas-com-antecedencia/</td><td>https://proxy.olhardigital.com.br/wp-content/uploads/2023/09/iStock-1411998514.jpg</td><td>2023-09-29T21:04:45Z</td><td>Uma inteligÃªncia artificial desenvolvida por uma empresa brasileira pode ajudar a prevenir doenÃ§as como acidente vascular cerebral (AVC), infarto e diabetes, por exemplo. A Dara foi criada pela IPM… [+1959 chars]</td></tr><tr><td>List(null, Sapo.pt)</td><td>Rui Jorge</td><td>Cientistas adaptam a Realidade Virtual para utilização em consultas remotas</td><td>Os investigadores da Universidade de Canterbury criaram um headset de realidade virtual (RV) que poderá ser utilizado pelos médicos para realizar avaliações médicas de pacientes que vivem em zonas rurais, têm doenças infeciosas ou...</td><td>https://pplware.sapo.pt/high-tech/cientistas-adaptam-a-realidade-virtual-para-utilizacao-em-consultas-remotas/</td><td>https://pplware.sapo.pt/wp-content/uploads/2023/09/rv_medicina.jpg</td><td>2023-09-20T14:00:25Z</td><td>Os investigadores da Universidade de Canterbury criaram um headset de realidade virtual (RV) que poderá ser utilizado pelos médicos para realizar avaliações médicas de pacientes que vivem em zonas ru… [+3368 chars]</td></tr><tr><td>List(null, Olhardigital.com.br)</td><td>Flavia Correia</td><td>Bichos-da-seda transgênicos criam fibras mais resistentes do que tecido à prova de bala</td><td>Usando engenharia genética, cientistas inseriram genes de aranha em bichos-da-seda para produção de tecidos mais resistentes do que Kevlar\n",
       "O post Bichos-da-seda transgênicos criam fibras mais resistentes do que tecido à prova de bala apareceu primeiro em Olha…</td><td>https://olhardigital.com.br/2023/09/26/ciencia-e-espaco/bichos-da-seda-transgenicos-criam-fibras-mais-resistentes-do-que-tecido-a-prova-de-bala/</td><td>https://proxy.olhardigital.com.br/wp-content/uploads/2023/09/bicho-da-seda.jpg</td><td>2023-09-26T19:18:52Z</td><td>Cientistas utilizaram engenharia genÃ©tica para gerar bichos-da-seda capazes de produzir fibras mais resistentes do que o Kevlar, tambÃ©m chamado de poliaramida â material usado em coletes Ã  prova… [+3623 chars]</td></tr><tr><td>List(null, Olhardigital.com.br)</td><td>Alessandro Di Lorenzo</td><td>Estudo indica onde fica o lar original da humanidade</td><td>Pesquisadores criaram uma rede de quase 27 milhões de ancestrais, desenvolvendo uma gigantesca árvore genealógica da humanidade\n",
       "O post Estudo indica onde fica o lar original da humanidade apareceu primeiro em Olhar Digital.</td><td>https://olhardigital.com.br/2023/09/14/ciencia-e-espaco/estudo-indica-onde-fica-o-lar-original-da-humanidade/</td><td>https://img.olhardigital.com.br/wp-content/uploads/2022/03/deserto.jpg</td><td>2023-09-14T20:40:37Z</td><td>A histÃ³ria da humanidade Ã© marcada pelas migraÃ§Ãµes. Por milhares de anos, nossa espÃ©cie se deslocou pela Terra em busca de Ã¡gua, alimentos e tudo o que proporciona uma vida melhor. Mas existe u… [+2407 chars]</td></tr><tr><td>List(null, Olhardigital.com.br)</td><td>Alessandro Di Lorenzo</td><td>Segundo transplante com coração de porco para humano é feito com sucesso</td><td>O coração de porco transplantado tem 10 modificações genéticas para reduzir o risco de ser recusado pelo corpo do paciente\n",
       "O post Segundo transplante com coração de porco para humano é feito com sucesso apareceu primeiro em Olhar Digital.</td><td>https://olhardigital.com.br/2023/09/22/medicina-e-saude/segundo-transplante-com-coracao-de-porco-para-humano-e-feito-com-sucesso/</td><td>https://proxy.olhardigital.com.br/wp-content/uploads/2023/09/Transplante-1.jpg</td><td>2023-09-22T19:33:57Z</td><td>Pela segunda vez na histÃ³ria, cirurgiÃµes transplantaram o coraÃ§Ã£o de um porco em um homem na tentativa de prolongar sua vida. A operaÃ§Ã£o foi um sucesso e, dois dias depois, o paciente estava fa… [+2546 chars]</td></tr><tr><td>List(null, Olhardigital.com.br)</td><td>Mateus Dias</td><td>Cientistas encontram povo na África que acreditavam ter sumido</td><td>Apesar da língua da população estar deixando de existir, suas distinções genéticas continuam presente nos descendentes\n",
       "O post Cientistas encontram povo na África que acreditavam ter sumido apareceu primeiro em Olhar Digital.</td><td>https://olhardigital.com.br/2023/09/27/ciencia-e-espaco/cientistas-encontram-povo-na-africa-que-acreditavam-ter-sumido/</td><td>https://olhardigital.com.br/wp-content/uploads/2023/09/ultimos-faantes-do-Kwadi.webp</td><td>2023-09-27T19:34:40Z</td><td>A Ãfrica Austral abriga uma regiÃ£o conhecida como berÃ§o da humanidade, local onde os primeiros hominÃ­deos surgiram. Por causa disso, Ã© possÃ­vel encontrar a maior diversidade genÃ©tica humana po… [+2079 chars]</td></tr><tr><td>List(null, [Removed])</td><td>null</td><td>[Removed]</td><td>[Removed]</td><td>https://removed.com</td><td>null</td><td>1970-01-01T00:00:00Z</td><td>[Removed]</td></tr><tr><td>List(null, Tecmundo.com.br)</td><td>Jennifer Egues</td><td>Dara, a IA capaz de prever infartos e AVCs com dados do SUS</td><td>Nova inteligência artificial, desenvolvida pela empresa IPM Sistemas, uma GovTech brasileira, pode ser utilizada no serviço público de saúde, otimizando dados e gerando sinais de alerta para doenças como acidente vascular cerebral, infarto e previsões com até…</td><td>https://www.tecmundo.com.br/ciencia/272151-dara-ia-capaz-prever-infartos-avcs-dados-sus.htm</td><td>https://tm.ibxk.com.br/2023/09/28/28172505232225.jpg</td><td>2023-09-29T13:00:00Z</td><td>Nova inteligência artificial, desenvolvida pela empresa IPM Sistemas, uma GovTech brasileira, pode ser utilizada no serviço público de saúde, otimizando dados e gerando sinais de alerta para doenças … [+2737 chars]</td></tr><tr><td>List(null, Olhardigital.com.br)</td><td>Tamires Ferreira</td><td>‘Vacina inversa’ pode ser a chave para tratar doenças autoimunes; entenda</td><td>Ação do fármaco no sistema imunológico pode apagar a memória de ataque das moléculas\n",
       "O post ‘Vacina inversa’ pode ser a chave para tratar doenças autoimunes; entenda  apareceu primeiro em Olhar Digital.</td><td>https://olhardigital.com.br/2023/09/13/medicina-e-saude/vacina-inversa-pode-ser-a-chave-para-tratar-doencas-autoimunes-entenda/</td><td>https://img.olhardigital.com.br/wp-content/uploads/2023/09/doenca-autoimune.jpg</td><td>2023-09-13T17:37:31Z</td><td>Um novo tipo de vacina desenvolvida por pesquisadores da Escola Pritzker de Engenharia Molecular (PME)Â pode ser o novo tratamento mais promissor contra doenÃ§as autoimunes. Com uma proposta de aÃ§Ã£… [+2774 chars]</td></tr><tr><td>List(null, Olhardigital.com.br)</td><td>Alessandro Di Lorenzo</td><td>Google: pesquisadores fazem descoberta histórica sobre proteínas do corpo humano</td><td>Foram catalogadas 71 milhões de mutações e um terço delas poderia causar doenças. Apenas 4 milhões já eram conhecidas pela ciência\n",
       "O post Google: pesquisadores fazem descoberta histórica sobre proteínas do corpo humano apareceu primeiro em Olhar Digital.</td><td>https://olhardigital.com.br/2023/09/19/medicina-e-saude/google-pesquisadores-fazem-descoberta-historica-sobre-proteinas-do-corpo-humano/</td><td>https://proxy.olhardigital.com.br/wp-content/uploads/2023/09/Proteina-1.jpg</td><td>2023-09-19T19:46:08Z</td><td>Pesquisadores doÂ Google DeepMind, empresa de inteligÃªncia artificial da Alphabet, catalogaram 71 milhÃµes de mutaÃ§Ãµes em proteÃ­nas do corpo humano. Ao classificÃ¡-las, eles descobriram que um te… [+3867 chars]</td></tr><tr><td>List(null, [Removed])</td><td>null</td><td>[Removed]</td><td>[Removed]</td><td>https://removed.com</td><td>null</td><td>1970-01-01T00:00:00Z</td><td>[Removed]</td></tr><tr><td>List(null, [Removed])</td><td>null</td><td>[Removed]</td><td>[Removed]</td><td>https://removed.com</td><td>null</td><td>1970-01-01T00:00:00Z</td><td>[Removed]</td></tr><tr><td>List(null, Olhardigital.com.br)</td><td>Vitoria Lopes Gomez</td><td>Estudo mostra que vape (com ou sem nicotina) paralisa células imunológicas</td><td>Pesquisadores testaram e comprovaram que vapor do vape afeta o sistema imunológico, aumentando o risco de doenças respiratórias\n",
       "O post Estudo mostra que vape (com ou sem nicotina) paralisa células imunológicas apareceu primeiro em Olhar Digital.</td><td>https://olhardigital.com.br/2023/09/11/medicina-e-saude/estudo-mostra-que-vape-com-ou-sem-nicotina-paralisa-celulas-imunologicas/</td><td>https://img.olhardigital.com.br/wp-content/uploads/2023/09/vape-1.jpg</td><td>2023-09-11T19:11:30Z</td><td>O vape (ou cigarro eletrÃ´nico) ganhou terreno, especialmente entre os jovens. As fabricantes conseguiram popularizar o produto dizendo atÃ© que seria um âsubstitutoâ menos nocivo para quem queri… [+2051 chars]</td></tr><tr><td>List(null, Olhardigital.com.br)</td><td>Vitoria Lopes Gomez</td><td>Modelo matemático pode revolucionar tratamentos cardíacos</td><td>Através do simulador, cientistas poderão entender o funcionamento das doenças cardíacas no coração e, assim, achar novas formas de tratá-las\n",
       "O post Modelo matemático pode revolucionar tratamentos cardíacos apareceu primeiro em Olhar Digital.</td><td>https://olhardigital.com.br/2023/09/19/medicina-e-saude/modelo-matematico-pode-revolucionar-tratamentos-cardiacos/</td><td>https://proxy.olhardigital.com.br/wp-content/uploads/2022/10/coracao-humano.jpg</td><td>2023-09-19T07:55:00Z</td><td>Um estudo feito por pesquisadores da ItÃ¡lia mostrou que a matemÃ¡tica pode salvar vidas â e prevenir infartos. Os cientistas criaram um modelo matemÃ¡tico computacional do coraÃ§Ã£o para simular o… [+1772 chars]</td></tr><tr><td>List(null, Olhardigital.com.br)</td><td>Vitoria Lopes Gomez</td><td>Fiocruz: Covid-19 avança no Sudeste e Centro-Oeste</td><td>Alguns estados do Norte e Nordeste também tiveram alta nos casos de Covid-19 e de outras doenças respiratórias\n",
       "O post Fiocruz: Covid-19 avança no Sudeste e Centro-Oeste apareceu primeiro em Olhar Digital.</td><td>https://olhardigital.com.br/2023/09/20/medicina-e-saude/fiocruz-covid-19-avanca-no-sudeste-e-centro-oeste/</td><td>https://proxy.olhardigital.com.br/wp-content/uploads/2023/07/virus-covid-19.jpg</td><td>2023-09-20T18:58:26Z</td><td>A FundaÃ§Ã£o Oswaldo Cruz (Fiocruz) divulgou nesta quarta-feira (20) uma atualizaÃ§Ã£o do boletim InfoGripe, com dados de 10 a 16 de setembro. O novo relatÃ³rio mostra um aumento de casos de Covid-19… [+2167 chars]</td></tr><tr><td>List(null, Olhardigital.com.br)</td><td>Alessandro Di Lorenzo</td><td>Novo remédio imita prática de atividade física e pode reduzir peso</td><td>O remédio ainda está sendo testado em ratos, mas apresenta potencial para para tratar doenças como obesidade, diabetes e perda muscular\n",
       "O post Novo remédio imita prática de atividade física e pode reduzir peso apareceu primeiro em Olhar Digital.</td><td>https://olhardigital.com.br/2023/09/26/medicina-e-saude/novo-remedio-imita-pratica-de-atividade-fisica-e-pode-reduzir-peso/</td><td>https://proxy.olhardigital.com.br/wp-content/uploads/2023/09/OBESIDADE-1.jpg</td><td>2023-09-26T19:35:21Z</td><td>JÃ¡ imaginou tomar um remÃ©dio que garante os mesmos benefÃ­cios que a atividade fÃ­sica? Talvez isso nunca seja totalmente possÃ­vel, mas testes em ratos de um novo tipo de droga tÃªm se mostrado pr… [+3292 chars]</td></tr><tr><td>List(null, Olhardigital.com.br)</td><td>Alisson Santos</td><td>Autoridades de saúde dos EUA sugerem antibiótico para combater DSTs</td><td>Segundo autoridades, o medicamento deve servir como “pílula do dia seguinte” contra as doenças\n",
       "O post Autoridades de saúde dos EUA sugerem antibiótico para combater DSTs apareceu primeiro em Olhar Digital.</td><td>https://olhardigital.com.br/2023/10/03/medicina-e-saude/autoridades-de-saude-dos-eua-sugerem-antibiotico-para-combater-dsts/</td><td>https://proxy.olhardigital.com.br/wp-content/uploads/2023/09/Novos-antibioticos-1.jpg</td><td>2023-10-03T09:40:00Z</td><td>Autoridades de saÃºde dos Estados Unidos estÃ£o planejando apoiar o uso de antibiÃ³tico barato no combate as doenÃ§as sexualmente transmissÃ­veis (DSTs). Com os registros de contaminaÃ§Ã£o subindo em… [+1637 chars]</td></tr><tr><td>List(null, Tecmundo.com.br)</td><td>Lucas Vinicius Santos</td><td>Método quântico é capaz de curar câncer cerebral por meio de spray; entenda</td><td>De acordo com um estudo publicado na revista científica Nature Nanotechnology, uma equipe de cientistas ingleses conseguiu criar um método quântico por spray para curar um tipo de câncer cerebral. O estudo conduzido por pesquisadores Universidade de Nottingha…</td><td>https://www.tecmundo.com.br/ciencia/271666-metodo-quantico-capaz-curar-cancer-cerebral-meio-spray-entenda.htm</td><td>https://tm.ibxk.com.br/2023/09/15/15085246049017.jpg</td><td>2023-09-15T13:00:00Z</td><td>De acordo com um estudo publicado na revista científica Nature Nanotechnology, uma equipe de cientistas ingleses conseguiu criar um método quântico por spray para curar um tipo de câncer cerebral. O … [+2915 chars]</td></tr><tr><td>List(null, [Removed])</td><td>null</td><td>[Removed]</td><td>[Removed]</td><td>https://removed.com</td><td>null</td><td>1970-01-01T00:00:00Z</td><td>[Removed]</td></tr><tr><td>List(null, [Removed])</td><td>null</td><td>[Removed]</td><td>[Removed]</td><td>https://removed.com</td><td>null</td><td>1970-01-01T00:00:00Z</td><td>[Removed]</td></tr><tr><td>List(null, Observador.pt)</td><td>Ricardo Zorron</td><td>Tratar a obesidade com endoscopia, sem incisões? Sim, já é possível</td><td>Nos últimos cinco anos tem existido uma verdadeira revolução nas terapias endoscópicas que possibilitam um maior acesso a tratamentos para a obesidade, uma alternativa menos invasiva e sem incisões.</td><td>https://observador.pt/opiniao/tratar-a-obesidade-com-endoscopia-sem-incisoes-sim-ja-e-possivel/</td><td>https://wm.observador.pt/wm-op/wide-circle/https%3A%2F%2Fbordalo.observador.pt%2Fv2%2Frs%3Afill%3A900%2Fc%3A467%3A467%3Anowe%3A9%3A3%2Fq%3A86%2Fplain%2Fhttps%3A%2F%2Fs3.observador.pt%2Fwp-content%2Fuploads%2F2023%2F09%2F15111743%2Fwhatsapp-image-2023-09-12-at-164340.jpeg</td><td>2023-09-17T23:03:43Z</td><td>Através de uma abordagem minimamente invasiva, as técnicas endoscópicas desempenham um papel cada vez mais relevante no tratamento da obesidade, ajudando as pessoas a perder peso e a controlar doença… [+3854 chars]</td></tr><tr><td>List(null, [Removed])</td><td>null</td><td>[Removed]</td><td>[Removed]</td><td>https://removed.com</td><td>null</td><td>1970-01-01T00:00:00Z</td><td>[Removed]</td></tr><tr><td>List(null, Sapo.pt)</td><td>Marisa Pinto</td><td>Cão-robot com Raspberry Pi ensina espanhol a crianças surdas</td><td>É incrível a quantidade de tecnologia que nos dias que correm ajudam significativamente em áreas como a saúde, terapias, reabilitação, aprendizagem, entre outras. Nesse sentido, vamos hoje conhecer o Robins, um cão-robot com raspberry...</td><td>https://pplware.sapo.pt/gadgets/cao-robot-com-raspberry-pi-ensina-espanhol-a-criancas-surdas/</td><td>https://pplware.sapo.pt/wp-content/uploads/2023/09/cao-robot_0.jpg</td><td>2023-09-05T13:00:03Z</td><td>É incrível a quantidade de tecnologia que nos dias que correm ajudam significativamente em áreas como a saúde, terapias, reabilitação, aprendizagem, entre outras. Nesse sentido, vamos hoje conhecer o… [+1876 chars]</td></tr><tr><td>List(null, Www.tsf.pt)</td><td>Lusa</td><td>Morreu Ian Wilmut, \"pai\" da ovelha Dolly</td><td>O trabalho do especialista em embriologia foi considerado fundamental para a investigação que visa tratar doenças genéticas e degenerativas ajudando o corpo a reparar tecidos danificados.</td><td>https://www.tsf.pt/mundo/morreu-ian-wilmut-pai-da-ovelha-dolly-17006400.html</td><td>https://static.globalnoticias.pt/tsf/image.jpg?brand=TSF&type=generate&guid=d460562f-c697-4222-b4fd-8dc02af92e59&w=800&h=420&watermark=true&t=20230911191400</td><td>2023-09-11T18:14:00Z</td><td>O cientista afastou-se do meio académico em 2012 e em 2018 tornou público que tinha a doença de Parkinson\r\n",
       "© Naokazu Oinuma/AP (arquivo)\r\n",
       "O biólogo britânicoIan Wilmut, \"pai\" da ovelha Dolly, o prime… [+1949 chars]</td></tr><tr><td>List(null, Observador.pt)</td><td>Maria Raimundo</td><td>Boa nutrição é bom negócio</td><td>A personalização está a tornar-se fundamental na prevenção e gestão de doenças. Isto torna a nutrição personalizada e a medicina de precisão componentes essenciais na prevenção e gestão de doenças.</td><td>https://observador.pt/opiniao/boa-nutricao-e-bom-negocio/</td><td>https://wm.observador.pt/wm-op/wide-circle/https%3A%2F%2Fbordalo.observador.pt%2Fv2%2Frs%3Afill%3A900%2Fc%3A467%3A467%3Anowe%3A0%3A0%2Fq%3A86%2Fplain%2Fhttps%3A%2F%2Fs3.observador.pt%2Fwp-content%2Fuploads%2F2020%2F07%2F27203316%2Fmr_obs_467x467_acf_cropped.jpg</td><td>2023-09-11T23:09:08Z</td><td>A má nutrição está a desafiar quase todos os aspectos da nossa sociedade, contribuindo para problemas de saúde, desigualdades na saúde, no acesso à mesma, e nas despesas evitáveis com cuidados de saú… [+9116 chars]</td></tr><tr><td>List(null, Observador.pt)</td><td>Inês Capucho</td><td>DeepMind, da Google, desenvolve programa com Inteligência Artificial que prevê se mutações de ADN podem causar doenças</td><td>As previsões do programa AlphaMissense, desenvolvido pela DeepMind, sobre as chamadas mutações \"missense\" podem ajudar a acelerar a investigação e o diagnóstico de doenças raras.</td><td>https://observador.pt/2023/09/20/deepmind-da-google-desenvolve-programa-com-inteligencia-artificial-que-preve-se-mutacoes-de-adn-podem-causar-doencas/</td><td>https://wm.observador.pt/wm/obs/l/https%3A%2F%2Fbordalo.observador.pt%2Fv2%2Frs%3Afill%3A770%3A403%2Fc%3A3504%3A1973%3Anowe%3A0%3A532%2Fq%3A85%2Fplain%2Fhttps%3A%2F%2Fs3.observador.pt%2Fwp-content%2Fuploads%2F2022%2F02%2F24081421%2FGettyImages-90739363.jpg</td><td>2023-09-20T17:45:28Z</td><td>A DeepMind, detida pela Google, utilizou a Inteligência Artificial para identificar mutações de ADN que podem causar doenças. É através do programa AlphaMissense, desenvolvido por cientistas, que a e… [+1752 chars]</td></tr><tr><td>List(null, Abril.com.br)</td><td>Diogo Sponchiato</td><td>Nobel vai para descobertas que resultaram nas vacinas de RNA para Covid-19</td><td>Láurea em Medicina é concedida a dois pesquisadores pelos trabalhos que culminaram na nova geração de vacinas que ajudou a deter a pandemia</td><td>https://veja.abril.com.br/saude/nobel-de-medicina-2023-vacina-covid</td><td>https://veja.abril.com.br/wp-content/uploads/2023/10/490_envelhecer-vacina-gripe.png?w=680&h=453&crop=1</td><td>2023-10-02T09:59:49Z</td><td>O Prêmio Nobel de Fisiologia ou Medicina de 2023 reconhece dois pesquisadores por suas descobertas fundamentais que permitiram criar as primeiras vacinas de RNA da história, as mesmas que ajudaram a … [+2446 chars]</td></tr><tr><td>List(null, Abril.com.br)</td><td>Diogo Sponchiato</td><td>Do que falamos quando falamos em demência</td><td>Quadro que solapa a memória e outras habilidades cognitivas tem diversas causas, mas o Alzheimer é a principal delas</td><td>https://veja.abril.com.br/coluna/letra-de-medico/do-que-falamos-quando-falamos-em-demencia</td><td>https://veja.abril.com.br/wp-content/uploads/2023/09/envelhecer-cerebro.png?w=680&h=449&crop=1</td><td>2023-09-21T10:12:08Z</td><td>Demência é um diagnóstico clínico que indica a redução progressiva das capacidades cerebrais, levando à perda de autonomia e da qualidade de vida. Dentre múltiplas causas, a doença de Alzheimer é a m… [+3622 chars]</td></tr><tr><td>List(null, [Removed])</td><td>null</td><td>[Removed]</td><td>[Removed]</td><td>https://removed.com</td><td>null</td><td>1970-01-01T00:00:00Z</td><td>[Removed]</td></tr><tr><td>List(null, Abril.com.br)</td><td>Simone Blanes</td><td>MSD inicia última fase de estudo para comprimido que reduz colesterol ruim</td><td>Chamado de MK-0616, o remédio experimental inibe a ação de PCSK9. Se aprovado, será o primeiro comprimido oral dessa categoria</td><td>https://veja.abril.com.br/saude/msd-inicia-ultima-fase-de-estudo-para-comprimido-que-reduz-colesterol-ruim</td><td>https://veja.abril.com.br/wp-content/uploads/2016/05/estatina-remedio-colesterol-20121108-original.jpeg?quality=90&strip=info&w=620&h=349&crop=1</td><td>2023-09-04T18:03:54Z</td><td>A MSD iniciou um programa clínico de Fase 3 para um inibidor oral de PCSK9, avaliado para o tratamento de hipercolesterolemia, ou seja, a redução do colesterol da lipoproteína de baixa densidade (LDL… [+2295 chars]</td></tr><tr><td>List(null, Olhardigital.com.br)</td><td>Alessandro Di Lorenzo</td><td>Descoberta de pesquisadores da USP pode ajudar no combate ao câncer</td><td>Pesquisadores identificaram o mecanismo envolvido na replicação e reparo de DNA, o que pode ajudar no tratamento contra o câncer\n",
       "O post Descoberta de pesquisadores da USP pode ajudar no combate ao câncer apareceu primeiro em Olhar Digital.</td><td>https://olhardigital.com.br/2023/09/21/medicina-e-saude/descoberta-de-pesquisadores-da-usp-pode-ajudar-no-combate-ao-cancer/</td><td>https://proxy.olhardigital.com.br/wp-content/uploads/2023/05/Destaque-tratamento-cancer.jpg</td><td>2023-09-21T17:55:31Z</td><td>Uma descoberta de pesquisadores do Instituto de QuÃ­mica da USP e de duas universidades da Inglaterra pode auxiliar no combate a diferentes tipos de cÃ¢ncer. Os cientistas identificaram o mecanismo e… [+4889 chars]</td></tr><tr><td>List(null, Abril.com.br)</td><td>Paula Felix</td><td>Novo estudo com terapia inovadora contra câncer é autorizado pela Anvisa</td><td>Ensaio com células geneticamente modificadas, as CAR-T, será conduzido pela Fundação Hemocentro de Ribeirão Preto e Instituto Butantan</td><td>https://veja.abril.com.br/saude/novo-estudo-com-terapia-inovadora-contra-cancer-e-autorizado-pela-anvisa</td><td>https://veja.abril.com.br/wp-content/uploads/2017/11/cancer-car-t-terapia-17.jpg?quality=90&strip=info&w=680&h=453&crop=1</td><td>2023-09-26T23:12:38Z</td><td>A Agência Nacional de Vigilância Sanitária (Anvisa) autorizou nesta terça-feira, 26, um novo ensaio clínico nacional com CAR-T, terapia inovadora com células geneticamente modificadas que agem contra… [+2746 chars]</td></tr><tr><td>List(null, Terra.com.br)</td><td>Deutsche Welle</td><td>Por que você deve a sua vida a uns poucos humanos primitvos?</td><td>Análises genéticas apontam que quase todos os nossos ancestrais morreram em uma catástrofe ...</td><td>https://www.terra.com.br/noticias/por-que-voce-deve-a-sua-vida-a-uns-poucos-humanos-primitvos,4f56bf2b1e4ab45dbafda310e9294f1coffppy18.html</td><td>https://p2.trrsf.com/image/fget/cf/1200/630/middle/images.terra.com/2023/09/05/1696209846-58045134354.jpg</td><td>2023-09-05T18:08:14Z</td><td>Análises genéticas apontam que quase todos os nossos ancestrais morreram em uma catástrofe natural 900 mil anos atrás. Apenas 1.280 indivíduos teriam sobrevivido. Uma parte deles está em você.Imagine… [+4310 chars]</td></tr><tr><td>List(null, Googlediscovery.com)</td><td>Renê Fraga</td><td>Mark Zuckerberg anuncia IA generativa para curar todas as doenças</td><td>A Chan Zuckerberg Initiative (CZI), organização filantrópica fundada por Priscilla Chan e Mark Zuckerberg, anunciou um projeto inovador de inteligência</td><td>https://googlediscovery.com/2023/09/20/mark-zuckerberg-anuncia-ia-generativa-para-curar-todas-as-doencas/</td><td>https://cdn.googlediscovery.com/wp-content/uploads/chan-zuckerberg.jpg</td><td>2023-09-20T16:59:48Z</td><td>A Chan Zuckerberg Initiative (CZI), organização filantrópica fundada por Priscilla Chan e Mark Zuckerberg, anunciou um projeto inovador de inteligência artificial generativa. \r\n",
       "A iniciativa consiste … [+1695 chars]</td></tr><tr><td>List(null, Abril.com.br)</td><td>diego.valencia</td><td>Subir escadas pode reduzir o risco de doenças cardíacas em 20%, diz estudo</td><td>Pesquisadores analisaram repositório de informações sobre saúde e estilo de vida com dados de mais de 458 mil adultos no Reino Unido</td><td>https://veja.abril.com.br/saude/subir-escadas-pode-reduzir-o-risco-de-doencas-cardiacas-em-20-diz-estudo</td><td>https://veja.abril.com.br/wp-content/uploads/2017/04/esporte-corrida-escada-20150213-018.jpg?quality=90&strip=info&w=680&h=453&crop=1</td><td>2023-10-03T17:00:59Z</td><td>Odeia quando o elevador quebra? De fato, é um incômodo, mas subir lances de escada pode salvar sua vida, de acordo com um novo estudo da Universidade de Tulane, em Louisiana, nos Estados Unidos.\r\n",
       "Pes… [+1324 chars]</td></tr><tr><td>List(null, [Removed])</td><td>null</td><td>[Removed]</td><td>[Removed]</td><td>https://removed.com</td><td>null</td><td>1970-01-01T00:00:00Z</td><td>[Removed]</td></tr><tr><td>List(null, [Removed])</td><td>null</td><td>[Removed]</td><td>[Removed]</td><td>https://removed.com</td><td>null</td><td>1970-01-01T00:00:00Z</td><td>[Removed]</td></tr><tr><td>List(null, Abril.com.br)</td><td>Diogo Sponchiato</td><td>‘A saúde climática e a humana andam de mãos dadas’</td><td>Em entrevista exclusiva, CEO global da AstraZeneca expõe os desafios da sustentabilidade do sistema de saúde e por onde caminha o futuro da medicina</td><td>https://veja.abril.com.br/saude/a-saude-climatica-e-a-humana-andam-de-maos-dadas</td><td>https://veja.abril.com.br/wp-content/uploads/2023/09/AZ3087-BoD-Pascal-Soriot-2022.jpg?quality=90&strip=info&w=680&h=453&crop=1</td><td>2023-09-19T11:16:22Z</td><td>Não dá para falar sobre a sustentabilidade dos sistemas de saúde sem falar de outra sustentabilidade, a ambiental – e vice-versa. É o que defende o francês Pascal Soriot, CEO global da biofarmacêutic… [+14790 chars]</td></tr><tr><td>List(null, Abril.com.br)</td><td>Da Redação</td><td>Morre cientista que liderou criação de Dolly, o primeiro animal clonado</td><td>Feito gerou manchetes e debates éticos acalorados em 1996</td><td>https://veja.abril.com.br/mundo/morre-cientista-que-liderou-criacao-de-dolly-o-primeiro-animal-clonado</td><td>https://veja.abril.com.br/wp-content/uploads/2023/09/WhatsApp-Image-2023-09-11-at-15.46.58.jpeg?quality=90&strip=info&w=680&h=453&crop=1</td><td>2023-09-11T19:03:48Z</td><td>O cientista britânico Ian Wilmut, que liderou as pesquisas que resultaram na criação do primeiro animal clonado no mundo, a ovelha Dolly, morreu aos 79 anos no último domingo, 10. A morte foi anuncia… [+1984 chars]</td></tr><tr><td>List(null, Olhardigital.com.br)</td><td>Rodrigo Mozelli</td><td>Anvisa autoriza ensaio clínico com CAR-T Cell no Brasil para combater câncer</td><td>Estudo tem como objetivo avaliar a segurança e eficácia do tratamento em pacientes com leucemia linfoide aguda B e linfoma não-Hodgkin B\n",
       "O post Anvisa autoriza ensaio clínico com CAR-T Cell no Brasil para combater câncer apareceu primeiro em Olhar Digital.</td><td>https://olhardigital.com.br/2023/09/26/medicina-e-saude/anvisa-autoriza-ensaio-clinico-com-car-t-cell-no-brasil-para-combater-cancer/</td><td>https://proxy.olhardigital.com.br/wp-content/uploads/2023/09/cancer-2.jpg</td><td>2023-09-26T22:00:05Z</td><td>A FundaÃ§Ã£o Hemocentro de RibeirÃ£o Preto (FUNDHERP), em parceria com o Instituto Butantan, recebeu autorizaÃ§Ã£o da Anvisa para realizar ensaio clÃ­nico no Brasil com a tÃ©cnica CAR-T Cell, que uti… [+2904 chars]</td></tr><tr><td>List(null, [Removed])</td><td>null</td><td>[Removed]</td><td>[Removed]</td><td>https://removed.com</td><td>null</td><td>1970-01-01T00:00:00Z</td><td>[Removed]</td></tr><tr><td>List(null, B9.com.br)</td><td>Carlos Merigo</td><td>Johnson & Johnson atualiza identidade visual e abandona seu reconhecido logotipo caligráfico</td><td>A gigante da saúde, Johnson & Johnson, apresenta uma nova identidade visual. Abandona o reconhecido logotipo em caligrafia para simplificar a marca, buscando refletir sua evolução e foco em inovação. A cor vermelha também foi alterada. Por que isso é importan…</td><td>https://www.b9.com.br/164509/johnson-johnson-atualiza-identidade-visual-e-abandona-seu-reconhecido-logotipo-caligrafico/</td><td>https://assets.b9.com.br/wp-content/uploads/2023/09/JJ_Lobby01_HighRes-1280x677.jpg</td><td>2023-09-14T17:50:25Z</td><td>A gigante da saúde, Johnson &amp; Johnson, apresenta uma nova identidade visual. Abandona o reconhecido logotipo em caligrafia para simplificar a marca, buscando refletir sua evolução e foco em inova… [+1178 chars]</td></tr><tr><td>List(null, Melhoresdestinos.com.br)</td><td>Cleverson Lima</td><td>Minas Gerais! Resort all inclusive em Poços de Caldas com diárias a partir de R$ 677</td><td>Poços de Caldas, no Sul de Minas Gerais, oferece uma das melhores estâncias hidrominerais da América Latina, com águas minerais usadas em diversas terapias, clima montanhês da Serra da Mantiqueira, excelente culinária e charmosa arquitetura da década de 30.  …</td><td>https://www.melhoresdestinos.com.br/promocao/minas-pocos-caldas-resort</td><td>https://www.melhoresdestinos.com.br/wp-content/uploads/2021/06/cassino-resort-pocos-de-caldas-capa-2021-2.jpg</td><td>2023-09-23T12:00:04Z</td><td>Poços de Caldas, no Sul de Minas Gerais, oferece uma das melhores estâncias hidrominerais da América Latina, com águas minerais usadas em diversas terapias, clima montanhês da Serra da Mantiqueira, e… [+1409 chars]</td></tr><tr><td>List(null, Catracalivre.com.br)</td><td>Redação</td><td>Estudo diz que menopausa precoce aumento o risco de demência</td><td>Uma recente pesquisa realizada pela Universidade de Sherbrooke, no Canadá, revelou uma forte relação entre o início precoce da menopausa em mulheres e um</td><td>https://catracalivre.com.br/saude-bem-estar/estudo-diz-que-menopausa-precoce-aumento-o-risco-de-demencia/</td><td>https://catracalivre.com.br/cdn-cgi/image/f=auto,q=60,w=1200,h=638,fit=cover,format=jpeg/wp-content/uploads/2023/09/menopausa.jpg</td><td>2023-09-28T19:30:43Z</td><td>Uma recente pesquisa realizada pela Universidade de Sherbrooke, no Canadá, revelou uma forte relação entre o início precoce da menopausa em mulheres e um risco elevado de desenvolvimento de comorbida… [+1853 chars]</td></tr><tr><td>List(null, Megacurioso.com.br)</td><td>Vivian de Souza Campos</td><td>Superbactérias: como evitar a resistência aos antibióticos</td><td>Superbactérias, ou bactérias resistentes a antibióticos, são cepas microbianas que desenvolveram a capacidade de resistir a um ou mais antibióticos. Essa resistência pode ocorrer devido a mutações genéticas aleatórias, ou pode ser adquirida devido ao uso inad…</td><td>https://www.megacurioso.com.br//ciencia/127528-superbacterias-como-evitar-a-resistencia-aos-antibioticos.htm</td><td>https://mega.ibxk.com.br/2023/10/03/03152401766265.jpg?ims=600x</td><td>2023-10-03T19:00:00Z</td><td>Superbactérias, ou bactérias resistentes a antibióticos, são cepas microbianas que desenvolveram a capacidade de resistir a um ou mais antibióticos. Essa resistência pode ocorrer devido a mutações ge… [+3311 chars]</td></tr><tr><td>List(null, [Removed])</td><td>null</td><td>[Removed]</td><td>[Removed]</td><td>https://removed.com</td><td>null</td><td>1970-01-01T00:00:00Z</td><td>[Removed]</td></tr><tr><td>List(null, [Removed])</td><td>null</td><td>[Removed]</td><td>[Removed]</td><td>https://removed.com</td><td>null</td><td>1970-01-01T00:00:00Z</td><td>[Removed]</td></tr><tr><td>List(null, [Removed])</td><td>null</td><td>[Removed]</td><td>[Removed]</td><td>https://removed.com</td><td>null</td><td>1970-01-01T00:00:00Z</td><td>[Removed]</td></tr><tr><td>List(null, Terra.com.br)</td><td>Portal EdiCase</td><td>Entenda por que doenças vasculares podem aumentar no calor</td><td>Quando não cuidamos da saúde, os dias de calor torna-se um momento de alerta para o corpo, ...</td><td>https://www.terra.com.br/vida-e-estilo/saude/entenda-por-que-doencas-vasculares-podem-aumentar-no-calor,52723791eadd8bccd0bd285409f363b03cid3uve.html</td><td>https://p2.trrsf.com/image/fget/cf/1200/630/middle/images.terra.com/2023/09/22/1100783929-doencas-vasculares.jpeg</td><td>2023-09-22T22:02:23Z</td><td>Quando não cuidamos da saúde, os dias de calor torna-se um momento de alerta para o corpo, especialmente para aqueles que sofrem com problemas cardiovasculares. Isso porque, segundo dados da Sociedad… [+3207 chars]</td></tr><tr><td>List(null, Abril.com.br)</td><td>Da Redação</td><td>Medicina tecnológica para todos</td><td>Assim como a terapia CAR-T, existem inúmeras abordagens terapêuticas inovadoras em desenvolvimento em centros de pesquisa ao redor do planeta</td><td>https://veja.abril.com.br/coluna/coluna-claudio-lottenberg/medicina-tecnologica-para-todos</td><td>https://veja.abril.com.br/wp-content/uploads/2017/11/cancer-car-t-terapia-17.jpg?quality=90&strip=info&w=680&h=453&crop=1</td><td>2023-09-18T16:11:55Z</td><td>A terapia com células CAR-T é um dos tratamentos mais recentes e promissores no combate aos cânceres de sangue, como o linfoma e as leucemias agudas. Ele consiste na coleta de células de defesa do pa… [+3354 chars]</td></tr><tr><td>List(null, [Removed])</td><td>null</td><td>[Removed]</td><td>[Removed]</td><td>https://removed.com</td><td>null</td><td>1970-01-01T00:00:00Z</td><td>[Removed]</td></tr><tr><td>List(null, Terra.com.br)</td><td>Reuters</td><td>Belga Biobest compra empresa brasileira de soluções agrícolas naturais Biotrop em acordo de US$570 mi</td><td>A empresa belga de biocontrole de pragas e doenças e polinização natural para produção agrícola ...</td><td>https://www.terra.com.br/economia/dinheiro-em-acao/belga-biobest-compra-empresa-brasileira-de-solucoes-agricolas-naturais-biotrop-em-acordo-de-us570-mi,92e023c86a50c8325dbc0b2d6ca40870yybi9fsw.html</td><td>https://s1.trrsf.com/fe/zaz-mod-t360-icons/svg/logos/terra-16x9-borda.png</td><td>2023-09-07T18:50:26Z</td><td>A empresa belga de biocontrole de pragas e doenças e polinização natural para produção agrícola sustentável Biobest Group fechou acordo para adquirir a brasileira do mesmo ramo Biotrop, em um movimen… [+1927 chars]</td></tr><tr><td>List(null, Observador.pt)</td><td>Agência Lusa</td><td>Empresa da Covilhã deteta enzima que pode travar doença de Parkinson</td><td>Uma empresa sediada na Covilhã está a desenvolver uma molécula que produz stress oxidativo e que pode ser moldada às necessidades do doente, permitindo que permaneçam no primeiro estágio da doença.</td><td>https://observador.pt/2023/09/22/empresa-da-covilha-deteta-enzima-que-pode-travar-doenca-de-parkinson/</td><td>https://wm.observador.pt/wm/obs/l/https%3A%2F%2Fbordalo.observador.pt%2Fv2%2Frs%3Afill%3A770%3A403%2Fc%3A2000%3A1124%3Anowe%3A0%3A105%2Fq%3A85%2Fplain%2Fhttps%3A%2F%2Fs3.observador.pt%2Fwp-content%2Fuploads%2F2017%2F12%2F12161206%2F19081089.jpg</td><td>2023-09-22T10:33:53Z</td><td>Uma empresa com sede na Covilhã está na fase de conclusão dos testes pré-clínicos de uma enzima responsável por produzir stress oxidativo que pode ser moldada para níveis que permitam evitar a progre… [+3017 chars]</td></tr><tr><td>List(null, Sapo.pt)</td><td>Ana Sofia Neto</td><td>Mosquito que transmite dengue e zika aterrou em Lisboa pela primeira vez</td><td>Embora tenha sido detetada no norte de Portugal, em 2017, esta foi a primeira vez que a espécie de mosquitos aterrou em Lisboa. Há infeções que, a menos que viajemos, nos são muito distantes,...</td><td>https://pplware.sapo.pt/ciencia/mosquito-que-transmite-dengue-e-zika-aterrou-em-lisboa-pela-primeira-vez/</td><td>https://pplware.sapo.pt/wp-content/uploads/2023/09/Aedes-Albopictus_B00.jpg</td><td>2023-09-28T08:40:24Z</td><td>Embora tenha sido detetada no norte de Portugal, em 2017, esta foi a primeira vez que a espécie de mosquitos aterrou em Lisboa.\r\n",
       "Há infeções que, a menos que viajemos, nos são muito distantes, pois n… [+1448 chars]</td></tr><tr><td>List(null, Catracalivre.com.br)</td><td>Redação</td><td>Alimento comum na cozinha do brasileiro reduz risco de câncer, diz estudo</td><td>Comer bem é necessário não só para manter o corpo funcionando corretamente, mas também para prevenir uma série de doenças. É por isso que, ás vezes, nos</td><td>https://catracalivre.com.br/saude-bem-estar/alimento-comum-na-cozinha-do-brasileiro-reduz-risco-de-cancer-diz-estudo/</td><td>https://catracalivre.com.br/cdn-cgi/image/f=auto,q=60,w=1200,h=638,fit=cover,format=jpeg/wp-content/uploads/2023/09/istock-1635263915-1.jpg</td><td>2023-09-22T22:01:08Z</td><td>Comer bem é necessário não só para manter o corpo funcionando corretamente, mas também para prevenir uma série de doenças.\r\n",
       "É por isso que, ás vezes, nos deparamos com alimentos conhecidos como “supe… [+2233 chars]</td></tr><tr><td>List(null, Terra.com.br)</td><td>Reuters</td><td>CDC dos EUA endossa vacina da Pfizer contra doença sazonal para proteger bebês</td><td>O Centro de Controle e Prevenção de Doenças dos EUA (CDC, na sigla em inglês) endossou nesta ...</td><td>https://www.terra.com.br/noticias/mundo/cdc-dos-eua-endossa-vacina-da-pfizer-contra-doenca-sazonal-para-proteger-bebes,98c42c6c5c276e9a6307f08a293eb128a0g5s529.html</td><td>https://s1.trrsf.com/fe/zaz-mod-t360-icons/svg/logos/terra-16x9-borda.png</td><td>2023-09-23T00:17:36Z</td><td>O Centro de Controle e Prevenção de Doenças dos EUA (CDC, na sigla em inglês) endossou nesta sexta-feira a vacina da Pfizer contra o vírus sincicial respiratório (VSR) para mulheres que estão no terc… [+1370 chars]</td></tr><tr><td>List(null, Abril.com.br)</td><td>Paula Felix</td><td>A proteína capaz de manter a célula humana saudável por mais tempo</td><td>Estudo feito por pesquisadores brasileiros e australianos aponta caminhos para tratar doenças autoimunes e até câncer</td><td>https://veja.abril.com.br/saude/a-proteina-capaz-de-manter-celula-humana-saudavel-por-mais-tempo</td><td>https://veja.abril.com.br/wp-content/uploads/2023/09/Celulas-humanas-coxiella.jpg?quality=90&strip=info&w=680&h=453&crop=1</td><td>2023-09-11T14:45:31Z</td><td>Pesquisadores da Universidade de São Paulo (USP) e colaboradores da Austrália identificaram uma proteína bacteriana capaz de manter as células humanas saudáveis por mais tempo. A descoberta pode leva… [+5133 chars]</td></tr><tr><td>List(null, Olhardigital.com.br)</td><td>Alessandro Di Lorenzo</td><td>Árvore “congelada” no tempo por milhões de anos tem mistério revelado</td><td>Conhecida como \"fóssil vivo\", a árvore praticamente não sofreu alterações desde o tempo em que os dinossauros dominavam a Terra\n",
       "O post Árvore “congelada” no tempo por milhões de anos tem mistério revelado apareceu primeiro em Olhar Digital.</td><td>https://olhardigital.com.br/2023/09/15/ciencia-e-espaco/arvore-congelada-no-tempo-por-milhoes-de-anos-tem-misterio-revelado/</td><td>https://img.olhardigital.com.br/wp-content/uploads/2023/09/Pinheiro-1.jpg</td><td>2023-09-15T17:06:28Z</td><td>Cientistas da AustrÃ¡lia, Estados Unidos e ItÃ¡liaÂ decodificaram o genoma de uma rarÃ­ssima Ã¡rvore conhecida como âfÃ³ssil vivoâ. O pinheiroÂ Wollemi (Wollemia nobilis) foi descoberto em 1994 e… [+3199 chars]</td></tr><tr><td>List(null, Expresso.pt)</td><td>Expresso</td><td>Agendas mobilizadoras canalizam €480 milhões para transformar sector da saúde em três anos</td><td>Plano de Recuperação e de Resiliência é central no investimento que privados e Estado preveem canalizar para o desenvolvimento de terapias inovadoras, para doenças graves como o cancro, e em novas formas de combater a resistência aos antibióticos</td><td>https://expresso.pt/economia/empresas/2023-10-02-Agendas-mobilizadoras-canalizam-480-milhoes-para-transformar-sector-da-saude-em-tres-anos-17de87a9</td><td>https://images.impresa.pt/expresso/2023-06-28-laboratorio-deac6dc7/1.91x1?wm=true&outputFormat=jpeg</td><td>2023-10-02T14:56:57Z</td><td>O Plano de Recuperação e Resiliência (PRR) irá apoiar quatro agendas mobilizadoras da saúde, que durante os próximos três anos irão captar investimentos de cerca de 180 milhões de euros do setor priv… [+2989 chars]</td></tr><tr><td>List(null, BBC News)</td><td>https://www.facebook.com/bbcnews</td><td>Sensação de estar isolado do mundo é uma das grandes preocupações do século 21</td><td>Sensação de estar isolado do mundo é uma das grandes preocupações do século 21</td><td>https://www.bbc.com/portuguese/media-66843698</td><td>https://ichef.bbci.co.uk/news/1024/branded_portuguese/80CB/production/_131117923_mediaitem131117922.jpg</td><td>2023-09-18T10:24:06Z</td><td>Sensação de estar isolado do mundo é uma das grandes preocupações do século 21\r\n",
       "A solidão virou uma das grandes preocupações de saúde do século 21. \r\n",
       "Comparada ao cigarro e relacionada ao risco de do… [+343 chars]</td></tr><tr><td>List(null, [Removed])</td><td>null</td><td>[Removed]</td><td>[Removed]</td><td>https://removed.com</td><td>null</td><td>1970-01-01T00:00:00Z</td><td>[Removed]</td></tr><tr><td>List(null, Catracalivre.com.br)</td><td>Redação</td><td>Pesquisa indica composto encontrado nestes alimentos que pode prevenir câncer</td><td>Você sabia que diversas pesquisas ao longo dos anos têm apontado benefícios potenciais para a fisetina, um flavonoide com atividade antioxidante presente</td><td>https://catracalivre.com.br/saude-bem-estar/pesquisa-indica-composto-encontrado-nestes-alimentos-que-previne-cancer/</td><td>https://catracalivre.com.br/cdn-cgi/image/f=auto,q=60,w=1200,h=638,fit=cover,format=jpeg/wp-content/uploads/2023/09/istock-1325282418.jpg</td><td>2023-09-26T10:00:45Z</td><td>Você sabia que diversas pesquisas ao longo dos anos têm apontado benefícios potenciais para a fisetina, um flavonoide com atividade antioxidante presente em frutas e vegetais?\r\n",
       "Estudos epidemiológico… [+2817 chars]</td></tr><tr><td>List(null, Abril.com.br)</td><td>diego.valencia</td><td>O que a microbiota intestinal tem a ver com distúrbios neurológicos?</td><td>Revisão feita por pesquisadores da Unifesp inclui doenças como Alzheimer e Parkinson e transtornos psiquiátricos como depressão e ansiedade</td><td>https://veja.abril.com.br/saude/como-a-microbiota-influencia-disturbios-neurologicos-e-psiquiatricos</td><td>https://veja.abril.com.br/wp-content/uploads/2020/09/câncer-de-intestino.jpg?quality=90&strip=info&w=680&h=453&crop=1</td><td>2023-09-06T19:48:52Z</td><td>Há trilhões de microrganismos, incluindo bactérias, fungos e vírus, no interior do trato gastrointestinal conjunto que leva o nome de microbiota. É quase o mesmo número de células em um corpo humano.… [+3585 chars]</td></tr><tr><td>List(null, [Removed])</td><td>null</td><td>[Removed]</td><td>[Removed]</td><td>https://removed.com</td><td>null</td><td>1970-01-01T00:00:00Z</td><td>[Removed]</td></tr><tr><td>List(null, Terra.com.br)</td><td>Portal EdiCase</td><td>Entenda o que é a hipercifose e como tratar essa condição</td><td>A hipercifose, também conhecida popularmente como 'corcunda', trata-se de uma doença óssea ...</td><td>https://www.terra.com.br/vida-e-estilo/saude/entenda-o-que-e-a-hipercifose-e-como-tratar-essa-condicao,323d34d575b92837f1fad0d49bfe650b67beo2wl.html</td><td>https://p2.trrsf.com/image/fget/cf/1200/630/middle/images.terra.com/2023/10/02/638203844-coluna-dores.jpeg</td><td>2023-10-02T17:31:30Z</td><td>A hipercifose, também conhecida popularmente como 'corcunda', trata-se de uma doença óssea causada por um desvio corporal que, normalmente, faz com que as pessoas tenham uma curvatura na região torác… [+2694 chars]</td></tr><tr><td>List(null, Abril.com.br)</td><td>Paula Felix</td><td>OMS recomenda vacinas contra malária e dengue diante de onda de mosquitos</td><td>Entidade fez alerta sobre risco das doenças principalmente para crianças; Qdenga foi aprovada para uso no Brasil em março</td><td>https://veja.abril.com.br/saude/oms-recomenda-vacinas-contra-malaria-e-dengue-diante-de-onda-de-mosquitos</td><td>https://veja.abril.com.br/wp-content/uploads/2023/06/aedes_aegypti-dengue2.webp?w=680&h=453&crop=1</td><td>2023-10-02T22:47:48Z</td><td>Diante do aumento das doenças transmitidas por mosquitos em diferentes partes do mundo, a Organização Mundial da Saúde (OMS) divulgou nesta segunda-feira, 2, um comunicado recomendando a nova vacina … [+2768 chars]</td></tr><tr><td>List(null, Sapo.pt)</td><td>Rui Jorge</td><td>Poria o seu cérebro nas mãos da IA? Será uma realidade dentro de dois anos</td><td>Um importante neurocirurgião do Reino Unido afirmou que a cirurgia cerebral com recurso à inteligência artificial (IA) será possível dentro de dois anos, tornando-a mais segura e eficaz.   O governo britânico afirma que...</td><td>https://pplware.sapo.pt/inteligencia-artificial/poria-o-seu-cerebro-nas-maos-da-ia-sera-uma-realidade-dentro-de-dois-anos/</td><td>https://pplware.sapo.pt/wp-content/uploads/2022/01/cirurgia_robo00.jpg</td><td>2023-09-30T10:00:12Z</td><td>Um importante neurocirurgião do Reino Unido afirmou que a cirurgia cerebral com recurso à inteligência artificial (IA) será possível dentro de dois anos, tornando-a mais segura e eficaz.\r\n",
       "O governo b… [+2511 chars]</td></tr><tr><td>List(null, Olhardigital.com.br)</td><td>Nayra Teles</td><td>USP: terapia celular pode reduzir mortes por Covid-19</td><td>Pesquisadores da Universidade de São Paulo (USP) descobriram que a terapia celular pode reduzir em 60% o risco de morte por COVID-19\n",
       "O post USP: terapia celular pode reduzir mortes por Covid-19 apareceu primeiro em Olhar Digital.</td><td>https://olhardigital.com.br/2023/09/19/medicina-e-saude/usp-terapia-celular-pode-reduzir-mortes-por-covid-19/</td><td>https://proxy.olhardigital.com.br/wp-content/uploads/2023/09/terapia-celular.png</td><td>2023-09-19T21:03:20Z</td><td>A terapia celular, bastante utilizada em tratamentos contra o cÃ¢ncer, tem grande potencial contra a Covid-19. Ã o que aponta a revisÃ£o sistemÃ¡tica e meta-anÃ¡lise realizada por pesquisadores da U… [+4229 chars]</td></tr><tr><td>List(null, Terra.com.br)</td><td>Porto Alegre 24 horas</td><td>HCPA busca voluntários para estudo clínico que avalia medicamento experimental para o COVID-19</td><td>Hospital de Clínicas está com inscrições abertas para adultos acima de 18 (dezoito) anos portadores de doenças crônicas como, por exemplo, diabetes, obesidade, hipertensão ou doenças cardiovasculares, que testaram positivo para COVID-19 nos últimos três dias …</td><td>https://www.terra.com.br/noticias/hcpa-busca-voluntarios-para-estudo-clinico-que-avalia-medicamento-experimental-para-o-covid-19,6ce0dbd8c3d6c7770745a34adf194601wibvrrif.html</td><td>https://p2.trrsf.com/image/fget/cf/1200/630/middle/images.terra.com/2023/09/20/717673475-fachada2-1536x1021-1.jpg</td><td>2023-09-20T15:41:12Z</td><td>O Hospital de Clínicas de Porto Alegre ainda está com vagas abertas para voluntários que queiram colaborar com o SCORPIO-HR, um estudo clínico global de Fase 3 com pacientes não hospitalizados e sint… [+3502 chars]</td></tr><tr><td>List(null, [Removed])</td><td>null</td><td>[Removed]</td><td>[Removed]</td><td>https://removed.com</td><td>null</td><td>1970-01-01T00:00:00Z</td><td>[Removed]</td></tr><tr><td>List(null, [Removed])</td><td>null</td><td>[Removed]</td><td>[Removed]</td><td>https://removed.com</td><td>null</td><td>1970-01-01T00:00:00Z</td><td>[Removed]</td></tr><tr><td>List(null, Olhardigital.com.br)</td><td>Alessandro Di Lorenzo</td><td>Novo vírus é descoberto nas profundezas da Fossa das Marianas</td><td>Bacteriófago, um tipo de vírus que infecta e se replica dentro de bactérias, foi localizado a uma profundidade de 8.900 metros\n",
       "O post Novo vírus é descoberto nas profundezas da Fossa das Marianas apareceu primeiro em Olhar Digital.</td><td>https://olhardigital.com.br/2023/09/21/ciencia-e-espaco/novo-virus-e-descoberto-nas-profundezas-da-fossa-das-marianas/</td><td>https://proxy.olhardigital.com.br/wp-content/uploads/2023/09/Fossa-das-marianas-1.jpg</td><td>2023-09-21T20:26:34Z</td><td>Segundo dados da AdministraÃ§Ã£o Nacional OceÃ¢nica e AtmosfÃ©rica dos Estados Unidos,apenas cerca de 20% do fundo do mar foi mapeado atÃ© hoje. Uma descoberta de uma equipe internacional de pesquisa… [+2809 chars]</td></tr><tr><td>List(null, Jovemnerd.com.br)</td><td>Pedro Siqueira</td><td>Netflix põe camisinha em monumento para divulgação dura de Sex Education</td><td>Streaming elevou o marketing a um novo nível para a temporada final da série\n",
       "The post Netflix põe camisinha em monumento para divulgação dura de Sex Education appeared first on Jovem Nerd.</td><td>https://jovemnerd.com.br/nerdbunker/netflix-camisinha-gigante-sex-education/</td><td>https://uploads.jovemnerd.com.br/wp-content/uploads/2023/09/netflix_sex_education_obelisco__25030n3ow.jpg</td><td>2023-09-23T15:07:35Z</td><td>A divulgação da temporada final de Sex Education está duríssima. Tanto que a Netflix colocou uma CAMISINHA GIGANTE no Obelisco, um dos maiores monumentos da Argentina, num vídeo promocional que vem c… [+897 chars]</td></tr><tr><td>List(null, Abril.com.br)</td><td>Paula Felix</td><td>Injeção semanal para deficiência de hormônio do crescimento é liberada</td><td>Medicação para crianças e adultos reduz em 85% o número de aplicações por ano; preço não foi definido e lançamento no Brasil ainda será anunciado</td><td>https://veja.abril.com.br/saude/injecao-semanal-para-deficiencia-de-hormonio-do-crescimento-e-liberada</td><td>https://veja.abril.com.br/wp-content/uploads/2016/05/alx_465382081_original1.jpeg?quality=90&strip=info&w=680&h=453&crop=1</td><td>2023-09-25T21:40:54Z</td><td>Uma nova opção de tratamento para crianças e adultos com deficiência do hormônio do crescimento (GH) com aplicação subcutânea semanal, por meio de uma “caneta”, foi liberada no Brasil nesta segunda-f… [+2629 chars]</td></tr><tr><td>List(null, Terra.com.br)</td><td>Sport Life</td><td>Abacate emagrece? Descubra 14 benefícios secretos da fruta</td><td>Abacate emagrece ou engorda? Essa dúvida é comum em pessoas que são fãs do sabor da fruta. Por ...</td><td>https://www.terra.com.br/vida-e-estilo/abacate-emagrece-descubra-14-beneficios-secretos-da-fruta,1079792ed39d3e3303fdd4fd29d5b3d3tj80nanf.html</td><td>https://p2.trrsf.com/image/fget/cf/1200/630/middle/images.terra.com/2023/09/07/392743629-shutterstock785296315-1.jpg</td><td>2023-09-07T19:02:17Z</td><td>Abacate emagrece ou engorda? Essa dúvida é comum em pessoas que são fãs do sabor da fruta. Por ser um alimento natural, muitos acreditam que o abacate ajuda a emagrecer. Por outro lado, os altos níve… [+4997 chars]</td></tr><tr><td>List(null, [Removed])</td><td>null</td><td>[Removed]</td><td>[Removed]</td><td>https://removed.com</td><td>null</td><td>1970-01-01T00:00:00Z</td><td>[Removed]</td></tr><tr><td>List(null, Uol.com.br)</td><td>null</td><td>null</td><td>A molécula sintetiza o conjunto de proteínas que um organismo necessita para viver</td><td>https://www1.folha.uol.com.br/ciencia/2023/09/rna-de-tigre-da-tasmania-extinto-e-recuperado-pela-primeira-vez.shtml</td><td>https://f.i.uol.com.br/fotografia/2023/09/19/1695178196650a5dd469a9a_1695178196_3x2_rt.jpg</td><td>2023-09-20T10:50:04Z</td><td>O tigre-da-tasmânia, um marsupial carnívoro listrado do tamanho de um cachorro, também chamado de tilacino, era um predador de ponta que caçava cangurus e outras presas e já vagou pelo território con… [+2149 chars]</td></tr><tr><td>List(null, Catracalivre.com.br)</td><td>Redação</td><td>Saiba quais atividades físicas reduzem risco de 9 tipos de câncer</td><td>A aptidão cardiorrespiratória, responsável pela capacidade de executar atividades físicas aeróbicos prolongados, pode ser a chave para a prevenção de</td><td>https://catracalivre.com.br/saude-bem-estar/saiba-quais-atividades-fisicas-reduzem-risco-de-9-tipos-de-cancer/</td><td>https://catracalivre.com.br/cdn-cgi/image/f=auto,q=60,w=1200,h=638,fit=cover,format=jpeg/wp-content/uploads/2023/08/istock-1168199832.jpg</td><td>2023-09-11T02:30:05Z</td><td>A aptidão cardiorrespiratória, responsável pela capacidade de executar atividades físicas aeróbicos prolongados, pode ser a chave para a prevenção de diversos tipos de câncer. Um estudo recente, publ… [+2947 chars]</td></tr><tr><td>List(null, [Removed])</td><td>null</td><td>[Removed]</td><td>[Removed]</td><td>https://removed.com</td><td>null</td><td>1970-01-01T00:00:00Z</td><td>[Removed]</td></tr><tr><td>List(null, Uol.com.br)</td><td>null</td><td>null</td><td>Cálculo biliar bovino, chamado de pedra de fel, é usado na medicina oriental para tratar doenças respiratórias</td><td>https://www1.folha.uol.com.br/mercado/2023/09/criminosos-roubam-r-2-milhoes-em-pedras-de-boi-no-interior-de-sp.shtml</td><td>https://f.i.uol.com.br/fotografia/2023/09/21/1695325609650c9da9b56df_1695325609_3x2_lg.jpg</td><td>2023-09-22T00:51:36Z</td><td>Três homensassaltaram uma empresa de exportação no interior de São Paulo e levaram 2,7 quilos de cálculo biliar bovino, também conhecido como pedra de fel, avaliado em R$ 2 milhões, segundo a Delegac… [+1877 chars]</td></tr><tr><td>List(null, Observador.pt)</td><td>Agência Lusa</td><td>Idosos vítimas de maus tratos apresentam mais doença física e mental</td><td>Dados \"assustadores\" de um estudo português revelam que os idosos que sofrem violência intra-familiar ou de cuidadores \"são muito mais doentes, têm muitas mais patologias do que a restante população\".</td><td>https://observador.pt/2023/09/29/idosos-vitimas-de-maus-tratos-apresentam-mais-doenca-fisica-e-mental/</td><td>https://wm.observador.pt/wm/obs/l/https%3A%2F%2Fbordalo.observador.pt%2Fv2%2Frs%3Afill%3A770%3A403%2Fc%3A2121%3A1192%3Anowe%3A0%3A111%2Fq%3A85%2Fplain%2Fhttps%3A%2F%2Fs3.observador.pt%2Fwp-content%2Fuploads%2F2022%2F02%2F09214115%2FGettyImages-1290458362.jpg</td><td>2023-09-29T09:52:20Z</td><td>Um estudo da Faculdade de Medicina da Universidade do Porto (FMUP) revelou que os idosos vítimas de maus tratos apresentam mais doença física e mental, algo “assustador” que para os investigadores de… [+3910 chars]</td></tr><tr><td>List(null, Tecmundo.com.br)</td><td>Fabio Dominski</td><td>Atividade física no trabalho faz bem?</td><td>Este texto foi escrito por um colunista do TecMundo; saiba mais no final.\"Eu me movimento bastante no trabalho, não preciso de exercícios”, já ouviu alguém falar isso? Essa pessoa provavelmente tem uma alta demanda energética em seu trabalho e acredita que is…</td><td>https://www.tecmundo.com.br/ciencia/271824-atividade-fisica-trabalho.htm</td><td>https://tm.ibxk.com.br/2023/09/20/20121343539166.jpg</td><td>2023-09-20T17:00:00Z</td><td>Este texto foi escrito por um colunista do TecMundo; saiba mais no final.\r\n",
       "\"Eu me movimento bastante no trabalho, não preciso de exercícios, já ouviu alguém falar isso? Essa pessoa provavelmente tem … [+5260 chars]</td></tr><tr><td>List(null, Tecmundo.com.br)</td><td>Jennifer Egues</td><td>SUS Digital: uso inteligência artificial pode melhorar a saúde pública?</td><td>O Ministério da Saúde estuda implementar ferramentas de Inteligência Artificial (IA) no Sistema Único de Saúde, objetivando melhorar o atendimento, agilizando processos e estendo atendimento a regiões de difícil acesso físico.Para a pasta, a implementação da …</td><td>https://www.tecmundo.com.br/ciencia/267730-sus-digital-uso-inteligencia-artificial-melhorar-saude-publica.htm</td><td>https://tm.ibxk.com.br/2023/08/18/18144410198207.jpg</td><td>2023-09-04T14:30:01Z</td><td>O Ministério da Saúde estuda implementar ferramentas de Inteligência Artificial (IA) no Sistema Único de Saúde, objetivando melhorar o atendimento, agilizando processos e estendo atendimento a regiõe… [+5930 chars]</td></tr><tr><td>List(null, Sapo.pt)</td><td>Ana Sofia Neto</td><td>Afinal, o açúcar prejudica ou não a saúde?</td><td>O açúcar está em tantos alimentos que, certamente, surpreender-se-ia com alguns deles. Mas, assim sendo, será assim tão prejudicial? É um tema complexo, como muitos deles na nutrição, e parece ser pouco claro para...</td><td>https://pplware.sapo.pt/ciencia/afinal-o-acucar-prejudica-ou-nao-a-saude/</td><td>https://pplware.sapo.pt/wp-content/uploads/2023/09/bolo00.jpg</td><td>2023-09-15T20:00:17Z</td><td>O açúcar está em tantos alimentos que, certamente, surpreender-se-ia com alguns deles. Mas, assim sendo, será assim tão prejudicial?\r\n",
       "É um tema complexo, como muitos deles na nutrição, e parece ser p… [+3659 chars]</td></tr><tr><td>List(null, Observador.pt)</td><td>Observador</td><td>Descoberta nova célula no cérebro que pode ajudar a estudar o Alzheimer</td><td>Novo estudo revela a existência de uma nova célula, que pode ajudar a explicar o desenvolvimento de doenças neurodegenerativas e a localizar \"potenciais alvos terapêuticos\".</td><td>https://observador.pt/2023/09/06/descoberta-nova-celula-no-cerebro-que-pode-ajudar-a-estudar-o-alzheimer/</td><td>https://wm.observador.pt/wm/obs/l/https%3A%2F%2Fbordalo.observador.pt%2Fv2%2Frs%3Afill%3A770%3A403%2Fc%3A3543%3A1993%3Anowe%3A0%3A131%2Fq%3A85%2Fplain%2Fhttps%3A%2F%2Fs3.observador.pt%2Fwp-content%2Fuploads%2F2023%2F09%2F06184926%2Fgettyimages-1487034049.jpg</td><td>2023-09-06T18:08:06Z</td><td>A cada três segundos, há uma pessoa no mundo a desenvolver demência. Em 2020, os dados recolhidos pelo Alzheimer’s Disease International (ADI) mostravam que havia mais de 55 milhões de pessoas a vive… [+2235 chars]</td></tr><tr><td>List(null, Observador.pt)</td><td>Inês André Figueiredo</td><td>Mosquito que transmite dengue e zika detetado em Lisboa pela primeira vez</td><td>DGS reforçou a vigilância entomológica e epidemiológica, mas garantiu que não foram identificados nestes mosquitos quaisquer agentes de doenças que possam ser transmitidas às pessoas.</td><td>https://observador.pt/2023/09/27/mosquito-que-transmite-dengue-e-zika-detetado-em-lisboa-pela-primeira-vez/</td><td>https://wm.observador.pt/wm/obs/l/https%3A%2F%2Fbordalo.observador.pt%2Fv2%2Frs%3Afill%3A770%3A403%2Fc%3A1998%3A1126%3Anowe%3A0%3A100%2Fq%3A85%2Fplain%2Fhttps%3A%2F%2Fs3.observador.pt%2Fwp-content%2Fuploads%2F2019%2F04%2F15200407%2F20319704.jpg</td><td>2023-09-27T16:25:37Z</td><td>A Direção-Geral de Saúde (DGS) revelou que a espécie de mosquitos Aedes albopictus foi identificada pela primeira vez em Lisboa e alertou que este mosquito pode transmitir doenças como chikungunya, d… [+1110 chars]</td></tr><tr><td>List(null, Observador.pt)</td><td>Carolina Sobral</td><td>Cientistas criam modelo de embrião sem espermatozoide, óvulo ou útero. É o primeiro que imita em completo um embrião humano</td><td>Modelo foi desenvolvido a partir de células estaminais que se organizaram em estruturas que imitam a organização 3D de um embrião real com 14 dias. O modelo deu positivo num teste de gravidez.</td><td>https://observador.pt/2023/09/06/cientistas-criam-modelo-de-embriao-sem-espermatozoide-ovulo-ou-utero-e-o-primeiro-que-imita-em-completo-um-embriao-humano/</td><td>https://wm.observador.pt/wm/obs/l/https%3A%2F%2Fbordalo.observador.pt%2Fv2%2Frs%3Afill%3A770%3A403%2Fc%3A2000%3A1124%3Anowe%3A0%3A104%2Fq%3A85%2Fplain%2Fhttps%3A%2F%2Fs3.observador.pt%2Fwp-content%2Fuploads%2F2019%2F02%2F28085820%2Fistock-904268950.jpg</td><td>2023-09-06T16:31:46Z</td><td>Sem recurso a espermatozoide, óvulos ou um útero, cientistas criaram pela primeira vez um modelo de embriões humanos que imita de forma completa todas as características conhecidas num embrião real. … [+1946 chars]</td></tr><tr><td>List(null, Observador.pt)</td><td>Sofia Teixeira</td><td>Que ondas cerebrais são estas?</td><td>O cérebro emite misteriosos padrões de atividade que estão alterados em doentes  com doenças neurológicas ou psiquiátricas. Na Universidade do Minho, Joana Cabral tenta conhecer melhor estes sinais.</td><td>https://observador.pt/2023/09/25/que-ondas-cerebrais-sao-estas/</td><td>https://wm.observador.pt/wm/obs/l/https%3A%2F%2Fbordalo.observador.pt%2Fv2%2Frs%3Afill%3A770%3A403%2Fc%3A3200%3A1796%3Anowe%3A0%3A340%2Fq%3A85%2Fplain%2Fhttps%3A%2F%2Fs3.observador.pt%2Fwp-content%2Fuploads%2F2023%2F09%2F25012852%2F0-20230807-goncalo-villaverde-0205.jpg</td><td>2023-09-25T13:49:21Z</td><td>Uma iniciativa\r\n",
       "Há momentos em que o cérebro de Joana Cabral parece um carro de Fórmula Um: é muito difícil de acompanhar quando acelera a fundo. Salta de raciocínio em raciocínio, estabelece pontes … [+12097 chars]</td></tr><tr><td>List(null, Terra.com.br)</td><td>Elas no Tapete Vermelho</td><td>VMA 2023: Anitta repete grife de 2022 e elege look Schiaparelli</td><td>A Schiaparelli tem em seu DNA o surrealismo. Fato esse que agrada em cheio famosas, como Anitta, ...</td><td>https://www.terra.com.br/vida-e-estilo/autocuidado/moda/vma-2023-anitta-repete-grife-de-2022-e-elege-look-schiaparelli,fee499f8c205c826421124c9561fae83mmokijah.html</td><td>https://p2.trrsf.com/image/fget/cf/1200/630/middle/images.terra.com/2023/09/12/1728798519-37802777434786638823962214802485532612152661n-e1694562071640.jpg</td><td>2023-09-12T23:48:05Z</td><td>A Schiaparelli tem em seu DNA o surrealismo. Fato esse que agrada em cheio famosas, como Anitta, que pelo segundo ano consecutivo elegeu a grife francesa para cruzar o tapete vermelho do VMA (Video M… [+1146 chars]</td></tr><tr><td>List(null, Pragmatismopolitico.com.br)</td><td>Redação</td><td>Benefícios das substâncias encontradas no vinho: uma análise científica</td><td>É importante ter cuidado ao consumi-lo e sempre respeitar as contraindicações e limites recomendados. É possível encontrar de forma acessível bons vinhos no mercado, mas é fundamental ter consciência dos riscos e sempre consumir com moderação\n",
       "O post Benefício…</td><td>https://www.pragmatismopolitico.com.br/2023/10/beneficios-substancias-encontradas-vinho-analise-cientifica.html</td><td>https://www.pragmatismopolitico.com.br/wp-content/uploads/2023/10/beneficios-substancias-encontradas-vinho-analise-cientifica.jpg</td><td>2023-10-02T11:30:18Z</td><td>É importante ter cuidado ao consumi-lo e sempre respeitar as contraindicações e limites recomendados. É possível encontrar de forma acessível bons vinhos no mercado, mas é fundamental ter consciência… [+22678 chars]</td></tr><tr><td>List(null, Olhardigital.com.br)</td><td>Alessandro Di Lorenzo</td><td>EUA: vacina experimental contra HIV será testada em humanos</td><td>No total, 95 participantes serão divididos em grupos, com três deles recebendo dosagens diferentes da vacina contra o HIV\n",
       "O post EUA: vacina experimental contra HIV será testada em humanos apareceu primeiro em Olhar Digital.</td><td>https://olhardigital.com.br/2023/09/22/medicina-e-saude/eua-vacina-experimental-contra-hiv-sera-testada-em-humanos/</td><td>https://proxy.olhardigital.com.br/wp-content/uploads/2022/03/HIV-capa.jpg</td><td>2023-09-22T14:46:06Z</td><td>A empresa Vir Biotechnology anunciou o inÃ­cio dos testes em humanos de uma vacina experimental contra o HIV. A companhia norte-americana disse que espera ter os dados iniciais dos trabalhos de fase … [+2542 chars]</td></tr><tr><td>List(null, Olhardigital.com.br)</td><td>Lucas Gabriel Machado Henriques</td><td>Como a inteligência artificial pode ajudar na saúde mental</td><td>Entenda como a inteligência artificial pode ser usada para auxiliar no combate aos transtornos psicológicos e ajudar na saúde mental\n",
       "O post Como a inteligência artificial pode ajudar na saúde mental apareceu primeiro em Olhar Digital.</td><td>https://olhardigital.com.br/2023/09/11/medicina-e-saude/como-a-inteligencia-artificial-pode-ajudar-na-saude-mental/</td><td>https://img.olhardigital.com.br/wp-content/uploads/2023/09/capa-1.jpg</td><td>2023-09-11T15:33:19Z</td><td>Com a crescente utilizaÃ§Ã£o da inteligÃªncia artificial em diversos setores da indÃºstria e da sociedade, muitas tÃ©cnicas que usam essa tecnologia surgiram para melhorar o dia a dia das pessoas, au… [+2927 chars]</td></tr><tr><td>List(null, Olhardigital.com.br)</td><td>Pedro Borges Spadoni</td><td>Imunologista vence prêmio de inovação por tratamento contra câncer</td><td>O imunologista Michel Sadelain levou o prêmio Breakthrough por seu trabalho pioneiro na terapia com células CAR-T para câncer\n",
       "O post Imunologista vence prêmio de inovação por tratamento contra câncer apareceu primeiro em Olhar Digital.</td><td>https://olhardigital.com.br/2023/09/14/medicina-e-saude/imunologista-vence-premio-de-inovacao-por-tratamento-contra-cancer/</td><td>https://img.olhardigital.com.br/wp-content/uploads/2023/09/Destaque-Michel-Sadelain-imunologista-cancer.jpg</td><td>2023-09-15T01:08:01Z</td><td>O imunologista francÃªs-canadense Michel Sadelain venceu o prestigiado prÃªmio Breakthrough nesta quinta-feira (14) por seu trabalho pioneiro na terapia com cÃ©lulas CAR-T â uma nova forma de trata… [+3677 chars]</td></tr><tr><td>List(null, Olhardigital.com.br)</td><td>Lucas Soares</td><td>Alienígenas do México são reais? Entenda a polêmica</td><td>Nesta quarta-feira (13) o mundo a ufologia foi surpreendido com uma apresentação no congresso mexicano onde um ufólogo mostrou supostos cadáveres de alienígenas. Pelo histórico polêmico do pesquisador, a notícia já foi encarada com ceticismo. De acordo com o …</td><td>https://olhardigital.com.br/2023/09/14/ciencia-e-espaco/alienigenas-do-mexico-sao-reais-entenda-a-polemica/</td><td>https://img.olhardigital.com.br/wp-content/uploads/2023/09/alienigenas-mexico.jpg</td><td>2023-09-14T16:03:07Z</td><td>Nesta quarta-feira (13) o mundo a ufologia foi surpreendido com uma apresentaÃ§Ã£o no congresso mexicano onde um ufÃ³logo mostrou supostos cadÃ¡veres de alienÃ­genas. Pelo histÃ³rico polÃªmico do pes… [+2991 chars]</td></tr><tr><td>List(null, Olhardigital.com.br)</td><td>Mateus Dias</td><td>Ufólogo de supostos aliens do México já foi desmascarado outras vezes</td><td>Jaime Maussan apresentou no México restos mortais de alienígenas, no entanto, toda essa historia pode ser mentira\n",
       "O post Ufólogo de supostos aliens do México já foi desmascarado outras vezes apareceu primeiro em Olhar Digital.</td><td>https://olhardigital.com.br/2023/09/14/ciencia-e-espaco/ufologo-de-supostos-aliens-do-mexico-ja-foi-desmascarado-outras-vezes/</td><td>https://img.olhardigital.com.br/wp-content/uploads/2023/09/Jaime-Maussan.jpg</td><td>2023-09-14T20:07:00Z</td><td>Na terÃ§a-feira (12), o ufÃ³logo e jornalista Jaime Maussan apresentou ao Congresso do MÃ©xico os restos mortais de dois supostos alienÃ­genas. A demonstraÃ§Ã£o dos espÃ©cimes aconteceu durante uma a… [+2753 chars]</td></tr><tr><td>List(null, Tecmundo.com.br)</td><td>Jorge Marin</td><td>Google DeepMind: nova ferramenta de IA prevê doenças genéticas</td><td>Um novo programa de inteligência artificial desenvolvido por cientistas do Google DeepMind é capaz de prever se milhões de mutações genéticas presentes em nossa sequência de DNA que são inofensivas ou propensas a causar doenças no futuro. Batizada como AlphaM…</td><td>https://www.tecmundo.com.br/ciencia/271822-google-deepmind-nova-ferramenta-ia-preve-doencas-geneticas.htm</td><td>https://tm.ibxk.com.br/2023/09/20/20120248396161.jpg</td><td>2023-09-20T15:15:00Z</td><td>Um novo programa de inteligência artificial desenvolvido por cientistas do Google DeepMind é capaz de prever se milhões de mutações genéticas presentes em nossa sequência de DNA que são inofensivas o… [+2940 chars]</td></tr><tr><td>List(null, Olhardigital.com.br)</td><td>Alessandro Di Lorenzo</td><td>Estudo descobre novas características genéticas do Alzheimer</td><td>A descoberta, segundo os pesquisadores, pode contribuir para o desenvolvimento futuro de exames de sangue para a doença de Alzheimer\n",
       "O post Estudo descobre novas características genéticas do Alzheimer apareceu primeiro em Olhar Digital.</td><td>https://olhardigital.com.br/2023/09/07/medicina-e-saude/estudo-descobre-novas-caracteristicas-geneticas-do-alzheimer/</td><td>https://img.olhardigital.com.br/wp-content/uploads/2023/05/Alzheimer.jpg</td><td>2023-09-07T10:01:00Z</td><td>Pesquisadores da Universidade de Pittsburgh, nos Estados Unidos, analisaram milhares de genomas humanos para encontrar novas variaÃ§Ãµes genÃ©ticas responsÃ¡veis por controlar os nÃ­veis de molÃ©cula… [+2542 chars]</td></tr><tr><td>List(null, Sapo.pt)</td><td>Ana Sofia Neto</td><td>Cérebro artificial ajuda a perceber as origens genéticas do autismo</td><td>Uma nova técnica científica está a revelar as origens genéticas da perturbação do espetro do autismo (ou PEA) escondidas no nosso cérebro. O cérebro é curiosamente complexo e há muito sobre ele que ainda...</td><td>https://pplware.sapo.pt/ciencia/cerebro-artificial-ajuda-a-perceber-as-origens-geneticas-do-autismo/</td><td>https://pplware.sapo.pt/wp-content/uploads/2023/09/organoide_cerebral00.jpg</td><td>2023-09-24T13:00:25Z</td><td>Uma nova técnica científica está a revelar as origens genéticas da perturbação do espetro do autismo (ou PEA) escondidas no nosso cérebro.\r\n",
       "O cérebro é curiosamente complexo e há muito sobre ele que … [+3282 chars]</td></tr><tr><td>List(null, Tecmundo.com.br)</td><td>Jorge Marin</td><td>Miniórgãos descobertos em mamíferos podem gerar respostas autoimunes</td><td>Pesquisadores do Instituto Federal Suíço de Tecnologia de Zurique descobriram recentemente um tipo de organela que havia permanecido não caracterizada até agora nas células dos mamíferos. O “miniórgão”, batizado como exclusoma, é feito de anéis de DNA chamado…</td><td>https://www.tecmundo.com.br/ciencia/272244-miniorgaos-descobertos-mamiferos-gerar-respostas-autoimunes.htm</td><td>https://tm.ibxk.com.br/2023/10/02/02154244691267.jpg</td><td>2023-10-02T20:30:04Z</td><td>Pesquisadores do Instituto Federal Suíço de Tecnologia de Zurique descobriram recentemente um tipo de organela que havia permanecido não caracterizada até agora nas células dos mamíferos. O miniórgão… [+3134 chars]</td></tr><tr><td>List(null, Olhardigital.com.br)</td><td>Vitoria Lopes Gomez</td><td>Vacinas erradicaram doenças que, antes, matavam mais que guerras</td><td>Doenças como a poliomielite e a varíola, que mataram milhões no século passado, desapareceram graças às vacinas\n",
       "O post Vacinas erradicaram doenças que, antes, matavam mais que guerras apareceu primeiro em Olhar Digital.</td><td>https://olhardigital.com.br/2023/09/08/medicina-e-saude/vacinas-erradicaram-doencas-que-antes-matavam-mais-que-guerras/</td><td>https://img.olhardigital.com.br/wp-content/uploads/2023/07/vacina-e1692890816557.jpg</td><td>2023-09-08T20:30:20Z</td><td>NÃ£o Ã© incomum ouvir falar sobre a gravidade de doenÃ§as que hoje sequer nos lembramos. Ã o caso, por exemplo, da varÃ­ola e da poliomielite. Ambas mataram milhÃµes de pessoas no sÃ©culo passado, m… [+2308 chars]</td></tr><tr><td>List(null, Olhardigital.com.br)</td><td>Alessandro Di Lorenzo</td><td>IA brasileira é capaz de prever doenças com antecedência</td><td>A IA Dara pode coletar dados e realizar uma rápida varredura em todo o histórico médico do paciente, indicando riscos de saúde\n",
       "O post IA brasileira é capaz de prever doenças com antecedência apareceu primeiro em Olhar Digital.</td><td>https://olhardigital.com.br/2023/09/29/medicina-e-saude/ia-brasileira-e-capaz-de-prever-doencas-com-antecedencia/</td><td>https://proxy.olhardigital.com.br/wp-content/uploads/2023/09/iStock-1411998514.jpg</td><td>2023-09-29T21:04:45Z</td><td>Uma inteligÃªncia artificial desenvolvida por uma empresa brasileira pode ajudar a prevenir doenÃ§as como acidente vascular cerebral (AVC), infarto e diabetes, por exemplo. A Dara foi criada pela IPM… [+1959 chars]</td></tr><tr><td>List(null, Sapo.pt)</td><td>Rui Jorge</td><td>Cientistas adaptam a Realidade Virtual para utilização em consultas remotas</td><td>Os investigadores da Universidade de Canterbury criaram um headset de realidade virtual (RV) que poderá ser utilizado pelos médicos para realizar avaliações médicas de pacientes que vivem em zonas rurais, têm doenças infeciosas ou...</td><td>https://pplware.sapo.pt/high-tech/cientistas-adaptam-a-realidade-virtual-para-utilizacao-em-consultas-remotas/</td><td>https://pplware.sapo.pt/wp-content/uploads/2023/09/rv_medicina.jpg</td><td>2023-09-20T14:00:25Z</td><td>Os investigadores da Universidade de Canterbury criaram um headset de realidade virtual (RV) que poderá ser utilizado pelos médicos para realizar avaliações médicas de pacientes que vivem em zonas ru… [+3368 chars]</td></tr><tr><td>List(null, Olhardigital.com.br)</td><td>Flavia Correia</td><td>Bichos-da-seda transgênicos criam fibras mais resistentes do que tecido à prova de bala</td><td>Usando engenharia genética, cientistas inseriram genes de aranha em bichos-da-seda para produção de tecidos mais resistentes do que Kevlar\n",
       "O post Bichos-da-seda transgênicos criam fibras mais resistentes do que tecido à prova de bala apareceu primeiro em Olha…</td><td>https://olhardigital.com.br/2023/09/26/ciencia-e-espaco/bichos-da-seda-transgenicos-criam-fibras-mais-resistentes-do-que-tecido-a-prova-de-bala/</td><td>https://proxy.olhardigital.com.br/wp-content/uploads/2023/09/bicho-da-seda.jpg</td><td>2023-09-26T19:18:52Z</td><td>Cientistas utilizaram engenharia genÃ©tica para gerar bichos-da-seda capazes de produzir fibras mais resistentes do que o Kevlar, tambÃ©m chamado de poliaramida â material usado em coletes Ã  prova… [+3623 chars]</td></tr><tr><td>List(null, Olhardigital.com.br)</td><td>Alessandro Di Lorenzo</td><td>Estudo indica onde fica o lar original da humanidade</td><td>Pesquisadores criaram uma rede de quase 27 milhões de ancestrais, desenvolvendo uma gigantesca árvore genealógica da humanidade\n",
       "O post Estudo indica onde fica o lar original da humanidade apareceu primeiro em Olhar Digital.</td><td>https://olhardigital.com.br/2023/09/14/ciencia-e-espaco/estudo-indica-onde-fica-o-lar-original-da-humanidade/</td><td>https://img.olhardigital.com.br/wp-content/uploads/2022/03/deserto.jpg</td><td>2023-09-14T20:40:37Z</td><td>A histÃ³ria da humanidade Ã© marcada pelas migraÃ§Ãµes. Por milhares de anos, nossa espÃ©cie se deslocou pela Terra em busca de Ã¡gua, alimentos e tudo o que proporciona uma vida melhor. Mas existe u… [+2407 chars]</td></tr><tr><td>List(null, Olhardigital.com.br)</td><td>Alessandro Di Lorenzo</td><td>Segundo transplante com coração de porco para humano é feito com sucesso</td><td>O coração de porco transplantado tem 10 modificações genéticas para reduzir o risco de ser recusado pelo corpo do paciente\n",
       "O post Segundo transplante com coração de porco para humano é feito com sucesso apareceu primeiro em Olhar Digital.</td><td>https://olhardigital.com.br/2023/09/22/medicina-e-saude/segundo-transplante-com-coracao-de-porco-para-humano-e-feito-com-sucesso/</td><td>https://proxy.olhardigital.com.br/wp-content/uploads/2023/09/Transplante-1.jpg</td><td>2023-09-22T19:33:57Z</td><td>Pela segunda vez na histÃ³ria, cirurgiÃµes transplantaram o coraÃ§Ã£o de um porco em um homem na tentativa de prolongar sua vida. A operaÃ§Ã£o foi um sucesso e, dois dias depois, o paciente estava fa… [+2546 chars]</td></tr><tr><td>List(null, Olhardigital.com.br)</td><td>Mateus Dias</td><td>Cientistas encontram povo na África que acreditavam ter sumido</td><td>Apesar da língua da população estar deixando de existir, suas distinções genéticas continuam presente nos descendentes\n",
       "O post Cientistas encontram povo na África que acreditavam ter sumido apareceu primeiro em Olhar Digital.</td><td>https://olhardigital.com.br/2023/09/27/ciencia-e-espaco/cientistas-encontram-povo-na-africa-que-acreditavam-ter-sumido/</td><td>https://olhardigital.com.br/wp-content/uploads/2023/09/ultimos-faantes-do-Kwadi.webp</td><td>2023-09-27T19:34:40Z</td><td>A Ãfrica Austral abriga uma regiÃ£o conhecida como berÃ§o da humanidade, local onde os primeiros hominÃ­deos surgiram. Por causa disso, Ã© possÃ­vel encontrar a maior diversidade genÃ©tica humana po… [+2079 chars]</td></tr><tr><td>List(null, [Removed])</td><td>null</td><td>[Removed]</td><td>[Removed]</td><td>https://removed.com</td><td>null</td><td>1970-01-01T00:00:00Z</td><td>[Removed]</td></tr><tr><td>List(null, Tecmundo.com.br)</td><td>Jennifer Egues</td><td>Dara, a IA capaz de prever infartos e AVCs com dados do SUS</td><td>Nova inteligência artificial, desenvolvida pela empresa IPM Sistemas, uma GovTech brasileira, pode ser utilizada no serviço público de saúde, otimizando dados e gerando sinais de alerta para doenças como acidente vascular cerebral, infarto e previsões com até…</td><td>https://www.tecmundo.com.br/ciencia/272151-dara-ia-capaz-prever-infartos-avcs-dados-sus.htm</td><td>https://tm.ibxk.com.br/2023/09/28/28172505232225.jpg</td><td>2023-09-29T13:00:00Z</td><td>Nova inteligência artificial, desenvolvida pela empresa IPM Sistemas, uma GovTech brasileira, pode ser utilizada no serviço público de saúde, otimizando dados e gerando sinais de alerta para doenças … [+2737 chars]</td></tr><tr><td>List(null, Olhardigital.com.br)</td><td>Tamires Ferreira</td><td>‘Vacina inversa’ pode ser a chave para tratar doenças autoimunes; entenda</td><td>Ação do fármaco no sistema imunológico pode apagar a memória de ataque das moléculas\n",
       "O post ‘Vacina inversa’ pode ser a chave para tratar doenças autoimunes; entenda  apareceu primeiro em Olhar Digital.</td><td>https://olhardigital.com.br/2023/09/13/medicina-e-saude/vacina-inversa-pode-ser-a-chave-para-tratar-doencas-autoimunes-entenda/</td><td>https://img.olhardigital.com.br/wp-content/uploads/2023/09/doenca-autoimune.jpg</td><td>2023-09-13T17:37:31Z</td><td>Um novo tipo de vacina desenvolvida por pesquisadores da Escola Pritzker de Engenharia Molecular (PME)Â pode ser o novo tratamento mais promissor contra doenÃ§as autoimunes. Com uma proposta de aÃ§Ã£… [+2774 chars]</td></tr><tr><td>List(null, Olhardigital.com.br)</td><td>Alessandro Di Lorenzo</td><td>Google: pesquisadores fazem descoberta histórica sobre proteínas do corpo humano</td><td>Foram catalogadas 71 milhões de mutações e um terço delas poderia causar doenças. Apenas 4 milhões já eram conhecidas pela ciência\n",
       "O post Google: pesquisadores fazem descoberta histórica sobre proteínas do corpo humano apareceu primeiro em Olhar Digital.</td><td>https://olhardigital.com.br/2023/09/19/medicina-e-saude/google-pesquisadores-fazem-descoberta-historica-sobre-proteinas-do-corpo-humano/</td><td>https://proxy.olhardigital.com.br/wp-content/uploads/2023/09/Proteina-1.jpg</td><td>2023-09-19T19:46:08Z</td><td>Pesquisadores doÂ Google DeepMind, empresa de inteligÃªncia artificial da Alphabet, catalogaram 71 milhÃµes de mutaÃ§Ãµes em proteÃ­nas do corpo humano. Ao classificÃ¡-las, eles descobriram que um te… [+3867 chars]</td></tr><tr><td>List(null, [Removed])</td><td>null</td><td>[Removed]</td><td>[Removed]</td><td>https://removed.com</td><td>null</td><td>1970-01-01T00:00:00Z</td><td>[Removed]</td></tr><tr><td>List(null, [Removed])</td><td>null</td><td>[Removed]</td><td>[Removed]</td><td>https://removed.com</td><td>null</td><td>1970-01-01T00:00:00Z</td><td>[Removed]</td></tr><tr><td>List(null, Olhardigital.com.br)</td><td>Vitoria Lopes Gomez</td><td>Modelo matemático pode revolucionar tratamentos cardíacos</td><td>Através do simulador, cientistas poderão entender o funcionamento das doenças cardíacas no coração e, assim, achar novas formas de tratá-las\n",
       "O post Modelo matemático pode revolucionar tratamentos cardíacos apareceu primeiro em Olhar Digital.</td><td>https://olhardigital.com.br/2023/09/19/medicina-e-saude/modelo-matematico-pode-revolucionar-tratamentos-cardiacos/</td><td>https://proxy.olhardigital.com.br/wp-content/uploads/2022/10/coracao-humano.jpg</td><td>2023-09-19T07:55:00Z</td><td>Um estudo feito por pesquisadores da ItÃ¡lia mostrou que a matemÃ¡tica pode salvar vidas â e prevenir infartos. Os cientistas criaram um modelo matemÃ¡tico computacional do coraÃ§Ã£o para simular o… [+1772 chars]</td></tr><tr><td>List(null, Olhardigital.com.br)</td><td>Vitoria Lopes Gomez</td><td>Estudo mostra que vape (com ou sem nicotina) paralisa células imunológicas</td><td>Pesquisadores testaram e comprovaram que vapor do vape afeta o sistema imunológico, aumentando o risco de doenças respiratórias\n",
       "O post Estudo mostra que vape (com ou sem nicotina) paralisa células imunológicas apareceu primeiro em Olhar Digital.</td><td>https://olhardigital.com.br/2023/09/11/medicina-e-saude/estudo-mostra-que-vape-com-ou-sem-nicotina-paralisa-celulas-imunologicas/</td><td>https://img.olhardigital.com.br/wp-content/uploads/2023/09/vape-1.jpg</td><td>2023-09-11T19:11:30Z</td><td>O vape (ou cigarro eletrÃ´nico) ganhou terreno, especialmente entre os jovens. As fabricantes conseguiram popularizar o produto dizendo atÃ© que seria um âsubstitutoâ menos nocivo para quem queri… [+2051 chars]</td></tr><tr><td>List(null, Olhardigital.com.br)</td><td>Vitoria Lopes Gomez</td><td>Fiocruz: Covid-19 avança no Sudeste e Centro-Oeste</td><td>Alguns estados do Norte e Nordeste também tiveram alta nos casos de Covid-19 e de outras doenças respiratórias\n",
       "O post Fiocruz: Covid-19 avança no Sudeste e Centro-Oeste apareceu primeiro em Olhar Digital.</td><td>https://olhardigital.com.br/2023/09/20/medicina-e-saude/fiocruz-covid-19-avanca-no-sudeste-e-centro-oeste/</td><td>https://proxy.olhardigital.com.br/wp-content/uploads/2023/07/virus-covid-19.jpg</td><td>2023-09-20T18:58:26Z</td><td>A FundaÃ§Ã£o Oswaldo Cruz (Fiocruz) divulgou nesta quarta-feira (20) uma atualizaÃ§Ã£o do boletim InfoGripe, com dados de 10 a 16 de setembro. O novo relatÃ³rio mostra um aumento de casos de Covid-19… [+2167 chars]</td></tr><tr><td>List(null, Olhardigital.com.br)</td><td>Alessandro Di Lorenzo</td><td>Novo remédio imita prática de atividade física e pode reduzir peso</td><td>O remédio ainda está sendo testado em ratos, mas apresenta potencial para para tratar doenças como obesidade, diabetes e perda muscular\n",
       "O post Novo remédio imita prática de atividade física e pode reduzir peso apareceu primeiro em Olhar Digital.</td><td>https://olhardigital.com.br/2023/09/26/medicina-e-saude/novo-remedio-imita-pratica-de-atividade-fisica-e-pode-reduzir-peso/</td><td>https://proxy.olhardigital.com.br/wp-content/uploads/2023/09/OBESIDADE-1.jpg</td><td>2023-09-26T19:35:21Z</td><td>JÃ¡ imaginou tomar um remÃ©dio que garante os mesmos benefÃ­cios que a atividade fÃ­sica? Talvez isso nunca seja totalmente possÃ­vel, mas testes em ratos de um novo tipo de droga tÃªm se mostrado pr… [+3292 chars]</td></tr><tr><td>List(null, Olhardigital.com.br)</td><td>Alisson Santos</td><td>Autoridades de saúde dos EUA sugerem antibiótico para combater DSTs</td><td>Segundo autoridades, o medicamento deve servir como “pílula do dia seguinte” contra as doenças\n",
       "O post Autoridades de saúde dos EUA sugerem antibiótico para combater DSTs apareceu primeiro em Olhar Digital.</td><td>https://olhardigital.com.br/2023/10/03/medicina-e-saude/autoridades-de-saude-dos-eua-sugerem-antibiotico-para-combater-dsts/</td><td>https://proxy.olhardigital.com.br/wp-content/uploads/2023/09/Novos-antibioticos-1.jpg</td><td>2023-10-03T09:40:00Z</td><td>Autoridades de saÃºde dos Estados Unidos estÃ£o planejando apoiar o uso de antibiÃ³tico barato no combate as doenÃ§as sexualmente transmissÃ­veis (DSTs). Com os registros de contaminaÃ§Ã£o subindo em… [+1637 chars]</td></tr><tr><td>List(null, Tecmundo.com.br)</td><td>Lucas Vinicius Santos</td><td>Método quântico é capaz de curar câncer cerebral por meio de spray; entenda</td><td>De acordo com um estudo publicado na revista científica Nature Nanotechnology, uma equipe de cientistas ingleses conseguiu criar um método quântico por spray para curar um tipo de câncer cerebral. O estudo conduzido por pesquisadores Universidade de Nottingha…</td><td>https://www.tecmundo.com.br/ciencia/271666-metodo-quantico-capaz-curar-cancer-cerebral-meio-spray-entenda.htm</td><td>https://tm.ibxk.com.br/2023/09/15/15085246049017.jpg</td><td>2023-09-15T13:00:00Z</td><td>De acordo com um estudo publicado na revista científica Nature Nanotechnology, uma equipe de cientistas ingleses conseguiu criar um método quântico por spray para curar um tipo de câncer cerebral. O … [+2915 chars]</td></tr><tr><td>List(null, [Removed])</td><td>null</td><td>[Removed]</td><td>[Removed]</td><td>https://removed.com</td><td>null</td><td>1970-01-01T00:00:00Z</td><td>[Removed]</td></tr><tr><td>List(null, [Removed])</td><td>null</td><td>[Removed]</td><td>[Removed]</td><td>https://removed.com</td><td>null</td><td>1970-01-01T00:00:00Z</td><td>[Removed]</td></tr><tr><td>List(null, Observador.pt)</td><td>Ricardo Zorron</td><td>Tratar a obesidade com endoscopia, sem incisões? Sim, já é possível</td><td>Nos últimos cinco anos tem existido uma verdadeira revolução nas terapias endoscópicas que possibilitam um maior acesso a tratamentos para a obesidade, uma alternativa menos invasiva e sem incisões.</td><td>https://observador.pt/opiniao/tratar-a-obesidade-com-endoscopia-sem-incisoes-sim-ja-e-possivel/</td><td>https://wm.observador.pt/wm-op/wide-circle/https%3A%2F%2Fbordalo.observador.pt%2Fv2%2Frs%3Afill%3A900%2Fc%3A467%3A467%3Anowe%3A9%3A3%2Fq%3A86%2Fplain%2Fhttps%3A%2F%2Fs3.observador.pt%2Fwp-content%2Fuploads%2F2023%2F09%2F15111743%2Fwhatsapp-image-2023-09-12-at-164340.jpeg</td><td>2023-09-17T23:03:43Z</td><td>Através de uma abordagem minimamente invasiva, as técnicas endoscópicas desempenham um papel cada vez mais relevante no tratamento da obesidade, ajudando as pessoas a perder peso e a controlar doença… [+3854 chars]</td></tr><tr><td>List(null, [Removed])</td><td>null</td><td>[Removed]</td><td>[Removed]</td><td>https://removed.com</td><td>null</td><td>1970-01-01T00:00:00Z</td><td>[Removed]</td></tr><tr><td>List(null, Sapo.pt)</td><td>Marisa Pinto</td><td>Cão-robot com Raspberry Pi ensina espanhol a crianças surdas</td><td>É incrível a quantidade de tecnologia que nos dias que correm ajudam significativamente em áreas como a saúde, terapias, reabilitação, aprendizagem, entre outras. Nesse sentido, vamos hoje conhecer o Robins, um cão-robot com raspberry...</td><td>https://pplware.sapo.pt/gadgets/cao-robot-com-raspberry-pi-ensina-espanhol-a-criancas-surdas/</td><td>https://pplware.sapo.pt/wp-content/uploads/2023/09/cao-robot_0.jpg</td><td>2023-09-05T13:00:03Z</td><td>É incrível a quantidade de tecnologia que nos dias que correm ajudam significativamente em áreas como a saúde, terapias, reabilitação, aprendizagem, entre outras. Nesse sentido, vamos hoje conhecer o… [+1876 chars]</td></tr><tr><td>List(null, Www.tsf.pt)</td><td>Lusa</td><td>Morreu Ian Wilmut, \"pai\" da ovelha Dolly</td><td>O trabalho do especialista em embriologia foi considerado fundamental para a investigação que visa tratar doenças genéticas e degenerativas ajudando o corpo a reparar tecidos danificados.</td><td>https://www.tsf.pt/mundo/morreu-ian-wilmut-pai-da-ovelha-dolly-17006400.html</td><td>https://static.globalnoticias.pt/tsf/image.jpg?brand=TSF&type=generate&guid=d460562f-c697-4222-b4fd-8dc02af92e59&w=800&h=420&watermark=true&t=20230911191400</td><td>2023-09-11T18:14:00Z</td><td>O cientista afastou-se do meio académico em 2012 e em 2018 tornou público que tinha a doença de Parkinson\r\n",
       "© Naokazu Oinuma/AP (arquivo)\r\n",
       "O biólogo britânicoIan Wilmut, \"pai\" da ovelha Dolly, o prime… [+1949 chars]</td></tr><tr><td>List(null, Observador.pt)</td><td>Maria Raimundo</td><td>Boa nutrição é bom negócio</td><td>A personalização está a tornar-se fundamental na prevenção e gestão de doenças. Isto torna a nutrição personalizada e a medicina de precisão componentes essenciais na prevenção e gestão de doenças.</td><td>https://observador.pt/opiniao/boa-nutricao-e-bom-negocio/</td><td>https://wm.observador.pt/wm-op/wide-circle/https%3A%2F%2Fbordalo.observador.pt%2Fv2%2Frs%3Afill%3A900%2Fc%3A467%3A467%3Anowe%3A0%3A0%2Fq%3A86%2Fplain%2Fhttps%3A%2F%2Fs3.observador.pt%2Fwp-content%2Fuploads%2F2020%2F07%2F27203316%2Fmr_obs_467x467_acf_cropped.jpg</td><td>2023-09-11T23:09:08Z</td><td>A má nutrição está a desafiar quase todos os aspectos da nossa sociedade, contribuindo para problemas de saúde, desigualdades na saúde, no acesso à mesma, e nas despesas evitáveis com cuidados de saú… [+9116 chars]</td></tr><tr><td>List(null, Observador.pt)</td><td>Inês Capucho</td><td>DeepMind, da Google, desenvolve programa com Inteligência Artificial que prevê se mutações de ADN podem causar doenças</td><td>As previsões do programa AlphaMissense, desenvolvido pela DeepMind, sobre as chamadas mutações \"missense\" podem ajudar a acelerar a investigação e o diagnóstico de doenças raras.</td><td>https://observador.pt/2023/09/20/deepmind-da-google-desenvolve-programa-com-inteligencia-artificial-que-preve-se-mutacoes-de-adn-podem-causar-doencas/</td><td>https://wm.observador.pt/wm/obs/l/https%3A%2F%2Fbordalo.observador.pt%2Fv2%2Frs%3Afill%3A770%3A403%2Fc%3A3504%3A1973%3Anowe%3A0%3A532%2Fq%3A85%2Fplain%2Fhttps%3A%2F%2Fs3.observador.pt%2Fwp-content%2Fuploads%2F2022%2F02%2F24081421%2FGettyImages-90739363.jpg</td><td>2023-09-20T17:45:28Z</td><td>A DeepMind, detida pela Google, utilizou a Inteligência Artificial para identificar mutações de ADN que podem causar doenças. É através do programa AlphaMissense, desenvolvido por cientistas, que a e… [+1752 chars]</td></tr><tr><td>List(null, Abril.com.br)</td><td>Diogo Sponchiato</td><td>Nobel vai para descobertas que resultaram nas vacinas de RNA para Covid-19</td><td>Láurea em Medicina é concedida a dois pesquisadores pelos trabalhos que culminaram na nova geração de vacinas que ajudou a deter a pandemia</td><td>https://veja.abril.com.br/saude/nobel-de-medicina-2023-vacina-covid</td><td>https://veja.abril.com.br/wp-content/uploads/2023/10/490_envelhecer-vacina-gripe.png?w=680&h=453&crop=1</td><td>2023-10-02T09:59:49Z</td><td>O Prêmio Nobel de Fisiologia ou Medicina de 2023 reconhece dois pesquisadores por suas descobertas fundamentais que permitiram criar as primeiras vacinas de RNA da história, as mesmas que ajudaram a … [+2446 chars]</td></tr><tr><td>List(null, Abril.com.br)</td><td>Diogo Sponchiato</td><td>Do que falamos quando falamos em demência</td><td>Quadro que solapa a memória e outras habilidades cognitivas tem diversas causas, mas o Alzheimer é a principal delas</td><td>https://veja.abril.com.br/coluna/letra-de-medico/do-que-falamos-quando-falamos-em-demencia</td><td>https://veja.abril.com.br/wp-content/uploads/2023/09/envelhecer-cerebro.png?w=680&h=449&crop=1</td><td>2023-09-21T10:12:08Z</td><td>Demência é um diagnóstico clínico que indica a redução progressiva das capacidades cerebrais, levando à perda de autonomia e da qualidade de vida. Dentre múltiplas causas, a doença de Alzheimer é a m… [+3622 chars]</td></tr><tr><td>List(null, [Removed])</td><td>null</td><td>[Removed]</td><td>[Removed]</td><td>https://removed.com</td><td>null</td><td>1970-01-01T00:00:00Z</td><td>[Removed]</td></tr><tr><td>List(null, Abril.com.br)</td><td>Simone Blanes</td><td>MSD inicia última fase de estudo para comprimido que reduz colesterol ruim</td><td>Chamado de MK-0616, o remédio experimental inibe a ação de PCSK9. Se aprovado, será o primeiro comprimido oral dessa categoria</td><td>https://veja.abril.com.br/saude/msd-inicia-ultima-fase-de-estudo-para-comprimido-que-reduz-colesterol-ruim</td><td>https://veja.abril.com.br/wp-content/uploads/2016/05/estatina-remedio-colesterol-20121108-original.jpeg?quality=90&strip=info&w=620&h=349&crop=1</td><td>2023-09-04T18:03:54Z</td><td>A MSD iniciou um programa clínico de Fase 3 para um inibidor oral de PCSK9, avaliado para o tratamento de hipercolesterolemia, ou seja, a redução do colesterol da lipoproteína de baixa densidade (LDL… [+2295 chars]</td></tr><tr><td>List(null, Olhardigital.com.br)</td><td>Alessandro Di Lorenzo</td><td>Descoberta de pesquisadores da USP pode ajudar no combate ao câncer</td><td>Pesquisadores identificaram o mecanismo envolvido na replicação e reparo de DNA, o que pode ajudar no tratamento contra o câncer\n",
       "O post Descoberta de pesquisadores da USP pode ajudar no combate ao câncer apareceu primeiro em Olhar Digital.</td><td>https://olhardigital.com.br/2023/09/21/medicina-e-saude/descoberta-de-pesquisadores-da-usp-pode-ajudar-no-combate-ao-cancer/</td><td>https://proxy.olhardigital.com.br/wp-content/uploads/2023/05/Destaque-tratamento-cancer.jpg</td><td>2023-09-21T17:55:31Z</td><td>Uma descoberta de pesquisadores do Instituto de QuÃ­mica da USP e de duas universidades da Inglaterra pode auxiliar no combate a diferentes tipos de cÃ¢ncer. Os cientistas identificaram o mecanismo e… [+4889 chars]</td></tr><tr><td>List(null, Abril.com.br)</td><td>Paula Felix</td><td>Novo estudo com terapia inovadora contra câncer é autorizado pela Anvisa</td><td>Ensaio com células geneticamente modificadas, as CAR-T, será conduzido pela Fundação Hemocentro de Ribeirão Preto e Instituto Butantan</td><td>https://veja.abril.com.br/saude/novo-estudo-com-terapia-inovadora-contra-cancer-e-autorizado-pela-anvisa</td><td>https://veja.abril.com.br/wp-content/uploads/2017/11/cancer-car-t-terapia-17.jpg?quality=90&strip=info&w=680&h=453&crop=1</td><td>2023-09-26T23:12:38Z</td><td>A Agência Nacional de Vigilância Sanitária (Anvisa) autorizou nesta terça-feira, 26, um novo ensaio clínico nacional com CAR-T, terapia inovadora com células geneticamente modificadas que agem contra… [+2746 chars]</td></tr><tr><td>List(null, Terra.com.br)</td><td>Deutsche Welle</td><td>Por que você deve a sua vida a uns poucos humanos primitvos?</td><td>Análises genéticas apontam que quase todos os nossos ancestrais morreram em uma catástrofe ...</td><td>https://www.terra.com.br/noticias/por-que-voce-deve-a-sua-vida-a-uns-poucos-humanos-primitvos,4f56bf2b1e4ab45dbafda310e9294f1coffppy18.html</td><td>https://p2.trrsf.com/image/fget/cf/1200/630/middle/images.terra.com/2023/09/05/1696209846-58045134354.jpg</td><td>2023-09-05T18:08:14Z</td><td>Análises genéticas apontam que quase todos os nossos ancestrais morreram em uma catástrofe natural 900 mil anos atrás. Apenas 1.280 indivíduos teriam sobrevivido. Uma parte deles está em você.Imagine… [+4310 chars]</td></tr><tr><td>List(null, Googlediscovery.com)</td><td>Renê Fraga</td><td>Mark Zuckerberg anuncia IA generativa para curar todas as doenças</td><td>A Chan Zuckerberg Initiative (CZI), organização filantrópica fundada por Priscilla Chan e Mark Zuckerberg, anunciou um projeto inovador de inteligência</td><td>https://googlediscovery.com/2023/09/20/mark-zuckerberg-anuncia-ia-generativa-para-curar-todas-as-doencas/</td><td>https://cdn.googlediscovery.com/wp-content/uploads/chan-zuckerberg.jpg</td><td>2023-09-20T16:59:48Z</td><td>A Chan Zuckerberg Initiative (CZI), organização filantrópica fundada por Priscilla Chan e Mark Zuckerberg, anunciou um projeto inovador de inteligência artificial generativa. \r\n",
       "A iniciativa consiste … [+1695 chars]</td></tr><tr><td>List(null, [Removed])</td><td>null</td><td>[Removed]</td><td>[Removed]</td><td>https://removed.com</td><td>null</td><td>1970-01-01T00:00:00Z</td><td>[Removed]</td></tr><tr><td>List(null, Abril.com.br)</td><td>diego.valencia</td><td>Subir escadas pode reduzir o risco de doenças cardíacas em 20%, diz estudo</td><td>Pesquisadores analisaram repositório de informações sobre saúde e estilo de vida com dados de mais de 458 mil adultos no Reino Unido</td><td>https://veja.abril.com.br/saude/subir-escadas-pode-reduzir-o-risco-de-doencas-cardiacas-em-20-diz-estudo</td><td>https://veja.abril.com.br/wp-content/uploads/2017/04/esporte-corrida-escada-20150213-018.jpg?quality=90&strip=info&w=680&h=453&crop=1</td><td>2023-10-03T17:00:59Z</td><td>Odeia quando o elevador quebra? De fato, é um incômodo, mas subir lances de escada pode salvar sua vida, de acordo com um novo estudo da Universidade de Tulane, em Louisiana, nos Estados Unidos.\r\n",
       "Pes… [+1324 chars]</td></tr><tr><td>List(null, [Removed])</td><td>null</td><td>[Removed]</td><td>[Removed]</td><td>https://removed.com</td><td>null</td><td>1970-01-01T00:00:00Z</td><td>[Removed]</td></tr><tr><td>List(null, Abril.com.br)</td><td>Diogo Sponchiato</td><td>‘A saúde climática e a humana andam de mãos dadas’</td><td>Em entrevista exclusiva, CEO global da AstraZeneca expõe os desafios da sustentabilidade do sistema de saúde e por onde caminha o futuro da medicina</td><td>https://veja.abril.com.br/saude/a-saude-climatica-e-a-humana-andam-de-maos-dadas</td><td>https://veja.abril.com.br/wp-content/uploads/2023/09/AZ3087-BoD-Pascal-Soriot-2022.jpg?quality=90&strip=info&w=680&h=453&crop=1</td><td>2023-09-19T11:16:22Z</td><td>Não dá para falar sobre a sustentabilidade dos sistemas de saúde sem falar de outra sustentabilidade, a ambiental – e vice-versa. É o que defende o francês Pascal Soriot, CEO global da biofarmacêutic… [+14790 chars]</td></tr><tr><td>List(null, Abril.com.br)</td><td>Da Redação</td><td>Morre cientista que liderou criação de Dolly, o primeiro animal clonado</td><td>Feito gerou manchetes e debates éticos acalorados em 1996</td><td>https://veja.abril.com.br/mundo/morre-cientista-que-liderou-criacao-de-dolly-o-primeiro-animal-clonado</td><td>https://veja.abril.com.br/wp-content/uploads/2023/09/WhatsApp-Image-2023-09-11-at-15.46.58.jpeg?quality=90&strip=info&w=680&h=453&crop=1</td><td>2023-09-11T19:03:48Z</td><td>O cientista britânico Ian Wilmut, que liderou as pesquisas que resultaram na criação do primeiro animal clonado no mundo, a ovelha Dolly, morreu aos 79 anos no último domingo, 10. A morte foi anuncia… [+1984 chars]</td></tr><tr><td>List(null, Olhardigital.com.br)</td><td>Rodrigo Mozelli</td><td>Anvisa autoriza ensaio clínico com CAR-T Cell no Brasil para combater câncer</td><td>Estudo tem como objetivo avaliar a segurança e eficácia do tratamento em pacientes com leucemia linfoide aguda B e linfoma não-Hodgkin B\n",
       "O post Anvisa autoriza ensaio clínico com CAR-T Cell no Brasil para combater câncer apareceu primeiro em Olhar Digital.</td><td>https://olhardigital.com.br/2023/09/26/medicina-e-saude/anvisa-autoriza-ensaio-clinico-com-car-t-cell-no-brasil-para-combater-cancer/</td><td>https://proxy.olhardigital.com.br/wp-content/uploads/2023/09/cancer-2.jpg</td><td>2023-09-26T22:00:05Z</td><td>A FundaÃ§Ã£o Hemocentro de RibeirÃ£o Preto (FUNDHERP), em parceria com o Instituto Butantan, recebeu autorizaÃ§Ã£o da Anvisa para realizar ensaio clÃ­nico no Brasil com a tÃ©cnica CAR-T Cell, que uti… [+2904 chars]</td></tr><tr><td>List(null, [Removed])</td><td>null</td><td>[Removed]</td><td>[Removed]</td><td>https://removed.com</td><td>null</td><td>1970-01-01T00:00:00Z</td><td>[Removed]</td></tr><tr><td>List(null, B9.com.br)</td><td>Carlos Merigo</td><td>Johnson & Johnson atualiza identidade visual e abandona seu reconhecido logotipo caligráfico</td><td>A gigante da saúde, Johnson & Johnson, apresenta uma nova identidade visual. Abandona o reconhecido logotipo em caligrafia para simplificar a marca, buscando refletir sua evolução e foco em inovação. A cor vermelha também foi alterada. Por que isso é importan…</td><td>https://www.b9.com.br/164509/johnson-johnson-atualiza-identidade-visual-e-abandona-seu-reconhecido-logotipo-caligrafico/</td><td>https://assets.b9.com.br/wp-content/uploads/2023/09/JJ_Lobby01_HighRes-1280x677.jpg</td><td>2023-09-14T17:50:25Z</td><td>A gigante da saúde, Johnson &amp; Johnson, apresenta uma nova identidade visual. Abandona o reconhecido logotipo em caligrafia para simplificar a marca, buscando refletir sua evolução e foco em inova… [+1178 chars]</td></tr><tr><td>List(null, Melhoresdestinos.com.br)</td><td>Cleverson Lima</td><td>Minas Gerais! Resort all inclusive em Poços de Caldas com diárias a partir de R$ 677</td><td>Poços de Caldas, no Sul de Minas Gerais, oferece uma das melhores estâncias hidrominerais da América Latina, com águas minerais usadas em diversas terapias, clima montanhês da Serra da Mantiqueira, excelente culinária e charmosa arquitetura da década de 30.  …</td><td>https://www.melhoresdestinos.com.br/promocao/minas-pocos-caldas-resort</td><td>https://www.melhoresdestinos.com.br/wp-content/uploads/2021/06/cassino-resort-pocos-de-caldas-capa-2021-2.jpg</td><td>2023-09-23T12:00:04Z</td><td>Poços de Caldas, no Sul de Minas Gerais, oferece uma das melhores estâncias hidrominerais da América Latina, com águas minerais usadas em diversas terapias, clima montanhês da Serra da Mantiqueira, e… [+1409 chars]</td></tr><tr><td>List(null, Catracalivre.com.br)</td><td>Redação</td><td>Estudo diz que menopausa precoce aumento o risco de demência</td><td>Uma recente pesquisa realizada pela Universidade de Sherbrooke, no Canadá, revelou uma forte relação entre o início precoce da menopausa em mulheres e um</td><td>https://catracalivre.com.br/saude-bem-estar/estudo-diz-que-menopausa-precoce-aumento-o-risco-de-demencia/</td><td>https://catracalivre.com.br/cdn-cgi/image/f=auto,q=60,w=1200,h=638,fit=cover,format=jpeg/wp-content/uploads/2023/09/menopausa.jpg</td><td>2023-09-28T19:30:43Z</td><td>Uma recente pesquisa realizada pela Universidade de Sherbrooke, no Canadá, revelou uma forte relação entre o início precoce da menopausa em mulheres e um risco elevado de desenvolvimento de comorbida… [+1853 chars]</td></tr><tr><td>List(null, Megacurioso.com.br)</td><td>Vivian de Souza Campos</td><td>Superbactérias: como evitar a resistência aos antibióticos</td><td>Superbactérias, ou bactérias resistentes a antibióticos, são cepas microbianas que desenvolveram a capacidade de resistir a um ou mais antibióticos. Essa resistência pode ocorrer devido a mutações genéticas aleatórias, ou pode ser adquirida devido ao uso inad…</td><td>https://www.megacurioso.com.br//ciencia/127528-superbacterias-como-evitar-a-resistencia-aos-antibioticos.htm</td><td>https://mega.ibxk.com.br/2023/10/03/03152401766265.jpg?ims=600x</td><td>2023-10-03T19:00:00Z</td><td>Superbactérias, ou bactérias resistentes a antibióticos, são cepas microbianas que desenvolveram a capacidade de resistir a um ou mais antibióticos. Essa resistência pode ocorrer devido a mutações ge… [+3311 chars]</td></tr><tr><td>List(null, [Removed])</td><td>null</td><td>[Removed]</td><td>[Removed]</td><td>https://removed.com</td><td>null</td><td>1970-01-01T00:00:00Z</td><td>[Removed]</td></tr><tr><td>List(null, [Removed])</td><td>null</td><td>[Removed]</td><td>[Removed]</td><td>https://removed.com</td><td>null</td><td>1970-01-01T00:00:00Z</td><td>[Removed]</td></tr><tr><td>List(null, [Removed])</td><td>null</td><td>[Removed]</td><td>[Removed]</td><td>https://removed.com</td><td>null</td><td>1970-01-01T00:00:00Z</td><td>[Removed]</td></tr><tr><td>List(null, Terra.com.br)</td><td>Portal EdiCase</td><td>Entenda por que doenças vasculares podem aumentar no calor</td><td>Quando não cuidamos da saúde, os dias de calor torna-se um momento de alerta para o corpo, ...</td><td>https://www.terra.com.br/vida-e-estilo/saude/entenda-por-que-doencas-vasculares-podem-aumentar-no-calor,52723791eadd8bccd0bd285409f363b03cid3uve.html</td><td>https://p2.trrsf.com/image/fget/cf/1200/630/middle/images.terra.com/2023/09/22/1100783929-doencas-vasculares.jpeg</td><td>2023-09-22T22:02:23Z</td><td>Quando não cuidamos da saúde, os dias de calor torna-se um momento de alerta para o corpo, especialmente para aqueles que sofrem com problemas cardiovasculares. Isso porque, segundo dados da Sociedad… [+3207 chars]</td></tr><tr><td>List(null, Abril.com.br)</td><td>Da Redação</td><td>Medicina tecnológica para todos</td><td>Assim como a terapia CAR-T, existem inúmeras abordagens terapêuticas inovadoras em desenvolvimento em centros de pesquisa ao redor do planeta</td><td>https://veja.abril.com.br/coluna/coluna-claudio-lottenberg/medicina-tecnologica-para-todos</td><td>https://veja.abril.com.br/wp-content/uploads/2017/11/cancer-car-t-terapia-17.jpg?quality=90&strip=info&w=680&h=453&crop=1</td><td>2023-09-18T16:11:55Z</td><td>A terapia com células CAR-T é um dos tratamentos mais recentes e promissores no combate aos cânceres de sangue, como o linfoma e as leucemias agudas. Ele consiste na coleta de células de defesa do pa… [+3354 chars]</td></tr><tr><td>List(null, [Removed])</td><td>null</td><td>[Removed]</td><td>[Removed]</td><td>https://removed.com</td><td>null</td><td>1970-01-01T00:00:00Z</td><td>[Removed]</td></tr><tr><td>List(null, Terra.com.br)</td><td>Reuters</td><td>Belga Biobest compra empresa brasileira de soluções agrícolas naturais Biotrop em acordo de US$570 mi</td><td>A empresa belga de biocontrole de pragas e doenças e polinização natural para produção agrícola ...</td><td>https://www.terra.com.br/economia/dinheiro-em-acao/belga-biobest-compra-empresa-brasileira-de-solucoes-agricolas-naturais-biotrop-em-acordo-de-us570-mi,92e023c86a50c8325dbc0b2d6ca40870yybi9fsw.html</td><td>https://s1.trrsf.com/fe/zaz-mod-t360-icons/svg/logos/terra-16x9-borda.png</td><td>2023-09-07T18:50:26Z</td><td>A empresa belga de biocontrole de pragas e doenças e polinização natural para produção agrícola sustentável Biobest Group fechou acordo para adquirir a brasileira do mesmo ramo Biotrop, em um movimen… [+1927 chars]</td></tr><tr><td>List(null, Observador.pt)</td><td>Agência Lusa</td><td>Empresa da Covilhã deteta enzima que pode travar doença de Parkinson</td><td>Uma empresa sediada na Covilhã está a desenvolver uma molécula que produz stress oxidativo e que pode ser moldada às necessidades do doente, permitindo que permaneçam no primeiro estágio da doença.</td><td>https://observador.pt/2023/09/22/empresa-da-covilha-deteta-enzima-que-pode-travar-doenca-de-parkinson/</td><td>https://wm.observador.pt/wm/obs/l/https%3A%2F%2Fbordalo.observador.pt%2Fv2%2Frs%3Afill%3A770%3A403%2Fc%3A2000%3A1124%3Anowe%3A0%3A105%2Fq%3A85%2Fplain%2Fhttps%3A%2F%2Fs3.observador.pt%2Fwp-content%2Fuploads%2F2017%2F12%2F12161206%2F19081089.jpg</td><td>2023-09-22T10:33:53Z</td><td>Uma empresa com sede na Covilhã está na fase de conclusão dos testes pré-clínicos de uma enzima responsável por produzir stress oxidativo que pode ser moldada para níveis que permitam evitar a progre… [+3017 chars]</td></tr><tr><td>List(null, Sapo.pt)</td><td>Ana Sofia Neto</td><td>Mosquito que transmite dengue e zika aterrou em Lisboa pela primeira vez</td><td>Embora tenha sido detetada no norte de Portugal, em 2017, esta foi a primeira vez que a espécie de mosquitos aterrou em Lisboa. Há infeções que, a menos que viajemos, nos são muito distantes,...</td><td>https://pplware.sapo.pt/ciencia/mosquito-que-transmite-dengue-e-zika-aterrou-em-lisboa-pela-primeira-vez/</td><td>https://pplware.sapo.pt/wp-content/uploads/2023/09/Aedes-Albopictus_B00.jpg</td><td>2023-09-28T08:40:24Z</td><td>Embora tenha sido detetada no norte de Portugal, em 2017, esta foi a primeira vez que a espécie de mosquitos aterrou em Lisboa.\r\n",
       "Há infeções que, a menos que viajemos, nos são muito distantes, pois n… [+1448 chars]</td></tr><tr><td>List(null, Catracalivre.com.br)</td><td>Redação</td><td>Alimento comum na cozinha do brasileiro reduz risco de câncer, diz estudo</td><td>Comer bem é necessário não só para manter o corpo funcionando corretamente, mas também para prevenir uma série de doenças. É por isso que, ás vezes, nos</td><td>https://catracalivre.com.br/saude-bem-estar/alimento-comum-na-cozinha-do-brasileiro-reduz-risco-de-cancer-diz-estudo/</td><td>https://catracalivre.com.br/cdn-cgi/image/f=auto,q=60,w=1200,h=638,fit=cover,format=jpeg/wp-content/uploads/2023/09/istock-1635263915-1.jpg</td><td>2023-09-22T22:01:08Z</td><td>Comer bem é necessário não só para manter o corpo funcionando corretamente, mas também para prevenir uma série de doenças.\r\n",
       "É por isso que, ás vezes, nos deparamos com alimentos conhecidos como “supe… [+2233 chars]</td></tr><tr><td>List(null, Terra.com.br)</td><td>Reuters</td><td>CDC dos EUA endossa vacina da Pfizer contra doença sazonal para proteger bebês</td><td>O Centro de Controle e Prevenção de Doenças dos EUA (CDC, na sigla em inglês) endossou nesta ...</td><td>https://www.terra.com.br/noticias/mundo/cdc-dos-eua-endossa-vacina-da-pfizer-contra-doenca-sazonal-para-proteger-bebes,98c42c6c5c276e9a6307f08a293eb128a0g5s529.html</td><td>https://s1.trrsf.com/fe/zaz-mod-t360-icons/svg/logos/terra-16x9-borda.png</td><td>2023-09-23T00:17:36Z</td><td>O Centro de Controle e Prevenção de Doenças dos EUA (CDC, na sigla em inglês) endossou nesta sexta-feira a vacina da Pfizer contra o vírus sincicial respiratório (VSR) para mulheres que estão no terc… [+1370 chars]</td></tr><tr><td>List(null, Abril.com.br)</td><td>Paula Felix</td><td>A proteína capaz de manter a célula humana saudável por mais tempo</td><td>Estudo feito por pesquisadores brasileiros e australianos aponta caminhos para tratar doenças autoimunes e até câncer</td><td>https://veja.abril.com.br/saude/a-proteina-capaz-de-manter-celula-humana-saudavel-por-mais-tempo</td><td>https://veja.abril.com.br/wp-content/uploads/2023/09/Celulas-humanas-coxiella.jpg?quality=90&strip=info&w=680&h=453&crop=1</td><td>2023-09-11T14:45:31Z</td><td>Pesquisadores da Universidade de São Paulo (USP) e colaboradores da Austrália identificaram uma proteína bacteriana capaz de manter as células humanas saudáveis por mais tempo. A descoberta pode leva… [+5133 chars]</td></tr><tr><td>List(null, Olhardigital.com.br)</td><td>Alessandro Di Lorenzo</td><td>Árvore “congelada” no tempo por milhões de anos tem mistério revelado</td><td>Conhecida como \"fóssil vivo\", a árvore praticamente não sofreu alterações desde o tempo em que os dinossauros dominavam a Terra\n",
       "O post Árvore “congelada” no tempo por milhões de anos tem mistério revelado apareceu primeiro em Olhar Digital.</td><td>https://olhardigital.com.br/2023/09/15/ciencia-e-espaco/arvore-congelada-no-tempo-por-milhoes-de-anos-tem-misterio-revelado/</td><td>https://img.olhardigital.com.br/wp-content/uploads/2023/09/Pinheiro-1.jpg</td><td>2023-09-15T17:06:28Z</td><td>Cientistas da AustrÃ¡lia, Estados Unidos e ItÃ¡liaÂ decodificaram o genoma de uma rarÃ­ssima Ã¡rvore conhecida como âfÃ³ssil vivoâ. O pinheiroÂ Wollemi (Wollemia nobilis) foi descoberto em 1994 e… [+3199 chars]</td></tr><tr><td>List(null, Expresso.pt)</td><td>Expresso</td><td>Agendas mobilizadoras canalizam €480 milhões para transformar sector da saúde em três anos</td><td>Plano de Recuperação e de Resiliência é central no investimento que privados e Estado preveem canalizar para o desenvolvimento de terapias inovadoras, para doenças graves como o cancro, e em novas formas de combater a resistência aos antibióticos</td><td>https://expresso.pt/economia/empresas/2023-10-02-Agendas-mobilizadoras-canalizam-480-milhoes-para-transformar-sector-da-saude-em-tres-anos-17de87a9</td><td>https://images.impresa.pt/expresso/2023-06-28-laboratorio-deac6dc7/1.91x1?wm=true&outputFormat=jpeg</td><td>2023-10-02T14:56:57Z</td><td>O Plano de Recuperação e Resiliência (PRR) irá apoiar quatro agendas mobilizadoras da saúde, que durante os próximos três anos irão captar investimentos de cerca de 180 milhões de euros do setor priv… [+2989 chars]</td></tr><tr><td>List(null, BBC News)</td><td>https://www.facebook.com/bbcnews</td><td>Sensação de estar isolado do mundo é uma das grandes preocupações do século 21</td><td>Sensação de estar isolado do mundo é uma das grandes preocupações do século 21</td><td>https://www.bbc.com/portuguese/media-66843698</td><td>https://ichef.bbci.co.uk/news/1024/branded_portuguese/80CB/production/_131117923_mediaitem131117922.jpg</td><td>2023-09-18T10:24:06Z</td><td>Sensação de estar isolado do mundo é uma das grandes preocupações do século 21\r\n",
       "A solidão virou uma das grandes preocupações de saúde do século 21. \r\n",
       "Comparada ao cigarro e relacionada ao risco de do… [+343 chars]</td></tr><tr><td>List(null, [Removed])</td><td>null</td><td>[Removed]</td><td>[Removed]</td><td>https://removed.com</td><td>null</td><td>1970-01-01T00:00:00Z</td><td>[Removed]</td></tr><tr><td>List(null, Catracalivre.com.br)</td><td>Redação</td><td>Pesquisa indica composto encontrado nestes alimentos que pode prevenir câncer</td><td>Você sabia que diversas pesquisas ao longo dos anos têm apontado benefícios potenciais para a fisetina, um flavonoide com atividade antioxidante presente</td><td>https://catracalivre.com.br/saude-bem-estar/pesquisa-indica-composto-encontrado-nestes-alimentos-que-previne-cancer/</td><td>https://catracalivre.com.br/cdn-cgi/image/f=auto,q=60,w=1200,h=638,fit=cover,format=jpeg/wp-content/uploads/2023/09/istock-1325282418.jpg</td><td>2023-09-26T10:00:45Z</td><td>Você sabia que diversas pesquisas ao longo dos anos têm apontado benefícios potenciais para a fisetina, um flavonoide com atividade antioxidante presente em frutas e vegetais?\r\n",
       "Estudos epidemiológico… [+2817 chars]</td></tr><tr><td>List(null, Abril.com.br)</td><td>diego.valencia</td><td>O que a microbiota intestinal tem a ver com distúrbios neurológicos?</td><td>Revisão feita por pesquisadores da Unifesp inclui doenças como Alzheimer e Parkinson e transtornos psiquiátricos como depressão e ansiedade</td><td>https://veja.abril.com.br/saude/como-a-microbiota-influencia-disturbios-neurologicos-e-psiquiatricos</td><td>https://veja.abril.com.br/wp-content/uploads/2020/09/câncer-de-intestino.jpg?quality=90&strip=info&w=680&h=453&crop=1</td><td>2023-09-06T19:48:52Z</td><td>Há trilhões de microrganismos, incluindo bactérias, fungos e vírus, no interior do trato gastrointestinal conjunto que leva o nome de microbiota. É quase o mesmo número de células em um corpo humano.… [+3585 chars]</td></tr><tr><td>List(null, [Removed])</td><td>null</td><td>[Removed]</td><td>[Removed]</td><td>https://removed.com</td><td>null</td><td>1970-01-01T00:00:00Z</td><td>[Removed]</td></tr><tr><td>List(null, Terra.com.br)</td><td>Portal EdiCase</td><td>Entenda o que é a hipercifose e como tratar essa condição</td><td>A hipercifose, também conhecida popularmente como 'corcunda', trata-se de uma doença óssea ...</td><td>https://www.terra.com.br/vida-e-estilo/saude/entenda-o-que-e-a-hipercifose-e-como-tratar-essa-condicao,323d34d575b92837f1fad0d49bfe650b67beo2wl.html</td><td>https://p2.trrsf.com/image/fget/cf/1200/630/middle/images.terra.com/2023/10/02/638203844-coluna-dores.jpeg</td><td>2023-10-02T17:31:30Z</td><td>A hipercifose, também conhecida popularmente como 'corcunda', trata-se de uma doença óssea causada por um desvio corporal que, normalmente, faz com que as pessoas tenham uma curvatura na região torác… [+2694 chars]</td></tr><tr><td>List(null, Abril.com.br)</td><td>Paula Felix</td><td>OMS recomenda vacinas contra malária e dengue diante de onda de mosquitos</td><td>Entidade fez alerta sobre risco das doenças principalmente para crianças; Qdenga foi aprovada para uso no Brasil em março</td><td>https://veja.abril.com.br/saude/oms-recomenda-vacinas-contra-malaria-e-dengue-diante-de-onda-de-mosquitos</td><td>https://veja.abril.com.br/wp-content/uploads/2023/06/aedes_aegypti-dengue2.webp?w=680&h=453&crop=1</td><td>2023-10-02T22:47:48Z</td><td>Diante do aumento das doenças transmitidas por mosquitos em diferentes partes do mundo, a Organização Mundial da Saúde (OMS) divulgou nesta segunda-feira, 2, um comunicado recomendando a nova vacina … [+2768 chars]</td></tr><tr><td>List(null, Sapo.pt)</td><td>Rui Jorge</td><td>Poria o seu cérebro nas mãos da IA? Será uma realidade dentro de dois anos</td><td>Um importante neurocirurgião do Reino Unido afirmou que a cirurgia cerebral com recurso à inteligência artificial (IA) será possível dentro de dois anos, tornando-a mais segura e eficaz.   O governo britânico afirma que...</td><td>https://pplware.sapo.pt/inteligencia-artificial/poria-o-seu-cerebro-nas-maos-da-ia-sera-uma-realidade-dentro-de-dois-anos/</td><td>https://pplware.sapo.pt/wp-content/uploads/2022/01/cirurgia_robo00.jpg</td><td>2023-09-30T10:00:12Z</td><td>Um importante neurocirurgião do Reino Unido afirmou que a cirurgia cerebral com recurso à inteligência artificial (IA) será possível dentro de dois anos, tornando-a mais segura e eficaz.\r\n",
       "O governo b… [+2511 chars]</td></tr><tr><td>List(null, Olhardigital.com.br)</td><td>Nayra Teles</td><td>USP: terapia celular pode reduzir mortes por Covid-19</td><td>Pesquisadores da Universidade de São Paulo (USP) descobriram que a terapia celular pode reduzir em 60% o risco de morte por COVID-19\n",
       "O post USP: terapia celular pode reduzir mortes por Covid-19 apareceu primeiro em Olhar Digital.</td><td>https://olhardigital.com.br/2023/09/19/medicina-e-saude/usp-terapia-celular-pode-reduzir-mortes-por-covid-19/</td><td>https://proxy.olhardigital.com.br/wp-content/uploads/2023/09/terapia-celular.png</td><td>2023-09-19T21:03:20Z</td><td>A terapia celular, bastante utilizada em tratamentos contra o cÃ¢ncer, tem grande potencial contra a Covid-19. Ã o que aponta a revisÃ£o sistemÃ¡tica e meta-anÃ¡lise realizada por pesquisadores da U… [+4229 chars]</td></tr><tr><td>List(null, Terra.com.br)</td><td>Porto Alegre 24 horas</td><td>HCPA busca voluntários para estudo clínico que avalia medicamento experimental para o COVID-19</td><td>Hospital de Clínicas está com inscrições abertas para adultos acima de 18 (dezoito) anos portadores de doenças crônicas como, por exemplo, diabetes, obesidade, hipertensão ou doenças cardiovasculares, que testaram positivo para COVID-19 nos últimos três dias …</td><td>https://www.terra.com.br/noticias/hcpa-busca-voluntarios-para-estudo-clinico-que-avalia-medicamento-experimental-para-o-covid-19,6ce0dbd8c3d6c7770745a34adf194601wibvrrif.html</td><td>https://p2.trrsf.com/image/fget/cf/1200/630/middle/images.terra.com/2023/09/20/717673475-fachada2-1536x1021-1.jpg</td><td>2023-09-20T15:41:12Z</td><td>O Hospital de Clínicas de Porto Alegre ainda está com vagas abertas para voluntários que queiram colaborar com o SCORPIO-HR, um estudo clínico global de Fase 3 com pacientes não hospitalizados e sint… [+3502 chars]</td></tr><tr><td>List(null, [Removed])</td><td>null</td><td>[Removed]</td><td>[Removed]</td><td>https://removed.com</td><td>null</td><td>1970-01-01T00:00:00Z</td><td>[Removed]</td></tr><tr><td>List(null, [Removed])</td><td>null</td><td>[Removed]</td><td>[Removed]</td><td>https://removed.com</td><td>null</td><td>1970-01-01T00:00:00Z</td><td>[Removed]</td></tr><tr><td>List(null, Olhardigital.com.br)</td><td>Alessandro Di Lorenzo</td><td>Novo vírus é descoberto nas profundezas da Fossa das Marianas</td><td>Bacteriófago, um tipo de vírus que infecta e se replica dentro de bactérias, foi localizado a uma profundidade de 8.900 metros\n",
       "O post Novo vírus é descoberto nas profundezas da Fossa das Marianas apareceu primeiro em Olhar Digital.</td><td>https://olhardigital.com.br/2023/09/21/ciencia-e-espaco/novo-virus-e-descoberto-nas-profundezas-da-fossa-das-marianas/</td><td>https://proxy.olhardigital.com.br/wp-content/uploads/2023/09/Fossa-das-marianas-1.jpg</td><td>2023-09-21T20:26:34Z</td><td>Segundo dados da AdministraÃ§Ã£o Nacional OceÃ¢nica e AtmosfÃ©rica dos Estados Unidos,apenas cerca de 20% do fundo do mar foi mapeado atÃ© hoje. Uma descoberta de uma equipe internacional de pesquisa… [+2809 chars]</td></tr><tr><td>List(null, Jovemnerd.com.br)</td><td>Pedro Siqueira</td><td>Netflix põe camisinha em monumento para divulgação dura de Sex Education</td><td>Streaming elevou o marketing a um novo nível para a temporada final da série\n",
       "The post Netflix põe camisinha em monumento para divulgação dura de Sex Education appeared first on Jovem Nerd.</td><td>https://jovemnerd.com.br/nerdbunker/netflix-camisinha-gigante-sex-education/</td><td>https://uploads.jovemnerd.com.br/wp-content/uploads/2023/09/netflix_sex_education_obelisco__25030n3ow.jpg</td><td>2023-09-23T15:07:35Z</td><td>A divulgação da temporada final de Sex Education está duríssima. Tanto que a Netflix colocou uma CAMISINHA GIGANTE no Obelisco, um dos maiores monumentos da Argentina, num vídeo promocional que vem c… [+897 chars]</td></tr><tr><td>List(null, Abril.com.br)</td><td>Paula Felix</td><td>Injeção semanal para deficiência de hormônio do crescimento é liberada</td><td>Medicação para crianças e adultos reduz em 85% o número de aplicações por ano; preço não foi definido e lançamento no Brasil ainda será anunciado</td><td>https://veja.abril.com.br/saude/injecao-semanal-para-deficiencia-de-hormonio-do-crescimento-e-liberada</td><td>https://veja.abril.com.br/wp-content/uploads/2016/05/alx_465382081_original1.jpeg?quality=90&strip=info&w=680&h=453&crop=1</td><td>2023-09-25T21:40:54Z</td><td>Uma nova opção de tratamento para crianças e adultos com deficiência do hormônio do crescimento (GH) com aplicação subcutânea semanal, por meio de uma “caneta”, foi liberada no Brasil nesta segunda-f… [+2629 chars]</td></tr><tr><td>List(null, Terra.com.br)</td><td>Sport Life</td><td>Abacate emagrece? Descubra 14 benefícios secretos da fruta</td><td>Abacate emagrece ou engorda? Essa dúvida é comum em pessoas que são fãs do sabor da fruta. Por ...</td><td>https://www.terra.com.br/vida-e-estilo/abacate-emagrece-descubra-14-beneficios-secretos-da-fruta,1079792ed39d3e3303fdd4fd29d5b3d3tj80nanf.html</td><td>https://p2.trrsf.com/image/fget/cf/1200/630/middle/images.terra.com/2023/09/07/392743629-shutterstock785296315-1.jpg</td><td>2023-09-07T19:02:17Z</td><td>Abacate emagrece ou engorda? Essa dúvida é comum em pessoas que são fãs do sabor da fruta. Por ser um alimento natural, muitos acreditam que o abacate ajuda a emagrecer. Por outro lado, os altos níve… [+4997 chars]</td></tr><tr><td>List(null, [Removed])</td><td>null</td><td>[Removed]</td><td>[Removed]</td><td>https://removed.com</td><td>null</td><td>1970-01-01T00:00:00Z</td><td>[Removed]</td></tr><tr><td>List(null, Uol.com.br)</td><td>null</td><td>null</td><td>A molécula sintetiza o conjunto de proteínas que um organismo necessita para viver</td><td>https://www1.folha.uol.com.br/ciencia/2023/09/rna-de-tigre-da-tasmania-extinto-e-recuperado-pela-primeira-vez.shtml</td><td>https://f.i.uol.com.br/fotografia/2023/09/19/1695178196650a5dd469a9a_1695178196_3x2_rt.jpg</td><td>2023-09-20T10:50:04Z</td><td>O tigre-da-tasmânia, um marsupial carnívoro listrado do tamanho de um cachorro, também chamado de tilacino, era um predador de ponta que caçava cangurus e outras presas e já vagou pelo território con… [+2149 chars]</td></tr><tr><td>List(null, Catracalivre.com.br)</td><td>Redação</td><td>Saiba quais atividades físicas reduzem risco de 9 tipos de câncer</td><td>A aptidão cardiorrespiratória, responsável pela capacidade de executar atividades físicas aeróbicos prolongados, pode ser a chave para a prevenção de</td><td>https://catracalivre.com.br/saude-bem-estar/saiba-quais-atividades-fisicas-reduzem-risco-de-9-tipos-de-cancer/</td><td>https://catracalivre.com.br/cdn-cgi/image/f=auto,q=60,w=1200,h=638,fit=cover,format=jpeg/wp-content/uploads/2023/08/istock-1168199832.jpg</td><td>2023-09-11T02:30:05Z</td><td>A aptidão cardiorrespiratória, responsável pela capacidade de executar atividades físicas aeróbicos prolongados, pode ser a chave para a prevenção de diversos tipos de câncer. Um estudo recente, publ… [+2947 chars]</td></tr><tr><td>List(null, [Removed])</td><td>null</td><td>[Removed]</td><td>[Removed]</td><td>https://removed.com</td><td>null</td><td>1970-01-01T00:00:00Z</td><td>[Removed]</td></tr><tr><td>List(null, Uol.com.br)</td><td>null</td><td>null</td><td>Cálculo biliar bovino, chamado de pedra de fel, é usado na medicina oriental para tratar doenças respiratórias</td><td>https://www1.folha.uol.com.br/mercado/2023/09/criminosos-roubam-r-2-milhoes-em-pedras-de-boi-no-interior-de-sp.shtml</td><td>https://f.i.uol.com.br/fotografia/2023/09/21/1695325609650c9da9b56df_1695325609_3x2_lg.jpg</td><td>2023-09-22T00:51:36Z</td><td>Três homensassaltaram uma empresa de exportação no interior de São Paulo e levaram 2,7 quilos de cálculo biliar bovino, também conhecido como pedra de fel, avaliado em R$ 2 milhões, segundo a Delegac… [+1877 chars]</td></tr><tr><td>List(null, Observador.pt)</td><td>Agência Lusa</td><td>Idosos vítimas de maus tratos apresentam mais doença física e mental</td><td>Dados \"assustadores\" de um estudo português revelam que os idosos que sofrem violência intra-familiar ou de cuidadores \"são muito mais doentes, têm muitas mais patologias do que a restante população\".</td><td>https://observador.pt/2023/09/29/idosos-vitimas-de-maus-tratos-apresentam-mais-doenca-fisica-e-mental/</td><td>https://wm.observador.pt/wm/obs/l/https%3A%2F%2Fbordalo.observador.pt%2Fv2%2Frs%3Afill%3A770%3A403%2Fc%3A2121%3A1192%3Anowe%3A0%3A111%2Fq%3A85%2Fplain%2Fhttps%3A%2F%2Fs3.observador.pt%2Fwp-content%2Fuploads%2F2022%2F02%2F09214115%2FGettyImages-1290458362.jpg</td><td>2023-09-29T09:52:20Z</td><td>Um estudo da Faculdade de Medicina da Universidade do Porto (FMUP) revelou que os idosos vítimas de maus tratos apresentam mais doença física e mental, algo “assustador” que para os investigadores de… [+3910 chars]</td></tr><tr><td>List(null, Tecmundo.com.br)</td><td>Fabio Dominski</td><td>Atividade física no trabalho faz bem?</td><td>Este texto foi escrito por um colunista do TecMundo; saiba mais no final.\"Eu me movimento bastante no trabalho, não preciso de exercícios”, já ouviu alguém falar isso? Essa pessoa provavelmente tem uma alta demanda energética em seu trabalho e acredita que is…</td><td>https://www.tecmundo.com.br/ciencia/271824-atividade-fisica-trabalho.htm</td><td>https://tm.ibxk.com.br/2023/09/20/20121343539166.jpg</td><td>2023-09-20T17:00:00Z</td><td>Este texto foi escrito por um colunista do TecMundo; saiba mais no final.\r\n",
       "\"Eu me movimento bastante no trabalho, não preciso de exercícios, já ouviu alguém falar isso? Essa pessoa provavelmente tem … [+5260 chars]</td></tr><tr><td>List(null, Tecmundo.com.br)</td><td>Jennifer Egues</td><td>SUS Digital: uso inteligência artificial pode melhorar a saúde pública?</td><td>O Ministério da Saúde estuda implementar ferramentas de Inteligência Artificial (IA) no Sistema Único de Saúde, objetivando melhorar o atendimento, agilizando processos e estendo atendimento a regiões de difícil acesso físico.Para a pasta, a implementação da …</td><td>https://www.tecmundo.com.br/ciencia/267730-sus-digital-uso-inteligencia-artificial-melhorar-saude-publica.htm</td><td>https://tm.ibxk.com.br/2023/08/18/18144410198207.jpg</td><td>2023-09-04T14:30:01Z</td><td>O Ministério da Saúde estuda implementar ferramentas de Inteligência Artificial (IA) no Sistema Único de Saúde, objetivando melhorar o atendimento, agilizando processos e estendo atendimento a regiõe… [+5930 chars]</td></tr><tr><td>List(null, Sapo.pt)</td><td>Ana Sofia Neto</td><td>Afinal, o açúcar prejudica ou não a saúde?</td><td>O açúcar está em tantos alimentos que, certamente, surpreender-se-ia com alguns deles. Mas, assim sendo, será assim tão prejudicial? É um tema complexo, como muitos deles na nutrição, e parece ser pouco claro para...</td><td>https://pplware.sapo.pt/ciencia/afinal-o-acucar-prejudica-ou-nao-a-saude/</td><td>https://pplware.sapo.pt/wp-content/uploads/2023/09/bolo00.jpg</td><td>2023-09-15T20:00:17Z</td><td>O açúcar está em tantos alimentos que, certamente, surpreender-se-ia com alguns deles. Mas, assim sendo, será assim tão prejudicial?\r\n",
       "É um tema complexo, como muitos deles na nutrição, e parece ser p… [+3659 chars]</td></tr><tr><td>List(null, Observador.pt)</td><td>Inês André Figueiredo</td><td>Mosquito que transmite dengue e zika detetado em Lisboa pela primeira vez</td><td>DGS reforçou a vigilância entomológica e epidemiológica, mas garantiu que não foram identificados nestes mosquitos quaisquer agentes de doenças que possam ser transmitidas às pessoas.</td><td>https://observador.pt/2023/09/27/mosquito-que-transmite-dengue-e-zika-detetado-em-lisboa-pela-primeira-vez/</td><td>https://wm.observador.pt/wm/obs/l/https%3A%2F%2Fbordalo.observador.pt%2Fv2%2Frs%3Afill%3A770%3A403%2Fc%3A1998%3A1126%3Anowe%3A0%3A100%2Fq%3A85%2Fplain%2Fhttps%3A%2F%2Fs3.observador.pt%2Fwp-content%2Fuploads%2F2019%2F04%2F15200407%2F20319704.jpg</td><td>2023-09-27T16:25:37Z</td><td>A Direção-Geral de Saúde (DGS) revelou que a espécie de mosquitos Aedes albopictus foi identificada pela primeira vez em Lisboa e alertou que este mosquito pode transmitir doenças como chikungunya, d… [+1110 chars]</td></tr><tr><td>List(null, Observador.pt)</td><td>Observador</td><td>Descoberta nova célula no cérebro que pode ajudar a estudar o Alzheimer</td><td>Novo estudo revela a existência de uma nova célula, que pode ajudar a explicar o desenvolvimento de doenças neurodegenerativas e a localizar \"potenciais alvos terapêuticos\".</td><td>https://observador.pt/2023/09/06/descoberta-nova-celula-no-cerebro-que-pode-ajudar-a-estudar-o-alzheimer/</td><td>https://wm.observador.pt/wm/obs/l/https%3A%2F%2Fbordalo.observador.pt%2Fv2%2Frs%3Afill%3A770%3A403%2Fc%3A3543%3A1993%3Anowe%3A0%3A131%2Fq%3A85%2Fplain%2Fhttps%3A%2F%2Fs3.observador.pt%2Fwp-content%2Fuploads%2F2023%2F09%2F06184926%2Fgettyimages-1487034049.jpg</td><td>2023-09-06T18:08:06Z</td><td>A cada três segundos, há uma pessoa no mundo a desenvolver demência. Em 2020, os dados recolhidos pelo Alzheimer’s Disease International (ADI) mostravam que havia mais de 55 milhões de pessoas a vive… [+2235 chars]</td></tr><tr><td>List(null, Observador.pt)</td><td>Carolina Sobral</td><td>Cientistas criam modelo de embrião sem espermatozoide, óvulo ou útero. É o primeiro que imita em completo um embrião humano</td><td>Modelo foi desenvolvido a partir de células estaminais que se organizaram em estruturas que imitam a organização 3D de um embrião real com 14 dias. O modelo deu positivo num teste de gravidez.</td><td>https://observador.pt/2023/09/06/cientistas-criam-modelo-de-embriao-sem-espermatozoide-ovulo-ou-utero-e-o-primeiro-que-imita-em-completo-um-embriao-humano/</td><td>https://wm.observador.pt/wm/obs/l/https%3A%2F%2Fbordalo.observador.pt%2Fv2%2Frs%3Afill%3A770%3A403%2Fc%3A2000%3A1124%3Anowe%3A0%3A104%2Fq%3A85%2Fplain%2Fhttps%3A%2F%2Fs3.observador.pt%2Fwp-content%2Fuploads%2F2019%2F02%2F28085820%2Fistock-904268950.jpg</td><td>2023-09-06T16:31:46Z</td><td>Sem recurso a espermatozoide, óvulos ou um útero, cientistas criaram pela primeira vez um modelo de embriões humanos que imita de forma completa todas as características conhecidas num embrião real. … [+1946 chars]</td></tr><tr><td>List(null, Observador.pt)</td><td>Sofia Teixeira</td><td>Que ondas cerebrais são estas?</td><td>O cérebro emite misteriosos padrões de atividade que estão alterados em doentes  com doenças neurológicas ou psiquiátricas. Na Universidade do Minho, Joana Cabral tenta conhecer melhor estes sinais.</td><td>https://observador.pt/2023/09/25/que-ondas-cerebrais-sao-estas/</td><td>https://wm.observador.pt/wm/obs/l/https%3A%2F%2Fbordalo.observador.pt%2Fv2%2Frs%3Afill%3A770%3A403%2Fc%3A3200%3A1796%3Anowe%3A0%3A340%2Fq%3A85%2Fplain%2Fhttps%3A%2F%2Fs3.observador.pt%2Fwp-content%2Fuploads%2F2023%2F09%2F25012852%2F0-20230807-goncalo-villaverde-0205.jpg</td><td>2023-09-25T13:49:21Z</td><td>Uma iniciativa\r\n",
       "Há momentos em que o cérebro de Joana Cabral parece um carro de Fórmula Um: é muito difícil de acompanhar quando acelera a fundo. Salta de raciocínio em raciocínio, estabelece pontes … [+12097 chars]</td></tr><tr><td>List(null, Terra.com.br)</td><td>Elas no Tapete Vermelho</td><td>VMA 2023: Anitta repete grife de 2022 e elege look Schiaparelli</td><td>A Schiaparelli tem em seu DNA o surrealismo. Fato esse que agrada em cheio famosas, como Anitta, ...</td><td>https://www.terra.com.br/vida-e-estilo/autocuidado/moda/vma-2023-anitta-repete-grife-de-2022-e-elege-look-schiaparelli,fee499f8c205c826421124c9561fae83mmokijah.html</td><td>https://p2.trrsf.com/image/fget/cf/1200/630/middle/images.terra.com/2023/09/12/1728798519-37802777434786638823962214802485532612152661n-e1694562071640.jpg</td><td>2023-09-12T23:48:05Z</td><td>A Schiaparelli tem em seu DNA o surrealismo. Fato esse que agrada em cheio famosas, como Anitta, que pelo segundo ano consecutivo elegeu a grife francesa para cruzar o tapete vermelho do VMA (Video M… [+1146 chars]</td></tr><tr><td>List(null, Pragmatismopolitico.com.br)</td><td>Redação</td><td>Benefícios das substâncias encontradas no vinho: uma análise científica</td><td>É importante ter cuidado ao consumi-lo e sempre respeitar as contraindicações e limites recomendados. É possível encontrar de forma acessível bons vinhos no mercado, mas é fundamental ter consciência dos riscos e sempre consumir com moderação\n",
       "O post Benefício…</td><td>https://www.pragmatismopolitico.com.br/2023/10/beneficios-substancias-encontradas-vinho-analise-cientifica.html</td><td>https://www.pragmatismopolitico.com.br/wp-content/uploads/2023/10/beneficios-substancias-encontradas-vinho-analise-cientifica.jpg</td><td>2023-10-02T11:30:18Z</td><td>É importante ter cuidado ao consumi-lo e sempre respeitar as contraindicações e limites recomendados. É possível encontrar de forma acessível bons vinhos no mercado, mas é fundamental ter consciência… [+22678 chars]</td></tr><tr><td>List(null, Olhardigital.com.br)</td><td>Lucas Gabriel Machado Henriques</td><td>Como a inteligência artificial pode ajudar na saúde mental</td><td>Entenda como a inteligência artificial pode ser usada para auxiliar no combate aos transtornos psicológicos e ajudar na saúde mental\n",
       "O post Como a inteligência artificial pode ajudar na saúde mental apareceu primeiro em Olhar Digital.</td><td>https://olhardigital.com.br/2023/09/11/medicina-e-saude/como-a-inteligencia-artificial-pode-ajudar-na-saude-mental/</td><td>https://img.olhardigital.com.br/wp-content/uploads/2023/09/capa-1.jpg</td><td>2023-09-11T15:33:19Z</td><td>Com a crescente utilizaÃ§Ã£o da inteligÃªncia artificial em diversos setores da indÃºstria e da sociedade, muitas tÃ©cnicas que usam essa tecnologia surgiram para melhorar o dia a dia das pessoas, au… [+2927 chars]</td></tr><tr><td>List(null, Olhardigital.com.br)</td><td>Alessandro Di Lorenzo</td><td>EUA: vacina experimental contra HIV será testada em humanos</td><td>No total, 95 participantes serão divididos em grupos, com três deles recebendo dosagens diferentes da vacina contra o HIV\n",
       "O post EUA: vacina experimental contra HIV será testada em humanos apareceu primeiro em Olhar Digital.</td><td>https://olhardigital.com.br/2023/09/22/medicina-e-saude/eua-vacina-experimental-contra-hiv-sera-testada-em-humanos/</td><td>https://proxy.olhardigital.com.br/wp-content/uploads/2022/03/HIV-capa.jpg</td><td>2023-09-22T14:46:06Z</td><td>A empresa Vir Biotechnology anunciou o inÃ­cio dos testes em humanos de uma vacina experimental contra o HIV. A companhia norte-americana disse que espera ter os dados iniciais dos trabalhos de fase … [+2542 chars]</td></tr><tr><td>List(null, Olhardigital.com.br)</td><td>Pedro Borges Spadoni</td><td>Imunologista vence prêmio de inovação por tratamento contra câncer</td><td>O imunologista Michel Sadelain levou o prêmio Breakthrough por seu trabalho pioneiro na terapia com células CAR-T para câncer\n",
       "O post Imunologista vence prêmio de inovação por tratamento contra câncer apareceu primeiro em Olhar Digital.</td><td>https://olhardigital.com.br/2023/09/14/medicina-e-saude/imunologista-vence-premio-de-inovacao-por-tratamento-contra-cancer/</td><td>https://img.olhardigital.com.br/wp-content/uploads/2023/09/Destaque-Michel-Sadelain-imunologista-cancer.jpg</td><td>2023-09-15T01:08:01Z</td><td>O imunologista francÃªs-canadense Michel Sadelain venceu o prestigiado prÃªmio Breakthrough nesta quinta-feira (14) por seu trabalho pioneiro na terapia com cÃ©lulas CAR-T â uma nova forma de trata… [+3677 chars]</td></tr><tr><td>List(null, Olhardigital.com.br)</td><td>Lucas Soares</td><td>Alienígenas do México são reais? Entenda a polêmica</td><td>Nesta quarta-feira (13) o mundo a ufologia foi surpreendido com uma apresentação no congresso mexicano onde um ufólogo mostrou supostos cadáveres de alienígenas. Pelo histórico polêmico do pesquisador, a notícia já foi encarada com ceticismo. De acordo com o …</td><td>https://olhardigital.com.br/2023/09/14/ciencia-e-espaco/alienigenas-do-mexico-sao-reais-entenda-a-polemica/</td><td>https://img.olhardigital.com.br/wp-content/uploads/2023/09/alienigenas-mexico.jpg</td><td>2023-09-14T16:03:07Z</td><td>Nesta quarta-feira (13) o mundo a ufologia foi surpreendido com uma apresentaÃ§Ã£o no congresso mexicano onde um ufÃ³logo mostrou supostos cadÃ¡veres de alienÃ­genas. Pelo histÃ³rico polÃªmico do pes… [+2991 chars]</td></tr><tr><td>List(null, Olhardigital.com.br)</td><td>Mateus Dias</td><td>Ufólogo de supostos aliens do México já foi desmascarado outras vezes</td><td>Jaime Maussan apresentou no México restos mortais de alienígenas, no entanto, toda essa historia pode ser mentira\n",
       "O post Ufólogo de supostos aliens do México já foi desmascarado outras vezes apareceu primeiro em Olhar Digital.</td><td>https://olhardigital.com.br/2023/09/14/ciencia-e-espaco/ufologo-de-supostos-aliens-do-mexico-ja-foi-desmascarado-outras-vezes/</td><td>https://img.olhardigital.com.br/wp-content/uploads/2023/09/Jaime-Maussan.jpg</td><td>2023-09-14T20:07:00Z</td><td>Na terÃ§a-feira (12), o ufÃ³logo e jornalista Jaime Maussan apresentou ao Congresso do MÃ©xico os restos mortais de dois supostos alienÃ­genas. A demonstraÃ§Ã£o dos espÃ©cimes aconteceu durante uma a… [+2753 chars]</td></tr><tr><td>List(null, Tecmundo.com.br)</td><td>Jorge Marin</td><td>Google DeepMind: nova ferramenta de IA prevê doenças genéticas</td><td>Um novo programa de inteligência artificial desenvolvido por cientistas do Google DeepMind é capaz de prever se milhões de mutações genéticas presentes em nossa sequência de DNA que são inofensivas ou propensas a causar doenças no futuro. Batizada como AlphaM…</td><td>https://www.tecmundo.com.br/ciencia/271822-google-deepmind-nova-ferramenta-ia-preve-doencas-geneticas.htm</td><td>https://tm.ibxk.com.br/2023/09/20/20120248396161.jpg</td><td>2023-09-20T15:15:00Z</td><td>Um novo programa de inteligência artificial desenvolvido por cientistas do Google DeepMind é capaz de prever se milhões de mutações genéticas presentes em nossa sequência de DNA que são inofensivas o… [+2940 chars]</td></tr><tr><td>List(null, Olhardigital.com.br)</td><td>Alessandro Di Lorenzo</td><td>Estudo descobre novas características genéticas do Alzheimer</td><td>A descoberta, segundo os pesquisadores, pode contribuir para o desenvolvimento futuro de exames de sangue para a doença de Alzheimer\n",
       "O post Estudo descobre novas características genéticas do Alzheimer apareceu primeiro em Olhar Digital.</td><td>https://olhardigital.com.br/2023/09/07/medicina-e-saude/estudo-descobre-novas-caracteristicas-geneticas-do-alzheimer/</td><td>https://img.olhardigital.com.br/wp-content/uploads/2023/05/Alzheimer.jpg</td><td>2023-09-07T10:01:00Z</td><td>Pesquisadores da Universidade de Pittsburgh, nos Estados Unidos, analisaram milhares de genomas humanos para encontrar novas variaÃ§Ãµes genÃ©ticas responsÃ¡veis por controlar os nÃ­veis de molÃ©cula… [+2542 chars]</td></tr><tr><td>List(null, Sapo.pt)</td><td>Ana Sofia Neto</td><td>Cérebro artificial ajuda a perceber as origens genéticas do autismo</td><td>Uma nova técnica científica está a revelar as origens genéticas da perturbação do espetro do autismo (ou PEA) escondidas no nosso cérebro. O cérebro é curiosamente complexo e há muito sobre ele que ainda...</td><td>https://pplware.sapo.pt/ciencia/cerebro-artificial-ajuda-a-perceber-as-origens-geneticas-do-autismo/</td><td>https://pplware.sapo.pt/wp-content/uploads/2023/09/organoide_cerebral00.jpg</td><td>2023-09-24T13:00:25Z</td><td>Uma nova técnica científica está a revelar as origens genéticas da perturbação do espetro do autismo (ou PEA) escondidas no nosso cérebro.\r\n",
       "O cérebro é curiosamente complexo e há muito sobre ele que … [+3282 chars]</td></tr><tr><td>List(null, Tecmundo.com.br)</td><td>Jorge Marin</td><td>Miniórgãos descobertos em mamíferos podem gerar respostas autoimunes</td><td>Pesquisadores do Instituto Federal Suíço de Tecnologia de Zurique descobriram recentemente um tipo de organela que havia permanecido não caracterizada até agora nas células dos mamíferos. O “miniórgão”, batizado como exclusoma, é feito de anéis de DNA chamado…</td><td>https://www.tecmundo.com.br/ciencia/272244-miniorgaos-descobertos-mamiferos-gerar-respostas-autoimunes.htm</td><td>https://tm.ibxk.com.br/2023/10/02/02154244691267.jpg</td><td>2023-10-02T20:30:04Z</td><td>Pesquisadores do Instituto Federal Suíço de Tecnologia de Zurique descobriram recentemente um tipo de organela que havia permanecido não caracterizada até agora nas células dos mamíferos. O miniórgão… [+3134 chars]</td></tr><tr><td>List(null, Olhardigital.com.br)</td><td>Vitoria Lopes Gomez</td><td>Vacinas erradicaram doenças que, antes, matavam mais que guerras</td><td>Doenças como a poliomielite e a varíola, que mataram milhões no século passado, desapareceram graças às vacinas\n",
       "O post Vacinas erradicaram doenças que, antes, matavam mais que guerras apareceu primeiro em Olhar Digital.</td><td>https://olhardigital.com.br/2023/09/08/medicina-e-saude/vacinas-erradicaram-doencas-que-antes-matavam-mais-que-guerras/</td><td>https://img.olhardigital.com.br/wp-content/uploads/2023/07/vacina-e1692890816557.jpg</td><td>2023-09-08T20:30:20Z</td><td>NÃ£o Ã© incomum ouvir falar sobre a gravidade de doenÃ§as que hoje sequer nos lembramos. Ã o caso, por exemplo, da varÃ­ola e da poliomielite. Ambas mataram milhÃµes de pessoas no sÃ©culo passado, m… [+2308 chars]</td></tr><tr><td>List(null, Olhardigital.com.br)</td><td>Alessandro Di Lorenzo</td><td>IA brasileira é capaz de prever doenças com antecedência</td><td>A IA Dara pode coletar dados e realizar uma rápida varredura em todo o histórico médico do paciente, indicando riscos de saúde\n",
       "O post IA brasileira é capaz de prever doenças com antecedência apareceu primeiro em Olhar Digital.</td><td>https://olhardigital.com.br/2023/09/29/medicina-e-saude/ia-brasileira-e-capaz-de-prever-doencas-com-antecedencia/</td><td>https://proxy.olhardigital.com.br/wp-content/uploads/2023/09/iStock-1411998514.jpg</td><td>2023-09-29T21:04:45Z</td><td>Uma inteligÃªncia artificial desenvolvida por uma empresa brasileira pode ajudar a prevenir doenÃ§as como acidente vascular cerebral (AVC), infarto e diabetes, por exemplo. A Dara foi criada pela IPM… [+1959 chars]</td></tr><tr><td>List(null, Sapo.pt)</td><td>Rui Jorge</td><td>Cientistas adaptam a Realidade Virtual para utilização em consultas remotas</td><td>Os investigadores da Universidade de Canterbury criaram um headset de realidade virtual (RV) que poderá ser utilizado pelos médicos para realizar avaliações médicas de pacientes que vivem em zonas rurais, têm doenças infeciosas ou...</td><td>https://pplware.sapo.pt/high-tech/cientistas-adaptam-a-realidade-virtual-para-utilizacao-em-consultas-remotas/</td><td>https://pplware.sapo.pt/wp-content/uploads/2023/09/rv_medicina.jpg</td><td>2023-09-20T14:00:25Z</td><td>Os investigadores da Universidade de Canterbury criaram um headset de realidade virtual (RV) que poderá ser utilizado pelos médicos para realizar avaliações médicas de pacientes que vivem em zonas ru… [+3368 chars]</td></tr><tr><td>List(null, Olhardigital.com.br)</td><td>Flavia Correia</td><td>Bichos-da-seda transgênicos criam fibras mais resistentes do que tecido à prova de bala</td><td>Usando engenharia genética, cientistas inseriram genes de aranha em bichos-da-seda para produção de tecidos mais resistentes do que Kevlar\n",
       "O post Bichos-da-seda transgênicos criam fibras mais resistentes do que tecido à prova de bala apareceu primeiro em Olha…</td><td>https://olhardigital.com.br/2023/09/26/ciencia-e-espaco/bichos-da-seda-transgenicos-criam-fibras-mais-resistentes-do-que-tecido-a-prova-de-bala/</td><td>https://proxy.olhardigital.com.br/wp-content/uploads/2023/09/bicho-da-seda.jpg</td><td>2023-09-26T19:18:52Z</td><td>Cientistas utilizaram engenharia genÃ©tica para gerar bichos-da-seda capazes de produzir fibras mais resistentes do que o Kevlar, tambÃ©m chamado de poliaramida â material usado em coletes Ã  prova… [+3623 chars]</td></tr><tr><td>List(null, Olhardigital.com.br)</td><td>Alessandro Di Lorenzo</td><td>Estudo indica onde fica o lar original da humanidade</td><td>Pesquisadores criaram uma rede de quase 27 milhões de ancestrais, desenvolvendo uma gigantesca árvore genealógica da humanidade\n",
       "O post Estudo indica onde fica o lar original da humanidade apareceu primeiro em Olhar Digital.</td><td>https://olhardigital.com.br/2023/09/14/ciencia-e-espaco/estudo-indica-onde-fica-o-lar-original-da-humanidade/</td><td>https://img.olhardigital.com.br/wp-content/uploads/2022/03/deserto.jpg</td><td>2023-09-14T20:40:37Z</td><td>A histÃ³ria da humanidade Ã© marcada pelas migraÃ§Ãµes. Por milhares de anos, nossa espÃ©cie se deslocou pela Terra em busca de Ã¡gua, alimentos e tudo o que proporciona uma vida melhor. Mas existe u… [+2407 chars]</td></tr><tr><td>List(null, Olhardigital.com.br)</td><td>Alessandro Di Lorenzo</td><td>Segundo transplante com coração de porco para humano é feito com sucesso</td><td>O coração de porco transplantado tem 10 modificações genéticas para reduzir o risco de ser recusado pelo corpo do paciente\n",
       "O post Segundo transplante com coração de porco para humano é feito com sucesso apareceu primeiro em Olhar Digital.</td><td>https://olhardigital.com.br/2023/09/22/medicina-e-saude/segundo-transplante-com-coracao-de-porco-para-humano-e-feito-com-sucesso/</td><td>https://proxy.olhardigital.com.br/wp-content/uploads/2023/09/Transplante-1.jpg</td><td>2023-09-22T19:33:57Z</td><td>Pela segunda vez na histÃ³ria, cirurgiÃµes transplantaram o coraÃ§Ã£o de um porco em um homem na tentativa de prolongar sua vida. A operaÃ§Ã£o foi um sucesso e, dois dias depois, o paciente estava fa… [+2546 chars]</td></tr><tr><td>List(null, Olhardigital.com.br)</td><td>Mateus Dias</td><td>Cientistas encontram povo na África que acreditavam ter sumido</td><td>Apesar da língua da população estar deixando de existir, suas distinções genéticas continuam presente nos descendentes\n",
       "O post Cientistas encontram povo na África que acreditavam ter sumido apareceu primeiro em Olhar Digital.</td><td>https://olhardigital.com.br/2023/09/27/ciencia-e-espaco/cientistas-encontram-povo-na-africa-que-acreditavam-ter-sumido/</td><td>https://olhardigital.com.br/wp-content/uploads/2023/09/ultimos-faantes-do-Kwadi.webp</td><td>2023-09-27T19:34:40Z</td><td>A Ãfrica Austral abriga uma regiÃ£o conhecida como berÃ§o da humanidade, local onde os primeiros hominÃ­deos surgiram. Por causa disso, Ã© possÃ­vel encontrar a maior diversidade genÃ©tica humana po… [+2079 chars]</td></tr><tr><td>List(null, [Removed])</td><td>null</td><td>[Removed]</td><td>[Removed]</td><td>https://removed.com</td><td>null</td><td>1970-01-01T00:00:00Z</td><td>[Removed]</td></tr><tr><td>List(null, Tecmundo.com.br)</td><td>Jennifer Egues</td><td>Dara, a IA capaz de prever infartos e AVCs com dados do SUS</td><td>Nova inteligência artificial, desenvolvida pela empresa IPM Sistemas, uma GovTech brasileira, pode ser utilizada no serviço público de saúde, otimizando dados e gerando sinais de alerta para doenças como acidente vascular cerebral, infarto e previsões com até…</td><td>https://www.tecmundo.com.br/ciencia/272151-dara-ia-capaz-prever-infartos-avcs-dados-sus.htm</td><td>https://tm.ibxk.com.br/2023/09/28/28172505232225.jpg</td><td>2023-09-29T13:00:00Z</td><td>Nova inteligência artificial, desenvolvida pela empresa IPM Sistemas, uma GovTech brasileira, pode ser utilizada no serviço público de saúde, otimizando dados e gerando sinais de alerta para doenças … [+2737 chars]</td></tr><tr><td>List(null, Olhardigital.com.br)</td><td>Tamires Ferreira</td><td>‘Vacina inversa’ pode ser a chave para tratar doenças autoimunes; entenda</td><td>Ação do fármaco no sistema imunológico pode apagar a memória de ataque das moléculas\n",
       "O post ‘Vacina inversa’ pode ser a chave para tratar doenças autoimunes; entenda  apareceu primeiro em Olhar Digital.</td><td>https://olhardigital.com.br/2023/09/13/medicina-e-saude/vacina-inversa-pode-ser-a-chave-para-tratar-doencas-autoimunes-entenda/</td><td>https://img.olhardigital.com.br/wp-content/uploads/2023/09/doenca-autoimune.jpg</td><td>2023-09-13T17:37:31Z</td><td>Um novo tipo de vacina desenvolvida por pesquisadores da Escola Pritzker de Engenharia Molecular (PME)Â pode ser o novo tratamento mais promissor contra doenÃ§as autoimunes. Com uma proposta de aÃ§Ã£… [+2774 chars]</td></tr><tr><td>List(null, Olhardigital.com.br)</td><td>Alessandro Di Lorenzo</td><td>Google: pesquisadores fazem descoberta histórica sobre proteínas do corpo humano</td><td>Foram catalogadas 71 milhões de mutações e um terço delas poderia causar doenças. Apenas 4 milhões já eram conhecidas pela ciência\n",
       "O post Google: pesquisadores fazem descoberta histórica sobre proteínas do corpo humano apareceu primeiro em Olhar Digital.</td><td>https://olhardigital.com.br/2023/09/19/medicina-e-saude/google-pesquisadores-fazem-descoberta-historica-sobre-proteinas-do-corpo-humano/</td><td>https://proxy.olhardigital.com.br/wp-content/uploads/2023/09/Proteina-1.jpg</td><td>2023-09-19T19:46:08Z</td><td>Pesquisadores doÂ Google DeepMind, empresa de inteligÃªncia artificial da Alphabet, catalogaram 71 milhÃµes de mutaÃ§Ãµes em proteÃ­nas do corpo humano. Ao classificÃ¡-las, eles descobriram que um te… [+3867 chars]</td></tr><tr><td>List(null, [Removed])</td><td>null</td><td>[Removed]</td><td>[Removed]</td><td>https://removed.com</td><td>null</td><td>1970-01-01T00:00:00Z</td><td>[Removed]</td></tr><tr><td>List(null, [Removed])</td><td>null</td><td>[Removed]</td><td>[Removed]</td><td>https://removed.com</td><td>null</td><td>1970-01-01T00:00:00Z</td><td>[Removed]</td></tr><tr><td>List(null, Olhardigital.com.br)</td><td>Vitoria Lopes Gomez</td><td>Modelo matemático pode revolucionar tratamentos cardíacos</td><td>Através do simulador, cientistas poderão entender o funcionamento das doenças cardíacas no coração e, assim, achar novas formas de tratá-las\n",
       "O post Modelo matemático pode revolucionar tratamentos cardíacos apareceu primeiro em Olhar Digital.</td><td>https://olhardigital.com.br/2023/09/19/medicina-e-saude/modelo-matematico-pode-revolucionar-tratamentos-cardiacos/</td><td>https://proxy.olhardigital.com.br/wp-content/uploads/2022/10/coracao-humano.jpg</td><td>2023-09-19T07:55:00Z</td><td>Um estudo feito por pesquisadores da ItÃ¡lia mostrou que a matemÃ¡tica pode salvar vidas â e prevenir infartos. Os cientistas criaram um modelo matemÃ¡tico computacional do coraÃ§Ã£o para simular o… [+1772 chars]</td></tr><tr><td>List(null, Olhardigital.com.br)</td><td>Vitoria Lopes Gomez</td><td>Estudo mostra que vape (com ou sem nicotina) paralisa células imunológicas</td><td>Pesquisadores testaram e comprovaram que vapor do vape afeta o sistema imunológico, aumentando o risco de doenças respiratórias\n",
       "O post Estudo mostra que vape (com ou sem nicotina) paralisa células imunológicas apareceu primeiro em Olhar Digital.</td><td>https://olhardigital.com.br/2023/09/11/medicina-e-saude/estudo-mostra-que-vape-com-ou-sem-nicotina-paralisa-celulas-imunologicas/</td><td>https://img.olhardigital.com.br/wp-content/uploads/2023/09/vape-1.jpg</td><td>2023-09-11T19:11:30Z</td><td>O vape (ou cigarro eletrÃ´nico) ganhou terreno, especialmente entre os jovens. As fabricantes conseguiram popularizar o produto dizendo atÃ© que seria um âsubstitutoâ menos nocivo para quem queri… [+2051 chars]</td></tr><tr><td>List(null, Olhardigital.com.br)</td><td>Vitoria Lopes Gomez</td><td>Fiocruz: Covid-19 avança no Sudeste e Centro-Oeste</td><td>Alguns estados do Norte e Nordeste também tiveram alta nos casos de Covid-19 e de outras doenças respiratórias\n",
       "O post Fiocruz: Covid-19 avança no Sudeste e Centro-Oeste apareceu primeiro em Olhar Digital.</td><td>https://olhardigital.com.br/2023/09/20/medicina-e-saude/fiocruz-covid-19-avanca-no-sudeste-e-centro-oeste/</td><td>https://proxy.olhardigital.com.br/wp-content/uploads/2023/07/virus-covid-19.jpg</td><td>2023-09-20T18:58:26Z</td><td>A FundaÃ§Ã£o Oswaldo Cruz (Fiocruz) divulgou nesta quarta-feira (20) uma atualizaÃ§Ã£o do boletim InfoGripe, com dados de 10 a 16 de setembro. O novo relatÃ³rio mostra um aumento de casos de Covid-19… [+2167 chars]</td></tr><tr><td>List(null, Olhardigital.com.br)</td><td>Alessandro Di Lorenzo</td><td>Novo remédio imita prática de atividade física e pode reduzir peso</td><td>O remédio ainda está sendo testado em ratos, mas apresenta potencial para para tratar doenças como obesidade, diabetes e perda muscular\n",
       "O post Novo remédio imita prática de atividade física e pode reduzir peso apareceu primeiro em Olhar Digital.</td><td>https://olhardigital.com.br/2023/09/26/medicina-e-saude/novo-remedio-imita-pratica-de-atividade-fisica-e-pode-reduzir-peso/</td><td>https://proxy.olhardigital.com.br/wp-content/uploads/2023/09/OBESIDADE-1.jpg</td><td>2023-09-26T19:35:21Z</td><td>JÃ¡ imaginou tomar um remÃ©dio que garante os mesmos benefÃ­cios que a atividade fÃ­sica? Talvez isso nunca seja totalmente possÃ­vel, mas testes em ratos de um novo tipo de droga tÃªm se mostrado pr… [+3292 chars]</td></tr><tr><td>List(null, Olhardigital.com.br)</td><td>Alisson Santos</td><td>Autoridades de saúde dos EUA sugerem antibiótico para combater DSTs</td><td>Segundo autoridades, o medicamento deve servir como “pílula do dia seguinte” contra as doenças\n",
       "O post Autoridades de saúde dos EUA sugerem antibiótico para combater DSTs apareceu primeiro em Olhar Digital.</td><td>https://olhardigital.com.br/2023/10/03/medicina-e-saude/autoridades-de-saude-dos-eua-sugerem-antibiotico-para-combater-dsts/</td><td>https://proxy.olhardigital.com.br/wp-content/uploads/2023/09/Novos-antibioticos-1.jpg</td><td>2023-10-03T09:40:00Z</td><td>Autoridades de saÃºde dos Estados Unidos estÃ£o planejando apoiar o uso de antibiÃ³tico barato no combate as doenÃ§as sexualmente transmissÃ­veis (DSTs). Com os registros de contaminaÃ§Ã£o subindo em… [+1637 chars]</td></tr><tr><td>List(null, Tecmundo.com.br)</td><td>Lucas Vinicius Santos</td><td>Método quântico é capaz de curar câncer cerebral por meio de spray; entenda</td><td>De acordo com um estudo publicado na revista científica Nature Nanotechnology, uma equipe de cientistas ingleses conseguiu criar um método quântico por spray para curar um tipo de câncer cerebral. O estudo conduzido por pesquisadores Universidade de Nottingha…</td><td>https://www.tecmundo.com.br/ciencia/271666-metodo-quantico-capaz-curar-cancer-cerebral-meio-spray-entenda.htm</td><td>https://tm.ibxk.com.br/2023/09/15/15085246049017.jpg</td><td>2023-09-15T13:00:00Z</td><td>De acordo com um estudo publicado na revista científica Nature Nanotechnology, uma equipe de cientistas ingleses conseguiu criar um método quântico por spray para curar um tipo de câncer cerebral. O … [+2915 chars]</td></tr><tr><td>List(null, [Removed])</td><td>null</td><td>[Removed]</td><td>[Removed]</td><td>https://removed.com</td><td>null</td><td>1970-01-01T00:00:00Z</td><td>[Removed]</td></tr><tr><td>List(null, [Removed])</td><td>null</td><td>[Removed]</td><td>[Removed]</td><td>https://removed.com</td><td>null</td><td>1970-01-01T00:00:00Z</td><td>[Removed]</td></tr><tr><td>List(null, Observador.pt)</td><td>Ricardo Zorron</td><td>Tratar a obesidade com endoscopia, sem incisões? Sim, já é possível</td><td>Nos últimos cinco anos tem existido uma verdadeira revolução nas terapias endoscópicas que possibilitam um maior acesso a tratamentos para a obesidade, uma alternativa menos invasiva e sem incisões.</td><td>https://observador.pt/opiniao/tratar-a-obesidade-com-endoscopia-sem-incisoes-sim-ja-e-possivel/</td><td>https://wm.observador.pt/wm-op/wide-circle/https%3A%2F%2Fbordalo.observador.pt%2Fv2%2Frs%3Afill%3A900%2Fc%3A467%3A467%3Anowe%3A9%3A3%2Fq%3A86%2Fplain%2Fhttps%3A%2F%2Fs3.observador.pt%2Fwp-content%2Fuploads%2F2023%2F09%2F15111743%2Fwhatsapp-image-2023-09-12-at-164340.jpeg</td><td>2023-09-17T23:03:43Z</td><td>Através de uma abordagem minimamente invasiva, as técnicas endoscópicas desempenham um papel cada vez mais relevante no tratamento da obesidade, ajudando as pessoas a perder peso e a controlar doença… [+3854 chars]</td></tr><tr><td>List(null, [Removed])</td><td>null</td><td>[Removed]</td><td>[Removed]</td><td>https://removed.com</td><td>null</td><td>1970-01-01T00:00:00Z</td><td>[Removed]</td></tr><tr><td>List(null, Sapo.pt)</td><td>Marisa Pinto</td><td>Cão-robot com Raspberry Pi ensina espanhol a crianças surdas</td><td>É incrível a quantidade de tecnologia que nos dias que correm ajudam significativamente em áreas como a saúde, terapias, reabilitação, aprendizagem, entre outras. Nesse sentido, vamos hoje conhecer o Robins, um cão-robot com raspberry...</td><td>https://pplware.sapo.pt/gadgets/cao-robot-com-raspberry-pi-ensina-espanhol-a-criancas-surdas/</td><td>https://pplware.sapo.pt/wp-content/uploads/2023/09/cao-robot_0.jpg</td><td>2023-09-05T13:00:03Z</td><td>É incrível a quantidade de tecnologia que nos dias que correm ajudam significativamente em áreas como a saúde, terapias, reabilitação, aprendizagem, entre outras. Nesse sentido, vamos hoje conhecer o… [+1876 chars]</td></tr><tr><td>List(null, Www.tsf.pt)</td><td>Lusa</td><td>Morreu Ian Wilmut, \"pai\" da ovelha Dolly</td><td>O trabalho do especialista em embriologia foi considerado fundamental para a investigação que visa tratar doenças genéticas e degenerativas ajudando o corpo a reparar tecidos danificados.</td><td>https://www.tsf.pt/mundo/morreu-ian-wilmut-pai-da-ovelha-dolly-17006400.html</td><td>https://static.globalnoticias.pt/tsf/image.jpg?brand=TSF&type=generate&guid=d460562f-c697-4222-b4fd-8dc02af92e59&w=800&h=420&watermark=true&t=20230911191400</td><td>2023-09-11T18:14:00Z</td><td>O cientista afastou-se do meio académico em 2012 e em 2018 tornou público que tinha a doença de Parkinson\r\n",
       "© Naokazu Oinuma/AP (arquivo)\r\n",
       "O biólogo britânicoIan Wilmut, \"pai\" da ovelha Dolly, o prime… [+1949 chars]</td></tr><tr><td>List(null, Observador.pt)</td><td>Maria Raimundo</td><td>Boa nutrição é bom negócio</td><td>A personalização está a tornar-se fundamental na prevenção e gestão de doenças. Isto torna a nutrição personalizada e a medicina de precisão componentes essenciais na prevenção e gestão de doenças.</td><td>https://observador.pt/opiniao/boa-nutricao-e-bom-negocio/</td><td>https://wm.observador.pt/wm-op/wide-circle/https%3A%2F%2Fbordalo.observador.pt%2Fv2%2Frs%3Afill%3A900%2Fc%3A467%3A467%3Anowe%3A0%3A0%2Fq%3A86%2Fplain%2Fhttps%3A%2F%2Fs3.observador.pt%2Fwp-content%2Fuploads%2F2020%2F07%2F27203316%2Fmr_obs_467x467_acf_cropped.jpg</td><td>2023-09-11T23:09:08Z</td><td>A má nutrição está a desafiar quase todos os aspectos da nossa sociedade, contribuindo para problemas de saúde, desigualdades na saúde, no acesso à mesma, e nas despesas evitáveis com cuidados de saú… [+9116 chars]</td></tr><tr><td>List(null, Observador.pt)</td><td>Inês Capucho</td><td>DeepMind, da Google, desenvolve programa com Inteligência Artificial que prevê se mutações de ADN podem causar doenças</td><td>As previsões do programa AlphaMissense, desenvolvido pela DeepMind, sobre as chamadas mutações \"missense\" podem ajudar a acelerar a investigação e o diagnóstico de doenças raras.</td><td>https://observador.pt/2023/09/20/deepmind-da-google-desenvolve-programa-com-inteligencia-artificial-que-preve-se-mutacoes-de-adn-podem-causar-doencas/</td><td>https://wm.observador.pt/wm/obs/l/https%3A%2F%2Fbordalo.observador.pt%2Fv2%2Frs%3Afill%3A770%3A403%2Fc%3A3504%3A1973%3Anowe%3A0%3A532%2Fq%3A85%2Fplain%2Fhttps%3A%2F%2Fs3.observador.pt%2Fwp-content%2Fuploads%2F2022%2F02%2F24081421%2FGettyImages-90739363.jpg</td><td>2023-09-20T17:45:28Z</td><td>A DeepMind, detida pela Google, utilizou a Inteligência Artificial para identificar mutações de ADN que podem causar doenças. É através do programa AlphaMissense, desenvolvido por cientistas, que a e… [+1752 chars]</td></tr><tr><td>List(null, Abril.com.br)</td><td>Diogo Sponchiato</td><td>Nobel vai para descobertas que resultaram nas vacinas de RNA para Covid-19</td><td>Láurea em Medicina é concedida a dois pesquisadores pelos trabalhos que culminaram na nova geração de vacinas que ajudou a deter a pandemia</td><td>https://veja.abril.com.br/saude/nobel-de-medicina-2023-vacina-covid</td><td>https://veja.abril.com.br/wp-content/uploads/2023/10/490_envelhecer-vacina-gripe.png?w=680&h=453&crop=1</td><td>2023-10-02T09:59:49Z</td><td>O Prêmio Nobel de Fisiologia ou Medicina de 2023 reconhece dois pesquisadores por suas descobertas fundamentais que permitiram criar as primeiras vacinas de RNA da história, as mesmas que ajudaram a … [+2446 chars]</td></tr><tr><td>List(null, Abril.com.br)</td><td>Diogo Sponchiato</td><td>Do que falamos quando falamos em demência</td><td>Quadro que solapa a memória e outras habilidades cognitivas tem diversas causas, mas o Alzheimer é a principal delas</td><td>https://veja.abril.com.br/coluna/letra-de-medico/do-que-falamos-quando-falamos-em-demencia</td><td>https://veja.abril.com.br/wp-content/uploads/2023/09/envelhecer-cerebro.png?w=680&h=449&crop=1</td><td>2023-09-21T10:12:08Z</td><td>Demência é um diagnóstico clínico que indica a redução progressiva das capacidades cerebrais, levando à perda de autonomia e da qualidade de vida. Dentre múltiplas causas, a doença de Alzheimer é a m… [+3622 chars]</td></tr><tr><td>List(null, [Removed])</td><td>null</td><td>[Removed]</td><td>[Removed]</td><td>https://removed.com</td><td>null</td><td>1970-01-01T00:00:00Z</td><td>[Removed]</td></tr><tr><td>List(null, Abril.com.br)</td><td>Simone Blanes</td><td>MSD inicia última fase de estudo para comprimido que reduz colesterol ruim</td><td>Chamado de MK-0616, o remédio experimental inibe a ação de PCSK9. Se aprovado, será o primeiro comprimido oral dessa categoria</td><td>https://veja.abril.com.br/saude/msd-inicia-ultima-fase-de-estudo-para-comprimido-que-reduz-colesterol-ruim</td><td>https://veja.abril.com.br/wp-content/uploads/2016/05/estatina-remedio-colesterol-20121108-original.jpeg?quality=90&strip=info&w=620&h=349&crop=1</td><td>2023-09-04T18:03:54Z</td><td>A MSD iniciou um programa clínico de Fase 3 para um inibidor oral de PCSK9, avaliado para o tratamento de hipercolesterolemia, ou seja, a redução do colesterol da lipoproteína de baixa densidade (LDL… [+2295 chars]</td></tr><tr><td>List(null, Olhardigital.com.br)</td><td>Alessandro Di Lorenzo</td><td>Descoberta de pesquisadores da USP pode ajudar no combate ao câncer</td><td>Pesquisadores identificaram o mecanismo envolvido na replicação e reparo de DNA, o que pode ajudar no tratamento contra o câncer\n",
       "O post Descoberta de pesquisadores da USP pode ajudar no combate ao câncer apareceu primeiro em Olhar Digital.</td><td>https://olhardigital.com.br/2023/09/21/medicina-e-saude/descoberta-de-pesquisadores-da-usp-pode-ajudar-no-combate-ao-cancer/</td><td>https://proxy.olhardigital.com.br/wp-content/uploads/2023/05/Destaque-tratamento-cancer.jpg</td><td>2023-09-21T17:55:31Z</td><td>Uma descoberta de pesquisadores do Instituto de QuÃ­mica da USP e de duas universidades da Inglaterra pode auxiliar no combate a diferentes tipos de cÃ¢ncer. Os cientistas identificaram o mecanismo e… [+4889 chars]</td></tr><tr><td>List(null, Abril.com.br)</td><td>Paula Felix</td><td>Novo estudo com terapia inovadora contra câncer é autorizado pela Anvisa</td><td>Ensaio com células geneticamente modificadas, as CAR-T, será conduzido pela Fundação Hemocentro de Ribeirão Preto e Instituto Butantan</td><td>https://veja.abril.com.br/saude/novo-estudo-com-terapia-inovadora-contra-cancer-e-autorizado-pela-anvisa</td><td>https://veja.abril.com.br/wp-content/uploads/2017/11/cancer-car-t-terapia-17.jpg?quality=90&strip=info&w=680&h=453&crop=1</td><td>2023-09-26T23:12:38Z</td><td>A Agência Nacional de Vigilância Sanitária (Anvisa) autorizou nesta terça-feira, 26, um novo ensaio clínico nacional com CAR-T, terapia inovadora com células geneticamente modificadas que agem contra… [+2746 chars]</td></tr><tr><td>List(null, Terra.com.br)</td><td>Deutsche Welle</td><td>Por que você deve a sua vida a uns poucos humanos primitvos?</td><td>Análises genéticas apontam que quase todos os nossos ancestrais morreram em uma catástrofe ...</td><td>https://www.terra.com.br/noticias/por-que-voce-deve-a-sua-vida-a-uns-poucos-humanos-primitvos,4f56bf2b1e4ab45dbafda310e9294f1coffppy18.html</td><td>https://p2.trrsf.com/image/fget/cf/1200/630/middle/images.terra.com/2023/09/05/1696209846-58045134354.jpg</td><td>2023-09-05T18:08:14Z</td><td>Análises genéticas apontam que quase todos os nossos ancestrais morreram em uma catástrofe natural 900 mil anos atrás. Apenas 1.280 indivíduos teriam sobrevivido. Uma parte deles está em você.Imagine… [+4310 chars]</td></tr><tr><td>List(null, Googlediscovery.com)</td><td>Renê Fraga</td><td>Mark Zuckerberg anuncia IA generativa para curar todas as doenças</td><td>A Chan Zuckerberg Initiative (CZI), organização filantrópica fundada por Priscilla Chan e Mark Zuckerberg, anunciou um projeto inovador de inteligência</td><td>https://googlediscovery.com/2023/09/20/mark-zuckerberg-anuncia-ia-generativa-para-curar-todas-as-doencas/</td><td>https://cdn.googlediscovery.com/wp-content/uploads/chan-zuckerberg.jpg</td><td>2023-09-20T16:59:48Z</td><td>A Chan Zuckerberg Initiative (CZI), organização filantrópica fundada por Priscilla Chan e Mark Zuckerberg, anunciou um projeto inovador de inteligência artificial generativa. \r\n",
       "A iniciativa consiste … [+1695 chars]</td></tr><tr><td>List(null, [Removed])</td><td>null</td><td>[Removed]</td><td>[Removed]</td><td>https://removed.com</td><td>null</td><td>1970-01-01T00:00:00Z</td><td>[Removed]</td></tr><tr><td>List(null, Abril.com.br)</td><td>diego.valencia</td><td>Subir escadas pode reduzir o risco de doenças cardíacas em 20%, diz estudo</td><td>Pesquisadores analisaram repositório de informações sobre saúde e estilo de vida com dados de mais de 458 mil adultos no Reino Unido</td><td>https://veja.abril.com.br/saude/subir-escadas-pode-reduzir-o-risco-de-doencas-cardiacas-em-20-diz-estudo</td><td>https://veja.abril.com.br/wp-content/uploads/2017/04/esporte-corrida-escada-20150213-018.jpg?quality=90&strip=info&w=680&h=453&crop=1</td><td>2023-10-03T17:00:59Z</td><td>Odeia quando o elevador quebra? De fato, é um incômodo, mas subir lances de escada pode salvar sua vida, de acordo com um novo estudo da Universidade de Tulane, em Louisiana, nos Estados Unidos.\r\n",
       "Pes… [+1324 chars]</td></tr><tr><td>List(null, [Removed])</td><td>null</td><td>[Removed]</td><td>[Removed]</td><td>https://removed.com</td><td>null</td><td>1970-01-01T00:00:00Z</td><td>[Removed]</td></tr><tr><td>List(null, Abril.com.br)</td><td>Diogo Sponchiato</td><td>‘A saúde climática e a humana andam de mãos dadas’</td><td>Em entrevista exclusiva, CEO global da AstraZeneca expõe os desafios da sustentabilidade do sistema de saúde e por onde caminha o futuro da medicina</td><td>https://veja.abril.com.br/saude/a-saude-climatica-e-a-humana-andam-de-maos-dadas</td><td>https://veja.abril.com.br/wp-content/uploads/2023/09/AZ3087-BoD-Pascal-Soriot-2022.jpg?quality=90&strip=info&w=680&h=453&crop=1</td><td>2023-09-19T11:16:22Z</td><td>Não dá para falar sobre a sustentabilidade dos sistemas de saúde sem falar de outra sustentabilidade, a ambiental – e vice-versa. É o que defende o francês Pascal Soriot, CEO global da biofarmacêutic… [+14790 chars]</td></tr><tr><td>List(null, Abril.com.br)</td><td>Da Redação</td><td>Morre cientista que liderou criação de Dolly, o primeiro animal clonado</td><td>Feito gerou manchetes e debates éticos acalorados em 1996</td><td>https://veja.abril.com.br/mundo/morre-cientista-que-liderou-criacao-de-dolly-o-primeiro-animal-clonado</td><td>https://veja.abril.com.br/wp-content/uploads/2023/09/WhatsApp-Image-2023-09-11-at-15.46.58.jpeg?quality=90&strip=info&w=680&h=453&crop=1</td><td>2023-09-11T19:03:48Z</td><td>O cientista britânico Ian Wilmut, que liderou as pesquisas que resultaram na criação do primeiro animal clonado no mundo, a ovelha Dolly, morreu aos 79 anos no último domingo, 10. A morte foi anuncia… [+1984 chars]</td></tr><tr><td>List(null, Olhardigital.com.br)</td><td>Rodrigo Mozelli</td><td>Anvisa autoriza ensaio clínico com CAR-T Cell no Brasil para combater câncer</td><td>Estudo tem como objetivo avaliar a segurança e eficácia do tratamento em pacientes com leucemia linfoide aguda B e linfoma não-Hodgkin B\n",
       "O post Anvisa autoriza ensaio clínico com CAR-T Cell no Brasil para combater câncer apareceu primeiro em Olhar Digital.</td><td>https://olhardigital.com.br/2023/09/26/medicina-e-saude/anvisa-autoriza-ensaio-clinico-com-car-t-cell-no-brasil-para-combater-cancer/</td><td>https://proxy.olhardigital.com.br/wp-content/uploads/2023/09/cancer-2.jpg</td><td>2023-09-26T22:00:05Z</td><td>A FundaÃ§Ã£o Hemocentro de RibeirÃ£o Preto (FUNDHERP), em parceria com o Instituto Butantan, recebeu autorizaÃ§Ã£o da Anvisa para realizar ensaio clÃ­nico no Brasil com a tÃ©cnica CAR-T Cell, que uti… [+2904 chars]</td></tr><tr><td>List(null, [Removed])</td><td>null</td><td>[Removed]</td><td>[Removed]</td><td>https://removed.com</td><td>null</td><td>1970-01-01T00:00:00Z</td><td>[Removed]</td></tr><tr><td>List(null, B9.com.br)</td><td>Carlos Merigo</td><td>Johnson & Johnson atualiza identidade visual e abandona seu reconhecido logotipo caligráfico</td><td>A gigante da saúde, Johnson & Johnson, apresenta uma nova identidade visual. Abandona o reconhecido logotipo em caligrafia para simplificar a marca, buscando refletir sua evolução e foco em inovação. A cor vermelha também foi alterada. Por que isso é importan…</td><td>https://www.b9.com.br/164509/johnson-johnson-atualiza-identidade-visual-e-abandona-seu-reconhecido-logotipo-caligrafico/</td><td>https://assets.b9.com.br/wp-content/uploads/2023/09/JJ_Lobby01_HighRes-1280x677.jpg</td><td>2023-09-14T17:50:25Z</td><td>A gigante da saúde, Johnson &amp; Johnson, apresenta uma nova identidade visual. Abandona o reconhecido logotipo em caligrafia para simplificar a marca, buscando refletir sua evolução e foco em inova… [+1178 chars]</td></tr><tr><td>List(null, Melhoresdestinos.com.br)</td><td>Cleverson Lima</td><td>Minas Gerais! Resort all inclusive em Poços de Caldas com diárias a partir de R$ 677</td><td>Poços de Caldas, no Sul de Minas Gerais, oferece uma das melhores estâncias hidrominerais da América Latina, com águas minerais usadas em diversas terapias, clima montanhês da Serra da Mantiqueira, excelente culinária e charmosa arquitetura da década de 30.  …</td><td>https://www.melhoresdestinos.com.br/promocao/minas-pocos-caldas-resort</td><td>https://www.melhoresdestinos.com.br/wp-content/uploads/2021/06/cassino-resort-pocos-de-caldas-capa-2021-2.jpg</td><td>2023-09-23T12:00:04Z</td><td>Poços de Caldas, no Sul de Minas Gerais, oferece uma das melhores estâncias hidrominerais da América Latina, com águas minerais usadas em diversas terapias, clima montanhês da Serra da Mantiqueira, e… [+1409 chars]</td></tr><tr><td>List(null, Catracalivre.com.br)</td><td>Redação</td><td>Estudo diz que menopausa precoce aumento o risco de demência</td><td>Uma recente pesquisa realizada pela Universidade de Sherbrooke, no Canadá, revelou uma forte relação entre o início precoce da menopausa em mulheres e um</td><td>https://catracalivre.com.br/saude-bem-estar/estudo-diz-que-menopausa-precoce-aumento-o-risco-de-demencia/</td><td>https://catracalivre.com.br/cdn-cgi/image/f=auto,q=60,w=1200,h=638,fit=cover,format=jpeg/wp-content/uploads/2023/09/menopausa.jpg</td><td>2023-09-28T19:30:43Z</td><td>Uma recente pesquisa realizada pela Universidade de Sherbrooke, no Canadá, revelou uma forte relação entre o início precoce da menopausa em mulheres e um risco elevado de desenvolvimento de comorbida… [+1853 chars]</td></tr><tr><td>List(null, Megacurioso.com.br)</td><td>Vivian de Souza Campos</td><td>Superbactérias: como evitar a resistência aos antibióticos</td><td>Superbactérias, ou bactérias resistentes a antibióticos, são cepas microbianas que desenvolveram a capacidade de resistir a um ou mais antibióticos. Essa resistência pode ocorrer devido a mutações genéticas aleatórias, ou pode ser adquirida devido ao uso inad…</td><td>https://www.megacurioso.com.br//ciencia/127528-superbacterias-como-evitar-a-resistencia-aos-antibioticos.htm</td><td>https://mega.ibxk.com.br/2023/10/03/03152401766265.jpg?ims=600x</td><td>2023-10-03T19:00:00Z</td><td>Superbactérias, ou bactérias resistentes a antibióticos, são cepas microbianas que desenvolveram a capacidade de resistir a um ou mais antibióticos. Essa resistência pode ocorrer devido a mutações ge… [+3311 chars]</td></tr><tr><td>List(null, [Removed])</td><td>null</td><td>[Removed]</td><td>[Removed]</td><td>https://removed.com</td><td>null</td><td>1970-01-01T00:00:00Z</td><td>[Removed]</td></tr><tr><td>List(null, [Removed])</td><td>null</td><td>[Removed]</td><td>[Removed]</td><td>https://removed.com</td><td>null</td><td>1970-01-01T00:00:00Z</td><td>[Removed]</td></tr><tr><td>List(null, [Removed])</td><td>null</td><td>[Removed]</td><td>[Removed]</td><td>https://removed.com</td><td>null</td><td>1970-01-01T00:00:00Z</td><td>[Removed]</td></tr><tr><td>List(null, Terra.com.br)</td><td>Portal EdiCase</td><td>Entenda por que doenças vasculares podem aumentar no calor</td><td>Quando não cuidamos da saúde, os dias de calor torna-se um momento de alerta para o corpo, ...</td><td>https://www.terra.com.br/vida-e-estilo/saude/entenda-por-que-doencas-vasculares-podem-aumentar-no-calor,52723791eadd8bccd0bd285409f363b03cid3uve.html</td><td>https://p2.trrsf.com/image/fget/cf/1200/630/middle/images.terra.com/2023/09/22/1100783929-doencas-vasculares.jpeg</td><td>2023-09-22T22:02:23Z</td><td>Quando não cuidamos da saúde, os dias de calor torna-se um momento de alerta para o corpo, especialmente para aqueles que sofrem com problemas cardiovasculares. Isso porque, segundo dados da Sociedad… [+3207 chars]</td></tr><tr><td>List(null, Abril.com.br)</td><td>Da Redação</td><td>Medicina tecnológica para todos</td><td>Assim como a terapia CAR-T, existem inúmeras abordagens terapêuticas inovadoras em desenvolvimento em centros de pesquisa ao redor do planeta</td><td>https://veja.abril.com.br/coluna/coluna-claudio-lottenberg/medicina-tecnologica-para-todos</td><td>https://veja.abril.com.br/wp-content/uploads/2017/11/cancer-car-t-terapia-17.jpg?quality=90&strip=info&w=680&h=453&crop=1</td><td>2023-09-18T16:11:55Z</td><td>A terapia com células CAR-T é um dos tratamentos mais recentes e promissores no combate aos cânceres de sangue, como o linfoma e as leucemias agudas. Ele consiste na coleta de células de defesa do pa… [+3354 chars]</td></tr><tr><td>List(null, [Removed])</td><td>null</td><td>[Removed]</td><td>[Removed]</td><td>https://removed.com</td><td>null</td><td>1970-01-01T00:00:00Z</td><td>[Removed]</td></tr><tr><td>List(null, Terra.com.br)</td><td>Reuters</td><td>Belga Biobest compra empresa brasileira de soluções agrícolas naturais Biotrop em acordo de US$570 mi</td><td>A empresa belga de biocontrole de pragas e doenças e polinização natural para produção agrícola ...</td><td>https://www.terra.com.br/economia/dinheiro-em-acao/belga-biobest-compra-empresa-brasileira-de-solucoes-agricolas-naturais-biotrop-em-acordo-de-us570-mi,92e023c86a50c8325dbc0b2d6ca40870yybi9fsw.html</td><td>https://s1.trrsf.com/fe/zaz-mod-t360-icons/svg/logos/terra-16x9-borda.png</td><td>2023-09-07T18:50:26Z</td><td>A empresa belga de biocontrole de pragas e doenças e polinização natural para produção agrícola sustentável Biobest Group fechou acordo para adquirir a brasileira do mesmo ramo Biotrop, em um movimen… [+1927 chars]</td></tr><tr><td>List(null, Observador.pt)</td><td>Agência Lusa</td><td>Empresa da Covilhã deteta enzima que pode travar doença de Parkinson</td><td>Uma empresa sediada na Covilhã está a desenvolver uma molécula que produz stress oxidativo e que pode ser moldada às necessidades do doente, permitindo que permaneçam no primeiro estágio da doença.</td><td>https://observador.pt/2023/09/22/empresa-da-covilha-deteta-enzima-que-pode-travar-doenca-de-parkinson/</td><td>https://wm.observador.pt/wm/obs/l/https%3A%2F%2Fbordalo.observador.pt%2Fv2%2Frs%3Afill%3A770%3A403%2Fc%3A2000%3A1124%3Anowe%3A0%3A105%2Fq%3A85%2Fplain%2Fhttps%3A%2F%2Fs3.observador.pt%2Fwp-content%2Fuploads%2F2017%2F12%2F12161206%2F19081089.jpg</td><td>2023-09-22T10:33:53Z</td><td>Uma empresa com sede na Covilhã está na fase de conclusão dos testes pré-clínicos de uma enzima responsável por produzir stress oxidativo que pode ser moldada para níveis que permitam evitar a progre… [+3017 chars]</td></tr><tr><td>List(null, Sapo.pt)</td><td>Ana Sofia Neto</td><td>Mosquito que transmite dengue e zika aterrou em Lisboa pela primeira vez</td><td>Embora tenha sido detetada no norte de Portugal, em 2017, esta foi a primeira vez que a espécie de mosquitos aterrou em Lisboa. Há infeções que, a menos que viajemos, nos são muito distantes,...</td><td>https://pplware.sapo.pt/ciencia/mosquito-que-transmite-dengue-e-zika-aterrou-em-lisboa-pela-primeira-vez/</td><td>https://pplware.sapo.pt/wp-content/uploads/2023/09/Aedes-Albopictus_B00.jpg</td><td>2023-09-28T08:40:24Z</td><td>Embora tenha sido detetada no norte de Portugal, em 2017, esta foi a primeira vez que a espécie de mosquitos aterrou em Lisboa.\r\n",
       "Há infeções que, a menos que viajemos, nos são muito distantes, pois n… [+1448 chars]</td></tr><tr><td>List(null, Catracalivre.com.br)</td><td>Redação</td><td>Alimento comum na cozinha do brasileiro reduz risco de câncer, diz estudo</td><td>Comer bem é necessário não só para manter o corpo funcionando corretamente, mas também para prevenir uma série de doenças. É por isso que, ás vezes, nos</td><td>https://catracalivre.com.br/saude-bem-estar/alimento-comum-na-cozinha-do-brasileiro-reduz-risco-de-cancer-diz-estudo/</td><td>https://catracalivre.com.br/cdn-cgi/image/f=auto,q=60,w=1200,h=638,fit=cover,format=jpeg/wp-content/uploads/2023/09/istock-1635263915-1.jpg</td><td>2023-09-22T22:01:08Z</td><td>Comer bem é necessário não só para manter o corpo funcionando corretamente, mas também para prevenir uma série de doenças.\r\n",
       "É por isso que, ás vezes, nos deparamos com alimentos conhecidos como “supe… [+2233 chars]</td></tr><tr><td>List(null, Terra.com.br)</td><td>Reuters</td><td>CDC dos EUA endossa vacina da Pfizer contra doença sazonal para proteger bebês</td><td>O Centro de Controle e Prevenção de Doenças dos EUA (CDC, na sigla em inglês) endossou nesta ...</td><td>https://www.terra.com.br/noticias/mundo/cdc-dos-eua-endossa-vacina-da-pfizer-contra-doenca-sazonal-para-proteger-bebes,98c42c6c5c276e9a6307f08a293eb128a0g5s529.html</td><td>https://s1.trrsf.com/fe/zaz-mod-t360-icons/svg/logos/terra-16x9-borda.png</td><td>2023-09-23T00:17:36Z</td><td>O Centro de Controle e Prevenção de Doenças dos EUA (CDC, na sigla em inglês) endossou nesta sexta-feira a vacina da Pfizer contra o vírus sincicial respiratório (VSR) para mulheres que estão no terc… [+1370 chars]</td></tr><tr><td>List(null, Abril.com.br)</td><td>Paula Felix</td><td>A proteína capaz de manter a célula humana saudável por mais tempo</td><td>Estudo feito por pesquisadores brasileiros e australianos aponta caminhos para tratar doenças autoimunes e até câncer</td><td>https://veja.abril.com.br/saude/a-proteina-capaz-de-manter-celula-humana-saudavel-por-mais-tempo</td><td>https://veja.abril.com.br/wp-content/uploads/2023/09/Celulas-humanas-coxiella.jpg?quality=90&strip=info&w=680&h=453&crop=1</td><td>2023-09-11T14:45:31Z</td><td>Pesquisadores da Universidade de São Paulo (USP) e colaboradores da Austrália identificaram uma proteína bacteriana capaz de manter as células humanas saudáveis por mais tempo. A descoberta pode leva… [+5133 chars]</td></tr><tr><td>List(null, Olhardigital.com.br)</td><td>Alessandro Di Lorenzo</td><td>Árvore “congelada” no tempo por milhões de anos tem mistério revelado</td><td>Conhecida como \"fóssil vivo\", a árvore praticamente não sofreu alterações desde o tempo em que os dinossauros dominavam a Terra\n",
       "O post Árvore “congelada” no tempo por milhões de anos tem mistério revelado apareceu primeiro em Olhar Digital.</td><td>https://olhardigital.com.br/2023/09/15/ciencia-e-espaco/arvore-congelada-no-tempo-por-milhoes-de-anos-tem-misterio-revelado/</td><td>https://img.olhardigital.com.br/wp-content/uploads/2023/09/Pinheiro-1.jpg</td><td>2023-09-15T17:06:28Z</td><td>Cientistas da AustrÃ¡lia, Estados Unidos e ItÃ¡liaÂ decodificaram o genoma de uma rarÃ­ssima Ã¡rvore conhecida como âfÃ³ssil vivoâ. O pinheiroÂ Wollemi (Wollemia nobilis) foi descoberto em 1994 e… [+3199 chars]</td></tr><tr><td>List(null, Expresso.pt)</td><td>Expresso</td><td>Agendas mobilizadoras canalizam €480 milhões para transformar sector da saúde em três anos</td><td>Plano de Recuperação e de Resiliência é central no investimento que privados e Estado preveem canalizar para o desenvolvimento de terapias inovadoras, para doenças graves como o cancro, e em novas formas de combater a resistência aos antibióticos</td><td>https://expresso.pt/economia/empresas/2023-10-02-Agendas-mobilizadoras-canalizam-480-milhoes-para-transformar-sector-da-saude-em-tres-anos-17de87a9</td><td>https://images.impresa.pt/expresso/2023-06-28-laboratorio-deac6dc7/1.91x1?wm=true&outputFormat=jpeg</td><td>2023-10-02T14:56:57Z</td><td>O Plano de Recuperação e Resiliência (PRR) irá apoiar quatro agendas mobilizadoras da saúde, que durante os próximos três anos irão captar investimentos de cerca de 180 milhões de euros do setor priv… [+2989 chars]</td></tr><tr><td>List(null, BBC News)</td><td>https://www.facebook.com/bbcnews</td><td>Sensação de estar isolado do mundo é uma das grandes preocupações do século 21</td><td>Sensação de estar isolado do mundo é uma das grandes preocupações do século 21</td><td>https://www.bbc.com/portuguese/media-66843698</td><td>https://ichef.bbci.co.uk/news/1024/branded_portuguese/80CB/production/_131117923_mediaitem131117922.jpg</td><td>2023-09-18T10:24:06Z</td><td>Sensação de estar isolado do mundo é uma das grandes preocupações do século 21\r\n",
       "A solidão virou uma das grandes preocupações de saúde do século 21. \r\n",
       "Comparada ao cigarro e relacionada ao risco de do… [+343 chars]</td></tr><tr><td>List(null, [Removed])</td><td>null</td><td>[Removed]</td><td>[Removed]</td><td>https://removed.com</td><td>null</td><td>1970-01-01T00:00:00Z</td><td>[Removed]</td></tr><tr><td>List(null, Catracalivre.com.br)</td><td>Redação</td><td>Pesquisa indica composto encontrado nestes alimentos que pode prevenir câncer</td><td>Você sabia que diversas pesquisas ao longo dos anos têm apontado benefícios potenciais para a fisetina, um flavonoide com atividade antioxidante presente</td><td>https://catracalivre.com.br/saude-bem-estar/pesquisa-indica-composto-encontrado-nestes-alimentos-que-previne-cancer/</td><td>https://catracalivre.com.br/cdn-cgi/image/f=auto,q=60,w=1200,h=638,fit=cover,format=jpeg/wp-content/uploads/2023/09/istock-1325282418.jpg</td><td>2023-09-26T10:00:45Z</td><td>Você sabia que diversas pesquisas ao longo dos anos têm apontado benefícios potenciais para a fisetina, um flavonoide com atividade antioxidante presente em frutas e vegetais?\r\n",
       "Estudos epidemiológico… [+2817 chars]</td></tr><tr><td>List(null, Abril.com.br)</td><td>diego.valencia</td><td>O que a microbiota intestinal tem a ver com distúrbios neurológicos?</td><td>Revisão feita por pesquisadores da Unifesp inclui doenças como Alzheimer e Parkinson e transtornos psiquiátricos como depressão e ansiedade</td><td>https://veja.abril.com.br/saude/como-a-microbiota-influencia-disturbios-neurologicos-e-psiquiatricos</td><td>https://veja.abril.com.br/wp-content/uploads/2020/09/câncer-de-intestino.jpg?quality=90&strip=info&w=680&h=453&crop=1</td><td>2023-09-06T19:48:52Z</td><td>Há trilhões de microrganismos, incluindo bactérias, fungos e vírus, no interior do trato gastrointestinal conjunto que leva o nome de microbiota. É quase o mesmo número de células em um corpo humano.… [+3585 chars]</td></tr><tr><td>List(null, [Removed])</td><td>null</td><td>[Removed]</td><td>[Removed]</td><td>https://removed.com</td><td>null</td><td>1970-01-01T00:00:00Z</td><td>[Removed]</td></tr><tr><td>List(null, Terra.com.br)</td><td>Portal EdiCase</td><td>Entenda o que é a hipercifose e como tratar essa condição</td><td>A hipercifose, também conhecida popularmente como 'corcunda', trata-se de uma doença óssea ...</td><td>https://www.terra.com.br/vida-e-estilo/saude/entenda-o-que-e-a-hipercifose-e-como-tratar-essa-condicao,323d34d575b92837f1fad0d49bfe650b67beo2wl.html</td><td>https://p2.trrsf.com/image/fget/cf/1200/630/middle/images.terra.com/2023/10/02/638203844-coluna-dores.jpeg</td><td>2023-10-02T17:31:30Z</td><td>A hipercifose, também conhecida popularmente como 'corcunda', trata-se de uma doença óssea causada por um desvio corporal que, normalmente, faz com que as pessoas tenham uma curvatura na região torác… [+2694 chars]</td></tr><tr><td>List(null, Abril.com.br)</td><td>Paula Felix</td><td>OMS recomenda vacinas contra malária e dengue diante de onda de mosquitos</td><td>Entidade fez alerta sobre risco das doenças principalmente para crianças; Qdenga foi aprovada para uso no Brasil em março</td><td>https://veja.abril.com.br/saude/oms-recomenda-vacinas-contra-malaria-e-dengue-diante-de-onda-de-mosquitos</td><td>https://veja.abril.com.br/wp-content/uploads/2023/06/aedes_aegypti-dengue2.webp?w=680&h=453&crop=1</td><td>2023-10-02T22:47:48Z</td><td>Diante do aumento das doenças transmitidas por mosquitos em diferentes partes do mundo, a Organização Mundial da Saúde (OMS) divulgou nesta segunda-feira, 2, um comunicado recomendando a nova vacina … [+2768 chars]</td></tr><tr><td>List(null, Sapo.pt)</td><td>Rui Jorge</td><td>Poria o seu cérebro nas mãos da IA? Será uma realidade dentro de dois anos</td><td>Um importante neurocirurgião do Reino Unido afirmou que a cirurgia cerebral com recurso à inteligência artificial (IA) será possível dentro de dois anos, tornando-a mais segura e eficaz.   O governo britânico afirma que...</td><td>https://pplware.sapo.pt/inteligencia-artificial/poria-o-seu-cerebro-nas-maos-da-ia-sera-uma-realidade-dentro-de-dois-anos/</td><td>https://pplware.sapo.pt/wp-content/uploads/2022/01/cirurgia_robo00.jpg</td><td>2023-09-30T10:00:12Z</td><td>Um importante neurocirurgião do Reino Unido afirmou que a cirurgia cerebral com recurso à inteligência artificial (IA) será possível dentro de dois anos, tornando-a mais segura e eficaz.\r\n",
       "O governo b… [+2511 chars]</td></tr><tr><td>List(null, Olhardigital.com.br)</td><td>Nayra Teles</td><td>USP: terapia celular pode reduzir mortes por Covid-19</td><td>Pesquisadores da Universidade de São Paulo (USP) descobriram que a terapia celular pode reduzir em 60% o risco de morte por COVID-19\n",
       "O post USP: terapia celular pode reduzir mortes por Covid-19 apareceu primeiro em Olhar Digital.</td><td>https://olhardigital.com.br/2023/09/19/medicina-e-saude/usp-terapia-celular-pode-reduzir-mortes-por-covid-19/</td><td>https://proxy.olhardigital.com.br/wp-content/uploads/2023/09/terapia-celular.png</td><td>2023-09-19T21:03:20Z</td><td>A terapia celular, bastante utilizada em tratamentos contra o cÃ¢ncer, tem grande potencial contra a Covid-19. Ã o que aponta a revisÃ£o sistemÃ¡tica e meta-anÃ¡lise realizada por pesquisadores da U… [+4229 chars]</td></tr><tr><td>List(null, Terra.com.br)</td><td>Porto Alegre 24 horas</td><td>HCPA busca voluntários para estudo clínico que avalia medicamento experimental para o COVID-19</td><td>Hospital de Clínicas está com inscrições abertas para adultos acima de 18 (dezoito) anos portadores de doenças crônicas como, por exemplo, diabetes, obesidade, hipertensão ou doenças cardiovasculares, que testaram positivo para COVID-19 nos últimos três dias …</td><td>https://www.terra.com.br/noticias/hcpa-busca-voluntarios-para-estudo-clinico-que-avalia-medicamento-experimental-para-o-covid-19,6ce0dbd8c3d6c7770745a34adf194601wibvrrif.html</td><td>https://p2.trrsf.com/image/fget/cf/1200/630/middle/images.terra.com/2023/09/20/717673475-fachada2-1536x1021-1.jpg</td><td>2023-09-20T15:41:12Z</td><td>O Hospital de Clínicas de Porto Alegre ainda está com vagas abertas para voluntários que queiram colaborar com o SCORPIO-HR, um estudo clínico global de Fase 3 com pacientes não hospitalizados e sint… [+3502 chars]</td></tr><tr><td>List(null, [Removed])</td><td>null</td><td>[Removed]</td><td>[Removed]</td><td>https://removed.com</td><td>null</td><td>1970-01-01T00:00:00Z</td><td>[Removed]</td></tr><tr><td>List(null, [Removed])</td><td>null</td><td>[Removed]</td><td>[Removed]</td><td>https://removed.com</td><td>null</td><td>1970-01-01T00:00:00Z</td><td>[Removed]</td></tr><tr><td>List(null, Olhardigital.com.br)</td><td>Alessandro Di Lorenzo</td><td>Novo vírus é descoberto nas profundezas da Fossa das Marianas</td><td>Bacteriófago, um tipo de vírus que infecta e se replica dentro de bactérias, foi localizado a uma profundidade de 8.900 metros\n",
       "O post Novo vírus é descoberto nas profundezas da Fossa das Marianas apareceu primeiro em Olhar Digital.</td><td>https://olhardigital.com.br/2023/09/21/ciencia-e-espaco/novo-virus-e-descoberto-nas-profundezas-da-fossa-das-marianas/</td><td>https://proxy.olhardigital.com.br/wp-content/uploads/2023/09/Fossa-das-marianas-1.jpg</td><td>2023-09-21T20:26:34Z</td><td>Segundo dados da AdministraÃ§Ã£o Nacional OceÃ¢nica e AtmosfÃ©rica dos Estados Unidos,apenas cerca de 20% do fundo do mar foi mapeado atÃ© hoje. Uma descoberta de uma equipe internacional de pesquisa… [+2809 chars]</td></tr><tr><td>List(null, Jovemnerd.com.br)</td><td>Pedro Siqueira</td><td>Netflix põe camisinha em monumento para divulgação dura de Sex Education</td><td>Streaming elevou o marketing a um novo nível para a temporada final da série\n",
       "The post Netflix põe camisinha em monumento para divulgação dura de Sex Education appeared first on Jovem Nerd.</td><td>https://jovemnerd.com.br/nerdbunker/netflix-camisinha-gigante-sex-education/</td><td>https://uploads.jovemnerd.com.br/wp-content/uploads/2023/09/netflix_sex_education_obelisco__25030n3ow.jpg</td><td>2023-09-23T15:07:35Z</td><td>A divulgação da temporada final de Sex Education está duríssima. Tanto que a Netflix colocou uma CAMISINHA GIGANTE no Obelisco, um dos maiores monumentos da Argentina, num vídeo promocional que vem c… [+897 chars]</td></tr><tr><td>List(null, Abril.com.br)</td><td>Paula Felix</td><td>Injeção semanal para deficiência de hormônio do crescimento é liberada</td><td>Medicação para crianças e adultos reduz em 85% o número de aplicações por ano; preço não foi definido e lançamento no Brasil ainda será anunciado</td><td>https://veja.abril.com.br/saude/injecao-semanal-para-deficiencia-de-hormonio-do-crescimento-e-liberada</td><td>https://veja.abril.com.br/wp-content/uploads/2016/05/alx_465382081_original1.jpeg?quality=90&strip=info&w=680&h=453&crop=1</td><td>2023-09-25T21:40:54Z</td><td>Uma nova opção de tratamento para crianças e adultos com deficiência do hormônio do crescimento (GH) com aplicação subcutânea semanal, por meio de uma “caneta”, foi liberada no Brasil nesta segunda-f… [+2629 chars]</td></tr><tr><td>List(null, Terra.com.br)</td><td>Sport Life</td><td>Abacate emagrece? Descubra 14 benefícios secretos da fruta</td><td>Abacate emagrece ou engorda? Essa dúvida é comum em pessoas que são fãs do sabor da fruta. Por ...</td><td>https://www.terra.com.br/vida-e-estilo/abacate-emagrece-descubra-14-beneficios-secretos-da-fruta,1079792ed39d3e3303fdd4fd29d5b3d3tj80nanf.html</td><td>https://p2.trrsf.com/image/fget/cf/1200/630/middle/images.terra.com/2023/09/07/392743629-shutterstock785296315-1.jpg</td><td>2023-09-07T19:02:17Z</td><td>Abacate emagrece ou engorda? Essa dúvida é comum em pessoas que são fãs do sabor da fruta. Por ser um alimento natural, muitos acreditam que o abacate ajuda a emagrecer. Por outro lado, os altos níve… [+4997 chars]</td></tr><tr><td>List(null, [Removed])</td><td>null</td><td>[Removed]</td><td>[Removed]</td><td>https://removed.com</td><td>null</td><td>1970-01-01T00:00:00Z</td><td>[Removed]</td></tr><tr><td>List(null, Uol.com.br)</td><td>null</td><td>null</td><td>A molécula sintetiza o conjunto de proteínas que um organismo necessita para viver</td><td>https://www1.folha.uol.com.br/ciencia/2023/09/rna-de-tigre-da-tasmania-extinto-e-recuperado-pela-primeira-vez.shtml</td><td>https://f.i.uol.com.br/fotografia/2023/09/19/1695178196650a5dd469a9a_1695178196_3x2_rt.jpg</td><td>2023-09-20T10:50:04Z</td><td>O tigre-da-tasmânia, um marsupial carnívoro listrado do tamanho de um cachorro, também chamado de tilacino, era um predador de ponta que caçava cangurus e outras presas e já vagou pelo território con… [+2149 chars]</td></tr><tr><td>List(null, Catracalivre.com.br)</td><td>Redação</td><td>Saiba quais atividades físicas reduzem risco de 9 tipos de câncer</td><td>A aptidão cardiorrespiratória, responsável pela capacidade de executar atividades físicas aeróbicos prolongados, pode ser a chave para a prevenção de</td><td>https://catracalivre.com.br/saude-bem-estar/saiba-quais-atividades-fisicas-reduzem-risco-de-9-tipos-de-cancer/</td><td>https://catracalivre.com.br/cdn-cgi/image/f=auto,q=60,w=1200,h=638,fit=cover,format=jpeg/wp-content/uploads/2023/08/istock-1168199832.jpg</td><td>2023-09-11T02:30:05Z</td><td>A aptidão cardiorrespiratória, responsável pela capacidade de executar atividades físicas aeróbicos prolongados, pode ser a chave para a prevenção de diversos tipos de câncer. Um estudo recente, publ… [+2947 chars]</td></tr><tr><td>List(null, [Removed])</td><td>null</td><td>[Removed]</td><td>[Removed]</td><td>https://removed.com</td><td>null</td><td>1970-01-01T00:00:00Z</td><td>[Removed]</td></tr><tr><td>List(null, Uol.com.br)</td><td>null</td><td>null</td><td>Cálculo biliar bovino, chamado de pedra de fel, é usado na medicina oriental para tratar doenças respiratórias</td><td>https://www1.folha.uol.com.br/mercado/2023/09/criminosos-roubam-r-2-milhoes-em-pedras-de-boi-no-interior-de-sp.shtml</td><td>https://f.i.uol.com.br/fotografia/2023/09/21/1695325609650c9da9b56df_1695325609_3x2_lg.jpg</td><td>2023-09-22T00:51:36Z</td><td>Três homensassaltaram uma empresa de exportação no interior de São Paulo e levaram 2,7 quilos de cálculo biliar bovino, também conhecido como pedra de fel, avaliado em R$ 2 milhões, segundo a Delegac… [+1877 chars]</td></tr><tr><td>List(null, Observador.pt)</td><td>Agência Lusa</td><td>Idosos vítimas de maus tratos apresentam mais doença física e mental</td><td>Dados \"assustadores\" de um estudo português revelam que os idosos que sofrem violência intra-familiar ou de cuidadores \"são muito mais doentes, têm muitas mais patologias do que a restante população\".</td><td>https://observador.pt/2023/09/29/idosos-vitimas-de-maus-tratos-apresentam-mais-doenca-fisica-e-mental/</td><td>https://wm.observador.pt/wm/obs/l/https%3A%2F%2Fbordalo.observador.pt%2Fv2%2Frs%3Afill%3A770%3A403%2Fc%3A2121%3A1192%3Anowe%3A0%3A111%2Fq%3A85%2Fplain%2Fhttps%3A%2F%2Fs3.observador.pt%2Fwp-content%2Fuploads%2F2022%2F02%2F09214115%2FGettyImages-1290458362.jpg</td><td>2023-09-29T09:52:20Z</td><td>Um estudo da Faculdade de Medicina da Universidade do Porto (FMUP) revelou que os idosos vítimas de maus tratos apresentam mais doença física e mental, algo “assustador” que para os investigadores de… [+3910 chars]</td></tr><tr><td>List(null, Tecmundo.com.br)</td><td>Fabio Dominski</td><td>Atividade física no trabalho faz bem?</td><td>Este texto foi escrito por um colunista do TecMundo; saiba mais no final.\"Eu me movimento bastante no trabalho, não preciso de exercícios”, já ouviu alguém falar isso? Essa pessoa provavelmente tem uma alta demanda energética em seu trabalho e acredita que is…</td><td>https://www.tecmundo.com.br/ciencia/271824-atividade-fisica-trabalho.htm</td><td>https://tm.ibxk.com.br/2023/09/20/20121343539166.jpg</td><td>2023-09-20T17:00:00Z</td><td>Este texto foi escrito por um colunista do TecMundo; saiba mais no final.\r\n",
       "\"Eu me movimento bastante no trabalho, não preciso de exercícios, já ouviu alguém falar isso? Essa pessoa provavelmente tem … [+5260 chars]</td></tr><tr><td>List(null, Tecmundo.com.br)</td><td>Jennifer Egues</td><td>SUS Digital: uso inteligência artificial pode melhorar a saúde pública?</td><td>O Ministério da Saúde estuda implementar ferramentas de Inteligência Artificial (IA) no Sistema Único de Saúde, objetivando melhorar o atendimento, agilizando processos e estendo atendimento a regiões de difícil acesso físico.Para a pasta, a implementação da …</td><td>https://www.tecmundo.com.br/ciencia/267730-sus-digital-uso-inteligencia-artificial-melhorar-saude-publica.htm</td><td>https://tm.ibxk.com.br/2023/08/18/18144410198207.jpg</td><td>2023-09-04T14:30:01Z</td><td>O Ministério da Saúde estuda implementar ferramentas de Inteligência Artificial (IA) no Sistema Único de Saúde, objetivando melhorar o atendimento, agilizando processos e estendo atendimento a regiõe… [+5930 chars]</td></tr><tr><td>List(null, Sapo.pt)</td><td>Ana Sofia Neto</td><td>Afinal, o açúcar prejudica ou não a saúde?</td><td>O açúcar está em tantos alimentos que, certamente, surpreender-se-ia com alguns deles. Mas, assim sendo, será assim tão prejudicial? É um tema complexo, como muitos deles na nutrição, e parece ser pouco claro para...</td><td>https://pplware.sapo.pt/ciencia/afinal-o-acucar-prejudica-ou-nao-a-saude/</td><td>https://pplware.sapo.pt/wp-content/uploads/2023/09/bolo00.jpg</td><td>2023-09-15T20:00:17Z</td><td>O açúcar está em tantos alimentos que, certamente, surpreender-se-ia com alguns deles. Mas, assim sendo, será assim tão prejudicial?\r\n",
       "É um tema complexo, como muitos deles na nutrição, e parece ser p… [+3659 chars]</td></tr><tr><td>List(null, Observador.pt)</td><td>Inês André Figueiredo</td><td>Mosquito que transmite dengue e zika detetado em Lisboa pela primeira vez</td><td>DGS reforçou a vigilância entomológica e epidemiológica, mas garantiu que não foram identificados nestes mosquitos quaisquer agentes de doenças que possam ser transmitidas às pessoas.</td><td>https://observador.pt/2023/09/27/mosquito-que-transmite-dengue-e-zika-detetado-em-lisboa-pela-primeira-vez/</td><td>https://wm.observador.pt/wm/obs/l/https%3A%2F%2Fbordalo.observador.pt%2Fv2%2Frs%3Afill%3A770%3A403%2Fc%3A1998%3A1126%3Anowe%3A0%3A100%2Fq%3A85%2Fplain%2Fhttps%3A%2F%2Fs3.observador.pt%2Fwp-content%2Fuploads%2F2019%2F04%2F15200407%2F20319704.jpg</td><td>2023-09-27T16:25:37Z</td><td>A Direção-Geral de Saúde (DGS) revelou que a espécie de mosquitos Aedes albopictus foi identificada pela primeira vez em Lisboa e alertou que este mosquito pode transmitir doenças como chikungunya, d… [+1110 chars]</td></tr><tr><td>List(null, Observador.pt)</td><td>Observador</td><td>Descoberta nova célula no cérebro que pode ajudar a estudar o Alzheimer</td><td>Novo estudo revela a existência de uma nova célula, que pode ajudar a explicar o desenvolvimento de doenças neurodegenerativas e a localizar \"potenciais alvos terapêuticos\".</td><td>https://observador.pt/2023/09/06/descoberta-nova-celula-no-cerebro-que-pode-ajudar-a-estudar-o-alzheimer/</td><td>https://wm.observador.pt/wm/obs/l/https%3A%2F%2Fbordalo.observador.pt%2Fv2%2Frs%3Afill%3A770%3A403%2Fc%3A3543%3A1993%3Anowe%3A0%3A131%2Fq%3A85%2Fplain%2Fhttps%3A%2F%2Fs3.observador.pt%2Fwp-content%2Fuploads%2F2023%2F09%2F06184926%2Fgettyimages-1487034049.jpg</td><td>2023-09-06T18:08:06Z</td><td>A cada três segundos, há uma pessoa no mundo a desenvolver demência. Em 2020, os dados recolhidos pelo Alzheimer’s Disease International (ADI) mostravam que havia mais de 55 milhões de pessoas a vive… [+2235 chars]</td></tr><tr><td>List(null, Observador.pt)</td><td>Carolina Sobral</td><td>Cientistas criam modelo de embrião sem espermatozoide, óvulo ou útero. É o primeiro que imita em completo um embrião humano</td><td>Modelo foi desenvolvido a partir de células estaminais que se organizaram em estruturas que imitam a organização 3D de um embrião real com 14 dias. O modelo deu positivo num teste de gravidez.</td><td>https://observador.pt/2023/09/06/cientistas-criam-modelo-de-embriao-sem-espermatozoide-ovulo-ou-utero-e-o-primeiro-que-imita-em-completo-um-embriao-humano/</td><td>https://wm.observador.pt/wm/obs/l/https%3A%2F%2Fbordalo.observador.pt%2Fv2%2Frs%3Afill%3A770%3A403%2Fc%3A2000%3A1124%3Anowe%3A0%3A104%2Fq%3A85%2Fplain%2Fhttps%3A%2F%2Fs3.observador.pt%2Fwp-content%2Fuploads%2F2019%2F02%2F28085820%2Fistock-904268950.jpg</td><td>2023-09-06T16:31:46Z</td><td>Sem recurso a espermatozoide, óvulos ou um útero, cientistas criaram pela primeira vez um modelo de embriões humanos que imita de forma completa todas as características conhecidas num embrião real. … [+1946 chars]</td></tr><tr><td>List(null, Observador.pt)</td><td>Sofia Teixeira</td><td>Que ondas cerebrais são estas?</td><td>O cérebro emite misteriosos padrões de atividade que estão alterados em doentes  com doenças neurológicas ou psiquiátricas. Na Universidade do Minho, Joana Cabral tenta conhecer melhor estes sinais.</td><td>https://observador.pt/2023/09/25/que-ondas-cerebrais-sao-estas/</td><td>https://wm.observador.pt/wm/obs/l/https%3A%2F%2Fbordalo.observador.pt%2Fv2%2Frs%3Afill%3A770%3A403%2Fc%3A3200%3A1796%3Anowe%3A0%3A340%2Fq%3A85%2Fplain%2Fhttps%3A%2F%2Fs3.observador.pt%2Fwp-content%2Fuploads%2F2023%2F09%2F25012852%2F0-20230807-goncalo-villaverde-0205.jpg</td><td>2023-09-25T13:49:21Z</td><td>Uma iniciativa\r\n",
       "Há momentos em que o cérebro de Joana Cabral parece um carro de Fórmula Um: é muito difícil de acompanhar quando acelera a fundo. Salta de raciocínio em raciocínio, estabelece pontes … [+12097 chars]</td></tr><tr><td>List(null, Terra.com.br)</td><td>Elas no Tapete Vermelho</td><td>VMA 2023: Anitta repete grife de 2022 e elege look Schiaparelli</td><td>A Schiaparelli tem em seu DNA o surrealismo. Fato esse que agrada em cheio famosas, como Anitta, ...</td><td>https://www.terra.com.br/vida-e-estilo/autocuidado/moda/vma-2023-anitta-repete-grife-de-2022-e-elege-look-schiaparelli,fee499f8c205c826421124c9561fae83mmokijah.html</td><td>https://p2.trrsf.com/image/fget/cf/1200/630/middle/images.terra.com/2023/09/12/1728798519-37802777434786638823962214802485532612152661n-e1694562071640.jpg</td><td>2023-09-12T23:48:05Z</td><td>A Schiaparelli tem em seu DNA o surrealismo. Fato esse que agrada em cheio famosas, como Anitta, que pelo segundo ano consecutivo elegeu a grife francesa para cruzar o tapete vermelho do VMA (Video M… [+1146 chars]</td></tr><tr><td>List(null, Pragmatismopolitico.com.br)</td><td>Redação</td><td>Benefícios das substâncias encontradas no vinho: uma análise científica</td><td>É importante ter cuidado ao consumi-lo e sempre respeitar as contraindicações e limites recomendados. É possível encontrar de forma acessível bons vinhos no mercado, mas é fundamental ter consciência dos riscos e sempre consumir com moderação\n",
       "O post Benefício…</td><td>https://www.pragmatismopolitico.com.br/2023/10/beneficios-substancias-encontradas-vinho-analise-cientifica.html</td><td>https://www.pragmatismopolitico.com.br/wp-content/uploads/2023/10/beneficios-substancias-encontradas-vinho-analise-cientifica.jpg</td><td>2023-10-02T11:30:18Z</td><td>É importante ter cuidado ao consumi-lo e sempre respeitar as contraindicações e limites recomendados. É possível encontrar de forma acessível bons vinhos no mercado, mas é fundamental ter consciência… [+22678 chars]</td></tr><tr><td>List(null, Olhardigital.com.br)</td><td>Lucas Gabriel Machado Henriques</td><td>Como a inteligência artificial pode ajudar na saúde mental</td><td>Entenda como a inteligência artificial pode ser usada para auxiliar no combate aos transtornos psicológicos e ajudar na saúde mental\n",
       "O post Como a inteligência artificial pode ajudar na saúde mental apareceu primeiro em Olhar Digital.</td><td>https://olhardigital.com.br/2023/09/11/medicina-e-saude/como-a-inteligencia-artificial-pode-ajudar-na-saude-mental/</td><td>https://img.olhardigital.com.br/wp-content/uploads/2023/09/capa-1.jpg</td><td>2023-09-11T15:33:19Z</td><td>Com a crescente utilizaÃ§Ã£o da inteligÃªncia artificial em diversos setores da indÃºstria e da sociedade, muitas tÃ©cnicas que usam essa tecnologia surgiram para melhorar o dia a dia das pessoas, au… [+2927 chars]</td></tr><tr><td>List(null, Olhardigital.com.br)</td><td>Alessandro Di Lorenzo</td><td>EUA: vacina experimental contra HIV será testada em humanos</td><td>No total, 95 participantes serão divididos em grupos, com três deles recebendo dosagens diferentes da vacina contra o HIV\n",
       "O post EUA: vacina experimental contra HIV será testada em humanos apareceu primeiro em Olhar Digital.</td><td>https://olhardigital.com.br/2023/09/22/medicina-e-saude/eua-vacina-experimental-contra-hiv-sera-testada-em-humanos/</td><td>https://proxy.olhardigital.com.br/wp-content/uploads/2022/03/HIV-capa.jpg</td><td>2023-09-22T14:46:06Z</td><td>A empresa Vir Biotechnology anunciou o inÃ­cio dos testes em humanos de uma vacina experimental contra o HIV. A companhia norte-americana disse que espera ter os dados iniciais dos trabalhos de fase … [+2542 chars]</td></tr><tr><td>List(null, Olhardigital.com.br)</td><td>Pedro Borges Spadoni</td><td>Imunologista vence prêmio de inovação por tratamento contra câncer</td><td>O imunologista Michel Sadelain levou o prêmio Breakthrough por seu trabalho pioneiro na terapia com células CAR-T para câncer\n",
       "O post Imunologista vence prêmio de inovação por tratamento contra câncer apareceu primeiro em Olhar Digital.</td><td>https://olhardigital.com.br/2023/09/14/medicina-e-saude/imunologista-vence-premio-de-inovacao-por-tratamento-contra-cancer/</td><td>https://img.olhardigital.com.br/wp-content/uploads/2023/09/Destaque-Michel-Sadelain-imunologista-cancer.jpg</td><td>2023-09-15T01:08:01Z</td><td>O imunologista francÃªs-canadense Michel Sadelain venceu o prestigiado prÃªmio Breakthrough nesta quinta-feira (14) por seu trabalho pioneiro na terapia com cÃ©lulas CAR-T â uma nova forma de trata… [+3677 chars]</td></tr><tr><td>List(null, Olhardigital.com.br)</td><td>Lucas Soares</td><td>Alienígenas do México são reais? Entenda a polêmica</td><td>Nesta quarta-feira (13) o mundo a ufologia foi surpreendido com uma apresentação no congresso mexicano onde um ufólogo mostrou supostos cadáveres de alienígenas. Pelo histórico polêmico do pesquisador, a notícia já foi encarada com ceticismo. De acordo com o …</td><td>https://olhardigital.com.br/2023/09/14/ciencia-e-espaco/alienigenas-do-mexico-sao-reais-entenda-a-polemica/</td><td>https://img.olhardigital.com.br/wp-content/uploads/2023/09/alienigenas-mexico.jpg</td><td>2023-09-14T16:03:07Z</td><td>Nesta quarta-feira (13) o mundo a ufologia foi surpreendido com uma apresentaÃ§Ã£o no congresso mexicano onde um ufÃ³logo mostrou supostos cadÃ¡veres de alienÃ­genas. Pelo histÃ³rico polÃªmico do pes… [+2991 chars]</td></tr><tr><td>List(null, Olhardigital.com.br)</td><td>Mateus Dias</td><td>Ufólogo de supostos aliens do México já foi desmascarado outras vezes</td><td>Jaime Maussan apresentou no México restos mortais de alienígenas, no entanto, toda essa historia pode ser mentira\n",
       "O post Ufólogo de supostos aliens do México já foi desmascarado outras vezes apareceu primeiro em Olhar Digital.</td><td>https://olhardigital.com.br/2023/09/14/ciencia-e-espaco/ufologo-de-supostos-aliens-do-mexico-ja-foi-desmascarado-outras-vezes/</td><td>https://img.olhardigital.com.br/wp-content/uploads/2023/09/Jaime-Maussan.jpg</td><td>2023-09-14T20:07:00Z</td><td>Na terÃ§a-feira (12), o ufÃ³logo e jornalista Jaime Maussan apresentou ao Congresso do MÃ©xico os restos mortais de dois supostos alienÃ­genas. A demonstraÃ§Ã£o dos espÃ©cimes aconteceu durante uma a… [+2753 chars]</td></tr></tbody></table></div>"
      ]
     },
     "metadata": {
      "application/vnd.databricks.v1+output": {
       "addedWidgets": {},
       "aggData": [],
       "aggError": "",
       "aggOverflow": false,
       "aggSchema": [],
       "aggSeriesLimitReached": false,
       "aggType": "",
       "arguments": {},
       "columnCustomDisplayInfos": {},
       "data": [
        [
         [
          null,
          "Tecmundo.com.br"
         ],
         "Jorge Marin",
         "Google DeepMind: nova ferramenta de IA prevê doenças genéticas",
         "Um novo programa de inteligência artificial desenvolvido por cientistas do Google DeepMind é capaz de prever se milhões de mutações genéticas presentes em nossa sequência de DNA que são inofensivas ou propensas a causar doenças no futuro. Batizada como AlphaM…",
         "https://www.tecmundo.com.br/ciencia/271822-google-deepmind-nova-ferramenta-ia-preve-doencas-geneticas.htm",
         "https://tm.ibxk.com.br/2023/09/20/20120248396161.jpg",
         "2023-09-20T15:15:00Z",
         "Um novo programa de inteligência artificial desenvolvido por cientistas do Google DeepMind é capaz de prever se milhões de mutações genéticas presentes em nossa sequência de DNA que são inofensivas o… [+2940 chars]"
        ],
        [
         [
          null,
          "Olhardigital.com.br"
         ],
         "Alessandro Di Lorenzo",
         "Estudo descobre novas características genéticas do Alzheimer",
         "A descoberta, segundo os pesquisadores, pode contribuir para o desenvolvimento futuro de exames de sangue para a doença de Alzheimer\nO post Estudo descobre novas características genéticas do Alzheimer apareceu primeiro em Olhar Digital.",
         "https://olhardigital.com.br/2023/09/07/medicina-e-saude/estudo-descobre-novas-caracteristicas-geneticas-do-alzheimer/",
         "https://img.olhardigital.com.br/wp-content/uploads/2023/05/Alzheimer.jpg",
         "2023-09-07T10:01:00Z",
         "Pesquisadores da Universidade de Pittsburgh, nos Estados Unidos, analisaram milhares de genomas humanos para encontrar novas variaÃ§Ãµes genÃ©ticas responsÃ¡veis por controlar os nÃ­veis de molÃ©cula… [+2542 chars]"
        ],
        [
         [
          null,
          "Sapo.pt"
         ],
         "Ana Sofia Neto",
         "Cérebro artificial ajuda a perceber as origens genéticas do autismo",
         "Uma nova técnica científica está a revelar as origens genéticas da perturbação do espetro do autismo (ou PEA) escondidas no nosso cérebro. O cérebro é curiosamente complexo e há muito sobre ele que ainda...",
         "https://pplware.sapo.pt/ciencia/cerebro-artificial-ajuda-a-perceber-as-origens-geneticas-do-autismo/",
         "https://pplware.sapo.pt/wp-content/uploads/2023/09/organoide_cerebral00.jpg",
         "2023-09-24T13:00:25Z",
         "Uma nova técnica científica está a revelar as origens genéticas da perturbação do espetro do autismo (ou PEA) escondidas no nosso cérebro.\r\nO cérebro é curiosamente complexo e há muito sobre ele que … [+3282 chars]"
        ],
        [
         [
          null,
          "Tecmundo.com.br"
         ],
         "Jorge Marin",
         "Miniórgãos descobertos em mamíferos podem gerar respostas autoimunes",
         "Pesquisadores do Instituto Federal Suíço de Tecnologia de Zurique descobriram recentemente um tipo de organela que havia permanecido não caracterizada até agora nas células dos mamíferos. O “miniórgão”, batizado como exclusoma, é feito de anéis de DNA chamado…",
         "https://www.tecmundo.com.br/ciencia/272244-miniorgaos-descobertos-mamiferos-gerar-respostas-autoimunes.htm",
         "https://tm.ibxk.com.br/2023/10/02/02154244691267.jpg",
         "2023-10-02T20:30:04Z",
         "Pesquisadores do Instituto Federal Suíço de Tecnologia de Zurique descobriram recentemente um tipo de organela que havia permanecido não caracterizada até agora nas células dos mamíferos. O miniórgão… [+3134 chars]"
        ],
        [
         [
          null,
          "Olhardigital.com.br"
         ],
         "Vitoria Lopes Gomez",
         "Vacinas erradicaram doenças que, antes, matavam mais que guerras",
         "Doenças como a poliomielite e a varíola, que mataram milhões no século passado, desapareceram graças às vacinas\nO post Vacinas erradicaram doenças que, antes, matavam mais que guerras apareceu primeiro em Olhar Digital.",
         "https://olhardigital.com.br/2023/09/08/medicina-e-saude/vacinas-erradicaram-doencas-que-antes-matavam-mais-que-guerras/",
         "https://img.olhardigital.com.br/wp-content/uploads/2023/07/vacina-e1692890816557.jpg",
         "2023-09-08T20:30:20Z",
         "NÃ£o Ã© incomum ouvir falar sobre a gravidade de doenÃ§as que hoje sequer nos lembramos. Ã o caso, por exemplo, da varÃ­ola e da poliomielite. Ambas mataram milhÃµes de pessoas no sÃ©culo passado, m… [+2308 chars]"
        ],
        [
         [
          null,
          "Olhardigital.com.br"
         ],
         "Alessandro Di Lorenzo",
         "IA brasileira é capaz de prever doenças com antecedência",
         "A IA Dara pode coletar dados e realizar uma rápida varredura em todo o histórico médico do paciente, indicando riscos de saúde\nO post IA brasileira é capaz de prever doenças com antecedência apareceu primeiro em Olhar Digital.",
         "https://olhardigital.com.br/2023/09/29/medicina-e-saude/ia-brasileira-e-capaz-de-prever-doencas-com-antecedencia/",
         "https://proxy.olhardigital.com.br/wp-content/uploads/2023/09/iStock-1411998514.jpg",
         "2023-09-29T21:04:45Z",
         "Uma inteligÃªncia artificial desenvolvida por uma empresa brasileira pode ajudar a prevenir doenÃ§as como acidente vascular cerebral (AVC), infarto e diabetes, por exemplo. A Dara foi criada pela IPM… [+1959 chars]"
        ],
        [
         [
          null,
          "Sapo.pt"
         ],
         "Rui Jorge",
         "Cientistas adaptam a Realidade Virtual para utilização em consultas remotas",
         "Os investigadores da Universidade de Canterbury criaram um headset de realidade virtual (RV) que poderá ser utilizado pelos médicos para realizar avaliações médicas de pacientes que vivem em zonas rurais, têm doenças infeciosas ou...",
         "https://pplware.sapo.pt/high-tech/cientistas-adaptam-a-realidade-virtual-para-utilizacao-em-consultas-remotas/",
         "https://pplware.sapo.pt/wp-content/uploads/2023/09/rv_medicina.jpg",
         "2023-09-20T14:00:25Z",
         "Os investigadores da Universidade de Canterbury criaram um headset de realidade virtual (RV) que poderá ser utilizado pelos médicos para realizar avaliações médicas de pacientes que vivem em zonas ru… [+3368 chars]"
        ],
        [
         [
          null,
          "Olhardigital.com.br"
         ],
         "Flavia Correia",
         "Bichos-da-seda transgênicos criam fibras mais resistentes do que tecido à prova de bala",
         "Usando engenharia genética, cientistas inseriram genes de aranha em bichos-da-seda para produção de tecidos mais resistentes do que Kevlar\nO post Bichos-da-seda transgênicos criam fibras mais resistentes do que tecido à prova de bala apareceu primeiro em Olha…",
         "https://olhardigital.com.br/2023/09/26/ciencia-e-espaco/bichos-da-seda-transgenicos-criam-fibras-mais-resistentes-do-que-tecido-a-prova-de-bala/",
         "https://proxy.olhardigital.com.br/wp-content/uploads/2023/09/bicho-da-seda.jpg",
         "2023-09-26T19:18:52Z",
         "Cientistas utilizaram engenharia genÃ©tica para gerar bichos-da-seda capazes de produzir fibras mais resistentes do que o Kevlar, tambÃ©m chamado de poliaramida â material usado em coletes Ã  prova… [+3623 chars]"
        ],
        [
         [
          null,
          "Olhardigital.com.br"
         ],
         "Alessandro Di Lorenzo",
         "Estudo indica onde fica o lar original da humanidade",
         "Pesquisadores criaram uma rede de quase 27 milhões de ancestrais, desenvolvendo uma gigantesca árvore genealógica da humanidade\nO post Estudo indica onde fica o lar original da humanidade apareceu primeiro em Olhar Digital.",
         "https://olhardigital.com.br/2023/09/14/ciencia-e-espaco/estudo-indica-onde-fica-o-lar-original-da-humanidade/",
         "https://img.olhardigital.com.br/wp-content/uploads/2022/03/deserto.jpg",
         "2023-09-14T20:40:37Z",
         "A histÃ³ria da humanidade Ã© marcada pelas migraÃ§Ãµes. Por milhares de anos, nossa espÃ©cie se deslocou pela Terra em busca de Ã¡gua, alimentos e tudo o que proporciona uma vida melhor. Mas existe u… [+2407 chars]"
        ],
        [
         [
          null,
          "Olhardigital.com.br"
         ],
         "Alessandro Di Lorenzo",
         "Segundo transplante com coração de porco para humano é feito com sucesso",
         "O coração de porco transplantado tem 10 modificações genéticas para reduzir o risco de ser recusado pelo corpo do paciente\nO post Segundo transplante com coração de porco para humano é feito com sucesso apareceu primeiro em Olhar Digital.",
         "https://olhardigital.com.br/2023/09/22/medicina-e-saude/segundo-transplante-com-coracao-de-porco-para-humano-e-feito-com-sucesso/",
         "https://proxy.olhardigital.com.br/wp-content/uploads/2023/09/Transplante-1.jpg",
         "2023-09-22T19:33:57Z",
         "Pela segunda vez na histÃ³ria, cirurgiÃµes transplantaram o coraÃ§Ã£o de um porco em um homem na tentativa de prolongar sua vida. A operaÃ§Ã£o foi um sucesso e, dois dias depois, o paciente estava fa… [+2546 chars]"
        ],
        [
         [
          null,
          "Olhardigital.com.br"
         ],
         "Mateus Dias",
         "Cientistas encontram povo na África que acreditavam ter sumido",
         "Apesar da língua da população estar deixando de existir, suas distinções genéticas continuam presente nos descendentes\nO post Cientistas encontram povo na África que acreditavam ter sumido apareceu primeiro em Olhar Digital.",
         "https://olhardigital.com.br/2023/09/27/ciencia-e-espaco/cientistas-encontram-povo-na-africa-que-acreditavam-ter-sumido/",
         "https://olhardigital.com.br/wp-content/uploads/2023/09/ultimos-faantes-do-Kwadi.webp",
         "2023-09-27T19:34:40Z",
         "A Ãfrica Austral abriga uma regiÃ£o conhecida como berÃ§o da humanidade, local onde os primeiros hominÃ­deos surgiram. Por causa disso, Ã© possÃ­vel encontrar a maior diversidade genÃ©tica humana po… [+2079 chars]"
        ],
        [
         [
          null,
          "[Removed]"
         ],
         null,
         "[Removed]",
         "[Removed]",
         "https://removed.com",
         null,
         "1970-01-01T00:00:00Z",
         "[Removed]"
        ],
        [
         [
          null,
          "Tecmundo.com.br"
         ],
         "Jennifer Egues",
         "Dara, a IA capaz de prever infartos e AVCs com dados do SUS",
         "Nova inteligência artificial, desenvolvida pela empresa IPM Sistemas, uma GovTech brasileira, pode ser utilizada no serviço público de saúde, otimizando dados e gerando sinais de alerta para doenças como acidente vascular cerebral, infarto e previsões com até…",
         "https://www.tecmundo.com.br/ciencia/272151-dara-ia-capaz-prever-infartos-avcs-dados-sus.htm",
         "https://tm.ibxk.com.br/2023/09/28/28172505232225.jpg",
         "2023-09-29T13:00:00Z",
         "Nova inteligência artificial, desenvolvida pela empresa IPM Sistemas, uma GovTech brasileira, pode ser utilizada no serviço público de saúde, otimizando dados e gerando sinais de alerta para doenças … [+2737 chars]"
        ],
        [
         [
          null,
          "Olhardigital.com.br"
         ],
         "Tamires Ferreira",
         "‘Vacina inversa’ pode ser a chave para tratar doenças autoimunes; entenda",
         "Ação do fármaco no sistema imunológico pode apagar a memória de ataque das moléculas\nO post ‘Vacina inversa’ pode ser a chave para tratar doenças autoimunes; entenda  apareceu primeiro em Olhar Digital.",
         "https://olhardigital.com.br/2023/09/13/medicina-e-saude/vacina-inversa-pode-ser-a-chave-para-tratar-doencas-autoimunes-entenda/",
         "https://img.olhardigital.com.br/wp-content/uploads/2023/09/doenca-autoimune.jpg",
         "2023-09-13T17:37:31Z",
         "Um novo tipo de vacina desenvolvida por pesquisadores da Escola Pritzker de Engenharia Molecular (PME)Â pode ser o novo tratamento mais promissor contra doenÃ§as autoimunes. Com uma proposta de aÃ§Ã£… [+2774 chars]"
        ],
        [
         [
          null,
          "Olhardigital.com.br"
         ],
         "Alessandro Di Lorenzo",
         "Google: pesquisadores fazem descoberta histórica sobre proteínas do corpo humano",
         "Foram catalogadas 71 milhões de mutações e um terço delas poderia causar doenças. Apenas 4 milhões já eram conhecidas pela ciência\nO post Google: pesquisadores fazem descoberta histórica sobre proteínas do corpo humano apareceu primeiro em Olhar Digital.",
         "https://olhardigital.com.br/2023/09/19/medicina-e-saude/google-pesquisadores-fazem-descoberta-historica-sobre-proteinas-do-corpo-humano/",
         "https://proxy.olhardigital.com.br/wp-content/uploads/2023/09/Proteina-1.jpg",
         "2023-09-19T19:46:08Z",
         "Pesquisadores doÂ Google DeepMind, empresa de inteligÃªncia artificial da Alphabet, catalogaram 71 milhÃµes de mutaÃ§Ãµes em proteÃ­nas do corpo humano. Ao classificÃ¡-las, eles descobriram que um te… [+3867 chars]"
        ],
        [
         [
          null,
          "[Removed]"
         ],
         null,
         "[Removed]",
         "[Removed]",
         "https://removed.com",
         null,
         "1970-01-01T00:00:00Z",
         "[Removed]"
        ],
        [
         [
          null,
          "[Removed]"
         ],
         null,
         "[Removed]",
         "[Removed]",
         "https://removed.com",
         null,
         "1970-01-01T00:00:00Z",
         "[Removed]"
        ],
        [
         [
          null,
          "Olhardigital.com.br"
         ],
         "Vitoria Lopes Gomez",
         "Estudo mostra que vape (com ou sem nicotina) paralisa células imunológicas",
         "Pesquisadores testaram e comprovaram que vapor do vape afeta o sistema imunológico, aumentando o risco de doenças respiratórias\nO post Estudo mostra que vape (com ou sem nicotina) paralisa células imunológicas apareceu primeiro em Olhar Digital.",
         "https://olhardigital.com.br/2023/09/11/medicina-e-saude/estudo-mostra-que-vape-com-ou-sem-nicotina-paralisa-celulas-imunologicas/",
         "https://img.olhardigital.com.br/wp-content/uploads/2023/09/vape-1.jpg",
         "2023-09-11T19:11:30Z",
         "O vape (ou cigarro eletrÃ´nico) ganhou terreno, especialmente entre os jovens. As fabricantes conseguiram popularizar o produto dizendo atÃ© que seria um âsubstitutoâ menos nocivo para quem queri… [+2051 chars]"
        ],
        [
         [
          null,
          "Olhardigital.com.br"
         ],
         "Vitoria Lopes Gomez",
         "Modelo matemático pode revolucionar tratamentos cardíacos",
         "Através do simulador, cientistas poderão entender o funcionamento das doenças cardíacas no coração e, assim, achar novas formas de tratá-las\nO post Modelo matemático pode revolucionar tratamentos cardíacos apareceu primeiro em Olhar Digital.",
         "https://olhardigital.com.br/2023/09/19/medicina-e-saude/modelo-matematico-pode-revolucionar-tratamentos-cardiacos/",
         "https://proxy.olhardigital.com.br/wp-content/uploads/2022/10/coracao-humano.jpg",
         "2023-09-19T07:55:00Z",
         "Um estudo feito por pesquisadores da ItÃ¡lia mostrou que a matemÃ¡tica pode salvar vidas â e prevenir infartos. Os cientistas criaram um modelo matemÃ¡tico computacional do coraÃ§Ã£o para simular o… [+1772 chars]"
        ],
        [
         [
          null,
          "Olhardigital.com.br"
         ],
         "Vitoria Lopes Gomez",
         "Fiocruz: Covid-19 avança no Sudeste e Centro-Oeste",
         "Alguns estados do Norte e Nordeste também tiveram alta nos casos de Covid-19 e de outras doenças respiratórias\nO post Fiocruz: Covid-19 avança no Sudeste e Centro-Oeste apareceu primeiro em Olhar Digital.",
         "https://olhardigital.com.br/2023/09/20/medicina-e-saude/fiocruz-covid-19-avanca-no-sudeste-e-centro-oeste/",
         "https://proxy.olhardigital.com.br/wp-content/uploads/2023/07/virus-covid-19.jpg",
         "2023-09-20T18:58:26Z",
         "A FundaÃ§Ã£o Oswaldo Cruz (Fiocruz) divulgou nesta quarta-feira (20) uma atualizaÃ§Ã£o do boletim InfoGripe, com dados de 10 a 16 de setembro. O novo relatÃ³rio mostra um aumento de casos de Covid-19… [+2167 chars]"
        ],
        [
         [
          null,
          "Olhardigital.com.br"
         ],
         "Alessandro Di Lorenzo",
         "Novo remédio imita prática de atividade física e pode reduzir peso",
         "O remédio ainda está sendo testado em ratos, mas apresenta potencial para para tratar doenças como obesidade, diabetes e perda muscular\nO post Novo remédio imita prática de atividade física e pode reduzir peso apareceu primeiro em Olhar Digital.",
         "https://olhardigital.com.br/2023/09/26/medicina-e-saude/novo-remedio-imita-pratica-de-atividade-fisica-e-pode-reduzir-peso/",
         "https://proxy.olhardigital.com.br/wp-content/uploads/2023/09/OBESIDADE-1.jpg",
         "2023-09-26T19:35:21Z",
         "JÃ¡ imaginou tomar um remÃ©dio que garante os mesmos benefÃ­cios que a atividade fÃ­sica? Talvez isso nunca seja totalmente possÃ­vel, mas testes em ratos de um novo tipo de droga tÃªm se mostrado pr… [+3292 chars]"
        ],
        [
         [
          null,
          "Olhardigital.com.br"
         ],
         "Alisson Santos",
         "Autoridades de saúde dos EUA sugerem antibiótico para combater DSTs",
         "Segundo autoridades, o medicamento deve servir como “pílula do dia seguinte” contra as doenças\nO post Autoridades de saúde dos EUA sugerem antibiótico para combater DSTs apareceu primeiro em Olhar Digital.",
         "https://olhardigital.com.br/2023/10/03/medicina-e-saude/autoridades-de-saude-dos-eua-sugerem-antibiotico-para-combater-dsts/",
         "https://proxy.olhardigital.com.br/wp-content/uploads/2023/09/Novos-antibioticos-1.jpg",
         "2023-10-03T09:40:00Z",
         "Autoridades de saÃºde dos Estados Unidos estÃ£o planejando apoiar o uso de antibiÃ³tico barato no combate as doenÃ§as sexualmente transmissÃ­veis (DSTs). Com os registros de contaminaÃ§Ã£o subindo em… [+1637 chars]"
        ],
        [
         [
          null,
          "Tecmundo.com.br"
         ],
         "Lucas Vinicius Santos",
         "Método quântico é capaz de curar câncer cerebral por meio de spray; entenda",
         "De acordo com um estudo publicado na revista científica Nature Nanotechnology, uma equipe de cientistas ingleses conseguiu criar um método quântico por spray para curar um tipo de câncer cerebral. O estudo conduzido por pesquisadores Universidade de Nottingha…",
         "https://www.tecmundo.com.br/ciencia/271666-metodo-quantico-capaz-curar-cancer-cerebral-meio-spray-entenda.htm",
         "https://tm.ibxk.com.br/2023/09/15/15085246049017.jpg",
         "2023-09-15T13:00:00Z",
         "De acordo com um estudo publicado na revista científica Nature Nanotechnology, uma equipe de cientistas ingleses conseguiu criar um método quântico por spray para curar um tipo de câncer cerebral. O … [+2915 chars]"
        ],
        [
         [
          null,
          "[Removed]"
         ],
         null,
         "[Removed]",
         "[Removed]",
         "https://removed.com",
         null,
         "1970-01-01T00:00:00Z",
         "[Removed]"
        ],
        [
         [
          null,
          "[Removed]"
         ],
         null,
         "[Removed]",
         "[Removed]",
         "https://removed.com",
         null,
         "1970-01-01T00:00:00Z",
         "[Removed]"
        ],
        [
         [
          null,
          "Observador.pt"
         ],
         "Ricardo Zorron",
         "Tratar a obesidade com endoscopia, sem incisões? Sim, já é possível",
         "Nos últimos cinco anos tem existido uma verdadeira revolução nas terapias endoscópicas que possibilitam um maior acesso a tratamentos para a obesidade, uma alternativa menos invasiva e sem incisões.",
         "https://observador.pt/opiniao/tratar-a-obesidade-com-endoscopia-sem-incisoes-sim-ja-e-possivel/",
         "https://wm.observador.pt/wm-op/wide-circle/https%3A%2F%2Fbordalo.observador.pt%2Fv2%2Frs%3Afill%3A900%2Fc%3A467%3A467%3Anowe%3A9%3A3%2Fq%3A86%2Fplain%2Fhttps%3A%2F%2Fs3.observador.pt%2Fwp-content%2Fuploads%2F2023%2F09%2F15111743%2Fwhatsapp-image-2023-09-12-at-164340.jpeg",
         "2023-09-17T23:03:43Z",
         "Através de uma abordagem minimamente invasiva, as técnicas endoscópicas desempenham um papel cada vez mais relevante no tratamento da obesidade, ajudando as pessoas a perder peso e a controlar doença… [+3854 chars]"
        ],
        [
         [
          null,
          "[Removed]"
         ],
         null,
         "[Removed]",
         "[Removed]",
         "https://removed.com",
         null,
         "1970-01-01T00:00:00Z",
         "[Removed]"
        ],
        [
         [
          null,
          "Sapo.pt"
         ],
         "Marisa Pinto",
         "Cão-robot com Raspberry Pi ensina espanhol a crianças surdas",
         "É incrível a quantidade de tecnologia que nos dias que correm ajudam significativamente em áreas como a saúde, terapias, reabilitação, aprendizagem, entre outras. Nesse sentido, vamos hoje conhecer o Robins, um cão-robot com raspberry...",
         "https://pplware.sapo.pt/gadgets/cao-robot-com-raspberry-pi-ensina-espanhol-a-criancas-surdas/",
         "https://pplware.sapo.pt/wp-content/uploads/2023/09/cao-robot_0.jpg",
         "2023-09-05T13:00:03Z",
         "É incrível a quantidade de tecnologia que nos dias que correm ajudam significativamente em áreas como a saúde, terapias, reabilitação, aprendizagem, entre outras. Nesse sentido, vamos hoje conhecer o… [+1876 chars]"
        ],
        [
         [
          null,
          "Www.tsf.pt"
         ],
         "Lusa",
         "Morreu Ian Wilmut, \"pai\" da ovelha Dolly",
         "O trabalho do especialista em embriologia foi considerado fundamental para a investigação que visa tratar doenças genéticas e degenerativas ajudando o corpo a reparar tecidos danificados.",
         "https://www.tsf.pt/mundo/morreu-ian-wilmut-pai-da-ovelha-dolly-17006400.html",
         "https://static.globalnoticias.pt/tsf/image.jpg?brand=TSF&type=generate&guid=d460562f-c697-4222-b4fd-8dc02af92e59&w=800&h=420&watermark=true&t=20230911191400",
         "2023-09-11T18:14:00Z",
         "O cientista afastou-se do meio académico em 2012 e em 2018 tornou público que tinha a doença de Parkinson\r\n© Naokazu Oinuma/AP (arquivo)\r\nO biólogo britânicoIan Wilmut, \"pai\" da ovelha Dolly, o prime… [+1949 chars]"
        ],
        [
         [
          null,
          "Observador.pt"
         ],
         "Maria Raimundo",
         "Boa nutrição é bom negócio",
         "A personalização está a tornar-se fundamental na prevenção e gestão de doenças. Isto torna a nutrição personalizada e a medicina de precisão componentes essenciais na prevenção e gestão de doenças.",
         "https://observador.pt/opiniao/boa-nutricao-e-bom-negocio/",
         "https://wm.observador.pt/wm-op/wide-circle/https%3A%2F%2Fbordalo.observador.pt%2Fv2%2Frs%3Afill%3A900%2Fc%3A467%3A467%3Anowe%3A0%3A0%2Fq%3A86%2Fplain%2Fhttps%3A%2F%2Fs3.observador.pt%2Fwp-content%2Fuploads%2F2020%2F07%2F27203316%2Fmr_obs_467x467_acf_cropped.jpg",
         "2023-09-11T23:09:08Z",
         "A má nutrição está a desafiar quase todos os aspectos da nossa sociedade, contribuindo para problemas de saúde, desigualdades na saúde, no acesso à mesma, e nas despesas evitáveis com cuidados de saú… [+9116 chars]"
        ],
        [
         [
          null,
          "Observador.pt"
         ],
         "Inês Capucho",
         "DeepMind, da Google, desenvolve programa com Inteligência Artificial que prevê se mutações de ADN podem causar doenças",
         "As previsões do programa AlphaMissense, desenvolvido pela DeepMind, sobre as chamadas mutações \"missense\" podem ajudar a acelerar a investigação e o diagnóstico de doenças raras.",
         "https://observador.pt/2023/09/20/deepmind-da-google-desenvolve-programa-com-inteligencia-artificial-que-preve-se-mutacoes-de-adn-podem-causar-doencas/",
         "https://wm.observador.pt/wm/obs/l/https%3A%2F%2Fbordalo.observador.pt%2Fv2%2Frs%3Afill%3A770%3A403%2Fc%3A3504%3A1973%3Anowe%3A0%3A532%2Fq%3A85%2Fplain%2Fhttps%3A%2F%2Fs3.observador.pt%2Fwp-content%2Fuploads%2F2022%2F02%2F24081421%2FGettyImages-90739363.jpg",
         "2023-09-20T17:45:28Z",
         "A DeepMind, detida pela Google, utilizou a Inteligência Artificial para identificar mutações de ADN que podem causar doenças. É através do programa AlphaMissense, desenvolvido por cientistas, que a e… [+1752 chars]"
        ],
        [
         [
          null,
          "Abril.com.br"
         ],
         "Diogo Sponchiato",
         "Nobel vai para descobertas que resultaram nas vacinas de RNA para Covid-19",
         "Láurea em Medicina é concedida a dois pesquisadores pelos trabalhos que culminaram na nova geração de vacinas que ajudou a deter a pandemia",
         "https://veja.abril.com.br/saude/nobel-de-medicina-2023-vacina-covid",
         "https://veja.abril.com.br/wp-content/uploads/2023/10/490_envelhecer-vacina-gripe.png?w=680&h=453&crop=1",
         "2023-10-02T09:59:49Z",
         "O Prêmio Nobel de Fisiologia ou Medicina de 2023 reconhece dois pesquisadores por suas descobertas fundamentais que permitiram criar as primeiras vacinas de RNA da história, as mesmas que ajudaram a … [+2446 chars]"
        ],
        [
         [
          null,
          "Abril.com.br"
         ],
         "Diogo Sponchiato",
         "Do que falamos quando falamos em demência",
         "Quadro que solapa a memória e outras habilidades cognitivas tem diversas causas, mas o Alzheimer é a principal delas",
         "https://veja.abril.com.br/coluna/letra-de-medico/do-que-falamos-quando-falamos-em-demencia",
         "https://veja.abril.com.br/wp-content/uploads/2023/09/envelhecer-cerebro.png?w=680&h=449&crop=1",
         "2023-09-21T10:12:08Z",
         "Demência é um diagnóstico clínico que indica a redução progressiva das capacidades cerebrais, levando à perda de autonomia e da qualidade de vida. Dentre múltiplas causas, a doença de Alzheimer é a m… [+3622 chars]"
        ],
        [
         [
          null,
          "[Removed]"
         ],
         null,
         "[Removed]",
         "[Removed]",
         "https://removed.com",
         null,
         "1970-01-01T00:00:00Z",
         "[Removed]"
        ],
        [
         [
          null,
          "Abril.com.br"
         ],
         "Simone Blanes",
         "MSD inicia última fase de estudo para comprimido que reduz colesterol ruim",
         "Chamado de MK-0616, o remédio experimental inibe a ação de PCSK9. Se aprovado, será o primeiro comprimido oral dessa categoria",
         "https://veja.abril.com.br/saude/msd-inicia-ultima-fase-de-estudo-para-comprimido-que-reduz-colesterol-ruim",
         "https://veja.abril.com.br/wp-content/uploads/2016/05/estatina-remedio-colesterol-20121108-original.jpeg?quality=90&strip=info&w=620&h=349&crop=1",
         "2023-09-04T18:03:54Z",
         "A MSD iniciou um programa clínico de Fase 3 para um inibidor oral de PCSK9, avaliado para o tratamento de hipercolesterolemia, ou seja, a redução do colesterol da lipoproteína de baixa densidade (LDL… [+2295 chars]"
        ],
        [
         [
          null,
          "Olhardigital.com.br"
         ],
         "Alessandro Di Lorenzo",
         "Descoberta de pesquisadores da USP pode ajudar no combate ao câncer",
         "Pesquisadores identificaram o mecanismo envolvido na replicação e reparo de DNA, o que pode ajudar no tratamento contra o câncer\nO post Descoberta de pesquisadores da USP pode ajudar no combate ao câncer apareceu primeiro em Olhar Digital.",
         "https://olhardigital.com.br/2023/09/21/medicina-e-saude/descoberta-de-pesquisadores-da-usp-pode-ajudar-no-combate-ao-cancer/",
         "https://proxy.olhardigital.com.br/wp-content/uploads/2023/05/Destaque-tratamento-cancer.jpg",
         "2023-09-21T17:55:31Z",
         "Uma descoberta de pesquisadores do Instituto de QuÃ­mica da USP e de duas universidades da Inglaterra pode auxiliar no combate a diferentes tipos de cÃ¢ncer. Os cientistas identificaram o mecanismo e… [+4889 chars]"
        ],
        [
         [
          null,
          "Abril.com.br"
         ],
         "Paula Felix",
         "Novo estudo com terapia inovadora contra câncer é autorizado pela Anvisa",
         "Ensaio com células geneticamente modificadas, as CAR-T, será conduzido pela Fundação Hemocentro de Ribeirão Preto e Instituto Butantan",
         "https://veja.abril.com.br/saude/novo-estudo-com-terapia-inovadora-contra-cancer-e-autorizado-pela-anvisa",
         "https://veja.abril.com.br/wp-content/uploads/2017/11/cancer-car-t-terapia-17.jpg?quality=90&strip=info&w=680&h=453&crop=1",
         "2023-09-26T23:12:38Z",
         "A Agência Nacional de Vigilância Sanitária (Anvisa) autorizou nesta terça-feira, 26, um novo ensaio clínico nacional com CAR-T, terapia inovadora com células geneticamente modificadas que agem contra… [+2746 chars]"
        ],
        [
         [
          null,
          "Terra.com.br"
         ],
         "Deutsche Welle",
         "Por que você deve a sua vida a uns poucos humanos primitvos?",
         "Análises genéticas apontam que quase todos os nossos ancestrais morreram em uma catástrofe ...",
         "https://www.terra.com.br/noticias/por-que-voce-deve-a-sua-vida-a-uns-poucos-humanos-primitvos,4f56bf2b1e4ab45dbafda310e9294f1coffppy18.html",
         "https://p2.trrsf.com/image/fget/cf/1200/630/middle/images.terra.com/2023/09/05/1696209846-58045134354.jpg",
         "2023-09-05T18:08:14Z",
         "Análises genéticas apontam que quase todos os nossos ancestrais morreram em uma catástrofe natural 900 mil anos atrás. Apenas 1.280 indivíduos teriam sobrevivido. Uma parte deles está em você.Imagine… [+4310 chars]"
        ],
        [
         [
          null,
          "Googlediscovery.com"
         ],
         "Renê Fraga",
         "Mark Zuckerberg anuncia IA generativa para curar todas as doenças",
         "A Chan Zuckerberg Initiative (CZI), organização filantrópica fundada por Priscilla Chan e Mark Zuckerberg, anunciou um projeto inovador de inteligência",
         "https://googlediscovery.com/2023/09/20/mark-zuckerberg-anuncia-ia-generativa-para-curar-todas-as-doencas/",
         "https://cdn.googlediscovery.com/wp-content/uploads/chan-zuckerberg.jpg",
         "2023-09-20T16:59:48Z",
         "A Chan Zuckerberg Initiative (CZI), organização filantrópica fundada por Priscilla Chan e Mark Zuckerberg, anunciou um projeto inovador de inteligência artificial generativa. \r\nA iniciativa consiste … [+1695 chars]"
        ],
        [
         [
          null,
          "Abril.com.br"
         ],
         "diego.valencia",
         "Subir escadas pode reduzir o risco de doenças cardíacas em 20%, diz estudo",
         "Pesquisadores analisaram repositório de informações sobre saúde e estilo de vida com dados de mais de 458 mil adultos no Reino Unido",
         "https://veja.abril.com.br/saude/subir-escadas-pode-reduzir-o-risco-de-doencas-cardiacas-em-20-diz-estudo",
         "https://veja.abril.com.br/wp-content/uploads/2017/04/esporte-corrida-escada-20150213-018.jpg?quality=90&strip=info&w=680&h=453&crop=1",
         "2023-10-03T17:00:59Z",
         "Odeia quando o elevador quebra? De fato, é um incômodo, mas subir lances de escada pode salvar sua vida, de acordo com um novo estudo da Universidade de Tulane, em Louisiana, nos Estados Unidos.\r\nPes… [+1324 chars]"
        ],
        [
         [
          null,
          "[Removed]"
         ],
         null,
         "[Removed]",
         "[Removed]",
         "https://removed.com",
         null,
         "1970-01-01T00:00:00Z",
         "[Removed]"
        ],
        [
         [
          null,
          "[Removed]"
         ],
         null,
         "[Removed]",
         "[Removed]",
         "https://removed.com",
         null,
         "1970-01-01T00:00:00Z",
         "[Removed]"
        ],
        [
         [
          null,
          "Abril.com.br"
         ],
         "Diogo Sponchiato",
         "‘A saúde climática e a humana andam de mãos dadas’",
         "Em entrevista exclusiva, CEO global da AstraZeneca expõe os desafios da sustentabilidade do sistema de saúde e por onde caminha o futuro da medicina",
         "https://veja.abril.com.br/saude/a-saude-climatica-e-a-humana-andam-de-maos-dadas",
         "https://veja.abril.com.br/wp-content/uploads/2023/09/AZ3087-BoD-Pascal-Soriot-2022.jpg?quality=90&strip=info&w=680&h=453&crop=1",
         "2023-09-19T11:16:22Z",
         "Não dá para falar sobre a sustentabilidade dos sistemas de saúde sem falar de outra sustentabilidade, a ambiental – e vice-versa. É o que defende o francês Pascal Soriot, CEO global da biofarmacêutic… [+14790 chars]"
        ],
        [
         [
          null,
          "Abril.com.br"
         ],
         "Da Redação",
         "Morre cientista que liderou criação de Dolly, o primeiro animal clonado",
         "Feito gerou manchetes e debates éticos acalorados em 1996",
         "https://veja.abril.com.br/mundo/morre-cientista-que-liderou-criacao-de-dolly-o-primeiro-animal-clonado",
         "https://veja.abril.com.br/wp-content/uploads/2023/09/WhatsApp-Image-2023-09-11-at-15.46.58.jpeg?quality=90&strip=info&w=680&h=453&crop=1",
         "2023-09-11T19:03:48Z",
         "O cientista britânico Ian Wilmut, que liderou as pesquisas que resultaram na criação do primeiro animal clonado no mundo, a ovelha Dolly, morreu aos 79 anos no último domingo, 10. A morte foi anuncia… [+1984 chars]"
        ],
        [
         [
          null,
          "Olhardigital.com.br"
         ],
         "Rodrigo Mozelli",
         "Anvisa autoriza ensaio clínico com CAR-T Cell no Brasil para combater câncer",
         "Estudo tem como objetivo avaliar a segurança e eficácia do tratamento em pacientes com leucemia linfoide aguda B e linfoma não-Hodgkin B\nO post Anvisa autoriza ensaio clínico com CAR-T Cell no Brasil para combater câncer apareceu primeiro em Olhar Digital.",
         "https://olhardigital.com.br/2023/09/26/medicina-e-saude/anvisa-autoriza-ensaio-clinico-com-car-t-cell-no-brasil-para-combater-cancer/",
         "https://proxy.olhardigital.com.br/wp-content/uploads/2023/09/cancer-2.jpg",
         "2023-09-26T22:00:05Z",
         "A FundaÃ§Ã£o Hemocentro de RibeirÃ£o Preto (FUNDHERP), em parceria com o Instituto Butantan, recebeu autorizaÃ§Ã£o da Anvisa para realizar ensaio clÃ­nico no Brasil com a tÃ©cnica CAR-T Cell, que uti… [+2904 chars]"
        ],
        [
         [
          null,
          "[Removed]"
         ],
         null,
         "[Removed]",
         "[Removed]",
         "https://removed.com",
         null,
         "1970-01-01T00:00:00Z",
         "[Removed]"
        ],
        [
         [
          null,
          "B9.com.br"
         ],
         "Carlos Merigo",
         "Johnson & Johnson atualiza identidade visual e abandona seu reconhecido logotipo caligráfico",
         "A gigante da saúde, Johnson & Johnson, apresenta uma nova identidade visual. Abandona o reconhecido logotipo em caligrafia para simplificar a marca, buscando refletir sua evolução e foco em inovação. A cor vermelha também foi alterada. Por que isso é importan…",
         "https://www.b9.com.br/164509/johnson-johnson-atualiza-identidade-visual-e-abandona-seu-reconhecido-logotipo-caligrafico/",
         "https://assets.b9.com.br/wp-content/uploads/2023/09/JJ_Lobby01_HighRes-1280x677.jpg",
         "2023-09-14T17:50:25Z",
         "A gigante da saúde, Johnson &amp; Johnson, apresenta uma nova identidade visual. Abandona o reconhecido logotipo em caligrafia para simplificar a marca, buscando refletir sua evolução e foco em inova… [+1178 chars]"
        ],
        [
         [
          null,
          "Melhoresdestinos.com.br"
         ],
         "Cleverson Lima",
         "Minas Gerais! Resort all inclusive em Poços de Caldas com diárias a partir de R$ 677",
         "Poços de Caldas, no Sul de Minas Gerais, oferece uma das melhores estâncias hidrominerais da América Latina, com águas minerais usadas em diversas terapias, clima montanhês da Serra da Mantiqueira, excelente culinária e charmosa arquitetura da década de 30.  …",
         "https://www.melhoresdestinos.com.br/promocao/minas-pocos-caldas-resort",
         "https://www.melhoresdestinos.com.br/wp-content/uploads/2021/06/cassino-resort-pocos-de-caldas-capa-2021-2.jpg",
         "2023-09-23T12:00:04Z",
         "Poços de Caldas, no Sul de Minas Gerais, oferece uma das melhores estâncias hidrominerais da América Latina, com águas minerais usadas em diversas terapias, clima montanhês da Serra da Mantiqueira, e… [+1409 chars]"
        ],
        [
         [
          null,
          "Catracalivre.com.br"
         ],
         "Redação",
         "Estudo diz que menopausa precoce aumento o risco de demência",
         "Uma recente pesquisa realizada pela Universidade de Sherbrooke, no Canadá, revelou uma forte relação entre o início precoce da menopausa em mulheres e um",
         "https://catracalivre.com.br/saude-bem-estar/estudo-diz-que-menopausa-precoce-aumento-o-risco-de-demencia/",
         "https://catracalivre.com.br/cdn-cgi/image/f=auto,q=60,w=1200,h=638,fit=cover,format=jpeg/wp-content/uploads/2023/09/menopausa.jpg",
         "2023-09-28T19:30:43Z",
         "Uma recente pesquisa realizada pela Universidade de Sherbrooke, no Canadá, revelou uma forte relação entre o início precoce da menopausa em mulheres e um risco elevado de desenvolvimento de comorbida… [+1853 chars]"
        ],
        [
         [
          null,
          "Megacurioso.com.br"
         ],
         "Vivian de Souza Campos",
         "Superbactérias: como evitar a resistência aos antibióticos",
         "Superbactérias, ou bactérias resistentes a antibióticos, são cepas microbianas que desenvolveram a capacidade de resistir a um ou mais antibióticos. Essa resistência pode ocorrer devido a mutações genéticas aleatórias, ou pode ser adquirida devido ao uso inad…",
         "https://www.megacurioso.com.br//ciencia/127528-superbacterias-como-evitar-a-resistencia-aos-antibioticos.htm",
         "https://mega.ibxk.com.br/2023/10/03/03152401766265.jpg?ims=600x",
         "2023-10-03T19:00:00Z",
         "Superbactérias, ou bactérias resistentes a antibióticos, são cepas microbianas que desenvolveram a capacidade de resistir a um ou mais antibióticos. Essa resistência pode ocorrer devido a mutações ge… [+3311 chars]"
        ],
        [
         [
          null,
          "[Removed]"
         ],
         null,
         "[Removed]",
         "[Removed]",
         "https://removed.com",
         null,
         "1970-01-01T00:00:00Z",
         "[Removed]"
        ],
        [
         [
          null,
          "[Removed]"
         ],
         null,
         "[Removed]",
         "[Removed]",
         "https://removed.com",
         null,
         "1970-01-01T00:00:00Z",
         "[Removed]"
        ],
        [
         [
          null,
          "[Removed]"
         ],
         null,
         "[Removed]",
         "[Removed]",
         "https://removed.com",
         null,
         "1970-01-01T00:00:00Z",
         "[Removed]"
        ],
        [
         [
          null,
          "Terra.com.br"
         ],
         "Portal EdiCase",
         "Entenda por que doenças vasculares podem aumentar no calor",
         "Quando não cuidamos da saúde, os dias de calor torna-se um momento de alerta para o corpo, ...",
         "https://www.terra.com.br/vida-e-estilo/saude/entenda-por-que-doencas-vasculares-podem-aumentar-no-calor,52723791eadd8bccd0bd285409f363b03cid3uve.html",
         "https://p2.trrsf.com/image/fget/cf/1200/630/middle/images.terra.com/2023/09/22/1100783929-doencas-vasculares.jpeg",
         "2023-09-22T22:02:23Z",
         "Quando não cuidamos da saúde, os dias de calor torna-se um momento de alerta para o corpo, especialmente para aqueles que sofrem com problemas cardiovasculares. Isso porque, segundo dados da Sociedad… [+3207 chars]"
        ],
        [
         [
          null,
          "Abril.com.br"
         ],
         "Da Redação",
         "Medicina tecnológica para todos",
         "Assim como a terapia CAR-T, existem inúmeras abordagens terapêuticas inovadoras em desenvolvimento em centros de pesquisa ao redor do planeta",
         "https://veja.abril.com.br/coluna/coluna-claudio-lottenberg/medicina-tecnologica-para-todos",
         "https://veja.abril.com.br/wp-content/uploads/2017/11/cancer-car-t-terapia-17.jpg?quality=90&strip=info&w=680&h=453&crop=1",
         "2023-09-18T16:11:55Z",
         "A terapia com células CAR-T é um dos tratamentos mais recentes e promissores no combate aos cânceres de sangue, como o linfoma e as leucemias agudas. Ele consiste na coleta de células de defesa do pa… [+3354 chars]"
        ],
        [
         [
          null,
          "[Removed]"
         ],
         null,
         "[Removed]",
         "[Removed]",
         "https://removed.com",
         null,
         "1970-01-01T00:00:00Z",
         "[Removed]"
        ],
        [
         [
          null,
          "Terra.com.br"
         ],
         "Reuters",
         "Belga Biobest compra empresa brasileira de soluções agrícolas naturais Biotrop em acordo de US$570 mi",
         "A empresa belga de biocontrole de pragas e doenças e polinização natural para produção agrícola ...",
         "https://www.terra.com.br/economia/dinheiro-em-acao/belga-biobest-compra-empresa-brasileira-de-solucoes-agricolas-naturais-biotrop-em-acordo-de-us570-mi,92e023c86a50c8325dbc0b2d6ca40870yybi9fsw.html",
         "https://s1.trrsf.com/fe/zaz-mod-t360-icons/svg/logos/terra-16x9-borda.png",
         "2023-09-07T18:50:26Z",
         "A empresa belga de biocontrole de pragas e doenças e polinização natural para produção agrícola sustentável Biobest Group fechou acordo para adquirir a brasileira do mesmo ramo Biotrop, em um movimen… [+1927 chars]"
        ],
        [
         [
          null,
          "Observador.pt"
         ],
         "Agência Lusa",
         "Empresa da Covilhã deteta enzima que pode travar doença de Parkinson",
         "Uma empresa sediada na Covilhã está a desenvolver uma molécula que produz stress oxidativo e que pode ser moldada às necessidades do doente, permitindo que permaneçam no primeiro estágio da doença.",
         "https://observador.pt/2023/09/22/empresa-da-covilha-deteta-enzima-que-pode-travar-doenca-de-parkinson/",
         "https://wm.observador.pt/wm/obs/l/https%3A%2F%2Fbordalo.observador.pt%2Fv2%2Frs%3Afill%3A770%3A403%2Fc%3A2000%3A1124%3Anowe%3A0%3A105%2Fq%3A85%2Fplain%2Fhttps%3A%2F%2Fs3.observador.pt%2Fwp-content%2Fuploads%2F2017%2F12%2F12161206%2F19081089.jpg",
         "2023-09-22T10:33:53Z",
         "Uma empresa com sede na Covilhã está na fase de conclusão dos testes pré-clínicos de uma enzima responsável por produzir stress oxidativo que pode ser moldada para níveis que permitam evitar a progre… [+3017 chars]"
        ],
        [
         [
          null,
          "Sapo.pt"
         ],
         "Ana Sofia Neto",
         "Mosquito que transmite dengue e zika aterrou em Lisboa pela primeira vez",
         "Embora tenha sido detetada no norte de Portugal, em 2017, esta foi a primeira vez que a espécie de mosquitos aterrou em Lisboa. Há infeções que, a menos que viajemos, nos são muito distantes,...",
         "https://pplware.sapo.pt/ciencia/mosquito-que-transmite-dengue-e-zika-aterrou-em-lisboa-pela-primeira-vez/",
         "https://pplware.sapo.pt/wp-content/uploads/2023/09/Aedes-Albopictus_B00.jpg",
         "2023-09-28T08:40:24Z",
         "Embora tenha sido detetada no norte de Portugal, em 2017, esta foi a primeira vez que a espécie de mosquitos aterrou em Lisboa.\r\nHá infeções que, a menos que viajemos, nos são muito distantes, pois n… [+1448 chars]"
        ],
        [
         [
          null,
          "Catracalivre.com.br"
         ],
         "Redação",
         "Alimento comum na cozinha do brasileiro reduz risco de câncer, diz estudo",
         "Comer bem é necessário não só para manter o corpo funcionando corretamente, mas também para prevenir uma série de doenças. É por isso que, ás vezes, nos",
         "https://catracalivre.com.br/saude-bem-estar/alimento-comum-na-cozinha-do-brasileiro-reduz-risco-de-cancer-diz-estudo/",
         "https://catracalivre.com.br/cdn-cgi/image/f=auto,q=60,w=1200,h=638,fit=cover,format=jpeg/wp-content/uploads/2023/09/istock-1635263915-1.jpg",
         "2023-09-22T22:01:08Z",
         "Comer bem é necessário não só para manter o corpo funcionando corretamente, mas também para prevenir uma série de doenças.\r\nÉ por isso que, ás vezes, nos deparamos com alimentos conhecidos como “supe… [+2233 chars]"
        ],
        [
         [
          null,
          "Terra.com.br"
         ],
         "Reuters",
         "CDC dos EUA endossa vacina da Pfizer contra doença sazonal para proteger bebês",
         "O Centro de Controle e Prevenção de Doenças dos EUA (CDC, na sigla em inglês) endossou nesta ...",
         "https://www.terra.com.br/noticias/mundo/cdc-dos-eua-endossa-vacina-da-pfizer-contra-doenca-sazonal-para-proteger-bebes,98c42c6c5c276e9a6307f08a293eb128a0g5s529.html",
         "https://s1.trrsf.com/fe/zaz-mod-t360-icons/svg/logos/terra-16x9-borda.png",
         "2023-09-23T00:17:36Z",
         "O Centro de Controle e Prevenção de Doenças dos EUA (CDC, na sigla em inglês) endossou nesta sexta-feira a vacina da Pfizer contra o vírus sincicial respiratório (VSR) para mulheres que estão no terc… [+1370 chars]"
        ],
        [
         [
          null,
          "Abril.com.br"
         ],
         "Paula Felix",
         "A proteína capaz de manter a célula humana saudável por mais tempo",
         "Estudo feito por pesquisadores brasileiros e australianos aponta caminhos para tratar doenças autoimunes e até câncer",
         "https://veja.abril.com.br/saude/a-proteina-capaz-de-manter-celula-humana-saudavel-por-mais-tempo",
         "https://veja.abril.com.br/wp-content/uploads/2023/09/Celulas-humanas-coxiella.jpg?quality=90&strip=info&w=680&h=453&crop=1",
         "2023-09-11T14:45:31Z",
         "Pesquisadores da Universidade de São Paulo (USP) e colaboradores da Austrália identificaram uma proteína bacteriana capaz de manter as células humanas saudáveis por mais tempo. A descoberta pode leva… [+5133 chars]"
        ],
        [
         [
          null,
          "Olhardigital.com.br"
         ],
         "Alessandro Di Lorenzo",
         "Árvore “congelada” no tempo por milhões de anos tem mistério revelado",
         "Conhecida como \"fóssil vivo\", a árvore praticamente não sofreu alterações desde o tempo em que os dinossauros dominavam a Terra\nO post Árvore “congelada” no tempo por milhões de anos tem mistério revelado apareceu primeiro em Olhar Digital.",
         "https://olhardigital.com.br/2023/09/15/ciencia-e-espaco/arvore-congelada-no-tempo-por-milhoes-de-anos-tem-misterio-revelado/",
         "https://img.olhardigital.com.br/wp-content/uploads/2023/09/Pinheiro-1.jpg",
         "2023-09-15T17:06:28Z",
         "Cientistas da AustrÃ¡lia, Estados Unidos e ItÃ¡liaÂ decodificaram o genoma de uma rarÃ­ssima Ã¡rvore conhecida como âfÃ³ssil vivoâ. O pinheiroÂ Wollemi (Wollemia nobilis) foi descoberto em 1994 e… [+3199 chars]"
        ],
        [
         [
          null,
          "Expresso.pt"
         ],
         "Expresso",
         "Agendas mobilizadoras canalizam €480 milhões para transformar sector da saúde em três anos",
         "Plano de Recuperação e de Resiliência é central no investimento que privados e Estado preveem canalizar para o desenvolvimento de terapias inovadoras, para doenças graves como o cancro, e em novas formas de combater a resistência aos antibióticos",
         "https://expresso.pt/economia/empresas/2023-10-02-Agendas-mobilizadoras-canalizam-480-milhoes-para-transformar-sector-da-saude-em-tres-anos-17de87a9",
         "https://images.impresa.pt/expresso/2023-06-28-laboratorio-deac6dc7/1.91x1?wm=true&outputFormat=jpeg",
         "2023-10-02T14:56:57Z",
         "O Plano de Recuperação e Resiliência (PRR) irá apoiar quatro agendas mobilizadoras da saúde, que durante os próximos três anos irão captar investimentos de cerca de 180 milhões de euros do setor priv… [+2989 chars]"
        ],
        [
         [
          null,
          "BBC News"
         ],
         "https://www.facebook.com/bbcnews",
         "Sensação de estar isolado do mundo é uma das grandes preocupações do século 21",
         "Sensação de estar isolado do mundo é uma das grandes preocupações do século 21",
         "https://www.bbc.com/portuguese/media-66843698",
         "https://ichef.bbci.co.uk/news/1024/branded_portuguese/80CB/production/_131117923_mediaitem131117922.jpg",
         "2023-09-18T10:24:06Z",
         "Sensação de estar isolado do mundo é uma das grandes preocupações do século 21\r\nA solidão virou uma das grandes preocupações de saúde do século 21. \r\nComparada ao cigarro e relacionada ao risco de do… [+343 chars]"
        ],
        [
         [
          null,
          "[Removed]"
         ],
         null,
         "[Removed]",
         "[Removed]",
         "https://removed.com",
         null,
         "1970-01-01T00:00:00Z",
         "[Removed]"
        ],
        [
         [
          null,
          "Catracalivre.com.br"
         ],
         "Redação",
         "Pesquisa indica composto encontrado nestes alimentos que pode prevenir câncer",
         "Você sabia que diversas pesquisas ao longo dos anos têm apontado benefícios potenciais para a fisetina, um flavonoide com atividade antioxidante presente",
         "https://catracalivre.com.br/saude-bem-estar/pesquisa-indica-composto-encontrado-nestes-alimentos-que-previne-cancer/",
         "https://catracalivre.com.br/cdn-cgi/image/f=auto,q=60,w=1200,h=638,fit=cover,format=jpeg/wp-content/uploads/2023/09/istock-1325282418.jpg",
         "2023-09-26T10:00:45Z",
         "Você sabia que diversas pesquisas ao longo dos anos têm apontado benefícios potenciais para a fisetina, um flavonoide com atividade antioxidante presente em frutas e vegetais?\r\nEstudos epidemiológico… [+2817 chars]"
        ],
        [
         [
          null,
          "Abril.com.br"
         ],
         "diego.valencia",
         "O que a microbiota intestinal tem a ver com distúrbios neurológicos?",
         "Revisão feita por pesquisadores da Unifesp inclui doenças como Alzheimer e Parkinson e transtornos psiquiátricos como depressão e ansiedade",
         "https://veja.abril.com.br/saude/como-a-microbiota-influencia-disturbios-neurologicos-e-psiquiatricos",
         "https://veja.abril.com.br/wp-content/uploads/2020/09/câncer-de-intestino.jpg?quality=90&strip=info&w=680&h=453&crop=1",
         "2023-09-06T19:48:52Z",
         "Há trilhões de microrganismos, incluindo bactérias, fungos e vírus, no interior do trato gastrointestinal conjunto que leva o nome de microbiota. É quase o mesmo número de células em um corpo humano.… [+3585 chars]"
        ],
        [
         [
          null,
          "[Removed]"
         ],
         null,
         "[Removed]",
         "[Removed]",
         "https://removed.com",
         null,
         "1970-01-01T00:00:00Z",
         "[Removed]"
        ],
        [
         [
          null,
          "Terra.com.br"
         ],
         "Portal EdiCase",
         "Entenda o que é a hipercifose e como tratar essa condição",
         "A hipercifose, também conhecida popularmente como 'corcunda', trata-se de uma doença óssea ...",
         "https://www.terra.com.br/vida-e-estilo/saude/entenda-o-que-e-a-hipercifose-e-como-tratar-essa-condicao,323d34d575b92837f1fad0d49bfe650b67beo2wl.html",
         "https://p2.trrsf.com/image/fget/cf/1200/630/middle/images.terra.com/2023/10/02/638203844-coluna-dores.jpeg",
         "2023-10-02T17:31:30Z",
         "A hipercifose, também conhecida popularmente como 'corcunda', trata-se de uma doença óssea causada por um desvio corporal que, normalmente, faz com que as pessoas tenham uma curvatura na região torác… [+2694 chars]"
        ],
        [
         [
          null,
          "Abril.com.br"
         ],
         "Paula Felix",
         "OMS recomenda vacinas contra malária e dengue diante de onda de mosquitos",
         "Entidade fez alerta sobre risco das doenças principalmente para crianças; Qdenga foi aprovada para uso no Brasil em março",
         "https://veja.abril.com.br/saude/oms-recomenda-vacinas-contra-malaria-e-dengue-diante-de-onda-de-mosquitos",
         "https://veja.abril.com.br/wp-content/uploads/2023/06/aedes_aegypti-dengue2.webp?w=680&h=453&crop=1",
         "2023-10-02T22:47:48Z",
         "Diante do aumento das doenças transmitidas por mosquitos em diferentes partes do mundo, a Organização Mundial da Saúde (OMS) divulgou nesta segunda-feira, 2, um comunicado recomendando a nova vacina … [+2768 chars]"
        ],
        [
         [
          null,
          "Sapo.pt"
         ],
         "Rui Jorge",
         "Poria o seu cérebro nas mãos da IA? Será uma realidade dentro de dois anos",
         "Um importante neurocirurgião do Reino Unido afirmou que a cirurgia cerebral com recurso à inteligência artificial (IA) será possível dentro de dois anos, tornando-a mais segura e eficaz.   O governo britânico afirma que...",
         "https://pplware.sapo.pt/inteligencia-artificial/poria-o-seu-cerebro-nas-maos-da-ia-sera-uma-realidade-dentro-de-dois-anos/",
         "https://pplware.sapo.pt/wp-content/uploads/2022/01/cirurgia_robo00.jpg",
         "2023-09-30T10:00:12Z",
         "Um importante neurocirurgião do Reino Unido afirmou que a cirurgia cerebral com recurso à inteligência artificial (IA) será possível dentro de dois anos, tornando-a mais segura e eficaz.\r\nO governo b… [+2511 chars]"
        ],
        [
         [
          null,
          "Olhardigital.com.br"
         ],
         "Nayra Teles",
         "USP: terapia celular pode reduzir mortes por Covid-19",
         "Pesquisadores da Universidade de São Paulo (USP) descobriram que a terapia celular pode reduzir em 60% o risco de morte por COVID-19\nO post USP: terapia celular pode reduzir mortes por Covid-19 apareceu primeiro em Olhar Digital.",
         "https://olhardigital.com.br/2023/09/19/medicina-e-saude/usp-terapia-celular-pode-reduzir-mortes-por-covid-19/",
         "https://proxy.olhardigital.com.br/wp-content/uploads/2023/09/terapia-celular.png",
         "2023-09-19T21:03:20Z",
         "A terapia celular, bastante utilizada em tratamentos contra o cÃ¢ncer, tem grande potencial contra a Covid-19. Ã o que aponta a revisÃ£o sistemÃ¡tica e meta-anÃ¡lise realizada por pesquisadores da U… [+4229 chars]"
        ],
        [
         [
          null,
          "Terra.com.br"
         ],
         "Porto Alegre 24 horas",
         "HCPA busca voluntários para estudo clínico que avalia medicamento experimental para o COVID-19",
         "Hospital de Clínicas está com inscrições abertas para adultos acima de 18 (dezoito) anos portadores de doenças crônicas como, por exemplo, diabetes, obesidade, hipertensão ou doenças cardiovasculares, que testaram positivo para COVID-19 nos últimos três dias …",
         "https://www.terra.com.br/noticias/hcpa-busca-voluntarios-para-estudo-clinico-que-avalia-medicamento-experimental-para-o-covid-19,6ce0dbd8c3d6c7770745a34adf194601wibvrrif.html",
         "https://p2.trrsf.com/image/fget/cf/1200/630/middle/images.terra.com/2023/09/20/717673475-fachada2-1536x1021-1.jpg",
         "2023-09-20T15:41:12Z",
         "O Hospital de Clínicas de Porto Alegre ainda está com vagas abertas para voluntários que queiram colaborar com o SCORPIO-HR, um estudo clínico global de Fase 3 com pacientes não hospitalizados e sint… [+3502 chars]"
        ],
        [
         [
          null,
          "[Removed]"
         ],
         null,
         "[Removed]",
         "[Removed]",
         "https://removed.com",
         null,
         "1970-01-01T00:00:00Z",
         "[Removed]"
        ],
        [
         [
          null,
          "[Removed]"
         ],
         null,
         "[Removed]",
         "[Removed]",
         "https://removed.com",
         null,
         "1970-01-01T00:00:00Z",
         "[Removed]"
        ],
        [
         [
          null,
          "Olhardigital.com.br"
         ],
         "Alessandro Di Lorenzo",
         "Novo vírus é descoberto nas profundezas da Fossa das Marianas",
         "Bacteriófago, um tipo de vírus que infecta e se replica dentro de bactérias, foi localizado a uma profundidade de 8.900 metros\nO post Novo vírus é descoberto nas profundezas da Fossa das Marianas apareceu primeiro em Olhar Digital.",
         "https://olhardigital.com.br/2023/09/21/ciencia-e-espaco/novo-virus-e-descoberto-nas-profundezas-da-fossa-das-marianas/",
         "https://proxy.olhardigital.com.br/wp-content/uploads/2023/09/Fossa-das-marianas-1.jpg",
         "2023-09-21T20:26:34Z",
         "Segundo dados da AdministraÃ§Ã£o Nacional OceÃ¢nica e AtmosfÃ©rica dos Estados Unidos,apenas cerca de 20% do fundo do mar foi mapeado atÃ© hoje. Uma descoberta de uma equipe internacional de pesquisa… [+2809 chars]"
        ],
        [
         [
          null,
          "Jovemnerd.com.br"
         ],
         "Pedro Siqueira",
         "Netflix põe camisinha em monumento para divulgação dura de Sex Education",
         "Streaming elevou o marketing a um novo nível para a temporada final da série\nThe post Netflix põe camisinha em monumento para divulgação dura de Sex Education appeared first on Jovem Nerd.",
         "https://jovemnerd.com.br/nerdbunker/netflix-camisinha-gigante-sex-education/",
         "https://uploads.jovemnerd.com.br/wp-content/uploads/2023/09/netflix_sex_education_obelisco__25030n3ow.jpg",
         "2023-09-23T15:07:35Z",
         "A divulgação da temporada final de Sex Education está duríssima. Tanto que a Netflix colocou uma CAMISINHA GIGANTE no Obelisco, um dos maiores monumentos da Argentina, num vídeo promocional que vem c… [+897 chars]"
        ],
        [
         [
          null,
          "Abril.com.br"
         ],
         "Paula Felix",
         "Injeção semanal para deficiência de hormônio do crescimento é liberada",
         "Medicação para crianças e adultos reduz em 85% o número de aplicações por ano; preço não foi definido e lançamento no Brasil ainda será anunciado",
         "https://veja.abril.com.br/saude/injecao-semanal-para-deficiencia-de-hormonio-do-crescimento-e-liberada",
         "https://veja.abril.com.br/wp-content/uploads/2016/05/alx_465382081_original1.jpeg?quality=90&strip=info&w=680&h=453&crop=1",
         "2023-09-25T21:40:54Z",
         "Uma nova opção de tratamento para crianças e adultos com deficiência do hormônio do crescimento (GH) com aplicação subcutânea semanal, por meio de uma “caneta”, foi liberada no Brasil nesta segunda-f… [+2629 chars]"
        ],
        [
         [
          null,
          "Terra.com.br"
         ],
         "Sport Life",
         "Abacate emagrece? Descubra 14 benefícios secretos da fruta",
         "Abacate emagrece ou engorda? Essa dúvida é comum em pessoas que são fãs do sabor da fruta. Por ...",
         "https://www.terra.com.br/vida-e-estilo/abacate-emagrece-descubra-14-beneficios-secretos-da-fruta,1079792ed39d3e3303fdd4fd29d5b3d3tj80nanf.html",
         "https://p2.trrsf.com/image/fget/cf/1200/630/middle/images.terra.com/2023/09/07/392743629-shutterstock785296315-1.jpg",
         "2023-09-07T19:02:17Z",
         "Abacate emagrece ou engorda? Essa dúvida é comum em pessoas que são fãs do sabor da fruta. Por ser um alimento natural, muitos acreditam que o abacate ajuda a emagrecer. Por outro lado, os altos níve… [+4997 chars]"
        ],
        [
         [
          null,
          "[Removed]"
         ],
         null,
         "[Removed]",
         "[Removed]",
         "https://removed.com",
         null,
         "1970-01-01T00:00:00Z",
         "[Removed]"
        ],
        [
         [
          null,
          "Uol.com.br"
         ],
         null,
         null,
         "A molécula sintetiza o conjunto de proteínas que um organismo necessita para viver",
         "https://www1.folha.uol.com.br/ciencia/2023/09/rna-de-tigre-da-tasmania-extinto-e-recuperado-pela-primeira-vez.shtml",
         "https://f.i.uol.com.br/fotografia/2023/09/19/1695178196650a5dd469a9a_1695178196_3x2_rt.jpg",
         "2023-09-20T10:50:04Z",
         "O tigre-da-tasmânia, um marsupial carnívoro listrado do tamanho de um cachorro, também chamado de tilacino, era um predador de ponta que caçava cangurus e outras presas e já vagou pelo território con… [+2149 chars]"
        ],
        [
         [
          null,
          "Catracalivre.com.br"
         ],
         "Redação",
         "Saiba quais atividades físicas reduzem risco de 9 tipos de câncer",
         "A aptidão cardiorrespiratória, responsável pela capacidade de executar atividades físicas aeróbicos prolongados, pode ser a chave para a prevenção de",
         "https://catracalivre.com.br/saude-bem-estar/saiba-quais-atividades-fisicas-reduzem-risco-de-9-tipos-de-cancer/",
         "https://catracalivre.com.br/cdn-cgi/image/f=auto,q=60,w=1200,h=638,fit=cover,format=jpeg/wp-content/uploads/2023/08/istock-1168199832.jpg",
         "2023-09-11T02:30:05Z",
         "A aptidão cardiorrespiratória, responsável pela capacidade de executar atividades físicas aeróbicos prolongados, pode ser a chave para a prevenção de diversos tipos de câncer. Um estudo recente, publ… [+2947 chars]"
        ],
        [
         [
          null,
          "[Removed]"
         ],
         null,
         "[Removed]",
         "[Removed]",
         "https://removed.com",
         null,
         "1970-01-01T00:00:00Z",
         "[Removed]"
        ],
        [
         [
          null,
          "Uol.com.br"
         ],
         null,
         null,
         "Cálculo biliar bovino, chamado de pedra de fel, é usado na medicina oriental para tratar doenças respiratórias",
         "https://www1.folha.uol.com.br/mercado/2023/09/criminosos-roubam-r-2-milhoes-em-pedras-de-boi-no-interior-de-sp.shtml",
         "https://f.i.uol.com.br/fotografia/2023/09/21/1695325609650c9da9b56df_1695325609_3x2_lg.jpg",
         "2023-09-22T00:51:36Z",
         "Três homensassaltaram uma empresa de exportação no interior de São Paulo e levaram 2,7 quilos de cálculo biliar bovino, também conhecido como pedra de fel, avaliado em R$ 2 milhões, segundo a Delegac… [+1877 chars]"
        ],
        [
         [
          null,
          "Observador.pt"
         ],
         "Agência Lusa",
         "Idosos vítimas de maus tratos apresentam mais doença física e mental",
         "Dados \"assustadores\" de um estudo português revelam que os idosos que sofrem violência intra-familiar ou de cuidadores \"são muito mais doentes, têm muitas mais patologias do que a restante população\".",
         "https://observador.pt/2023/09/29/idosos-vitimas-de-maus-tratos-apresentam-mais-doenca-fisica-e-mental/",
         "https://wm.observador.pt/wm/obs/l/https%3A%2F%2Fbordalo.observador.pt%2Fv2%2Frs%3Afill%3A770%3A403%2Fc%3A2121%3A1192%3Anowe%3A0%3A111%2Fq%3A85%2Fplain%2Fhttps%3A%2F%2Fs3.observador.pt%2Fwp-content%2Fuploads%2F2022%2F02%2F09214115%2FGettyImages-1290458362.jpg",
         "2023-09-29T09:52:20Z",
         "Um estudo da Faculdade de Medicina da Universidade do Porto (FMUP) revelou que os idosos vítimas de maus tratos apresentam mais doença física e mental, algo “assustador” que para os investigadores de… [+3910 chars]"
        ],
        [
         [
          null,
          "Tecmundo.com.br"
         ],
         "Fabio Dominski",
         "Atividade física no trabalho faz bem?",
         "Este texto foi escrito por um colunista do TecMundo; saiba mais no final.\"Eu me movimento bastante no trabalho, não preciso de exercícios”, já ouviu alguém falar isso? Essa pessoa provavelmente tem uma alta demanda energética em seu trabalho e acredita que is…",
         "https://www.tecmundo.com.br/ciencia/271824-atividade-fisica-trabalho.htm",
         "https://tm.ibxk.com.br/2023/09/20/20121343539166.jpg",
         "2023-09-20T17:00:00Z",
         "Este texto foi escrito por um colunista do TecMundo; saiba mais no final.\r\n\"Eu me movimento bastante no trabalho, não preciso de exercícios, já ouviu alguém falar isso? Essa pessoa provavelmente tem … [+5260 chars]"
        ],
        [
         [
          null,
          "Tecmundo.com.br"
         ],
         "Jennifer Egues",
         "SUS Digital: uso inteligência artificial pode melhorar a saúde pública?",
         "O Ministério da Saúde estuda implementar ferramentas de Inteligência Artificial (IA) no Sistema Único de Saúde, objetivando melhorar o atendimento, agilizando processos e estendo atendimento a regiões de difícil acesso físico.Para a pasta, a implementação da …",
         "https://www.tecmundo.com.br/ciencia/267730-sus-digital-uso-inteligencia-artificial-melhorar-saude-publica.htm",
         "https://tm.ibxk.com.br/2023/08/18/18144410198207.jpg",
         "2023-09-04T14:30:01Z",
         "O Ministério da Saúde estuda implementar ferramentas de Inteligência Artificial (IA) no Sistema Único de Saúde, objetivando melhorar o atendimento, agilizando processos e estendo atendimento a regiõe… [+5930 chars]"
        ],
        [
         [
          null,
          "Sapo.pt"
         ],
         "Ana Sofia Neto",
         "Afinal, o açúcar prejudica ou não a saúde?",
         "O açúcar está em tantos alimentos que, certamente, surpreender-se-ia com alguns deles. Mas, assim sendo, será assim tão prejudicial? É um tema complexo, como muitos deles na nutrição, e parece ser pouco claro para...",
         "https://pplware.sapo.pt/ciencia/afinal-o-acucar-prejudica-ou-nao-a-saude/",
         "https://pplware.sapo.pt/wp-content/uploads/2023/09/bolo00.jpg",
         "2023-09-15T20:00:17Z",
         "O açúcar está em tantos alimentos que, certamente, surpreender-se-ia com alguns deles. Mas, assim sendo, será assim tão prejudicial?\r\nÉ um tema complexo, como muitos deles na nutrição, e parece ser p… [+3659 chars]"
        ],
        [
         [
          null,
          "Observador.pt"
         ],
         "Observador",
         "Descoberta nova célula no cérebro que pode ajudar a estudar o Alzheimer",
         "Novo estudo revela a existência de uma nova célula, que pode ajudar a explicar o desenvolvimento de doenças neurodegenerativas e a localizar \"potenciais alvos terapêuticos\".",
         "https://observador.pt/2023/09/06/descoberta-nova-celula-no-cerebro-que-pode-ajudar-a-estudar-o-alzheimer/",
         "https://wm.observador.pt/wm/obs/l/https%3A%2F%2Fbordalo.observador.pt%2Fv2%2Frs%3Afill%3A770%3A403%2Fc%3A3543%3A1993%3Anowe%3A0%3A131%2Fq%3A85%2Fplain%2Fhttps%3A%2F%2Fs3.observador.pt%2Fwp-content%2Fuploads%2F2023%2F09%2F06184926%2Fgettyimages-1487034049.jpg",
         "2023-09-06T18:08:06Z",
         "A cada três segundos, há uma pessoa no mundo a desenvolver demência. Em 2020, os dados recolhidos pelo Alzheimer’s Disease International (ADI) mostravam que havia mais de 55 milhões de pessoas a vive… [+2235 chars]"
        ],
        [
         [
          null,
          "Observador.pt"
         ],
         "Inês André Figueiredo",
         "Mosquito que transmite dengue e zika detetado em Lisboa pela primeira vez",
         "DGS reforçou a vigilância entomológica e epidemiológica, mas garantiu que não foram identificados nestes mosquitos quaisquer agentes de doenças que possam ser transmitidas às pessoas.",
         "https://observador.pt/2023/09/27/mosquito-que-transmite-dengue-e-zika-detetado-em-lisboa-pela-primeira-vez/",
         "https://wm.observador.pt/wm/obs/l/https%3A%2F%2Fbordalo.observador.pt%2Fv2%2Frs%3Afill%3A770%3A403%2Fc%3A1998%3A1126%3Anowe%3A0%3A100%2Fq%3A85%2Fplain%2Fhttps%3A%2F%2Fs3.observador.pt%2Fwp-content%2Fuploads%2F2019%2F04%2F15200407%2F20319704.jpg",
         "2023-09-27T16:25:37Z",
         "A Direção-Geral de Saúde (DGS) revelou que a espécie de mosquitos Aedes albopictus foi identificada pela primeira vez em Lisboa e alertou que este mosquito pode transmitir doenças como chikungunya, d… [+1110 chars]"
        ],
        [
         [
          null,
          "Observador.pt"
         ],
         "Carolina Sobral",
         "Cientistas criam modelo de embrião sem espermatozoide, óvulo ou útero. É o primeiro que imita em completo um embrião humano",
         "Modelo foi desenvolvido a partir de células estaminais que se organizaram em estruturas que imitam a organização 3D de um embrião real com 14 dias. O modelo deu positivo num teste de gravidez.",
         "https://observador.pt/2023/09/06/cientistas-criam-modelo-de-embriao-sem-espermatozoide-ovulo-ou-utero-e-o-primeiro-que-imita-em-completo-um-embriao-humano/",
         "https://wm.observador.pt/wm/obs/l/https%3A%2F%2Fbordalo.observador.pt%2Fv2%2Frs%3Afill%3A770%3A403%2Fc%3A2000%3A1124%3Anowe%3A0%3A104%2Fq%3A85%2Fplain%2Fhttps%3A%2F%2Fs3.observador.pt%2Fwp-content%2Fuploads%2F2019%2F02%2F28085820%2Fistock-904268950.jpg",
         "2023-09-06T16:31:46Z",
         "Sem recurso a espermatozoide, óvulos ou um útero, cientistas criaram pela primeira vez um modelo de embriões humanos que imita de forma completa todas as características conhecidas num embrião real. … [+1946 chars]"
        ],
        [
         [
          null,
          "Observador.pt"
         ],
         "Sofia Teixeira",
         "Que ondas cerebrais são estas?",
         "O cérebro emite misteriosos padrões de atividade que estão alterados em doentes  com doenças neurológicas ou psiquiátricas. Na Universidade do Minho, Joana Cabral tenta conhecer melhor estes sinais.",
         "https://observador.pt/2023/09/25/que-ondas-cerebrais-sao-estas/",
         "https://wm.observador.pt/wm/obs/l/https%3A%2F%2Fbordalo.observador.pt%2Fv2%2Frs%3Afill%3A770%3A403%2Fc%3A3200%3A1796%3Anowe%3A0%3A340%2Fq%3A85%2Fplain%2Fhttps%3A%2F%2Fs3.observador.pt%2Fwp-content%2Fuploads%2F2023%2F09%2F25012852%2F0-20230807-goncalo-villaverde-0205.jpg",
         "2023-09-25T13:49:21Z",
         "Uma iniciativa\r\nHá momentos em que o cérebro de Joana Cabral parece um carro de Fórmula Um: é muito difícil de acompanhar quando acelera a fundo. Salta de raciocínio em raciocínio, estabelece pontes … [+12097 chars]"
        ],
        [
         [
          null,
          "Terra.com.br"
         ],
         "Elas no Tapete Vermelho",
         "VMA 2023: Anitta repete grife de 2022 e elege look Schiaparelli",
         "A Schiaparelli tem em seu DNA o surrealismo. Fato esse que agrada em cheio famosas, como Anitta, ...",
         "https://www.terra.com.br/vida-e-estilo/autocuidado/moda/vma-2023-anitta-repete-grife-de-2022-e-elege-look-schiaparelli,fee499f8c205c826421124c9561fae83mmokijah.html",
         "https://p2.trrsf.com/image/fget/cf/1200/630/middle/images.terra.com/2023/09/12/1728798519-37802777434786638823962214802485532612152661n-e1694562071640.jpg",
         "2023-09-12T23:48:05Z",
         "A Schiaparelli tem em seu DNA o surrealismo. Fato esse que agrada em cheio famosas, como Anitta, que pelo segundo ano consecutivo elegeu a grife francesa para cruzar o tapete vermelho do VMA (Video M… [+1146 chars]"
        ],
        [
         [
          null,
          "Pragmatismopolitico.com.br"
         ],
         "Redação",
         "Benefícios das substâncias encontradas no vinho: uma análise científica",
         "É importante ter cuidado ao consumi-lo e sempre respeitar as contraindicações e limites recomendados. É possível encontrar de forma acessível bons vinhos no mercado, mas é fundamental ter consciência dos riscos e sempre consumir com moderação\nO post Benefício…",
         "https://www.pragmatismopolitico.com.br/2023/10/beneficios-substancias-encontradas-vinho-analise-cientifica.html",
         "https://www.pragmatismopolitico.com.br/wp-content/uploads/2023/10/beneficios-substancias-encontradas-vinho-analise-cientifica.jpg",
         "2023-10-02T11:30:18Z",
         "É importante ter cuidado ao consumi-lo e sempre respeitar as contraindicações e limites recomendados. É possível encontrar de forma acessível bons vinhos no mercado, mas é fundamental ter consciência… [+22678 chars]"
        ],
        [
         [
          null,
          "Olhardigital.com.br"
         ],
         "Alessandro Di Lorenzo",
         "EUA: vacina experimental contra HIV será testada em humanos",
         "No total, 95 participantes serão divididos em grupos, com três deles recebendo dosagens diferentes da vacina contra o HIV\nO post EUA: vacina experimental contra HIV será testada em humanos apareceu primeiro em Olhar Digital.",
         "https://olhardigital.com.br/2023/09/22/medicina-e-saude/eua-vacina-experimental-contra-hiv-sera-testada-em-humanos/",
         "https://proxy.olhardigital.com.br/wp-content/uploads/2022/03/HIV-capa.jpg",
         "2023-09-22T14:46:06Z",
         "A empresa Vir Biotechnology anunciou o inÃ­cio dos testes em humanos de uma vacina experimental contra o HIV. A companhia norte-americana disse que espera ter os dados iniciais dos trabalhos de fase … [+2542 chars]"
        ],
        [
         [
          null,
          "Olhardigital.com.br"
         ],
         "Lucas Gabriel Machado Henriques",
         "Como a inteligência artificial pode ajudar na saúde mental",
         "Entenda como a inteligência artificial pode ser usada para auxiliar no combate aos transtornos psicológicos e ajudar na saúde mental\nO post Como a inteligência artificial pode ajudar na saúde mental apareceu primeiro em Olhar Digital.",
         "https://olhardigital.com.br/2023/09/11/medicina-e-saude/como-a-inteligencia-artificial-pode-ajudar-na-saude-mental/",
         "https://img.olhardigital.com.br/wp-content/uploads/2023/09/capa-1.jpg",
         "2023-09-11T15:33:19Z",
         "Com a crescente utilizaÃ§Ã£o da inteligÃªncia artificial em diversos setores da indÃºstria e da sociedade, muitas tÃ©cnicas que usam essa tecnologia surgiram para melhorar o dia a dia das pessoas, au… [+2927 chars]"
        ],
        [
         [
          null,
          "Olhardigital.com.br"
         ],
         "Pedro Borges Spadoni",
         "Imunologista vence prêmio de inovação por tratamento contra câncer",
         "O imunologista Michel Sadelain levou o prêmio Breakthrough por seu trabalho pioneiro na terapia com células CAR-T para câncer\nO post Imunologista vence prêmio de inovação por tratamento contra câncer apareceu primeiro em Olhar Digital.",
         "https://olhardigital.com.br/2023/09/14/medicina-e-saude/imunologista-vence-premio-de-inovacao-por-tratamento-contra-cancer/",
         "https://img.olhardigital.com.br/wp-content/uploads/2023/09/Destaque-Michel-Sadelain-imunologista-cancer.jpg",
         "2023-09-15T01:08:01Z",
         "O imunologista francÃªs-canadense Michel Sadelain venceu o prestigiado prÃªmio Breakthrough nesta quinta-feira (14) por seu trabalho pioneiro na terapia com cÃ©lulas CAR-T â uma nova forma de trata… [+3677 chars]"
        ],
        [
         [
          null,
          "Olhardigital.com.br"
         ],
         "Lucas Soares",
         "Alienígenas do México são reais? Entenda a polêmica",
         "Nesta quarta-feira (13) o mundo a ufologia foi surpreendido com uma apresentação no congresso mexicano onde um ufólogo mostrou supostos cadáveres de alienígenas. Pelo histórico polêmico do pesquisador, a notícia já foi encarada com ceticismo. De acordo com o …",
         "https://olhardigital.com.br/2023/09/14/ciencia-e-espaco/alienigenas-do-mexico-sao-reais-entenda-a-polemica/",
         "https://img.olhardigital.com.br/wp-content/uploads/2023/09/alienigenas-mexico.jpg",
         "2023-09-14T16:03:07Z",
         "Nesta quarta-feira (13) o mundo a ufologia foi surpreendido com uma apresentaÃ§Ã£o no congresso mexicano onde um ufÃ³logo mostrou supostos cadÃ¡veres de alienÃ­genas. Pelo histÃ³rico polÃªmico do pes… [+2991 chars]"
        ],
        [
         [
          null,
          "Olhardigital.com.br"
         ],
         "Mateus Dias",
         "Ufólogo de supostos aliens do México já foi desmascarado outras vezes",
         "Jaime Maussan apresentou no México restos mortais de alienígenas, no entanto, toda essa historia pode ser mentira\nO post Ufólogo de supostos aliens do México já foi desmascarado outras vezes apareceu primeiro em Olhar Digital.",
         "https://olhardigital.com.br/2023/09/14/ciencia-e-espaco/ufologo-de-supostos-aliens-do-mexico-ja-foi-desmascarado-outras-vezes/",
         "https://img.olhardigital.com.br/wp-content/uploads/2023/09/Jaime-Maussan.jpg",
         "2023-09-14T20:07:00Z",
         "Na terÃ§a-feira (12), o ufÃ³logo e jornalista Jaime Maussan apresentou ao Congresso do MÃ©xico os restos mortais de dois supostos alienÃ­genas. A demonstraÃ§Ã£o dos espÃ©cimes aconteceu durante uma a… [+2753 chars]"
        ],
        [
         [
          null,
          "Tecmundo.com.br"
         ],
         "Jorge Marin",
         "Google DeepMind: nova ferramenta de IA prevê doenças genéticas",
         "Um novo programa de inteligência artificial desenvolvido por cientistas do Google DeepMind é capaz de prever se milhões de mutações genéticas presentes em nossa sequência de DNA que são inofensivas ou propensas a causar doenças no futuro. Batizada como AlphaM…",
         "https://www.tecmundo.com.br/ciencia/271822-google-deepmind-nova-ferramenta-ia-preve-doencas-geneticas.htm",
         "https://tm.ibxk.com.br/2023/09/20/20120248396161.jpg",
         "2023-09-20T15:15:00Z",
         "Um novo programa de inteligência artificial desenvolvido por cientistas do Google DeepMind é capaz de prever se milhões de mutações genéticas presentes em nossa sequência de DNA que são inofensivas o… [+2940 chars]"
        ],
        [
         [
          null,
          "Olhardigital.com.br"
         ],
         "Alessandro Di Lorenzo",
         "Estudo descobre novas características genéticas do Alzheimer",
         "A descoberta, segundo os pesquisadores, pode contribuir para o desenvolvimento futuro de exames de sangue para a doença de Alzheimer\nO post Estudo descobre novas características genéticas do Alzheimer apareceu primeiro em Olhar Digital.",
         "https://olhardigital.com.br/2023/09/07/medicina-e-saude/estudo-descobre-novas-caracteristicas-geneticas-do-alzheimer/",
         "https://img.olhardigital.com.br/wp-content/uploads/2023/05/Alzheimer.jpg",
         "2023-09-07T10:01:00Z",
         "Pesquisadores da Universidade de Pittsburgh, nos Estados Unidos, analisaram milhares de genomas humanos para encontrar novas variaÃ§Ãµes genÃ©ticas responsÃ¡veis por controlar os nÃ­veis de molÃ©cula… [+2542 chars]"
        ],
        [
         [
          null,
          "Sapo.pt"
         ],
         "Ana Sofia Neto",
         "Cérebro artificial ajuda a perceber as origens genéticas do autismo",
         "Uma nova técnica científica está a revelar as origens genéticas da perturbação do espetro do autismo (ou PEA) escondidas no nosso cérebro. O cérebro é curiosamente complexo e há muito sobre ele que ainda...",
         "https://pplware.sapo.pt/ciencia/cerebro-artificial-ajuda-a-perceber-as-origens-geneticas-do-autismo/",
         "https://pplware.sapo.pt/wp-content/uploads/2023/09/organoide_cerebral00.jpg",
         "2023-09-24T13:00:25Z",
         "Uma nova técnica científica está a revelar as origens genéticas da perturbação do espetro do autismo (ou PEA) escondidas no nosso cérebro.\r\nO cérebro é curiosamente complexo e há muito sobre ele que … [+3282 chars]"
        ],
        [
         [
          null,
          "Tecmundo.com.br"
         ],
         "Jorge Marin",
         "Miniórgãos descobertos em mamíferos podem gerar respostas autoimunes",
         "Pesquisadores do Instituto Federal Suíço de Tecnologia de Zurique descobriram recentemente um tipo de organela que havia permanecido não caracterizada até agora nas células dos mamíferos. O “miniórgão”, batizado como exclusoma, é feito de anéis de DNA chamado…",
         "https://www.tecmundo.com.br/ciencia/272244-miniorgaos-descobertos-mamiferos-gerar-respostas-autoimunes.htm",
         "https://tm.ibxk.com.br/2023/10/02/02154244691267.jpg",
         "2023-10-02T20:30:04Z",
         "Pesquisadores do Instituto Federal Suíço de Tecnologia de Zurique descobriram recentemente um tipo de organela que havia permanecido não caracterizada até agora nas células dos mamíferos. O miniórgão… [+3134 chars]"
        ],
        [
         [
          null,
          "Olhardigital.com.br"
         ],
         "Vitoria Lopes Gomez",
         "Vacinas erradicaram doenças que, antes, matavam mais que guerras",
         "Doenças como a poliomielite e a varíola, que mataram milhões no século passado, desapareceram graças às vacinas\nO post Vacinas erradicaram doenças que, antes, matavam mais que guerras apareceu primeiro em Olhar Digital.",
         "https://olhardigital.com.br/2023/09/08/medicina-e-saude/vacinas-erradicaram-doencas-que-antes-matavam-mais-que-guerras/",
         "https://img.olhardigital.com.br/wp-content/uploads/2023/07/vacina-e1692890816557.jpg",
         "2023-09-08T20:30:20Z",
         "NÃ£o Ã© incomum ouvir falar sobre a gravidade de doenÃ§as que hoje sequer nos lembramos. Ã o caso, por exemplo, da varÃ­ola e da poliomielite. Ambas mataram milhÃµes de pessoas no sÃ©culo passado, m… [+2308 chars]"
        ],
        [
         [
          null,
          "Olhardigital.com.br"
         ],
         "Alessandro Di Lorenzo",
         "IA brasileira é capaz de prever doenças com antecedência",
         "A IA Dara pode coletar dados e realizar uma rápida varredura em todo o histórico médico do paciente, indicando riscos de saúde\nO post IA brasileira é capaz de prever doenças com antecedência apareceu primeiro em Olhar Digital.",
         "https://olhardigital.com.br/2023/09/29/medicina-e-saude/ia-brasileira-e-capaz-de-prever-doencas-com-antecedencia/",
         "https://proxy.olhardigital.com.br/wp-content/uploads/2023/09/iStock-1411998514.jpg",
         "2023-09-29T21:04:45Z",
         "Uma inteligÃªncia artificial desenvolvida por uma empresa brasileira pode ajudar a prevenir doenÃ§as como acidente vascular cerebral (AVC), infarto e diabetes, por exemplo. A Dara foi criada pela IPM… [+1959 chars]"
        ],
        [
         [
          null,
          "Sapo.pt"
         ],
         "Rui Jorge",
         "Cientistas adaptam a Realidade Virtual para utilização em consultas remotas",
         "Os investigadores da Universidade de Canterbury criaram um headset de realidade virtual (RV) que poderá ser utilizado pelos médicos para realizar avaliações médicas de pacientes que vivem em zonas rurais, têm doenças infeciosas ou...",
         "https://pplware.sapo.pt/high-tech/cientistas-adaptam-a-realidade-virtual-para-utilizacao-em-consultas-remotas/",
         "https://pplware.sapo.pt/wp-content/uploads/2023/09/rv_medicina.jpg",
         "2023-09-20T14:00:25Z",
         "Os investigadores da Universidade de Canterbury criaram um headset de realidade virtual (RV) que poderá ser utilizado pelos médicos para realizar avaliações médicas de pacientes que vivem em zonas ru… [+3368 chars]"
        ],
        [
         [
          null,
          "Olhardigital.com.br"
         ],
         "Flavia Correia",
         "Bichos-da-seda transgênicos criam fibras mais resistentes do que tecido à prova de bala",
         "Usando engenharia genética, cientistas inseriram genes de aranha em bichos-da-seda para produção de tecidos mais resistentes do que Kevlar\nO post Bichos-da-seda transgênicos criam fibras mais resistentes do que tecido à prova de bala apareceu primeiro em Olha…",
         "https://olhardigital.com.br/2023/09/26/ciencia-e-espaco/bichos-da-seda-transgenicos-criam-fibras-mais-resistentes-do-que-tecido-a-prova-de-bala/",
         "https://proxy.olhardigital.com.br/wp-content/uploads/2023/09/bicho-da-seda.jpg",
         "2023-09-26T19:18:52Z",
         "Cientistas utilizaram engenharia genÃ©tica para gerar bichos-da-seda capazes de produzir fibras mais resistentes do que o Kevlar, tambÃ©m chamado de poliaramida â material usado em coletes Ã  prova… [+3623 chars]"
        ],
        [
         [
          null,
          "Olhardigital.com.br"
         ],
         "Alessandro Di Lorenzo",
         "Estudo indica onde fica o lar original da humanidade",
         "Pesquisadores criaram uma rede de quase 27 milhões de ancestrais, desenvolvendo uma gigantesca árvore genealógica da humanidade\nO post Estudo indica onde fica o lar original da humanidade apareceu primeiro em Olhar Digital.",
         "https://olhardigital.com.br/2023/09/14/ciencia-e-espaco/estudo-indica-onde-fica-o-lar-original-da-humanidade/",
         "https://img.olhardigital.com.br/wp-content/uploads/2022/03/deserto.jpg",
         "2023-09-14T20:40:37Z",
         "A histÃ³ria da humanidade Ã© marcada pelas migraÃ§Ãµes. Por milhares de anos, nossa espÃ©cie se deslocou pela Terra em busca de Ã¡gua, alimentos e tudo o que proporciona uma vida melhor. Mas existe u… [+2407 chars]"
        ],
        [
         [
          null,
          "Olhardigital.com.br"
         ],
         "Alessandro Di Lorenzo",
         "Segundo transplante com coração de porco para humano é feito com sucesso",
         "O coração de porco transplantado tem 10 modificações genéticas para reduzir o risco de ser recusado pelo corpo do paciente\nO post Segundo transplante com coração de porco para humano é feito com sucesso apareceu primeiro em Olhar Digital.",
         "https://olhardigital.com.br/2023/09/22/medicina-e-saude/segundo-transplante-com-coracao-de-porco-para-humano-e-feito-com-sucesso/",
         "https://proxy.olhardigital.com.br/wp-content/uploads/2023/09/Transplante-1.jpg",
         "2023-09-22T19:33:57Z",
         "Pela segunda vez na histÃ³ria, cirurgiÃµes transplantaram o coraÃ§Ã£o de um porco em um homem na tentativa de prolongar sua vida. A operaÃ§Ã£o foi um sucesso e, dois dias depois, o paciente estava fa… [+2546 chars]"
        ],
        [
         [
          null,
          "Olhardigital.com.br"
         ],
         "Mateus Dias",
         "Cientistas encontram povo na África que acreditavam ter sumido",
         "Apesar da língua da população estar deixando de existir, suas distinções genéticas continuam presente nos descendentes\nO post Cientistas encontram povo na África que acreditavam ter sumido apareceu primeiro em Olhar Digital.",
         "https://olhardigital.com.br/2023/09/27/ciencia-e-espaco/cientistas-encontram-povo-na-africa-que-acreditavam-ter-sumido/",
         "https://olhardigital.com.br/wp-content/uploads/2023/09/ultimos-faantes-do-Kwadi.webp",
         "2023-09-27T19:34:40Z",
         "A Ãfrica Austral abriga uma regiÃ£o conhecida como berÃ§o da humanidade, local onde os primeiros hominÃ­deos surgiram. Por causa disso, Ã© possÃ­vel encontrar a maior diversidade genÃ©tica humana po… [+2079 chars]"
        ],
        [
         [
          null,
          "[Removed]"
         ],
         null,
         "[Removed]",
         "[Removed]",
         "https://removed.com",
         null,
         "1970-01-01T00:00:00Z",
         "[Removed]"
        ],
        [
         [
          null,
          "Tecmundo.com.br"
         ],
         "Jennifer Egues",
         "Dara, a IA capaz de prever infartos e AVCs com dados do SUS",
         "Nova inteligência artificial, desenvolvida pela empresa IPM Sistemas, uma GovTech brasileira, pode ser utilizada no serviço público de saúde, otimizando dados e gerando sinais de alerta para doenças como acidente vascular cerebral, infarto e previsões com até…",
         "https://www.tecmundo.com.br/ciencia/272151-dara-ia-capaz-prever-infartos-avcs-dados-sus.htm",
         "https://tm.ibxk.com.br/2023/09/28/28172505232225.jpg",
         "2023-09-29T13:00:00Z",
         "Nova inteligência artificial, desenvolvida pela empresa IPM Sistemas, uma GovTech brasileira, pode ser utilizada no serviço público de saúde, otimizando dados e gerando sinais de alerta para doenças … [+2737 chars]"
        ],
        [
         [
          null,
          "Olhardigital.com.br"
         ],
         "Tamires Ferreira",
         "‘Vacina inversa’ pode ser a chave para tratar doenças autoimunes; entenda",
         "Ação do fármaco no sistema imunológico pode apagar a memória de ataque das moléculas\nO post ‘Vacina inversa’ pode ser a chave para tratar doenças autoimunes; entenda  apareceu primeiro em Olhar Digital.",
         "https://olhardigital.com.br/2023/09/13/medicina-e-saude/vacina-inversa-pode-ser-a-chave-para-tratar-doencas-autoimunes-entenda/",
         "https://img.olhardigital.com.br/wp-content/uploads/2023/09/doenca-autoimune.jpg",
         "2023-09-13T17:37:31Z",
         "Um novo tipo de vacina desenvolvida por pesquisadores da Escola Pritzker de Engenharia Molecular (PME)Â pode ser o novo tratamento mais promissor contra doenÃ§as autoimunes. Com uma proposta de aÃ§Ã£… [+2774 chars]"
        ],
        [
         [
          null,
          "Olhardigital.com.br"
         ],
         "Alessandro Di Lorenzo",
         "Google: pesquisadores fazem descoberta histórica sobre proteínas do corpo humano",
         "Foram catalogadas 71 milhões de mutações e um terço delas poderia causar doenças. Apenas 4 milhões já eram conhecidas pela ciência\nO post Google: pesquisadores fazem descoberta histórica sobre proteínas do corpo humano apareceu primeiro em Olhar Digital.",
         "https://olhardigital.com.br/2023/09/19/medicina-e-saude/google-pesquisadores-fazem-descoberta-historica-sobre-proteinas-do-corpo-humano/",
         "https://proxy.olhardigital.com.br/wp-content/uploads/2023/09/Proteina-1.jpg",
         "2023-09-19T19:46:08Z",
         "Pesquisadores doÂ Google DeepMind, empresa de inteligÃªncia artificial da Alphabet, catalogaram 71 milhÃµes de mutaÃ§Ãµes em proteÃ­nas do corpo humano. Ao classificÃ¡-las, eles descobriram que um te… [+3867 chars]"
        ],
        [
         [
          null,
          "[Removed]"
         ],
         null,
         "[Removed]",
         "[Removed]",
         "https://removed.com",
         null,
         "1970-01-01T00:00:00Z",
         "[Removed]"
        ],
        [
         [
          null,
          "[Removed]"
         ],
         null,
         "[Removed]",
         "[Removed]",
         "https://removed.com",
         null,
         "1970-01-01T00:00:00Z",
         "[Removed]"
        ],
        [
         [
          null,
          "Olhardigital.com.br"
         ],
         "Vitoria Lopes Gomez",
         "Estudo mostra que vape (com ou sem nicotina) paralisa células imunológicas",
         "Pesquisadores testaram e comprovaram que vapor do vape afeta o sistema imunológico, aumentando o risco de doenças respiratórias\nO post Estudo mostra que vape (com ou sem nicotina) paralisa células imunológicas apareceu primeiro em Olhar Digital.",
         "https://olhardigital.com.br/2023/09/11/medicina-e-saude/estudo-mostra-que-vape-com-ou-sem-nicotina-paralisa-celulas-imunologicas/",
         "https://img.olhardigital.com.br/wp-content/uploads/2023/09/vape-1.jpg",
         "2023-09-11T19:11:30Z",
         "O vape (ou cigarro eletrÃ´nico) ganhou terreno, especialmente entre os jovens. As fabricantes conseguiram popularizar o produto dizendo atÃ© que seria um âsubstitutoâ menos nocivo para quem queri… [+2051 chars]"
        ],
        [
         [
          null,
          "Olhardigital.com.br"
         ],
         "Vitoria Lopes Gomez",
         "Modelo matemático pode revolucionar tratamentos cardíacos",
         "Através do simulador, cientistas poderão entender o funcionamento das doenças cardíacas no coração e, assim, achar novas formas de tratá-las\nO post Modelo matemático pode revolucionar tratamentos cardíacos apareceu primeiro em Olhar Digital.",
         "https://olhardigital.com.br/2023/09/19/medicina-e-saude/modelo-matematico-pode-revolucionar-tratamentos-cardiacos/",
         "https://proxy.olhardigital.com.br/wp-content/uploads/2022/10/coracao-humano.jpg",
         "2023-09-19T07:55:00Z",
         "Um estudo feito por pesquisadores da ItÃ¡lia mostrou que a matemÃ¡tica pode salvar vidas â e prevenir infartos. Os cientistas criaram um modelo matemÃ¡tico computacional do coraÃ§Ã£o para simular o… [+1772 chars]"
        ],
        [
         [
          null,
          "Olhardigital.com.br"
         ],
         "Vitoria Lopes Gomez",
         "Fiocruz: Covid-19 avança no Sudeste e Centro-Oeste",
         "Alguns estados do Norte e Nordeste também tiveram alta nos casos de Covid-19 e de outras doenças respiratórias\nO post Fiocruz: Covid-19 avança no Sudeste e Centro-Oeste apareceu primeiro em Olhar Digital.",
         "https://olhardigital.com.br/2023/09/20/medicina-e-saude/fiocruz-covid-19-avanca-no-sudeste-e-centro-oeste/",
         "https://proxy.olhardigital.com.br/wp-content/uploads/2023/07/virus-covid-19.jpg",
         "2023-09-20T18:58:26Z",
         "A FundaÃ§Ã£o Oswaldo Cruz (Fiocruz) divulgou nesta quarta-feira (20) uma atualizaÃ§Ã£o do boletim InfoGripe, com dados de 10 a 16 de setembro. O novo relatÃ³rio mostra um aumento de casos de Covid-19… [+2167 chars]"
        ],
        [
         [
          null,
          "Olhardigital.com.br"
         ],
         "Alessandro Di Lorenzo",
         "Novo remédio imita prática de atividade física e pode reduzir peso",
         "O remédio ainda está sendo testado em ratos, mas apresenta potencial para para tratar doenças como obesidade, diabetes e perda muscular\nO post Novo remédio imita prática de atividade física e pode reduzir peso apareceu primeiro em Olhar Digital.",
         "https://olhardigital.com.br/2023/09/26/medicina-e-saude/novo-remedio-imita-pratica-de-atividade-fisica-e-pode-reduzir-peso/",
         "https://proxy.olhardigital.com.br/wp-content/uploads/2023/09/OBESIDADE-1.jpg",
         "2023-09-26T19:35:21Z",
         "JÃ¡ imaginou tomar um remÃ©dio que garante os mesmos benefÃ­cios que a atividade fÃ­sica? Talvez isso nunca seja totalmente possÃ­vel, mas testes em ratos de um novo tipo de droga tÃªm se mostrado pr… [+3292 chars]"
        ],
        [
         [
          null,
          "Olhardigital.com.br"
         ],
         "Alisson Santos",
         "Autoridades de saúde dos EUA sugerem antibiótico para combater DSTs",
         "Segundo autoridades, o medicamento deve servir como “pílula do dia seguinte” contra as doenças\nO post Autoridades de saúde dos EUA sugerem antibiótico para combater DSTs apareceu primeiro em Olhar Digital.",
         "https://olhardigital.com.br/2023/10/03/medicina-e-saude/autoridades-de-saude-dos-eua-sugerem-antibiotico-para-combater-dsts/",
         "https://proxy.olhardigital.com.br/wp-content/uploads/2023/09/Novos-antibioticos-1.jpg",
         "2023-10-03T09:40:00Z",
         "Autoridades de saÃºde dos Estados Unidos estÃ£o planejando apoiar o uso de antibiÃ³tico barato no combate as doenÃ§as sexualmente transmissÃ­veis (DSTs). Com os registros de contaminaÃ§Ã£o subindo em… [+1637 chars]"
        ],
        [
         [
          null,
          "Tecmundo.com.br"
         ],
         "Lucas Vinicius Santos",
         "Método quântico é capaz de curar câncer cerebral por meio de spray; entenda",
         "De acordo com um estudo publicado na revista científica Nature Nanotechnology, uma equipe de cientistas ingleses conseguiu criar um método quântico por spray para curar um tipo de câncer cerebral. O estudo conduzido por pesquisadores Universidade de Nottingha…",
         "https://www.tecmundo.com.br/ciencia/271666-metodo-quantico-capaz-curar-cancer-cerebral-meio-spray-entenda.htm",
         "https://tm.ibxk.com.br/2023/09/15/15085246049017.jpg",
         "2023-09-15T13:00:00Z",
         "De acordo com um estudo publicado na revista científica Nature Nanotechnology, uma equipe de cientistas ingleses conseguiu criar um método quântico por spray para curar um tipo de câncer cerebral. O … [+2915 chars]"
        ],
        [
         [
          null,
          "[Removed]"
         ],
         null,
         "[Removed]",
         "[Removed]",
         "https://removed.com",
         null,
         "1970-01-01T00:00:00Z",
         "[Removed]"
        ],
        [
         [
          null,
          "[Removed]"
         ],
         null,
         "[Removed]",
         "[Removed]",
         "https://removed.com",
         null,
         "1970-01-01T00:00:00Z",
         "[Removed]"
        ],
        [
         [
          null,
          "Observador.pt"
         ],
         "Ricardo Zorron",
         "Tratar a obesidade com endoscopia, sem incisões? Sim, já é possível",
         "Nos últimos cinco anos tem existido uma verdadeira revolução nas terapias endoscópicas que possibilitam um maior acesso a tratamentos para a obesidade, uma alternativa menos invasiva e sem incisões.",
         "https://observador.pt/opiniao/tratar-a-obesidade-com-endoscopia-sem-incisoes-sim-ja-e-possivel/",
         "https://wm.observador.pt/wm-op/wide-circle/https%3A%2F%2Fbordalo.observador.pt%2Fv2%2Frs%3Afill%3A900%2Fc%3A467%3A467%3Anowe%3A9%3A3%2Fq%3A86%2Fplain%2Fhttps%3A%2F%2Fs3.observador.pt%2Fwp-content%2Fuploads%2F2023%2F09%2F15111743%2Fwhatsapp-image-2023-09-12-at-164340.jpeg",
         "2023-09-17T23:03:43Z",
         "Através de uma abordagem minimamente invasiva, as técnicas endoscópicas desempenham um papel cada vez mais relevante no tratamento da obesidade, ajudando as pessoas a perder peso e a controlar doença… [+3854 chars]"
        ],
        [
         [
          null,
          "[Removed]"
         ],
         null,
         "[Removed]",
         "[Removed]",
         "https://removed.com",
         null,
         "1970-01-01T00:00:00Z",
         "[Removed]"
        ],
        [
         [
          null,
          "Sapo.pt"
         ],
         "Marisa Pinto",
         "Cão-robot com Raspberry Pi ensina espanhol a crianças surdas",
         "É incrível a quantidade de tecnologia que nos dias que correm ajudam significativamente em áreas como a saúde, terapias, reabilitação, aprendizagem, entre outras. Nesse sentido, vamos hoje conhecer o Robins, um cão-robot com raspberry...",
         "https://pplware.sapo.pt/gadgets/cao-robot-com-raspberry-pi-ensina-espanhol-a-criancas-surdas/",
         "https://pplware.sapo.pt/wp-content/uploads/2023/09/cao-robot_0.jpg",
         "2023-09-05T13:00:03Z",
         "É incrível a quantidade de tecnologia que nos dias que correm ajudam significativamente em áreas como a saúde, terapias, reabilitação, aprendizagem, entre outras. Nesse sentido, vamos hoje conhecer o… [+1876 chars]"
        ],
        [
         [
          null,
          "Www.tsf.pt"
         ],
         "Lusa",
         "Morreu Ian Wilmut, \"pai\" da ovelha Dolly",
         "O trabalho do especialista em embriologia foi considerado fundamental para a investigação que visa tratar doenças genéticas e degenerativas ajudando o corpo a reparar tecidos danificados.",
         "https://www.tsf.pt/mundo/morreu-ian-wilmut-pai-da-ovelha-dolly-17006400.html",
         "https://static.globalnoticias.pt/tsf/image.jpg?brand=TSF&type=generate&guid=d460562f-c697-4222-b4fd-8dc02af92e59&w=800&h=420&watermark=true&t=20230911191400",
         "2023-09-11T18:14:00Z",
         "O cientista afastou-se do meio académico em 2012 e em 2018 tornou público que tinha a doença de Parkinson\r\n© Naokazu Oinuma/AP (arquivo)\r\nO biólogo britânicoIan Wilmut, \"pai\" da ovelha Dolly, o prime… [+1949 chars]"
        ],
        [
         [
          null,
          "Observador.pt"
         ],
         "Maria Raimundo",
         "Boa nutrição é bom negócio",
         "A personalização está a tornar-se fundamental na prevenção e gestão de doenças. Isto torna a nutrição personalizada e a medicina de precisão componentes essenciais na prevenção e gestão de doenças.",
         "https://observador.pt/opiniao/boa-nutricao-e-bom-negocio/",
         "https://wm.observador.pt/wm-op/wide-circle/https%3A%2F%2Fbordalo.observador.pt%2Fv2%2Frs%3Afill%3A900%2Fc%3A467%3A467%3Anowe%3A0%3A0%2Fq%3A86%2Fplain%2Fhttps%3A%2F%2Fs3.observador.pt%2Fwp-content%2Fuploads%2F2020%2F07%2F27203316%2Fmr_obs_467x467_acf_cropped.jpg",
         "2023-09-11T23:09:08Z",
         "A má nutrição está a desafiar quase todos os aspectos da nossa sociedade, contribuindo para problemas de saúde, desigualdades na saúde, no acesso à mesma, e nas despesas evitáveis com cuidados de saú… [+9116 chars]"
        ],
        [
         [
          null,
          "Observador.pt"
         ],
         "Inês Capucho",
         "DeepMind, da Google, desenvolve programa com Inteligência Artificial que prevê se mutações de ADN podem causar doenças",
         "As previsões do programa AlphaMissense, desenvolvido pela DeepMind, sobre as chamadas mutações \"missense\" podem ajudar a acelerar a investigação e o diagnóstico de doenças raras.",
         "https://observador.pt/2023/09/20/deepmind-da-google-desenvolve-programa-com-inteligencia-artificial-que-preve-se-mutacoes-de-adn-podem-causar-doencas/",
         "https://wm.observador.pt/wm/obs/l/https%3A%2F%2Fbordalo.observador.pt%2Fv2%2Frs%3Afill%3A770%3A403%2Fc%3A3504%3A1973%3Anowe%3A0%3A532%2Fq%3A85%2Fplain%2Fhttps%3A%2F%2Fs3.observador.pt%2Fwp-content%2Fuploads%2F2022%2F02%2F24081421%2FGettyImages-90739363.jpg",
         "2023-09-20T17:45:28Z",
         "A DeepMind, detida pela Google, utilizou a Inteligência Artificial para identificar mutações de ADN que podem causar doenças. É através do programa AlphaMissense, desenvolvido por cientistas, que a e… [+1752 chars]"
        ],
        [
         [
          null,
          "Abril.com.br"
         ],
         "Diogo Sponchiato",
         "Nobel vai para descobertas que resultaram nas vacinas de RNA para Covid-19",
         "Láurea em Medicina é concedida a dois pesquisadores pelos trabalhos que culminaram na nova geração de vacinas que ajudou a deter a pandemia",
         "https://veja.abril.com.br/saude/nobel-de-medicina-2023-vacina-covid",
         "https://veja.abril.com.br/wp-content/uploads/2023/10/490_envelhecer-vacina-gripe.png?w=680&h=453&crop=1",
         "2023-10-02T09:59:49Z",
         "O Prêmio Nobel de Fisiologia ou Medicina de 2023 reconhece dois pesquisadores por suas descobertas fundamentais que permitiram criar as primeiras vacinas de RNA da história, as mesmas que ajudaram a … [+2446 chars]"
        ],
        [
         [
          null,
          "Abril.com.br"
         ],
         "Diogo Sponchiato",
         "Do que falamos quando falamos em demência",
         "Quadro que solapa a memória e outras habilidades cognitivas tem diversas causas, mas o Alzheimer é a principal delas",
         "https://veja.abril.com.br/coluna/letra-de-medico/do-que-falamos-quando-falamos-em-demencia",
         "https://veja.abril.com.br/wp-content/uploads/2023/09/envelhecer-cerebro.png?w=680&h=449&crop=1",
         "2023-09-21T10:12:08Z",
         "Demência é um diagnóstico clínico que indica a redução progressiva das capacidades cerebrais, levando à perda de autonomia e da qualidade de vida. Dentre múltiplas causas, a doença de Alzheimer é a m… [+3622 chars]"
        ],
        [
         [
          null,
          "[Removed]"
         ],
         null,
         "[Removed]",
         "[Removed]",
         "https://removed.com",
         null,
         "1970-01-01T00:00:00Z",
         "[Removed]"
        ],
        [
         [
          null,
          "Abril.com.br"
         ],
         "Simone Blanes",
         "MSD inicia última fase de estudo para comprimido que reduz colesterol ruim",
         "Chamado de MK-0616, o remédio experimental inibe a ação de PCSK9. Se aprovado, será o primeiro comprimido oral dessa categoria",
         "https://veja.abril.com.br/saude/msd-inicia-ultima-fase-de-estudo-para-comprimido-que-reduz-colesterol-ruim",
         "https://veja.abril.com.br/wp-content/uploads/2016/05/estatina-remedio-colesterol-20121108-original.jpeg?quality=90&strip=info&w=620&h=349&crop=1",
         "2023-09-04T18:03:54Z",
         "A MSD iniciou um programa clínico de Fase 3 para um inibidor oral de PCSK9, avaliado para o tratamento de hipercolesterolemia, ou seja, a redução do colesterol da lipoproteína de baixa densidade (LDL… [+2295 chars]"
        ],
        [
         [
          null,
          "Olhardigital.com.br"
         ],
         "Alessandro Di Lorenzo",
         "Descoberta de pesquisadores da USP pode ajudar no combate ao câncer",
         "Pesquisadores identificaram o mecanismo envolvido na replicação e reparo de DNA, o que pode ajudar no tratamento contra o câncer\nO post Descoberta de pesquisadores da USP pode ajudar no combate ao câncer apareceu primeiro em Olhar Digital.",
         "https://olhardigital.com.br/2023/09/21/medicina-e-saude/descoberta-de-pesquisadores-da-usp-pode-ajudar-no-combate-ao-cancer/",
         "https://proxy.olhardigital.com.br/wp-content/uploads/2023/05/Destaque-tratamento-cancer.jpg",
         "2023-09-21T17:55:31Z",
         "Uma descoberta de pesquisadores do Instituto de QuÃ­mica da USP e de duas universidades da Inglaterra pode auxiliar no combate a diferentes tipos de cÃ¢ncer. Os cientistas identificaram o mecanismo e… [+4889 chars]"
        ],
        [
         [
          null,
          "Abril.com.br"
         ],
         "Paula Felix",
         "Novo estudo com terapia inovadora contra câncer é autorizado pela Anvisa",
         "Ensaio com células geneticamente modificadas, as CAR-T, será conduzido pela Fundação Hemocentro de Ribeirão Preto e Instituto Butantan",
         "https://veja.abril.com.br/saude/novo-estudo-com-terapia-inovadora-contra-cancer-e-autorizado-pela-anvisa",
         "https://veja.abril.com.br/wp-content/uploads/2017/11/cancer-car-t-terapia-17.jpg?quality=90&strip=info&w=680&h=453&crop=1",
         "2023-09-26T23:12:38Z",
         "A Agência Nacional de Vigilância Sanitária (Anvisa) autorizou nesta terça-feira, 26, um novo ensaio clínico nacional com CAR-T, terapia inovadora com células geneticamente modificadas que agem contra… [+2746 chars]"
        ],
        [
         [
          null,
          "Terra.com.br"
         ],
         "Deutsche Welle",
         "Por que você deve a sua vida a uns poucos humanos primitvos?",
         "Análises genéticas apontam que quase todos os nossos ancestrais morreram em uma catástrofe ...",
         "https://www.terra.com.br/noticias/por-que-voce-deve-a-sua-vida-a-uns-poucos-humanos-primitvos,4f56bf2b1e4ab45dbafda310e9294f1coffppy18.html",
         "https://p2.trrsf.com/image/fget/cf/1200/630/middle/images.terra.com/2023/09/05/1696209846-58045134354.jpg",
         "2023-09-05T18:08:14Z",
         "Análises genéticas apontam que quase todos os nossos ancestrais morreram em uma catástrofe natural 900 mil anos atrás. Apenas 1.280 indivíduos teriam sobrevivido. Uma parte deles está em você.Imagine… [+4310 chars]"
        ],
        [
         [
          null,
          "Googlediscovery.com"
         ],
         "Renê Fraga",
         "Mark Zuckerberg anuncia IA generativa para curar todas as doenças",
         "A Chan Zuckerberg Initiative (CZI), organização filantrópica fundada por Priscilla Chan e Mark Zuckerberg, anunciou um projeto inovador de inteligência",
         "https://googlediscovery.com/2023/09/20/mark-zuckerberg-anuncia-ia-generativa-para-curar-todas-as-doencas/",
         "https://cdn.googlediscovery.com/wp-content/uploads/chan-zuckerberg.jpg",
         "2023-09-20T16:59:48Z",
         "A Chan Zuckerberg Initiative (CZI), organização filantrópica fundada por Priscilla Chan e Mark Zuckerberg, anunciou um projeto inovador de inteligência artificial generativa. \r\nA iniciativa consiste … [+1695 chars]"
        ],
        [
         [
          null,
          "Abril.com.br"
         ],
         "diego.valencia",
         "Subir escadas pode reduzir o risco de doenças cardíacas em 20%, diz estudo",
         "Pesquisadores analisaram repositório de informações sobre saúde e estilo de vida com dados de mais de 458 mil adultos no Reino Unido",
         "https://veja.abril.com.br/saude/subir-escadas-pode-reduzir-o-risco-de-doencas-cardiacas-em-20-diz-estudo",
         "https://veja.abril.com.br/wp-content/uploads/2017/04/esporte-corrida-escada-20150213-018.jpg?quality=90&strip=info&w=680&h=453&crop=1",
         "2023-10-03T17:00:59Z",
         "Odeia quando o elevador quebra? De fato, é um incômodo, mas subir lances de escada pode salvar sua vida, de acordo com um novo estudo da Universidade de Tulane, em Louisiana, nos Estados Unidos.\r\nPes… [+1324 chars]"
        ],
        [
         [
          null,
          "[Removed]"
         ],
         null,
         "[Removed]",
         "[Removed]",
         "https://removed.com",
         null,
         "1970-01-01T00:00:00Z",
         "[Removed]"
        ],
        [
         [
          null,
          "[Removed]"
         ],
         null,
         "[Removed]",
         "[Removed]",
         "https://removed.com",
         null,
         "1970-01-01T00:00:00Z",
         "[Removed]"
        ],
        [
         [
          null,
          "Abril.com.br"
         ],
         "Diogo Sponchiato",
         "‘A saúde climática e a humana andam de mãos dadas’",
         "Em entrevista exclusiva, CEO global da AstraZeneca expõe os desafios da sustentabilidade do sistema de saúde e por onde caminha o futuro da medicina",
         "https://veja.abril.com.br/saude/a-saude-climatica-e-a-humana-andam-de-maos-dadas",
         "https://veja.abril.com.br/wp-content/uploads/2023/09/AZ3087-BoD-Pascal-Soriot-2022.jpg?quality=90&strip=info&w=680&h=453&crop=1",
         "2023-09-19T11:16:22Z",
         "Não dá para falar sobre a sustentabilidade dos sistemas de saúde sem falar de outra sustentabilidade, a ambiental – e vice-versa. É o que defende o francês Pascal Soriot, CEO global da biofarmacêutic… [+14790 chars]"
        ],
        [
         [
          null,
          "Abril.com.br"
         ],
         "Da Redação",
         "Morre cientista que liderou criação de Dolly, o primeiro animal clonado",
         "Feito gerou manchetes e debates éticos acalorados em 1996",
         "https://veja.abril.com.br/mundo/morre-cientista-que-liderou-criacao-de-dolly-o-primeiro-animal-clonado",
         "https://veja.abril.com.br/wp-content/uploads/2023/09/WhatsApp-Image-2023-09-11-at-15.46.58.jpeg?quality=90&strip=info&w=680&h=453&crop=1",
         "2023-09-11T19:03:48Z",
         "O cientista britânico Ian Wilmut, que liderou as pesquisas que resultaram na criação do primeiro animal clonado no mundo, a ovelha Dolly, morreu aos 79 anos no último domingo, 10. A morte foi anuncia… [+1984 chars]"
        ],
        [
         [
          null,
          "Olhardigital.com.br"
         ],
         "Rodrigo Mozelli",
         "Anvisa autoriza ensaio clínico com CAR-T Cell no Brasil para combater câncer",
         "Estudo tem como objetivo avaliar a segurança e eficácia do tratamento em pacientes com leucemia linfoide aguda B e linfoma não-Hodgkin B\nO post Anvisa autoriza ensaio clínico com CAR-T Cell no Brasil para combater câncer apareceu primeiro em Olhar Digital.",
         "https://olhardigital.com.br/2023/09/26/medicina-e-saude/anvisa-autoriza-ensaio-clinico-com-car-t-cell-no-brasil-para-combater-cancer/",
         "https://proxy.olhardigital.com.br/wp-content/uploads/2023/09/cancer-2.jpg",
         "2023-09-26T22:00:05Z",
         "A FundaÃ§Ã£o Hemocentro de RibeirÃ£o Preto (FUNDHERP), em parceria com o Instituto Butantan, recebeu autorizaÃ§Ã£o da Anvisa para realizar ensaio clÃ­nico no Brasil com a tÃ©cnica CAR-T Cell, que uti… [+2904 chars]"
        ],
        [
         [
          null,
          "[Removed]"
         ],
         null,
         "[Removed]",
         "[Removed]",
         "https://removed.com",
         null,
         "1970-01-01T00:00:00Z",
         "[Removed]"
        ],
        [
         [
          null,
          "B9.com.br"
         ],
         "Carlos Merigo",
         "Johnson & Johnson atualiza identidade visual e abandona seu reconhecido logotipo caligráfico",
         "A gigante da saúde, Johnson & Johnson, apresenta uma nova identidade visual. Abandona o reconhecido logotipo em caligrafia para simplificar a marca, buscando refletir sua evolução e foco em inovação. A cor vermelha também foi alterada. Por que isso é importan…",
         "https://www.b9.com.br/164509/johnson-johnson-atualiza-identidade-visual-e-abandona-seu-reconhecido-logotipo-caligrafico/",
         "https://assets.b9.com.br/wp-content/uploads/2023/09/JJ_Lobby01_HighRes-1280x677.jpg",
         "2023-09-14T17:50:25Z",
         "A gigante da saúde, Johnson &amp; Johnson, apresenta uma nova identidade visual. Abandona o reconhecido logotipo em caligrafia para simplificar a marca, buscando refletir sua evolução e foco em inova… [+1178 chars]"
        ],
        [
         [
          null,
          "Melhoresdestinos.com.br"
         ],
         "Cleverson Lima",
         "Minas Gerais! Resort all inclusive em Poços de Caldas com diárias a partir de R$ 677",
         "Poços de Caldas, no Sul de Minas Gerais, oferece uma das melhores estâncias hidrominerais da América Latina, com águas minerais usadas em diversas terapias, clima montanhês da Serra da Mantiqueira, excelente culinária e charmosa arquitetura da década de 30.  …",
         "https://www.melhoresdestinos.com.br/promocao/minas-pocos-caldas-resort",
         "https://www.melhoresdestinos.com.br/wp-content/uploads/2021/06/cassino-resort-pocos-de-caldas-capa-2021-2.jpg",
         "2023-09-23T12:00:04Z",
         "Poços de Caldas, no Sul de Minas Gerais, oferece uma das melhores estâncias hidrominerais da América Latina, com águas minerais usadas em diversas terapias, clima montanhês da Serra da Mantiqueira, e… [+1409 chars]"
        ],
        [
         [
          null,
          "Catracalivre.com.br"
         ],
         "Redação",
         "Estudo diz que menopausa precoce aumento o risco de demência",
         "Uma recente pesquisa realizada pela Universidade de Sherbrooke, no Canadá, revelou uma forte relação entre o início precoce da menopausa em mulheres e um",
         "https://catracalivre.com.br/saude-bem-estar/estudo-diz-que-menopausa-precoce-aumento-o-risco-de-demencia/",
         "https://catracalivre.com.br/cdn-cgi/image/f=auto,q=60,w=1200,h=638,fit=cover,format=jpeg/wp-content/uploads/2023/09/menopausa.jpg",
         "2023-09-28T19:30:43Z",
         "Uma recente pesquisa realizada pela Universidade de Sherbrooke, no Canadá, revelou uma forte relação entre o início precoce da menopausa em mulheres e um risco elevado de desenvolvimento de comorbida… [+1853 chars]"
        ],
        [
         [
          null,
          "Megacurioso.com.br"
         ],
         "Vivian de Souza Campos",
         "Superbactérias: como evitar a resistência aos antibióticos",
         "Superbactérias, ou bactérias resistentes a antibióticos, são cepas microbianas que desenvolveram a capacidade de resistir a um ou mais antibióticos. Essa resistência pode ocorrer devido a mutações genéticas aleatórias, ou pode ser adquirida devido ao uso inad…",
         "https://www.megacurioso.com.br//ciencia/127528-superbacterias-como-evitar-a-resistencia-aos-antibioticos.htm",
         "https://mega.ibxk.com.br/2023/10/03/03152401766265.jpg?ims=600x",
         "2023-10-03T19:00:00Z",
         "Superbactérias, ou bactérias resistentes a antibióticos, são cepas microbianas que desenvolveram a capacidade de resistir a um ou mais antibióticos. Essa resistência pode ocorrer devido a mutações ge… [+3311 chars]"
        ],
        [
         [
          null,
          "[Removed]"
         ],
         null,
         "[Removed]",
         "[Removed]",
         "https://removed.com",
         null,
         "1970-01-01T00:00:00Z",
         "[Removed]"
        ],
        [
         [
          null,
          "[Removed]"
         ],
         null,
         "[Removed]",
         "[Removed]",
         "https://removed.com",
         null,
         "1970-01-01T00:00:00Z",
         "[Removed]"
        ],
        [
         [
          null,
          "[Removed]"
         ],
         null,
         "[Removed]",
         "[Removed]",
         "https://removed.com",
         null,
         "1970-01-01T00:00:00Z",
         "[Removed]"
        ],
        [
         [
          null,
          "Terra.com.br"
         ],
         "Portal EdiCase",
         "Entenda por que doenças vasculares podem aumentar no calor",
         "Quando não cuidamos da saúde, os dias de calor torna-se um momento de alerta para o corpo, ...",
         "https://www.terra.com.br/vida-e-estilo/saude/entenda-por-que-doencas-vasculares-podem-aumentar-no-calor,52723791eadd8bccd0bd285409f363b03cid3uve.html",
         "https://p2.trrsf.com/image/fget/cf/1200/630/middle/images.terra.com/2023/09/22/1100783929-doencas-vasculares.jpeg",
         "2023-09-22T22:02:23Z",
         "Quando não cuidamos da saúde, os dias de calor torna-se um momento de alerta para o corpo, especialmente para aqueles que sofrem com problemas cardiovasculares. Isso porque, segundo dados da Sociedad… [+3207 chars]"
        ],
        [
         [
          null,
          "Abril.com.br"
         ],
         "Da Redação",
         "Medicina tecnológica para todos",
         "Assim como a terapia CAR-T, existem inúmeras abordagens terapêuticas inovadoras em desenvolvimento em centros de pesquisa ao redor do planeta",
         "https://veja.abril.com.br/coluna/coluna-claudio-lottenberg/medicina-tecnologica-para-todos",
         "https://veja.abril.com.br/wp-content/uploads/2017/11/cancer-car-t-terapia-17.jpg?quality=90&strip=info&w=680&h=453&crop=1",
         "2023-09-18T16:11:55Z",
         "A terapia com células CAR-T é um dos tratamentos mais recentes e promissores no combate aos cânceres de sangue, como o linfoma e as leucemias agudas. Ele consiste na coleta de células de defesa do pa… [+3354 chars]"
        ],
        [
         [
          null,
          "[Removed]"
         ],
         null,
         "[Removed]",
         "[Removed]",
         "https://removed.com",
         null,
         "1970-01-01T00:00:00Z",
         "[Removed]"
        ],
        [
         [
          null,
          "Terra.com.br"
         ],
         "Reuters",
         "Belga Biobest compra empresa brasileira de soluções agrícolas naturais Biotrop em acordo de US$570 mi",
         "A empresa belga de biocontrole de pragas e doenças e polinização natural para produção agrícola ...",
         "https://www.terra.com.br/economia/dinheiro-em-acao/belga-biobest-compra-empresa-brasileira-de-solucoes-agricolas-naturais-biotrop-em-acordo-de-us570-mi,92e023c86a50c8325dbc0b2d6ca40870yybi9fsw.html",
         "https://s1.trrsf.com/fe/zaz-mod-t360-icons/svg/logos/terra-16x9-borda.png",
         "2023-09-07T18:50:26Z",
         "A empresa belga de biocontrole de pragas e doenças e polinização natural para produção agrícola sustentável Biobest Group fechou acordo para adquirir a brasileira do mesmo ramo Biotrop, em um movimen… [+1927 chars]"
        ],
        [
         [
          null,
          "Observador.pt"
         ],
         "Agência Lusa",
         "Empresa da Covilhã deteta enzima que pode travar doença de Parkinson",
         "Uma empresa sediada na Covilhã está a desenvolver uma molécula que produz stress oxidativo e que pode ser moldada às necessidades do doente, permitindo que permaneçam no primeiro estágio da doença.",
         "https://observador.pt/2023/09/22/empresa-da-covilha-deteta-enzima-que-pode-travar-doenca-de-parkinson/",
         "https://wm.observador.pt/wm/obs/l/https%3A%2F%2Fbordalo.observador.pt%2Fv2%2Frs%3Afill%3A770%3A403%2Fc%3A2000%3A1124%3Anowe%3A0%3A105%2Fq%3A85%2Fplain%2Fhttps%3A%2F%2Fs3.observador.pt%2Fwp-content%2Fuploads%2F2017%2F12%2F12161206%2F19081089.jpg",
         "2023-09-22T10:33:53Z",
         "Uma empresa com sede na Covilhã está na fase de conclusão dos testes pré-clínicos de uma enzima responsável por produzir stress oxidativo que pode ser moldada para níveis que permitam evitar a progre… [+3017 chars]"
        ],
        [
         [
          null,
          "Sapo.pt"
         ],
         "Ana Sofia Neto",
         "Mosquito que transmite dengue e zika aterrou em Lisboa pela primeira vez",
         "Embora tenha sido detetada no norte de Portugal, em 2017, esta foi a primeira vez que a espécie de mosquitos aterrou em Lisboa. Há infeções que, a menos que viajemos, nos são muito distantes,...",
         "https://pplware.sapo.pt/ciencia/mosquito-que-transmite-dengue-e-zika-aterrou-em-lisboa-pela-primeira-vez/",
         "https://pplware.sapo.pt/wp-content/uploads/2023/09/Aedes-Albopictus_B00.jpg",
         "2023-09-28T08:40:24Z",
         "Embora tenha sido detetada no norte de Portugal, em 2017, esta foi a primeira vez que a espécie de mosquitos aterrou em Lisboa.\r\nHá infeções que, a menos que viajemos, nos são muito distantes, pois n… [+1448 chars]"
        ],
        [
         [
          null,
          "Catracalivre.com.br"
         ],
         "Redação",
         "Alimento comum na cozinha do brasileiro reduz risco de câncer, diz estudo",
         "Comer bem é necessário não só para manter o corpo funcionando corretamente, mas também para prevenir uma série de doenças. É por isso que, ás vezes, nos",
         "https://catracalivre.com.br/saude-bem-estar/alimento-comum-na-cozinha-do-brasileiro-reduz-risco-de-cancer-diz-estudo/",
         "https://catracalivre.com.br/cdn-cgi/image/f=auto,q=60,w=1200,h=638,fit=cover,format=jpeg/wp-content/uploads/2023/09/istock-1635263915-1.jpg",
         "2023-09-22T22:01:08Z",
         "Comer bem é necessário não só para manter o corpo funcionando corretamente, mas também para prevenir uma série de doenças.\r\nÉ por isso que, ás vezes, nos deparamos com alimentos conhecidos como “supe… [+2233 chars]"
        ],
        [
         [
          null,
          "Terra.com.br"
         ],
         "Reuters",
         "CDC dos EUA endossa vacina da Pfizer contra doença sazonal para proteger bebês",
         "O Centro de Controle e Prevenção de Doenças dos EUA (CDC, na sigla em inglês) endossou nesta ...",
         "https://www.terra.com.br/noticias/mundo/cdc-dos-eua-endossa-vacina-da-pfizer-contra-doenca-sazonal-para-proteger-bebes,98c42c6c5c276e9a6307f08a293eb128a0g5s529.html",
         "https://s1.trrsf.com/fe/zaz-mod-t360-icons/svg/logos/terra-16x9-borda.png",
         "2023-09-23T00:17:36Z",
         "O Centro de Controle e Prevenção de Doenças dos EUA (CDC, na sigla em inglês) endossou nesta sexta-feira a vacina da Pfizer contra o vírus sincicial respiratório (VSR) para mulheres que estão no terc… [+1370 chars]"
        ],
        [
         [
          null,
          "Abril.com.br"
         ],
         "Paula Felix",
         "A proteína capaz de manter a célula humana saudável por mais tempo",
         "Estudo feito por pesquisadores brasileiros e australianos aponta caminhos para tratar doenças autoimunes e até câncer",
         "https://veja.abril.com.br/saude/a-proteina-capaz-de-manter-celula-humana-saudavel-por-mais-tempo",
         "https://veja.abril.com.br/wp-content/uploads/2023/09/Celulas-humanas-coxiella.jpg?quality=90&strip=info&w=680&h=453&crop=1",
         "2023-09-11T14:45:31Z",
         "Pesquisadores da Universidade de São Paulo (USP) e colaboradores da Austrália identificaram uma proteína bacteriana capaz de manter as células humanas saudáveis por mais tempo. A descoberta pode leva… [+5133 chars]"
        ],
        [
         [
          null,
          "Olhardigital.com.br"
         ],
         "Alessandro Di Lorenzo",
         "Árvore “congelada” no tempo por milhões de anos tem mistério revelado",
         "Conhecida como \"fóssil vivo\", a árvore praticamente não sofreu alterações desde o tempo em que os dinossauros dominavam a Terra\nO post Árvore “congelada” no tempo por milhões de anos tem mistério revelado apareceu primeiro em Olhar Digital.",
         "https://olhardigital.com.br/2023/09/15/ciencia-e-espaco/arvore-congelada-no-tempo-por-milhoes-de-anos-tem-misterio-revelado/",
         "https://img.olhardigital.com.br/wp-content/uploads/2023/09/Pinheiro-1.jpg",
         "2023-09-15T17:06:28Z",
         "Cientistas da AustrÃ¡lia, Estados Unidos e ItÃ¡liaÂ decodificaram o genoma de uma rarÃ­ssima Ã¡rvore conhecida como âfÃ³ssil vivoâ. O pinheiroÂ Wollemi (Wollemia nobilis) foi descoberto em 1994 e… [+3199 chars]"
        ],
        [
         [
          null,
          "Expresso.pt"
         ],
         "Expresso",
         "Agendas mobilizadoras canalizam €480 milhões para transformar sector da saúde em três anos",
         "Plano de Recuperação e de Resiliência é central no investimento que privados e Estado preveem canalizar para o desenvolvimento de terapias inovadoras, para doenças graves como o cancro, e em novas formas de combater a resistência aos antibióticos",
         "https://expresso.pt/economia/empresas/2023-10-02-Agendas-mobilizadoras-canalizam-480-milhoes-para-transformar-sector-da-saude-em-tres-anos-17de87a9",
         "https://images.impresa.pt/expresso/2023-06-28-laboratorio-deac6dc7/1.91x1?wm=true&outputFormat=jpeg",
         "2023-10-02T14:56:57Z",
         "O Plano de Recuperação e Resiliência (PRR) irá apoiar quatro agendas mobilizadoras da saúde, que durante os próximos três anos irão captar investimentos de cerca de 180 milhões de euros do setor priv… [+2989 chars]"
        ],
        [
         [
          null,
          "BBC News"
         ],
         "https://www.facebook.com/bbcnews",
         "Sensação de estar isolado do mundo é uma das grandes preocupações do século 21",
         "Sensação de estar isolado do mundo é uma das grandes preocupações do século 21",
         "https://www.bbc.com/portuguese/media-66843698",
         "https://ichef.bbci.co.uk/news/1024/branded_portuguese/80CB/production/_131117923_mediaitem131117922.jpg",
         "2023-09-18T10:24:06Z",
         "Sensação de estar isolado do mundo é uma das grandes preocupações do século 21\r\nA solidão virou uma das grandes preocupações de saúde do século 21. \r\nComparada ao cigarro e relacionada ao risco de do… [+343 chars]"
        ],
        [
         [
          null,
          "[Removed]"
         ],
         null,
         "[Removed]",
         "[Removed]",
         "https://removed.com",
         null,
         "1970-01-01T00:00:00Z",
         "[Removed]"
        ],
        [
         [
          null,
          "Catracalivre.com.br"
         ],
         "Redação",
         "Pesquisa indica composto encontrado nestes alimentos que pode prevenir câncer",
         "Você sabia que diversas pesquisas ao longo dos anos têm apontado benefícios potenciais para a fisetina, um flavonoide com atividade antioxidante presente",
         "https://catracalivre.com.br/saude-bem-estar/pesquisa-indica-composto-encontrado-nestes-alimentos-que-previne-cancer/",
         "https://catracalivre.com.br/cdn-cgi/image/f=auto,q=60,w=1200,h=638,fit=cover,format=jpeg/wp-content/uploads/2023/09/istock-1325282418.jpg",
         "2023-09-26T10:00:45Z",
         "Você sabia que diversas pesquisas ao longo dos anos têm apontado benefícios potenciais para a fisetina, um flavonoide com atividade antioxidante presente em frutas e vegetais?\r\nEstudos epidemiológico… [+2817 chars]"
        ],
        [
         [
          null,
          "Abril.com.br"
         ],
         "diego.valencia",
         "O que a microbiota intestinal tem a ver com distúrbios neurológicos?",
         "Revisão feita por pesquisadores da Unifesp inclui doenças como Alzheimer e Parkinson e transtornos psiquiátricos como depressão e ansiedade",
         "https://veja.abril.com.br/saude/como-a-microbiota-influencia-disturbios-neurologicos-e-psiquiatricos",
         "https://veja.abril.com.br/wp-content/uploads/2020/09/câncer-de-intestino.jpg?quality=90&strip=info&w=680&h=453&crop=1",
         "2023-09-06T19:48:52Z",
         "Há trilhões de microrganismos, incluindo bactérias, fungos e vírus, no interior do trato gastrointestinal conjunto que leva o nome de microbiota. É quase o mesmo número de células em um corpo humano.… [+3585 chars]"
        ],
        [
         [
          null,
          "[Removed]"
         ],
         null,
         "[Removed]",
         "[Removed]",
         "https://removed.com",
         null,
         "1970-01-01T00:00:00Z",
         "[Removed]"
        ],
        [
         [
          null,
          "Terra.com.br"
         ],
         "Portal EdiCase",
         "Entenda o que é a hipercifose e como tratar essa condição",
         "A hipercifose, também conhecida popularmente como 'corcunda', trata-se de uma doença óssea ...",
         "https://www.terra.com.br/vida-e-estilo/saude/entenda-o-que-e-a-hipercifose-e-como-tratar-essa-condicao,323d34d575b92837f1fad0d49bfe650b67beo2wl.html",
         "https://p2.trrsf.com/image/fget/cf/1200/630/middle/images.terra.com/2023/10/02/638203844-coluna-dores.jpeg",
         "2023-10-02T17:31:30Z",
         "A hipercifose, também conhecida popularmente como 'corcunda', trata-se de uma doença óssea causada por um desvio corporal que, normalmente, faz com que as pessoas tenham uma curvatura na região torác… [+2694 chars]"
        ],
        [
         [
          null,
          "Abril.com.br"
         ],
         "Paula Felix",
         "OMS recomenda vacinas contra malária e dengue diante de onda de mosquitos",
         "Entidade fez alerta sobre risco das doenças principalmente para crianças; Qdenga foi aprovada para uso no Brasil em março",
         "https://veja.abril.com.br/saude/oms-recomenda-vacinas-contra-malaria-e-dengue-diante-de-onda-de-mosquitos",
         "https://veja.abril.com.br/wp-content/uploads/2023/06/aedes_aegypti-dengue2.webp?w=680&h=453&crop=1",
         "2023-10-02T22:47:48Z",
         "Diante do aumento das doenças transmitidas por mosquitos em diferentes partes do mundo, a Organização Mundial da Saúde (OMS) divulgou nesta segunda-feira, 2, um comunicado recomendando a nova vacina … [+2768 chars]"
        ],
        [
         [
          null,
          "Sapo.pt"
         ],
         "Rui Jorge",
         "Poria o seu cérebro nas mãos da IA? Será uma realidade dentro de dois anos",
         "Um importante neurocirurgião do Reino Unido afirmou que a cirurgia cerebral com recurso à inteligência artificial (IA) será possível dentro de dois anos, tornando-a mais segura e eficaz.   O governo britânico afirma que...",
         "https://pplware.sapo.pt/inteligencia-artificial/poria-o-seu-cerebro-nas-maos-da-ia-sera-uma-realidade-dentro-de-dois-anos/",
         "https://pplware.sapo.pt/wp-content/uploads/2022/01/cirurgia_robo00.jpg",
         "2023-09-30T10:00:12Z",
         "Um importante neurocirurgião do Reino Unido afirmou que a cirurgia cerebral com recurso à inteligência artificial (IA) será possível dentro de dois anos, tornando-a mais segura e eficaz.\r\nO governo b… [+2511 chars]"
        ],
        [
         [
          null,
          "Olhardigital.com.br"
         ],
         "Nayra Teles",
         "USP: terapia celular pode reduzir mortes por Covid-19",
         "Pesquisadores da Universidade de São Paulo (USP) descobriram que a terapia celular pode reduzir em 60% o risco de morte por COVID-19\nO post USP: terapia celular pode reduzir mortes por Covid-19 apareceu primeiro em Olhar Digital.",
         "https://olhardigital.com.br/2023/09/19/medicina-e-saude/usp-terapia-celular-pode-reduzir-mortes-por-covid-19/",
         "https://proxy.olhardigital.com.br/wp-content/uploads/2023/09/terapia-celular.png",
         "2023-09-19T21:03:20Z",
         "A terapia celular, bastante utilizada em tratamentos contra o cÃ¢ncer, tem grande potencial contra a Covid-19. Ã o que aponta a revisÃ£o sistemÃ¡tica e meta-anÃ¡lise realizada por pesquisadores da U… [+4229 chars]"
        ],
        [
         [
          null,
          "Terra.com.br"
         ],
         "Porto Alegre 24 horas",
         "HCPA busca voluntários para estudo clínico que avalia medicamento experimental para o COVID-19",
         "Hospital de Clínicas está com inscrições abertas para adultos acima de 18 (dezoito) anos portadores de doenças crônicas como, por exemplo, diabetes, obesidade, hipertensão ou doenças cardiovasculares, que testaram positivo para COVID-19 nos últimos três dias …",
         "https://www.terra.com.br/noticias/hcpa-busca-voluntarios-para-estudo-clinico-que-avalia-medicamento-experimental-para-o-covid-19,6ce0dbd8c3d6c7770745a34adf194601wibvrrif.html",
         "https://p2.trrsf.com/image/fget/cf/1200/630/middle/images.terra.com/2023/09/20/717673475-fachada2-1536x1021-1.jpg",
         "2023-09-20T15:41:12Z",
         "O Hospital de Clínicas de Porto Alegre ainda está com vagas abertas para voluntários que queiram colaborar com o SCORPIO-HR, um estudo clínico global de Fase 3 com pacientes não hospitalizados e sint… [+3502 chars]"
        ],
        [
         [
          null,
          "[Removed]"
         ],
         null,
         "[Removed]",
         "[Removed]",
         "https://removed.com",
         null,
         "1970-01-01T00:00:00Z",
         "[Removed]"
        ],
        [
         [
          null,
          "[Removed]"
         ],
         null,
         "[Removed]",
         "[Removed]",
         "https://removed.com",
         null,
         "1970-01-01T00:00:00Z",
         "[Removed]"
        ],
        [
         [
          null,
          "Olhardigital.com.br"
         ],
         "Alessandro Di Lorenzo",
         "Novo vírus é descoberto nas profundezas da Fossa das Marianas",
         "Bacteriófago, um tipo de vírus que infecta e se replica dentro de bactérias, foi localizado a uma profundidade de 8.900 metros\nO post Novo vírus é descoberto nas profundezas da Fossa das Marianas apareceu primeiro em Olhar Digital.",
         "https://olhardigital.com.br/2023/09/21/ciencia-e-espaco/novo-virus-e-descoberto-nas-profundezas-da-fossa-das-marianas/",
         "https://proxy.olhardigital.com.br/wp-content/uploads/2023/09/Fossa-das-marianas-1.jpg",
         "2023-09-21T20:26:34Z",
         "Segundo dados da AdministraÃ§Ã£o Nacional OceÃ¢nica e AtmosfÃ©rica dos Estados Unidos,apenas cerca de 20% do fundo do mar foi mapeado atÃ© hoje. Uma descoberta de uma equipe internacional de pesquisa… [+2809 chars]"
        ],
        [
         [
          null,
          "Jovemnerd.com.br"
         ],
         "Pedro Siqueira",
         "Netflix põe camisinha em monumento para divulgação dura de Sex Education",
         "Streaming elevou o marketing a um novo nível para a temporada final da série\nThe post Netflix põe camisinha em monumento para divulgação dura de Sex Education appeared first on Jovem Nerd.",
         "https://jovemnerd.com.br/nerdbunker/netflix-camisinha-gigante-sex-education/",
         "https://uploads.jovemnerd.com.br/wp-content/uploads/2023/09/netflix_sex_education_obelisco__25030n3ow.jpg",
         "2023-09-23T15:07:35Z",
         "A divulgação da temporada final de Sex Education está duríssima. Tanto que a Netflix colocou uma CAMISINHA GIGANTE no Obelisco, um dos maiores monumentos da Argentina, num vídeo promocional que vem c… [+897 chars]"
        ],
        [
         [
          null,
          "Abril.com.br"
         ],
         "Paula Felix",
         "Injeção semanal para deficiência de hormônio do crescimento é liberada",
         "Medicação para crianças e adultos reduz em 85% o número de aplicações por ano; preço não foi definido e lançamento no Brasil ainda será anunciado",
         "https://veja.abril.com.br/saude/injecao-semanal-para-deficiencia-de-hormonio-do-crescimento-e-liberada",
         "https://veja.abril.com.br/wp-content/uploads/2016/05/alx_465382081_original1.jpeg?quality=90&strip=info&w=680&h=453&crop=1",
         "2023-09-25T21:40:54Z",
         "Uma nova opção de tratamento para crianças e adultos com deficiência do hormônio do crescimento (GH) com aplicação subcutânea semanal, por meio de uma “caneta”, foi liberada no Brasil nesta segunda-f… [+2629 chars]"
        ],
        [
         [
          null,
          "Terra.com.br"
         ],
         "Sport Life",
         "Abacate emagrece? Descubra 14 benefícios secretos da fruta",
         "Abacate emagrece ou engorda? Essa dúvida é comum em pessoas que são fãs do sabor da fruta. Por ...",
         "https://www.terra.com.br/vida-e-estilo/abacate-emagrece-descubra-14-beneficios-secretos-da-fruta,1079792ed39d3e3303fdd4fd29d5b3d3tj80nanf.html",
         "https://p2.trrsf.com/image/fget/cf/1200/630/middle/images.terra.com/2023/09/07/392743629-shutterstock785296315-1.jpg",
         "2023-09-07T19:02:17Z",
         "Abacate emagrece ou engorda? Essa dúvida é comum em pessoas que são fãs do sabor da fruta. Por ser um alimento natural, muitos acreditam que o abacate ajuda a emagrecer. Por outro lado, os altos níve… [+4997 chars]"
        ],
        [
         [
          null,
          "[Removed]"
         ],
         null,
         "[Removed]",
         "[Removed]",
         "https://removed.com",
         null,
         "1970-01-01T00:00:00Z",
         "[Removed]"
        ],
        [
         [
          null,
          "Uol.com.br"
         ],
         null,
         null,
         "A molécula sintetiza o conjunto de proteínas que um organismo necessita para viver",
         "https://www1.folha.uol.com.br/ciencia/2023/09/rna-de-tigre-da-tasmania-extinto-e-recuperado-pela-primeira-vez.shtml",
         "https://f.i.uol.com.br/fotografia/2023/09/19/1695178196650a5dd469a9a_1695178196_3x2_rt.jpg",
         "2023-09-20T10:50:04Z",
         "O tigre-da-tasmânia, um marsupial carnívoro listrado do tamanho de um cachorro, também chamado de tilacino, era um predador de ponta que caçava cangurus e outras presas e já vagou pelo território con… [+2149 chars]"
        ],
        [
         [
          null,
          "Catracalivre.com.br"
         ],
         "Redação",
         "Saiba quais atividades físicas reduzem risco de 9 tipos de câncer",
         "A aptidão cardiorrespiratória, responsável pela capacidade de executar atividades físicas aeróbicos prolongados, pode ser a chave para a prevenção de",
         "https://catracalivre.com.br/saude-bem-estar/saiba-quais-atividades-fisicas-reduzem-risco-de-9-tipos-de-cancer/",
         "https://catracalivre.com.br/cdn-cgi/image/f=auto,q=60,w=1200,h=638,fit=cover,format=jpeg/wp-content/uploads/2023/08/istock-1168199832.jpg",
         "2023-09-11T02:30:05Z",
         "A aptidão cardiorrespiratória, responsável pela capacidade de executar atividades físicas aeróbicos prolongados, pode ser a chave para a prevenção de diversos tipos de câncer. Um estudo recente, publ… [+2947 chars]"
        ],
        [
         [
          null,
          "[Removed]"
         ],
         null,
         "[Removed]",
         "[Removed]",
         "https://removed.com",
         null,
         "1970-01-01T00:00:00Z",
         "[Removed]"
        ],
        [
         [
          null,
          "Uol.com.br"
         ],
         null,
         null,
         "Cálculo biliar bovino, chamado de pedra de fel, é usado na medicina oriental para tratar doenças respiratórias",
         "https://www1.folha.uol.com.br/mercado/2023/09/criminosos-roubam-r-2-milhoes-em-pedras-de-boi-no-interior-de-sp.shtml",
         "https://f.i.uol.com.br/fotografia/2023/09/21/1695325609650c9da9b56df_1695325609_3x2_lg.jpg",
         "2023-09-22T00:51:36Z",
         "Três homensassaltaram uma empresa de exportação no interior de São Paulo e levaram 2,7 quilos de cálculo biliar bovino, também conhecido como pedra de fel, avaliado em R$ 2 milhões, segundo a Delegac… [+1877 chars]"
        ],
        [
         [
          null,
          "Observador.pt"
         ],
         "Agência Lusa",
         "Idosos vítimas de maus tratos apresentam mais doença física e mental",
         "Dados \"assustadores\" de um estudo português revelam que os idosos que sofrem violência intra-familiar ou de cuidadores \"são muito mais doentes, têm muitas mais patologias do que a restante população\".",
         "https://observador.pt/2023/09/29/idosos-vitimas-de-maus-tratos-apresentam-mais-doenca-fisica-e-mental/",
         "https://wm.observador.pt/wm/obs/l/https%3A%2F%2Fbordalo.observador.pt%2Fv2%2Frs%3Afill%3A770%3A403%2Fc%3A2121%3A1192%3Anowe%3A0%3A111%2Fq%3A85%2Fplain%2Fhttps%3A%2F%2Fs3.observador.pt%2Fwp-content%2Fuploads%2F2022%2F02%2F09214115%2FGettyImages-1290458362.jpg",
         "2023-09-29T09:52:20Z",
         "Um estudo da Faculdade de Medicina da Universidade do Porto (FMUP) revelou que os idosos vítimas de maus tratos apresentam mais doença física e mental, algo “assustador” que para os investigadores de… [+3910 chars]"
        ],
        [
         [
          null,
          "Tecmundo.com.br"
         ],
         "Fabio Dominski",
         "Atividade física no trabalho faz bem?",
         "Este texto foi escrito por um colunista do TecMundo; saiba mais no final.\"Eu me movimento bastante no trabalho, não preciso de exercícios”, já ouviu alguém falar isso? Essa pessoa provavelmente tem uma alta demanda energética em seu trabalho e acredita que is…",
         "https://www.tecmundo.com.br/ciencia/271824-atividade-fisica-trabalho.htm",
         "https://tm.ibxk.com.br/2023/09/20/20121343539166.jpg",
         "2023-09-20T17:00:00Z",
         "Este texto foi escrito por um colunista do TecMundo; saiba mais no final.\r\n\"Eu me movimento bastante no trabalho, não preciso de exercícios, já ouviu alguém falar isso? Essa pessoa provavelmente tem … [+5260 chars]"
        ],
        [
         [
          null,
          "Tecmundo.com.br"
         ],
         "Jennifer Egues",
         "SUS Digital: uso inteligência artificial pode melhorar a saúde pública?",
         "O Ministério da Saúde estuda implementar ferramentas de Inteligência Artificial (IA) no Sistema Único de Saúde, objetivando melhorar o atendimento, agilizando processos e estendo atendimento a regiões de difícil acesso físico.Para a pasta, a implementação da …",
         "https://www.tecmundo.com.br/ciencia/267730-sus-digital-uso-inteligencia-artificial-melhorar-saude-publica.htm",
         "https://tm.ibxk.com.br/2023/08/18/18144410198207.jpg",
         "2023-09-04T14:30:01Z",
         "O Ministério da Saúde estuda implementar ferramentas de Inteligência Artificial (IA) no Sistema Único de Saúde, objetivando melhorar o atendimento, agilizando processos e estendo atendimento a regiõe… [+5930 chars]"
        ],
        [
         [
          null,
          "Sapo.pt"
         ],
         "Ana Sofia Neto",
         "Afinal, o açúcar prejudica ou não a saúde?",
         "O açúcar está em tantos alimentos que, certamente, surpreender-se-ia com alguns deles. Mas, assim sendo, será assim tão prejudicial? É um tema complexo, como muitos deles na nutrição, e parece ser pouco claro para...",
         "https://pplware.sapo.pt/ciencia/afinal-o-acucar-prejudica-ou-nao-a-saude/",
         "https://pplware.sapo.pt/wp-content/uploads/2023/09/bolo00.jpg",
         "2023-09-15T20:00:17Z",
         "O açúcar está em tantos alimentos que, certamente, surpreender-se-ia com alguns deles. Mas, assim sendo, será assim tão prejudicial?\r\nÉ um tema complexo, como muitos deles na nutrição, e parece ser p… [+3659 chars]"
        ],
        [
         [
          null,
          "Observador.pt"
         ],
         "Observador",
         "Descoberta nova célula no cérebro que pode ajudar a estudar o Alzheimer",
         "Novo estudo revela a existência de uma nova célula, que pode ajudar a explicar o desenvolvimento de doenças neurodegenerativas e a localizar \"potenciais alvos terapêuticos\".",
         "https://observador.pt/2023/09/06/descoberta-nova-celula-no-cerebro-que-pode-ajudar-a-estudar-o-alzheimer/",
         "https://wm.observador.pt/wm/obs/l/https%3A%2F%2Fbordalo.observador.pt%2Fv2%2Frs%3Afill%3A770%3A403%2Fc%3A3543%3A1993%3Anowe%3A0%3A131%2Fq%3A85%2Fplain%2Fhttps%3A%2F%2Fs3.observador.pt%2Fwp-content%2Fuploads%2F2023%2F09%2F06184926%2Fgettyimages-1487034049.jpg",
         "2023-09-06T18:08:06Z",
         "A cada três segundos, há uma pessoa no mundo a desenvolver demência. Em 2020, os dados recolhidos pelo Alzheimer’s Disease International (ADI) mostravam que havia mais de 55 milhões de pessoas a vive… [+2235 chars]"
        ],
        [
         [
          null,
          "Observador.pt"
         ],
         "Inês André Figueiredo",
         "Mosquito que transmite dengue e zika detetado em Lisboa pela primeira vez",
         "DGS reforçou a vigilância entomológica e epidemiológica, mas garantiu que não foram identificados nestes mosquitos quaisquer agentes de doenças que possam ser transmitidas às pessoas.",
         "https://observador.pt/2023/09/27/mosquito-que-transmite-dengue-e-zika-detetado-em-lisboa-pela-primeira-vez/",
         "https://wm.observador.pt/wm/obs/l/https%3A%2F%2Fbordalo.observador.pt%2Fv2%2Frs%3Afill%3A770%3A403%2Fc%3A1998%3A1126%3Anowe%3A0%3A100%2Fq%3A85%2Fplain%2Fhttps%3A%2F%2Fs3.observador.pt%2Fwp-content%2Fuploads%2F2019%2F04%2F15200407%2F20319704.jpg",
         "2023-09-27T16:25:37Z",
         "A Direção-Geral de Saúde (DGS) revelou que a espécie de mosquitos Aedes albopictus foi identificada pela primeira vez em Lisboa e alertou que este mosquito pode transmitir doenças como chikungunya, d… [+1110 chars]"
        ],
        [
         [
          null,
          "Observador.pt"
         ],
         "Carolina Sobral",
         "Cientistas criam modelo de embrião sem espermatozoide, óvulo ou útero. É o primeiro que imita em completo um embrião humano",
         "Modelo foi desenvolvido a partir de células estaminais que se organizaram em estruturas que imitam a organização 3D de um embrião real com 14 dias. O modelo deu positivo num teste de gravidez.",
         "https://observador.pt/2023/09/06/cientistas-criam-modelo-de-embriao-sem-espermatozoide-ovulo-ou-utero-e-o-primeiro-que-imita-em-completo-um-embriao-humano/",
         "https://wm.observador.pt/wm/obs/l/https%3A%2F%2Fbordalo.observador.pt%2Fv2%2Frs%3Afill%3A770%3A403%2Fc%3A2000%3A1124%3Anowe%3A0%3A104%2Fq%3A85%2Fplain%2Fhttps%3A%2F%2Fs3.observador.pt%2Fwp-content%2Fuploads%2F2019%2F02%2F28085820%2Fistock-904268950.jpg",
         "2023-09-06T16:31:46Z",
         "Sem recurso a espermatozoide, óvulos ou um útero, cientistas criaram pela primeira vez um modelo de embriões humanos que imita de forma completa todas as características conhecidas num embrião real. … [+1946 chars]"
        ],
        [
         [
          null,
          "Observador.pt"
         ],
         "Sofia Teixeira",
         "Que ondas cerebrais são estas?",
         "O cérebro emite misteriosos padrões de atividade que estão alterados em doentes  com doenças neurológicas ou psiquiátricas. Na Universidade do Minho, Joana Cabral tenta conhecer melhor estes sinais.",
         "https://observador.pt/2023/09/25/que-ondas-cerebrais-sao-estas/",
         "https://wm.observador.pt/wm/obs/l/https%3A%2F%2Fbordalo.observador.pt%2Fv2%2Frs%3Afill%3A770%3A403%2Fc%3A3200%3A1796%3Anowe%3A0%3A340%2Fq%3A85%2Fplain%2Fhttps%3A%2F%2Fs3.observador.pt%2Fwp-content%2Fuploads%2F2023%2F09%2F25012852%2F0-20230807-goncalo-villaverde-0205.jpg",
         "2023-09-25T13:49:21Z",
         "Uma iniciativa\r\nHá momentos em que o cérebro de Joana Cabral parece um carro de Fórmula Um: é muito difícil de acompanhar quando acelera a fundo. Salta de raciocínio em raciocínio, estabelece pontes … [+12097 chars]"
        ],
        [
         [
          null,
          "Terra.com.br"
         ],
         "Elas no Tapete Vermelho",
         "VMA 2023: Anitta repete grife de 2022 e elege look Schiaparelli",
         "A Schiaparelli tem em seu DNA o surrealismo. Fato esse que agrada em cheio famosas, como Anitta, ...",
         "https://www.terra.com.br/vida-e-estilo/autocuidado/moda/vma-2023-anitta-repete-grife-de-2022-e-elege-look-schiaparelli,fee499f8c205c826421124c9561fae83mmokijah.html",
         "https://p2.trrsf.com/image/fget/cf/1200/630/middle/images.terra.com/2023/09/12/1728798519-37802777434786638823962214802485532612152661n-e1694562071640.jpg",
         "2023-09-12T23:48:05Z",
         "A Schiaparelli tem em seu DNA o surrealismo. Fato esse que agrada em cheio famosas, como Anitta, que pelo segundo ano consecutivo elegeu a grife francesa para cruzar o tapete vermelho do VMA (Video M… [+1146 chars]"
        ],
        [
         [
          null,
          "Pragmatismopolitico.com.br"
         ],
         "Redação",
         "Benefícios das substâncias encontradas no vinho: uma análise científica",
         "É importante ter cuidado ao consumi-lo e sempre respeitar as contraindicações e limites recomendados. É possível encontrar de forma acessível bons vinhos no mercado, mas é fundamental ter consciência dos riscos e sempre consumir com moderação\nO post Benefício…",
         "https://www.pragmatismopolitico.com.br/2023/10/beneficios-substancias-encontradas-vinho-analise-cientifica.html",
         "https://www.pragmatismopolitico.com.br/wp-content/uploads/2023/10/beneficios-substancias-encontradas-vinho-analise-cientifica.jpg",
         "2023-10-02T11:30:18Z",
         "É importante ter cuidado ao consumi-lo e sempre respeitar as contraindicações e limites recomendados. É possível encontrar de forma acessível bons vinhos no mercado, mas é fundamental ter consciência… [+22678 chars]"
        ],
        [
         [
          null,
          "Olhardigital.com.br"
         ],
         "Alessandro Di Lorenzo",
         "EUA: vacina experimental contra HIV será testada em humanos",
         "No total, 95 participantes serão divididos em grupos, com três deles recebendo dosagens diferentes da vacina contra o HIV\nO post EUA: vacina experimental contra HIV será testada em humanos apareceu primeiro em Olhar Digital.",
         "https://olhardigital.com.br/2023/09/22/medicina-e-saude/eua-vacina-experimental-contra-hiv-sera-testada-em-humanos/",
         "https://proxy.olhardigital.com.br/wp-content/uploads/2022/03/HIV-capa.jpg",
         "2023-09-22T14:46:06Z",
         "A empresa Vir Biotechnology anunciou o inÃ­cio dos testes em humanos de uma vacina experimental contra o HIV. A companhia norte-americana disse que espera ter os dados iniciais dos trabalhos de fase … [+2542 chars]"
        ],
        [
         [
          null,
          "Olhardigital.com.br"
         ],
         "Lucas Gabriel Machado Henriques",
         "Como a inteligência artificial pode ajudar na saúde mental",
         "Entenda como a inteligência artificial pode ser usada para auxiliar no combate aos transtornos psicológicos e ajudar na saúde mental\nO post Como a inteligência artificial pode ajudar na saúde mental apareceu primeiro em Olhar Digital.",
         "https://olhardigital.com.br/2023/09/11/medicina-e-saude/como-a-inteligencia-artificial-pode-ajudar-na-saude-mental/",
         "https://img.olhardigital.com.br/wp-content/uploads/2023/09/capa-1.jpg",
         "2023-09-11T15:33:19Z",
         "Com a crescente utilizaÃ§Ã£o da inteligÃªncia artificial em diversos setores da indÃºstria e da sociedade, muitas tÃ©cnicas que usam essa tecnologia surgiram para melhorar o dia a dia das pessoas, au… [+2927 chars]"
        ],
        [
         [
          null,
          "Olhardigital.com.br"
         ],
         "Pedro Borges Spadoni",
         "Imunologista vence prêmio de inovação por tratamento contra câncer",
         "O imunologista Michel Sadelain levou o prêmio Breakthrough por seu trabalho pioneiro na terapia com células CAR-T para câncer\nO post Imunologista vence prêmio de inovação por tratamento contra câncer apareceu primeiro em Olhar Digital.",
         "https://olhardigital.com.br/2023/09/14/medicina-e-saude/imunologista-vence-premio-de-inovacao-por-tratamento-contra-cancer/",
         "https://img.olhardigital.com.br/wp-content/uploads/2023/09/Destaque-Michel-Sadelain-imunologista-cancer.jpg",
         "2023-09-15T01:08:01Z",
         "O imunologista francÃªs-canadense Michel Sadelain venceu o prestigiado prÃªmio Breakthrough nesta quinta-feira (14) por seu trabalho pioneiro na terapia com cÃ©lulas CAR-T â uma nova forma de trata… [+3677 chars]"
        ],
        [
         [
          null,
          "Olhardigital.com.br"
         ],
         "Lucas Soares",
         "Alienígenas do México são reais? Entenda a polêmica",
         "Nesta quarta-feira (13) o mundo a ufologia foi surpreendido com uma apresentação no congresso mexicano onde um ufólogo mostrou supostos cadáveres de alienígenas. Pelo histórico polêmico do pesquisador, a notícia já foi encarada com ceticismo. De acordo com o …",
         "https://olhardigital.com.br/2023/09/14/ciencia-e-espaco/alienigenas-do-mexico-sao-reais-entenda-a-polemica/",
         "https://img.olhardigital.com.br/wp-content/uploads/2023/09/alienigenas-mexico.jpg",
         "2023-09-14T16:03:07Z",
         "Nesta quarta-feira (13) o mundo a ufologia foi surpreendido com uma apresentaÃ§Ã£o no congresso mexicano onde um ufÃ³logo mostrou supostos cadÃ¡veres de alienÃ­genas. Pelo histÃ³rico polÃªmico do pes… [+2991 chars]"
        ],
        [
         [
          null,
          "Olhardigital.com.br"
         ],
         "Mateus Dias",
         "Ufólogo de supostos aliens do México já foi desmascarado outras vezes",
         "Jaime Maussan apresentou no México restos mortais de alienígenas, no entanto, toda essa historia pode ser mentira\nO post Ufólogo de supostos aliens do México já foi desmascarado outras vezes apareceu primeiro em Olhar Digital.",
         "https://olhardigital.com.br/2023/09/14/ciencia-e-espaco/ufologo-de-supostos-aliens-do-mexico-ja-foi-desmascarado-outras-vezes/",
         "https://img.olhardigital.com.br/wp-content/uploads/2023/09/Jaime-Maussan.jpg",
         "2023-09-14T20:07:00Z",
         "Na terÃ§a-feira (12), o ufÃ³logo e jornalista Jaime Maussan apresentou ao Congresso do MÃ©xico os restos mortais de dois supostos alienÃ­genas. A demonstraÃ§Ã£o dos espÃ©cimes aconteceu durante uma a… [+2753 chars]"
        ],
        [
         [
          null,
          "Tecmundo.com.br"
         ],
         "Jorge Marin",
         "Google DeepMind: nova ferramenta de IA prevê doenças genéticas",
         "Um novo programa de inteligência artificial desenvolvido por cientistas do Google DeepMind é capaz de prever se milhões de mutações genéticas presentes em nossa sequência de DNA que são inofensivas ou propensas a causar doenças no futuro. Batizada como AlphaM…",
         "https://www.tecmundo.com.br/ciencia/271822-google-deepmind-nova-ferramenta-ia-preve-doencas-geneticas.htm",
         "https://tm.ibxk.com.br/2023/09/20/20120248396161.jpg",
         "2023-09-20T15:15:00Z",
         "Um novo programa de inteligência artificial desenvolvido por cientistas do Google DeepMind é capaz de prever se milhões de mutações genéticas presentes em nossa sequência de DNA que são inofensivas o… [+2940 chars]"
        ],
        [
         [
          null,
          "Olhardigital.com.br"
         ],
         "Alessandro Di Lorenzo",
         "Estudo descobre novas características genéticas do Alzheimer",
         "A descoberta, segundo os pesquisadores, pode contribuir para o desenvolvimento futuro de exames de sangue para a doença de Alzheimer\nO post Estudo descobre novas características genéticas do Alzheimer apareceu primeiro em Olhar Digital.",
         "https://olhardigital.com.br/2023/09/07/medicina-e-saude/estudo-descobre-novas-caracteristicas-geneticas-do-alzheimer/",
         "https://img.olhardigital.com.br/wp-content/uploads/2023/05/Alzheimer.jpg",
         "2023-09-07T10:01:00Z",
         "Pesquisadores da Universidade de Pittsburgh, nos Estados Unidos, analisaram milhares de genomas humanos para encontrar novas variaÃ§Ãµes genÃ©ticas responsÃ¡veis por controlar os nÃ­veis de molÃ©cula… [+2542 chars]"
        ],
        [
         [
          null,
          "Sapo.pt"
         ],
         "Ana Sofia Neto",
         "Cérebro artificial ajuda a perceber as origens genéticas do autismo",
         "Uma nova técnica científica está a revelar as origens genéticas da perturbação do espetro do autismo (ou PEA) escondidas no nosso cérebro. O cérebro é curiosamente complexo e há muito sobre ele que ainda...",
         "https://pplware.sapo.pt/ciencia/cerebro-artificial-ajuda-a-perceber-as-origens-geneticas-do-autismo/",
         "https://pplware.sapo.pt/wp-content/uploads/2023/09/organoide_cerebral00.jpg",
         "2023-09-24T13:00:25Z",
         "Uma nova técnica científica está a revelar as origens genéticas da perturbação do espetro do autismo (ou PEA) escondidas no nosso cérebro.\r\nO cérebro é curiosamente complexo e há muito sobre ele que … [+3282 chars]"
        ],
        [
         [
          null,
          "Tecmundo.com.br"
         ],
         "Jorge Marin",
         "Miniórgãos descobertos em mamíferos podem gerar respostas autoimunes",
         "Pesquisadores do Instituto Federal Suíço de Tecnologia de Zurique descobriram recentemente um tipo de organela que havia permanecido não caracterizada até agora nas células dos mamíferos. O “miniórgão”, batizado como exclusoma, é feito de anéis de DNA chamado…",
         "https://www.tecmundo.com.br/ciencia/272244-miniorgaos-descobertos-mamiferos-gerar-respostas-autoimunes.htm",
         "https://tm.ibxk.com.br/2023/10/02/02154244691267.jpg",
         "2023-10-02T20:30:04Z",
         "Pesquisadores do Instituto Federal Suíço de Tecnologia de Zurique descobriram recentemente um tipo de organela que havia permanecido não caracterizada até agora nas células dos mamíferos. O miniórgão… [+3134 chars]"
        ],
        [
         [
          null,
          "Olhardigital.com.br"
         ],
         "Vitoria Lopes Gomez",
         "Vacinas erradicaram doenças que, antes, matavam mais que guerras",
         "Doenças como a poliomielite e a varíola, que mataram milhões no século passado, desapareceram graças às vacinas\nO post Vacinas erradicaram doenças que, antes, matavam mais que guerras apareceu primeiro em Olhar Digital.",
         "https://olhardigital.com.br/2023/09/08/medicina-e-saude/vacinas-erradicaram-doencas-que-antes-matavam-mais-que-guerras/",
         "https://img.olhardigital.com.br/wp-content/uploads/2023/07/vacina-e1692890816557.jpg",
         "2023-09-08T20:30:20Z",
         "NÃ£o Ã© incomum ouvir falar sobre a gravidade de doenÃ§as que hoje sequer nos lembramos. Ã o caso, por exemplo, da varÃ­ola e da poliomielite. Ambas mataram milhÃµes de pessoas no sÃ©culo passado, m… [+2308 chars]"
        ],
        [
         [
          null,
          "Olhardigital.com.br"
         ],
         "Alessandro Di Lorenzo",
         "IA brasileira é capaz de prever doenças com antecedência",
         "A IA Dara pode coletar dados e realizar uma rápida varredura em todo o histórico médico do paciente, indicando riscos de saúde\nO post IA brasileira é capaz de prever doenças com antecedência apareceu primeiro em Olhar Digital.",
         "https://olhardigital.com.br/2023/09/29/medicina-e-saude/ia-brasileira-e-capaz-de-prever-doencas-com-antecedencia/",
         "https://proxy.olhardigital.com.br/wp-content/uploads/2023/09/iStock-1411998514.jpg",
         "2023-09-29T21:04:45Z",
         "Uma inteligÃªncia artificial desenvolvida por uma empresa brasileira pode ajudar a prevenir doenÃ§as como acidente vascular cerebral (AVC), infarto e diabetes, por exemplo. A Dara foi criada pela IPM… [+1959 chars]"
        ],
        [
         [
          null,
          "Sapo.pt"
         ],
         "Rui Jorge",
         "Cientistas adaptam a Realidade Virtual para utilização em consultas remotas",
         "Os investigadores da Universidade de Canterbury criaram um headset de realidade virtual (RV) que poderá ser utilizado pelos médicos para realizar avaliações médicas de pacientes que vivem em zonas rurais, têm doenças infeciosas ou...",
         "https://pplware.sapo.pt/high-tech/cientistas-adaptam-a-realidade-virtual-para-utilizacao-em-consultas-remotas/",
         "https://pplware.sapo.pt/wp-content/uploads/2023/09/rv_medicina.jpg",
         "2023-09-20T14:00:25Z",
         "Os investigadores da Universidade de Canterbury criaram um headset de realidade virtual (RV) que poderá ser utilizado pelos médicos para realizar avaliações médicas de pacientes que vivem em zonas ru… [+3368 chars]"
        ],
        [
         [
          null,
          "Olhardigital.com.br"
         ],
         "Flavia Correia",
         "Bichos-da-seda transgênicos criam fibras mais resistentes do que tecido à prova de bala",
         "Usando engenharia genética, cientistas inseriram genes de aranha em bichos-da-seda para produção de tecidos mais resistentes do que Kevlar\nO post Bichos-da-seda transgênicos criam fibras mais resistentes do que tecido à prova de bala apareceu primeiro em Olha…",
         "https://olhardigital.com.br/2023/09/26/ciencia-e-espaco/bichos-da-seda-transgenicos-criam-fibras-mais-resistentes-do-que-tecido-a-prova-de-bala/",
         "https://proxy.olhardigital.com.br/wp-content/uploads/2023/09/bicho-da-seda.jpg",
         "2023-09-26T19:18:52Z",
         "Cientistas utilizaram engenharia genÃ©tica para gerar bichos-da-seda capazes de produzir fibras mais resistentes do que o Kevlar, tambÃ©m chamado de poliaramida â material usado em coletes Ã  prova… [+3623 chars]"
        ],
        [
         [
          null,
          "Olhardigital.com.br"
         ],
         "Alessandro Di Lorenzo",
         "Estudo indica onde fica o lar original da humanidade",
         "Pesquisadores criaram uma rede de quase 27 milhões de ancestrais, desenvolvendo uma gigantesca árvore genealógica da humanidade\nO post Estudo indica onde fica o lar original da humanidade apareceu primeiro em Olhar Digital.",
         "https://olhardigital.com.br/2023/09/14/ciencia-e-espaco/estudo-indica-onde-fica-o-lar-original-da-humanidade/",
         "https://img.olhardigital.com.br/wp-content/uploads/2022/03/deserto.jpg",
         "2023-09-14T20:40:37Z",
         "A histÃ³ria da humanidade Ã© marcada pelas migraÃ§Ãµes. Por milhares de anos, nossa espÃ©cie se deslocou pela Terra em busca de Ã¡gua, alimentos e tudo o que proporciona uma vida melhor. Mas existe u… [+2407 chars]"
        ],
        [
         [
          null,
          "Olhardigital.com.br"
         ],
         "Alessandro Di Lorenzo",
         "Segundo transplante com coração de porco para humano é feito com sucesso",
         "O coração de porco transplantado tem 10 modificações genéticas para reduzir o risco de ser recusado pelo corpo do paciente\nO post Segundo transplante com coração de porco para humano é feito com sucesso apareceu primeiro em Olhar Digital.",
         "https://olhardigital.com.br/2023/09/22/medicina-e-saude/segundo-transplante-com-coracao-de-porco-para-humano-e-feito-com-sucesso/",
         "https://proxy.olhardigital.com.br/wp-content/uploads/2023/09/Transplante-1.jpg",
         "2023-09-22T19:33:57Z",
         "Pela segunda vez na histÃ³ria, cirurgiÃµes transplantaram o coraÃ§Ã£o de um porco em um homem na tentativa de prolongar sua vida. A operaÃ§Ã£o foi um sucesso e, dois dias depois, o paciente estava fa… [+2546 chars]"
        ],
        [
         [
          null,
          "Olhardigital.com.br"
         ],
         "Mateus Dias",
         "Cientistas encontram povo na África que acreditavam ter sumido",
         "Apesar da língua da população estar deixando de existir, suas distinções genéticas continuam presente nos descendentes\nO post Cientistas encontram povo na África que acreditavam ter sumido apareceu primeiro em Olhar Digital.",
         "https://olhardigital.com.br/2023/09/27/ciencia-e-espaco/cientistas-encontram-povo-na-africa-que-acreditavam-ter-sumido/",
         "https://olhardigital.com.br/wp-content/uploads/2023/09/ultimos-faantes-do-Kwadi.webp",
         "2023-09-27T19:34:40Z",
         "A Ãfrica Austral abriga uma regiÃ£o conhecida como berÃ§o da humanidade, local onde os primeiros hominÃ­deos surgiram. Por causa disso, Ã© possÃ­vel encontrar a maior diversidade genÃ©tica humana po… [+2079 chars]"
        ],
        [
         [
          null,
          "[Removed]"
         ],
         null,
         "[Removed]",
         "[Removed]",
         "https://removed.com",
         null,
         "1970-01-01T00:00:00Z",
         "[Removed]"
        ],
        [
         [
          null,
          "Tecmundo.com.br"
         ],
         "Jennifer Egues",
         "Dara, a IA capaz de prever infartos e AVCs com dados do SUS",
         "Nova inteligência artificial, desenvolvida pela empresa IPM Sistemas, uma GovTech brasileira, pode ser utilizada no serviço público de saúde, otimizando dados e gerando sinais de alerta para doenças como acidente vascular cerebral, infarto e previsões com até…",
         "https://www.tecmundo.com.br/ciencia/272151-dara-ia-capaz-prever-infartos-avcs-dados-sus.htm",
         "https://tm.ibxk.com.br/2023/09/28/28172505232225.jpg",
         "2023-09-29T13:00:00Z",
         "Nova inteligência artificial, desenvolvida pela empresa IPM Sistemas, uma GovTech brasileira, pode ser utilizada no serviço público de saúde, otimizando dados e gerando sinais de alerta para doenças … [+2737 chars]"
        ],
        [
         [
          null,
          "Olhardigital.com.br"
         ],
         "Tamires Ferreira",
         "‘Vacina inversa’ pode ser a chave para tratar doenças autoimunes; entenda",
         "Ação do fármaco no sistema imunológico pode apagar a memória de ataque das moléculas\nO post ‘Vacina inversa’ pode ser a chave para tratar doenças autoimunes; entenda  apareceu primeiro em Olhar Digital.",
         "https://olhardigital.com.br/2023/09/13/medicina-e-saude/vacina-inversa-pode-ser-a-chave-para-tratar-doencas-autoimunes-entenda/",
         "https://img.olhardigital.com.br/wp-content/uploads/2023/09/doenca-autoimune.jpg",
         "2023-09-13T17:37:31Z",
         "Um novo tipo de vacina desenvolvida por pesquisadores da Escola Pritzker de Engenharia Molecular (PME)Â pode ser o novo tratamento mais promissor contra doenÃ§as autoimunes. Com uma proposta de aÃ§Ã£… [+2774 chars]"
        ],
        [
         [
          null,
          "Olhardigital.com.br"
         ],
         "Alessandro Di Lorenzo",
         "Google: pesquisadores fazem descoberta histórica sobre proteínas do corpo humano",
         "Foram catalogadas 71 milhões de mutações e um terço delas poderia causar doenças. Apenas 4 milhões já eram conhecidas pela ciência\nO post Google: pesquisadores fazem descoberta histórica sobre proteínas do corpo humano apareceu primeiro em Olhar Digital.",
         "https://olhardigital.com.br/2023/09/19/medicina-e-saude/google-pesquisadores-fazem-descoberta-historica-sobre-proteinas-do-corpo-humano/",
         "https://proxy.olhardigital.com.br/wp-content/uploads/2023/09/Proteina-1.jpg",
         "2023-09-19T19:46:08Z",
         "Pesquisadores doÂ Google DeepMind, empresa de inteligÃªncia artificial da Alphabet, catalogaram 71 milhÃµes de mutaÃ§Ãµes em proteÃ­nas do corpo humano. Ao classificÃ¡-las, eles descobriram que um te… [+3867 chars]"
        ],
        [
         [
          null,
          "[Removed]"
         ],
         null,
         "[Removed]",
         "[Removed]",
         "https://removed.com",
         null,
         "1970-01-01T00:00:00Z",
         "[Removed]"
        ],
        [
         [
          null,
          "[Removed]"
         ],
         null,
         "[Removed]",
         "[Removed]",
         "https://removed.com",
         null,
         "1970-01-01T00:00:00Z",
         "[Removed]"
        ],
        [
         [
          null,
          "Olhardigital.com.br"
         ],
         "Vitoria Lopes Gomez",
         "Estudo mostra que vape (com ou sem nicotina) paralisa células imunológicas",
         "Pesquisadores testaram e comprovaram que vapor do vape afeta o sistema imunológico, aumentando o risco de doenças respiratórias\nO post Estudo mostra que vape (com ou sem nicotina) paralisa células imunológicas apareceu primeiro em Olhar Digital.",
         "https://olhardigital.com.br/2023/09/11/medicina-e-saude/estudo-mostra-que-vape-com-ou-sem-nicotina-paralisa-celulas-imunologicas/",
         "https://img.olhardigital.com.br/wp-content/uploads/2023/09/vape-1.jpg",
         "2023-09-11T19:11:30Z",
         "O vape (ou cigarro eletrÃ´nico) ganhou terreno, especialmente entre os jovens. As fabricantes conseguiram popularizar o produto dizendo atÃ© que seria um âsubstitutoâ menos nocivo para quem queri… [+2051 chars]"
        ],
        [
         [
          null,
          "Olhardigital.com.br"
         ],
         "Vitoria Lopes Gomez",
         "Modelo matemático pode revolucionar tratamentos cardíacos",
         "Através do simulador, cientistas poderão entender o funcionamento das doenças cardíacas no coração e, assim, achar novas formas de tratá-las\nO post Modelo matemático pode revolucionar tratamentos cardíacos apareceu primeiro em Olhar Digital.",
         "https://olhardigital.com.br/2023/09/19/medicina-e-saude/modelo-matematico-pode-revolucionar-tratamentos-cardiacos/",
         "https://proxy.olhardigital.com.br/wp-content/uploads/2022/10/coracao-humano.jpg",
         "2023-09-19T07:55:00Z",
         "Um estudo feito por pesquisadores da ItÃ¡lia mostrou que a matemÃ¡tica pode salvar vidas â e prevenir infartos. Os cientistas criaram um modelo matemÃ¡tico computacional do coraÃ§Ã£o para simular o… [+1772 chars]"
        ],
        [
         [
          null,
          "Olhardigital.com.br"
         ],
         "Vitoria Lopes Gomez",
         "Fiocruz: Covid-19 avança no Sudeste e Centro-Oeste",
         "Alguns estados do Norte e Nordeste também tiveram alta nos casos de Covid-19 e de outras doenças respiratórias\nO post Fiocruz: Covid-19 avança no Sudeste e Centro-Oeste apareceu primeiro em Olhar Digital.",
         "https://olhardigital.com.br/2023/09/20/medicina-e-saude/fiocruz-covid-19-avanca-no-sudeste-e-centro-oeste/",
         "https://proxy.olhardigital.com.br/wp-content/uploads/2023/07/virus-covid-19.jpg",
         "2023-09-20T18:58:26Z",
         "A FundaÃ§Ã£o Oswaldo Cruz (Fiocruz) divulgou nesta quarta-feira (20) uma atualizaÃ§Ã£o do boletim InfoGripe, com dados de 10 a 16 de setembro. O novo relatÃ³rio mostra um aumento de casos de Covid-19… [+2167 chars]"
        ],
        [
         [
          null,
          "Olhardigital.com.br"
         ],
         "Alessandro Di Lorenzo",
         "Novo remédio imita prática de atividade física e pode reduzir peso",
         "O remédio ainda está sendo testado em ratos, mas apresenta potencial para para tratar doenças como obesidade, diabetes e perda muscular\nO post Novo remédio imita prática de atividade física e pode reduzir peso apareceu primeiro em Olhar Digital.",
         "https://olhardigital.com.br/2023/09/26/medicina-e-saude/novo-remedio-imita-pratica-de-atividade-fisica-e-pode-reduzir-peso/",
         "https://proxy.olhardigital.com.br/wp-content/uploads/2023/09/OBESIDADE-1.jpg",
         "2023-09-26T19:35:21Z",
         "JÃ¡ imaginou tomar um remÃ©dio que garante os mesmos benefÃ­cios que a atividade fÃ­sica? Talvez isso nunca seja totalmente possÃ­vel, mas testes em ratos de um novo tipo de droga tÃªm se mostrado pr… [+3292 chars]"
        ],
        [
         [
          null,
          "Olhardigital.com.br"
         ],
         "Alisson Santos",
         "Autoridades de saúde dos EUA sugerem antibiótico para combater DSTs",
         "Segundo autoridades, o medicamento deve servir como “pílula do dia seguinte” contra as doenças\nO post Autoridades de saúde dos EUA sugerem antibiótico para combater DSTs apareceu primeiro em Olhar Digital.",
         "https://olhardigital.com.br/2023/10/03/medicina-e-saude/autoridades-de-saude-dos-eua-sugerem-antibiotico-para-combater-dsts/",
         "https://proxy.olhardigital.com.br/wp-content/uploads/2023/09/Novos-antibioticos-1.jpg",
         "2023-10-03T09:40:00Z",
         "Autoridades de saÃºde dos Estados Unidos estÃ£o planejando apoiar o uso de antibiÃ³tico barato no combate as doenÃ§as sexualmente transmissÃ­veis (DSTs). Com os registros de contaminaÃ§Ã£o subindo em… [+1637 chars]"
        ],
        [
         [
          null,
          "Tecmundo.com.br"
         ],
         "Lucas Vinicius Santos",
         "Método quântico é capaz de curar câncer cerebral por meio de spray; entenda",
         "De acordo com um estudo publicado na revista científica Nature Nanotechnology, uma equipe de cientistas ingleses conseguiu criar um método quântico por spray para curar um tipo de câncer cerebral. O estudo conduzido por pesquisadores Universidade de Nottingha…",
         "https://www.tecmundo.com.br/ciencia/271666-metodo-quantico-capaz-curar-cancer-cerebral-meio-spray-entenda.htm",
         "https://tm.ibxk.com.br/2023/09/15/15085246049017.jpg",
         "2023-09-15T13:00:00Z",
         "De acordo com um estudo publicado na revista científica Nature Nanotechnology, uma equipe de cientistas ingleses conseguiu criar um método quântico por spray para curar um tipo de câncer cerebral. O … [+2915 chars]"
        ],
        [
         [
          null,
          "[Removed]"
         ],
         null,
         "[Removed]",
         "[Removed]",
         "https://removed.com",
         null,
         "1970-01-01T00:00:00Z",
         "[Removed]"
        ],
        [
         [
          null,
          "[Removed]"
         ],
         null,
         "[Removed]",
         "[Removed]",
         "https://removed.com",
         null,
         "1970-01-01T00:00:00Z",
         "[Removed]"
        ],
        [
         [
          null,
          "Observador.pt"
         ],
         "Ricardo Zorron",
         "Tratar a obesidade com endoscopia, sem incisões? Sim, já é possível",
         "Nos últimos cinco anos tem existido uma verdadeira revolução nas terapias endoscópicas que possibilitam um maior acesso a tratamentos para a obesidade, uma alternativa menos invasiva e sem incisões.",
         "https://observador.pt/opiniao/tratar-a-obesidade-com-endoscopia-sem-incisoes-sim-ja-e-possivel/",
         "https://wm.observador.pt/wm-op/wide-circle/https%3A%2F%2Fbordalo.observador.pt%2Fv2%2Frs%3Afill%3A900%2Fc%3A467%3A467%3Anowe%3A9%3A3%2Fq%3A86%2Fplain%2Fhttps%3A%2F%2Fs3.observador.pt%2Fwp-content%2Fuploads%2F2023%2F09%2F15111743%2Fwhatsapp-image-2023-09-12-at-164340.jpeg",
         "2023-09-17T23:03:43Z",
         "Através de uma abordagem minimamente invasiva, as técnicas endoscópicas desempenham um papel cada vez mais relevante no tratamento da obesidade, ajudando as pessoas a perder peso e a controlar doença… [+3854 chars]"
        ],
        [
         [
          null,
          "[Removed]"
         ],
         null,
         "[Removed]",
         "[Removed]",
         "https://removed.com",
         null,
         "1970-01-01T00:00:00Z",
         "[Removed]"
        ],
        [
         [
          null,
          "Sapo.pt"
         ],
         "Marisa Pinto",
         "Cão-robot com Raspberry Pi ensina espanhol a crianças surdas",
         "É incrível a quantidade de tecnologia que nos dias que correm ajudam significativamente em áreas como a saúde, terapias, reabilitação, aprendizagem, entre outras. Nesse sentido, vamos hoje conhecer o Robins, um cão-robot com raspberry...",
         "https://pplware.sapo.pt/gadgets/cao-robot-com-raspberry-pi-ensina-espanhol-a-criancas-surdas/",
         "https://pplware.sapo.pt/wp-content/uploads/2023/09/cao-robot_0.jpg",
         "2023-09-05T13:00:03Z",
         "É incrível a quantidade de tecnologia que nos dias que correm ajudam significativamente em áreas como a saúde, terapias, reabilitação, aprendizagem, entre outras. Nesse sentido, vamos hoje conhecer o… [+1876 chars]"
        ],
        [
         [
          null,
          "Www.tsf.pt"
         ],
         "Lusa",
         "Morreu Ian Wilmut, \"pai\" da ovelha Dolly",
         "O trabalho do especialista em embriologia foi considerado fundamental para a investigação que visa tratar doenças genéticas e degenerativas ajudando o corpo a reparar tecidos danificados.",
         "https://www.tsf.pt/mundo/morreu-ian-wilmut-pai-da-ovelha-dolly-17006400.html",
         "https://static.globalnoticias.pt/tsf/image.jpg?brand=TSF&type=generate&guid=d460562f-c697-4222-b4fd-8dc02af92e59&w=800&h=420&watermark=true&t=20230911191400",
         "2023-09-11T18:14:00Z",
         "O cientista afastou-se do meio académico em 2012 e em 2018 tornou público que tinha a doença de Parkinson\r\n© Naokazu Oinuma/AP (arquivo)\r\nO biólogo britânicoIan Wilmut, \"pai\" da ovelha Dolly, o prime… [+1949 chars]"
        ],
        [
         [
          null,
          "Observador.pt"
         ],
         "Maria Raimundo",
         "Boa nutrição é bom negócio",
         "A personalização está a tornar-se fundamental na prevenção e gestão de doenças. Isto torna a nutrição personalizada e a medicina de precisão componentes essenciais na prevenção e gestão de doenças.",
         "https://observador.pt/opiniao/boa-nutricao-e-bom-negocio/",
         "https://wm.observador.pt/wm-op/wide-circle/https%3A%2F%2Fbordalo.observador.pt%2Fv2%2Frs%3Afill%3A900%2Fc%3A467%3A467%3Anowe%3A0%3A0%2Fq%3A86%2Fplain%2Fhttps%3A%2F%2Fs3.observador.pt%2Fwp-content%2Fuploads%2F2020%2F07%2F27203316%2Fmr_obs_467x467_acf_cropped.jpg",
         "2023-09-11T23:09:08Z",
         "A má nutrição está a desafiar quase todos os aspectos da nossa sociedade, contribuindo para problemas de saúde, desigualdades na saúde, no acesso à mesma, e nas despesas evitáveis com cuidados de saú… [+9116 chars]"
        ],
        [
         [
          null,
          "Observador.pt"
         ],
         "Inês Capucho",
         "DeepMind, da Google, desenvolve programa com Inteligência Artificial que prevê se mutações de ADN podem causar doenças",
         "As previsões do programa AlphaMissense, desenvolvido pela DeepMind, sobre as chamadas mutações \"missense\" podem ajudar a acelerar a investigação e o diagnóstico de doenças raras.",
         "https://observador.pt/2023/09/20/deepmind-da-google-desenvolve-programa-com-inteligencia-artificial-que-preve-se-mutacoes-de-adn-podem-causar-doencas/",
         "https://wm.observador.pt/wm/obs/l/https%3A%2F%2Fbordalo.observador.pt%2Fv2%2Frs%3Afill%3A770%3A403%2Fc%3A3504%3A1973%3Anowe%3A0%3A532%2Fq%3A85%2Fplain%2Fhttps%3A%2F%2Fs3.observador.pt%2Fwp-content%2Fuploads%2F2022%2F02%2F24081421%2FGettyImages-90739363.jpg",
         "2023-09-20T17:45:28Z",
         "A DeepMind, detida pela Google, utilizou a Inteligência Artificial para identificar mutações de ADN que podem causar doenças. É através do programa AlphaMissense, desenvolvido por cientistas, que a e… [+1752 chars]"
        ],
        [
         [
          null,
          "Abril.com.br"
         ],
         "Diogo Sponchiato",
         "Nobel vai para descobertas que resultaram nas vacinas de RNA para Covid-19",
         "Láurea em Medicina é concedida a dois pesquisadores pelos trabalhos que culminaram na nova geração de vacinas que ajudou a deter a pandemia",
         "https://veja.abril.com.br/saude/nobel-de-medicina-2023-vacina-covid",
         "https://veja.abril.com.br/wp-content/uploads/2023/10/490_envelhecer-vacina-gripe.png?w=680&h=453&crop=1",
         "2023-10-02T09:59:49Z",
         "O Prêmio Nobel de Fisiologia ou Medicina de 2023 reconhece dois pesquisadores por suas descobertas fundamentais que permitiram criar as primeiras vacinas de RNA da história, as mesmas que ajudaram a … [+2446 chars]"
        ],
        [
         [
          null,
          "Abril.com.br"
         ],
         "Diogo Sponchiato",
         "Do que falamos quando falamos em demência",
         "Quadro que solapa a memória e outras habilidades cognitivas tem diversas causas, mas o Alzheimer é a principal delas",
         "https://veja.abril.com.br/coluna/letra-de-medico/do-que-falamos-quando-falamos-em-demencia",
         "https://veja.abril.com.br/wp-content/uploads/2023/09/envelhecer-cerebro.png?w=680&h=449&crop=1",
         "2023-09-21T10:12:08Z",
         "Demência é um diagnóstico clínico que indica a redução progressiva das capacidades cerebrais, levando à perda de autonomia e da qualidade de vida. Dentre múltiplas causas, a doença de Alzheimer é a m… [+3622 chars]"
        ],
        [
         [
          null,
          "[Removed]"
         ],
         null,
         "[Removed]",
         "[Removed]",
         "https://removed.com",
         null,
         "1970-01-01T00:00:00Z",
         "[Removed]"
        ],
        [
         [
          null,
          "Abril.com.br"
         ],
         "Simone Blanes",
         "MSD inicia última fase de estudo para comprimido que reduz colesterol ruim",
         "Chamado de MK-0616, o remédio experimental inibe a ação de PCSK9. Se aprovado, será o primeiro comprimido oral dessa categoria",
         "https://veja.abril.com.br/saude/msd-inicia-ultima-fase-de-estudo-para-comprimido-que-reduz-colesterol-ruim",
         "https://veja.abril.com.br/wp-content/uploads/2016/05/estatina-remedio-colesterol-20121108-original.jpeg?quality=90&strip=info&w=620&h=349&crop=1",
         "2023-09-04T18:03:54Z",
         "A MSD iniciou um programa clínico de Fase 3 para um inibidor oral de PCSK9, avaliado para o tratamento de hipercolesterolemia, ou seja, a redução do colesterol da lipoproteína de baixa densidade (LDL… [+2295 chars]"
        ],
        [
         [
          null,
          "Olhardigital.com.br"
         ],
         "Alessandro Di Lorenzo",
         "Descoberta de pesquisadores da USP pode ajudar no combate ao câncer",
         "Pesquisadores identificaram o mecanismo envolvido na replicação e reparo de DNA, o que pode ajudar no tratamento contra o câncer\nO post Descoberta de pesquisadores da USP pode ajudar no combate ao câncer apareceu primeiro em Olhar Digital.",
         "https://olhardigital.com.br/2023/09/21/medicina-e-saude/descoberta-de-pesquisadores-da-usp-pode-ajudar-no-combate-ao-cancer/",
         "https://proxy.olhardigital.com.br/wp-content/uploads/2023/05/Destaque-tratamento-cancer.jpg",
         "2023-09-21T17:55:31Z",
         "Uma descoberta de pesquisadores do Instituto de QuÃ­mica da USP e de duas universidades da Inglaterra pode auxiliar no combate a diferentes tipos de cÃ¢ncer. Os cientistas identificaram o mecanismo e… [+4889 chars]"
        ],
        [
         [
          null,
          "Abril.com.br"
         ],
         "Paula Felix",
         "Novo estudo com terapia inovadora contra câncer é autorizado pela Anvisa",
         "Ensaio com células geneticamente modificadas, as CAR-T, será conduzido pela Fundação Hemocentro de Ribeirão Preto e Instituto Butantan",
         "https://veja.abril.com.br/saude/novo-estudo-com-terapia-inovadora-contra-cancer-e-autorizado-pela-anvisa",
         "https://veja.abril.com.br/wp-content/uploads/2017/11/cancer-car-t-terapia-17.jpg?quality=90&strip=info&w=680&h=453&crop=1",
         "2023-09-26T23:12:38Z",
         "A Agência Nacional de Vigilância Sanitária (Anvisa) autorizou nesta terça-feira, 26, um novo ensaio clínico nacional com CAR-T, terapia inovadora com células geneticamente modificadas que agem contra… [+2746 chars]"
        ],
        [
         [
          null,
          "Terra.com.br"
         ],
         "Deutsche Welle",
         "Por que você deve a sua vida a uns poucos humanos primitvos?",
         "Análises genéticas apontam que quase todos os nossos ancestrais morreram em uma catástrofe ...",
         "https://www.terra.com.br/noticias/por-que-voce-deve-a-sua-vida-a-uns-poucos-humanos-primitvos,4f56bf2b1e4ab45dbafda310e9294f1coffppy18.html",
         "https://p2.trrsf.com/image/fget/cf/1200/630/middle/images.terra.com/2023/09/05/1696209846-58045134354.jpg",
         "2023-09-05T18:08:14Z",
         "Análises genéticas apontam que quase todos os nossos ancestrais morreram em uma catástrofe natural 900 mil anos atrás. Apenas 1.280 indivíduos teriam sobrevivido. Uma parte deles está em você.Imagine… [+4310 chars]"
        ],
        [
         [
          null,
          "Googlediscovery.com"
         ],
         "Renê Fraga",
         "Mark Zuckerberg anuncia IA generativa para curar todas as doenças",
         "A Chan Zuckerberg Initiative (CZI), organização filantrópica fundada por Priscilla Chan e Mark Zuckerberg, anunciou um projeto inovador de inteligência",
         "https://googlediscovery.com/2023/09/20/mark-zuckerberg-anuncia-ia-generativa-para-curar-todas-as-doencas/",
         "https://cdn.googlediscovery.com/wp-content/uploads/chan-zuckerberg.jpg",
         "2023-09-20T16:59:48Z",
         "A Chan Zuckerberg Initiative (CZI), organização filantrópica fundada por Priscilla Chan e Mark Zuckerberg, anunciou um projeto inovador de inteligência artificial generativa. \r\nA iniciativa consiste … [+1695 chars]"
        ],
        [
         [
          null,
          "Abril.com.br"
         ],
         "diego.valencia",
         "Subir escadas pode reduzir o risco de doenças cardíacas em 20%, diz estudo",
         "Pesquisadores analisaram repositório de informações sobre saúde e estilo de vida com dados de mais de 458 mil adultos no Reino Unido",
         "https://veja.abril.com.br/saude/subir-escadas-pode-reduzir-o-risco-de-doencas-cardiacas-em-20-diz-estudo",
         "https://veja.abril.com.br/wp-content/uploads/2017/04/esporte-corrida-escada-20150213-018.jpg?quality=90&strip=info&w=680&h=453&crop=1",
         "2023-10-03T17:00:59Z",
         "Odeia quando o elevador quebra? De fato, é um incômodo, mas subir lances de escada pode salvar sua vida, de acordo com um novo estudo da Universidade de Tulane, em Louisiana, nos Estados Unidos.\r\nPes… [+1324 chars]"
        ],
        [
         [
          null,
          "[Removed]"
         ],
         null,
         "[Removed]",
         "[Removed]",
         "https://removed.com",
         null,
         "1970-01-01T00:00:00Z",
         "[Removed]"
        ],
        [
         [
          null,
          "[Removed]"
         ],
         null,
         "[Removed]",
         "[Removed]",
         "https://removed.com",
         null,
         "1970-01-01T00:00:00Z",
         "[Removed]"
        ],
        [
         [
          null,
          "Abril.com.br"
         ],
         "Diogo Sponchiato",
         "‘A saúde climática e a humana andam de mãos dadas’",
         "Em entrevista exclusiva, CEO global da AstraZeneca expõe os desafios da sustentabilidade do sistema de saúde e por onde caminha o futuro da medicina",
         "https://veja.abril.com.br/saude/a-saude-climatica-e-a-humana-andam-de-maos-dadas",
         "https://veja.abril.com.br/wp-content/uploads/2023/09/AZ3087-BoD-Pascal-Soriot-2022.jpg?quality=90&strip=info&w=680&h=453&crop=1",
         "2023-09-19T11:16:22Z",
         "Não dá para falar sobre a sustentabilidade dos sistemas de saúde sem falar de outra sustentabilidade, a ambiental – e vice-versa. É o que defende o francês Pascal Soriot, CEO global da biofarmacêutic… [+14790 chars]"
        ],
        [
         [
          null,
          "Abril.com.br"
         ],
         "Da Redação",
         "Morre cientista que liderou criação de Dolly, o primeiro animal clonado",
         "Feito gerou manchetes e debates éticos acalorados em 1996",
         "https://veja.abril.com.br/mundo/morre-cientista-que-liderou-criacao-de-dolly-o-primeiro-animal-clonado",
         "https://veja.abril.com.br/wp-content/uploads/2023/09/WhatsApp-Image-2023-09-11-at-15.46.58.jpeg?quality=90&strip=info&w=680&h=453&crop=1",
         "2023-09-11T19:03:48Z",
         "O cientista britânico Ian Wilmut, que liderou as pesquisas que resultaram na criação do primeiro animal clonado no mundo, a ovelha Dolly, morreu aos 79 anos no último domingo, 10. A morte foi anuncia… [+1984 chars]"
        ],
        [
         [
          null,
          "Olhardigital.com.br"
         ],
         "Rodrigo Mozelli",
         "Anvisa autoriza ensaio clínico com CAR-T Cell no Brasil para combater câncer",
         "Estudo tem como objetivo avaliar a segurança e eficácia do tratamento em pacientes com leucemia linfoide aguda B e linfoma não-Hodgkin B\nO post Anvisa autoriza ensaio clínico com CAR-T Cell no Brasil para combater câncer apareceu primeiro em Olhar Digital.",
         "https://olhardigital.com.br/2023/09/26/medicina-e-saude/anvisa-autoriza-ensaio-clinico-com-car-t-cell-no-brasil-para-combater-cancer/",
         "https://proxy.olhardigital.com.br/wp-content/uploads/2023/09/cancer-2.jpg",
         "2023-09-26T22:00:05Z",
         "A FundaÃ§Ã£o Hemocentro de RibeirÃ£o Preto (FUNDHERP), em parceria com o Instituto Butantan, recebeu autorizaÃ§Ã£o da Anvisa para realizar ensaio clÃ­nico no Brasil com a tÃ©cnica CAR-T Cell, que uti… [+2904 chars]"
        ],
        [
         [
          null,
          "[Removed]"
         ],
         null,
         "[Removed]",
         "[Removed]",
         "https://removed.com",
         null,
         "1970-01-01T00:00:00Z",
         "[Removed]"
        ],
        [
         [
          null,
          "B9.com.br"
         ],
         "Carlos Merigo",
         "Johnson & Johnson atualiza identidade visual e abandona seu reconhecido logotipo caligráfico",
         "A gigante da saúde, Johnson & Johnson, apresenta uma nova identidade visual. Abandona o reconhecido logotipo em caligrafia para simplificar a marca, buscando refletir sua evolução e foco em inovação. A cor vermelha também foi alterada. Por que isso é importan…",
         "https://www.b9.com.br/164509/johnson-johnson-atualiza-identidade-visual-e-abandona-seu-reconhecido-logotipo-caligrafico/",
         "https://assets.b9.com.br/wp-content/uploads/2023/09/JJ_Lobby01_HighRes-1280x677.jpg",
         "2023-09-14T17:50:25Z",
         "A gigante da saúde, Johnson &amp; Johnson, apresenta uma nova identidade visual. Abandona o reconhecido logotipo em caligrafia para simplificar a marca, buscando refletir sua evolução e foco em inova… [+1178 chars]"
        ],
        [
         [
          null,
          "Melhoresdestinos.com.br"
         ],
         "Cleverson Lima",
         "Minas Gerais! Resort all inclusive em Poços de Caldas com diárias a partir de R$ 677",
         "Poços de Caldas, no Sul de Minas Gerais, oferece uma das melhores estâncias hidrominerais da América Latina, com águas minerais usadas em diversas terapias, clima montanhês da Serra da Mantiqueira, excelente culinária e charmosa arquitetura da década de 30.  …",
         "https://www.melhoresdestinos.com.br/promocao/minas-pocos-caldas-resort",
         "https://www.melhoresdestinos.com.br/wp-content/uploads/2021/06/cassino-resort-pocos-de-caldas-capa-2021-2.jpg",
         "2023-09-23T12:00:04Z",
         "Poços de Caldas, no Sul de Minas Gerais, oferece uma das melhores estâncias hidrominerais da América Latina, com águas minerais usadas em diversas terapias, clima montanhês da Serra da Mantiqueira, e… [+1409 chars]"
        ],
        [
         [
          null,
          "Catracalivre.com.br"
         ],
         "Redação",
         "Estudo diz que menopausa precoce aumento o risco de demência",
         "Uma recente pesquisa realizada pela Universidade de Sherbrooke, no Canadá, revelou uma forte relação entre o início precoce da menopausa em mulheres e um",
         "https://catracalivre.com.br/saude-bem-estar/estudo-diz-que-menopausa-precoce-aumento-o-risco-de-demencia/",
         "https://catracalivre.com.br/cdn-cgi/image/f=auto,q=60,w=1200,h=638,fit=cover,format=jpeg/wp-content/uploads/2023/09/menopausa.jpg",
         "2023-09-28T19:30:43Z",
         "Uma recente pesquisa realizada pela Universidade de Sherbrooke, no Canadá, revelou uma forte relação entre o início precoce da menopausa em mulheres e um risco elevado de desenvolvimento de comorbida… [+1853 chars]"
        ],
        [
         [
          null,
          "Megacurioso.com.br"
         ],
         "Vivian de Souza Campos",
         "Superbactérias: como evitar a resistência aos antibióticos",
         "Superbactérias, ou bactérias resistentes a antibióticos, são cepas microbianas que desenvolveram a capacidade de resistir a um ou mais antibióticos. Essa resistência pode ocorrer devido a mutações genéticas aleatórias, ou pode ser adquirida devido ao uso inad…",
         "https://www.megacurioso.com.br//ciencia/127528-superbacterias-como-evitar-a-resistencia-aos-antibioticos.htm",
         "https://mega.ibxk.com.br/2023/10/03/03152401766265.jpg?ims=600x",
         "2023-10-03T19:00:00Z",
         "Superbactérias, ou bactérias resistentes a antibióticos, são cepas microbianas que desenvolveram a capacidade de resistir a um ou mais antibióticos. Essa resistência pode ocorrer devido a mutações ge… [+3311 chars]"
        ],
        [
         [
          null,
          "[Removed]"
         ],
         null,
         "[Removed]",
         "[Removed]",
         "https://removed.com",
         null,
         "1970-01-01T00:00:00Z",
         "[Removed]"
        ],
        [
         [
          null,
          "[Removed]"
         ],
         null,
         "[Removed]",
         "[Removed]",
         "https://removed.com",
         null,
         "1970-01-01T00:00:00Z",
         "[Removed]"
        ],
        [
         [
          null,
          "[Removed]"
         ],
         null,
         "[Removed]",
         "[Removed]",
         "https://removed.com",
         null,
         "1970-01-01T00:00:00Z",
         "[Removed]"
        ],
        [
         [
          null,
          "Terra.com.br"
         ],
         "Portal EdiCase",
         "Entenda por que doenças vasculares podem aumentar no calor",
         "Quando não cuidamos da saúde, os dias de calor torna-se um momento de alerta para o corpo, ...",
         "https://www.terra.com.br/vida-e-estilo/saude/entenda-por-que-doencas-vasculares-podem-aumentar-no-calor,52723791eadd8bccd0bd285409f363b03cid3uve.html",
         "https://p2.trrsf.com/image/fget/cf/1200/630/middle/images.terra.com/2023/09/22/1100783929-doencas-vasculares.jpeg",
         "2023-09-22T22:02:23Z",
         "Quando não cuidamos da saúde, os dias de calor torna-se um momento de alerta para o corpo, especialmente para aqueles que sofrem com problemas cardiovasculares. Isso porque, segundo dados da Sociedad… [+3207 chars]"
        ],
        [
         [
          null,
          "Abril.com.br"
         ],
         "Da Redação",
         "Medicina tecnológica para todos",
         "Assim como a terapia CAR-T, existem inúmeras abordagens terapêuticas inovadoras em desenvolvimento em centros de pesquisa ao redor do planeta",
         "https://veja.abril.com.br/coluna/coluna-claudio-lottenberg/medicina-tecnologica-para-todos",
         "https://veja.abril.com.br/wp-content/uploads/2017/11/cancer-car-t-terapia-17.jpg?quality=90&strip=info&w=680&h=453&crop=1",
         "2023-09-18T16:11:55Z",
         "A terapia com células CAR-T é um dos tratamentos mais recentes e promissores no combate aos cânceres de sangue, como o linfoma e as leucemias agudas. Ele consiste na coleta de células de defesa do pa… [+3354 chars]"
        ],
        [
         [
          null,
          "[Removed]"
         ],
         null,
         "[Removed]",
         "[Removed]",
         "https://removed.com",
         null,
         "1970-01-01T00:00:00Z",
         "[Removed]"
        ],
        [
         [
          null,
          "Terra.com.br"
         ],
         "Reuters",
         "Belga Biobest compra empresa brasileira de soluções agrícolas naturais Biotrop em acordo de US$570 mi",
         "A empresa belga de biocontrole de pragas e doenças e polinização natural para produção agrícola ...",
         "https://www.terra.com.br/economia/dinheiro-em-acao/belga-biobest-compra-empresa-brasileira-de-solucoes-agricolas-naturais-biotrop-em-acordo-de-us570-mi,92e023c86a50c8325dbc0b2d6ca40870yybi9fsw.html",
         "https://s1.trrsf.com/fe/zaz-mod-t360-icons/svg/logos/terra-16x9-borda.png",
         "2023-09-07T18:50:26Z",
         "A empresa belga de biocontrole de pragas e doenças e polinização natural para produção agrícola sustentável Biobest Group fechou acordo para adquirir a brasileira do mesmo ramo Biotrop, em um movimen… [+1927 chars]"
        ],
        [
         [
          null,
          "Observador.pt"
         ],
         "Agência Lusa",
         "Empresa da Covilhã deteta enzima que pode travar doença de Parkinson",
         "Uma empresa sediada na Covilhã está a desenvolver uma molécula que produz stress oxidativo e que pode ser moldada às necessidades do doente, permitindo que permaneçam no primeiro estágio da doença.",
         "https://observador.pt/2023/09/22/empresa-da-covilha-deteta-enzima-que-pode-travar-doenca-de-parkinson/",
         "https://wm.observador.pt/wm/obs/l/https%3A%2F%2Fbordalo.observador.pt%2Fv2%2Frs%3Afill%3A770%3A403%2Fc%3A2000%3A1124%3Anowe%3A0%3A105%2Fq%3A85%2Fplain%2Fhttps%3A%2F%2Fs3.observador.pt%2Fwp-content%2Fuploads%2F2017%2F12%2F12161206%2F19081089.jpg",
         "2023-09-22T10:33:53Z",
         "Uma empresa com sede na Covilhã está na fase de conclusão dos testes pré-clínicos de uma enzima responsável por produzir stress oxidativo que pode ser moldada para níveis que permitam evitar a progre… [+3017 chars]"
        ],
        [
         [
          null,
          "Sapo.pt"
         ],
         "Ana Sofia Neto",
         "Mosquito que transmite dengue e zika aterrou em Lisboa pela primeira vez",
         "Embora tenha sido detetada no norte de Portugal, em 2017, esta foi a primeira vez que a espécie de mosquitos aterrou em Lisboa. Há infeções que, a menos que viajemos, nos são muito distantes,...",
         "https://pplware.sapo.pt/ciencia/mosquito-que-transmite-dengue-e-zika-aterrou-em-lisboa-pela-primeira-vez/",
         "https://pplware.sapo.pt/wp-content/uploads/2023/09/Aedes-Albopictus_B00.jpg",
         "2023-09-28T08:40:24Z",
         "Embora tenha sido detetada no norte de Portugal, em 2017, esta foi a primeira vez que a espécie de mosquitos aterrou em Lisboa.\r\nHá infeções que, a menos que viajemos, nos são muito distantes, pois n… [+1448 chars]"
        ],
        [
         [
          null,
          "Catracalivre.com.br"
         ],
         "Redação",
         "Alimento comum na cozinha do brasileiro reduz risco de câncer, diz estudo",
         "Comer bem é necessário não só para manter o corpo funcionando corretamente, mas também para prevenir uma série de doenças. É por isso que, ás vezes, nos",
         "https://catracalivre.com.br/saude-bem-estar/alimento-comum-na-cozinha-do-brasileiro-reduz-risco-de-cancer-diz-estudo/",
         "https://catracalivre.com.br/cdn-cgi/image/f=auto,q=60,w=1200,h=638,fit=cover,format=jpeg/wp-content/uploads/2023/09/istock-1635263915-1.jpg",
         "2023-09-22T22:01:08Z",
         "Comer bem é necessário não só para manter o corpo funcionando corretamente, mas também para prevenir uma série de doenças.\r\nÉ por isso que, ás vezes, nos deparamos com alimentos conhecidos como “supe… [+2233 chars]"
        ],
        [
         [
          null,
          "Terra.com.br"
         ],
         "Reuters",
         "CDC dos EUA endossa vacina da Pfizer contra doença sazonal para proteger bebês",
         "O Centro de Controle e Prevenção de Doenças dos EUA (CDC, na sigla em inglês) endossou nesta ...",
         "https://www.terra.com.br/noticias/mundo/cdc-dos-eua-endossa-vacina-da-pfizer-contra-doenca-sazonal-para-proteger-bebes,98c42c6c5c276e9a6307f08a293eb128a0g5s529.html",
         "https://s1.trrsf.com/fe/zaz-mod-t360-icons/svg/logos/terra-16x9-borda.png",
         "2023-09-23T00:17:36Z",
         "O Centro de Controle e Prevenção de Doenças dos EUA (CDC, na sigla em inglês) endossou nesta sexta-feira a vacina da Pfizer contra o vírus sincicial respiratório (VSR) para mulheres que estão no terc… [+1370 chars]"
        ],
        [
         [
          null,
          "Abril.com.br"
         ],
         "Paula Felix",
         "A proteína capaz de manter a célula humana saudável por mais tempo",
         "Estudo feito por pesquisadores brasileiros e australianos aponta caminhos para tratar doenças autoimunes e até câncer",
         "https://veja.abril.com.br/saude/a-proteina-capaz-de-manter-celula-humana-saudavel-por-mais-tempo",
         "https://veja.abril.com.br/wp-content/uploads/2023/09/Celulas-humanas-coxiella.jpg?quality=90&strip=info&w=680&h=453&crop=1",
         "2023-09-11T14:45:31Z",
         "Pesquisadores da Universidade de São Paulo (USP) e colaboradores da Austrália identificaram uma proteína bacteriana capaz de manter as células humanas saudáveis por mais tempo. A descoberta pode leva… [+5133 chars]"
        ],
        [
         [
          null,
          "Olhardigital.com.br"
         ],
         "Alessandro Di Lorenzo",
         "Árvore “congelada” no tempo por milhões de anos tem mistério revelado",
         "Conhecida como \"fóssil vivo\", a árvore praticamente não sofreu alterações desde o tempo em que os dinossauros dominavam a Terra\nO post Árvore “congelada” no tempo por milhões de anos tem mistério revelado apareceu primeiro em Olhar Digital.",
         "https://olhardigital.com.br/2023/09/15/ciencia-e-espaco/arvore-congelada-no-tempo-por-milhoes-de-anos-tem-misterio-revelado/",
         "https://img.olhardigital.com.br/wp-content/uploads/2023/09/Pinheiro-1.jpg",
         "2023-09-15T17:06:28Z",
         "Cientistas da AustrÃ¡lia, Estados Unidos e ItÃ¡liaÂ decodificaram o genoma de uma rarÃ­ssima Ã¡rvore conhecida como âfÃ³ssil vivoâ. O pinheiroÂ Wollemi (Wollemia nobilis) foi descoberto em 1994 e… [+3199 chars]"
        ],
        [
         [
          null,
          "Expresso.pt"
         ],
         "Expresso",
         "Agendas mobilizadoras canalizam €480 milhões para transformar sector da saúde em três anos",
         "Plano de Recuperação e de Resiliência é central no investimento que privados e Estado preveem canalizar para o desenvolvimento de terapias inovadoras, para doenças graves como o cancro, e em novas formas de combater a resistência aos antibióticos",
         "https://expresso.pt/economia/empresas/2023-10-02-Agendas-mobilizadoras-canalizam-480-milhoes-para-transformar-sector-da-saude-em-tres-anos-17de87a9",
         "https://images.impresa.pt/expresso/2023-06-28-laboratorio-deac6dc7/1.91x1?wm=true&outputFormat=jpeg",
         "2023-10-02T14:56:57Z",
         "O Plano de Recuperação e Resiliência (PRR) irá apoiar quatro agendas mobilizadoras da saúde, que durante os próximos três anos irão captar investimentos de cerca de 180 milhões de euros do setor priv… [+2989 chars]"
        ],
        [
         [
          null,
          "BBC News"
         ],
         "https://www.facebook.com/bbcnews",
         "Sensação de estar isolado do mundo é uma das grandes preocupações do século 21",
         "Sensação de estar isolado do mundo é uma das grandes preocupações do século 21",
         "https://www.bbc.com/portuguese/media-66843698",
         "https://ichef.bbci.co.uk/news/1024/branded_portuguese/80CB/production/_131117923_mediaitem131117922.jpg",
         "2023-09-18T10:24:06Z",
         "Sensação de estar isolado do mundo é uma das grandes preocupações do século 21\r\nA solidão virou uma das grandes preocupações de saúde do século 21. \r\nComparada ao cigarro e relacionada ao risco de do… [+343 chars]"
        ],
        [
         [
          null,
          "[Removed]"
         ],
         null,
         "[Removed]",
         "[Removed]",
         "https://removed.com",
         null,
         "1970-01-01T00:00:00Z",
         "[Removed]"
        ],
        [
         [
          null,
          "Catracalivre.com.br"
         ],
         "Redação",
         "Pesquisa indica composto encontrado nestes alimentos que pode prevenir câncer",
         "Você sabia que diversas pesquisas ao longo dos anos têm apontado benefícios potenciais para a fisetina, um flavonoide com atividade antioxidante presente",
         "https://catracalivre.com.br/saude-bem-estar/pesquisa-indica-composto-encontrado-nestes-alimentos-que-previne-cancer/",
         "https://catracalivre.com.br/cdn-cgi/image/f=auto,q=60,w=1200,h=638,fit=cover,format=jpeg/wp-content/uploads/2023/09/istock-1325282418.jpg",
         "2023-09-26T10:00:45Z",
         "Você sabia que diversas pesquisas ao longo dos anos têm apontado benefícios potenciais para a fisetina, um flavonoide com atividade antioxidante presente em frutas e vegetais?\r\nEstudos epidemiológico… [+2817 chars]"
        ],
        [
         [
          null,
          "Abril.com.br"
         ],
         "diego.valencia",
         "O que a microbiota intestinal tem a ver com distúrbios neurológicos?",
         "Revisão feita por pesquisadores da Unifesp inclui doenças como Alzheimer e Parkinson e transtornos psiquiátricos como depressão e ansiedade",
         "https://veja.abril.com.br/saude/como-a-microbiota-influencia-disturbios-neurologicos-e-psiquiatricos",
         "https://veja.abril.com.br/wp-content/uploads/2020/09/câncer-de-intestino.jpg?quality=90&strip=info&w=680&h=453&crop=1",
         "2023-09-06T19:48:52Z",
         "Há trilhões de microrganismos, incluindo bactérias, fungos e vírus, no interior do trato gastrointestinal conjunto que leva o nome de microbiota. É quase o mesmo número de células em um corpo humano.… [+3585 chars]"
        ],
        [
         [
          null,
          "[Removed]"
         ],
         null,
         "[Removed]",
         "[Removed]",
         "https://removed.com",
         null,
         "1970-01-01T00:00:00Z",
         "[Removed]"
        ],
        [
         [
          null,
          "Terra.com.br"
         ],
         "Portal EdiCase",
         "Entenda o que é a hipercifose e como tratar essa condição",
         "A hipercifose, também conhecida popularmente como 'corcunda', trata-se de uma doença óssea ...",
         "https://www.terra.com.br/vida-e-estilo/saude/entenda-o-que-e-a-hipercifose-e-como-tratar-essa-condicao,323d34d575b92837f1fad0d49bfe650b67beo2wl.html",
         "https://p2.trrsf.com/image/fget/cf/1200/630/middle/images.terra.com/2023/10/02/638203844-coluna-dores.jpeg",
         "2023-10-02T17:31:30Z",
         "A hipercifose, também conhecida popularmente como 'corcunda', trata-se de uma doença óssea causada por um desvio corporal que, normalmente, faz com que as pessoas tenham uma curvatura na região torác… [+2694 chars]"
        ],
        [
         [
          null,
          "Abril.com.br"
         ],
         "Paula Felix",
         "OMS recomenda vacinas contra malária e dengue diante de onda de mosquitos",
         "Entidade fez alerta sobre risco das doenças principalmente para crianças; Qdenga foi aprovada para uso no Brasil em março",
         "https://veja.abril.com.br/saude/oms-recomenda-vacinas-contra-malaria-e-dengue-diante-de-onda-de-mosquitos",
         "https://veja.abril.com.br/wp-content/uploads/2023/06/aedes_aegypti-dengue2.webp?w=680&h=453&crop=1",
         "2023-10-02T22:47:48Z",
         "Diante do aumento das doenças transmitidas por mosquitos em diferentes partes do mundo, a Organização Mundial da Saúde (OMS) divulgou nesta segunda-feira, 2, um comunicado recomendando a nova vacina … [+2768 chars]"
        ],
        [
         [
          null,
          "Sapo.pt"
         ],
         "Rui Jorge",
         "Poria o seu cérebro nas mãos da IA? Será uma realidade dentro de dois anos",
         "Um importante neurocirurgião do Reino Unido afirmou que a cirurgia cerebral com recurso à inteligência artificial (IA) será possível dentro de dois anos, tornando-a mais segura e eficaz.   O governo britânico afirma que...",
         "https://pplware.sapo.pt/inteligencia-artificial/poria-o-seu-cerebro-nas-maos-da-ia-sera-uma-realidade-dentro-de-dois-anos/",
         "https://pplware.sapo.pt/wp-content/uploads/2022/01/cirurgia_robo00.jpg",
         "2023-09-30T10:00:12Z",
         "Um importante neurocirurgião do Reino Unido afirmou que a cirurgia cerebral com recurso à inteligência artificial (IA) será possível dentro de dois anos, tornando-a mais segura e eficaz.\r\nO governo b… [+2511 chars]"
        ],
        [
         [
          null,
          "Olhardigital.com.br"
         ],
         "Nayra Teles",
         "USP: terapia celular pode reduzir mortes por Covid-19",
         "Pesquisadores da Universidade de São Paulo (USP) descobriram que a terapia celular pode reduzir em 60% o risco de morte por COVID-19\nO post USP: terapia celular pode reduzir mortes por Covid-19 apareceu primeiro em Olhar Digital.",
         "https://olhardigital.com.br/2023/09/19/medicina-e-saude/usp-terapia-celular-pode-reduzir-mortes-por-covid-19/",
         "https://proxy.olhardigital.com.br/wp-content/uploads/2023/09/terapia-celular.png",
         "2023-09-19T21:03:20Z",
         "A terapia celular, bastante utilizada em tratamentos contra o cÃ¢ncer, tem grande potencial contra a Covid-19. Ã o que aponta a revisÃ£o sistemÃ¡tica e meta-anÃ¡lise realizada por pesquisadores da U… [+4229 chars]"
        ],
        [
         [
          null,
          "Terra.com.br"
         ],
         "Porto Alegre 24 horas",
         "HCPA busca voluntários para estudo clínico que avalia medicamento experimental para o COVID-19",
         "Hospital de Clínicas está com inscrições abertas para adultos acima de 18 (dezoito) anos portadores de doenças crônicas como, por exemplo, diabetes, obesidade, hipertensão ou doenças cardiovasculares, que testaram positivo para COVID-19 nos últimos três dias …",
         "https://www.terra.com.br/noticias/hcpa-busca-voluntarios-para-estudo-clinico-que-avalia-medicamento-experimental-para-o-covid-19,6ce0dbd8c3d6c7770745a34adf194601wibvrrif.html",
         "https://p2.trrsf.com/image/fget/cf/1200/630/middle/images.terra.com/2023/09/20/717673475-fachada2-1536x1021-1.jpg",
         "2023-09-20T15:41:12Z",
         "O Hospital de Clínicas de Porto Alegre ainda está com vagas abertas para voluntários que queiram colaborar com o SCORPIO-HR, um estudo clínico global de Fase 3 com pacientes não hospitalizados e sint… [+3502 chars]"
        ],
        [
         [
          null,
          "[Removed]"
         ],
         null,
         "[Removed]",
         "[Removed]",
         "https://removed.com",
         null,
         "1970-01-01T00:00:00Z",
         "[Removed]"
        ],
        [
         [
          null,
          "[Removed]"
         ],
         null,
         "[Removed]",
         "[Removed]",
         "https://removed.com",
         null,
         "1970-01-01T00:00:00Z",
         "[Removed]"
        ],
        [
         [
          null,
          "Olhardigital.com.br"
         ],
         "Alessandro Di Lorenzo",
         "Novo vírus é descoberto nas profundezas da Fossa das Marianas",
         "Bacteriófago, um tipo de vírus que infecta e se replica dentro de bactérias, foi localizado a uma profundidade de 8.900 metros\nO post Novo vírus é descoberto nas profundezas da Fossa das Marianas apareceu primeiro em Olhar Digital.",
         "https://olhardigital.com.br/2023/09/21/ciencia-e-espaco/novo-virus-e-descoberto-nas-profundezas-da-fossa-das-marianas/",
         "https://proxy.olhardigital.com.br/wp-content/uploads/2023/09/Fossa-das-marianas-1.jpg",
         "2023-09-21T20:26:34Z",
         "Segundo dados da AdministraÃ§Ã£o Nacional OceÃ¢nica e AtmosfÃ©rica dos Estados Unidos,apenas cerca de 20% do fundo do mar foi mapeado atÃ© hoje. Uma descoberta de uma equipe internacional de pesquisa… [+2809 chars]"
        ],
        [
         [
          null,
          "Jovemnerd.com.br"
         ],
         "Pedro Siqueira",
         "Netflix põe camisinha em monumento para divulgação dura de Sex Education",
         "Streaming elevou o marketing a um novo nível para a temporada final da série\nThe post Netflix põe camisinha em monumento para divulgação dura de Sex Education appeared first on Jovem Nerd.",
         "https://jovemnerd.com.br/nerdbunker/netflix-camisinha-gigante-sex-education/",
         "https://uploads.jovemnerd.com.br/wp-content/uploads/2023/09/netflix_sex_education_obelisco__25030n3ow.jpg",
         "2023-09-23T15:07:35Z",
         "A divulgação da temporada final de Sex Education está duríssima. Tanto que a Netflix colocou uma CAMISINHA GIGANTE no Obelisco, um dos maiores monumentos da Argentina, num vídeo promocional que vem c… [+897 chars]"
        ],
        [
         [
          null,
          "Abril.com.br"
         ],
         "Paula Felix",
         "Injeção semanal para deficiência de hormônio do crescimento é liberada",
         "Medicação para crianças e adultos reduz em 85% o número de aplicações por ano; preço não foi definido e lançamento no Brasil ainda será anunciado",
         "https://veja.abril.com.br/saude/injecao-semanal-para-deficiencia-de-hormonio-do-crescimento-e-liberada",
         "https://veja.abril.com.br/wp-content/uploads/2016/05/alx_465382081_original1.jpeg?quality=90&strip=info&w=680&h=453&crop=1",
         "2023-09-25T21:40:54Z",
         "Uma nova opção de tratamento para crianças e adultos com deficiência do hormônio do crescimento (GH) com aplicação subcutânea semanal, por meio de uma “caneta”, foi liberada no Brasil nesta segunda-f… [+2629 chars]"
        ],
        [
         [
          null,
          "Terra.com.br"
         ],
         "Sport Life",
         "Abacate emagrece? Descubra 14 benefícios secretos da fruta",
         "Abacate emagrece ou engorda? Essa dúvida é comum em pessoas que são fãs do sabor da fruta. Por ...",
         "https://www.terra.com.br/vida-e-estilo/abacate-emagrece-descubra-14-beneficios-secretos-da-fruta,1079792ed39d3e3303fdd4fd29d5b3d3tj80nanf.html",
         "https://p2.trrsf.com/image/fget/cf/1200/630/middle/images.terra.com/2023/09/07/392743629-shutterstock785296315-1.jpg",
         "2023-09-07T19:02:17Z",
         "Abacate emagrece ou engorda? Essa dúvida é comum em pessoas que são fãs do sabor da fruta. Por ser um alimento natural, muitos acreditam que o abacate ajuda a emagrecer. Por outro lado, os altos níve… [+4997 chars]"
        ],
        [
         [
          null,
          "[Removed]"
         ],
         null,
         "[Removed]",
         "[Removed]",
         "https://removed.com",
         null,
         "1970-01-01T00:00:00Z",
         "[Removed]"
        ],
        [
         [
          null,
          "Uol.com.br"
         ],
         null,
         null,
         "A molécula sintetiza o conjunto de proteínas que um organismo necessita para viver",
         "https://www1.folha.uol.com.br/ciencia/2023/09/rna-de-tigre-da-tasmania-extinto-e-recuperado-pela-primeira-vez.shtml",
         "https://f.i.uol.com.br/fotografia/2023/09/19/1695178196650a5dd469a9a_1695178196_3x2_rt.jpg",
         "2023-09-20T10:50:04Z",
         "O tigre-da-tasmânia, um marsupial carnívoro listrado do tamanho de um cachorro, também chamado de tilacino, era um predador de ponta que caçava cangurus e outras presas e já vagou pelo território con… [+2149 chars]"
        ],
        [
         [
          null,
          "Catracalivre.com.br"
         ],
         "Redação",
         "Saiba quais atividades físicas reduzem risco de 9 tipos de câncer",
         "A aptidão cardiorrespiratória, responsável pela capacidade de executar atividades físicas aeróbicos prolongados, pode ser a chave para a prevenção de",
         "https://catracalivre.com.br/saude-bem-estar/saiba-quais-atividades-fisicas-reduzem-risco-de-9-tipos-de-cancer/",
         "https://catracalivre.com.br/cdn-cgi/image/f=auto,q=60,w=1200,h=638,fit=cover,format=jpeg/wp-content/uploads/2023/08/istock-1168199832.jpg",
         "2023-09-11T02:30:05Z",
         "A aptidão cardiorrespiratória, responsável pela capacidade de executar atividades físicas aeróbicos prolongados, pode ser a chave para a prevenção de diversos tipos de câncer. Um estudo recente, publ… [+2947 chars]"
        ],
        [
         [
          null,
          "[Removed]"
         ],
         null,
         "[Removed]",
         "[Removed]",
         "https://removed.com",
         null,
         "1970-01-01T00:00:00Z",
         "[Removed]"
        ],
        [
         [
          null,
          "Uol.com.br"
         ],
         null,
         null,
         "Cálculo biliar bovino, chamado de pedra de fel, é usado na medicina oriental para tratar doenças respiratórias",
         "https://www1.folha.uol.com.br/mercado/2023/09/criminosos-roubam-r-2-milhoes-em-pedras-de-boi-no-interior-de-sp.shtml",
         "https://f.i.uol.com.br/fotografia/2023/09/21/1695325609650c9da9b56df_1695325609_3x2_lg.jpg",
         "2023-09-22T00:51:36Z",
         "Três homensassaltaram uma empresa de exportação no interior de São Paulo e levaram 2,7 quilos de cálculo biliar bovino, também conhecido como pedra de fel, avaliado em R$ 2 milhões, segundo a Delegac… [+1877 chars]"
        ],
        [
         [
          null,
          "Observador.pt"
         ],
         "Agência Lusa",
         "Idosos vítimas de maus tratos apresentam mais doença física e mental",
         "Dados \"assustadores\" de um estudo português revelam que os idosos que sofrem violência intra-familiar ou de cuidadores \"são muito mais doentes, têm muitas mais patologias do que a restante população\".",
         "https://observador.pt/2023/09/29/idosos-vitimas-de-maus-tratos-apresentam-mais-doenca-fisica-e-mental/",
         "https://wm.observador.pt/wm/obs/l/https%3A%2F%2Fbordalo.observador.pt%2Fv2%2Frs%3Afill%3A770%3A403%2Fc%3A2121%3A1192%3Anowe%3A0%3A111%2Fq%3A85%2Fplain%2Fhttps%3A%2F%2Fs3.observador.pt%2Fwp-content%2Fuploads%2F2022%2F02%2F09214115%2FGettyImages-1290458362.jpg",
         "2023-09-29T09:52:20Z",
         "Um estudo da Faculdade de Medicina da Universidade do Porto (FMUP) revelou que os idosos vítimas de maus tratos apresentam mais doença física e mental, algo “assustador” que para os investigadores de… [+3910 chars]"
        ],
        [
         [
          null,
          "Tecmundo.com.br"
         ],
         "Fabio Dominski",
         "Atividade física no trabalho faz bem?",
         "Este texto foi escrito por um colunista do TecMundo; saiba mais no final.\"Eu me movimento bastante no trabalho, não preciso de exercícios”, já ouviu alguém falar isso? Essa pessoa provavelmente tem uma alta demanda energética em seu trabalho e acredita que is…",
         "https://www.tecmundo.com.br/ciencia/271824-atividade-fisica-trabalho.htm",
         "https://tm.ibxk.com.br/2023/09/20/20121343539166.jpg",
         "2023-09-20T17:00:00Z",
         "Este texto foi escrito por um colunista do TecMundo; saiba mais no final.\r\n\"Eu me movimento bastante no trabalho, não preciso de exercícios, já ouviu alguém falar isso? Essa pessoa provavelmente tem … [+5260 chars]"
        ],
        [
         [
          null,
          "Tecmundo.com.br"
         ],
         "Jennifer Egues",
         "SUS Digital: uso inteligência artificial pode melhorar a saúde pública?",
         "O Ministério da Saúde estuda implementar ferramentas de Inteligência Artificial (IA) no Sistema Único de Saúde, objetivando melhorar o atendimento, agilizando processos e estendo atendimento a regiões de difícil acesso físico.Para a pasta, a implementação da …",
         "https://www.tecmundo.com.br/ciencia/267730-sus-digital-uso-inteligencia-artificial-melhorar-saude-publica.htm",
         "https://tm.ibxk.com.br/2023/08/18/18144410198207.jpg",
         "2023-09-04T14:30:01Z",
         "O Ministério da Saúde estuda implementar ferramentas de Inteligência Artificial (IA) no Sistema Único de Saúde, objetivando melhorar o atendimento, agilizando processos e estendo atendimento a regiõe… [+5930 chars]"
        ],
        [
         [
          null,
          "Sapo.pt"
         ],
         "Ana Sofia Neto",
         "Afinal, o açúcar prejudica ou não a saúde?",
         "O açúcar está em tantos alimentos que, certamente, surpreender-se-ia com alguns deles. Mas, assim sendo, será assim tão prejudicial? É um tema complexo, como muitos deles na nutrição, e parece ser pouco claro para...",
         "https://pplware.sapo.pt/ciencia/afinal-o-acucar-prejudica-ou-nao-a-saude/",
         "https://pplware.sapo.pt/wp-content/uploads/2023/09/bolo00.jpg",
         "2023-09-15T20:00:17Z",
         "O açúcar está em tantos alimentos que, certamente, surpreender-se-ia com alguns deles. Mas, assim sendo, será assim tão prejudicial?\r\nÉ um tema complexo, como muitos deles na nutrição, e parece ser p… [+3659 chars]"
        ],
        [
         [
          null,
          "Observador.pt"
         ],
         "Observador",
         "Descoberta nova célula no cérebro que pode ajudar a estudar o Alzheimer",
         "Novo estudo revela a existência de uma nova célula, que pode ajudar a explicar o desenvolvimento de doenças neurodegenerativas e a localizar \"potenciais alvos terapêuticos\".",
         "https://observador.pt/2023/09/06/descoberta-nova-celula-no-cerebro-que-pode-ajudar-a-estudar-o-alzheimer/",
         "https://wm.observador.pt/wm/obs/l/https%3A%2F%2Fbordalo.observador.pt%2Fv2%2Frs%3Afill%3A770%3A403%2Fc%3A3543%3A1993%3Anowe%3A0%3A131%2Fq%3A85%2Fplain%2Fhttps%3A%2F%2Fs3.observador.pt%2Fwp-content%2Fuploads%2F2023%2F09%2F06184926%2Fgettyimages-1487034049.jpg",
         "2023-09-06T18:08:06Z",
         "A cada três segundos, há uma pessoa no mundo a desenvolver demência. Em 2020, os dados recolhidos pelo Alzheimer’s Disease International (ADI) mostravam que havia mais de 55 milhões de pessoas a vive… [+2235 chars]"
        ],
        [
         [
          null,
          "Observador.pt"
         ],
         "Inês André Figueiredo",
         "Mosquito que transmite dengue e zika detetado em Lisboa pela primeira vez",
         "DGS reforçou a vigilância entomológica e epidemiológica, mas garantiu que não foram identificados nestes mosquitos quaisquer agentes de doenças que possam ser transmitidas às pessoas.",
         "https://observador.pt/2023/09/27/mosquito-que-transmite-dengue-e-zika-detetado-em-lisboa-pela-primeira-vez/",
         "https://wm.observador.pt/wm/obs/l/https%3A%2F%2Fbordalo.observador.pt%2Fv2%2Frs%3Afill%3A770%3A403%2Fc%3A1998%3A1126%3Anowe%3A0%3A100%2Fq%3A85%2Fplain%2Fhttps%3A%2F%2Fs3.observador.pt%2Fwp-content%2Fuploads%2F2019%2F04%2F15200407%2F20319704.jpg",
         "2023-09-27T16:25:37Z",
         "A Direção-Geral de Saúde (DGS) revelou que a espécie de mosquitos Aedes albopictus foi identificada pela primeira vez em Lisboa e alertou que este mosquito pode transmitir doenças como chikungunya, d… [+1110 chars]"
        ],
        [
         [
          null,
          "Observador.pt"
         ],
         "Carolina Sobral",
         "Cientistas criam modelo de embrião sem espermatozoide, óvulo ou útero. É o primeiro que imita em completo um embrião humano",
         "Modelo foi desenvolvido a partir de células estaminais que se organizaram em estruturas que imitam a organização 3D de um embrião real com 14 dias. O modelo deu positivo num teste de gravidez.",
         "https://observador.pt/2023/09/06/cientistas-criam-modelo-de-embriao-sem-espermatozoide-ovulo-ou-utero-e-o-primeiro-que-imita-em-completo-um-embriao-humano/",
         "https://wm.observador.pt/wm/obs/l/https%3A%2F%2Fbordalo.observador.pt%2Fv2%2Frs%3Afill%3A770%3A403%2Fc%3A2000%3A1124%3Anowe%3A0%3A104%2Fq%3A85%2Fplain%2Fhttps%3A%2F%2Fs3.observador.pt%2Fwp-content%2Fuploads%2F2019%2F02%2F28085820%2Fistock-904268950.jpg",
         "2023-09-06T16:31:46Z",
         "Sem recurso a espermatozoide, óvulos ou um útero, cientistas criaram pela primeira vez um modelo de embriões humanos que imita de forma completa todas as características conhecidas num embrião real. … [+1946 chars]"
        ],
        [
         [
          null,
          "Observador.pt"
         ],
         "Sofia Teixeira",
         "Que ondas cerebrais são estas?",
         "O cérebro emite misteriosos padrões de atividade que estão alterados em doentes  com doenças neurológicas ou psiquiátricas. Na Universidade do Minho, Joana Cabral tenta conhecer melhor estes sinais.",
         "https://observador.pt/2023/09/25/que-ondas-cerebrais-sao-estas/",
         "https://wm.observador.pt/wm/obs/l/https%3A%2F%2Fbordalo.observador.pt%2Fv2%2Frs%3Afill%3A770%3A403%2Fc%3A3200%3A1796%3Anowe%3A0%3A340%2Fq%3A85%2Fplain%2Fhttps%3A%2F%2Fs3.observador.pt%2Fwp-content%2Fuploads%2F2023%2F09%2F25012852%2F0-20230807-goncalo-villaverde-0205.jpg",
         "2023-09-25T13:49:21Z",
         "Uma iniciativa\r\nHá momentos em que o cérebro de Joana Cabral parece um carro de Fórmula Um: é muito difícil de acompanhar quando acelera a fundo. Salta de raciocínio em raciocínio, estabelece pontes … [+12097 chars]"
        ],
        [
         [
          null,
          "Terra.com.br"
         ],
         "Elas no Tapete Vermelho",
         "VMA 2023: Anitta repete grife de 2022 e elege look Schiaparelli",
         "A Schiaparelli tem em seu DNA o surrealismo. Fato esse que agrada em cheio famosas, como Anitta, ...",
         "https://www.terra.com.br/vida-e-estilo/autocuidado/moda/vma-2023-anitta-repete-grife-de-2022-e-elege-look-schiaparelli,fee499f8c205c826421124c9561fae83mmokijah.html",
         "https://p2.trrsf.com/image/fget/cf/1200/630/middle/images.terra.com/2023/09/12/1728798519-37802777434786638823962214802485532612152661n-e1694562071640.jpg",
         "2023-09-12T23:48:05Z",
         "A Schiaparelli tem em seu DNA o surrealismo. Fato esse que agrada em cheio famosas, como Anitta, que pelo segundo ano consecutivo elegeu a grife francesa para cruzar o tapete vermelho do VMA (Video M… [+1146 chars]"
        ],
        [
         [
          null,
          "Pragmatismopolitico.com.br"
         ],
         "Redação",
         "Benefícios das substâncias encontradas no vinho: uma análise científica",
         "É importante ter cuidado ao consumi-lo e sempre respeitar as contraindicações e limites recomendados. É possível encontrar de forma acessível bons vinhos no mercado, mas é fundamental ter consciência dos riscos e sempre consumir com moderação\nO post Benefício…",
         "https://www.pragmatismopolitico.com.br/2023/10/beneficios-substancias-encontradas-vinho-analise-cientifica.html",
         "https://www.pragmatismopolitico.com.br/wp-content/uploads/2023/10/beneficios-substancias-encontradas-vinho-analise-cientifica.jpg",
         "2023-10-02T11:30:18Z",
         "É importante ter cuidado ao consumi-lo e sempre respeitar as contraindicações e limites recomendados. É possível encontrar de forma acessível bons vinhos no mercado, mas é fundamental ter consciência… [+22678 chars]"
        ],
        [
         [
          null,
          "Olhardigital.com.br"
         ],
         "Alessandro Di Lorenzo",
         "EUA: vacina experimental contra HIV será testada em humanos",
         "No total, 95 participantes serão divididos em grupos, com três deles recebendo dosagens diferentes da vacina contra o HIV\nO post EUA: vacina experimental contra HIV será testada em humanos apareceu primeiro em Olhar Digital.",
         "https://olhardigital.com.br/2023/09/22/medicina-e-saude/eua-vacina-experimental-contra-hiv-sera-testada-em-humanos/",
         "https://proxy.olhardigital.com.br/wp-content/uploads/2022/03/HIV-capa.jpg",
         "2023-09-22T14:46:06Z",
         "A empresa Vir Biotechnology anunciou o inÃ­cio dos testes em humanos de uma vacina experimental contra o HIV. A companhia norte-americana disse que espera ter os dados iniciais dos trabalhos de fase … [+2542 chars]"
        ],
        [
         [
          null,
          "Olhardigital.com.br"
         ],
         "Lucas Gabriel Machado Henriques",
         "Como a inteligência artificial pode ajudar na saúde mental",
         "Entenda como a inteligência artificial pode ser usada para auxiliar no combate aos transtornos psicológicos e ajudar na saúde mental\nO post Como a inteligência artificial pode ajudar na saúde mental apareceu primeiro em Olhar Digital.",
         "https://olhardigital.com.br/2023/09/11/medicina-e-saude/como-a-inteligencia-artificial-pode-ajudar-na-saude-mental/",
         "https://img.olhardigital.com.br/wp-content/uploads/2023/09/capa-1.jpg",
         "2023-09-11T15:33:19Z",
         "Com a crescente utilizaÃ§Ã£o da inteligÃªncia artificial em diversos setores da indÃºstria e da sociedade, muitas tÃ©cnicas que usam essa tecnologia surgiram para melhorar o dia a dia das pessoas, au… [+2927 chars]"
        ],
        [
         [
          null,
          "Olhardigital.com.br"
         ],
         "Pedro Borges Spadoni",
         "Imunologista vence prêmio de inovação por tratamento contra câncer",
         "O imunologista Michel Sadelain levou o prêmio Breakthrough por seu trabalho pioneiro na terapia com células CAR-T para câncer\nO post Imunologista vence prêmio de inovação por tratamento contra câncer apareceu primeiro em Olhar Digital.",
         "https://olhardigital.com.br/2023/09/14/medicina-e-saude/imunologista-vence-premio-de-inovacao-por-tratamento-contra-cancer/",
         "https://img.olhardigital.com.br/wp-content/uploads/2023/09/Destaque-Michel-Sadelain-imunologista-cancer.jpg",
         "2023-09-15T01:08:01Z",
         "O imunologista francÃªs-canadense Michel Sadelain venceu o prestigiado prÃªmio Breakthrough nesta quinta-feira (14) por seu trabalho pioneiro na terapia com cÃ©lulas CAR-T â uma nova forma de trata… [+3677 chars]"
        ],
        [
         [
          null,
          "Olhardigital.com.br"
         ],
         "Lucas Soares",
         "Alienígenas do México são reais? Entenda a polêmica",
         "Nesta quarta-feira (13) o mundo a ufologia foi surpreendido com uma apresentação no congresso mexicano onde um ufólogo mostrou supostos cadáveres de alienígenas. Pelo histórico polêmico do pesquisador, a notícia já foi encarada com ceticismo. De acordo com o …",
         "https://olhardigital.com.br/2023/09/14/ciencia-e-espaco/alienigenas-do-mexico-sao-reais-entenda-a-polemica/",
         "https://img.olhardigital.com.br/wp-content/uploads/2023/09/alienigenas-mexico.jpg",
         "2023-09-14T16:03:07Z",
         "Nesta quarta-feira (13) o mundo a ufologia foi surpreendido com uma apresentaÃ§Ã£o no congresso mexicano onde um ufÃ³logo mostrou supostos cadÃ¡veres de alienÃ­genas. Pelo histÃ³rico polÃªmico do pes… [+2991 chars]"
        ],
        [
         [
          null,
          "Olhardigital.com.br"
         ],
         "Mateus Dias",
         "Ufólogo de supostos aliens do México já foi desmascarado outras vezes",
         "Jaime Maussan apresentou no México restos mortais de alienígenas, no entanto, toda essa historia pode ser mentira\nO post Ufólogo de supostos aliens do México já foi desmascarado outras vezes apareceu primeiro em Olhar Digital.",
         "https://olhardigital.com.br/2023/09/14/ciencia-e-espaco/ufologo-de-supostos-aliens-do-mexico-ja-foi-desmascarado-outras-vezes/",
         "https://img.olhardigital.com.br/wp-content/uploads/2023/09/Jaime-Maussan.jpg",
         "2023-09-14T20:07:00Z",
         "Na terÃ§a-feira (12), o ufÃ³logo e jornalista Jaime Maussan apresentou ao Congresso do MÃ©xico os restos mortais de dois supostos alienÃ­genas. A demonstraÃ§Ã£o dos espÃ©cimes aconteceu durante uma a… [+2753 chars]"
        ],
        [
         [
          null,
          "Tecmundo.com.br"
         ],
         "Jorge Marin",
         "Google DeepMind: nova ferramenta de IA prevê doenças genéticas",
         "Um novo programa de inteligência artificial desenvolvido por cientistas do Google DeepMind é capaz de prever se milhões de mutações genéticas presentes em nossa sequência de DNA que são inofensivas ou propensas a causar doenças no futuro. Batizada como AlphaM…",
         "https://www.tecmundo.com.br/ciencia/271822-google-deepmind-nova-ferramenta-ia-preve-doencas-geneticas.htm",
         "https://tm.ibxk.com.br/2023/09/20/20120248396161.jpg",
         "2023-09-20T15:15:00Z",
         "Um novo programa de inteligência artificial desenvolvido por cientistas do Google DeepMind é capaz de prever se milhões de mutações genéticas presentes em nossa sequência de DNA que são inofensivas o… [+2940 chars]"
        ],
        [
         [
          null,
          "Olhardigital.com.br"
         ],
         "Alessandro Di Lorenzo",
         "Estudo descobre novas características genéticas do Alzheimer",
         "A descoberta, segundo os pesquisadores, pode contribuir para o desenvolvimento futuro de exames de sangue para a doença de Alzheimer\nO post Estudo descobre novas características genéticas do Alzheimer apareceu primeiro em Olhar Digital.",
         "https://olhardigital.com.br/2023/09/07/medicina-e-saude/estudo-descobre-novas-caracteristicas-geneticas-do-alzheimer/",
         "https://img.olhardigital.com.br/wp-content/uploads/2023/05/Alzheimer.jpg",
         "2023-09-07T10:01:00Z",
         "Pesquisadores da Universidade de Pittsburgh, nos Estados Unidos, analisaram milhares de genomas humanos para encontrar novas variaÃ§Ãµes genÃ©ticas responsÃ¡veis por controlar os nÃ­veis de molÃ©cula… [+2542 chars]"
        ],
        [
         [
          null,
          "Sapo.pt"
         ],
         "Ana Sofia Neto",
         "Cérebro artificial ajuda a perceber as origens genéticas do autismo",
         "Uma nova técnica científica está a revelar as origens genéticas da perturbação do espetro do autismo (ou PEA) escondidas no nosso cérebro. O cérebro é curiosamente complexo e há muito sobre ele que ainda...",
         "https://pplware.sapo.pt/ciencia/cerebro-artificial-ajuda-a-perceber-as-origens-geneticas-do-autismo/",
         "https://pplware.sapo.pt/wp-content/uploads/2023/09/organoide_cerebral00.jpg",
         "2023-09-24T13:00:25Z",
         "Uma nova técnica científica está a revelar as origens genéticas da perturbação do espetro do autismo (ou PEA) escondidas no nosso cérebro.\r\nO cérebro é curiosamente complexo e há muito sobre ele que … [+3282 chars]"
        ],
        [
         [
          null,
          "Tecmundo.com.br"
         ],
         "Jorge Marin",
         "Miniórgãos descobertos em mamíferos podem gerar respostas autoimunes",
         "Pesquisadores do Instituto Federal Suíço de Tecnologia de Zurique descobriram recentemente um tipo de organela que havia permanecido não caracterizada até agora nas células dos mamíferos. O “miniórgão”, batizado como exclusoma, é feito de anéis de DNA chamado…",
         "https://www.tecmundo.com.br/ciencia/272244-miniorgaos-descobertos-mamiferos-gerar-respostas-autoimunes.htm",
         "https://tm.ibxk.com.br/2023/10/02/02154244691267.jpg",
         "2023-10-02T20:30:04Z",
         "Pesquisadores do Instituto Federal Suíço de Tecnologia de Zurique descobriram recentemente um tipo de organela que havia permanecido não caracterizada até agora nas células dos mamíferos. O miniórgão… [+3134 chars]"
        ],
        [
         [
          null,
          "Olhardigital.com.br"
         ],
         "Vitoria Lopes Gomez",
         "Vacinas erradicaram doenças que, antes, matavam mais que guerras",
         "Doenças como a poliomielite e a varíola, que mataram milhões no século passado, desapareceram graças às vacinas\nO post Vacinas erradicaram doenças que, antes, matavam mais que guerras apareceu primeiro em Olhar Digital.",
         "https://olhardigital.com.br/2023/09/08/medicina-e-saude/vacinas-erradicaram-doencas-que-antes-matavam-mais-que-guerras/",
         "https://img.olhardigital.com.br/wp-content/uploads/2023/07/vacina-e1692890816557.jpg",
         "2023-09-08T20:30:20Z",
         "NÃ£o Ã© incomum ouvir falar sobre a gravidade de doenÃ§as que hoje sequer nos lembramos. Ã o caso, por exemplo, da varÃ­ola e da poliomielite. Ambas mataram milhÃµes de pessoas no sÃ©culo passado, m… [+2308 chars]"
        ],
        [
         [
          null,
          "Olhardigital.com.br"
         ],
         "Alessandro Di Lorenzo",
         "IA brasileira é capaz de prever doenças com antecedência",
         "A IA Dara pode coletar dados e realizar uma rápida varredura em todo o histórico médico do paciente, indicando riscos de saúde\nO post IA brasileira é capaz de prever doenças com antecedência apareceu primeiro em Olhar Digital.",
         "https://olhardigital.com.br/2023/09/29/medicina-e-saude/ia-brasileira-e-capaz-de-prever-doencas-com-antecedencia/",
         "https://proxy.olhardigital.com.br/wp-content/uploads/2023/09/iStock-1411998514.jpg",
         "2023-09-29T21:04:45Z",
         "Uma inteligÃªncia artificial desenvolvida por uma empresa brasileira pode ajudar a prevenir doenÃ§as como acidente vascular cerebral (AVC), infarto e diabetes, por exemplo. A Dara foi criada pela IPM… [+1959 chars]"
        ],
        [
         [
          null,
          "Sapo.pt"
         ],
         "Rui Jorge",
         "Cientistas adaptam a Realidade Virtual para utilização em consultas remotas",
         "Os investigadores da Universidade de Canterbury criaram um headset de realidade virtual (RV) que poderá ser utilizado pelos médicos para realizar avaliações médicas de pacientes que vivem em zonas rurais, têm doenças infeciosas ou...",
         "https://pplware.sapo.pt/high-tech/cientistas-adaptam-a-realidade-virtual-para-utilizacao-em-consultas-remotas/",
         "https://pplware.sapo.pt/wp-content/uploads/2023/09/rv_medicina.jpg",
         "2023-09-20T14:00:25Z",
         "Os investigadores da Universidade de Canterbury criaram um headset de realidade virtual (RV) que poderá ser utilizado pelos médicos para realizar avaliações médicas de pacientes que vivem em zonas ru… [+3368 chars]"
        ],
        [
         [
          null,
          "Olhardigital.com.br"
         ],
         "Flavia Correia",
         "Bichos-da-seda transgênicos criam fibras mais resistentes do que tecido à prova de bala",
         "Usando engenharia genética, cientistas inseriram genes de aranha em bichos-da-seda para produção de tecidos mais resistentes do que Kevlar\nO post Bichos-da-seda transgênicos criam fibras mais resistentes do que tecido à prova de bala apareceu primeiro em Olha…",
         "https://olhardigital.com.br/2023/09/26/ciencia-e-espaco/bichos-da-seda-transgenicos-criam-fibras-mais-resistentes-do-que-tecido-a-prova-de-bala/",
         "https://proxy.olhardigital.com.br/wp-content/uploads/2023/09/bicho-da-seda.jpg",
         "2023-09-26T19:18:52Z",
         "Cientistas utilizaram engenharia genÃ©tica para gerar bichos-da-seda capazes de produzir fibras mais resistentes do que o Kevlar, tambÃ©m chamado de poliaramida â material usado em coletes Ã  prova… [+3623 chars]"
        ],
        [
         [
          null,
          "Olhardigital.com.br"
         ],
         "Alessandro Di Lorenzo",
         "Estudo indica onde fica o lar original da humanidade",
         "Pesquisadores criaram uma rede de quase 27 milhões de ancestrais, desenvolvendo uma gigantesca árvore genealógica da humanidade\nO post Estudo indica onde fica o lar original da humanidade apareceu primeiro em Olhar Digital.",
         "https://olhardigital.com.br/2023/09/14/ciencia-e-espaco/estudo-indica-onde-fica-o-lar-original-da-humanidade/",
         "https://img.olhardigital.com.br/wp-content/uploads/2022/03/deserto.jpg",
         "2023-09-14T20:40:37Z",
         "A histÃ³ria da humanidade Ã© marcada pelas migraÃ§Ãµes. Por milhares de anos, nossa espÃ©cie se deslocou pela Terra em busca de Ã¡gua, alimentos e tudo o que proporciona uma vida melhor. Mas existe u… [+2407 chars]"
        ],
        [
         [
          null,
          "Olhardigital.com.br"
         ],
         "Alessandro Di Lorenzo",
         "Segundo transplante com coração de porco para humano é feito com sucesso",
         "O coração de porco transplantado tem 10 modificações genéticas para reduzir o risco de ser recusado pelo corpo do paciente\nO post Segundo transplante com coração de porco para humano é feito com sucesso apareceu primeiro em Olhar Digital.",
         "https://olhardigital.com.br/2023/09/22/medicina-e-saude/segundo-transplante-com-coracao-de-porco-para-humano-e-feito-com-sucesso/",
         "https://proxy.olhardigital.com.br/wp-content/uploads/2023/09/Transplante-1.jpg",
         "2023-09-22T19:33:57Z",
         "Pela segunda vez na histÃ³ria, cirurgiÃµes transplantaram o coraÃ§Ã£o de um porco em um homem na tentativa de prolongar sua vida. A operaÃ§Ã£o foi um sucesso e, dois dias depois, o paciente estava fa… [+2546 chars]"
        ],
        [
         [
          null,
          "Olhardigital.com.br"
         ],
         "Mateus Dias",
         "Cientistas encontram povo na África que acreditavam ter sumido",
         "Apesar da língua da população estar deixando de existir, suas distinções genéticas continuam presente nos descendentes\nO post Cientistas encontram povo na África que acreditavam ter sumido apareceu primeiro em Olhar Digital.",
         "https://olhardigital.com.br/2023/09/27/ciencia-e-espaco/cientistas-encontram-povo-na-africa-que-acreditavam-ter-sumido/",
         "https://olhardigital.com.br/wp-content/uploads/2023/09/ultimos-faantes-do-Kwadi.webp",
         "2023-09-27T19:34:40Z",
         "A Ãfrica Austral abriga uma regiÃ£o conhecida como berÃ§o da humanidade, local onde os primeiros hominÃ­deos surgiram. Por causa disso, Ã© possÃ­vel encontrar a maior diversidade genÃ©tica humana po… [+2079 chars]"
        ],
        [
         [
          null,
          "[Removed]"
         ],
         null,
         "[Removed]",
         "[Removed]",
         "https://removed.com",
         null,
         "1970-01-01T00:00:00Z",
         "[Removed]"
        ],
        [
         [
          null,
          "Tecmundo.com.br"
         ],
         "Jennifer Egues",
         "Dara, a IA capaz de prever infartos e AVCs com dados do SUS",
         "Nova inteligência artificial, desenvolvida pela empresa IPM Sistemas, uma GovTech brasileira, pode ser utilizada no serviço público de saúde, otimizando dados e gerando sinais de alerta para doenças como acidente vascular cerebral, infarto e previsões com até…",
         "https://www.tecmundo.com.br/ciencia/272151-dara-ia-capaz-prever-infartos-avcs-dados-sus.htm",
         "https://tm.ibxk.com.br/2023/09/28/28172505232225.jpg",
         "2023-09-29T13:00:00Z",
         "Nova inteligência artificial, desenvolvida pela empresa IPM Sistemas, uma GovTech brasileira, pode ser utilizada no serviço público de saúde, otimizando dados e gerando sinais de alerta para doenças … [+2737 chars]"
        ],
        [
         [
          null,
          "Olhardigital.com.br"
         ],
         "Tamires Ferreira",
         "‘Vacina inversa’ pode ser a chave para tratar doenças autoimunes; entenda",
         "Ação do fármaco no sistema imunológico pode apagar a memória de ataque das moléculas\nO post ‘Vacina inversa’ pode ser a chave para tratar doenças autoimunes; entenda  apareceu primeiro em Olhar Digital.",
         "https://olhardigital.com.br/2023/09/13/medicina-e-saude/vacina-inversa-pode-ser-a-chave-para-tratar-doencas-autoimunes-entenda/",
         "https://img.olhardigital.com.br/wp-content/uploads/2023/09/doenca-autoimune.jpg",
         "2023-09-13T17:37:31Z",
         "Um novo tipo de vacina desenvolvida por pesquisadores da Escola Pritzker de Engenharia Molecular (PME)Â pode ser o novo tratamento mais promissor contra doenÃ§as autoimunes. Com uma proposta de aÃ§Ã£… [+2774 chars]"
        ],
        [
         [
          null,
          "Olhardigital.com.br"
         ],
         "Alessandro Di Lorenzo",
         "Google: pesquisadores fazem descoberta histórica sobre proteínas do corpo humano",
         "Foram catalogadas 71 milhões de mutações e um terço delas poderia causar doenças. Apenas 4 milhões já eram conhecidas pela ciência\nO post Google: pesquisadores fazem descoberta histórica sobre proteínas do corpo humano apareceu primeiro em Olhar Digital.",
         "https://olhardigital.com.br/2023/09/19/medicina-e-saude/google-pesquisadores-fazem-descoberta-historica-sobre-proteinas-do-corpo-humano/",
         "https://proxy.olhardigital.com.br/wp-content/uploads/2023/09/Proteina-1.jpg",
         "2023-09-19T19:46:08Z",
         "Pesquisadores doÂ Google DeepMind, empresa de inteligÃªncia artificial da Alphabet, catalogaram 71 milhÃµes de mutaÃ§Ãµes em proteÃ­nas do corpo humano. Ao classificÃ¡-las, eles descobriram que um te… [+3867 chars]"
        ],
        [
         [
          null,
          "[Removed]"
         ],
         null,
         "[Removed]",
         "[Removed]",
         "https://removed.com",
         null,
         "1970-01-01T00:00:00Z",
         "[Removed]"
        ],
        [
         [
          null,
          "[Removed]"
         ],
         null,
         "[Removed]",
         "[Removed]",
         "https://removed.com",
         null,
         "1970-01-01T00:00:00Z",
         "[Removed]"
        ],
        [
         [
          null,
          "Olhardigital.com.br"
         ],
         "Vitoria Lopes Gomez",
         "Modelo matemático pode revolucionar tratamentos cardíacos",
         "Através do simulador, cientistas poderão entender o funcionamento das doenças cardíacas no coração e, assim, achar novas formas de tratá-las\nO post Modelo matemático pode revolucionar tratamentos cardíacos apareceu primeiro em Olhar Digital.",
         "https://olhardigital.com.br/2023/09/19/medicina-e-saude/modelo-matematico-pode-revolucionar-tratamentos-cardiacos/",
         "https://proxy.olhardigital.com.br/wp-content/uploads/2022/10/coracao-humano.jpg",
         "2023-09-19T07:55:00Z",
         "Um estudo feito por pesquisadores da ItÃ¡lia mostrou que a matemÃ¡tica pode salvar vidas â e prevenir infartos. Os cientistas criaram um modelo matemÃ¡tico computacional do coraÃ§Ã£o para simular o… [+1772 chars]"
        ],
        [
         [
          null,
          "Olhardigital.com.br"
         ],
         "Vitoria Lopes Gomez",
         "Estudo mostra que vape (com ou sem nicotina) paralisa células imunológicas",
         "Pesquisadores testaram e comprovaram que vapor do vape afeta o sistema imunológico, aumentando o risco de doenças respiratórias\nO post Estudo mostra que vape (com ou sem nicotina) paralisa células imunológicas apareceu primeiro em Olhar Digital.",
         "https://olhardigital.com.br/2023/09/11/medicina-e-saude/estudo-mostra-que-vape-com-ou-sem-nicotina-paralisa-celulas-imunologicas/",
         "https://img.olhardigital.com.br/wp-content/uploads/2023/09/vape-1.jpg",
         "2023-09-11T19:11:30Z",
         "O vape (ou cigarro eletrÃ´nico) ganhou terreno, especialmente entre os jovens. As fabricantes conseguiram popularizar o produto dizendo atÃ© que seria um âsubstitutoâ menos nocivo para quem queri… [+2051 chars]"
        ],
        [
         [
          null,
          "Olhardigital.com.br"
         ],
         "Vitoria Lopes Gomez",
         "Fiocruz: Covid-19 avança no Sudeste e Centro-Oeste",
         "Alguns estados do Norte e Nordeste também tiveram alta nos casos de Covid-19 e de outras doenças respiratórias\nO post Fiocruz: Covid-19 avança no Sudeste e Centro-Oeste apareceu primeiro em Olhar Digital.",
         "https://olhardigital.com.br/2023/09/20/medicina-e-saude/fiocruz-covid-19-avanca-no-sudeste-e-centro-oeste/",
         "https://proxy.olhardigital.com.br/wp-content/uploads/2023/07/virus-covid-19.jpg",
         "2023-09-20T18:58:26Z",
         "A FundaÃ§Ã£o Oswaldo Cruz (Fiocruz) divulgou nesta quarta-feira (20) uma atualizaÃ§Ã£o do boletim InfoGripe, com dados de 10 a 16 de setembro. O novo relatÃ³rio mostra um aumento de casos de Covid-19… [+2167 chars]"
        ],
        [
         [
          null,
          "Olhardigital.com.br"
         ],
         "Alessandro Di Lorenzo",
         "Novo remédio imita prática de atividade física e pode reduzir peso",
         "O remédio ainda está sendo testado em ratos, mas apresenta potencial para para tratar doenças como obesidade, diabetes e perda muscular\nO post Novo remédio imita prática de atividade física e pode reduzir peso apareceu primeiro em Olhar Digital.",
         "https://olhardigital.com.br/2023/09/26/medicina-e-saude/novo-remedio-imita-pratica-de-atividade-fisica-e-pode-reduzir-peso/",
         "https://proxy.olhardigital.com.br/wp-content/uploads/2023/09/OBESIDADE-1.jpg",
         "2023-09-26T19:35:21Z",
         "JÃ¡ imaginou tomar um remÃ©dio que garante os mesmos benefÃ­cios que a atividade fÃ­sica? Talvez isso nunca seja totalmente possÃ­vel, mas testes em ratos de um novo tipo de droga tÃªm se mostrado pr… [+3292 chars]"
        ],
        [
         [
          null,
          "Olhardigital.com.br"
         ],
         "Alisson Santos",
         "Autoridades de saúde dos EUA sugerem antibiótico para combater DSTs",
         "Segundo autoridades, o medicamento deve servir como “pílula do dia seguinte” contra as doenças\nO post Autoridades de saúde dos EUA sugerem antibiótico para combater DSTs apareceu primeiro em Olhar Digital.",
         "https://olhardigital.com.br/2023/10/03/medicina-e-saude/autoridades-de-saude-dos-eua-sugerem-antibiotico-para-combater-dsts/",
         "https://proxy.olhardigital.com.br/wp-content/uploads/2023/09/Novos-antibioticos-1.jpg",
         "2023-10-03T09:40:00Z",
         "Autoridades de saÃºde dos Estados Unidos estÃ£o planejando apoiar o uso de antibiÃ³tico barato no combate as doenÃ§as sexualmente transmissÃ­veis (DSTs). Com os registros de contaminaÃ§Ã£o subindo em… [+1637 chars]"
        ],
        [
         [
          null,
          "Tecmundo.com.br"
         ],
         "Lucas Vinicius Santos",
         "Método quântico é capaz de curar câncer cerebral por meio de spray; entenda",
         "De acordo com um estudo publicado na revista científica Nature Nanotechnology, uma equipe de cientistas ingleses conseguiu criar um método quântico por spray para curar um tipo de câncer cerebral. O estudo conduzido por pesquisadores Universidade de Nottingha…",
         "https://www.tecmundo.com.br/ciencia/271666-metodo-quantico-capaz-curar-cancer-cerebral-meio-spray-entenda.htm",
         "https://tm.ibxk.com.br/2023/09/15/15085246049017.jpg",
         "2023-09-15T13:00:00Z",
         "De acordo com um estudo publicado na revista científica Nature Nanotechnology, uma equipe de cientistas ingleses conseguiu criar um método quântico por spray para curar um tipo de câncer cerebral. O … [+2915 chars]"
        ],
        [
         [
          null,
          "[Removed]"
         ],
         null,
         "[Removed]",
         "[Removed]",
         "https://removed.com",
         null,
         "1970-01-01T00:00:00Z",
         "[Removed]"
        ],
        [
         [
          null,
          "[Removed]"
         ],
         null,
         "[Removed]",
         "[Removed]",
         "https://removed.com",
         null,
         "1970-01-01T00:00:00Z",
         "[Removed]"
        ],
        [
         [
          null,
          "Observador.pt"
         ],
         "Ricardo Zorron",
         "Tratar a obesidade com endoscopia, sem incisões? Sim, já é possível",
         "Nos últimos cinco anos tem existido uma verdadeira revolução nas terapias endoscópicas que possibilitam um maior acesso a tratamentos para a obesidade, uma alternativa menos invasiva e sem incisões.",
         "https://observador.pt/opiniao/tratar-a-obesidade-com-endoscopia-sem-incisoes-sim-ja-e-possivel/",
         "https://wm.observador.pt/wm-op/wide-circle/https%3A%2F%2Fbordalo.observador.pt%2Fv2%2Frs%3Afill%3A900%2Fc%3A467%3A467%3Anowe%3A9%3A3%2Fq%3A86%2Fplain%2Fhttps%3A%2F%2Fs3.observador.pt%2Fwp-content%2Fuploads%2F2023%2F09%2F15111743%2Fwhatsapp-image-2023-09-12-at-164340.jpeg",
         "2023-09-17T23:03:43Z",
         "Através de uma abordagem minimamente invasiva, as técnicas endoscópicas desempenham um papel cada vez mais relevante no tratamento da obesidade, ajudando as pessoas a perder peso e a controlar doença… [+3854 chars]"
        ],
        [
         [
          null,
          "[Removed]"
         ],
         null,
         "[Removed]",
         "[Removed]",
         "https://removed.com",
         null,
         "1970-01-01T00:00:00Z",
         "[Removed]"
        ],
        [
         [
          null,
          "Sapo.pt"
         ],
         "Marisa Pinto",
         "Cão-robot com Raspberry Pi ensina espanhol a crianças surdas",
         "É incrível a quantidade de tecnologia que nos dias que correm ajudam significativamente em áreas como a saúde, terapias, reabilitação, aprendizagem, entre outras. Nesse sentido, vamos hoje conhecer o Robins, um cão-robot com raspberry...",
         "https://pplware.sapo.pt/gadgets/cao-robot-com-raspberry-pi-ensina-espanhol-a-criancas-surdas/",
         "https://pplware.sapo.pt/wp-content/uploads/2023/09/cao-robot_0.jpg",
         "2023-09-05T13:00:03Z",
         "É incrível a quantidade de tecnologia que nos dias que correm ajudam significativamente em áreas como a saúde, terapias, reabilitação, aprendizagem, entre outras. Nesse sentido, vamos hoje conhecer o… [+1876 chars]"
        ],
        [
         [
          null,
          "Www.tsf.pt"
         ],
         "Lusa",
         "Morreu Ian Wilmut, \"pai\" da ovelha Dolly",
         "O trabalho do especialista em embriologia foi considerado fundamental para a investigação que visa tratar doenças genéticas e degenerativas ajudando o corpo a reparar tecidos danificados.",
         "https://www.tsf.pt/mundo/morreu-ian-wilmut-pai-da-ovelha-dolly-17006400.html",
         "https://static.globalnoticias.pt/tsf/image.jpg?brand=TSF&type=generate&guid=d460562f-c697-4222-b4fd-8dc02af92e59&w=800&h=420&watermark=true&t=20230911191400",
         "2023-09-11T18:14:00Z",
         "O cientista afastou-se do meio académico em 2012 e em 2018 tornou público que tinha a doença de Parkinson\r\n© Naokazu Oinuma/AP (arquivo)\r\nO biólogo britânicoIan Wilmut, \"pai\" da ovelha Dolly, o prime… [+1949 chars]"
        ],
        [
         [
          null,
          "Observador.pt"
         ],
         "Maria Raimundo",
         "Boa nutrição é bom negócio",
         "A personalização está a tornar-se fundamental na prevenção e gestão de doenças. Isto torna a nutrição personalizada e a medicina de precisão componentes essenciais na prevenção e gestão de doenças.",
         "https://observador.pt/opiniao/boa-nutricao-e-bom-negocio/",
         "https://wm.observador.pt/wm-op/wide-circle/https%3A%2F%2Fbordalo.observador.pt%2Fv2%2Frs%3Afill%3A900%2Fc%3A467%3A467%3Anowe%3A0%3A0%2Fq%3A86%2Fplain%2Fhttps%3A%2F%2Fs3.observador.pt%2Fwp-content%2Fuploads%2F2020%2F07%2F27203316%2Fmr_obs_467x467_acf_cropped.jpg",
         "2023-09-11T23:09:08Z",
         "A má nutrição está a desafiar quase todos os aspectos da nossa sociedade, contribuindo para problemas de saúde, desigualdades na saúde, no acesso à mesma, e nas despesas evitáveis com cuidados de saú… [+9116 chars]"
        ],
        [
         [
          null,
          "Observador.pt"
         ],
         "Inês Capucho",
         "DeepMind, da Google, desenvolve programa com Inteligência Artificial que prevê se mutações de ADN podem causar doenças",
         "As previsões do programa AlphaMissense, desenvolvido pela DeepMind, sobre as chamadas mutações \"missense\" podem ajudar a acelerar a investigação e o diagnóstico de doenças raras.",
         "https://observador.pt/2023/09/20/deepmind-da-google-desenvolve-programa-com-inteligencia-artificial-que-preve-se-mutacoes-de-adn-podem-causar-doencas/",
         "https://wm.observador.pt/wm/obs/l/https%3A%2F%2Fbordalo.observador.pt%2Fv2%2Frs%3Afill%3A770%3A403%2Fc%3A3504%3A1973%3Anowe%3A0%3A532%2Fq%3A85%2Fplain%2Fhttps%3A%2F%2Fs3.observador.pt%2Fwp-content%2Fuploads%2F2022%2F02%2F24081421%2FGettyImages-90739363.jpg",
         "2023-09-20T17:45:28Z",
         "A DeepMind, detida pela Google, utilizou a Inteligência Artificial para identificar mutações de ADN que podem causar doenças. É através do programa AlphaMissense, desenvolvido por cientistas, que a e… [+1752 chars]"
        ],
        [
         [
          null,
          "Abril.com.br"
         ],
         "Diogo Sponchiato",
         "Nobel vai para descobertas que resultaram nas vacinas de RNA para Covid-19",
         "Láurea em Medicina é concedida a dois pesquisadores pelos trabalhos que culminaram na nova geração de vacinas que ajudou a deter a pandemia",
         "https://veja.abril.com.br/saude/nobel-de-medicina-2023-vacina-covid",
         "https://veja.abril.com.br/wp-content/uploads/2023/10/490_envelhecer-vacina-gripe.png?w=680&h=453&crop=1",
         "2023-10-02T09:59:49Z",
         "O Prêmio Nobel de Fisiologia ou Medicina de 2023 reconhece dois pesquisadores por suas descobertas fundamentais que permitiram criar as primeiras vacinas de RNA da história, as mesmas que ajudaram a … [+2446 chars]"
        ],
        [
         [
          null,
          "Abril.com.br"
         ],
         "Diogo Sponchiato",
         "Do que falamos quando falamos em demência",
         "Quadro que solapa a memória e outras habilidades cognitivas tem diversas causas, mas o Alzheimer é a principal delas",
         "https://veja.abril.com.br/coluna/letra-de-medico/do-que-falamos-quando-falamos-em-demencia",
         "https://veja.abril.com.br/wp-content/uploads/2023/09/envelhecer-cerebro.png?w=680&h=449&crop=1",
         "2023-09-21T10:12:08Z",
         "Demência é um diagnóstico clínico que indica a redução progressiva das capacidades cerebrais, levando à perda de autonomia e da qualidade de vida. Dentre múltiplas causas, a doença de Alzheimer é a m… [+3622 chars]"
        ],
        [
         [
          null,
          "[Removed]"
         ],
         null,
         "[Removed]",
         "[Removed]",
         "https://removed.com",
         null,
         "1970-01-01T00:00:00Z",
         "[Removed]"
        ],
        [
         [
          null,
          "Abril.com.br"
         ],
         "Simone Blanes",
         "MSD inicia última fase de estudo para comprimido que reduz colesterol ruim",
         "Chamado de MK-0616, o remédio experimental inibe a ação de PCSK9. Se aprovado, será o primeiro comprimido oral dessa categoria",
         "https://veja.abril.com.br/saude/msd-inicia-ultima-fase-de-estudo-para-comprimido-que-reduz-colesterol-ruim",
         "https://veja.abril.com.br/wp-content/uploads/2016/05/estatina-remedio-colesterol-20121108-original.jpeg?quality=90&strip=info&w=620&h=349&crop=1",
         "2023-09-04T18:03:54Z",
         "A MSD iniciou um programa clínico de Fase 3 para um inibidor oral de PCSK9, avaliado para o tratamento de hipercolesterolemia, ou seja, a redução do colesterol da lipoproteína de baixa densidade (LDL… [+2295 chars]"
        ],
        [
         [
          null,
          "Olhardigital.com.br"
         ],
         "Alessandro Di Lorenzo",
         "Descoberta de pesquisadores da USP pode ajudar no combate ao câncer",
         "Pesquisadores identificaram o mecanismo envolvido na replicação e reparo de DNA, o que pode ajudar no tratamento contra o câncer\nO post Descoberta de pesquisadores da USP pode ajudar no combate ao câncer apareceu primeiro em Olhar Digital.",
         "https://olhardigital.com.br/2023/09/21/medicina-e-saude/descoberta-de-pesquisadores-da-usp-pode-ajudar-no-combate-ao-cancer/",
         "https://proxy.olhardigital.com.br/wp-content/uploads/2023/05/Destaque-tratamento-cancer.jpg",
         "2023-09-21T17:55:31Z",
         "Uma descoberta de pesquisadores do Instituto de QuÃ­mica da USP e de duas universidades da Inglaterra pode auxiliar no combate a diferentes tipos de cÃ¢ncer. Os cientistas identificaram o mecanismo e… [+4889 chars]"
        ],
        [
         [
          null,
          "Abril.com.br"
         ],
         "Paula Felix",
         "Novo estudo com terapia inovadora contra câncer é autorizado pela Anvisa",
         "Ensaio com células geneticamente modificadas, as CAR-T, será conduzido pela Fundação Hemocentro de Ribeirão Preto e Instituto Butantan",
         "https://veja.abril.com.br/saude/novo-estudo-com-terapia-inovadora-contra-cancer-e-autorizado-pela-anvisa",
         "https://veja.abril.com.br/wp-content/uploads/2017/11/cancer-car-t-terapia-17.jpg?quality=90&strip=info&w=680&h=453&crop=1",
         "2023-09-26T23:12:38Z",
         "A Agência Nacional de Vigilância Sanitária (Anvisa) autorizou nesta terça-feira, 26, um novo ensaio clínico nacional com CAR-T, terapia inovadora com células geneticamente modificadas que agem contra… [+2746 chars]"
        ],
        [
         [
          null,
          "Terra.com.br"
         ],
         "Deutsche Welle",
         "Por que você deve a sua vida a uns poucos humanos primitvos?",
         "Análises genéticas apontam que quase todos os nossos ancestrais morreram em uma catástrofe ...",
         "https://www.terra.com.br/noticias/por-que-voce-deve-a-sua-vida-a-uns-poucos-humanos-primitvos,4f56bf2b1e4ab45dbafda310e9294f1coffppy18.html",
         "https://p2.trrsf.com/image/fget/cf/1200/630/middle/images.terra.com/2023/09/05/1696209846-58045134354.jpg",
         "2023-09-05T18:08:14Z",
         "Análises genéticas apontam que quase todos os nossos ancestrais morreram em uma catástrofe natural 900 mil anos atrás. Apenas 1.280 indivíduos teriam sobrevivido. Uma parte deles está em você.Imagine… [+4310 chars]"
        ],
        [
         [
          null,
          "Googlediscovery.com"
         ],
         "Renê Fraga",
         "Mark Zuckerberg anuncia IA generativa para curar todas as doenças",
         "A Chan Zuckerberg Initiative (CZI), organização filantrópica fundada por Priscilla Chan e Mark Zuckerberg, anunciou um projeto inovador de inteligência",
         "https://googlediscovery.com/2023/09/20/mark-zuckerberg-anuncia-ia-generativa-para-curar-todas-as-doencas/",
         "https://cdn.googlediscovery.com/wp-content/uploads/chan-zuckerberg.jpg",
         "2023-09-20T16:59:48Z",
         "A Chan Zuckerberg Initiative (CZI), organização filantrópica fundada por Priscilla Chan e Mark Zuckerberg, anunciou um projeto inovador de inteligência artificial generativa. \r\nA iniciativa consiste … [+1695 chars]"
        ],
        [
         [
          null,
          "[Removed]"
         ],
         null,
         "[Removed]",
         "[Removed]",
         "https://removed.com",
         null,
         "1970-01-01T00:00:00Z",
         "[Removed]"
        ],
        [
         [
          null,
          "Abril.com.br"
         ],
         "diego.valencia",
         "Subir escadas pode reduzir o risco de doenças cardíacas em 20%, diz estudo",
         "Pesquisadores analisaram repositório de informações sobre saúde e estilo de vida com dados de mais de 458 mil adultos no Reino Unido",
         "https://veja.abril.com.br/saude/subir-escadas-pode-reduzir-o-risco-de-doencas-cardiacas-em-20-diz-estudo",
         "https://veja.abril.com.br/wp-content/uploads/2017/04/esporte-corrida-escada-20150213-018.jpg?quality=90&strip=info&w=680&h=453&crop=1",
         "2023-10-03T17:00:59Z",
         "Odeia quando o elevador quebra? De fato, é um incômodo, mas subir lances de escada pode salvar sua vida, de acordo com um novo estudo da Universidade de Tulane, em Louisiana, nos Estados Unidos.\r\nPes… [+1324 chars]"
        ],
        [
         [
          null,
          "[Removed]"
         ],
         null,
         "[Removed]",
         "[Removed]",
         "https://removed.com",
         null,
         "1970-01-01T00:00:00Z",
         "[Removed]"
        ],
        [
         [
          null,
          "Abril.com.br"
         ],
         "Diogo Sponchiato",
         "‘A saúde climática e a humana andam de mãos dadas’",
         "Em entrevista exclusiva, CEO global da AstraZeneca expõe os desafios da sustentabilidade do sistema de saúde e por onde caminha o futuro da medicina",
         "https://veja.abril.com.br/saude/a-saude-climatica-e-a-humana-andam-de-maos-dadas",
         "https://veja.abril.com.br/wp-content/uploads/2023/09/AZ3087-BoD-Pascal-Soriot-2022.jpg?quality=90&strip=info&w=680&h=453&crop=1",
         "2023-09-19T11:16:22Z",
         "Não dá para falar sobre a sustentabilidade dos sistemas de saúde sem falar de outra sustentabilidade, a ambiental – e vice-versa. É o que defende o francês Pascal Soriot, CEO global da biofarmacêutic… [+14790 chars]"
        ],
        [
         [
          null,
          "Abril.com.br"
         ],
         "Da Redação",
         "Morre cientista que liderou criação de Dolly, o primeiro animal clonado",
         "Feito gerou manchetes e debates éticos acalorados em 1996",
         "https://veja.abril.com.br/mundo/morre-cientista-que-liderou-criacao-de-dolly-o-primeiro-animal-clonado",
         "https://veja.abril.com.br/wp-content/uploads/2023/09/WhatsApp-Image-2023-09-11-at-15.46.58.jpeg?quality=90&strip=info&w=680&h=453&crop=1",
         "2023-09-11T19:03:48Z",
         "O cientista britânico Ian Wilmut, que liderou as pesquisas que resultaram na criação do primeiro animal clonado no mundo, a ovelha Dolly, morreu aos 79 anos no último domingo, 10. A morte foi anuncia… [+1984 chars]"
        ],
        [
         [
          null,
          "Olhardigital.com.br"
         ],
         "Rodrigo Mozelli",
         "Anvisa autoriza ensaio clínico com CAR-T Cell no Brasil para combater câncer",
         "Estudo tem como objetivo avaliar a segurança e eficácia do tratamento em pacientes com leucemia linfoide aguda B e linfoma não-Hodgkin B\nO post Anvisa autoriza ensaio clínico com CAR-T Cell no Brasil para combater câncer apareceu primeiro em Olhar Digital.",
         "https://olhardigital.com.br/2023/09/26/medicina-e-saude/anvisa-autoriza-ensaio-clinico-com-car-t-cell-no-brasil-para-combater-cancer/",
         "https://proxy.olhardigital.com.br/wp-content/uploads/2023/09/cancer-2.jpg",
         "2023-09-26T22:00:05Z",
         "A FundaÃ§Ã£o Hemocentro de RibeirÃ£o Preto (FUNDHERP), em parceria com o Instituto Butantan, recebeu autorizaÃ§Ã£o da Anvisa para realizar ensaio clÃ­nico no Brasil com a tÃ©cnica CAR-T Cell, que uti… [+2904 chars]"
        ],
        [
         [
          null,
          "[Removed]"
         ],
         null,
         "[Removed]",
         "[Removed]",
         "https://removed.com",
         null,
         "1970-01-01T00:00:00Z",
         "[Removed]"
        ],
        [
         [
          null,
          "B9.com.br"
         ],
         "Carlos Merigo",
         "Johnson & Johnson atualiza identidade visual e abandona seu reconhecido logotipo caligráfico",
         "A gigante da saúde, Johnson & Johnson, apresenta uma nova identidade visual. Abandona o reconhecido logotipo em caligrafia para simplificar a marca, buscando refletir sua evolução e foco em inovação. A cor vermelha também foi alterada. Por que isso é importan…",
         "https://www.b9.com.br/164509/johnson-johnson-atualiza-identidade-visual-e-abandona-seu-reconhecido-logotipo-caligrafico/",
         "https://assets.b9.com.br/wp-content/uploads/2023/09/JJ_Lobby01_HighRes-1280x677.jpg",
         "2023-09-14T17:50:25Z",
         "A gigante da saúde, Johnson &amp; Johnson, apresenta uma nova identidade visual. Abandona o reconhecido logotipo em caligrafia para simplificar a marca, buscando refletir sua evolução e foco em inova… [+1178 chars]"
        ],
        [
         [
          null,
          "Melhoresdestinos.com.br"
         ],
         "Cleverson Lima",
         "Minas Gerais! Resort all inclusive em Poços de Caldas com diárias a partir de R$ 677",
         "Poços de Caldas, no Sul de Minas Gerais, oferece uma das melhores estâncias hidrominerais da América Latina, com águas minerais usadas em diversas terapias, clima montanhês da Serra da Mantiqueira, excelente culinária e charmosa arquitetura da década de 30.  …",
         "https://www.melhoresdestinos.com.br/promocao/minas-pocos-caldas-resort",
         "https://www.melhoresdestinos.com.br/wp-content/uploads/2021/06/cassino-resort-pocos-de-caldas-capa-2021-2.jpg",
         "2023-09-23T12:00:04Z",
         "Poços de Caldas, no Sul de Minas Gerais, oferece uma das melhores estâncias hidrominerais da América Latina, com águas minerais usadas em diversas terapias, clima montanhês da Serra da Mantiqueira, e… [+1409 chars]"
        ],
        [
         [
          null,
          "Catracalivre.com.br"
         ],
         "Redação",
         "Estudo diz que menopausa precoce aumento o risco de demência",
         "Uma recente pesquisa realizada pela Universidade de Sherbrooke, no Canadá, revelou uma forte relação entre o início precoce da menopausa em mulheres e um",
         "https://catracalivre.com.br/saude-bem-estar/estudo-diz-que-menopausa-precoce-aumento-o-risco-de-demencia/",
         "https://catracalivre.com.br/cdn-cgi/image/f=auto,q=60,w=1200,h=638,fit=cover,format=jpeg/wp-content/uploads/2023/09/menopausa.jpg",
         "2023-09-28T19:30:43Z",
         "Uma recente pesquisa realizada pela Universidade de Sherbrooke, no Canadá, revelou uma forte relação entre o início precoce da menopausa em mulheres e um risco elevado de desenvolvimento de comorbida… [+1853 chars]"
        ],
        [
         [
          null,
          "Megacurioso.com.br"
         ],
         "Vivian de Souza Campos",
         "Superbactérias: como evitar a resistência aos antibióticos",
         "Superbactérias, ou bactérias resistentes a antibióticos, são cepas microbianas que desenvolveram a capacidade de resistir a um ou mais antibióticos. Essa resistência pode ocorrer devido a mutações genéticas aleatórias, ou pode ser adquirida devido ao uso inad…",
         "https://www.megacurioso.com.br//ciencia/127528-superbacterias-como-evitar-a-resistencia-aos-antibioticos.htm",
         "https://mega.ibxk.com.br/2023/10/03/03152401766265.jpg?ims=600x",
         "2023-10-03T19:00:00Z",
         "Superbactérias, ou bactérias resistentes a antibióticos, são cepas microbianas que desenvolveram a capacidade de resistir a um ou mais antibióticos. Essa resistência pode ocorrer devido a mutações ge… [+3311 chars]"
        ],
        [
         [
          null,
          "[Removed]"
         ],
         null,
         "[Removed]",
         "[Removed]",
         "https://removed.com",
         null,
         "1970-01-01T00:00:00Z",
         "[Removed]"
        ],
        [
         [
          null,
          "[Removed]"
         ],
         null,
         "[Removed]",
         "[Removed]",
         "https://removed.com",
         null,
         "1970-01-01T00:00:00Z",
         "[Removed]"
        ],
        [
         [
          null,
          "[Removed]"
         ],
         null,
         "[Removed]",
         "[Removed]",
         "https://removed.com",
         null,
         "1970-01-01T00:00:00Z",
         "[Removed]"
        ],
        [
         [
          null,
          "Terra.com.br"
         ],
         "Portal EdiCase",
         "Entenda por que doenças vasculares podem aumentar no calor",
         "Quando não cuidamos da saúde, os dias de calor torna-se um momento de alerta para o corpo, ...",
         "https://www.terra.com.br/vida-e-estilo/saude/entenda-por-que-doencas-vasculares-podem-aumentar-no-calor,52723791eadd8bccd0bd285409f363b03cid3uve.html",
         "https://p2.trrsf.com/image/fget/cf/1200/630/middle/images.terra.com/2023/09/22/1100783929-doencas-vasculares.jpeg",
         "2023-09-22T22:02:23Z",
         "Quando não cuidamos da saúde, os dias de calor torna-se um momento de alerta para o corpo, especialmente para aqueles que sofrem com problemas cardiovasculares. Isso porque, segundo dados da Sociedad… [+3207 chars]"
        ],
        [
         [
          null,
          "Abril.com.br"
         ],
         "Da Redação",
         "Medicina tecnológica para todos",
         "Assim como a terapia CAR-T, existem inúmeras abordagens terapêuticas inovadoras em desenvolvimento em centros de pesquisa ao redor do planeta",
         "https://veja.abril.com.br/coluna/coluna-claudio-lottenberg/medicina-tecnologica-para-todos",
         "https://veja.abril.com.br/wp-content/uploads/2017/11/cancer-car-t-terapia-17.jpg?quality=90&strip=info&w=680&h=453&crop=1",
         "2023-09-18T16:11:55Z",
         "A terapia com células CAR-T é um dos tratamentos mais recentes e promissores no combate aos cânceres de sangue, como o linfoma e as leucemias agudas. Ele consiste na coleta de células de defesa do pa… [+3354 chars]"
        ],
        [
         [
          null,
          "[Removed]"
         ],
         null,
         "[Removed]",
         "[Removed]",
         "https://removed.com",
         null,
         "1970-01-01T00:00:00Z",
         "[Removed]"
        ],
        [
         [
          null,
          "Terra.com.br"
         ],
         "Reuters",
         "Belga Biobest compra empresa brasileira de soluções agrícolas naturais Biotrop em acordo de US$570 mi",
         "A empresa belga de biocontrole de pragas e doenças e polinização natural para produção agrícola ...",
         "https://www.terra.com.br/economia/dinheiro-em-acao/belga-biobest-compra-empresa-brasileira-de-solucoes-agricolas-naturais-biotrop-em-acordo-de-us570-mi,92e023c86a50c8325dbc0b2d6ca40870yybi9fsw.html",
         "https://s1.trrsf.com/fe/zaz-mod-t360-icons/svg/logos/terra-16x9-borda.png",
         "2023-09-07T18:50:26Z",
         "A empresa belga de biocontrole de pragas e doenças e polinização natural para produção agrícola sustentável Biobest Group fechou acordo para adquirir a brasileira do mesmo ramo Biotrop, em um movimen… [+1927 chars]"
        ],
        [
         [
          null,
          "Observador.pt"
         ],
         "Agência Lusa",
         "Empresa da Covilhã deteta enzima que pode travar doença de Parkinson",
         "Uma empresa sediada na Covilhã está a desenvolver uma molécula que produz stress oxidativo e que pode ser moldada às necessidades do doente, permitindo que permaneçam no primeiro estágio da doença.",
         "https://observador.pt/2023/09/22/empresa-da-covilha-deteta-enzima-que-pode-travar-doenca-de-parkinson/",
         "https://wm.observador.pt/wm/obs/l/https%3A%2F%2Fbordalo.observador.pt%2Fv2%2Frs%3Afill%3A770%3A403%2Fc%3A2000%3A1124%3Anowe%3A0%3A105%2Fq%3A85%2Fplain%2Fhttps%3A%2F%2Fs3.observador.pt%2Fwp-content%2Fuploads%2F2017%2F12%2F12161206%2F19081089.jpg",
         "2023-09-22T10:33:53Z",
         "Uma empresa com sede na Covilhã está na fase de conclusão dos testes pré-clínicos de uma enzima responsável por produzir stress oxidativo que pode ser moldada para níveis que permitam evitar a progre… [+3017 chars]"
        ],
        [
         [
          null,
          "Sapo.pt"
         ],
         "Ana Sofia Neto",
         "Mosquito que transmite dengue e zika aterrou em Lisboa pela primeira vez",
         "Embora tenha sido detetada no norte de Portugal, em 2017, esta foi a primeira vez que a espécie de mosquitos aterrou em Lisboa. Há infeções que, a menos que viajemos, nos são muito distantes,...",
         "https://pplware.sapo.pt/ciencia/mosquito-que-transmite-dengue-e-zika-aterrou-em-lisboa-pela-primeira-vez/",
         "https://pplware.sapo.pt/wp-content/uploads/2023/09/Aedes-Albopictus_B00.jpg",
         "2023-09-28T08:40:24Z",
         "Embora tenha sido detetada no norte de Portugal, em 2017, esta foi a primeira vez que a espécie de mosquitos aterrou em Lisboa.\r\nHá infeções que, a menos que viajemos, nos são muito distantes, pois n… [+1448 chars]"
        ],
        [
         [
          null,
          "Catracalivre.com.br"
         ],
         "Redação",
         "Alimento comum na cozinha do brasileiro reduz risco de câncer, diz estudo",
         "Comer bem é necessário não só para manter o corpo funcionando corretamente, mas também para prevenir uma série de doenças. É por isso que, ás vezes, nos",
         "https://catracalivre.com.br/saude-bem-estar/alimento-comum-na-cozinha-do-brasileiro-reduz-risco-de-cancer-diz-estudo/",
         "https://catracalivre.com.br/cdn-cgi/image/f=auto,q=60,w=1200,h=638,fit=cover,format=jpeg/wp-content/uploads/2023/09/istock-1635263915-1.jpg",
         "2023-09-22T22:01:08Z",
         "Comer bem é necessário não só para manter o corpo funcionando corretamente, mas também para prevenir uma série de doenças.\r\nÉ por isso que, ás vezes, nos deparamos com alimentos conhecidos como “supe… [+2233 chars]"
        ],
        [
         [
          null,
          "Terra.com.br"
         ],
         "Reuters",
         "CDC dos EUA endossa vacina da Pfizer contra doença sazonal para proteger bebês",
         "O Centro de Controle e Prevenção de Doenças dos EUA (CDC, na sigla em inglês) endossou nesta ...",
         "https://www.terra.com.br/noticias/mundo/cdc-dos-eua-endossa-vacina-da-pfizer-contra-doenca-sazonal-para-proteger-bebes,98c42c6c5c276e9a6307f08a293eb128a0g5s529.html",
         "https://s1.trrsf.com/fe/zaz-mod-t360-icons/svg/logos/terra-16x9-borda.png",
         "2023-09-23T00:17:36Z",
         "O Centro de Controle e Prevenção de Doenças dos EUA (CDC, na sigla em inglês) endossou nesta sexta-feira a vacina da Pfizer contra o vírus sincicial respiratório (VSR) para mulheres que estão no terc… [+1370 chars]"
        ],
        [
         [
          null,
          "Abril.com.br"
         ],
         "Paula Felix",
         "A proteína capaz de manter a célula humana saudável por mais tempo",
         "Estudo feito por pesquisadores brasileiros e australianos aponta caminhos para tratar doenças autoimunes e até câncer",
         "https://veja.abril.com.br/saude/a-proteina-capaz-de-manter-celula-humana-saudavel-por-mais-tempo",
         "https://veja.abril.com.br/wp-content/uploads/2023/09/Celulas-humanas-coxiella.jpg?quality=90&strip=info&w=680&h=453&crop=1",
         "2023-09-11T14:45:31Z",
         "Pesquisadores da Universidade de São Paulo (USP) e colaboradores da Austrália identificaram uma proteína bacteriana capaz de manter as células humanas saudáveis por mais tempo. A descoberta pode leva… [+5133 chars]"
        ],
        [
         [
          null,
          "Olhardigital.com.br"
         ],
         "Alessandro Di Lorenzo",
         "Árvore “congelada” no tempo por milhões de anos tem mistério revelado",
         "Conhecida como \"fóssil vivo\", a árvore praticamente não sofreu alterações desde o tempo em que os dinossauros dominavam a Terra\nO post Árvore “congelada” no tempo por milhões de anos tem mistério revelado apareceu primeiro em Olhar Digital.",
         "https://olhardigital.com.br/2023/09/15/ciencia-e-espaco/arvore-congelada-no-tempo-por-milhoes-de-anos-tem-misterio-revelado/",
         "https://img.olhardigital.com.br/wp-content/uploads/2023/09/Pinheiro-1.jpg",
         "2023-09-15T17:06:28Z",
         "Cientistas da AustrÃ¡lia, Estados Unidos e ItÃ¡liaÂ decodificaram o genoma de uma rarÃ­ssima Ã¡rvore conhecida como âfÃ³ssil vivoâ. O pinheiroÂ Wollemi (Wollemia nobilis) foi descoberto em 1994 e… [+3199 chars]"
        ],
        [
         [
          null,
          "Expresso.pt"
         ],
         "Expresso",
         "Agendas mobilizadoras canalizam €480 milhões para transformar sector da saúde em três anos",
         "Plano de Recuperação e de Resiliência é central no investimento que privados e Estado preveem canalizar para o desenvolvimento de terapias inovadoras, para doenças graves como o cancro, e em novas formas de combater a resistência aos antibióticos",
         "https://expresso.pt/economia/empresas/2023-10-02-Agendas-mobilizadoras-canalizam-480-milhoes-para-transformar-sector-da-saude-em-tres-anos-17de87a9",
         "https://images.impresa.pt/expresso/2023-06-28-laboratorio-deac6dc7/1.91x1?wm=true&outputFormat=jpeg",
         "2023-10-02T14:56:57Z",
         "O Plano de Recuperação e Resiliência (PRR) irá apoiar quatro agendas mobilizadoras da saúde, que durante os próximos três anos irão captar investimentos de cerca de 180 milhões de euros do setor priv… [+2989 chars]"
        ],
        [
         [
          null,
          "BBC News"
         ],
         "https://www.facebook.com/bbcnews",
         "Sensação de estar isolado do mundo é uma das grandes preocupações do século 21",
         "Sensação de estar isolado do mundo é uma das grandes preocupações do século 21",
         "https://www.bbc.com/portuguese/media-66843698",
         "https://ichef.bbci.co.uk/news/1024/branded_portuguese/80CB/production/_131117923_mediaitem131117922.jpg",
         "2023-09-18T10:24:06Z",
         "Sensação de estar isolado do mundo é uma das grandes preocupações do século 21\r\nA solidão virou uma das grandes preocupações de saúde do século 21. \r\nComparada ao cigarro e relacionada ao risco de do… [+343 chars]"
        ],
        [
         [
          null,
          "[Removed]"
         ],
         null,
         "[Removed]",
         "[Removed]",
         "https://removed.com",
         null,
         "1970-01-01T00:00:00Z",
         "[Removed]"
        ],
        [
         [
          null,
          "Catracalivre.com.br"
         ],
         "Redação",
         "Pesquisa indica composto encontrado nestes alimentos que pode prevenir câncer",
         "Você sabia que diversas pesquisas ao longo dos anos têm apontado benefícios potenciais para a fisetina, um flavonoide com atividade antioxidante presente",
         "https://catracalivre.com.br/saude-bem-estar/pesquisa-indica-composto-encontrado-nestes-alimentos-que-previne-cancer/",
         "https://catracalivre.com.br/cdn-cgi/image/f=auto,q=60,w=1200,h=638,fit=cover,format=jpeg/wp-content/uploads/2023/09/istock-1325282418.jpg",
         "2023-09-26T10:00:45Z",
         "Você sabia que diversas pesquisas ao longo dos anos têm apontado benefícios potenciais para a fisetina, um flavonoide com atividade antioxidante presente em frutas e vegetais?\r\nEstudos epidemiológico… [+2817 chars]"
        ],
        [
         [
          null,
          "Abril.com.br"
         ],
         "diego.valencia",
         "O que a microbiota intestinal tem a ver com distúrbios neurológicos?",
         "Revisão feita por pesquisadores da Unifesp inclui doenças como Alzheimer e Parkinson e transtornos psiquiátricos como depressão e ansiedade",
         "https://veja.abril.com.br/saude/como-a-microbiota-influencia-disturbios-neurologicos-e-psiquiatricos",
         "https://veja.abril.com.br/wp-content/uploads/2020/09/câncer-de-intestino.jpg?quality=90&strip=info&w=680&h=453&crop=1",
         "2023-09-06T19:48:52Z",
         "Há trilhões de microrganismos, incluindo bactérias, fungos e vírus, no interior do trato gastrointestinal conjunto que leva o nome de microbiota. É quase o mesmo número de células em um corpo humano.… [+3585 chars]"
        ],
        [
         [
          null,
          "[Removed]"
         ],
         null,
         "[Removed]",
         "[Removed]",
         "https://removed.com",
         null,
         "1970-01-01T00:00:00Z",
         "[Removed]"
        ],
        [
         [
          null,
          "Terra.com.br"
         ],
         "Portal EdiCase",
         "Entenda o que é a hipercifose e como tratar essa condição",
         "A hipercifose, também conhecida popularmente como 'corcunda', trata-se de uma doença óssea ...",
         "https://www.terra.com.br/vida-e-estilo/saude/entenda-o-que-e-a-hipercifose-e-como-tratar-essa-condicao,323d34d575b92837f1fad0d49bfe650b67beo2wl.html",
         "https://p2.trrsf.com/image/fget/cf/1200/630/middle/images.terra.com/2023/10/02/638203844-coluna-dores.jpeg",
         "2023-10-02T17:31:30Z",
         "A hipercifose, também conhecida popularmente como 'corcunda', trata-se de uma doença óssea causada por um desvio corporal que, normalmente, faz com que as pessoas tenham uma curvatura na região torác… [+2694 chars]"
        ],
        [
         [
          null,
          "Abril.com.br"
         ],
         "Paula Felix",
         "OMS recomenda vacinas contra malária e dengue diante de onda de mosquitos",
         "Entidade fez alerta sobre risco das doenças principalmente para crianças; Qdenga foi aprovada para uso no Brasil em março",
         "https://veja.abril.com.br/saude/oms-recomenda-vacinas-contra-malaria-e-dengue-diante-de-onda-de-mosquitos",
         "https://veja.abril.com.br/wp-content/uploads/2023/06/aedes_aegypti-dengue2.webp?w=680&h=453&crop=1",
         "2023-10-02T22:47:48Z",
         "Diante do aumento das doenças transmitidas por mosquitos em diferentes partes do mundo, a Organização Mundial da Saúde (OMS) divulgou nesta segunda-feira, 2, um comunicado recomendando a nova vacina … [+2768 chars]"
        ],
        [
         [
          null,
          "Sapo.pt"
         ],
         "Rui Jorge",
         "Poria o seu cérebro nas mãos da IA? Será uma realidade dentro de dois anos",
         "Um importante neurocirurgião do Reino Unido afirmou que a cirurgia cerebral com recurso à inteligência artificial (IA) será possível dentro de dois anos, tornando-a mais segura e eficaz.   O governo britânico afirma que...",
         "https://pplware.sapo.pt/inteligencia-artificial/poria-o-seu-cerebro-nas-maos-da-ia-sera-uma-realidade-dentro-de-dois-anos/",
         "https://pplware.sapo.pt/wp-content/uploads/2022/01/cirurgia_robo00.jpg",
         "2023-09-30T10:00:12Z",
         "Um importante neurocirurgião do Reino Unido afirmou que a cirurgia cerebral com recurso à inteligência artificial (IA) será possível dentro de dois anos, tornando-a mais segura e eficaz.\r\nO governo b… [+2511 chars]"
        ],
        [
         [
          null,
          "Olhardigital.com.br"
         ],
         "Nayra Teles",
         "USP: terapia celular pode reduzir mortes por Covid-19",
         "Pesquisadores da Universidade de São Paulo (USP) descobriram que a terapia celular pode reduzir em 60% o risco de morte por COVID-19\nO post USP: terapia celular pode reduzir mortes por Covid-19 apareceu primeiro em Olhar Digital.",
         "https://olhardigital.com.br/2023/09/19/medicina-e-saude/usp-terapia-celular-pode-reduzir-mortes-por-covid-19/",
         "https://proxy.olhardigital.com.br/wp-content/uploads/2023/09/terapia-celular.png",
         "2023-09-19T21:03:20Z",
         "A terapia celular, bastante utilizada em tratamentos contra o cÃ¢ncer, tem grande potencial contra a Covid-19. Ã o que aponta a revisÃ£o sistemÃ¡tica e meta-anÃ¡lise realizada por pesquisadores da U… [+4229 chars]"
        ],
        [
         [
          null,
          "Terra.com.br"
         ],
         "Porto Alegre 24 horas",
         "HCPA busca voluntários para estudo clínico que avalia medicamento experimental para o COVID-19",
         "Hospital de Clínicas está com inscrições abertas para adultos acima de 18 (dezoito) anos portadores de doenças crônicas como, por exemplo, diabetes, obesidade, hipertensão ou doenças cardiovasculares, que testaram positivo para COVID-19 nos últimos três dias …",
         "https://www.terra.com.br/noticias/hcpa-busca-voluntarios-para-estudo-clinico-que-avalia-medicamento-experimental-para-o-covid-19,6ce0dbd8c3d6c7770745a34adf194601wibvrrif.html",
         "https://p2.trrsf.com/image/fget/cf/1200/630/middle/images.terra.com/2023/09/20/717673475-fachada2-1536x1021-1.jpg",
         "2023-09-20T15:41:12Z",
         "O Hospital de Clínicas de Porto Alegre ainda está com vagas abertas para voluntários que queiram colaborar com o SCORPIO-HR, um estudo clínico global de Fase 3 com pacientes não hospitalizados e sint… [+3502 chars]"
        ],
        [
         [
          null,
          "[Removed]"
         ],
         null,
         "[Removed]",
         "[Removed]",
         "https://removed.com",
         null,
         "1970-01-01T00:00:00Z",
         "[Removed]"
        ],
        [
         [
          null,
          "[Removed]"
         ],
         null,
         "[Removed]",
         "[Removed]",
         "https://removed.com",
         null,
         "1970-01-01T00:00:00Z",
         "[Removed]"
        ],
        [
         [
          null,
          "Olhardigital.com.br"
         ],
         "Alessandro Di Lorenzo",
         "Novo vírus é descoberto nas profundezas da Fossa das Marianas",
         "Bacteriófago, um tipo de vírus que infecta e se replica dentro de bactérias, foi localizado a uma profundidade de 8.900 metros\nO post Novo vírus é descoberto nas profundezas da Fossa das Marianas apareceu primeiro em Olhar Digital.",
         "https://olhardigital.com.br/2023/09/21/ciencia-e-espaco/novo-virus-e-descoberto-nas-profundezas-da-fossa-das-marianas/",
         "https://proxy.olhardigital.com.br/wp-content/uploads/2023/09/Fossa-das-marianas-1.jpg",
         "2023-09-21T20:26:34Z",
         "Segundo dados da AdministraÃ§Ã£o Nacional OceÃ¢nica e AtmosfÃ©rica dos Estados Unidos,apenas cerca de 20% do fundo do mar foi mapeado atÃ© hoje. Uma descoberta de uma equipe internacional de pesquisa… [+2809 chars]"
        ],
        [
         [
          null,
          "Jovemnerd.com.br"
         ],
         "Pedro Siqueira",
         "Netflix põe camisinha em monumento para divulgação dura de Sex Education",
         "Streaming elevou o marketing a um novo nível para a temporada final da série\nThe post Netflix põe camisinha em monumento para divulgação dura de Sex Education appeared first on Jovem Nerd.",
         "https://jovemnerd.com.br/nerdbunker/netflix-camisinha-gigante-sex-education/",
         "https://uploads.jovemnerd.com.br/wp-content/uploads/2023/09/netflix_sex_education_obelisco__25030n3ow.jpg",
         "2023-09-23T15:07:35Z",
         "A divulgação da temporada final de Sex Education está duríssima. Tanto que a Netflix colocou uma CAMISINHA GIGANTE no Obelisco, um dos maiores monumentos da Argentina, num vídeo promocional que vem c… [+897 chars]"
        ],
        [
         [
          null,
          "Abril.com.br"
         ],
         "Paula Felix",
         "Injeção semanal para deficiência de hormônio do crescimento é liberada",
         "Medicação para crianças e adultos reduz em 85% o número de aplicações por ano; preço não foi definido e lançamento no Brasil ainda será anunciado",
         "https://veja.abril.com.br/saude/injecao-semanal-para-deficiencia-de-hormonio-do-crescimento-e-liberada",
         "https://veja.abril.com.br/wp-content/uploads/2016/05/alx_465382081_original1.jpeg?quality=90&strip=info&w=680&h=453&crop=1",
         "2023-09-25T21:40:54Z",
         "Uma nova opção de tratamento para crianças e adultos com deficiência do hormônio do crescimento (GH) com aplicação subcutânea semanal, por meio de uma “caneta”, foi liberada no Brasil nesta segunda-f… [+2629 chars]"
        ],
        [
         [
          null,
          "Terra.com.br"
         ],
         "Sport Life",
         "Abacate emagrece? Descubra 14 benefícios secretos da fruta",
         "Abacate emagrece ou engorda? Essa dúvida é comum em pessoas que são fãs do sabor da fruta. Por ...",
         "https://www.terra.com.br/vida-e-estilo/abacate-emagrece-descubra-14-beneficios-secretos-da-fruta,1079792ed39d3e3303fdd4fd29d5b3d3tj80nanf.html",
         "https://p2.trrsf.com/image/fget/cf/1200/630/middle/images.terra.com/2023/09/07/392743629-shutterstock785296315-1.jpg",
         "2023-09-07T19:02:17Z",
         "Abacate emagrece ou engorda? Essa dúvida é comum em pessoas que são fãs do sabor da fruta. Por ser um alimento natural, muitos acreditam que o abacate ajuda a emagrecer. Por outro lado, os altos níve… [+4997 chars]"
        ],
        [
         [
          null,
          "[Removed]"
         ],
         null,
         "[Removed]",
         "[Removed]",
         "https://removed.com",
         null,
         "1970-01-01T00:00:00Z",
         "[Removed]"
        ],
        [
         [
          null,
          "Uol.com.br"
         ],
         null,
         null,
         "A molécula sintetiza o conjunto de proteínas que um organismo necessita para viver",
         "https://www1.folha.uol.com.br/ciencia/2023/09/rna-de-tigre-da-tasmania-extinto-e-recuperado-pela-primeira-vez.shtml",
         "https://f.i.uol.com.br/fotografia/2023/09/19/1695178196650a5dd469a9a_1695178196_3x2_rt.jpg",
         "2023-09-20T10:50:04Z",
         "O tigre-da-tasmânia, um marsupial carnívoro listrado do tamanho de um cachorro, também chamado de tilacino, era um predador de ponta que caçava cangurus e outras presas e já vagou pelo território con… [+2149 chars]"
        ],
        [
         [
          null,
          "Catracalivre.com.br"
         ],
         "Redação",
         "Saiba quais atividades físicas reduzem risco de 9 tipos de câncer",
         "A aptidão cardiorrespiratória, responsável pela capacidade de executar atividades físicas aeróbicos prolongados, pode ser a chave para a prevenção de",
         "https://catracalivre.com.br/saude-bem-estar/saiba-quais-atividades-fisicas-reduzem-risco-de-9-tipos-de-cancer/",
         "https://catracalivre.com.br/cdn-cgi/image/f=auto,q=60,w=1200,h=638,fit=cover,format=jpeg/wp-content/uploads/2023/08/istock-1168199832.jpg",
         "2023-09-11T02:30:05Z",
         "A aptidão cardiorrespiratória, responsável pela capacidade de executar atividades físicas aeróbicos prolongados, pode ser a chave para a prevenção de diversos tipos de câncer. Um estudo recente, publ… [+2947 chars]"
        ],
        [
         [
          null,
          "[Removed]"
         ],
         null,
         "[Removed]",
         "[Removed]",
         "https://removed.com",
         null,
         "1970-01-01T00:00:00Z",
         "[Removed]"
        ],
        [
         [
          null,
          "Uol.com.br"
         ],
         null,
         null,
         "Cálculo biliar bovino, chamado de pedra de fel, é usado na medicina oriental para tratar doenças respiratórias",
         "https://www1.folha.uol.com.br/mercado/2023/09/criminosos-roubam-r-2-milhoes-em-pedras-de-boi-no-interior-de-sp.shtml",
         "https://f.i.uol.com.br/fotografia/2023/09/21/1695325609650c9da9b56df_1695325609_3x2_lg.jpg",
         "2023-09-22T00:51:36Z",
         "Três homensassaltaram uma empresa de exportação no interior de São Paulo e levaram 2,7 quilos de cálculo biliar bovino, também conhecido como pedra de fel, avaliado em R$ 2 milhões, segundo a Delegac… [+1877 chars]"
        ],
        [
         [
          null,
          "Observador.pt"
         ],
         "Agência Lusa",
         "Idosos vítimas de maus tratos apresentam mais doença física e mental",
         "Dados \"assustadores\" de um estudo português revelam que os idosos que sofrem violência intra-familiar ou de cuidadores \"são muito mais doentes, têm muitas mais patologias do que a restante população\".",
         "https://observador.pt/2023/09/29/idosos-vitimas-de-maus-tratos-apresentam-mais-doenca-fisica-e-mental/",
         "https://wm.observador.pt/wm/obs/l/https%3A%2F%2Fbordalo.observador.pt%2Fv2%2Frs%3Afill%3A770%3A403%2Fc%3A2121%3A1192%3Anowe%3A0%3A111%2Fq%3A85%2Fplain%2Fhttps%3A%2F%2Fs3.observador.pt%2Fwp-content%2Fuploads%2F2022%2F02%2F09214115%2FGettyImages-1290458362.jpg",
         "2023-09-29T09:52:20Z",
         "Um estudo da Faculdade de Medicina da Universidade do Porto (FMUP) revelou que os idosos vítimas de maus tratos apresentam mais doença física e mental, algo “assustador” que para os investigadores de… [+3910 chars]"
        ],
        [
         [
          null,
          "Tecmundo.com.br"
         ],
         "Fabio Dominski",
         "Atividade física no trabalho faz bem?",
         "Este texto foi escrito por um colunista do TecMundo; saiba mais no final.\"Eu me movimento bastante no trabalho, não preciso de exercícios”, já ouviu alguém falar isso? Essa pessoa provavelmente tem uma alta demanda energética em seu trabalho e acredita que is…",
         "https://www.tecmundo.com.br/ciencia/271824-atividade-fisica-trabalho.htm",
         "https://tm.ibxk.com.br/2023/09/20/20121343539166.jpg",
         "2023-09-20T17:00:00Z",
         "Este texto foi escrito por um colunista do TecMundo; saiba mais no final.\r\n\"Eu me movimento bastante no trabalho, não preciso de exercícios, já ouviu alguém falar isso? Essa pessoa provavelmente tem … [+5260 chars]"
        ],
        [
         [
          null,
          "Tecmundo.com.br"
         ],
         "Jennifer Egues",
         "SUS Digital: uso inteligência artificial pode melhorar a saúde pública?",
         "O Ministério da Saúde estuda implementar ferramentas de Inteligência Artificial (IA) no Sistema Único de Saúde, objetivando melhorar o atendimento, agilizando processos e estendo atendimento a regiões de difícil acesso físico.Para a pasta, a implementação da …",
         "https://www.tecmundo.com.br/ciencia/267730-sus-digital-uso-inteligencia-artificial-melhorar-saude-publica.htm",
         "https://tm.ibxk.com.br/2023/08/18/18144410198207.jpg",
         "2023-09-04T14:30:01Z",
         "O Ministério da Saúde estuda implementar ferramentas de Inteligência Artificial (IA) no Sistema Único de Saúde, objetivando melhorar o atendimento, agilizando processos e estendo atendimento a regiõe… [+5930 chars]"
        ],
        [
         [
          null,
          "Sapo.pt"
         ],
         "Ana Sofia Neto",
         "Afinal, o açúcar prejudica ou não a saúde?",
         "O açúcar está em tantos alimentos que, certamente, surpreender-se-ia com alguns deles. Mas, assim sendo, será assim tão prejudicial? É um tema complexo, como muitos deles na nutrição, e parece ser pouco claro para...",
         "https://pplware.sapo.pt/ciencia/afinal-o-acucar-prejudica-ou-nao-a-saude/",
         "https://pplware.sapo.pt/wp-content/uploads/2023/09/bolo00.jpg",
         "2023-09-15T20:00:17Z",
         "O açúcar está em tantos alimentos que, certamente, surpreender-se-ia com alguns deles. Mas, assim sendo, será assim tão prejudicial?\r\nÉ um tema complexo, como muitos deles na nutrição, e parece ser p… [+3659 chars]"
        ],
        [
         [
          null,
          "Observador.pt"
         ],
         "Inês André Figueiredo",
         "Mosquito que transmite dengue e zika detetado em Lisboa pela primeira vez",
         "DGS reforçou a vigilância entomológica e epidemiológica, mas garantiu que não foram identificados nestes mosquitos quaisquer agentes de doenças que possam ser transmitidas às pessoas.",
         "https://observador.pt/2023/09/27/mosquito-que-transmite-dengue-e-zika-detetado-em-lisboa-pela-primeira-vez/",
         "https://wm.observador.pt/wm/obs/l/https%3A%2F%2Fbordalo.observador.pt%2Fv2%2Frs%3Afill%3A770%3A403%2Fc%3A1998%3A1126%3Anowe%3A0%3A100%2Fq%3A85%2Fplain%2Fhttps%3A%2F%2Fs3.observador.pt%2Fwp-content%2Fuploads%2F2019%2F04%2F15200407%2F20319704.jpg",
         "2023-09-27T16:25:37Z",
         "A Direção-Geral de Saúde (DGS) revelou que a espécie de mosquitos Aedes albopictus foi identificada pela primeira vez em Lisboa e alertou que este mosquito pode transmitir doenças como chikungunya, d… [+1110 chars]"
        ],
        [
         [
          null,
          "Observador.pt"
         ],
         "Observador",
         "Descoberta nova célula no cérebro que pode ajudar a estudar o Alzheimer",
         "Novo estudo revela a existência de uma nova célula, que pode ajudar a explicar o desenvolvimento de doenças neurodegenerativas e a localizar \"potenciais alvos terapêuticos\".",
         "https://observador.pt/2023/09/06/descoberta-nova-celula-no-cerebro-que-pode-ajudar-a-estudar-o-alzheimer/",
         "https://wm.observador.pt/wm/obs/l/https%3A%2F%2Fbordalo.observador.pt%2Fv2%2Frs%3Afill%3A770%3A403%2Fc%3A3543%3A1993%3Anowe%3A0%3A131%2Fq%3A85%2Fplain%2Fhttps%3A%2F%2Fs3.observador.pt%2Fwp-content%2Fuploads%2F2023%2F09%2F06184926%2Fgettyimages-1487034049.jpg",
         "2023-09-06T18:08:06Z",
         "A cada três segundos, há uma pessoa no mundo a desenvolver demência. Em 2020, os dados recolhidos pelo Alzheimer’s Disease International (ADI) mostravam que havia mais de 55 milhões de pessoas a vive… [+2235 chars]"
        ],
        [
         [
          null,
          "Observador.pt"
         ],
         "Carolina Sobral",
         "Cientistas criam modelo de embrião sem espermatozoide, óvulo ou útero. É o primeiro que imita em completo um embrião humano",
         "Modelo foi desenvolvido a partir de células estaminais que se organizaram em estruturas que imitam a organização 3D de um embrião real com 14 dias. O modelo deu positivo num teste de gravidez.",
         "https://observador.pt/2023/09/06/cientistas-criam-modelo-de-embriao-sem-espermatozoide-ovulo-ou-utero-e-o-primeiro-que-imita-em-completo-um-embriao-humano/",
         "https://wm.observador.pt/wm/obs/l/https%3A%2F%2Fbordalo.observador.pt%2Fv2%2Frs%3Afill%3A770%3A403%2Fc%3A2000%3A1124%3Anowe%3A0%3A104%2Fq%3A85%2Fplain%2Fhttps%3A%2F%2Fs3.observador.pt%2Fwp-content%2Fuploads%2F2019%2F02%2F28085820%2Fistock-904268950.jpg",
         "2023-09-06T16:31:46Z",
         "Sem recurso a espermatozoide, óvulos ou um útero, cientistas criaram pela primeira vez um modelo de embriões humanos que imita de forma completa todas as características conhecidas num embrião real. … [+1946 chars]"
        ],
        [
         [
          null,
          "Observador.pt"
         ],
         "Sofia Teixeira",
         "Que ondas cerebrais são estas?",
         "O cérebro emite misteriosos padrões de atividade que estão alterados em doentes  com doenças neurológicas ou psiquiátricas. Na Universidade do Minho, Joana Cabral tenta conhecer melhor estes sinais.",
         "https://observador.pt/2023/09/25/que-ondas-cerebrais-sao-estas/",
         "https://wm.observador.pt/wm/obs/l/https%3A%2F%2Fbordalo.observador.pt%2Fv2%2Frs%3Afill%3A770%3A403%2Fc%3A3200%3A1796%3Anowe%3A0%3A340%2Fq%3A85%2Fplain%2Fhttps%3A%2F%2Fs3.observador.pt%2Fwp-content%2Fuploads%2F2023%2F09%2F25012852%2F0-20230807-goncalo-villaverde-0205.jpg",
         "2023-09-25T13:49:21Z",
         "Uma iniciativa\r\nHá momentos em que o cérebro de Joana Cabral parece um carro de Fórmula Um: é muito difícil de acompanhar quando acelera a fundo. Salta de raciocínio em raciocínio, estabelece pontes … [+12097 chars]"
        ],
        [
         [
          null,
          "Terra.com.br"
         ],
         "Elas no Tapete Vermelho",
         "VMA 2023: Anitta repete grife de 2022 e elege look Schiaparelli",
         "A Schiaparelli tem em seu DNA o surrealismo. Fato esse que agrada em cheio famosas, como Anitta, ...",
         "https://www.terra.com.br/vida-e-estilo/autocuidado/moda/vma-2023-anitta-repete-grife-de-2022-e-elege-look-schiaparelli,fee499f8c205c826421124c9561fae83mmokijah.html",
         "https://p2.trrsf.com/image/fget/cf/1200/630/middle/images.terra.com/2023/09/12/1728798519-37802777434786638823962214802485532612152661n-e1694562071640.jpg",
         "2023-09-12T23:48:05Z",
         "A Schiaparelli tem em seu DNA o surrealismo. Fato esse que agrada em cheio famosas, como Anitta, que pelo segundo ano consecutivo elegeu a grife francesa para cruzar o tapete vermelho do VMA (Video M… [+1146 chars]"
        ],
        [
         [
          null,
          "Pragmatismopolitico.com.br"
         ],
         "Redação",
         "Benefícios das substâncias encontradas no vinho: uma análise científica",
         "É importante ter cuidado ao consumi-lo e sempre respeitar as contraindicações e limites recomendados. É possível encontrar de forma acessível bons vinhos no mercado, mas é fundamental ter consciência dos riscos e sempre consumir com moderação\nO post Benefício…",
         "https://www.pragmatismopolitico.com.br/2023/10/beneficios-substancias-encontradas-vinho-analise-cientifica.html",
         "https://www.pragmatismopolitico.com.br/wp-content/uploads/2023/10/beneficios-substancias-encontradas-vinho-analise-cientifica.jpg",
         "2023-10-02T11:30:18Z",
         "É importante ter cuidado ao consumi-lo e sempre respeitar as contraindicações e limites recomendados. É possível encontrar de forma acessível bons vinhos no mercado, mas é fundamental ter consciência… [+22678 chars]"
        ],
        [
         [
          null,
          "Olhardigital.com.br"
         ],
         "Lucas Gabriel Machado Henriques",
         "Como a inteligência artificial pode ajudar na saúde mental",
         "Entenda como a inteligência artificial pode ser usada para auxiliar no combate aos transtornos psicológicos e ajudar na saúde mental\nO post Como a inteligência artificial pode ajudar na saúde mental apareceu primeiro em Olhar Digital.",
         "https://olhardigital.com.br/2023/09/11/medicina-e-saude/como-a-inteligencia-artificial-pode-ajudar-na-saude-mental/",
         "https://img.olhardigital.com.br/wp-content/uploads/2023/09/capa-1.jpg",
         "2023-09-11T15:33:19Z",
         "Com a crescente utilizaÃ§Ã£o da inteligÃªncia artificial em diversos setores da indÃºstria e da sociedade, muitas tÃ©cnicas que usam essa tecnologia surgiram para melhorar o dia a dia das pessoas, au… [+2927 chars]"
        ],
        [
         [
          null,
          "Olhardigital.com.br"
         ],
         "Alessandro Di Lorenzo",
         "EUA: vacina experimental contra HIV será testada em humanos",
         "No total, 95 participantes serão divididos em grupos, com três deles recebendo dosagens diferentes da vacina contra o HIV\nO post EUA: vacina experimental contra HIV será testada em humanos apareceu primeiro em Olhar Digital.",
         "https://olhardigital.com.br/2023/09/22/medicina-e-saude/eua-vacina-experimental-contra-hiv-sera-testada-em-humanos/",
         "https://proxy.olhardigital.com.br/wp-content/uploads/2022/03/HIV-capa.jpg",
         "2023-09-22T14:46:06Z",
         "A empresa Vir Biotechnology anunciou o inÃ­cio dos testes em humanos de uma vacina experimental contra o HIV. A companhia norte-americana disse que espera ter os dados iniciais dos trabalhos de fase … [+2542 chars]"
        ],
        [
         [
          null,
          "Olhardigital.com.br"
         ],
         "Pedro Borges Spadoni",
         "Imunologista vence prêmio de inovação por tratamento contra câncer",
         "O imunologista Michel Sadelain levou o prêmio Breakthrough por seu trabalho pioneiro na terapia com células CAR-T para câncer\nO post Imunologista vence prêmio de inovação por tratamento contra câncer apareceu primeiro em Olhar Digital.",
         "https://olhardigital.com.br/2023/09/14/medicina-e-saude/imunologista-vence-premio-de-inovacao-por-tratamento-contra-cancer/",
         "https://img.olhardigital.com.br/wp-content/uploads/2023/09/Destaque-Michel-Sadelain-imunologista-cancer.jpg",
         "2023-09-15T01:08:01Z",
         "O imunologista francÃªs-canadense Michel Sadelain venceu o prestigiado prÃªmio Breakthrough nesta quinta-feira (14) por seu trabalho pioneiro na terapia com cÃ©lulas CAR-T â uma nova forma de trata… [+3677 chars]"
        ],
        [
         [
          null,
          "Olhardigital.com.br"
         ],
         "Lucas Soares",
         "Alienígenas do México são reais? Entenda a polêmica",
         "Nesta quarta-feira (13) o mundo a ufologia foi surpreendido com uma apresentação no congresso mexicano onde um ufólogo mostrou supostos cadáveres de alienígenas. Pelo histórico polêmico do pesquisador, a notícia já foi encarada com ceticismo. De acordo com o …",
         "https://olhardigital.com.br/2023/09/14/ciencia-e-espaco/alienigenas-do-mexico-sao-reais-entenda-a-polemica/",
         "https://img.olhardigital.com.br/wp-content/uploads/2023/09/alienigenas-mexico.jpg",
         "2023-09-14T16:03:07Z",
         "Nesta quarta-feira (13) o mundo a ufologia foi surpreendido com uma apresentaÃ§Ã£o no congresso mexicano onde um ufÃ³logo mostrou supostos cadÃ¡veres de alienÃ­genas. Pelo histÃ³rico polÃªmico do pes… [+2991 chars]"
        ],
        [
         [
          null,
          "Olhardigital.com.br"
         ],
         "Mateus Dias",
         "Ufólogo de supostos aliens do México já foi desmascarado outras vezes",
         "Jaime Maussan apresentou no México restos mortais de alienígenas, no entanto, toda essa historia pode ser mentira\nO post Ufólogo de supostos aliens do México já foi desmascarado outras vezes apareceu primeiro em Olhar Digital.",
         "https://olhardigital.com.br/2023/09/14/ciencia-e-espaco/ufologo-de-supostos-aliens-do-mexico-ja-foi-desmascarado-outras-vezes/",
         "https://img.olhardigital.com.br/wp-content/uploads/2023/09/Jaime-Maussan.jpg",
         "2023-09-14T20:07:00Z",
         "Na terÃ§a-feira (12), o ufÃ³logo e jornalista Jaime Maussan apresentou ao Congresso do MÃ©xico os restos mortais de dois supostos alienÃ­genas. A demonstraÃ§Ã£o dos espÃ©cimes aconteceu durante uma a… [+2753 chars]"
        ],
        [
         [
          null,
          "Tecmundo.com.br"
         ],
         "Jorge Marin",
         "Google DeepMind: nova ferramenta de IA prevê doenças genéticas",
         "Um novo programa de inteligência artificial desenvolvido por cientistas do Google DeepMind é capaz de prever se milhões de mutações genéticas presentes em nossa sequência de DNA que são inofensivas ou propensas a causar doenças no futuro. Batizada como AlphaM…",
         "https://www.tecmundo.com.br/ciencia/271822-google-deepmind-nova-ferramenta-ia-preve-doencas-geneticas.htm",
         "https://tm.ibxk.com.br/2023/09/20/20120248396161.jpg",
         "2023-09-20T15:15:00Z",
         "Um novo programa de inteligência artificial desenvolvido por cientistas do Google DeepMind é capaz de prever se milhões de mutações genéticas presentes em nossa sequência de DNA que são inofensivas o… [+2940 chars]"
        ],
        [
         [
          null,
          "Olhardigital.com.br"
         ],
         "Alessandro Di Lorenzo",
         "Estudo descobre novas características genéticas do Alzheimer",
         "A descoberta, segundo os pesquisadores, pode contribuir para o desenvolvimento futuro de exames de sangue para a doença de Alzheimer\nO post Estudo descobre novas características genéticas do Alzheimer apareceu primeiro em Olhar Digital.",
         "https://olhardigital.com.br/2023/09/07/medicina-e-saude/estudo-descobre-novas-caracteristicas-geneticas-do-alzheimer/",
         "https://img.olhardigital.com.br/wp-content/uploads/2023/05/Alzheimer.jpg",
         "2023-09-07T10:01:00Z",
         "Pesquisadores da Universidade de Pittsburgh, nos Estados Unidos, analisaram milhares de genomas humanos para encontrar novas variaÃ§Ãµes genÃ©ticas responsÃ¡veis por controlar os nÃ­veis de molÃ©cula… [+2542 chars]"
        ],
        [
         [
          null,
          "Sapo.pt"
         ],
         "Ana Sofia Neto",
         "Cérebro artificial ajuda a perceber as origens genéticas do autismo",
         "Uma nova técnica científica está a revelar as origens genéticas da perturbação do espetro do autismo (ou PEA) escondidas no nosso cérebro. O cérebro é curiosamente complexo e há muito sobre ele que ainda...",
         "https://pplware.sapo.pt/ciencia/cerebro-artificial-ajuda-a-perceber-as-origens-geneticas-do-autismo/",
         "https://pplware.sapo.pt/wp-content/uploads/2023/09/organoide_cerebral00.jpg",
         "2023-09-24T13:00:25Z",
         "Uma nova técnica científica está a revelar as origens genéticas da perturbação do espetro do autismo (ou PEA) escondidas no nosso cérebro.\r\nO cérebro é curiosamente complexo e há muito sobre ele que … [+3282 chars]"
        ],
        [
         [
          null,
          "Tecmundo.com.br"
         ],
         "Jorge Marin",
         "Miniórgãos descobertos em mamíferos podem gerar respostas autoimunes",
         "Pesquisadores do Instituto Federal Suíço de Tecnologia de Zurique descobriram recentemente um tipo de organela que havia permanecido não caracterizada até agora nas células dos mamíferos. O “miniórgão”, batizado como exclusoma, é feito de anéis de DNA chamado…",
         "https://www.tecmundo.com.br/ciencia/272244-miniorgaos-descobertos-mamiferos-gerar-respostas-autoimunes.htm",
         "https://tm.ibxk.com.br/2023/10/02/02154244691267.jpg",
         "2023-10-02T20:30:04Z",
         "Pesquisadores do Instituto Federal Suíço de Tecnologia de Zurique descobriram recentemente um tipo de organela que havia permanecido não caracterizada até agora nas células dos mamíferos. O miniórgão… [+3134 chars]"
        ],
        [
         [
          null,
          "Olhardigital.com.br"
         ],
         "Vitoria Lopes Gomez",
         "Vacinas erradicaram doenças que, antes, matavam mais que guerras",
         "Doenças como a poliomielite e a varíola, que mataram milhões no século passado, desapareceram graças às vacinas\nO post Vacinas erradicaram doenças que, antes, matavam mais que guerras apareceu primeiro em Olhar Digital.",
         "https://olhardigital.com.br/2023/09/08/medicina-e-saude/vacinas-erradicaram-doencas-que-antes-matavam-mais-que-guerras/",
         "https://img.olhardigital.com.br/wp-content/uploads/2023/07/vacina-e1692890816557.jpg",
         "2023-09-08T20:30:20Z",
         "NÃ£o Ã© incomum ouvir falar sobre a gravidade de doenÃ§as que hoje sequer nos lembramos. Ã o caso, por exemplo, da varÃ­ola e da poliomielite. Ambas mataram milhÃµes de pessoas no sÃ©culo passado, m… [+2308 chars]"
        ],
        [
         [
          null,
          "Olhardigital.com.br"
         ],
         "Alessandro Di Lorenzo",
         "IA brasileira é capaz de prever doenças com antecedência",
         "A IA Dara pode coletar dados e realizar uma rápida varredura em todo o histórico médico do paciente, indicando riscos de saúde\nO post IA brasileira é capaz de prever doenças com antecedência apareceu primeiro em Olhar Digital.",
         "https://olhardigital.com.br/2023/09/29/medicina-e-saude/ia-brasileira-e-capaz-de-prever-doencas-com-antecedencia/",
         "https://proxy.olhardigital.com.br/wp-content/uploads/2023/09/iStock-1411998514.jpg",
         "2023-09-29T21:04:45Z",
         "Uma inteligÃªncia artificial desenvolvida por uma empresa brasileira pode ajudar a prevenir doenÃ§as como acidente vascular cerebral (AVC), infarto e diabetes, por exemplo. A Dara foi criada pela IPM… [+1959 chars]"
        ],
        [
         [
          null,
          "Sapo.pt"
         ],
         "Rui Jorge",
         "Cientistas adaptam a Realidade Virtual para utilização em consultas remotas",
         "Os investigadores da Universidade de Canterbury criaram um headset de realidade virtual (RV) que poderá ser utilizado pelos médicos para realizar avaliações médicas de pacientes que vivem em zonas rurais, têm doenças infeciosas ou...",
         "https://pplware.sapo.pt/high-tech/cientistas-adaptam-a-realidade-virtual-para-utilizacao-em-consultas-remotas/",
         "https://pplware.sapo.pt/wp-content/uploads/2023/09/rv_medicina.jpg",
         "2023-09-20T14:00:25Z",
         "Os investigadores da Universidade de Canterbury criaram um headset de realidade virtual (RV) que poderá ser utilizado pelos médicos para realizar avaliações médicas de pacientes que vivem em zonas ru… [+3368 chars]"
        ],
        [
         [
          null,
          "Olhardigital.com.br"
         ],
         "Flavia Correia",
         "Bichos-da-seda transgênicos criam fibras mais resistentes do que tecido à prova de bala",
         "Usando engenharia genética, cientistas inseriram genes de aranha em bichos-da-seda para produção de tecidos mais resistentes do que Kevlar\nO post Bichos-da-seda transgênicos criam fibras mais resistentes do que tecido à prova de bala apareceu primeiro em Olha…",
         "https://olhardigital.com.br/2023/09/26/ciencia-e-espaco/bichos-da-seda-transgenicos-criam-fibras-mais-resistentes-do-que-tecido-a-prova-de-bala/",
         "https://proxy.olhardigital.com.br/wp-content/uploads/2023/09/bicho-da-seda.jpg",
         "2023-09-26T19:18:52Z",
         "Cientistas utilizaram engenharia genÃ©tica para gerar bichos-da-seda capazes de produzir fibras mais resistentes do que o Kevlar, tambÃ©m chamado de poliaramida â material usado em coletes Ã  prova… [+3623 chars]"
        ],
        [
         [
          null,
          "Olhardigital.com.br"
         ],
         "Alessandro Di Lorenzo",
         "Estudo indica onde fica o lar original da humanidade",
         "Pesquisadores criaram uma rede de quase 27 milhões de ancestrais, desenvolvendo uma gigantesca árvore genealógica da humanidade\nO post Estudo indica onde fica o lar original da humanidade apareceu primeiro em Olhar Digital.",
         "https://olhardigital.com.br/2023/09/14/ciencia-e-espaco/estudo-indica-onde-fica-o-lar-original-da-humanidade/",
         "https://img.olhardigital.com.br/wp-content/uploads/2022/03/deserto.jpg",
         "2023-09-14T20:40:37Z",
         "A histÃ³ria da humanidade Ã© marcada pelas migraÃ§Ãµes. Por milhares de anos, nossa espÃ©cie se deslocou pela Terra em busca de Ã¡gua, alimentos e tudo o que proporciona uma vida melhor. Mas existe u… [+2407 chars]"
        ],
        [
         [
          null,
          "Olhardigital.com.br"
         ],
         "Alessandro Di Lorenzo",
         "Segundo transplante com coração de porco para humano é feito com sucesso",
         "O coração de porco transplantado tem 10 modificações genéticas para reduzir o risco de ser recusado pelo corpo do paciente\nO post Segundo transplante com coração de porco para humano é feito com sucesso apareceu primeiro em Olhar Digital.",
         "https://olhardigital.com.br/2023/09/22/medicina-e-saude/segundo-transplante-com-coracao-de-porco-para-humano-e-feito-com-sucesso/",
         "https://proxy.olhardigital.com.br/wp-content/uploads/2023/09/Transplante-1.jpg",
         "2023-09-22T19:33:57Z",
         "Pela segunda vez na histÃ³ria, cirurgiÃµes transplantaram o coraÃ§Ã£o de um porco em um homem na tentativa de prolongar sua vida. A operaÃ§Ã£o foi um sucesso e, dois dias depois, o paciente estava fa… [+2546 chars]"
        ],
        [
         [
          null,
          "Olhardigital.com.br"
         ],
         "Mateus Dias",
         "Cientistas encontram povo na África que acreditavam ter sumido",
         "Apesar da língua da população estar deixando de existir, suas distinções genéticas continuam presente nos descendentes\nO post Cientistas encontram povo na África que acreditavam ter sumido apareceu primeiro em Olhar Digital.",
         "https://olhardigital.com.br/2023/09/27/ciencia-e-espaco/cientistas-encontram-povo-na-africa-que-acreditavam-ter-sumido/",
         "https://olhardigital.com.br/wp-content/uploads/2023/09/ultimos-faantes-do-Kwadi.webp",
         "2023-09-27T19:34:40Z",
         "A Ãfrica Austral abriga uma regiÃ£o conhecida como berÃ§o da humanidade, local onde os primeiros hominÃ­deos surgiram. Por causa disso, Ã© possÃ­vel encontrar a maior diversidade genÃ©tica humana po… [+2079 chars]"
        ],
        [
         [
          null,
          "[Removed]"
         ],
         null,
         "[Removed]",
         "[Removed]",
         "https://removed.com",
         null,
         "1970-01-01T00:00:00Z",
         "[Removed]"
        ],
        [
         [
          null,
          "Tecmundo.com.br"
         ],
         "Jennifer Egues",
         "Dara, a IA capaz de prever infartos e AVCs com dados do SUS",
         "Nova inteligência artificial, desenvolvida pela empresa IPM Sistemas, uma GovTech brasileira, pode ser utilizada no serviço público de saúde, otimizando dados e gerando sinais de alerta para doenças como acidente vascular cerebral, infarto e previsões com até…",
         "https://www.tecmundo.com.br/ciencia/272151-dara-ia-capaz-prever-infartos-avcs-dados-sus.htm",
         "https://tm.ibxk.com.br/2023/09/28/28172505232225.jpg",
         "2023-09-29T13:00:00Z",
         "Nova inteligência artificial, desenvolvida pela empresa IPM Sistemas, uma GovTech brasileira, pode ser utilizada no serviço público de saúde, otimizando dados e gerando sinais de alerta para doenças … [+2737 chars]"
        ],
        [
         [
          null,
          "Olhardigital.com.br"
         ],
         "Tamires Ferreira",
         "‘Vacina inversa’ pode ser a chave para tratar doenças autoimunes; entenda",
         "Ação do fármaco no sistema imunológico pode apagar a memória de ataque das moléculas\nO post ‘Vacina inversa’ pode ser a chave para tratar doenças autoimunes; entenda  apareceu primeiro em Olhar Digital.",
         "https://olhardigital.com.br/2023/09/13/medicina-e-saude/vacina-inversa-pode-ser-a-chave-para-tratar-doencas-autoimunes-entenda/",
         "https://img.olhardigital.com.br/wp-content/uploads/2023/09/doenca-autoimune.jpg",
         "2023-09-13T17:37:31Z",
         "Um novo tipo de vacina desenvolvida por pesquisadores da Escola Pritzker de Engenharia Molecular (PME)Â pode ser o novo tratamento mais promissor contra doenÃ§as autoimunes. Com uma proposta de aÃ§Ã£… [+2774 chars]"
        ],
        [
         [
          null,
          "Olhardigital.com.br"
         ],
         "Alessandro Di Lorenzo",
         "Google: pesquisadores fazem descoberta histórica sobre proteínas do corpo humano",
         "Foram catalogadas 71 milhões de mutações e um terço delas poderia causar doenças. Apenas 4 milhões já eram conhecidas pela ciência\nO post Google: pesquisadores fazem descoberta histórica sobre proteínas do corpo humano apareceu primeiro em Olhar Digital.",
         "https://olhardigital.com.br/2023/09/19/medicina-e-saude/google-pesquisadores-fazem-descoberta-historica-sobre-proteinas-do-corpo-humano/",
         "https://proxy.olhardigital.com.br/wp-content/uploads/2023/09/Proteina-1.jpg",
         "2023-09-19T19:46:08Z",
         "Pesquisadores doÂ Google DeepMind, empresa de inteligÃªncia artificial da Alphabet, catalogaram 71 milhÃµes de mutaÃ§Ãµes em proteÃ­nas do corpo humano. Ao classificÃ¡-las, eles descobriram que um te… [+3867 chars]"
        ],
        [
         [
          null,
          "[Removed]"
         ],
         null,
         "[Removed]",
         "[Removed]",
         "https://removed.com",
         null,
         "1970-01-01T00:00:00Z",
         "[Removed]"
        ],
        [
         [
          null,
          "[Removed]"
         ],
         null,
         "[Removed]",
         "[Removed]",
         "https://removed.com",
         null,
         "1970-01-01T00:00:00Z",
         "[Removed]"
        ],
        [
         [
          null,
          "Olhardigital.com.br"
         ],
         "Vitoria Lopes Gomez",
         "Modelo matemático pode revolucionar tratamentos cardíacos",
         "Através do simulador, cientistas poderão entender o funcionamento das doenças cardíacas no coração e, assim, achar novas formas de tratá-las\nO post Modelo matemático pode revolucionar tratamentos cardíacos apareceu primeiro em Olhar Digital.",
         "https://olhardigital.com.br/2023/09/19/medicina-e-saude/modelo-matematico-pode-revolucionar-tratamentos-cardiacos/",
         "https://proxy.olhardigital.com.br/wp-content/uploads/2022/10/coracao-humano.jpg",
         "2023-09-19T07:55:00Z",
         "Um estudo feito por pesquisadores da ItÃ¡lia mostrou que a matemÃ¡tica pode salvar vidas â e prevenir infartos. Os cientistas criaram um modelo matemÃ¡tico computacional do coraÃ§Ã£o para simular o… [+1772 chars]"
        ],
        [
         [
          null,
          "Olhardigital.com.br"
         ],
         "Vitoria Lopes Gomez",
         "Estudo mostra que vape (com ou sem nicotina) paralisa células imunológicas",
         "Pesquisadores testaram e comprovaram que vapor do vape afeta o sistema imunológico, aumentando o risco de doenças respiratórias\nO post Estudo mostra que vape (com ou sem nicotina) paralisa células imunológicas apareceu primeiro em Olhar Digital.",
         "https://olhardigital.com.br/2023/09/11/medicina-e-saude/estudo-mostra-que-vape-com-ou-sem-nicotina-paralisa-celulas-imunologicas/",
         "https://img.olhardigital.com.br/wp-content/uploads/2023/09/vape-1.jpg",
         "2023-09-11T19:11:30Z",
         "O vape (ou cigarro eletrÃ´nico) ganhou terreno, especialmente entre os jovens. As fabricantes conseguiram popularizar o produto dizendo atÃ© que seria um âsubstitutoâ menos nocivo para quem queri… [+2051 chars]"
        ],
        [
         [
          null,
          "Olhardigital.com.br"
         ],
         "Vitoria Lopes Gomez",
         "Fiocruz: Covid-19 avança no Sudeste e Centro-Oeste",
         "Alguns estados do Norte e Nordeste também tiveram alta nos casos de Covid-19 e de outras doenças respiratórias\nO post Fiocruz: Covid-19 avança no Sudeste e Centro-Oeste apareceu primeiro em Olhar Digital.",
         "https://olhardigital.com.br/2023/09/20/medicina-e-saude/fiocruz-covid-19-avanca-no-sudeste-e-centro-oeste/",
         "https://proxy.olhardigital.com.br/wp-content/uploads/2023/07/virus-covid-19.jpg",
         "2023-09-20T18:58:26Z",
         "A FundaÃ§Ã£o Oswaldo Cruz (Fiocruz) divulgou nesta quarta-feira (20) uma atualizaÃ§Ã£o do boletim InfoGripe, com dados de 10 a 16 de setembro. O novo relatÃ³rio mostra um aumento de casos de Covid-19… [+2167 chars]"
        ],
        [
         [
          null,
          "Olhardigital.com.br"
         ],
         "Alessandro Di Lorenzo",
         "Novo remédio imita prática de atividade física e pode reduzir peso",
         "O remédio ainda está sendo testado em ratos, mas apresenta potencial para para tratar doenças como obesidade, diabetes e perda muscular\nO post Novo remédio imita prática de atividade física e pode reduzir peso apareceu primeiro em Olhar Digital.",
         "https://olhardigital.com.br/2023/09/26/medicina-e-saude/novo-remedio-imita-pratica-de-atividade-fisica-e-pode-reduzir-peso/",
         "https://proxy.olhardigital.com.br/wp-content/uploads/2023/09/OBESIDADE-1.jpg",
         "2023-09-26T19:35:21Z",
         "JÃ¡ imaginou tomar um remÃ©dio que garante os mesmos benefÃ­cios que a atividade fÃ­sica? Talvez isso nunca seja totalmente possÃ­vel, mas testes em ratos de um novo tipo de droga tÃªm se mostrado pr… [+3292 chars]"
        ],
        [
         [
          null,
          "Olhardigital.com.br"
         ],
         "Alisson Santos",
         "Autoridades de saúde dos EUA sugerem antibiótico para combater DSTs",
         "Segundo autoridades, o medicamento deve servir como “pílula do dia seguinte” contra as doenças\nO post Autoridades de saúde dos EUA sugerem antibiótico para combater DSTs apareceu primeiro em Olhar Digital.",
         "https://olhardigital.com.br/2023/10/03/medicina-e-saude/autoridades-de-saude-dos-eua-sugerem-antibiotico-para-combater-dsts/",
         "https://proxy.olhardigital.com.br/wp-content/uploads/2023/09/Novos-antibioticos-1.jpg",
         "2023-10-03T09:40:00Z",
         "Autoridades de saÃºde dos Estados Unidos estÃ£o planejando apoiar o uso de antibiÃ³tico barato no combate as doenÃ§as sexualmente transmissÃ­veis (DSTs). Com os registros de contaminaÃ§Ã£o subindo em… [+1637 chars]"
        ],
        [
         [
          null,
          "Tecmundo.com.br"
         ],
         "Lucas Vinicius Santos",
         "Método quântico é capaz de curar câncer cerebral por meio de spray; entenda",
         "De acordo com um estudo publicado na revista científica Nature Nanotechnology, uma equipe de cientistas ingleses conseguiu criar um método quântico por spray para curar um tipo de câncer cerebral. O estudo conduzido por pesquisadores Universidade de Nottingha…",
         "https://www.tecmundo.com.br/ciencia/271666-metodo-quantico-capaz-curar-cancer-cerebral-meio-spray-entenda.htm",
         "https://tm.ibxk.com.br/2023/09/15/15085246049017.jpg",
         "2023-09-15T13:00:00Z",
         "De acordo com um estudo publicado na revista científica Nature Nanotechnology, uma equipe de cientistas ingleses conseguiu criar um método quântico por spray para curar um tipo de câncer cerebral. O … [+2915 chars]"
        ],
        [
         [
          null,
          "[Removed]"
         ],
         null,
         "[Removed]",
         "[Removed]",
         "https://removed.com",
         null,
         "1970-01-01T00:00:00Z",
         "[Removed]"
        ],
        [
         [
          null,
          "[Removed]"
         ],
         null,
         "[Removed]",
         "[Removed]",
         "https://removed.com",
         null,
         "1970-01-01T00:00:00Z",
         "[Removed]"
        ],
        [
         [
          null,
          "Observador.pt"
         ],
         "Ricardo Zorron",
         "Tratar a obesidade com endoscopia, sem incisões? Sim, já é possível",
         "Nos últimos cinco anos tem existido uma verdadeira revolução nas terapias endoscópicas que possibilitam um maior acesso a tratamentos para a obesidade, uma alternativa menos invasiva e sem incisões.",
         "https://observador.pt/opiniao/tratar-a-obesidade-com-endoscopia-sem-incisoes-sim-ja-e-possivel/",
         "https://wm.observador.pt/wm-op/wide-circle/https%3A%2F%2Fbordalo.observador.pt%2Fv2%2Frs%3Afill%3A900%2Fc%3A467%3A467%3Anowe%3A9%3A3%2Fq%3A86%2Fplain%2Fhttps%3A%2F%2Fs3.observador.pt%2Fwp-content%2Fuploads%2F2023%2F09%2F15111743%2Fwhatsapp-image-2023-09-12-at-164340.jpeg",
         "2023-09-17T23:03:43Z",
         "Através de uma abordagem minimamente invasiva, as técnicas endoscópicas desempenham um papel cada vez mais relevante no tratamento da obesidade, ajudando as pessoas a perder peso e a controlar doença… [+3854 chars]"
        ],
        [
         [
          null,
          "[Removed]"
         ],
         null,
         "[Removed]",
         "[Removed]",
         "https://removed.com",
         null,
         "1970-01-01T00:00:00Z",
         "[Removed]"
        ],
        [
         [
          null,
          "Sapo.pt"
         ],
         "Marisa Pinto",
         "Cão-robot com Raspberry Pi ensina espanhol a crianças surdas",
         "É incrível a quantidade de tecnologia que nos dias que correm ajudam significativamente em áreas como a saúde, terapias, reabilitação, aprendizagem, entre outras. Nesse sentido, vamos hoje conhecer o Robins, um cão-robot com raspberry...",
         "https://pplware.sapo.pt/gadgets/cao-robot-com-raspberry-pi-ensina-espanhol-a-criancas-surdas/",
         "https://pplware.sapo.pt/wp-content/uploads/2023/09/cao-robot_0.jpg",
         "2023-09-05T13:00:03Z",
         "É incrível a quantidade de tecnologia que nos dias que correm ajudam significativamente em áreas como a saúde, terapias, reabilitação, aprendizagem, entre outras. Nesse sentido, vamos hoje conhecer o… [+1876 chars]"
        ],
        [
         [
          null,
          "Www.tsf.pt"
         ],
         "Lusa",
         "Morreu Ian Wilmut, \"pai\" da ovelha Dolly",
         "O trabalho do especialista em embriologia foi considerado fundamental para a investigação que visa tratar doenças genéticas e degenerativas ajudando o corpo a reparar tecidos danificados.",
         "https://www.tsf.pt/mundo/morreu-ian-wilmut-pai-da-ovelha-dolly-17006400.html",
         "https://static.globalnoticias.pt/tsf/image.jpg?brand=TSF&type=generate&guid=d460562f-c697-4222-b4fd-8dc02af92e59&w=800&h=420&watermark=true&t=20230911191400",
         "2023-09-11T18:14:00Z",
         "O cientista afastou-se do meio académico em 2012 e em 2018 tornou público que tinha a doença de Parkinson\r\n© Naokazu Oinuma/AP (arquivo)\r\nO biólogo britânicoIan Wilmut, \"pai\" da ovelha Dolly, o prime… [+1949 chars]"
        ],
        [
         [
          null,
          "Observador.pt"
         ],
         "Maria Raimundo",
         "Boa nutrição é bom negócio",
         "A personalização está a tornar-se fundamental na prevenção e gestão de doenças. Isto torna a nutrição personalizada e a medicina de precisão componentes essenciais na prevenção e gestão de doenças.",
         "https://observador.pt/opiniao/boa-nutricao-e-bom-negocio/",
         "https://wm.observador.pt/wm-op/wide-circle/https%3A%2F%2Fbordalo.observador.pt%2Fv2%2Frs%3Afill%3A900%2Fc%3A467%3A467%3Anowe%3A0%3A0%2Fq%3A86%2Fplain%2Fhttps%3A%2F%2Fs3.observador.pt%2Fwp-content%2Fuploads%2F2020%2F07%2F27203316%2Fmr_obs_467x467_acf_cropped.jpg",
         "2023-09-11T23:09:08Z",
         "A má nutrição está a desafiar quase todos os aspectos da nossa sociedade, contribuindo para problemas de saúde, desigualdades na saúde, no acesso à mesma, e nas despesas evitáveis com cuidados de saú… [+9116 chars]"
        ],
        [
         [
          null,
          "Observador.pt"
         ],
         "Inês Capucho",
         "DeepMind, da Google, desenvolve programa com Inteligência Artificial que prevê se mutações de ADN podem causar doenças",
         "As previsões do programa AlphaMissense, desenvolvido pela DeepMind, sobre as chamadas mutações \"missense\" podem ajudar a acelerar a investigação e o diagnóstico de doenças raras.",
         "https://observador.pt/2023/09/20/deepmind-da-google-desenvolve-programa-com-inteligencia-artificial-que-preve-se-mutacoes-de-adn-podem-causar-doencas/",
         "https://wm.observador.pt/wm/obs/l/https%3A%2F%2Fbordalo.observador.pt%2Fv2%2Frs%3Afill%3A770%3A403%2Fc%3A3504%3A1973%3Anowe%3A0%3A532%2Fq%3A85%2Fplain%2Fhttps%3A%2F%2Fs3.observador.pt%2Fwp-content%2Fuploads%2F2022%2F02%2F24081421%2FGettyImages-90739363.jpg",
         "2023-09-20T17:45:28Z",
         "A DeepMind, detida pela Google, utilizou a Inteligência Artificial para identificar mutações de ADN que podem causar doenças. É através do programa AlphaMissense, desenvolvido por cientistas, que a e… [+1752 chars]"
        ],
        [
         [
          null,
          "Abril.com.br"
         ],
         "Diogo Sponchiato",
         "Nobel vai para descobertas que resultaram nas vacinas de RNA para Covid-19",
         "Láurea em Medicina é concedida a dois pesquisadores pelos trabalhos que culminaram na nova geração de vacinas que ajudou a deter a pandemia",
         "https://veja.abril.com.br/saude/nobel-de-medicina-2023-vacina-covid",
         "https://veja.abril.com.br/wp-content/uploads/2023/10/490_envelhecer-vacina-gripe.png?w=680&h=453&crop=1",
         "2023-10-02T09:59:49Z",
         "O Prêmio Nobel de Fisiologia ou Medicina de 2023 reconhece dois pesquisadores por suas descobertas fundamentais que permitiram criar as primeiras vacinas de RNA da história, as mesmas que ajudaram a … [+2446 chars]"
        ],
        [
         [
          null,
          "Abril.com.br"
         ],
         "Diogo Sponchiato",
         "Do que falamos quando falamos em demência",
         "Quadro que solapa a memória e outras habilidades cognitivas tem diversas causas, mas o Alzheimer é a principal delas",
         "https://veja.abril.com.br/coluna/letra-de-medico/do-que-falamos-quando-falamos-em-demencia",
         "https://veja.abril.com.br/wp-content/uploads/2023/09/envelhecer-cerebro.png?w=680&h=449&crop=1",
         "2023-09-21T10:12:08Z",
         "Demência é um diagnóstico clínico que indica a redução progressiva das capacidades cerebrais, levando à perda de autonomia e da qualidade de vida. Dentre múltiplas causas, a doença de Alzheimer é a m… [+3622 chars]"
        ],
        [
         [
          null,
          "[Removed]"
         ],
         null,
         "[Removed]",
         "[Removed]",
         "https://removed.com",
         null,
         "1970-01-01T00:00:00Z",
         "[Removed]"
        ],
        [
         [
          null,
          "Abril.com.br"
         ],
         "Simone Blanes",
         "MSD inicia última fase de estudo para comprimido que reduz colesterol ruim",
         "Chamado de MK-0616, o remédio experimental inibe a ação de PCSK9. Se aprovado, será o primeiro comprimido oral dessa categoria",
         "https://veja.abril.com.br/saude/msd-inicia-ultima-fase-de-estudo-para-comprimido-que-reduz-colesterol-ruim",
         "https://veja.abril.com.br/wp-content/uploads/2016/05/estatina-remedio-colesterol-20121108-original.jpeg?quality=90&strip=info&w=620&h=349&crop=1",
         "2023-09-04T18:03:54Z",
         "A MSD iniciou um programa clínico de Fase 3 para um inibidor oral de PCSK9, avaliado para o tratamento de hipercolesterolemia, ou seja, a redução do colesterol da lipoproteína de baixa densidade (LDL… [+2295 chars]"
        ],
        [
         [
          null,
          "Olhardigital.com.br"
         ],
         "Alessandro Di Lorenzo",
         "Descoberta de pesquisadores da USP pode ajudar no combate ao câncer",
         "Pesquisadores identificaram o mecanismo envolvido na replicação e reparo de DNA, o que pode ajudar no tratamento contra o câncer\nO post Descoberta de pesquisadores da USP pode ajudar no combate ao câncer apareceu primeiro em Olhar Digital.",
         "https://olhardigital.com.br/2023/09/21/medicina-e-saude/descoberta-de-pesquisadores-da-usp-pode-ajudar-no-combate-ao-cancer/",
         "https://proxy.olhardigital.com.br/wp-content/uploads/2023/05/Destaque-tratamento-cancer.jpg",
         "2023-09-21T17:55:31Z",
         "Uma descoberta de pesquisadores do Instituto de QuÃ­mica da USP e de duas universidades da Inglaterra pode auxiliar no combate a diferentes tipos de cÃ¢ncer. Os cientistas identificaram o mecanismo e… [+4889 chars]"
        ],
        [
         [
          null,
          "Abril.com.br"
         ],
         "Paula Felix",
         "Novo estudo com terapia inovadora contra câncer é autorizado pela Anvisa",
         "Ensaio com células geneticamente modificadas, as CAR-T, será conduzido pela Fundação Hemocentro de Ribeirão Preto e Instituto Butantan",
         "https://veja.abril.com.br/saude/novo-estudo-com-terapia-inovadora-contra-cancer-e-autorizado-pela-anvisa",
         "https://veja.abril.com.br/wp-content/uploads/2017/11/cancer-car-t-terapia-17.jpg?quality=90&strip=info&w=680&h=453&crop=1",
         "2023-09-26T23:12:38Z",
         "A Agência Nacional de Vigilância Sanitária (Anvisa) autorizou nesta terça-feira, 26, um novo ensaio clínico nacional com CAR-T, terapia inovadora com células geneticamente modificadas que agem contra… [+2746 chars]"
        ],
        [
         [
          null,
          "Terra.com.br"
         ],
         "Deutsche Welle",
         "Por que você deve a sua vida a uns poucos humanos primitvos?",
         "Análises genéticas apontam que quase todos os nossos ancestrais morreram em uma catástrofe ...",
         "https://www.terra.com.br/noticias/por-que-voce-deve-a-sua-vida-a-uns-poucos-humanos-primitvos,4f56bf2b1e4ab45dbafda310e9294f1coffppy18.html",
         "https://p2.trrsf.com/image/fget/cf/1200/630/middle/images.terra.com/2023/09/05/1696209846-58045134354.jpg",
         "2023-09-05T18:08:14Z",
         "Análises genéticas apontam que quase todos os nossos ancestrais morreram em uma catástrofe natural 900 mil anos atrás. Apenas 1.280 indivíduos teriam sobrevivido. Uma parte deles está em você.Imagine… [+4310 chars]"
        ],
        [
         [
          null,
          "Googlediscovery.com"
         ],
         "Renê Fraga",
         "Mark Zuckerberg anuncia IA generativa para curar todas as doenças",
         "A Chan Zuckerberg Initiative (CZI), organização filantrópica fundada por Priscilla Chan e Mark Zuckerberg, anunciou um projeto inovador de inteligência",
         "https://googlediscovery.com/2023/09/20/mark-zuckerberg-anuncia-ia-generativa-para-curar-todas-as-doencas/",
         "https://cdn.googlediscovery.com/wp-content/uploads/chan-zuckerberg.jpg",
         "2023-09-20T16:59:48Z",
         "A Chan Zuckerberg Initiative (CZI), organização filantrópica fundada por Priscilla Chan e Mark Zuckerberg, anunciou um projeto inovador de inteligência artificial generativa. \r\nA iniciativa consiste … [+1695 chars]"
        ],
        [
         [
          null,
          "[Removed]"
         ],
         null,
         "[Removed]",
         "[Removed]",
         "https://removed.com",
         null,
         "1970-01-01T00:00:00Z",
         "[Removed]"
        ],
        [
         [
          null,
          "Abril.com.br"
         ],
         "diego.valencia",
         "Subir escadas pode reduzir o risco de doenças cardíacas em 20%, diz estudo",
         "Pesquisadores analisaram repositório de informações sobre saúde e estilo de vida com dados de mais de 458 mil adultos no Reino Unido",
         "https://veja.abril.com.br/saude/subir-escadas-pode-reduzir-o-risco-de-doencas-cardiacas-em-20-diz-estudo",
         "https://veja.abril.com.br/wp-content/uploads/2017/04/esporte-corrida-escada-20150213-018.jpg?quality=90&strip=info&w=680&h=453&crop=1",
         "2023-10-03T17:00:59Z",
         "Odeia quando o elevador quebra? De fato, é um incômodo, mas subir lances de escada pode salvar sua vida, de acordo com um novo estudo da Universidade de Tulane, em Louisiana, nos Estados Unidos.\r\nPes… [+1324 chars]"
        ],
        [
         [
          null,
          "[Removed]"
         ],
         null,
         "[Removed]",
         "[Removed]",
         "https://removed.com",
         null,
         "1970-01-01T00:00:00Z",
         "[Removed]"
        ],
        [
         [
          null,
          "Abril.com.br"
         ],
         "Diogo Sponchiato",
         "‘A saúde climática e a humana andam de mãos dadas’",
         "Em entrevista exclusiva, CEO global da AstraZeneca expõe os desafios da sustentabilidade do sistema de saúde e por onde caminha o futuro da medicina",
         "https://veja.abril.com.br/saude/a-saude-climatica-e-a-humana-andam-de-maos-dadas",
         "https://veja.abril.com.br/wp-content/uploads/2023/09/AZ3087-BoD-Pascal-Soriot-2022.jpg?quality=90&strip=info&w=680&h=453&crop=1",
         "2023-09-19T11:16:22Z",
         "Não dá para falar sobre a sustentabilidade dos sistemas de saúde sem falar de outra sustentabilidade, a ambiental – e vice-versa. É o que defende o francês Pascal Soriot, CEO global da biofarmacêutic… [+14790 chars]"
        ],
        [
         [
          null,
          "Abril.com.br"
         ],
         "Da Redação",
         "Morre cientista que liderou criação de Dolly, o primeiro animal clonado",
         "Feito gerou manchetes e debates éticos acalorados em 1996",
         "https://veja.abril.com.br/mundo/morre-cientista-que-liderou-criacao-de-dolly-o-primeiro-animal-clonado",
         "https://veja.abril.com.br/wp-content/uploads/2023/09/WhatsApp-Image-2023-09-11-at-15.46.58.jpeg?quality=90&strip=info&w=680&h=453&crop=1",
         "2023-09-11T19:03:48Z",
         "O cientista britânico Ian Wilmut, que liderou as pesquisas que resultaram na criação do primeiro animal clonado no mundo, a ovelha Dolly, morreu aos 79 anos no último domingo, 10. A morte foi anuncia… [+1984 chars]"
        ],
        [
         [
          null,
          "Olhardigital.com.br"
         ],
         "Rodrigo Mozelli",
         "Anvisa autoriza ensaio clínico com CAR-T Cell no Brasil para combater câncer",
         "Estudo tem como objetivo avaliar a segurança e eficácia do tratamento em pacientes com leucemia linfoide aguda B e linfoma não-Hodgkin B\nO post Anvisa autoriza ensaio clínico com CAR-T Cell no Brasil para combater câncer apareceu primeiro em Olhar Digital.",
         "https://olhardigital.com.br/2023/09/26/medicina-e-saude/anvisa-autoriza-ensaio-clinico-com-car-t-cell-no-brasil-para-combater-cancer/",
         "https://proxy.olhardigital.com.br/wp-content/uploads/2023/09/cancer-2.jpg",
         "2023-09-26T22:00:05Z",
         "A FundaÃ§Ã£o Hemocentro de RibeirÃ£o Preto (FUNDHERP), em parceria com o Instituto Butantan, recebeu autorizaÃ§Ã£o da Anvisa para realizar ensaio clÃ­nico no Brasil com a tÃ©cnica CAR-T Cell, que uti… [+2904 chars]"
        ],
        [
         [
          null,
          "[Removed]"
         ],
         null,
         "[Removed]",
         "[Removed]",
         "https://removed.com",
         null,
         "1970-01-01T00:00:00Z",
         "[Removed]"
        ],
        [
         [
          null,
          "B9.com.br"
         ],
         "Carlos Merigo",
         "Johnson & Johnson atualiza identidade visual e abandona seu reconhecido logotipo caligráfico",
         "A gigante da saúde, Johnson & Johnson, apresenta uma nova identidade visual. Abandona o reconhecido logotipo em caligrafia para simplificar a marca, buscando refletir sua evolução e foco em inovação. A cor vermelha também foi alterada. Por que isso é importan…",
         "https://www.b9.com.br/164509/johnson-johnson-atualiza-identidade-visual-e-abandona-seu-reconhecido-logotipo-caligrafico/",
         "https://assets.b9.com.br/wp-content/uploads/2023/09/JJ_Lobby01_HighRes-1280x677.jpg",
         "2023-09-14T17:50:25Z",
         "A gigante da saúde, Johnson &amp; Johnson, apresenta uma nova identidade visual. Abandona o reconhecido logotipo em caligrafia para simplificar a marca, buscando refletir sua evolução e foco em inova… [+1178 chars]"
        ],
        [
         [
          null,
          "Melhoresdestinos.com.br"
         ],
         "Cleverson Lima",
         "Minas Gerais! Resort all inclusive em Poços de Caldas com diárias a partir de R$ 677",
         "Poços de Caldas, no Sul de Minas Gerais, oferece uma das melhores estâncias hidrominerais da América Latina, com águas minerais usadas em diversas terapias, clima montanhês da Serra da Mantiqueira, excelente culinária e charmosa arquitetura da década de 30.  …",
         "https://www.melhoresdestinos.com.br/promocao/minas-pocos-caldas-resort",
         "https://www.melhoresdestinos.com.br/wp-content/uploads/2021/06/cassino-resort-pocos-de-caldas-capa-2021-2.jpg",
         "2023-09-23T12:00:04Z",
         "Poços de Caldas, no Sul de Minas Gerais, oferece uma das melhores estâncias hidrominerais da América Latina, com águas minerais usadas em diversas terapias, clima montanhês da Serra da Mantiqueira, e… [+1409 chars]"
        ],
        [
         [
          null,
          "Catracalivre.com.br"
         ],
         "Redação",
         "Estudo diz que menopausa precoce aumento o risco de demência",
         "Uma recente pesquisa realizada pela Universidade de Sherbrooke, no Canadá, revelou uma forte relação entre o início precoce da menopausa em mulheres e um",
         "https://catracalivre.com.br/saude-bem-estar/estudo-diz-que-menopausa-precoce-aumento-o-risco-de-demencia/",
         "https://catracalivre.com.br/cdn-cgi/image/f=auto,q=60,w=1200,h=638,fit=cover,format=jpeg/wp-content/uploads/2023/09/menopausa.jpg",
         "2023-09-28T19:30:43Z",
         "Uma recente pesquisa realizada pela Universidade de Sherbrooke, no Canadá, revelou uma forte relação entre o início precoce da menopausa em mulheres e um risco elevado de desenvolvimento de comorbida… [+1853 chars]"
        ],
        [
         [
          null,
          "Megacurioso.com.br"
         ],
         "Vivian de Souza Campos",
         "Superbactérias: como evitar a resistência aos antibióticos",
         "Superbactérias, ou bactérias resistentes a antibióticos, são cepas microbianas que desenvolveram a capacidade de resistir a um ou mais antibióticos. Essa resistência pode ocorrer devido a mutações genéticas aleatórias, ou pode ser adquirida devido ao uso inad…",
         "https://www.megacurioso.com.br//ciencia/127528-superbacterias-como-evitar-a-resistencia-aos-antibioticos.htm",
         "https://mega.ibxk.com.br/2023/10/03/03152401766265.jpg?ims=600x",
         "2023-10-03T19:00:00Z",
         "Superbactérias, ou bactérias resistentes a antibióticos, são cepas microbianas que desenvolveram a capacidade de resistir a um ou mais antibióticos. Essa resistência pode ocorrer devido a mutações ge… [+3311 chars]"
        ],
        [
         [
          null,
          "[Removed]"
         ],
         null,
         "[Removed]",
         "[Removed]",
         "https://removed.com",
         null,
         "1970-01-01T00:00:00Z",
         "[Removed]"
        ],
        [
         [
          null,
          "[Removed]"
         ],
         null,
         "[Removed]",
         "[Removed]",
         "https://removed.com",
         null,
         "1970-01-01T00:00:00Z",
         "[Removed]"
        ],
        [
         [
          null,
          "[Removed]"
         ],
         null,
         "[Removed]",
         "[Removed]",
         "https://removed.com",
         null,
         "1970-01-01T00:00:00Z",
         "[Removed]"
        ],
        [
         [
          null,
          "Terra.com.br"
         ],
         "Portal EdiCase",
         "Entenda por que doenças vasculares podem aumentar no calor",
         "Quando não cuidamos da saúde, os dias de calor torna-se um momento de alerta para o corpo, ...",
         "https://www.terra.com.br/vida-e-estilo/saude/entenda-por-que-doencas-vasculares-podem-aumentar-no-calor,52723791eadd8bccd0bd285409f363b03cid3uve.html",
         "https://p2.trrsf.com/image/fget/cf/1200/630/middle/images.terra.com/2023/09/22/1100783929-doencas-vasculares.jpeg",
         "2023-09-22T22:02:23Z",
         "Quando não cuidamos da saúde, os dias de calor torna-se um momento de alerta para o corpo, especialmente para aqueles que sofrem com problemas cardiovasculares. Isso porque, segundo dados da Sociedad… [+3207 chars]"
        ],
        [
         [
          null,
          "Abril.com.br"
         ],
         "Da Redação",
         "Medicina tecnológica para todos",
         "Assim como a terapia CAR-T, existem inúmeras abordagens terapêuticas inovadoras em desenvolvimento em centros de pesquisa ao redor do planeta",
         "https://veja.abril.com.br/coluna/coluna-claudio-lottenberg/medicina-tecnologica-para-todos",
         "https://veja.abril.com.br/wp-content/uploads/2017/11/cancer-car-t-terapia-17.jpg?quality=90&strip=info&w=680&h=453&crop=1",
         "2023-09-18T16:11:55Z",
         "A terapia com células CAR-T é um dos tratamentos mais recentes e promissores no combate aos cânceres de sangue, como o linfoma e as leucemias agudas. Ele consiste na coleta de células de defesa do pa… [+3354 chars]"
        ],
        [
         [
          null,
          "[Removed]"
         ],
         null,
         "[Removed]",
         "[Removed]",
         "https://removed.com",
         null,
         "1970-01-01T00:00:00Z",
         "[Removed]"
        ],
        [
         [
          null,
          "Terra.com.br"
         ],
         "Reuters",
         "Belga Biobest compra empresa brasileira de soluções agrícolas naturais Biotrop em acordo de US$570 mi",
         "A empresa belga de biocontrole de pragas e doenças e polinização natural para produção agrícola ...",
         "https://www.terra.com.br/economia/dinheiro-em-acao/belga-biobest-compra-empresa-brasileira-de-solucoes-agricolas-naturais-biotrop-em-acordo-de-us570-mi,92e023c86a50c8325dbc0b2d6ca40870yybi9fsw.html",
         "https://s1.trrsf.com/fe/zaz-mod-t360-icons/svg/logos/terra-16x9-borda.png",
         "2023-09-07T18:50:26Z",
         "A empresa belga de biocontrole de pragas e doenças e polinização natural para produção agrícola sustentável Biobest Group fechou acordo para adquirir a brasileira do mesmo ramo Biotrop, em um movimen… [+1927 chars]"
        ],
        [
         [
          null,
          "Observador.pt"
         ],
         "Agência Lusa",
         "Empresa da Covilhã deteta enzima que pode travar doença de Parkinson",
         "Uma empresa sediada na Covilhã está a desenvolver uma molécula que produz stress oxidativo e que pode ser moldada às necessidades do doente, permitindo que permaneçam no primeiro estágio da doença.",
         "https://observador.pt/2023/09/22/empresa-da-covilha-deteta-enzima-que-pode-travar-doenca-de-parkinson/",
         "https://wm.observador.pt/wm/obs/l/https%3A%2F%2Fbordalo.observador.pt%2Fv2%2Frs%3Afill%3A770%3A403%2Fc%3A2000%3A1124%3Anowe%3A0%3A105%2Fq%3A85%2Fplain%2Fhttps%3A%2F%2Fs3.observador.pt%2Fwp-content%2Fuploads%2F2017%2F12%2F12161206%2F19081089.jpg",
         "2023-09-22T10:33:53Z",
         "Uma empresa com sede na Covilhã está na fase de conclusão dos testes pré-clínicos de uma enzima responsável por produzir stress oxidativo que pode ser moldada para níveis que permitam evitar a progre… [+3017 chars]"
        ],
        [
         [
          null,
          "Sapo.pt"
         ],
         "Ana Sofia Neto",
         "Mosquito que transmite dengue e zika aterrou em Lisboa pela primeira vez",
         "Embora tenha sido detetada no norte de Portugal, em 2017, esta foi a primeira vez que a espécie de mosquitos aterrou em Lisboa. Há infeções que, a menos que viajemos, nos são muito distantes,...",
         "https://pplware.sapo.pt/ciencia/mosquito-que-transmite-dengue-e-zika-aterrou-em-lisboa-pela-primeira-vez/",
         "https://pplware.sapo.pt/wp-content/uploads/2023/09/Aedes-Albopictus_B00.jpg",
         "2023-09-28T08:40:24Z",
         "Embora tenha sido detetada no norte de Portugal, em 2017, esta foi a primeira vez que a espécie de mosquitos aterrou em Lisboa.\r\nHá infeções que, a menos que viajemos, nos são muito distantes, pois n… [+1448 chars]"
        ],
        [
         [
          null,
          "Catracalivre.com.br"
         ],
         "Redação",
         "Alimento comum na cozinha do brasileiro reduz risco de câncer, diz estudo",
         "Comer bem é necessário não só para manter o corpo funcionando corretamente, mas também para prevenir uma série de doenças. É por isso que, ás vezes, nos",
         "https://catracalivre.com.br/saude-bem-estar/alimento-comum-na-cozinha-do-brasileiro-reduz-risco-de-cancer-diz-estudo/",
         "https://catracalivre.com.br/cdn-cgi/image/f=auto,q=60,w=1200,h=638,fit=cover,format=jpeg/wp-content/uploads/2023/09/istock-1635263915-1.jpg",
         "2023-09-22T22:01:08Z",
         "Comer bem é necessário não só para manter o corpo funcionando corretamente, mas também para prevenir uma série de doenças.\r\nÉ por isso que, ás vezes, nos deparamos com alimentos conhecidos como “supe… [+2233 chars]"
        ],
        [
         [
          null,
          "Terra.com.br"
         ],
         "Reuters",
         "CDC dos EUA endossa vacina da Pfizer contra doença sazonal para proteger bebês",
         "O Centro de Controle e Prevenção de Doenças dos EUA (CDC, na sigla em inglês) endossou nesta ...",
         "https://www.terra.com.br/noticias/mundo/cdc-dos-eua-endossa-vacina-da-pfizer-contra-doenca-sazonal-para-proteger-bebes,98c42c6c5c276e9a6307f08a293eb128a0g5s529.html",
         "https://s1.trrsf.com/fe/zaz-mod-t360-icons/svg/logos/terra-16x9-borda.png",
         "2023-09-23T00:17:36Z",
         "O Centro de Controle e Prevenção de Doenças dos EUA (CDC, na sigla em inglês) endossou nesta sexta-feira a vacina da Pfizer contra o vírus sincicial respiratório (VSR) para mulheres que estão no terc… [+1370 chars]"
        ],
        [
         [
          null,
          "Abril.com.br"
         ],
         "Paula Felix",
         "A proteína capaz de manter a célula humana saudável por mais tempo",
         "Estudo feito por pesquisadores brasileiros e australianos aponta caminhos para tratar doenças autoimunes e até câncer",
         "https://veja.abril.com.br/saude/a-proteina-capaz-de-manter-celula-humana-saudavel-por-mais-tempo",
         "https://veja.abril.com.br/wp-content/uploads/2023/09/Celulas-humanas-coxiella.jpg?quality=90&strip=info&w=680&h=453&crop=1",
         "2023-09-11T14:45:31Z",
         "Pesquisadores da Universidade de São Paulo (USP) e colaboradores da Austrália identificaram uma proteína bacteriana capaz de manter as células humanas saudáveis por mais tempo. A descoberta pode leva… [+5133 chars]"
        ],
        [
         [
          null,
          "Olhardigital.com.br"
         ],
         "Alessandro Di Lorenzo",
         "Árvore “congelada” no tempo por milhões de anos tem mistério revelado",
         "Conhecida como \"fóssil vivo\", a árvore praticamente não sofreu alterações desde o tempo em que os dinossauros dominavam a Terra\nO post Árvore “congelada” no tempo por milhões de anos tem mistério revelado apareceu primeiro em Olhar Digital.",
         "https://olhardigital.com.br/2023/09/15/ciencia-e-espaco/arvore-congelada-no-tempo-por-milhoes-de-anos-tem-misterio-revelado/",
         "https://img.olhardigital.com.br/wp-content/uploads/2023/09/Pinheiro-1.jpg",
         "2023-09-15T17:06:28Z",
         "Cientistas da AustrÃ¡lia, Estados Unidos e ItÃ¡liaÂ decodificaram o genoma de uma rarÃ­ssima Ã¡rvore conhecida como âfÃ³ssil vivoâ. O pinheiroÂ Wollemi (Wollemia nobilis) foi descoberto em 1994 e… [+3199 chars]"
        ],
        [
         [
          null,
          "Expresso.pt"
         ],
         "Expresso",
         "Agendas mobilizadoras canalizam €480 milhões para transformar sector da saúde em três anos",
         "Plano de Recuperação e de Resiliência é central no investimento que privados e Estado preveem canalizar para o desenvolvimento de terapias inovadoras, para doenças graves como o cancro, e em novas formas de combater a resistência aos antibióticos",
         "https://expresso.pt/economia/empresas/2023-10-02-Agendas-mobilizadoras-canalizam-480-milhoes-para-transformar-sector-da-saude-em-tres-anos-17de87a9",
         "https://images.impresa.pt/expresso/2023-06-28-laboratorio-deac6dc7/1.91x1?wm=true&outputFormat=jpeg",
         "2023-10-02T14:56:57Z",
         "O Plano de Recuperação e Resiliência (PRR) irá apoiar quatro agendas mobilizadoras da saúde, que durante os próximos três anos irão captar investimentos de cerca de 180 milhões de euros do setor priv… [+2989 chars]"
        ],
        [
         [
          null,
          "BBC News"
         ],
         "https://www.facebook.com/bbcnews",
         "Sensação de estar isolado do mundo é uma das grandes preocupações do século 21",
         "Sensação de estar isolado do mundo é uma das grandes preocupações do século 21",
         "https://www.bbc.com/portuguese/media-66843698",
         "https://ichef.bbci.co.uk/news/1024/branded_portuguese/80CB/production/_131117923_mediaitem131117922.jpg",
         "2023-09-18T10:24:06Z",
         "Sensação de estar isolado do mundo é uma das grandes preocupações do século 21\r\nA solidão virou uma das grandes preocupações de saúde do século 21. \r\nComparada ao cigarro e relacionada ao risco de do… [+343 chars]"
        ],
        [
         [
          null,
          "[Removed]"
         ],
         null,
         "[Removed]",
         "[Removed]",
         "https://removed.com",
         null,
         "1970-01-01T00:00:00Z",
         "[Removed]"
        ],
        [
         [
          null,
          "Catracalivre.com.br"
         ],
         "Redação",
         "Pesquisa indica composto encontrado nestes alimentos que pode prevenir câncer",
         "Você sabia que diversas pesquisas ao longo dos anos têm apontado benefícios potenciais para a fisetina, um flavonoide com atividade antioxidante presente",
         "https://catracalivre.com.br/saude-bem-estar/pesquisa-indica-composto-encontrado-nestes-alimentos-que-previne-cancer/",
         "https://catracalivre.com.br/cdn-cgi/image/f=auto,q=60,w=1200,h=638,fit=cover,format=jpeg/wp-content/uploads/2023/09/istock-1325282418.jpg",
         "2023-09-26T10:00:45Z",
         "Você sabia que diversas pesquisas ao longo dos anos têm apontado benefícios potenciais para a fisetina, um flavonoide com atividade antioxidante presente em frutas e vegetais?\r\nEstudos epidemiológico… [+2817 chars]"
        ],
        [
         [
          null,
          "Abril.com.br"
         ],
         "diego.valencia",
         "O que a microbiota intestinal tem a ver com distúrbios neurológicos?",
         "Revisão feita por pesquisadores da Unifesp inclui doenças como Alzheimer e Parkinson e transtornos psiquiátricos como depressão e ansiedade",
         "https://veja.abril.com.br/saude/como-a-microbiota-influencia-disturbios-neurologicos-e-psiquiatricos",
         "https://veja.abril.com.br/wp-content/uploads/2020/09/câncer-de-intestino.jpg?quality=90&strip=info&w=680&h=453&crop=1",
         "2023-09-06T19:48:52Z",
         "Há trilhões de microrganismos, incluindo bactérias, fungos e vírus, no interior do trato gastrointestinal conjunto que leva o nome de microbiota. É quase o mesmo número de células em um corpo humano.… [+3585 chars]"
        ],
        [
         [
          null,
          "[Removed]"
         ],
         null,
         "[Removed]",
         "[Removed]",
         "https://removed.com",
         null,
         "1970-01-01T00:00:00Z",
         "[Removed]"
        ],
        [
         [
          null,
          "Terra.com.br"
         ],
         "Portal EdiCase",
         "Entenda o que é a hipercifose e como tratar essa condição",
         "A hipercifose, também conhecida popularmente como 'corcunda', trata-se de uma doença óssea ...",
         "https://www.terra.com.br/vida-e-estilo/saude/entenda-o-que-e-a-hipercifose-e-como-tratar-essa-condicao,323d34d575b92837f1fad0d49bfe650b67beo2wl.html",
         "https://p2.trrsf.com/image/fget/cf/1200/630/middle/images.terra.com/2023/10/02/638203844-coluna-dores.jpeg",
         "2023-10-02T17:31:30Z",
         "A hipercifose, também conhecida popularmente como 'corcunda', trata-se de uma doença óssea causada por um desvio corporal que, normalmente, faz com que as pessoas tenham uma curvatura na região torác… [+2694 chars]"
        ],
        [
         [
          null,
          "Abril.com.br"
         ],
         "Paula Felix",
         "OMS recomenda vacinas contra malária e dengue diante de onda de mosquitos",
         "Entidade fez alerta sobre risco das doenças principalmente para crianças; Qdenga foi aprovada para uso no Brasil em março",
         "https://veja.abril.com.br/saude/oms-recomenda-vacinas-contra-malaria-e-dengue-diante-de-onda-de-mosquitos",
         "https://veja.abril.com.br/wp-content/uploads/2023/06/aedes_aegypti-dengue2.webp?w=680&h=453&crop=1",
         "2023-10-02T22:47:48Z",
         "Diante do aumento das doenças transmitidas por mosquitos em diferentes partes do mundo, a Organização Mundial da Saúde (OMS) divulgou nesta segunda-feira, 2, um comunicado recomendando a nova vacina … [+2768 chars]"
        ],
        [
         [
          null,
          "Sapo.pt"
         ],
         "Rui Jorge",
         "Poria o seu cérebro nas mãos da IA? Será uma realidade dentro de dois anos",
         "Um importante neurocirurgião do Reino Unido afirmou que a cirurgia cerebral com recurso à inteligência artificial (IA) será possível dentro de dois anos, tornando-a mais segura e eficaz.   O governo britânico afirma que...",
         "https://pplware.sapo.pt/inteligencia-artificial/poria-o-seu-cerebro-nas-maos-da-ia-sera-uma-realidade-dentro-de-dois-anos/",
         "https://pplware.sapo.pt/wp-content/uploads/2022/01/cirurgia_robo00.jpg",
         "2023-09-30T10:00:12Z",
         "Um importante neurocirurgião do Reino Unido afirmou que a cirurgia cerebral com recurso à inteligência artificial (IA) será possível dentro de dois anos, tornando-a mais segura e eficaz.\r\nO governo b… [+2511 chars]"
        ],
        [
         [
          null,
          "Olhardigital.com.br"
         ],
         "Nayra Teles",
         "USP: terapia celular pode reduzir mortes por Covid-19",
         "Pesquisadores da Universidade de São Paulo (USP) descobriram que a terapia celular pode reduzir em 60% o risco de morte por COVID-19\nO post USP: terapia celular pode reduzir mortes por Covid-19 apareceu primeiro em Olhar Digital.",
         "https://olhardigital.com.br/2023/09/19/medicina-e-saude/usp-terapia-celular-pode-reduzir-mortes-por-covid-19/",
         "https://proxy.olhardigital.com.br/wp-content/uploads/2023/09/terapia-celular.png",
         "2023-09-19T21:03:20Z",
         "A terapia celular, bastante utilizada em tratamentos contra o cÃ¢ncer, tem grande potencial contra a Covid-19. Ã o que aponta a revisÃ£o sistemÃ¡tica e meta-anÃ¡lise realizada por pesquisadores da U… [+4229 chars]"
        ],
        [
         [
          null,
          "Terra.com.br"
         ],
         "Porto Alegre 24 horas",
         "HCPA busca voluntários para estudo clínico que avalia medicamento experimental para o COVID-19",
         "Hospital de Clínicas está com inscrições abertas para adultos acima de 18 (dezoito) anos portadores de doenças crônicas como, por exemplo, diabetes, obesidade, hipertensão ou doenças cardiovasculares, que testaram positivo para COVID-19 nos últimos três dias …",
         "https://www.terra.com.br/noticias/hcpa-busca-voluntarios-para-estudo-clinico-que-avalia-medicamento-experimental-para-o-covid-19,6ce0dbd8c3d6c7770745a34adf194601wibvrrif.html",
         "https://p2.trrsf.com/image/fget/cf/1200/630/middle/images.terra.com/2023/09/20/717673475-fachada2-1536x1021-1.jpg",
         "2023-09-20T15:41:12Z",
         "O Hospital de Clínicas de Porto Alegre ainda está com vagas abertas para voluntários que queiram colaborar com o SCORPIO-HR, um estudo clínico global de Fase 3 com pacientes não hospitalizados e sint… [+3502 chars]"
        ],
        [
         [
          null,
          "[Removed]"
         ],
         null,
         "[Removed]",
         "[Removed]",
         "https://removed.com",
         null,
         "1970-01-01T00:00:00Z",
         "[Removed]"
        ],
        [
         [
          null,
          "[Removed]"
         ],
         null,
         "[Removed]",
         "[Removed]",
         "https://removed.com",
         null,
         "1970-01-01T00:00:00Z",
         "[Removed]"
        ],
        [
         [
          null,
          "Olhardigital.com.br"
         ],
         "Alessandro Di Lorenzo",
         "Novo vírus é descoberto nas profundezas da Fossa das Marianas",
         "Bacteriófago, um tipo de vírus que infecta e se replica dentro de bactérias, foi localizado a uma profundidade de 8.900 metros\nO post Novo vírus é descoberto nas profundezas da Fossa das Marianas apareceu primeiro em Olhar Digital.",
         "https://olhardigital.com.br/2023/09/21/ciencia-e-espaco/novo-virus-e-descoberto-nas-profundezas-da-fossa-das-marianas/",
         "https://proxy.olhardigital.com.br/wp-content/uploads/2023/09/Fossa-das-marianas-1.jpg",
         "2023-09-21T20:26:34Z",
         "Segundo dados da AdministraÃ§Ã£o Nacional OceÃ¢nica e AtmosfÃ©rica dos Estados Unidos,apenas cerca de 20% do fundo do mar foi mapeado atÃ© hoje. Uma descoberta de uma equipe internacional de pesquisa… [+2809 chars]"
        ],
        [
         [
          null,
          "Jovemnerd.com.br"
         ],
         "Pedro Siqueira",
         "Netflix põe camisinha em monumento para divulgação dura de Sex Education",
         "Streaming elevou o marketing a um novo nível para a temporada final da série\nThe post Netflix põe camisinha em monumento para divulgação dura de Sex Education appeared first on Jovem Nerd.",
         "https://jovemnerd.com.br/nerdbunker/netflix-camisinha-gigante-sex-education/",
         "https://uploads.jovemnerd.com.br/wp-content/uploads/2023/09/netflix_sex_education_obelisco__25030n3ow.jpg",
         "2023-09-23T15:07:35Z",
         "A divulgação da temporada final de Sex Education está duríssima. Tanto que a Netflix colocou uma CAMISINHA GIGANTE no Obelisco, um dos maiores monumentos da Argentina, num vídeo promocional que vem c… [+897 chars]"
        ],
        [
         [
          null,
          "Abril.com.br"
         ],
         "Paula Felix",
         "Injeção semanal para deficiência de hormônio do crescimento é liberada",
         "Medicação para crianças e adultos reduz em 85% o número de aplicações por ano; preço não foi definido e lançamento no Brasil ainda será anunciado",
         "https://veja.abril.com.br/saude/injecao-semanal-para-deficiencia-de-hormonio-do-crescimento-e-liberada",
         "https://veja.abril.com.br/wp-content/uploads/2016/05/alx_465382081_original1.jpeg?quality=90&strip=info&w=680&h=453&crop=1",
         "2023-09-25T21:40:54Z",
         "Uma nova opção de tratamento para crianças e adultos com deficiência do hormônio do crescimento (GH) com aplicação subcutânea semanal, por meio de uma “caneta”, foi liberada no Brasil nesta segunda-f… [+2629 chars]"
        ],
        [
         [
          null,
          "Terra.com.br"
         ],
         "Sport Life",
         "Abacate emagrece? Descubra 14 benefícios secretos da fruta",
         "Abacate emagrece ou engorda? Essa dúvida é comum em pessoas que são fãs do sabor da fruta. Por ...",
         "https://www.terra.com.br/vida-e-estilo/abacate-emagrece-descubra-14-beneficios-secretos-da-fruta,1079792ed39d3e3303fdd4fd29d5b3d3tj80nanf.html",
         "https://p2.trrsf.com/image/fget/cf/1200/630/middle/images.terra.com/2023/09/07/392743629-shutterstock785296315-1.jpg",
         "2023-09-07T19:02:17Z",
         "Abacate emagrece ou engorda? Essa dúvida é comum em pessoas que são fãs do sabor da fruta. Por ser um alimento natural, muitos acreditam que o abacate ajuda a emagrecer. Por outro lado, os altos níve… [+4997 chars]"
        ],
        [
         [
          null,
          "[Removed]"
         ],
         null,
         "[Removed]",
         "[Removed]",
         "https://removed.com",
         null,
         "1970-01-01T00:00:00Z",
         "[Removed]"
        ],
        [
         [
          null,
          "Uol.com.br"
         ],
         null,
         null,
         "A molécula sintetiza o conjunto de proteínas que um organismo necessita para viver",
         "https://www1.folha.uol.com.br/ciencia/2023/09/rna-de-tigre-da-tasmania-extinto-e-recuperado-pela-primeira-vez.shtml",
         "https://f.i.uol.com.br/fotografia/2023/09/19/1695178196650a5dd469a9a_1695178196_3x2_rt.jpg",
         "2023-09-20T10:50:04Z",
         "O tigre-da-tasmânia, um marsupial carnívoro listrado do tamanho de um cachorro, também chamado de tilacino, era um predador de ponta que caçava cangurus e outras presas e já vagou pelo território con… [+2149 chars]"
        ],
        [
         [
          null,
          "Catracalivre.com.br"
         ],
         "Redação",
         "Saiba quais atividades físicas reduzem risco de 9 tipos de câncer",
         "A aptidão cardiorrespiratória, responsável pela capacidade de executar atividades físicas aeróbicos prolongados, pode ser a chave para a prevenção de",
         "https://catracalivre.com.br/saude-bem-estar/saiba-quais-atividades-fisicas-reduzem-risco-de-9-tipos-de-cancer/",
         "https://catracalivre.com.br/cdn-cgi/image/f=auto,q=60,w=1200,h=638,fit=cover,format=jpeg/wp-content/uploads/2023/08/istock-1168199832.jpg",
         "2023-09-11T02:30:05Z",
         "A aptidão cardiorrespiratória, responsável pela capacidade de executar atividades físicas aeróbicos prolongados, pode ser a chave para a prevenção de diversos tipos de câncer. Um estudo recente, publ… [+2947 chars]"
        ],
        [
         [
          null,
          "[Removed]"
         ],
         null,
         "[Removed]",
         "[Removed]",
         "https://removed.com",
         null,
         "1970-01-01T00:00:00Z",
         "[Removed]"
        ],
        [
         [
          null,
          "Uol.com.br"
         ],
         null,
         null,
         "Cálculo biliar bovino, chamado de pedra de fel, é usado na medicina oriental para tratar doenças respiratórias",
         "https://www1.folha.uol.com.br/mercado/2023/09/criminosos-roubam-r-2-milhoes-em-pedras-de-boi-no-interior-de-sp.shtml",
         "https://f.i.uol.com.br/fotografia/2023/09/21/1695325609650c9da9b56df_1695325609_3x2_lg.jpg",
         "2023-09-22T00:51:36Z",
         "Três homensassaltaram uma empresa de exportação no interior de São Paulo e levaram 2,7 quilos de cálculo biliar bovino, também conhecido como pedra de fel, avaliado em R$ 2 milhões, segundo a Delegac… [+1877 chars]"
        ],
        [
         [
          null,
          "Observador.pt"
         ],
         "Agência Lusa",
         "Idosos vítimas de maus tratos apresentam mais doença física e mental",
         "Dados \"assustadores\" de um estudo português revelam que os idosos que sofrem violência intra-familiar ou de cuidadores \"são muito mais doentes, têm muitas mais patologias do que a restante população\".",
         "https://observador.pt/2023/09/29/idosos-vitimas-de-maus-tratos-apresentam-mais-doenca-fisica-e-mental/",
         "https://wm.observador.pt/wm/obs/l/https%3A%2F%2Fbordalo.observador.pt%2Fv2%2Frs%3Afill%3A770%3A403%2Fc%3A2121%3A1192%3Anowe%3A0%3A111%2Fq%3A85%2Fplain%2Fhttps%3A%2F%2Fs3.observador.pt%2Fwp-content%2Fuploads%2F2022%2F02%2F09214115%2FGettyImages-1290458362.jpg",
         "2023-09-29T09:52:20Z",
         "Um estudo da Faculdade de Medicina da Universidade do Porto (FMUP) revelou que os idosos vítimas de maus tratos apresentam mais doença física e mental, algo “assustador” que para os investigadores de… [+3910 chars]"
        ],
        [
         [
          null,
          "Tecmundo.com.br"
         ],
         "Fabio Dominski",
         "Atividade física no trabalho faz bem?",
         "Este texto foi escrito por um colunista do TecMundo; saiba mais no final.\"Eu me movimento bastante no trabalho, não preciso de exercícios”, já ouviu alguém falar isso? Essa pessoa provavelmente tem uma alta demanda energética em seu trabalho e acredita que is…",
         "https://www.tecmundo.com.br/ciencia/271824-atividade-fisica-trabalho.htm",
         "https://tm.ibxk.com.br/2023/09/20/20121343539166.jpg",
         "2023-09-20T17:00:00Z",
         "Este texto foi escrito por um colunista do TecMundo; saiba mais no final.\r\n\"Eu me movimento bastante no trabalho, não preciso de exercícios, já ouviu alguém falar isso? Essa pessoa provavelmente tem … [+5260 chars]"
        ],
        [
         [
          null,
          "Tecmundo.com.br"
         ],
         "Jennifer Egues",
         "SUS Digital: uso inteligência artificial pode melhorar a saúde pública?",
         "O Ministério da Saúde estuda implementar ferramentas de Inteligência Artificial (IA) no Sistema Único de Saúde, objetivando melhorar o atendimento, agilizando processos e estendo atendimento a regiões de difícil acesso físico.Para a pasta, a implementação da …",
         "https://www.tecmundo.com.br/ciencia/267730-sus-digital-uso-inteligencia-artificial-melhorar-saude-publica.htm",
         "https://tm.ibxk.com.br/2023/08/18/18144410198207.jpg",
         "2023-09-04T14:30:01Z",
         "O Ministério da Saúde estuda implementar ferramentas de Inteligência Artificial (IA) no Sistema Único de Saúde, objetivando melhorar o atendimento, agilizando processos e estendo atendimento a regiõe… [+5930 chars]"
        ],
        [
         [
          null,
          "Sapo.pt"
         ],
         "Ana Sofia Neto",
         "Afinal, o açúcar prejudica ou não a saúde?",
         "O açúcar está em tantos alimentos que, certamente, surpreender-se-ia com alguns deles. Mas, assim sendo, será assim tão prejudicial? É um tema complexo, como muitos deles na nutrição, e parece ser pouco claro para...",
         "https://pplware.sapo.pt/ciencia/afinal-o-acucar-prejudica-ou-nao-a-saude/",
         "https://pplware.sapo.pt/wp-content/uploads/2023/09/bolo00.jpg",
         "2023-09-15T20:00:17Z",
         "O açúcar está em tantos alimentos que, certamente, surpreender-se-ia com alguns deles. Mas, assim sendo, será assim tão prejudicial?\r\nÉ um tema complexo, como muitos deles na nutrição, e parece ser p… [+3659 chars]"
        ],
        [
         [
          null,
          "Observador.pt"
         ],
         "Inês André Figueiredo",
         "Mosquito que transmite dengue e zika detetado em Lisboa pela primeira vez",
         "DGS reforçou a vigilância entomológica e epidemiológica, mas garantiu que não foram identificados nestes mosquitos quaisquer agentes de doenças que possam ser transmitidas às pessoas.",
         "https://observador.pt/2023/09/27/mosquito-que-transmite-dengue-e-zika-detetado-em-lisboa-pela-primeira-vez/",
         "https://wm.observador.pt/wm/obs/l/https%3A%2F%2Fbordalo.observador.pt%2Fv2%2Frs%3Afill%3A770%3A403%2Fc%3A1998%3A1126%3Anowe%3A0%3A100%2Fq%3A85%2Fplain%2Fhttps%3A%2F%2Fs3.observador.pt%2Fwp-content%2Fuploads%2F2019%2F04%2F15200407%2F20319704.jpg",
         "2023-09-27T16:25:37Z",
         "A Direção-Geral de Saúde (DGS) revelou que a espécie de mosquitos Aedes albopictus foi identificada pela primeira vez em Lisboa e alertou que este mosquito pode transmitir doenças como chikungunya, d… [+1110 chars]"
        ],
        [
         [
          null,
          "Observador.pt"
         ],
         "Observador",
         "Descoberta nova célula no cérebro que pode ajudar a estudar o Alzheimer",
         "Novo estudo revela a existência de uma nova célula, que pode ajudar a explicar o desenvolvimento de doenças neurodegenerativas e a localizar \"potenciais alvos terapêuticos\".",
         "https://observador.pt/2023/09/06/descoberta-nova-celula-no-cerebro-que-pode-ajudar-a-estudar-o-alzheimer/",
         "https://wm.observador.pt/wm/obs/l/https%3A%2F%2Fbordalo.observador.pt%2Fv2%2Frs%3Afill%3A770%3A403%2Fc%3A3543%3A1993%3Anowe%3A0%3A131%2Fq%3A85%2Fplain%2Fhttps%3A%2F%2Fs3.observador.pt%2Fwp-content%2Fuploads%2F2023%2F09%2F06184926%2Fgettyimages-1487034049.jpg",
         "2023-09-06T18:08:06Z",
         "A cada três segundos, há uma pessoa no mundo a desenvolver demência. Em 2020, os dados recolhidos pelo Alzheimer’s Disease International (ADI) mostravam que havia mais de 55 milhões de pessoas a vive… [+2235 chars]"
        ],
        [
         [
          null,
          "Observador.pt"
         ],
         "Carolina Sobral",
         "Cientistas criam modelo de embrião sem espermatozoide, óvulo ou útero. É o primeiro que imita em completo um embrião humano",
         "Modelo foi desenvolvido a partir de células estaminais que se organizaram em estruturas que imitam a organização 3D de um embrião real com 14 dias. O modelo deu positivo num teste de gravidez.",
         "https://observador.pt/2023/09/06/cientistas-criam-modelo-de-embriao-sem-espermatozoide-ovulo-ou-utero-e-o-primeiro-que-imita-em-completo-um-embriao-humano/",
         "https://wm.observador.pt/wm/obs/l/https%3A%2F%2Fbordalo.observador.pt%2Fv2%2Frs%3Afill%3A770%3A403%2Fc%3A2000%3A1124%3Anowe%3A0%3A104%2Fq%3A85%2Fplain%2Fhttps%3A%2F%2Fs3.observador.pt%2Fwp-content%2Fuploads%2F2019%2F02%2F28085820%2Fistock-904268950.jpg",
         "2023-09-06T16:31:46Z",
         "Sem recurso a espermatozoide, óvulos ou um útero, cientistas criaram pela primeira vez um modelo de embriões humanos que imita de forma completa todas as características conhecidas num embrião real. … [+1946 chars]"
        ],
        [
         [
          null,
          "Observador.pt"
         ],
         "Sofia Teixeira",
         "Que ondas cerebrais são estas?",
         "O cérebro emite misteriosos padrões de atividade que estão alterados em doentes  com doenças neurológicas ou psiquiátricas. Na Universidade do Minho, Joana Cabral tenta conhecer melhor estes sinais.",
         "https://observador.pt/2023/09/25/que-ondas-cerebrais-sao-estas/",
         "https://wm.observador.pt/wm/obs/l/https%3A%2F%2Fbordalo.observador.pt%2Fv2%2Frs%3Afill%3A770%3A403%2Fc%3A3200%3A1796%3Anowe%3A0%3A340%2Fq%3A85%2Fplain%2Fhttps%3A%2F%2Fs3.observador.pt%2Fwp-content%2Fuploads%2F2023%2F09%2F25012852%2F0-20230807-goncalo-villaverde-0205.jpg",
         "2023-09-25T13:49:21Z",
         "Uma iniciativa\r\nHá momentos em que o cérebro de Joana Cabral parece um carro de Fórmula Um: é muito difícil de acompanhar quando acelera a fundo. Salta de raciocínio em raciocínio, estabelece pontes … [+12097 chars]"
        ],
        [
         [
          null,
          "Terra.com.br"
         ],
         "Elas no Tapete Vermelho",
         "VMA 2023: Anitta repete grife de 2022 e elege look Schiaparelli",
         "A Schiaparelli tem em seu DNA o surrealismo. Fato esse que agrada em cheio famosas, como Anitta, ...",
         "https://www.terra.com.br/vida-e-estilo/autocuidado/moda/vma-2023-anitta-repete-grife-de-2022-e-elege-look-schiaparelli,fee499f8c205c826421124c9561fae83mmokijah.html",
         "https://p2.trrsf.com/image/fget/cf/1200/630/middle/images.terra.com/2023/09/12/1728798519-37802777434786638823962214802485532612152661n-e1694562071640.jpg",
         "2023-09-12T23:48:05Z",
         "A Schiaparelli tem em seu DNA o surrealismo. Fato esse que agrada em cheio famosas, como Anitta, que pelo segundo ano consecutivo elegeu a grife francesa para cruzar o tapete vermelho do VMA (Video M… [+1146 chars]"
        ],
        [
         [
          null,
          "Pragmatismopolitico.com.br"
         ],
         "Redação",
         "Benefícios das substâncias encontradas no vinho: uma análise científica",
         "É importante ter cuidado ao consumi-lo e sempre respeitar as contraindicações e limites recomendados. É possível encontrar de forma acessível bons vinhos no mercado, mas é fundamental ter consciência dos riscos e sempre consumir com moderação\nO post Benefício…",
         "https://www.pragmatismopolitico.com.br/2023/10/beneficios-substancias-encontradas-vinho-analise-cientifica.html",
         "https://www.pragmatismopolitico.com.br/wp-content/uploads/2023/10/beneficios-substancias-encontradas-vinho-analise-cientifica.jpg",
         "2023-10-02T11:30:18Z",
         "É importante ter cuidado ao consumi-lo e sempre respeitar as contraindicações e limites recomendados. É possível encontrar de forma acessível bons vinhos no mercado, mas é fundamental ter consciência… [+22678 chars]"
        ],
        [
         [
          null,
          "Olhardigital.com.br"
         ],
         "Lucas Gabriel Machado Henriques",
         "Como a inteligência artificial pode ajudar na saúde mental",
         "Entenda como a inteligência artificial pode ser usada para auxiliar no combate aos transtornos psicológicos e ajudar na saúde mental\nO post Como a inteligência artificial pode ajudar na saúde mental apareceu primeiro em Olhar Digital.",
         "https://olhardigital.com.br/2023/09/11/medicina-e-saude/como-a-inteligencia-artificial-pode-ajudar-na-saude-mental/",
         "https://img.olhardigital.com.br/wp-content/uploads/2023/09/capa-1.jpg",
         "2023-09-11T15:33:19Z",
         "Com a crescente utilizaÃ§Ã£o da inteligÃªncia artificial em diversos setores da indÃºstria e da sociedade, muitas tÃ©cnicas que usam essa tecnologia surgiram para melhorar o dia a dia das pessoas, au… [+2927 chars]"
        ],
        [
         [
          null,
          "Olhardigital.com.br"
         ],
         "Alessandro Di Lorenzo",
         "EUA: vacina experimental contra HIV será testada em humanos",
         "No total, 95 participantes serão divididos em grupos, com três deles recebendo dosagens diferentes da vacina contra o HIV\nO post EUA: vacina experimental contra HIV será testada em humanos apareceu primeiro em Olhar Digital.",
         "https://olhardigital.com.br/2023/09/22/medicina-e-saude/eua-vacina-experimental-contra-hiv-sera-testada-em-humanos/",
         "https://proxy.olhardigital.com.br/wp-content/uploads/2022/03/HIV-capa.jpg",
         "2023-09-22T14:46:06Z",
         "A empresa Vir Biotechnology anunciou o inÃ­cio dos testes em humanos de uma vacina experimental contra o HIV. A companhia norte-americana disse que espera ter os dados iniciais dos trabalhos de fase … [+2542 chars]"
        ],
        [
         [
          null,
          "Olhardigital.com.br"
         ],
         "Pedro Borges Spadoni",
         "Imunologista vence prêmio de inovação por tratamento contra câncer",
         "O imunologista Michel Sadelain levou o prêmio Breakthrough por seu trabalho pioneiro na terapia com células CAR-T para câncer\nO post Imunologista vence prêmio de inovação por tratamento contra câncer apareceu primeiro em Olhar Digital.",
         "https://olhardigital.com.br/2023/09/14/medicina-e-saude/imunologista-vence-premio-de-inovacao-por-tratamento-contra-cancer/",
         "https://img.olhardigital.com.br/wp-content/uploads/2023/09/Destaque-Michel-Sadelain-imunologista-cancer.jpg",
         "2023-09-15T01:08:01Z",
         "O imunologista francÃªs-canadense Michel Sadelain venceu o prestigiado prÃªmio Breakthrough nesta quinta-feira (14) por seu trabalho pioneiro na terapia com cÃ©lulas CAR-T â uma nova forma de trata… [+3677 chars]"
        ],
        [
         [
          null,
          "Olhardigital.com.br"
         ],
         "Lucas Soares",
         "Alienígenas do México são reais? Entenda a polêmica",
         "Nesta quarta-feira (13) o mundo a ufologia foi surpreendido com uma apresentação no congresso mexicano onde um ufólogo mostrou supostos cadáveres de alienígenas. Pelo histórico polêmico do pesquisador, a notícia já foi encarada com ceticismo. De acordo com o …",
         "https://olhardigital.com.br/2023/09/14/ciencia-e-espaco/alienigenas-do-mexico-sao-reais-entenda-a-polemica/",
         "https://img.olhardigital.com.br/wp-content/uploads/2023/09/alienigenas-mexico.jpg",
         "2023-09-14T16:03:07Z",
         "Nesta quarta-feira (13) o mundo a ufologia foi surpreendido com uma apresentaÃ§Ã£o no congresso mexicano onde um ufÃ³logo mostrou supostos cadÃ¡veres de alienÃ­genas. Pelo histÃ³rico polÃªmico do pes… [+2991 chars]"
        ],
        [
         [
          null,
          "Olhardigital.com.br"
         ],
         "Mateus Dias",
         "Ufólogo de supostos aliens do México já foi desmascarado outras vezes",
         "Jaime Maussan apresentou no México restos mortais de alienígenas, no entanto, toda essa historia pode ser mentira\nO post Ufólogo de supostos aliens do México já foi desmascarado outras vezes apareceu primeiro em Olhar Digital.",
         "https://olhardigital.com.br/2023/09/14/ciencia-e-espaco/ufologo-de-supostos-aliens-do-mexico-ja-foi-desmascarado-outras-vezes/",
         "https://img.olhardigital.com.br/wp-content/uploads/2023/09/Jaime-Maussan.jpg",
         "2023-09-14T20:07:00Z",
         "Na terÃ§a-feira (12), o ufÃ³logo e jornalista Jaime Maussan apresentou ao Congresso do MÃ©xico os restos mortais de dois supostos alienÃ­genas. A demonstraÃ§Ã£o dos espÃ©cimes aconteceu durante uma a… [+2753 chars]"
        ]
       ],
       "datasetInfos": [],
       "dbfsResultPath": null,
       "isJsonSchema": true,
       "metadata": {},
       "overflow": false,
       "plotOptions": {
        "customPlotOptions": {},
        "displayType": "table",
        "pivotAggregation": null,
        "pivotColumns": null,
        "xColumns": null,
        "yColumns": null
       },
       "removedWidgets": [],
       "schema": [
        {
         "metadata": "{}",
         "name": "source",
         "type": "{\"type\":\"struct\",\"fields\":[{\"name\":\"id\",\"type\":\"string\",\"nullable\":true,\"metadata\":{}},{\"name\":\"name\",\"type\":\"string\",\"nullable\":true,\"metadata\":{}}]}"
        },
        {
         "metadata": "{}",
         "name": "author",
         "type": "\"string\""
        },
        {
         "metadata": "{}",
         "name": "title",
         "type": "\"string\""
        },
        {
         "metadata": "{}",
         "name": "description",
         "type": "\"string\""
        },
        {
         "metadata": "{}",
         "name": "url",
         "type": "\"string\""
        },
        {
         "metadata": "{}",
         "name": "urlToImage",
         "type": "\"string\""
        },
        {
         "metadata": "{}",
         "name": "publishedAt",
         "type": "\"string\""
        },
        {
         "metadata": "{}",
         "name": "content",
         "type": "\"string\""
        }
       ],
       "type": "table"
      }
     },
     "output_type": "display_data"
    }
   ],
   "source": [
    "spark.read.parquet(\"dbfs:/tmp/output/raw/\").display()"
   ]
  },
  {
   "cell_type": "code",
   "execution_count": 0,
   "metadata": {
    "application/vnd.databricks.v1+cell": {
     "cellMetadata": {},
     "inputWidgets": {},
     "nuid": "783faca2-d57e-49c1-8ec8-2c6e05fd475c",
     "showTitle": false,
     "title": ""
    }
   },
   "outputs": [],
   "source": []
  }
 ],
 "metadata": {
  "application/vnd.databricks.v1+notebook": {
   "dashboards": [],
   "language": "python",
   "notebookMetadata": {
    "pythonIndentUnit": 4
   },
   "notebookName": "Kafka_Consumers",
   "widgets": {}
  }
 },
 "nbformat": 4,
 "nbformat_minor": 0
}
